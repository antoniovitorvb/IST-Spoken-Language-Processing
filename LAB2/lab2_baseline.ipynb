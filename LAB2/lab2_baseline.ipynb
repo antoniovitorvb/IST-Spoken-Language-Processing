{
 "cells": [
  {
   "attachments": {},
   "cell_type": "markdown",
   "metadata": {},
   "source": [
    "# Speech Processing - Instituto Superior Técnico\n",
    "### Laboratory Assignment 2 - Spoken Language Indentification challenge\n",
    "\n",
    "The second laboratory assignment of the course is designed to simulate a **spoken language identification** challenge. In this challenge, partipants (a.k.a students enrolled in the course) receive a train, development and evaluation (blind) data set, and a simple (and weak) baseline system for the task at hand: closed-set identification of the spoken language in a given audio file out of a set of six target langauges: Basque,  Catalan,  English,  Galician,  Portuguese and  Spanish.\n",
    "\n",
    "The **goal** for each participant is to develop/build the best spoken language identification system. To this end, participants are encouraged to modify this baseline, incorporate any other techniques and in general explore any approach that permit  improving their results.\n",
    "\n",
    "During the first week (Part 1), students are expected to:\n",
    "- Run and understand the main components of the baseline.\n",
    "- Propose and develop simple modifications to the baseline feature extraction process.\n",
    "- Propose and develop simple modifications to the baseline GMM language models.\n",
    "- Evaluate the models on the development partition.\n",
    "\n",
    "During the second week (Part 2), students are expected to:\n",
    "- Propose and develop other *classical* modifications to any component of the processing pipeline (openSMILE features, segment-based features, SVM classifiers, MLP/CNN classifiers, etc.)\n",
    "- Run and understand the second part of Notebook that explores a pre-trained model.\n",
    "- Propose and develop more recent advanced approaches, including x-vectors.\n",
    "- Evaluate the models on the development partition.\n",
    "- Obtain predictions for the blind test partition and prepare the submission.\n",
    "\n",
    "The challenge distinguishes two different tracks or evaluation conditions:\n",
    "- Track 1 - Participants are not allowed to use any kind of pre-trained model (such as x-vectors).\n",
    "- Track 2 - Participants are allowed to use anything.\n",
    "\n",
    "\n",
    "## About the data\n",
    "\n",
    "The data consists of mono audio files sampled at 16 kHz all of them containing speech of only one of the following target languages:\n",
    "```python \n",
    "LANGUAGES = ('Basque',  'Catalan',  'English',  'Galician',  'Portuguese',  'Spanish')\n",
    "```\n",
    "\n",
    "The dataset is organized in 4 partitions:\n",
    "- `'train'`: This is the full training set, consisting of 3060 clean audio samples correponding to speech segments of TV broadcast shows. (**ATENTION**: Do not use this dataset for training your models, unless your system is very fast or if you want to build your final model. It can be slow)\n",
    "- `'train100'`: This is a subset of the full training set that consists of 100 audio files per target language (**RECOMMENDATION**: Use this partition in your quick experiments, to more rapidly validate alternatives)\n",
    "- `'dev'`: This is the development set. It contains audio extracted from YouTube. You will typically use this to validate the quality of your model.\n",
    "- `'evl'`: This is the evaluation set. It contains audio extracted from YouTube. You don't have the groud-truth for this set. You are expected to produce it and submit it.\n",
    "\n",
    "The data used in this challenge is a subset of the KALAKA-3 database: https://aclanthology.org/L14-1576/\n",
    "\n",
    "The  difference is that only the clean train audio segments and the Plenty Closed evaluation condition have been considered. "
   ]
  },
  {
   "attachments": {},
   "cell_type": "markdown",
   "metadata": {},
   "source": [
    "## Before starting\n",
    "The following conditions are neecessary to run correctly this notebook:\n",
    "\n",
    "*   All modules included in the requirements file need to be \n",
    "installed in the Python environment.\n",
    "*   The module `pf_tools` needs to be accessible (if you are using Google Colab, you will need to copy the `pf_tools.py` every time you start a new session)."
   ]
  },
  {
   "cell_type": "code",
   "execution_count": 1,
   "metadata": {},
   "outputs": [],
   "source": [
    "from pf_tools import CheckThisCell"
   ]
  },
  {
   "attachments": {},
   "cell_type": "markdown",
   "metadata": {},
   "source": [
    "## How can you download (and process) the data\n",
    "\n",
    "The first thing we have to do is to set our working directory. If you are using Google Colab, you  probably want to mount Google Drive to keep persistent information, such as data, features and models:"
   ]
  },
  {
   "cell_type": "code",
   "execution_count": 2,
   "metadata": {},
   "outputs": [
    {
     "data": {
      "text/plain": [
       "'/home/av/IST/slp-labs/LAB2'"
      ]
     },
     "execution_count": 2,
     "metadata": {},
     "output_type": "execute_result"
    }
   ],
   "source": [
    "#raise CheckThisCell ## <---- Remove this after completeing/checking this cell\n",
    "import os \n",
    "CWD = os.getcwd() + '' # Change this variable to your working directory to store data, features and models\n",
    "CWD"
   ]
  },
  {
   "attachments": {},
   "cell_type": "markdown",
   "metadata": {},
   "source": [
    "The class `Kalaka` permits downloading, transforming and storing the different data partitions. Each `Kalaka` instance can be used to iterate over all the samples of the partition. It can also be used in combination with pytorch dataloader to read batches of data to train neural networks with pytorch. For instance, consider the following piece of code:\n"
   ]
  },
  {
   "cell_type": "code",
   "execution_count": 3,
   "metadata": {},
   "outputs": [],
   "source": [
    "import numpy as np\n",
    "from pf_tools import Kalaka\n",
    "import librosa \n",
    "\n",
    "def audio_transform(filename):\n",
    "    y, _ = librosa.load(filename, sr=16000, mono=True)\n",
    "    return y.reshape(-1,1)\n",
    "    \n",
    "#trainkalaka = Kalaka(CWD, 'train100', transform_id='raw', audio_transform=audio_transform)"
   ]
  },
  {
   "attachments": {},
   "cell_type": "markdown",
   "metadata": {},
   "source": [
    "\n",
    "This will first download and uncompress the .tar.gz file containing all the necessary data of the `'train100'` partition, that is, the audio files that are stored to disk (in CWD/train100/audio/) and key file (CWD/train100/key.lst). Then, the audio transformation `'transform'` will be applied to each file and the result stored to disk CWD/train100/raw/. \n",
    "\n",
    "**Audio transformations** receive a filename of an audio file and returns an array of dimensions (NxD), in which N is the time dimension and D the dimension of the feature vector. In this simple case D is 1 because the transform is just returning the raw audio signal.\n",
    "\n",
    "The `Kalaka` class permits chunking the output of the audio transformation (of size NxD) in chunks of CxD size. The chunking operation divides the orignal sample, in multiple smaller samples with a configurable chunk size and hop length. These chunks can be further transformed and stored as individual feature files. For instance:"
   ]
  },
  {
   "cell_type": "code",
   "execution_count": 4,
   "metadata": {},
   "outputs": [
    {
     "name": "stderr",
     "output_type": "stream",
     "text": [
      "100%|██████████| 793M/793M [01:02<00:00, 13.3MB/s] \n",
      "100%|██████████| 600/600 [01:28<00:00,  6.75it/s]\n"
     ]
    }
   ],
   "source": [
    "trainkalaka = Kalaka(CWD, 'train100', \n",
    "                     transform_id='chunks', \n",
    "                     audio_transform=audio_transform, \n",
    "                     chunk_size=4*16000, \n",
    "                     chunk_hop=2*16000)"
   ]
  },
  {
   "attachments": {},
   "cell_type": "markdown",
   "metadata": {},
   "source": [
    "This will download and uncompress the partition data, only if was not already done before. Then, as previously, the simple tranform that returns the waveform is applied to each audio file. After this, the resulting array of dimension Nx1, in which N=16000xduration_in_seconds, is split in continuous chunks of length 64000 (that is, 4 seconds) with chunk hop of 2 seconds. Each one of these chunks of 4 seconds is stored and will be accessed whenever we iterate the dataset. \n",
    "\n",
    "Adittionally, the optional argument `chunk_transform` pertmits defining a transformation to be applied to each chunk before storing to disk. It can be any function that receives an array of size CxD and returns an array HxW, in which H is the *new time dimension*. For instance, the following example takes the audio segments of 64000x1, computes the mean and variance every 0.1 sec (1600 samples) and returns a feature vector of size 40x2."
   ]
  },
  {
   "cell_type": "code",
   "execution_count": 5,
   "metadata": {},
   "outputs": [
    {
     "name": "stderr",
     "output_type": "stream",
     "text": [
      "100%|██████████| 600/600 [00:26<00:00, 22.77it/s]\n"
     ]
    }
   ],
   "source": [
    "def chunk_transform(x):\n",
    "    x = x.reshape(-1,1600)\n",
    "    return np.concatenate((x.mean(axis=1, keepdims=True), x.std(axis=1, keepdims=True)),axis=1)\n",
    "\n",
    "trainkalaka = Kalaka(CWD, 'train100', \n",
    "                     transform_id='chunks_mv', \n",
    "                     audio_transform=audio_transform, \n",
    "                     chunk_size=4*16000, \n",
    "                     chunk_hop=2*16000, \n",
    "                     chunk_transform=chunk_transform)\n"
   ]
  },
  {
   "attachments": {},
   "cell_type": "markdown",
   "metadata": {},
   "source": [
    "\n",
    "Notice that, while the above example is probably useless as an effective feature extraction method, the proper combination of audio and chunk transformations is expected to permit quite flexible feature extraction that (hopefully) can match the needs of almost any training setting. \n",
    "\n",
    "Once we have instanciated a Kalaka dataset, it can be iterated to have access to each processed sample, for instance: "
   ]
  },
  {
   "cell_type": "code",
   "execution_count": 6,
   "metadata": {},
   "outputs": [
    {
     "name": "stdout",
     "output_type": "stream",
     "text": [
      "0 (40, 2) 6 0006ebda\n",
      "1000 (40, 2) 1 11a3790f\n",
      "2000 (40, 2) 4 271621da\n",
      "3000 (40, 2) 5 3b9d2c2f\n",
      "4000 (40, 2) 1 4d10f8f2\n",
      "5000 (40, 2) 6 5fb949a1\n",
      "6000 (40, 2) 6 70d28e30\n",
      "7000 (40, 2) 6 7d5515f0\n",
      "8000 (40, 2) 3 937623c2\n",
      "9000 (40, 2) 5 a4a7491b\n",
      "10000 (40, 2) 5 bc3f6e51\n",
      "11000 (40, 2) 3 cd82bcca\n",
      "12000 (40, 2) 1 df0b27f2\n",
      "13000 (40, 2) 3 f3ba1f4d\n",
      "Finished reading all data in 1.3218297958374023\n"
     ]
    }
   ],
   "source": [
    "import time\n",
    "start = time.time()\n",
    "for i, sample in enumerate(trainkalaka):\n",
    "    data, label, basename = sample # array, int, str\n",
    "    if i % 1000 == 0:\n",
    "        print(i, data.shape, label, basename)\n",
    "\n",
    "print(f'Finished reading all data in {time.time() - start}')"
   ]
  },
  {
   "attachments": {},
   "cell_type": "markdown",
   "metadata": {},
   "source": [
    "Now you can use the `Kalaka` class to check the  number of files and size (in minutes) of the training set for each target language. You cankKeep these numbers to include in your system description paper:"
   ]
  },
  {
   "attachments": {},
   "cell_type": "markdown",
   "metadata": {},
   "source": [
    "Notice that the `Kalaka` class extends the `torch.utils.data.Dataset` and it can be used in combination with a Pytorch DataLoader to read data in batches:"
   ]
  },
  {
   "cell_type": "code",
   "execution_count": 7,
   "metadata": {},
   "outputs": [
    {
     "name": "stderr",
     "output_type": "stream",
     "text": [
      "/home/av/IST/slp-labs/LAB2/pf_tools.py:89: UserWarning: The feature directory already exists, and no new feature extraction will be performed.\n",
      "  warnings.warn(\"The feature directory already exists, and no new feature extraction will be performed.\")\n"
     ]
    },
    {
     "name": "stdout",
     "output_type": "stream",
     "text": [
      "torch.Size([10, 40, 2]) torch.Size([10]) 10\n",
      "torch.Size([10, 40, 2]) torch.Size([10]) 10\n",
      "torch.Size([10, 40, 2]) torch.Size([10]) 10\n",
      "torch.Size([10, 40, 2]) torch.Size([10]) 10\n",
      "torch.Size([10, 40, 2]) torch.Size([10]) 10\n",
      "torch.Size([10, 40, 2]) torch.Size([10]) 10\n",
      "torch.Size([10, 40, 2]) torch.Size([10]) 10\n",
      "torch.Size([10, 40, 2]) torch.Size([10]) 10\n",
      "torch.Size([10, 40, 2]) torch.Size([10]) 10\n",
      "torch.Size([10, 40, 2]) torch.Size([10]) 10\n",
      "torch.Size([10, 40, 2]) torch.Size([10]) 10\n",
      "torch.Size([10, 40, 2]) torch.Size([10]) 10\n",
      "torch.Size([10, 40, 2]) torch.Size([10]) 10\n",
      "torch.Size([10, 40, 2]) torch.Size([10]) 10\n",
      "Finished reading all data in 4.175111293792725\n"
     ]
    }
   ],
   "source": [
    "import torch \n",
    "\n",
    "trainkalaka = Kalaka(CWD, 'train100', \n",
    "                     transform_id='chunks_mv', \n",
    "                     audio_transform=audio_transform, \n",
    "                     chunk_size=4*16000, \n",
    "                     chunk_hop=2*16000, \n",
    "                     chunk_transform=chunk_transform)\n",
    "\n",
    "dataloader = torch.utils.data.DataLoader(\n",
    "        dataset=trainkalaka,\n",
    "        batch_size=10,\n",
    "        shuffle=True\n",
    ")\n",
    "\n",
    "start = time.time()\n",
    "for i, batch in enumerate(dataloader):\n",
    "    data, label, basename = batch\n",
    "    if i % 100 == 0:\n",
    "        print(data.shape, label.shape, len(basename))\n",
    "\n",
    "print(f'Finished reading all data in {time.time() - start}')\n"
   ]
  },
  {
   "attachments": {},
   "cell_type": "markdown",
   "metadata": {},
   "source": [
    "Finally, remind that you can change anything you want. This includes the Kalaka class. Eventually, you can decide not using it at all and loading the data in some alternative way.  You can inspect the class to find the URLs for downloading the datasets. It is up to you! \n",
    "\n",
    "Before moving to the next stage, you probably want to delete the folders containing the dummy features that you just generated."
   ]
  },
  {
   "attachments": {},
   "cell_type": "markdown",
   "metadata": {},
   "source": [
    "# PART 1 - The baseline (Track 1)\n",
    "The baseline consists of MFCC feature extraction  (based on the `librosa` module) with SDC computation and VAD removal, followed by GMMs of 64 dimensions for each language (using the `sklearn` module). The rest of this notebook contains the guide and code cells (some of them partially incomplete) that permit implementing this baseline and score it on the development set. Read carefully the Markdown information, but also the comments inside the code cells (they provide useful information and hints), and also the code itself. The better you understand it, the easier will be modyfing it."
   ]
  },
  {
   "attachments": {},
   "cell_type": "markdown",
   "metadata": {},
   "source": [
    "## Initialization and importing modules"
   ]
  },
  {
   "cell_type": "code",
   "execution_count": 8,
   "metadata": {
    "scrolled": true
   },
   "outputs": [
    {
     "name": "stdout",
     "output_type": "stream",
     "text": [
      "OK\n"
     ]
    }
   ],
   "source": [
    "import importlib\n",
    "\n",
    "try:\n",
    "    # importlib.import_module('opensmile')\n",
    "    import opensmile\n",
    "    print('OK')\n",
    "\n",
    "except ImportError:\n",
    "    # print('Package not installed')\n",
    "    !pip install opensmile"
   ]
  },
  {
   "cell_type": "code",
   "execution_count": 9,
   "metadata": {},
   "outputs": [],
   "source": [
    "import os\n",
    "from pf_tools import Kalaka\n",
    "import librosa\n",
    "import numpy as np\n",
    "import torch\n",
    "from sklearn.mixture import GaussianMixture\n",
    "from sklearn.discriminant_analysis import LinearDiscriminantAnalysis\n",
    "from sklearn.metrics import classification_report, accuracy_score, confusion_matrix\n",
    "import matplotlib.pyplot as plt\n",
    "import pandas as pd\n",
    "\n",
    "import time\n",
    "import random\n",
    "import datetime\n",
    "from pathlib import Path\n",
    "import pickle\n",
    "import csv \n",
    "from tqdm import tqdm\n",
    "import opensmile #feature extraction\n",
    "import importlib #reload packages\n",
    "\n",
    "opensmile=importlib.reload(opensmile)\n",
    "\n",
    "GLOBAL_SEED = 35731\n",
    "\n",
    "np.random.seed(GLOBAL_SEED)\n",
    "torch.manual_seed(GLOBAL_SEED)\n",
    "random.seed(GLOBAL_SEED)\n",
    "\n",
    "\n",
    "LANGUAGES = ('Basque',  'Catalan',  'English',  'Galician',  'Portuguese',  'Spanish')\n",
    "LANG2ID = {'Basque':1, 'Catalan':2, 'English':3, 'Galician':4, 'Portuguese':5, 'Spanish':6}\n",
    "ID2LANG = dict((LANG2ID[k],k) for k in LANG2ID)"
   ]
  },
  {
   "attachments": {},
   "cell_type": "markdown",
   "metadata": {},
   "source": [
    "## The baseline feature extraction module\n",
    "The next function extracts MFCCs, but there are plenty of things that can be improved. You are free to change anything you want, including the number of formal parameters, the number of returned expressions, etc. "
   ]
  },
  {
   "cell_type": "code",
   "execution_count": 10,
   "metadata": {},
   "outputs": [],
   "source": [
    "# Read carefully this function and understand it\n",
    "\n",
    "def feat_extract(filename, orig_sr=16000, mono=True, n_mfcc = 13, remove_c0=False, delta_order=0, \n",
    "                 apply_sdc=False, apply_vad=False, apply_cmvn=False):\n",
    "    \n",
    "    sr=16000\n",
    "    n_mels = 40\n",
    "    n_fft = 512 \n",
    "    hop_length = 160\n",
    "    fmin = 50\n",
    "    fmax = 7800\n",
    "    \n",
    "    if apply_sdc and (delta_order > 0):\n",
    "        raise ValueError(\"Applying SDC and delta > 0 is not compatible\")\n",
    "\n",
    "    \n",
    "    # Load audio wav into numpy array\n",
    "    y, _ = librosa.load(filename, sr=orig_sr, mono=mono)\n",
    "    \n",
    "    # Resample in case it's needed\n",
    "    if orig_sr != sr:\n",
    "        y = librosa.resample(y, orig_sr=orig_sr,target_sr=sr)\n",
    "    \n",
    "        \n",
    "    ## OPTIONAL ADDIDITIONAL STAGES - LAB WORK\n",
    "    # 1 - PREPROCESSING - Typical preprocessing may include normalization of audio (mean removal), \n",
    "    #                       but also speech enhancement and others more complex\n",
    "    \n",
    "    # Extract MFFCs\n",
    "    mfcc = librosa.feature.mfcc(y=y, sr=sr, n_fft=n_fft, \n",
    "                                n_mfcc=n_mfcc, n_mels=n_mels, \n",
    "                                hop_length=hop_length, \n",
    "                                fmin=fmin, fmax=fmax, htk=False).T\n",
    "    \n",
    "    ## OPTIONAL ADDIDITIONAL STAGES - LAB WORK\n",
    "\n",
    "    # 2 Compute deltas --> Hint you can use librosa (order size may be a parameter?)\n",
    "    if delta_order > 0:\n",
    "        mfcc = compute_delta(mfcc,delta_order=delta_order)\n",
    "    \n",
    "    # 3 SDC --> Hint: You can build this using deltas (of extented context)  \n",
    "    if apply_sdc:\n",
    "        mfcc = compute_sdc(mfcc)\n",
    "    \n",
    "    # 4 COMPUTE VAD --> Hint: You can use any vad (theshold energy, something avaialble in the net, a biGaussian model...).\n",
    "    #                         Coeff0 is highly related with Energy and sometimes it is removed\n",
    "    #                   ATTENTION: Using a VAD may have a significant impact  \n",
    "    if apply_vad:\n",
    "        mfcc, _ = compute_vad(mfcc)\n",
    "             \n",
    "        \n",
    "    # 5 APPLY CMVN --> ATTENTION: Using normalization may have a significant impact\n",
    "    if apply_cmvn:\n",
    "        mfcc = compute_cmvn(mfcc)\n",
    "        \n",
    "\n",
    "    return mfcc, y\n"
   ]
  },
  {
   "attachments": {},
   "cell_type": "markdown",
   "metadata": {},
   "source": [
    "Try to define some or all of the following steps to improve your feature extraction pipeline "
   ]
  },
  {
   "cell_type": "code",
   "execution_count": 11,
   "metadata": {},
   "outputs": [],
   "source": [
    "# Numpy arrays have methods to compute mean and variance, so this one should be really easy\n",
    "# raise CheckThisCell ## <---- Remove this after completeing/checking this cell\n",
    "\n",
    "def compute_cmvn(features):\n",
    "    #return features/np.linalg.norm(features)\n",
    "    return (features-np.mean(features))/np.std(features)"
   ]
  },
  {
   "cell_type": "code",
   "execution_count": 12,
   "metadata": {},
   "outputs": [],
   "source": [
    "# librosa contains functions to compute deltas\n",
    "# raise CheckThisCell ## <---- Remove this after completeing/checking this cell\n",
    "\n",
    "def compute_delta(features, win=3, delta_order=2, keep_static=True):\n",
    "    delta = librosa.feature.delta(\n",
    "        features.T,\n",
    "        width=win,order=delta_order\n",
    "    ).T\n",
    "    return np.hstack((features,delta))"
   ]
  },
  {
   "cell_type": "code",
   "execution_count": 13,
   "metadata": {},
   "outputs": [],
   "source": [
    "# Compute deltas and then select previous and next deltas with fixed intervals to cocatentate. \n",
    "# You may need to code a bit here or dinf some function that helps with this\n",
    "# raise CheckThisCell ## <---- Remove this after completeing/checking this cell\n",
    "\n",
    "def compute_sdc(features, P=3, D=3, K=2, keep_static=True):\n",
    "    delta = compute_delta(\n",
    "        features.T,\n",
    "        win=D, delta_order=1)[:,np.shape(features)[1]:]\n",
    "    \n",
    "    sdc = np.empty([np.shape(features)[0],np.shape(features)[1]*K])\n",
    "    marker = np.zeros(features.shape[0], dtype='bool')\n",
    "    for j in range(K):\n",
    "        marker[D + j * P] = True\n",
    "    for i in range(len(features)):\n",
    "        sdc[i, :] = delta[marker, :].reshape(1, -1)\n",
    "        marker = np.roll(marker, 1)\n",
    "    return np.hstack((features,sdc))"
   ]
  },
  {
   "cell_type": "code",
   "execution_count": 14,
   "metadata": {},
   "outputs": [],
   "source": [
    "# You can think of several strattegies to compute VAD, simple ones based on energy and a threshold, or maybe some more \n",
    "# ellaborated ones, like training a GMM with 2 mixtures with the Energy. \n",
    "# In addition to the features without some frames, this function may return a sequence of 0s and 1s that helps you to validate the method.\n",
    "# raise CheckThisCell ## <---- Remove this after completeing/checking this cell\n",
    "\n",
    "# Voice Activity Detection - Zero Crossing Rate\n",
    "def zero_crossing_rate(x):\n",
    "    return np.sum(np.abs(np.diff(np.sign(x)))/2)/len(x)\n",
    "\n",
    "def compute_vad(features, energy=None, y=None):\n",
    "    features_aux=features[:,0:int(np.shape(features)[1]/2)]\n",
    "    zcr=np.empty(np.shape(features)[1])\n",
    "    for i in range(len(zcr)):\n",
    "        zcr[i]=zero_crossing_rate(features[:,i])\n",
    "    GM=GaussianMixture(n_components=2)\n",
    "    frame_class=GM.fit_predict(zcr.reshape(-1,1))\n",
    "    vad=np.empty(np.shape(features))\n",
    "    for i in range(len(zcr)):\n",
    "        vad[:,i]=frame_class[i]\n",
    "    return np.hstack((features,vad)),frame_class"
   ]
  },
  {
   "cell_type": "code",
   "execution_count": 15,
   "metadata": {},
   "outputs": [],
   "source": [
    "def opensmile_feats(signal,sr):\n",
    "    smile = opensmile.Smile(\n",
    "            feature_set=opensmile.FeatureSet.GeMAPSv01b ,\n",
    "            feature_level=opensmile.FeatureLevel.Functionals,\n",
    "        )\n",
    "    opensmile_feats=smile.process_signal(signal,sr)\n",
    "    return np.hstack(opensmile_feats.values)"
   ]
  },
  {
   "attachments": {},
   "cell_type": "markdown",
   "metadata": {},
   "source": [
    "You can test in an isolated audio file and inspect the dimensions, verify that your code is doing what is expected, inspect and visualize the data using some of the lessons learnt in LAB1. Also, don't forget to listen some of the examples!!"
   ]
  },
  {
   "cell_type": "code",
   "execution_count": 16,
   "metadata": {},
   "outputs": [],
   "source": [
    "# raise CheckThisCell ## <---- Remove this after completeing/checking this cell\n",
    "mfcc, _=feat_extract(f'{CWD}/train100/audio/0006ebda.wav', apply_cmvn=True, apply_sdc=False,apply_vad=False)\n",
    "mfcc_dd, _ = feat_extract(f'{CWD}/train100/audio/0006ebda.wav', apply_cmvn=False, delta_order=2)\n",
    "mfcc_d, _ = feat_extract(f'{CWD}/train100/audio/0006ebda.wav', apply_cmvn=False, delta_order=1)\n",
    "mfcc, y = feat_extract(f'{CWD}/train100/audio/0006ebda.wav', apply_cmvn=False)\n"
   ]
  },
  {
   "attachments": {},
   "cell_type": "markdown",
   "metadata": {},
   "source": [
    "To run the data processing stage for the train100 partition we will simply instanciate the Kalaka class as mentioned previosly. Take a sit because it can take a bit:"
   ]
  },
  {
   "cell_type": "code",
   "execution_count": 17,
   "metadata": {},
   "outputs": [],
   "source": [
    "#Transformation  Combinations attempted    BEST: mfcc_delta1\n",
    "transform = {\n",
    "    'mfcc_sdc_vad_chunk_300_400' : {\n",
    "        'audio_transform': lambda x : feat_extract(x, orig_sr=16000, mono=True, n_mfcc = 7, apply_sdc=False, apply_vad=False, apply_cmvn=True)[0],\n",
    "        'chunk_transform': None,\n",
    "        'chunk_size': 300,\n",
    "        'chunk_hop':300\n",
    "    },\n",
    "\n",
    "    'mfcc_delta1_vad' : {\n",
    "        'audio_transform': lambda x : feat_extract(x, orig_sr=16000, mono=True,delta_order=1, n_mfcc = 13, apply_sdc=False, apply_vad=True, apply_cmvn=True)[0],\n",
    "        'chunk_transform': None,\n",
    "        'chunk_size': 300,\n",
    "        'chunk_hop':300\n",
    "    },\n",
    "\n",
    "    'mfcc_sdc' : {\n",
    "        'audio_transform': lambda x : feat_extract(x, orig_sr=16000, mono=True,delta_order=0, n_mfcc = 13, apply_sdc=True, apply_vad=False, apply_cmvn=True)[0],\n",
    "        'chunk_transform': None,\n",
    "        'chunk_size': 300,\n",
    "        'chunk_hop':300\n",
    "    },\n",
    "\n",
    "    'mfcc_delta1' : {\n",
    "        'audio_transform': lambda x : feat_extract(x, orig_sr=16000, mono=True,delta_order=1, n_mfcc = 13, apply_sdc=False, apply_vad=False, apply_cmvn=True)[0],\n",
    "        'chunk_transform': None,\n",
    "        'chunk_size': 300,\n",
    "        'chunk_hop':300\n",
    "    },\n",
    "\n",
    "    'mfcc' : {\n",
    "        'audio_transform': lambda x : feat_extract(x, orig_sr=16000, mono=True,delta_order=0, n_mfcc = 7, apply_sdc=False, apply_vad=False, apply_cmvn=False)[0],\n",
    "        'chunk_transform': None,\n",
    "        'chunk_size': 300,\n",
    "        'chunk_hop':300\n",
    "    },\n",
    "}"
   ]
  },
  {
   "attachments": {},
   "cell_type": "markdown",
   "metadata": {},
   "source": [
    "Check your current folder, many things happened!! \n",
    "\n",
    "Notice that if you instanciate again the Kalaka class for the 'train100' partition, the data will not be downloaded again. \n",
    "Additionally, if there is already a folder with the name `transform_id`, feature extraction will not run again. You need to delete from your filesystem the folder with the features if you want to run again the feature extraction (using the same identifier) or , alternatively, you can change the identifier. Be careful because you can easily increase the amount of data generated. If you try a feature extraction method that provides bad results, you probably don't want to keep the features in disk."
   ]
  },
  {
   "attachments": {},
   "cell_type": "markdown",
   "metadata": {},
   "source": [
    "## The baseline spoken language models\n",
    "The baseline model is extremely simple: we'll train an individual GMM model for each language on top of the features that we just extracted. Later, in prediction time, given a test audio sample, we'll compute the loglikelihood obtained with each GMM model and select as the identified language the one whose model gives the highest likelihood. Let's go for it!!\n"
   ]
  },
  {
   "cell_type": "code",
   "execution_count": 18,
   "metadata": {},
   "outputs": [],
   "source": [
    "# from sklearn.model_selection import GridSearchCV # Not useful for GMM's\n",
    "\n",
    "trainset = 'train100'\n",
    "transform_id = 'mfcc'\n",
    "parameters = {\n",
    "    # 'transform_id': ['feat', 'mfcc'],\n",
    "    'audio_transform': [\n",
    "        lambda x : feat_extract(x, orig_sr=16000, mono=True, n_mfcc = 7, apply_sdc=False, apply_vad=False, apply_cmvn=True)[0], # mfcc_cmvn\n",
    "        lambda x : feat_extract(x, orig_sr=16000, mono=True,delta_order=1, n_mfcc = 13, apply_sdc=False, apply_vad=True, apply_cmvn=True)[0], # mfcc_delta1_vad_cmvn\n",
    "        lambda x : feat_extract(x, orig_sr=16000, mono=True,delta_order=0, n_mfcc = 13, apply_sdc=True, apply_vad=False, apply_cmvn=True)[0], # mfcc_sdc_cmvn\n",
    "        lambda x : feat_extract(x, orig_sr=16000, mono=True,delta_order=1, n_mfcc = 13, apply_sdc=False, apply_vad=False, apply_cmvn=True)[0], # mfcc_delta1_cmvn\n",
    "        lambda x : feat_extract(x, orig_sr=16000, mono=True,delta_order=0, n_mfcc = 7, apply_sdc=False, apply_vad=False, apply_cmvn=False)[0], # mfcc\n",
    "    ],\n",
    "    'chunk_size': [1024, 2048],\n",
    "    'chunk_hop': [512, 1024],\n",
    "\n",
    "    'n_gauss': [8, 16, 32]\n",
    "}"
   ]
  },
  {
   "cell_type": "code",
   "execution_count": 19,
   "metadata": {},
   "outputs": [],
   "source": [
    "import itertools\n",
    "\n",
    "def parameter_combinations(param_grid):\n",
    "    keys = param_grid.keys()\n",
    "    values = param_grid.values()\n",
    "    combinations = list(itertools.product(*values))\n",
    "    return [dict(zip(keys, combination)) for combination in combinations]\n",
    "\n",
    "def concat_kalaka(trainkalaka):\n",
    "    # print('concatenating Kalaka')\n",
    "    train_data = []\n",
    "    train_labels = []\n",
    "    for data, label, basename in trainkalaka:\n",
    "            train_data.append(data)\n",
    "            train_labels.append(np.full(data.shape[0], label)) \n",
    "\n",
    "    train_data = np.concatenate(train_data)\n",
    "    train_labels = np.concatenate(train_labels)\n",
    "    return train_data, train_labels\n",
    "\n",
    "from sklearn.metrics import accuracy_score\n",
    "\n",
    "def eval_gmm(gmm, kalaka):\n",
    "\n",
    "    LANGUAGES = ('Basque',  'Catalan',  'English',  'Galician',  'Portuguese',  'Spanish')\n",
    "    LANG2ID = {'Basque':1, 'Catalan':2, 'English':3, 'Galician':4, 'Portuguese':5, 'Spanish':6}\n",
    "    ID2LANG = dict((LANG2ID[k],k) for k in LANG2ID)\n",
    "\n",
    "    dev_data = {}\n",
    "    for data, label, basename in kalaka:\n",
    "        if basename not in dev_data:\n",
    "                dev_data[basename] = {'data':[], 'label':label}\n",
    "\n",
    "        dev_data[basename]['data'].append(data)\n",
    "\n",
    "    ## We concatenate all the frames belonging to the same filename\n",
    "    for basename in dev_data:\n",
    "        dev_data[basename]['data'] = np.concatenate(dev_data[basename]['data'])\n",
    "    \n",
    "    # return dev_data[basename]\n",
    "\n",
    "    results = {}\n",
    "    results['ref'] =  np.empty(len(dev_data), dtype=np.int32)\n",
    "    results['hyp'] =  np.empty(len(dev_data), dtype=np.int32)\n",
    "    results['llhs'] = np.empty((len(dev_data), len(LANGUAGES)), dtype=np.float64)\n",
    "    results['fileids'] = list()\n",
    "    \n",
    "    for i, fileid in tqdm(enumerate(sorted(dev_data)), total=len(dev_data)):\n",
    "        data = dev_data[fileid]['data']  # the features\n",
    "        \n",
    "        results['fileids'].append(fileid)     #fileid\n",
    "\n",
    "        # obtain the log-likelihood score for each model and store\n",
    "        results['llhs'][i,:] = np.array([gmm[lang].score(data) for lang in LANGUAGES])\n",
    "\n",
    "        # store the reference.\n",
    "        results['ref'][i] = (dev_data[fileid]['label']) #reference\n",
    "\n",
    "        # Obtain the maximum likelihood languge estimation\n",
    "        ix = np.argmax(results['llhs'][i,:])\n",
    "        results['hyp'][i] = LANG2ID[LANGUAGES[ix]]\n",
    "    \n",
    "    return accuracy_score(results['ref'], results['hyp'])"
   ]
  },
  {
   "cell_type": "code",
   "execution_count": 20,
   "metadata": {},
   "outputs": [
    {
     "name": "stdout",
     "output_type": "stream",
     "text": [
      "\n",
      "Combination 1\n"
     ]
    },
    {
     "name": "stderr",
     "output_type": "stream",
     "text": [
      "100%|██████████| 600/600 [01:22<00:00,  7.28it/s]\n"
     ]
    },
    {
     "name": "stdout",
     "output_type": "stream",
     "text": [
      "Initialization 0\n",
      "  Iteration 1\t time lapse 4.54480s\t ll change inf\n",
      "  Iteration 2\t time lapse 2.28912s\t ll change 0.51795\n",
      "  Iteration 3\t time lapse 1.93357s\t ll change 0.01558\n",
      "  Iteration 4\t time lapse 2.13857s\t ll change 0.01130\n",
      "  Iteration 5\t time lapse 1.57593s\t ll change 0.00936\n",
      "  Iteration 6\t time lapse 2.15250s\t ll change 0.00752\n",
      "  Iteration 7\t time lapse 1.67322s\t ll change 0.00568\n",
      "  Iteration 8\t time lapse 1.28867s\t ll change 0.00413\n",
      "  Iteration 9\t time lapse 1.29712s\t ll change 0.00300\n",
      "  Iteration 10\t time lapse 1.49950s\t ll change 0.00222\n",
      "  Iteration 11\t time lapse 1.70590s\t ll change 0.00169\n",
      "  Iteration 12\t time lapse 1.38176s\t ll change 0.00132\n",
      "  Iteration 13\t time lapse 1.48599s\t ll change 0.00105\n",
      "  Iteration 14\t time lapse 2.16363s\t ll change 0.00084\n",
      "Initialization converged: True\t time lapse 27.13067s\t ll 2.56142\n",
      "Initialization 0\n",
      "  Iteration 1\t time lapse 4.47280s\t ll change inf\n",
      "  Iteration 2\t time lapse 2.44486s\t ll change 0.65836\n",
      "  Iteration 3\t time lapse 1.81469s\t ll change 0.01724\n",
      "  Iteration 4\t time lapse 2.73321s\t ll change 0.01015\n",
      "  Iteration 5\t time lapse 2.28779s\t ll change 0.00644\n",
      "  Iteration 6\t time lapse 1.96834s\t ll change 0.00414\n",
      "  Iteration 7\t time lapse 2.14826s\t ll change 0.00271\n",
      "  Iteration 8\t time lapse 1.99319s\t ll change 0.00183\n",
      "  Iteration 9\t time lapse 2.25353s\t ll change 0.00129\n",
      "  Iteration 10\t time lapse 2.17584s\t ll change 0.00096\n",
      "Initialization converged: True\t time lapse 24.29363s\t ll 2.76857\n",
      "Initialization 0\n",
      "  Iteration 1\t time lapse 5.84477s\t ll change inf\n",
      "  Iteration 2\t time lapse 2.34214s\t ll change 0.62728\n",
      "  Iteration 3\t time lapse 2.08355s\t ll change 0.02277\n",
      "  Iteration 4\t time lapse 1.89366s\t ll change 0.01447\n",
      "  Iteration 5\t time lapse 2.15371s\t ll change 0.01020\n",
      "  Iteration 6\t time lapse 2.06265s\t ll change 0.00721\n",
      "  Iteration 7\t time lapse 1.81813s\t ll change 0.00490\n",
      "  Iteration 8\t time lapse 1.83328s\t ll change 0.00320\n",
      "  Iteration 9\t time lapse 2.10757s\t ll change 0.00205\n",
      "  Iteration 10\t time lapse 2.01156s\t ll change 0.00134\n",
      "  Iteration 11\t time lapse 1.69158s\t ll change 0.00090\n",
      "Initialization converged: True\t time lapse 25.84269s\t ll 1.77298\n",
      "Initialization 0\n",
      "  Iteration 1\t time lapse 3.78507s\t ll change inf\n",
      "  Iteration 2\t time lapse 1.72082s\t ll change 0.57754\n",
      "  Iteration 3\t time lapse 1.76855s\t ll change 0.01842\n",
      "  Iteration 4\t time lapse 1.74485s\t ll change 0.01165\n",
      "  Iteration 5\t time lapse 1.81841s\t ll change 0.00778\n",
      "  Iteration 6\t time lapse 1.91574s\t ll change 0.00515\n",
      "  Iteration 7\t time lapse 1.71790s\t ll change 0.00337\n",
      "  Iteration 8\t time lapse 1.53758s\t ll change 0.00220\n",
      "  Iteration 9\t time lapse 1.57526s\t ll change 0.00145\n",
      "  Iteration 10\t time lapse 1.85701s\t ll change 0.00097\n",
      "Initialization converged: True\t time lapse 19.44160s\t ll 2.44513\n",
      "Initialization 0\n",
      "  Iteration 1\t time lapse 3.27713s\t ll change inf\n",
      "  Iteration 2\t time lapse 1.82417s\t ll change 0.70887\n",
      "  Iteration 3\t time lapse 1.54817s\t ll change 0.02027\n",
      "  Iteration 4\t time lapse 1.49977s\t ll change 0.01444\n",
      "  Iteration 5\t time lapse 1.60089s\t ll change 0.01150\n",
      "  Iteration 6\t time lapse 1.71202s\t ll change 0.00928\n",
      "  Iteration 7\t time lapse 1.47102s\t ll change 0.00732\n",
      "  Iteration 8\t time lapse 1.51730s\t ll change 0.00559\n",
      "  Iteration 9\t time lapse 1.65717s\t ll change 0.00416\n",
      "  Iteration 10\t time lapse 1.60944s\t ll change 0.00305\n",
      "  Iteration 11\t time lapse 1.44190s\t ll change 0.00223\n",
      "  Iteration 12\t time lapse 1.73440s\t ll change 0.00166\n",
      "  Iteration 13\t time lapse 2.29744s\t ll change 0.00126\n",
      "  Iteration 14\t time lapse 1.81010s\t ll change 0.00097\n",
      "Initialization converged: True\t time lapse 25.00105s\t ll 1.92178\n",
      "Initialization 0\n",
      "  Iteration 1\t time lapse 4.93747s\t ll change inf\n",
      "  Iteration 2\t time lapse 1.57812s\t ll change 0.03700\n",
      "  Iteration 3\t time lapse 2.00580s\t ll change 0.01318\n",
      "  Iteration 4\t time lapse 1.62327s\t ll change 0.00832\n",
      "  Iteration 5\t time lapse 1.76441s\t ll change 0.00636\n",
      "  Iteration 6\t time lapse 1.68033s\t ll change 0.00534\n",
      "  Iteration 7\t time lapse 1.96204s\t ll change 0.00478\n",
      "  Iteration 8\t time lapse 1.64424s\t ll change 0.00450\n",
      "  Iteration 9\t time lapse 1.45574s\t ll change 0.00439\n",
      "  Iteration 10\t time lapse 1.68093s\t ll change 0.00428\n",
      "  Iteration 11\t time lapse 1.86905s\t ll change 0.00395\n",
      "  Iteration 12\t time lapse 1.54882s\t ll change 0.00329\n",
      "  Iteration 13\t time lapse 1.46854s\t ll change 0.00246\n",
      "  Iteration 14\t time lapse 1.67645s\t ll change 0.00171\n",
      "  Iteration 15\t time lapse 1.64165s\t ll change 0.00115\n",
      "Initialization converged: False\t time lapse 28.53698s\t ll 2.63199\n"
     ]
    },
    {
     "name": "stderr",
     "output_type": "stream",
     "text": [
      "/home/av/.local/lib/python3.10/site-packages/sklearn/mixture/_base.py:274: ConvergenceWarning: Initialization 1 did not converge. Try different init parameters, or increase max_iter, tol or check for degenerate data.\n",
      "  warnings.warn(\n",
      "100%|██████████| 600/600 [00:42<00:00, 14.13it/s]\n",
      "/home/av/IST/slp-labs/LAB2/pf_tools.py:89: UserWarning: The feature directory already exists, and no new feature extraction will be performed.\n",
      "  warnings.warn(\"The feature directory already exists, and no new feature extraction will be performed.\")\n"
     ]
    },
    {
     "name": "stdout",
     "output_type": "stream",
     "text": [
      "Accuracy Score = 0.5583333333333333\n",
      "\n",
      "\n",
      "Combination 2\n",
      "Initialization 0\n",
      "  Iteration 1\t time lapse 8.75574s\t ll change inf\n",
      "  Iteration 2\t time lapse 4.32521s\t ll change 0.49884\n",
      "  Iteration 3\t time lapse 4.20883s\t ll change 0.01702\n",
      "  Iteration 4\t time lapse 4.77128s\t ll change 0.01000\n",
      "  Iteration 5\t time lapse 4.23566s\t ll change 0.00713\n",
      "  Iteration 6\t time lapse 4.09994s\t ll change 0.00560\n",
      "  Iteration 7\t time lapse 4.53438s\t ll change 0.00467\n",
      "  Iteration 8\t time lapse 3.85092s\t ll change 0.00407\n",
      "  Iteration 9\t time lapse 3.98507s\t ll change 0.00368\n",
      "  Iteration 10\t time lapse 3.56191s\t ll change 0.00338\n",
      "  Iteration 11\t time lapse 3.64996s\t ll change 0.00308\n",
      "  Iteration 12\t time lapse 3.39658s\t ll change 0.00281\n",
      "  Iteration 13\t time lapse 3.57445s\t ll change 0.00260\n",
      "  Iteration 14\t time lapse 3.69913s\t ll change 0.00244\n",
      "  Iteration 15\t time lapse 3.78512s\t ll change 0.00226\n",
      "Initialization converged: False\t time lapse 64.43459s\t ll 2.69630\n"
     ]
    },
    {
     "name": "stderr",
     "output_type": "stream",
     "text": [
      "/home/av/.local/lib/python3.10/site-packages/sklearn/mixture/_base.py:274: ConvergenceWarning: Initialization 1 did not converge. Try different init parameters, or increase max_iter, tol or check for degenerate data.\n",
      "  warnings.warn(\n"
     ]
    },
    {
     "name": "stdout",
     "output_type": "stream",
     "text": [
      "Initialization 0\n",
      "  Iteration 1\t time lapse 9.67677s\t ll change inf\n",
      "  Iteration 2\t time lapse 4.42697s\t ll change 0.55677\n",
      "  Iteration 3\t time lapse 4.29960s\t ll change 0.01921\n",
      "  Iteration 4\t time lapse 4.28381s\t ll change 0.01202\n",
      "  Iteration 5\t time lapse 4.26073s\t ll change 0.00867\n",
      "  Iteration 6\t time lapse 4.09980s\t ll change 0.00659\n",
      "  Iteration 7\t time lapse 4.31693s\t ll change 0.00516\n",
      "  Iteration 8\t time lapse 4.03162s\t ll change 0.00420\n",
      "  Iteration 9\t time lapse 4.16591s\t ll change 0.00358\n",
      "  Iteration 10\t time lapse 3.94281s\t ll change 0.00318\n",
      "  Iteration 11\t time lapse 4.00815s\t ll change 0.00285\n",
      "  Iteration 12\t time lapse 3.52949s\t ll change 0.00246\n",
      "  Iteration 13\t time lapse 3.90934s\t ll change 0.00204\n",
      "  Iteration 14\t time lapse 3.53442s\t ll change 0.00165\n",
      "  Iteration 15\t time lapse 3.71749s\t ll change 0.00136\n",
      "Initialization converged: False\t time lapse 66.20451s\t ll 2.89899\n"
     ]
    },
    {
     "name": "stderr",
     "output_type": "stream",
     "text": [
      "/home/av/.local/lib/python3.10/site-packages/sklearn/mixture/_base.py:274: ConvergenceWarning: Initialization 1 did not converge. Try different init parameters, or increase max_iter, tol or check for degenerate data.\n",
      "  warnings.warn(\n"
     ]
    },
    {
     "name": "stdout",
     "output_type": "stream",
     "text": [
      "Initialization 0\n",
      "  Iteration 1\t time lapse 9.27165s\t ll change inf\n",
      "  Iteration 2\t time lapse 4.10826s\t ll change 0.52196\n",
      "  Iteration 3\t time lapse 3.88912s\t ll change 0.02000\n",
      "  Iteration 4\t time lapse 3.74384s\t ll change 0.01382\n",
      "  Iteration 5\t time lapse 4.01542s\t ll change 0.01192\n",
      "  Iteration 6\t time lapse 4.08371s\t ll change 0.01163\n",
      "  Iteration 7\t time lapse 4.03632s\t ll change 0.01111\n",
      "  Iteration 8\t time lapse 3.84956s\t ll change 0.00948\n",
      "  Iteration 9\t time lapse 4.25932s\t ll change 0.00739\n",
      "  Iteration 10\t time lapse 4.18422s\t ll change 0.00546\n",
      "  Iteration 11\t time lapse 4.05809s\t ll change 0.00395\n",
      "  Iteration 12\t time lapse 3.87152s\t ll change 0.00293\n",
      "  Iteration 13\t time lapse 3.82804s\t ll change 0.00227\n",
      "  Iteration 14\t time lapse 3.88371s\t ll change 0.00183\n",
      "  Iteration 15\t time lapse 4.38391s\t ll change 0.00152\n",
      "Initialization converged: False\t time lapse 65.46701s\t ll 1.93392\n"
     ]
    },
    {
     "name": "stderr",
     "output_type": "stream",
     "text": [
      "/home/av/.local/lib/python3.10/site-packages/sklearn/mixture/_base.py:274: ConvergenceWarning: Initialization 1 did not converge. Try different init parameters, or increase max_iter, tol or check for degenerate data.\n",
      "  warnings.warn(\n"
     ]
    },
    {
     "name": "stdout",
     "output_type": "stream",
     "text": [
      "Initialization 0\n",
      "  Iteration 1\t time lapse 7.41980s\t ll change inf\n",
      "  Iteration 2\t time lapse 3.00210s\t ll change 0.49917\n",
      "  Iteration 3\t time lapse 3.19307s\t ll change 0.02069\n",
      "  Iteration 4\t time lapse 3.22291s\t ll change 0.01376\n",
      "  Iteration 5\t time lapse 3.32988s\t ll change 0.01046\n",
      "  Iteration 6\t time lapse 3.23547s\t ll change 0.00831\n",
      "  Iteration 7\t time lapse 2.69908s\t ll change 0.00673\n",
      "  Iteration 8\t time lapse 4.75580s\t ll change 0.00552\n",
      "  Iteration 9\t time lapse 4.68412s\t ll change 0.00457\n",
      "  Iteration 10\t time lapse 1.72320s\t ll change 0.00383\n",
      "  Iteration 11\t time lapse 1.07622s\t ll change 0.00327\n",
      "  Iteration 12\t time lapse 0.95526s\t ll change 0.00286\n",
      "  Iteration 13\t time lapse 0.97721s\t ll change 0.00254\n",
      "  Iteration 14\t time lapse 0.99504s\t ll change 0.00228\n",
      "  Iteration 15\t time lapse 0.99242s\t ll change 0.00206\n",
      "Initialization converged: False\t time lapse 42.26168s\t ll 2.57235\n"
     ]
    },
    {
     "name": "stderr",
     "output_type": "stream",
     "text": [
      "/home/av/.local/lib/python3.10/site-packages/sklearn/mixture/_base.py:274: ConvergenceWarning: Initialization 1 did not converge. Try different init parameters, or increase max_iter, tol or check for degenerate data.\n",
      "  warnings.warn(\n"
     ]
    },
    {
     "name": "stdout",
     "output_type": "stream",
     "text": [
      "Initialization 0\n",
      "  Iteration 1\t time lapse 2.76166s\t ll change inf\n",
      "  Iteration 2\t time lapse 0.90700s\t ll change 0.61046\n",
      "  Iteration 3\t time lapse 0.89572s\t ll change 0.01899\n",
      "  Iteration 4\t time lapse 0.87955s\t ll change 0.01326\n",
      "  Iteration 5\t time lapse 0.88149s\t ll change 0.01083\n",
      "  Iteration 6\t time lapse 0.91071s\t ll change 0.00907\n",
      "  Iteration 7\t time lapse 0.88859s\t ll change 0.00744\n",
      "  Iteration 8\t time lapse 0.90239s\t ll change 0.00600\n",
      "  Iteration 9\t time lapse 0.88460s\t ll change 0.00489\n",
      "  Iteration 10\t time lapse 0.89447s\t ll change 0.00413\n",
      "  Iteration 11\t time lapse 0.86837s\t ll change 0.00368\n",
      "  Iteration 12\t time lapse 0.90455s\t ll change 0.00343\n",
      "  Iteration 13\t time lapse 0.92614s\t ll change 0.00317\n",
      "  Iteration 14\t time lapse 0.89160s\t ll change 0.00270\n",
      "  Iteration 15\t time lapse 0.89937s\t ll change 0.00215\n",
      "Initialization converged: False\t time lapse 15.29632s\t ll 2.02846\n"
     ]
    },
    {
     "name": "stderr",
     "output_type": "stream",
     "text": [
      "/home/av/.local/lib/python3.10/site-packages/sklearn/mixture/_base.py:274: ConvergenceWarning: Initialization 1 did not converge. Try different init parameters, or increase max_iter, tol or check for degenerate data.\n",
      "  warnings.warn(\n"
     ]
    },
    {
     "name": "stdout",
     "output_type": "stream",
     "text": [
      "Initialization 0\n",
      "  Iteration 1\t time lapse 2.83651s\t ll change inf\n",
      "  Iteration 2\t time lapse 0.97089s\t ll change 0.05195\n",
      "  Iteration 3\t time lapse 0.99135s\t ll change 0.01949\n",
      "  Iteration 4\t time lapse 0.94089s\t ll change 0.01222\n",
      "  Iteration 5\t time lapse 0.95589s\t ll change 0.00894\n",
      "  Iteration 6\t time lapse 0.93637s\t ll change 0.00697\n",
      "  Iteration 7\t time lapse 0.95981s\t ll change 0.00564\n",
      "  Iteration 8\t time lapse 0.98201s\t ll change 0.00470\n",
      "  Iteration 9\t time lapse 0.94888s\t ll change 0.00401\n",
      "  Iteration 10\t time lapse 0.94851s\t ll change 0.00345\n",
      "  Iteration 11\t time lapse 0.96760s\t ll change 0.00297\n",
      "  Iteration 12\t time lapse 0.98066s\t ll change 0.00253\n",
      "  Iteration 13\t time lapse 0.96692s\t ll change 0.00211\n",
      "  Iteration 14\t time lapse 0.95377s\t ll change 0.00172\n",
      "  Iteration 15\t time lapse 0.97402s\t ll change 0.00139\n",
      "Initialization converged: False\t time lapse 16.31447s\t ll 2.78863\n"
     ]
    },
    {
     "name": "stderr",
     "output_type": "stream",
     "text": [
      "/home/av/.local/lib/python3.10/site-packages/sklearn/mixture/_base.py:274: ConvergenceWarning: Initialization 1 did not converge. Try different init parameters, or increase max_iter, tol or check for degenerate data.\n",
      "  warnings.warn(\n",
      "100%|██████████| 600/600 [00:30<00:00, 19.81it/s]\n",
      "/home/av/IST/slp-labs/LAB2/pf_tools.py:89: UserWarning: The feature directory already exists, and no new feature extraction will be performed.\n",
      "  warnings.warn(\"The feature directory already exists, and no new feature extraction will be performed.\")\n"
     ]
    },
    {
     "name": "stdout",
     "output_type": "stream",
     "text": [
      "Accuracy Score = 0.5966666666666667\n",
      "\n",
      "\n",
      "Combination 3\n",
      "Initialization 0\n",
      "  Iteration 1\t time lapse 7.52510s\t ll change inf\n",
      "  Iteration 2\t time lapse 4.30388s\t ll change 0.45860\n",
      "  Iteration 3\t time lapse 2.68166s\t ll change 0.01902\n",
      "  Iteration 4\t time lapse 4.25642s\t ll change 0.01080\n",
      "  Iteration 5\t time lapse 2.90009s\t ll change 0.00758\n",
      "  Iteration 6\t time lapse 3.84782s\t ll change 0.00581\n",
      "  Iteration 7\t time lapse 2.35213s\t ll change 0.00453\n",
      "  Iteration 8\t time lapse 3.95557s\t ll change 0.00353\n",
      "  Iteration 9\t time lapse 2.77256s\t ll change 0.00279\n",
      "  Iteration 10\t time lapse 3.49489s\t ll change 0.00228\n",
      "  Iteration 11\t time lapse 2.65137s\t ll change 0.00192\n",
      "  Iteration 12\t time lapse 3.28408s\t ll change 0.00166\n",
      "  Iteration 13\t time lapse 2.48692s\t ll change 0.00149\n",
      "  Iteration 14\t time lapse 3.43805s\t ll change 0.00135\n",
      "  Iteration 15\t time lapse 2.70364s\t ll change 0.00126\n",
      "Initialization converged: False\t time lapse 52.65468s\t ll 2.78910\n"
     ]
    },
    {
     "name": "stderr",
     "output_type": "stream",
     "text": [
      "/home/av/.local/lib/python3.10/site-packages/sklearn/mixture/_base.py:274: ConvergenceWarning: Initialization 1 did not converge. Try different init parameters, or increase max_iter, tol or check for degenerate data.\n",
      "  warnings.warn(\n"
     ]
    },
    {
     "name": "stdout",
     "output_type": "stream",
     "text": [
      "Initialization 0\n",
      "  Iteration 1\t time lapse 6.13465s\t ll change inf\n",
      "  Iteration 2\t time lapse 3.93363s\t ll change 0.41436\n",
      "  Iteration 3\t time lapse 3.31153s\t ll change 0.01895\n",
      "  Iteration 4\t time lapse 4.02204s\t ll change 0.01075\n",
      "  Iteration 5\t time lapse 2.81741s\t ll change 0.00750\n",
      "  Iteration 6\t time lapse 3.78860s\t ll change 0.00578\n",
      "  Iteration 7\t time lapse 3.07059s\t ll change 0.00470\n",
      "  Iteration 8\t time lapse 3.62206s\t ll change 0.00397\n",
      "  Iteration 9\t time lapse 3.10687s\t ll change 0.00349\n",
      "  Iteration 10\t time lapse 3.19222s\t ll change 0.00318\n",
      "  Iteration 11\t time lapse 2.84684s\t ll change 0.00299\n",
      "  Iteration 12\t time lapse 3.19580s\t ll change 0.00288\n",
      "  Iteration 13\t time lapse 3.01272s\t ll change 0.00278\n",
      "  Iteration 14\t time lapse 3.10849s\t ll change 0.00264\n",
      "  Iteration 15\t time lapse 3.14429s\t ll change 0.00243\n",
      "Initialization converged: False\t time lapse 52.30787s\t ll 2.97446\n"
     ]
    },
    {
     "name": "stderr",
     "output_type": "stream",
     "text": [
      "/home/av/.local/lib/python3.10/site-packages/sklearn/mixture/_base.py:274: ConvergenceWarning: Initialization 1 did not converge. Try different init parameters, or increase max_iter, tol or check for degenerate data.\n",
      "  warnings.warn(\n"
     ]
    },
    {
     "name": "stdout",
     "output_type": "stream",
     "text": [
      "Initialization 0\n",
      "  Iteration 1\t time lapse 6.07322s\t ll change inf\n",
      "  Iteration 2\t time lapse 2.60333s\t ll change 0.42307\n",
      "  Iteration 3\t time lapse 2.73617s\t ll change 0.02597\n",
      "  Iteration 4\t time lapse 2.64903s\t ll change 0.01885\n",
      "  Iteration 5\t time lapse 2.58803s\t ll change 0.01482\n",
      "  Iteration 6\t time lapse 2.48793s\t ll change 0.01114\n",
      "  Iteration 7\t time lapse 2.59282s\t ll change 0.00783\n",
      "  Iteration 8\t time lapse 2.56984s\t ll change 0.00554\n",
      "  Iteration 9\t time lapse 2.50799s\t ll change 0.00413\n",
      "  Iteration 10\t time lapse 2.44458s\t ll change 0.00326\n",
      "  Iteration 11\t time lapse 2.32426s\t ll change 0.00267\n",
      "  Iteration 12\t time lapse 2.54591s\t ll change 0.00225\n",
      "  Iteration 13\t time lapse 2.47947s\t ll change 0.00192\n",
      "  Iteration 14\t time lapse 2.32394s\t ll change 0.00165\n",
      "  Iteration 15\t time lapse 2.32078s\t ll change 0.00144\n",
      "Initialization converged: False\t time lapse 41.24772s\t ll 2.03839\n"
     ]
    },
    {
     "name": "stderr",
     "output_type": "stream",
     "text": [
      "/home/av/.local/lib/python3.10/site-packages/sklearn/mixture/_base.py:274: ConvergenceWarning: Initialization 1 did not converge. Try different init parameters, or increase max_iter, tol or check for degenerate data.\n",
      "  warnings.warn(\n"
     ]
    },
    {
     "name": "stdout",
     "output_type": "stream",
     "text": [
      "Initialization 0\n",
      "  Iteration 1\t time lapse 5.30421s\t ll change inf\n",
      "  Iteration 2\t time lapse 1.68137s\t ll change 0.32359\n",
      "  Iteration 3\t time lapse 1.94234s\t ll change 0.01831\n",
      "  Iteration 4\t time lapse 1.77138s\t ll change 0.01090\n",
      "  Iteration 5\t time lapse 1.68990s\t ll change 0.00821\n",
      "  Iteration 6\t time lapse 1.74533s\t ll change 0.00697\n",
      "  Iteration 7\t time lapse 1.67265s\t ll change 0.00624\n",
      "  Iteration 8\t time lapse 1.68334s\t ll change 0.00577\n",
      "  Iteration 9\t time lapse 1.63834s\t ll change 0.00542\n",
      "  Iteration 10\t time lapse 1.82211s\t ll change 0.00507\n",
      "  Iteration 11\t time lapse 1.62539s\t ll change 0.00489\n",
      "  Iteration 12\t time lapse 1.71269s\t ll change 0.00481\n",
      "  Iteration 13\t time lapse 1.67038s\t ll change 0.00471\n",
      "  Iteration 14\t time lapse 1.74520s\t ll change 0.00458\n",
      "  Iteration 15\t time lapse 1.72562s\t ll change 0.00488\n",
      "Initialization converged: False\t time lapse 29.43036s\t ll 2.66690\n"
     ]
    },
    {
     "name": "stderr",
     "output_type": "stream",
     "text": [
      "/home/av/.local/lib/python3.10/site-packages/sklearn/mixture/_base.py:274: ConvergenceWarning: Initialization 1 did not converge. Try different init parameters, or increase max_iter, tol or check for degenerate data.\n",
      "  warnings.warn(\n"
     ]
    },
    {
     "name": "stdout",
     "output_type": "stream",
     "text": [
      "Initialization 0\n",
      "  Iteration 1\t time lapse 5.24163s\t ll change inf\n",
      "  Iteration 2\t time lapse 1.47796s\t ll change 0.52165\n",
      "  Iteration 3\t time lapse 1.43776s\t ll change 0.01945\n",
      "  Iteration 4\t time lapse 1.45434s\t ll change 0.01135\n",
      "  Iteration 5\t time lapse 1.43291s\t ll change 0.00796\n",
      "  Iteration 6\t time lapse 1.64533s\t ll change 0.00604\n",
      "  Iteration 7\t time lapse 1.44492s\t ll change 0.00476\n",
      "  Iteration 8\t time lapse 1.44831s\t ll change 0.00385\n",
      "  Iteration 9\t time lapse 1.43197s\t ll change 0.00320\n",
      "  Iteration 10\t time lapse 1.46675s\t ll change 0.00274\n",
      "  Iteration 11\t time lapse 1.44560s\t ll change 0.00239\n",
      "  Iteration 12\t time lapse 1.49800s\t ll change 0.00213\n",
      "  Iteration 13\t time lapse 1.45419s\t ll change 0.00193\n",
      "  Iteration 14\t time lapse 1.47223s\t ll change 0.00176\n",
      "  Iteration 15\t time lapse 1.44946s\t ll change 0.00164\n",
      "Initialization converged: False\t time lapse 25.80148s\t ll 2.10583\n"
     ]
    },
    {
     "name": "stderr",
     "output_type": "stream",
     "text": [
      "/home/av/.local/lib/python3.10/site-packages/sklearn/mixture/_base.py:274: ConvergenceWarning: Initialization 1 did not converge. Try different init parameters, or increase max_iter, tol or check for degenerate data.\n",
      "  warnings.warn(\n"
     ]
    },
    {
     "name": "stdout",
     "output_type": "stream",
     "text": [
      "Initialization 0\n",
      "  Iteration 1\t time lapse 5.49248s\t ll change inf\n",
      "  Iteration 2\t time lapse 1.56480s\t ll change 0.05774\n",
      "  Iteration 3\t time lapse 1.52053s\t ll change 0.02019\n",
      "  Iteration 4\t time lapse 1.50290s\t ll change 0.01188\n",
      "  Iteration 5\t time lapse 1.55342s\t ll change 0.00831\n",
      "  Iteration 6\t time lapse 1.53963s\t ll change 0.00615\n",
      "  Iteration 7\t time lapse 1.54736s\t ll change 0.00464\n",
      "  Iteration 8\t time lapse 1.61011s\t ll change 0.00359\n",
      "  Iteration 9\t time lapse 1.62627s\t ll change 0.00289\n",
      "  Iteration 10\t time lapse 1.61430s\t ll change 0.00244\n",
      "  Iteration 11\t time lapse 1.59050s\t ll change 0.00217\n",
      "  Iteration 12\t time lapse 1.60496s\t ll change 0.00204\n",
      "  Iteration 13\t time lapse 1.50953s\t ll change 0.00200\n",
      "  Iteration 14\t time lapse 1.59816s\t ll change 0.00203\n",
      "  Iteration 15\t time lapse 1.56390s\t ll change 0.00203\n",
      "Initialization converged: False\t time lapse 27.43898s\t ll 2.87033\n"
     ]
    },
    {
     "name": "stderr",
     "output_type": "stream",
     "text": [
      "/home/av/.local/lib/python3.10/site-packages/sklearn/mixture/_base.py:274: ConvergenceWarning: Initialization 1 did not converge. Try different init parameters, or increase max_iter, tol or check for degenerate data.\n",
      "  warnings.warn(\n",
      "100%|██████████| 600/600 [00:49<00:00, 12.19it/s]\n",
      "/home/av/IST/slp-labs/LAB2/pf_tools.py:89: UserWarning: The feature directory already exists, and no new feature extraction will be performed.\n",
      "  warnings.warn(\"The feature directory already exists, and no new feature extraction will be performed.\")\n"
     ]
    },
    {
     "name": "stdout",
     "output_type": "stream",
     "text": [
      "Accuracy Score = 0.6216666666666667\n",
      "\n",
      "\n",
      "Combination 4\n",
      "Initialization 0\n",
      "  Iteration 1\t time lapse 1.60912s\t ll change inf\n",
      "  Iteration 2\t time lapse 0.58582s\t ll change 0.51739\n",
      "  Iteration 3\t time lapse 0.57272s\t ll change 0.01511\n",
      "  Iteration 4\t time lapse 0.57010s\t ll change 0.01103\n",
      "  Iteration 5\t time lapse 0.57348s\t ll change 0.00942\n",
      "  Iteration 6\t time lapse 0.55979s\t ll change 0.00786\n",
      "  Iteration 7\t time lapse 0.58896s\t ll change 0.00610\n",
      "  Iteration 8\t time lapse 0.57664s\t ll change 0.00449\n",
      "  Iteration 9\t time lapse 0.60074s\t ll change 0.00327\n",
      "  Iteration 10\t time lapse 0.58451s\t ll change 0.00241\n",
      "  Iteration 11\t time lapse 0.56759s\t ll change 0.00182\n",
      "  Iteration 12\t time lapse 0.56661s\t ll change 0.00141\n",
      "  Iteration 13\t time lapse 0.56329s\t ll change 0.00111\n",
      "  Iteration 14\t time lapse 0.58609s\t ll change 0.00089\n",
      "Initialization converged: True\t time lapse 9.10552s\t ll 2.56129\n",
      "Initialization 0\n",
      "  Iteration 1\t time lapse 1.81565s\t ll change inf\n",
      "  Iteration 2\t time lapse 0.62337s\t ll change 0.65150\n",
      "  Iteration 3\t time lapse 0.62195s\t ll change 0.01702\n",
      "  Iteration 4\t time lapse 0.65303s\t ll change 0.01023\n",
      "  Iteration 5\t time lapse 0.62582s\t ll change 0.00668\n",
      "  Iteration 6\t time lapse 0.61666s\t ll change 0.00442\n",
      "  Iteration 7\t time lapse 0.65976s\t ll change 0.00296\n",
      "  Iteration 8\t time lapse 0.63633s\t ll change 0.00202\n",
      "  Iteration 9\t time lapse 0.60494s\t ll change 0.00144\n",
      "  Iteration 10\t time lapse 0.61513s\t ll change 0.00108\n",
      "  Iteration 11\t time lapse 0.61692s\t ll change 0.00085\n",
      "Initialization converged: True\t time lapse 8.08962s\t ll 2.76806\n",
      "Initialization 0\n",
      "  Iteration 1\t time lapse 1.58464s\t ll change inf\n",
      "  Iteration 2\t time lapse 0.61722s\t ll change 0.60361\n",
      "  Iteration 3\t time lapse 0.62284s\t ll change 0.02257\n",
      "  Iteration 4\t time lapse 0.61539s\t ll change 0.01465\n",
      "  Iteration 5\t time lapse 0.65091s\t ll change 0.01046\n",
      "  Iteration 6\t time lapse 0.62607s\t ll change 0.00748\n",
      "  Iteration 7\t time lapse 0.61311s\t ll change 0.00520\n",
      "  Iteration 8\t time lapse 0.62677s\t ll change 0.00352\n",
      "  Iteration 9\t time lapse 0.62560s\t ll change 0.00237\n",
      "  Iteration 10\t time lapse 0.61241s\t ll change 0.00163\n",
      "  Iteration 11\t time lapse 0.61552s\t ll change 0.00117\n",
      "  Iteration 12\t time lapse 0.61632s\t ll change 0.00087\n",
      "Initialization converged: True\t time lapse 8.42687s\t ll 1.77236\n",
      "Initialization 0\n",
      "  Iteration 1\t time lapse 1.41972s\t ll change inf\n",
      "  Iteration 2\t time lapse 0.56730s\t ll change 0.55175\n",
      "  Iteration 3\t time lapse 0.57219s\t ll change 0.01792\n",
      "  Iteration 4\t time lapse 0.56613s\t ll change 0.01109\n",
      "  Iteration 5\t time lapse 0.57245s\t ll change 0.00731\n",
      "  Iteration 6\t time lapse 0.56590s\t ll change 0.00486\n",
      "  Iteration 7\t time lapse 0.56533s\t ll change 0.00327\n",
      "  Iteration 8\t time lapse 0.56215s\t ll change 0.00224\n",
      "  Iteration 9\t time lapse 0.57809s\t ll change 0.00156\n",
      "  Iteration 10\t time lapse 0.57402s\t ll change 0.00111\n",
      "  Iteration 11\t time lapse 0.56829s\t ll change 0.00080\n",
      "Initialization converged: True\t time lapse 7.11163s\t ll 2.44522\n",
      "Initialization 0\n",
      "  Iteration 1\t time lapse 1.46790s\t ll change inf\n",
      "  Iteration 2\t time lapse 0.56362s\t ll change 0.71022\n",
      "  Iteration 3\t time lapse 0.55569s\t ll change 0.02034\n",
      "  Iteration 4\t time lapse 0.55737s\t ll change 0.01442\n",
      "  Iteration 5\t time lapse 0.55535s\t ll change 0.01151\n",
      "  Iteration 6\t time lapse 0.55686s\t ll change 0.00935\n",
      "  Iteration 7\t time lapse 0.55205s\t ll change 0.00744\n",
      "  Iteration 8\t time lapse 0.56581s\t ll change 0.00572\n",
      "  Iteration 9\t time lapse 0.56241s\t ll change 0.00426\n",
      "  Iteration 10\t time lapse 0.53363s\t ll change 0.00310\n",
      "  Iteration 11\t time lapse 0.56127s\t ll change 0.00224\n",
      "  Iteration 12\t time lapse 0.54713s\t ll change 0.00164\n",
      "  Iteration 13\t time lapse 0.55334s\t ll change 0.00122\n",
      "  Iteration 14\t time lapse 0.54392s\t ll change 0.00093\n",
      "Initialization converged: True\t time lapse 8.67643s\t ll 1.92210\n",
      "Initialization 0\n",
      "  Iteration 1\t time lapse 1.35909s\t ll change inf\n",
      "  Iteration 2\t time lapse 0.59471s\t ll change 0.03722\n",
      "  Iteration 3\t time lapse 0.57919s\t ll change 0.01328\n",
      "  Iteration 4\t time lapse 0.58225s\t ll change 0.00839\n",
      "  Iteration 5\t time lapse 0.58456s\t ll change 0.00642\n",
      "  Iteration 6\t time lapse 0.58779s\t ll change 0.00540\n",
      "  Iteration 7\t time lapse 0.57998s\t ll change 0.00484\n",
      "  Iteration 8\t time lapse 0.57271s\t ll change 0.00456\n",
      "  Iteration 9\t time lapse 0.57488s\t ll change 0.00444\n",
      "  Iteration 10\t time lapse 0.56555s\t ll change 0.00429\n",
      "  Iteration 11\t time lapse 0.59015s\t ll change 0.00389\n",
      "  Iteration 12\t time lapse 0.56966s\t ll change 0.00317\n",
      "  Iteration 13\t time lapse 0.60257s\t ll change 0.00233\n",
      "  Iteration 14\t time lapse 0.59248s\t ll change 0.00160\n",
      "  Iteration 15\t time lapse 0.57537s\t ll change 0.00108\n",
      "Initialization converged: False\t time lapse 9.51099s\t ll 2.63224\n"
     ]
    },
    {
     "name": "stderr",
     "output_type": "stream",
     "text": [
      "/home/av/.local/lib/python3.10/site-packages/sklearn/mixture/_base.py:274: ConvergenceWarning: Initialization 1 did not converge. Try different init parameters, or increase max_iter, tol or check for degenerate data.\n",
      "  warnings.warn(\n",
      "100%|██████████| 600/600 [00:18<00:00, 31.93it/s]\n",
      "/home/av/IST/slp-labs/LAB2/pf_tools.py:89: UserWarning: The feature directory already exists, and no new feature extraction will be performed.\n",
      "  warnings.warn(\"The feature directory already exists, and no new feature extraction will be performed.\")\n"
     ]
    },
    {
     "name": "stdout",
     "output_type": "stream",
     "text": [
      "Accuracy Score = 0.5566666666666666\n",
      "\n",
      "\n",
      "Combination 5\n",
      "Initialization 0\n",
      "  Iteration 1\t time lapse 2.80747s\t ll change inf\n",
      "  Iteration 2\t time lapse 0.96528s\t ll change 0.49508\n",
      "  Iteration 3\t time lapse 0.96591s\t ll change 0.01491\n",
      "  Iteration 4\t time lapse 0.99692s\t ll change 0.00857\n",
      "  Iteration 5\t time lapse 0.97327s\t ll change 0.00599\n",
      "  Iteration 6\t time lapse 0.98939s\t ll change 0.00459\n",
      "  Iteration 7\t time lapse 0.98812s\t ll change 0.00372\n",
      "  Iteration 8\t time lapse 0.99226s\t ll change 0.00313\n",
      "  Iteration 9\t time lapse 0.94854s\t ll change 0.00268\n",
      "  Iteration 10\t time lapse 0.96569s\t ll change 0.00230\n",
      "  Iteration 11\t time lapse 0.97027s\t ll change 0.00194\n",
      "  Iteration 12\t time lapse 0.97309s\t ll change 0.00160\n",
      "  Iteration 13\t time lapse 0.95154s\t ll change 0.00131\n",
      "  Iteration 14\t time lapse 0.95270s\t ll change 0.00112\n",
      "  Iteration 15\t time lapse 0.96247s\t ll change 0.00103\n",
      "Initialization converged: False\t time lapse 16.40332s\t ll 2.68278\n"
     ]
    },
    {
     "name": "stderr",
     "output_type": "stream",
     "text": [
      "/home/av/.local/lib/python3.10/site-packages/sklearn/mixture/_base.py:274: ConvergenceWarning: Initialization 1 did not converge. Try different init parameters, or increase max_iter, tol or check for degenerate data.\n",
      "  warnings.warn(\n"
     ]
    },
    {
     "name": "stdout",
     "output_type": "stream",
     "text": [
      "Initialization 0\n",
      "  Iteration 1\t time lapse 3.04355s\t ll change inf\n",
      "  Iteration 2\t time lapse 1.05940s\t ll change 0.50387\n",
      "  Iteration 3\t time lapse 1.06749s\t ll change 0.01894\n",
      "  Iteration 4\t time lapse 1.07842s\t ll change 0.01168\n",
      "  Iteration 5\t time lapse 1.10607s\t ll change 0.00841\n",
      "  Iteration 6\t time lapse 1.08119s\t ll change 0.00644\n",
      "  Iteration 7\t time lapse 1.08611s\t ll change 0.00507\n",
      "  Iteration 8\t time lapse 1.05999s\t ll change 0.00406\n",
      "  Iteration 9\t time lapse 1.04343s\t ll change 0.00328\n",
      "  Iteration 10\t time lapse 1.03957s\t ll change 0.00269\n",
      "  Iteration 11\t time lapse 1.04504s\t ll change 0.00224\n",
      "  Iteration 12\t time lapse 1.02985s\t ll change 0.00188\n",
      "  Iteration 13\t time lapse 1.04254s\t ll change 0.00160\n",
      "  Iteration 14\t time lapse 1.05807s\t ll change 0.00136\n",
      "  Iteration 15\t time lapse 1.02524s\t ll change 0.00115\n",
      "Initialization converged: False\t time lapse 17.86609s\t ll 2.90339\n"
     ]
    },
    {
     "name": "stderr",
     "output_type": "stream",
     "text": [
      "/home/av/.local/lib/python3.10/site-packages/sklearn/mixture/_base.py:274: ConvergenceWarning: Initialization 1 did not converge. Try different init parameters, or increase max_iter, tol or check for degenerate data.\n",
      "  warnings.warn(\n"
     ]
    },
    {
     "name": "stdout",
     "output_type": "stream",
     "text": [
      "Initialization 0\n",
      "  Iteration 1\t time lapse 2.76194s\t ll change inf\n",
      "  Iteration 2\t time lapse 1.15613s\t ll change 0.50984\n",
      "  Iteration 3\t time lapse 1.08215s\t ll change 0.02017\n",
      "  Iteration 4\t time lapse 1.12216s\t ll change 0.01401\n",
      "  Iteration 5\t time lapse 1.07008s\t ll change 0.01202\n",
      "  Iteration 6\t time lapse 1.08337s\t ll change 0.01148\n",
      "  Iteration 7\t time lapse 1.10284s\t ll change 0.01053\n",
      "  Iteration 8\t time lapse 1.12863s\t ll change 0.00879\n",
      "  Iteration 9\t time lapse 1.21474s\t ll change 0.00717\n",
      "  Iteration 10\t time lapse 1.11907s\t ll change 0.00591\n",
      "  Iteration 11\t time lapse 1.20442s\t ll change 0.00473\n",
      "  Iteration 12\t time lapse 1.08502s\t ll change 0.00358\n",
      "  Iteration 13\t time lapse 1.08565s\t ll change 0.00267\n",
      "  Iteration 14\t time lapse 1.12551s\t ll change 0.00203\n",
      "  Iteration 15\t time lapse 1.14041s\t ll change 0.00161\n",
      "Initialization converged: False\t time lapse 18.48253s\t ll 1.93385\n"
     ]
    },
    {
     "name": "stderr",
     "output_type": "stream",
     "text": [
      "/home/av/.local/lib/python3.10/site-packages/sklearn/mixture/_base.py:274: ConvergenceWarning: Initialization 1 did not converge. Try different init parameters, or increase max_iter, tol or check for degenerate data.\n",
      "  warnings.warn(\n"
     ]
    },
    {
     "name": "stdout",
     "output_type": "stream",
     "text": [
      "Initialization 0\n",
      "  Iteration 1\t time lapse 2.40353s\t ll change inf\n",
      "  Iteration 2\t time lapse 0.99465s\t ll change 0.49270\n",
      "  Iteration 3\t time lapse 0.95891s\t ll change 0.01962\n",
      "  Iteration 4\t time lapse 0.97687s\t ll change 0.01376\n",
      "  Iteration 5\t time lapse 0.96424s\t ll change 0.01121\n",
      "  Iteration 6\t time lapse 0.98515s\t ll change 0.00941\n",
      "  Iteration 7\t time lapse 0.98696s\t ll change 0.00794\n",
      "  Iteration 8\t time lapse 1.00522s\t ll change 0.00667\n",
      "  Iteration 9\t time lapse 1.02181s\t ll change 0.00553\n",
      "  Iteration 10\t time lapse 0.99571s\t ll change 0.00450\n",
      "  Iteration 11\t time lapse 0.97737s\t ll change 0.00362\n",
      "  Iteration 12\t time lapse 0.99358s\t ll change 0.00293\n",
      "  Iteration 13\t time lapse 0.97585s\t ll change 0.00242\n",
      "  Iteration 14\t time lapse 0.95700s\t ll change 0.00205\n",
      "  Iteration 15\t time lapse 0.95723s\t ll change 0.00176\n",
      "Initialization converged: False\t time lapse 16.15419s\t ll 2.57426\n"
     ]
    },
    {
     "name": "stderr",
     "output_type": "stream",
     "text": [
      "/home/av/.local/lib/python3.10/site-packages/sklearn/mixture/_base.py:274: ConvergenceWarning: Initialization 1 did not converge. Try different init parameters, or increase max_iter, tol or check for degenerate data.\n",
      "  warnings.warn(\n"
     ]
    },
    {
     "name": "stdout",
     "output_type": "stream",
     "text": [
      "Initialization 0\n",
      "  Iteration 1\t time lapse 3.03549s\t ll change inf\n",
      "  Iteration 2\t time lapse 0.89659s\t ll change 0.59922\n",
      "  Iteration 3\t time lapse 0.89627s\t ll change 0.02031\n",
      "  Iteration 4\t time lapse 0.90220s\t ll change 0.01271\n",
      "  Iteration 5\t time lapse 0.90864s\t ll change 0.00909\n",
      "  Iteration 6\t time lapse 0.89099s\t ll change 0.00698\n",
      "  Iteration 7\t time lapse 0.90706s\t ll change 0.00566\n",
      "  Iteration 8\t time lapse 0.91711s\t ll change 0.00480\n",
      "  Iteration 9\t time lapse 0.90075s\t ll change 0.00424\n",
      "  Iteration 10\t time lapse 0.92848s\t ll change 0.00389\n",
      "  Iteration 11\t time lapse 0.93962s\t ll change 0.00370\n",
      "  Iteration 12\t time lapse 0.89380s\t ll change 0.00357\n",
      "  Iteration 13\t time lapse 0.91079s\t ll change 0.00327\n",
      "  Iteration 14\t time lapse 0.89207s\t ll change 0.00267\n",
      "  Iteration 15\t time lapse 0.90251s\t ll change 0.00203\n",
      "Initialization converged: False\t time lapse 15.72274s\t ll 2.03463\n"
     ]
    },
    {
     "name": "stderr",
     "output_type": "stream",
     "text": [
      "/home/av/.local/lib/python3.10/site-packages/sklearn/mixture/_base.py:274: ConvergenceWarning: Initialization 1 did not converge. Try different init parameters, or increase max_iter, tol or check for degenerate data.\n",
      "  warnings.warn(\n"
     ]
    },
    {
     "name": "stdout",
     "output_type": "stream",
     "text": [
      "Initialization 0\n",
      "  Iteration 1\t time lapse 2.76853s\t ll change inf\n",
      "  Iteration 2\t time lapse 0.95634s\t ll change 0.04975\n",
      "  Iteration 3\t time lapse 0.95951s\t ll change 0.01930\n",
      "  Iteration 4\t time lapse 0.95432s\t ll change 0.01356\n",
      "  Iteration 5\t time lapse 0.92536s\t ll change 0.01117\n",
      "  Iteration 6\t time lapse 0.93880s\t ll change 0.00940\n",
      "  Iteration 7\t time lapse 0.95533s\t ll change 0.00768\n",
      "  Iteration 8\t time lapse 0.94071s\t ll change 0.00603\n",
      "  Iteration 9\t time lapse 0.92503s\t ll change 0.00462\n",
      "  Iteration 10\t time lapse 0.94524s\t ll change 0.00354\n",
      "  Iteration 11\t time lapse 0.99576s\t ll change 0.00279\n",
      "  Iteration 12\t time lapse 1.05665s\t ll change 0.00228\n",
      "  Iteration 13\t time lapse 0.93696s\t ll change 0.00193\n",
      "  Iteration 14\t time lapse 0.98227s\t ll change 0.00167\n",
      "  Iteration 15\t time lapse 0.93430s\t ll change 0.00147\n",
      "Initialization converged: False\t time lapse 16.17546s\t ll 2.77888\n"
     ]
    },
    {
     "name": "stderr",
     "output_type": "stream",
     "text": [
      "/home/av/.local/lib/python3.10/site-packages/sklearn/mixture/_base.py:274: ConvergenceWarning: Initialization 1 did not converge. Try different init parameters, or increase max_iter, tol or check for degenerate data.\n",
      "  warnings.warn(\n",
      "100%|██████████| 600/600 [00:29<00:00, 20.20it/s]\n",
      "/home/av/IST/slp-labs/LAB2/pf_tools.py:89: UserWarning: The feature directory already exists, and no new feature extraction will be performed.\n",
      "  warnings.warn(\"The feature directory already exists, and no new feature extraction will be performed.\")\n"
     ]
    },
    {
     "name": "stdout",
     "output_type": "stream",
     "text": [
      "Accuracy Score = 0.595\n",
      "\n",
      "\n",
      "Combination 6\n",
      "Initialization 0\n",
      "  Iteration 1\t time lapse 5.40017s\t ll change inf\n",
      "  Iteration 2\t time lapse 1.53493s\t ll change 0.43770\n",
      "  Iteration 3\t time lapse 1.55044s\t ll change 0.01959\n",
      "  Iteration 4\t time lapse 1.50795s\t ll change 0.01170\n",
      "  Iteration 5\t time lapse 1.52716s\t ll change 0.00828\n",
      "  Iteration 6\t time lapse 1.52771s\t ll change 0.00614\n",
      "  Iteration 7\t time lapse 1.57366s\t ll change 0.00473\n",
      "  Iteration 8\t time lapse 1.50258s\t ll change 0.00376\n",
      "  Iteration 9\t time lapse 1.53768s\t ll change 0.00305\n",
      "  Iteration 10\t time lapse 1.50636s\t ll change 0.00253\n",
      "  Iteration 11\t time lapse 1.53512s\t ll change 0.00214\n",
      "  Iteration 12\t time lapse 1.53175s\t ll change 0.00185\n",
      "  Iteration 13\t time lapse 1.54067s\t ll change 0.00163\n",
      "  Iteration 14\t time lapse 1.54914s\t ll change 0.00146\n",
      "  Iteration 15\t time lapse 1.58287s\t ll change 0.00133\n",
      "Initialization converged: False\t time lapse 26.90862s\t ll 2.79224\n"
     ]
    },
    {
     "name": "stderr",
     "output_type": "stream",
     "text": [
      "/home/av/.local/lib/python3.10/site-packages/sklearn/mixture/_base.py:274: ConvergenceWarning: Initialization 1 did not converge. Try different init parameters, or increase max_iter, tol or check for degenerate data.\n",
      "  warnings.warn(\n"
     ]
    },
    {
     "name": "stdout",
     "output_type": "stream",
     "text": [
      "Initialization 0\n",
      "  Iteration 1\t time lapse 5.86705s\t ll change inf\n",
      "  Iteration 2\t time lapse 2.21368s\t ll change 0.33039\n",
      "  Iteration 3\t time lapse 1.86707s\t ll change 0.01845\n",
      "  Iteration 4\t time lapse 1.93069s\t ll change 0.01061\n",
      "  Iteration 5\t time lapse 1.90686s\t ll change 0.00757\n",
      "  Iteration 6\t time lapse 1.91111s\t ll change 0.00591\n",
      "  Iteration 7\t time lapse 1.88567s\t ll change 0.00480\n",
      "  Iteration 8\t time lapse 1.90264s\t ll change 0.00400\n",
      "  Iteration 9\t time lapse 1.87382s\t ll change 0.00340\n",
      "  Iteration 10\t time lapse 1.91771s\t ll change 0.00295\n",
      "  Iteration 11\t time lapse 1.91632s\t ll change 0.00264\n",
      "  Iteration 12\t time lapse 1.89618s\t ll change 0.00243\n",
      "  Iteration 13\t time lapse 1.90820s\t ll change 0.00232\n",
      "  Iteration 14\t time lapse 1.88865s\t ll change 0.00227\n",
      "  Iteration 15\t time lapse 1.88955s\t ll change 0.00225\n",
      "Initialization converged: False\t time lapse 32.77561s\t ll 2.97797\n"
     ]
    },
    {
     "name": "stderr",
     "output_type": "stream",
     "text": [
      "/home/av/.local/lib/python3.10/site-packages/sklearn/mixture/_base.py:274: ConvergenceWarning: Initialization 1 did not converge. Try different init parameters, or increase max_iter, tol or check for degenerate data.\n",
      "  warnings.warn(\n"
     ]
    },
    {
     "name": "stdout",
     "output_type": "stream",
     "text": [
      "Initialization 0\n",
      "  Iteration 1\t time lapse 5.80805s\t ll change inf\n",
      "  Iteration 2\t time lapse 2.05715s\t ll change 0.42412\n",
      "  Iteration 3\t time lapse 2.11582s\t ll change 0.02489\n",
      "  Iteration 4\t time lapse 2.06572s\t ll change 0.01734\n",
      "  Iteration 5\t time lapse 2.09182s\t ll change 0.01446\n",
      "  Iteration 6\t time lapse 2.16763s\t ll change 0.01196\n",
      "  Iteration 7\t time lapse 2.10805s\t ll change 0.00890\n",
      "  Iteration 8\t time lapse 2.13774s\t ll change 0.00599\n",
      "  Iteration 9\t time lapse 2.06989s\t ll change 0.00405\n",
      "  Iteration 10\t time lapse 2.14122s\t ll change 0.00295\n",
      "  Iteration 11\t time lapse 2.10204s\t ll change 0.00230\n",
      "  Iteration 12\t time lapse 2.20397s\t ll change 0.00190\n",
      "  Iteration 13\t time lapse 2.10054s\t ll change 0.00162\n",
      "  Iteration 14\t time lapse 2.09557s\t ll change 0.00143\n",
      "  Iteration 15\t time lapse 2.07030s\t ll change 0.00128\n",
      "Initialization converged: False\t time lapse 35.33593s\t ll 2.04107\n"
     ]
    },
    {
     "name": "stderr",
     "output_type": "stream",
     "text": [
      "/home/av/.local/lib/python3.10/site-packages/sklearn/mixture/_base.py:274: ConvergenceWarning: Initialization 1 did not converge. Try different init parameters, or increase max_iter, tol or check for degenerate data.\n",
      "  warnings.warn(\n"
     ]
    },
    {
     "name": "stdout",
     "output_type": "stream",
     "text": [
      "Initialization 0\n",
      "  Iteration 1\t time lapse 4.99356s\t ll change inf\n",
      "  Iteration 2\t time lapse 1.59452s\t ll change 0.39968\n",
      "  Iteration 3\t time lapse 1.54257s\t ll change 0.01924\n",
      "  Iteration 4\t time lapse 1.58975s\t ll change 0.01124\n",
      "  Iteration 5\t time lapse 1.58379s\t ll change 0.00813\n",
      "  Iteration 6\t time lapse 1.55639s\t ll change 0.00656\n",
      "  Iteration 7\t time lapse 1.54471s\t ll change 0.00571\n",
      "  Iteration 8\t time lapse 1.55259s\t ll change 0.00518\n",
      "  Iteration 9\t time lapse 1.60224s\t ll change 0.00476\n",
      "  Iteration 10\t time lapse 1.53283s\t ll change 0.00437\n",
      "  Iteration 11\t time lapse 1.55367s\t ll change 0.00412\n",
      "  Iteration 12\t time lapse 1.57551s\t ll change 0.00394\n",
      "  Iteration 13\t time lapse 1.65607s\t ll change 0.00369\n",
      "  Iteration 14\t time lapse 1.54341s\t ll change 0.00346\n",
      "  Iteration 15\t time lapse 1.56100s\t ll change 0.00337\n",
      "Initialization converged: False\t time lapse 26.98306s\t ll 2.66908\n"
     ]
    },
    {
     "name": "stderr",
     "output_type": "stream",
     "text": [
      "/home/av/.local/lib/python3.10/site-packages/sklearn/mixture/_base.py:274: ConvergenceWarning: Initialization 1 did not converge. Try different init parameters, or increase max_iter, tol or check for degenerate data.\n",
      "  warnings.warn(\n"
     ]
    },
    {
     "name": "stdout",
     "output_type": "stream",
     "text": [
      "Initialization 0\n",
      "  Iteration 1\t time lapse 5.34981s\t ll change inf\n",
      "  Iteration 2\t time lapse 1.41407s\t ll change 0.53725\n",
      "  Iteration 3\t time lapse 1.48735s\t ll change 0.01922\n",
      "  Iteration 4\t time lapse 1.43994s\t ll change 0.01117\n",
      "  Iteration 5\t time lapse 1.49747s\t ll change 0.00793\n",
      "  Iteration 6\t time lapse 1.44749s\t ll change 0.00620\n",
      "  Iteration 7\t time lapse 1.42691s\t ll change 0.00508\n",
      "  Iteration 8\t time lapse 1.46707s\t ll change 0.00427\n",
      "  Iteration 9\t time lapse 1.45941s\t ll change 0.00364\n",
      "  Iteration 10\t time lapse 1.46776s\t ll change 0.00314\n",
      "  Iteration 11\t time lapse 1.44782s\t ll change 0.00270\n",
      "  Iteration 12\t time lapse 1.45057s\t ll change 0.00235\n",
      "  Iteration 13\t time lapse 1.47713s\t ll change 0.00207\n",
      "  Iteration 14\t time lapse 1.46277s\t ll change 0.00187\n",
      "  Iteration 15\t time lapse 1.46130s\t ll change 0.00174\n",
      "Initialization converged: False\t time lapse 25.75700s\t ll 2.11046\n"
     ]
    },
    {
     "name": "stderr",
     "output_type": "stream",
     "text": [
      "/home/av/.local/lib/python3.10/site-packages/sklearn/mixture/_base.py:274: ConvergenceWarning: Initialization 1 did not converge. Try different init parameters, or increase max_iter, tol or check for degenerate data.\n",
      "  warnings.warn(\n"
     ]
    },
    {
     "name": "stdout",
     "output_type": "stream",
     "text": [
      "Initialization 0\n",
      "  Iteration 1\t time lapse 5.91069s\t ll change inf\n",
      "  Iteration 2\t time lapse 1.60643s\t ll change 0.06053\n",
      "  Iteration 3\t time lapse 1.52823s\t ll change 0.02130\n",
      "  Iteration 4\t time lapse 1.55209s\t ll change 0.01239\n",
      "  Iteration 5\t time lapse 1.50516s\t ll change 0.00855\n",
      "  Iteration 6\t time lapse 1.54029s\t ll change 0.00631\n",
      "  Iteration 7\t time lapse 1.52148s\t ll change 0.00488\n",
      "  Iteration 8\t time lapse 1.55301s\t ll change 0.00397\n",
      "  Iteration 9\t time lapse 1.57475s\t ll change 0.00340\n",
      "  Iteration 10\t time lapse 1.54141s\t ll change 0.00303\n",
      "  Iteration 11\t time lapse 1.56799s\t ll change 0.00275\n",
      "  Iteration 12\t time lapse 1.51400s\t ll change 0.00252\n",
      "  Iteration 13\t time lapse 1.51394s\t ll change 0.00231\n",
      "  Iteration 14\t time lapse 1.50098s\t ll change 0.00212\n",
      "  Iteration 15\t time lapse 1.51547s\t ll change 0.00192\n",
      "Initialization converged: False\t time lapse 27.44603s\t ll 2.87075\n"
     ]
    },
    {
     "name": "stderr",
     "output_type": "stream",
     "text": [
      "/home/av/.local/lib/python3.10/site-packages/sklearn/mixture/_base.py:274: ConvergenceWarning: Initialization 1 did not converge. Try different init parameters, or increase max_iter, tol or check for degenerate data.\n",
      "  warnings.warn(\n",
      "100%|██████████| 600/600 [00:49<00:00, 12.05it/s]\n",
      "/home/av/IST/slp-labs/LAB2/pf_tools.py:89: UserWarning: The feature directory already exists, and no new feature extraction will be performed.\n",
      "  warnings.warn(\"The feature directory already exists, and no new feature extraction will be performed.\")\n"
     ]
    },
    {
     "name": "stdout",
     "output_type": "stream",
     "text": [
      "Accuracy Score = 0.625\n",
      "\n",
      "\n",
      "Combination 7\n",
      "Initialization 0\n",
      "  Iteration 1\t time lapse 1.35509s\t ll change inf\n",
      "  Iteration 2\t time lapse 0.58254s\t ll change 0.51830\n",
      "  Iteration 3\t time lapse 0.57812s\t ll change 0.01579\n",
      "  Iteration 4\t time lapse 0.57925s\t ll change 0.01133\n",
      "  Iteration 5\t time lapse 0.58642s\t ll change 0.00920\n",
      "  Iteration 6\t time lapse 0.58013s\t ll change 0.00726\n",
      "  Iteration 7\t time lapse 0.57917s\t ll change 0.00544\n",
      "  Iteration 8\t time lapse 0.58882s\t ll change 0.00396\n",
      "  Iteration 9\t time lapse 0.58510s\t ll change 0.00289\n",
      "  Iteration 10\t time lapse 0.57681s\t ll change 0.00216\n",
      "  Iteration 11\t time lapse 0.57382s\t ll change 0.00166\n",
      "  Iteration 12\t time lapse 0.57007s\t ll change 0.00130\n",
      "  Iteration 13\t time lapse 0.57253s\t ll change 0.00104\n",
      "  Iteration 14\t time lapse 0.56742s\t ll change 0.00085\n",
      "Initialization converged: True\t time lapse 8.87536s\t ll 2.56137\n",
      "Initialization 0\n",
      "  Iteration 1\t time lapse 1.40789s\t ll change inf\n",
      "  Iteration 2\t time lapse 0.61534s\t ll change 0.65817\n",
      "  Iteration 3\t time lapse 0.62702s\t ll change 0.01714\n",
      "  Iteration 4\t time lapse 0.61076s\t ll change 0.01015\n",
      "  Iteration 5\t time lapse 0.61924s\t ll change 0.00650\n",
      "  Iteration 6\t time lapse 0.61447s\t ll change 0.00422\n",
      "  Iteration 7\t time lapse 0.63169s\t ll change 0.00278\n",
      "  Iteration 8\t time lapse 0.61967s\t ll change 0.00189\n",
      "  Iteration 9\t time lapse 0.62087s\t ll change 0.00134\n",
      "  Iteration 10\t time lapse 0.66519s\t ll change 0.00100\n",
      "Initialization converged: True\t time lapse 7.03221s\t ll 2.76819\n",
      "Initialization 0\n",
      "  Iteration 1\t time lapse 1.53524s\t ll change inf\n",
      "  Iteration 2\t time lapse 0.63374s\t ll change 0.62337\n",
      "  Iteration 3\t time lapse 0.62591s\t ll change 0.02275\n",
      "  Iteration 4\t time lapse 0.63199s\t ll change 0.01446\n",
      "  Iteration 5\t time lapse 0.64026s\t ll change 0.01019\n",
      "  Iteration 6\t time lapse 0.63230s\t ll change 0.00719\n",
      "  Iteration 7\t time lapse 0.62341s\t ll change 0.00489\n",
      "  Iteration 8\t time lapse 0.63227s\t ll change 0.00319\n",
      "  Iteration 9\t time lapse 0.61764s\t ll change 0.00205\n",
      "  Iteration 10\t time lapse 0.61923s\t ll change 0.00134\n",
      "  Iteration 11\t time lapse 0.62707s\t ll change 0.00090\n",
      "Initialization converged: True\t time lapse 7.81912s\t ll 1.77296\n",
      "Initialization 0\n",
      "  Iteration 1\t time lapse 1.58344s\t ll change inf\n",
      "  Iteration 2\t time lapse 0.58357s\t ll change 0.55424\n",
      "  Iteration 3\t time lapse 0.58587s\t ll change 0.01798\n",
      "  Iteration 4\t time lapse 0.58159s\t ll change 0.01112\n",
      "  Iteration 5\t time lapse 0.58248s\t ll change 0.00732\n",
      "  Iteration 6\t time lapse 0.57868s\t ll change 0.00485\n",
      "  Iteration 7\t time lapse 0.58229s\t ll change 0.00325\n",
      "  Iteration 8\t time lapse 0.58376s\t ll change 0.00221\n",
      "  Iteration 9\t time lapse 0.58065s\t ll change 0.00153\n",
      "  Iteration 10\t time lapse 0.57835s\t ll change 0.00108\n",
      "  Iteration 11\t time lapse 0.58099s\t ll change 0.00077\n",
      "Initialization converged: True\t time lapse 7.40172s\t ll 2.44536\n",
      "Initialization 0\n",
      "  Iteration 1\t time lapse 1.28495s\t ll change inf\n",
      "  Iteration 2\t time lapse 0.54557s\t ll change 0.70679\n",
      "  Iteration 3\t time lapse 0.55028s\t ll change 0.02026\n",
      "  Iteration 4\t time lapse 0.54250s\t ll change 0.01444\n",
      "  Iteration 5\t time lapse 0.56012s\t ll change 0.01151\n",
      "  Iteration 6\t time lapse 0.53212s\t ll change 0.00930\n",
      "  Iteration 7\t time lapse 0.53229s\t ll change 0.00735\n",
      "  Iteration 8\t time lapse 0.53557s\t ll change 0.00563\n",
      "  Iteration 9\t time lapse 0.54123s\t ll change 0.00419\n",
      "  Iteration 10\t time lapse 0.54813s\t ll change 0.00308\n",
      "  Iteration 11\t time lapse 0.54047s\t ll change 0.00226\n",
      "  Iteration 12\t time lapse 0.52939s\t ll change 0.00168\n",
      "  Iteration 13\t time lapse 0.54710s\t ll change 0.00127\n",
      "  Iteration 14\t time lapse 0.53162s\t ll change 0.00099\n",
      "Initialization converged: True\t time lapse 8.32141s\t ll 1.92172\n",
      "Initialization 0\n",
      "  Iteration 1\t time lapse 1.27640s\t ll change inf\n",
      "  Iteration 2\t time lapse 0.56400s\t ll change 0.03720\n",
      "  Iteration 3\t time lapse 0.57393s\t ll change 0.01324\n",
      "  Iteration 4\t time lapse 0.56649s\t ll change 0.00835\n",
      "  Iteration 5\t time lapse 0.55847s\t ll change 0.00638\n",
      "  Iteration 6\t time lapse 0.57045s\t ll change 0.00534\n",
      "  Iteration 7\t time lapse 0.55612s\t ll change 0.00478\n",
      "  Iteration 8\t time lapse 0.56436s\t ll change 0.00450\n",
      "  Iteration 9\t time lapse 0.55852s\t ll change 0.00438\n",
      "  Iteration 10\t time lapse 0.56347s\t ll change 0.00427\n",
      "  Iteration 11\t time lapse 0.56788s\t ll change 0.00393\n",
      "  Iteration 12\t time lapse 0.56013s\t ll change 0.00327\n",
      "  Iteration 13\t time lapse 0.56683s\t ll change 0.00244\n",
      "  Iteration 14\t time lapse 0.57157s\t ll change 0.00169\n",
      "  Iteration 15\t time lapse 0.56416s\t ll change 0.00114\n",
      "Initialization converged: False\t time lapse 9.18284s\t ll 2.63214\n"
     ]
    },
    {
     "name": "stderr",
     "output_type": "stream",
     "text": [
      "/home/av/.local/lib/python3.10/site-packages/sklearn/mixture/_base.py:274: ConvergenceWarning: Initialization 1 did not converge. Try different init parameters, or increase max_iter, tol or check for degenerate data.\n",
      "  warnings.warn(\n",
      "100%|██████████| 600/600 [00:18<00:00, 31.77it/s]\n",
      "/home/av/IST/slp-labs/LAB2/pf_tools.py:89: UserWarning: The feature directory already exists, and no new feature extraction will be performed.\n",
      "  warnings.warn(\"The feature directory already exists, and no new feature extraction will be performed.\")\n"
     ]
    },
    {
     "name": "stdout",
     "output_type": "stream",
     "text": [
      "Accuracy Score = 0.56\n",
      "\n",
      "\n",
      "Combination 8\n",
      "Initialization 0\n",
      "  Iteration 1\t time lapse 2.81255s\t ll change inf\n",
      "  Iteration 2\t time lapse 0.96758s\t ll change 0.49564\n",
      "  Iteration 3\t time lapse 1.00731s\t ll change 0.01570\n",
      "  Iteration 4\t time lapse 0.98184s\t ll change 0.00942\n",
      "  Iteration 5\t time lapse 0.97647s\t ll change 0.00694\n",
      "  Iteration 6\t time lapse 0.96812s\t ll change 0.00565\n",
      "  Iteration 7\t time lapse 0.93215s\t ll change 0.00488\n",
      "  Iteration 8\t time lapse 0.94318s\t ll change 0.00440\n",
      "  Iteration 9\t time lapse 1.04177s\t ll change 0.00405\n",
      "  Iteration 10\t time lapse 0.95093s\t ll change 0.00375\n",
      "  Iteration 11\t time lapse 1.01834s\t ll change 0.00340\n",
      "  Iteration 12\t time lapse 0.97855s\t ll change 0.00295\n",
      "  Iteration 13\t time lapse 1.00896s\t ll change 0.00242\n",
      "  Iteration 14\t time lapse 0.96468s\t ll change 0.00191\n",
      "  Iteration 15\t time lapse 0.99723s\t ll change 0.00151\n",
      "Initialization converged: False\t time lapse 16.54976s\t ll 2.69170\n"
     ]
    },
    {
     "name": "stderr",
     "output_type": "stream",
     "text": [
      "/home/av/.local/lib/python3.10/site-packages/sklearn/mixture/_base.py:274: ConvergenceWarning: Initialization 1 did not converge. Try different init parameters, or increase max_iter, tol or check for degenerate data.\n",
      "  warnings.warn(\n"
     ]
    },
    {
     "name": "stdout",
     "output_type": "stream",
     "text": [
      "Initialization 0\n",
      "  Iteration 1\t time lapse 2.49343s\t ll change inf\n",
      "  Iteration 2\t time lapse 1.02247s\t ll change 0.50354\n",
      "  Iteration 3\t time lapse 1.05092s\t ll change 0.01862\n",
      "  Iteration 4\t time lapse 1.16251s\t ll change 0.01159\n",
      "  Iteration 5\t time lapse 1.28649s\t ll change 0.00829\n",
      "  Iteration 6\t time lapse 1.04789s\t ll change 0.00616\n",
      "  Iteration 7\t time lapse 1.02056s\t ll change 0.00463\n",
      "  Iteration 8\t time lapse 1.08233s\t ll change 0.00349\n",
      "  Iteration 9\t time lapse 1.01902s\t ll change 0.00264\n",
      "  Iteration 10\t time lapse 1.04160s\t ll change 0.00202\n",
      "  Iteration 11\t time lapse 1.04590s\t ll change 0.00158\n",
      "  Iteration 12\t time lapse 1.05635s\t ll change 0.00125\n",
      "  Iteration 13\t time lapse 1.15721s\t ll change 0.00102\n",
      "  Iteration 14\t time lapse 1.07200s\t ll change 0.00084\n",
      "Initialization converged: True\t time lapse 16.55879s\t ll 2.90208\n",
      "Initialization 0\n",
      "  Iteration 1\t time lapse 2.70145s\t ll change inf\n",
      "  Iteration 2\t time lapse 1.08868s\t ll change 0.52113\n",
      "  Iteration 3\t time lapse 1.16152s\t ll change 0.01981\n",
      "  Iteration 4\t time lapse 1.10050s\t ll change 0.01307\n",
      "  Iteration 5\t time lapse 1.10508s\t ll change 0.01040\n",
      "  Iteration 6\t time lapse 1.07819s\t ll change 0.00931\n",
      "  Iteration 7\t time lapse 1.12140s\t ll change 0.00891\n",
      "  Iteration 8\t time lapse 1.09324s\t ll change 0.00844\n",
      "  Iteration 9\t time lapse 1.10333s\t ll change 0.00722\n",
      "  Iteration 10\t time lapse 1.10688s\t ll change 0.00551\n",
      "  Iteration 11\t time lapse 1.10855s\t ll change 0.00409\n",
      "  Iteration 12\t time lapse 1.09156s\t ll change 0.00319\n",
      "  Iteration 13\t time lapse 1.18681s\t ll change 0.00264\n",
      "  Iteration 14\t time lapse 1.14149s\t ll change 0.00230\n",
      "  Iteration 15\t time lapse 1.12388s\t ll change 0.00208\n",
      "Initialization converged: False\t time lapse 18.31293s\t ll 1.92728\n"
     ]
    },
    {
     "name": "stderr",
     "output_type": "stream",
     "text": [
      "/home/av/.local/lib/python3.10/site-packages/sklearn/mixture/_base.py:274: ConvergenceWarning: Initialization 1 did not converge. Try different init parameters, or increase max_iter, tol or check for degenerate data.\n",
      "  warnings.warn(\n"
     ]
    },
    {
     "name": "stdout",
     "output_type": "stream",
     "text": [
      "Initialization 0\n",
      "  Iteration 1\t time lapse 3.02955s\t ll change inf\n",
      "  Iteration 2\t time lapse 0.97004s\t ll change 0.43172\n",
      "  Iteration 3\t time lapse 0.99552s\t ll change 0.02016\n",
      "  Iteration 4\t time lapse 0.99793s\t ll change 0.01291\n",
      "  Iteration 5\t time lapse 0.98890s\t ll change 0.00946\n",
      "  Iteration 6\t time lapse 1.00837s\t ll change 0.00735\n",
      "  Iteration 7\t time lapse 1.00503s\t ll change 0.00600\n",
      "  Iteration 8\t time lapse 0.99123s\t ll change 0.00511\n",
      "  Iteration 9\t time lapse 0.99481s\t ll change 0.00447\n",
      "  Iteration 10\t time lapse 0.99676s\t ll change 0.00396\n",
      "  Iteration 11\t time lapse 1.00880s\t ll change 0.00355\n",
      "  Iteration 12\t time lapse 0.99655s\t ll change 0.00320\n",
      "  Iteration 13\t time lapse 0.99891s\t ll change 0.00290\n",
      "  Iteration 14\t time lapse 0.99403s\t ll change 0.00262\n",
      "  Iteration 15\t time lapse 1.00275s\t ll change 0.00234\n",
      "Initialization converged: False\t time lapse 16.97929s\t ll 2.57362\n"
     ]
    },
    {
     "name": "stderr",
     "output_type": "stream",
     "text": [
      "/home/av/.local/lib/python3.10/site-packages/sklearn/mixture/_base.py:274: ConvergenceWarning: Initialization 1 did not converge. Try different init parameters, or increase max_iter, tol or check for degenerate data.\n",
      "  warnings.warn(\n"
     ]
    },
    {
     "name": "stdout",
     "output_type": "stream",
     "text": [
      "Initialization 0\n",
      "  Iteration 1\t time lapse 2.40533s\t ll change inf\n",
      "  Iteration 2\t time lapse 0.93703s\t ll change 0.59750\n",
      "  Iteration 3\t time lapse 0.93030s\t ll change 0.02051\n",
      "  Iteration 4\t time lapse 0.92998s\t ll change 0.01394\n",
      "  Iteration 5\t time lapse 0.95324s\t ll change 0.01056\n",
      "  Iteration 6\t time lapse 0.92333s\t ll change 0.00819\n",
      "  Iteration 7\t time lapse 0.93185s\t ll change 0.00645\n",
      "  Iteration 8\t time lapse 0.97044s\t ll change 0.00522\n",
      "  Iteration 9\t time lapse 0.97199s\t ll change 0.00439\n",
      "  Iteration 10\t time lapse 0.91572s\t ll change 0.00391\n",
      "  Iteration 11\t time lapse 0.93833s\t ll change 0.00369\n",
      "  Iteration 12\t time lapse 0.94550s\t ll change 0.00360\n",
      "  Iteration 13\t time lapse 0.91847s\t ll change 0.00334\n",
      "  Iteration 14\t time lapse 0.92595s\t ll change 0.00279\n",
      "  Iteration 15\t time lapse 0.94664s\t ll change 0.00224\n",
      "Initialization converged: False\t time lapse 15.54444s\t ll 2.02711\n"
     ]
    },
    {
     "name": "stderr",
     "output_type": "stream",
     "text": [
      "/home/av/.local/lib/python3.10/site-packages/sklearn/mixture/_base.py:274: ConvergenceWarning: Initialization 1 did not converge. Try different init parameters, or increase max_iter, tol or check for degenerate data.\n",
      "  warnings.warn(\n"
     ]
    },
    {
     "name": "stdout",
     "output_type": "stream",
     "text": [
      "Initialization 0\n",
      "  Iteration 1\t time lapse 2.65820s\t ll change inf\n",
      "  Iteration 2\t time lapse 1.13928s\t ll change 0.05140\n",
      "  Iteration 3\t time lapse 1.00495s\t ll change 0.01938\n",
      "  Iteration 4\t time lapse 0.96684s\t ll change 0.01215\n",
      "  Iteration 5\t time lapse 0.97497s\t ll change 0.00884\n",
      "  Iteration 6\t time lapse 0.98957s\t ll change 0.00684\n",
      "  Iteration 7\t time lapse 1.00560s\t ll change 0.00551\n",
      "  Iteration 8\t time lapse 0.98634s\t ll change 0.00458\n",
      "  Iteration 9\t time lapse 1.00360s\t ll change 0.00390\n",
      "  Iteration 10\t time lapse 0.98296s\t ll change 0.00335\n",
      "  Iteration 11\t time lapse 1.00951s\t ll change 0.00287\n",
      "  Iteration 12\t time lapse 0.98884s\t ll change 0.00245\n",
      "  Iteration 13\t time lapse 1.00042s\t ll change 0.00206\n",
      "  Iteration 14\t time lapse 0.98998s\t ll change 0.00171\n",
      "  Iteration 15\t time lapse 1.00516s\t ll change 0.00140\n",
      "Initialization converged: False\t time lapse 16.70659s\t ll 2.78847\n"
     ]
    },
    {
     "name": "stderr",
     "output_type": "stream",
     "text": [
      "/home/av/.local/lib/python3.10/site-packages/sklearn/mixture/_base.py:274: ConvergenceWarning: Initialization 1 did not converge. Try different init parameters, or increase max_iter, tol or check for degenerate data.\n",
      "  warnings.warn(\n",
      "100%|██████████| 600/600 [00:29<00:00, 20.26it/s]\n",
      "/home/av/IST/slp-labs/LAB2/pf_tools.py:89: UserWarning: The feature directory already exists, and no new feature extraction will be performed.\n",
      "  warnings.warn(\"The feature directory already exists, and no new feature extraction will be performed.\")\n"
     ]
    },
    {
     "name": "stdout",
     "output_type": "stream",
     "text": [
      "Accuracy Score = 0.5983333333333334\n",
      "\n",
      "\n",
      "Combination 9\n",
      "Initialization 0\n",
      "  Iteration 1\t time lapse 6.08628s\t ll change inf\n",
      "  Iteration 2\t time lapse 1.60945s\t ll change 0.43709\n",
      "  Iteration 3\t time lapse 1.73914s\t ll change 0.01884\n",
      "  Iteration 4\t time lapse 1.56048s\t ll change 0.01121\n",
      "  Iteration 5\t time lapse 1.54643s\t ll change 0.00794\n",
      "  Iteration 6\t time lapse 1.58196s\t ll change 0.00593\n",
      "  Iteration 7\t time lapse 1.54616s\t ll change 0.00471\n",
      "  Iteration 8\t time lapse 1.58758s\t ll change 0.00395\n",
      "  Iteration 9\t time lapse 1.58169s\t ll change 0.00342\n",
      "  Iteration 10\t time lapse 1.54570s\t ll change 0.00296\n",
      "  Iteration 11\t time lapse 1.57932s\t ll change 0.00250\n",
      "  Iteration 12\t time lapse 1.54449s\t ll change 0.00208\n",
      "  Iteration 13\t time lapse 1.57028s\t ll change 0.00172\n",
      "  Iteration 14\t time lapse 1.58620s\t ll change 0.00143\n",
      "  Iteration 15\t time lapse 1.61808s\t ll change 0.00119\n",
      "Initialization converged: False\t time lapse 28.28366s\t ll 2.79150\n"
     ]
    },
    {
     "name": "stderr",
     "output_type": "stream",
     "text": [
      "/home/av/.local/lib/python3.10/site-packages/sklearn/mixture/_base.py:274: ConvergenceWarning: Initialization 1 did not converge. Try different init parameters, or increase max_iter, tol or check for degenerate data.\n",
      "  warnings.warn(\n"
     ]
    },
    {
     "name": "stdout",
     "output_type": "stream",
     "text": [
      "Initialization 0\n",
      "  Iteration 1\t time lapse 5.53654s\t ll change inf\n",
      "  Iteration 2\t time lapse 1.77017s\t ll change 0.21363\n",
      "  Iteration 3\t time lapse 1.75848s\t ll change 0.01758\n",
      "  Iteration 4\t time lapse 1.79339s\t ll change 0.00996\n",
      "  Iteration 5\t time lapse 1.78029s\t ll change 0.00704\n",
      "  Iteration 6\t time lapse 1.80425s\t ll change 0.00554\n",
      "  Iteration 7\t time lapse 1.76125s\t ll change 0.00459\n",
      "  Iteration 8\t time lapse 1.76317s\t ll change 0.00390\n",
      "  Iteration 9\t time lapse 1.81016s\t ll change 0.00336\n",
      "  Iteration 10\t time lapse 1.82451s\t ll change 0.00294\n",
      "  Iteration 11\t time lapse 1.80598s\t ll change 0.00259\n",
      "  Iteration 12\t time lapse 1.86393s\t ll change 0.00231\n",
      "  Iteration 13\t time lapse 2.04630s\t ll change 0.00208\n",
      "  Iteration 14\t time lapse 1.79221s\t ll change 0.00189\n",
      "  Iteration 15\t time lapse 1.86378s\t ll change 0.00173\n",
      "Initialization converged: False\t time lapse 30.97484s\t ll 2.97013\n"
     ]
    },
    {
     "name": "stderr",
     "output_type": "stream",
     "text": [
      "/home/av/.local/lib/python3.10/site-packages/sklearn/mixture/_base.py:274: ConvergenceWarning: Initialization 1 did not converge. Try different init parameters, or increase max_iter, tol or check for degenerate data.\n",
      "  warnings.warn(\n"
     ]
    },
    {
     "name": "stdout",
     "output_type": "stream",
     "text": [
      "Initialization 0\n",
      "  Iteration 1\t time lapse 6.30441s\t ll change inf\n",
      "  Iteration 2\t time lapse 2.09589s\t ll change 0.45508\n",
      "  Iteration 3\t time lapse 2.00212s\t ll change 0.02710\n",
      "  Iteration 4\t time lapse 1.96877s\t ll change 0.01914\n",
      "  Iteration 5\t time lapse 1.95857s\t ll change 0.01472\n",
      "  Iteration 6\t time lapse 2.00564s\t ll change 0.01112\n",
      "  Iteration 7\t time lapse 1.90535s\t ll change 0.00818\n",
      "  Iteration 8\t time lapse 1.91715s\t ll change 0.00597\n",
      "  Iteration 9\t time lapse 1.91449s\t ll change 0.00444\n",
      "  Iteration 10\t time lapse 1.96480s\t ll change 0.00343\n",
      "  Iteration 11\t time lapse 2.24606s\t ll change 0.00276\n",
      "  Iteration 12\t time lapse 1.94985s\t ll change 0.00232\n",
      "  Iteration 13\t time lapse 2.07839s\t ll change 0.00201\n",
      "  Iteration 14\t time lapse 1.85851s\t ll change 0.00180\n",
      "  Iteration 15\t time lapse 1.98877s\t ll change 0.00166\n",
      "Initialization converged: False\t time lapse 34.15890s\t ll 2.04260\n"
     ]
    },
    {
     "name": "stderr",
     "output_type": "stream",
     "text": [
      "/home/av/.local/lib/python3.10/site-packages/sklearn/mixture/_base.py:274: ConvergenceWarning: Initialization 1 did not converge. Try different init parameters, or increase max_iter, tol or check for degenerate data.\n",
      "  warnings.warn(\n"
     ]
    },
    {
     "name": "stdout",
     "output_type": "stream",
     "text": [
      "Initialization 0\n",
      "  Iteration 1\t time lapse 5.61053s\t ll change inf\n",
      "  Iteration 2\t time lapse 1.58332s\t ll change 0.37511\n",
      "  Iteration 3\t time lapse 1.58079s\t ll change 0.01882\n",
      "  Iteration 4\t time lapse 1.59286s\t ll change 0.01101\n",
      "  Iteration 5\t time lapse 1.60922s\t ll change 0.00800\n",
      "  Iteration 6\t time lapse 1.58379s\t ll change 0.00644\n",
      "  Iteration 7\t time lapse 1.59207s\t ll change 0.00550\n",
      "  Iteration 8\t time lapse 1.54858s\t ll change 0.00484\n",
      "  Iteration 9\t time lapse 1.62944s\t ll change 0.00431\n",
      "  Iteration 10\t time lapse 1.58903s\t ll change 0.00385\n",
      "  Iteration 11\t time lapse 1.58692s\t ll change 0.00350\n",
      "  Iteration 12\t time lapse 1.61673s\t ll change 0.00326\n",
      "  Iteration 13\t time lapse 1.55421s\t ll change 0.00306\n",
      "  Iteration 14\t time lapse 1.56850s\t ll change 0.00291\n",
      "  Iteration 15\t time lapse 1.55263s\t ll change 0.00278\n",
      "Initialization converged: False\t time lapse 27.79874s\t ll 2.65760\n"
     ]
    },
    {
     "name": "stderr",
     "output_type": "stream",
     "text": [
      "/home/av/.local/lib/python3.10/site-packages/sklearn/mixture/_base.py:274: ConvergenceWarning: Initialization 1 did not converge. Try different init parameters, or increase max_iter, tol or check for degenerate data.\n",
      "  warnings.warn(\n"
     ]
    },
    {
     "name": "stdout",
     "output_type": "stream",
     "text": [
      "Initialization 0\n",
      "  Iteration 1\t time lapse 5.97438s\t ll change inf\n",
      "  Iteration 2\t time lapse 1.45982s\t ll change 0.53671\n",
      "  Iteration 3\t time lapse 1.47459s\t ll change 0.01946\n",
      "  Iteration 4\t time lapse 1.45526s\t ll change 0.01182\n",
      "  Iteration 5\t time lapse 1.47226s\t ll change 0.00871\n",
      "  Iteration 6\t time lapse 1.44132s\t ll change 0.00701\n",
      "  Iteration 7\t time lapse 1.42823s\t ll change 0.00591\n",
      "  Iteration 8\t time lapse 1.55128s\t ll change 0.00512\n",
      "  Iteration 9\t time lapse 1.48334s\t ll change 0.00449\n",
      "  Iteration 10\t time lapse 1.50705s\t ll change 0.00395\n",
      "  Iteration 11\t time lapse 1.46183s\t ll change 0.00347\n",
      "  Iteration 12\t time lapse 1.49150s\t ll change 0.00308\n",
      "  Iteration 13\t time lapse 1.45944s\t ll change 0.00280\n",
      "  Iteration 14\t time lapse 1.49664s\t ll change 0.00261\n",
      "  Iteration 15\t time lapse 1.45239s\t ll change 0.00249\n",
      "Initialization converged: False\t time lapse 26.60976s\t ll 2.11693\n"
     ]
    },
    {
     "name": "stderr",
     "output_type": "stream",
     "text": [
      "/home/av/.local/lib/python3.10/site-packages/sklearn/mixture/_base.py:274: ConvergenceWarning: Initialization 1 did not converge. Try different init parameters, or increase max_iter, tol or check for degenerate data.\n",
      "  warnings.warn(\n"
     ]
    },
    {
     "name": "stdout",
     "output_type": "stream",
     "text": [
      "Initialization 0\n",
      "  Iteration 1\t time lapse 5.78104s\t ll change inf\n",
      "  Iteration 2\t time lapse 1.56798s\t ll change 0.05981\n",
      "  Iteration 3\t time lapse 1.54471s\t ll change 0.02124\n",
      "  Iteration 4\t time lapse 1.56422s\t ll change 0.01208\n",
      "  Iteration 5\t time lapse 1.51189s\t ll change 0.00800\n",
      "  Iteration 6\t time lapse 1.55433s\t ll change 0.00582\n",
      "  Iteration 7\t time lapse 1.71109s\t ll change 0.00454\n",
      "  Iteration 8\t time lapse 1.61892s\t ll change 0.00371\n",
      "  Iteration 9\t time lapse 1.55035s\t ll change 0.00313\n",
      "  Iteration 10\t time lapse 1.54714s\t ll change 0.00271\n",
      "  Iteration 11\t time lapse 1.53789s\t ll change 0.00239\n",
      "  Iteration 12\t time lapse 1.58473s\t ll change 0.00214\n",
      "  Iteration 13\t time lapse 1.52486s\t ll change 0.00196\n",
      "  Iteration 14\t time lapse 1.57733s\t ll change 0.00181\n",
      "  Iteration 15\t time lapse 1.52300s\t ll change 0.00170\n",
      "Initialization converged: False\t time lapse 27.69992s\t ll 2.86567\n"
     ]
    },
    {
     "name": "stderr",
     "output_type": "stream",
     "text": [
      "/home/av/.local/lib/python3.10/site-packages/sklearn/mixture/_base.py:274: ConvergenceWarning: Initialization 1 did not converge. Try different init parameters, or increase max_iter, tol or check for degenerate data.\n",
      "  warnings.warn(\n",
      "100%|██████████| 600/600 [00:49<00:00, 12.02it/s]\n",
      "/home/av/IST/slp-labs/LAB2/pf_tools.py:89: UserWarning: The feature directory already exists, and no new feature extraction will be performed.\n",
      "  warnings.warn(\"The feature directory already exists, and no new feature extraction will be performed.\")\n"
     ]
    },
    {
     "name": "stdout",
     "output_type": "stream",
     "text": [
      "Accuracy Score = 0.6216666666666667\n",
      "\n",
      "\n",
      "Combination 10\n",
      "Initialization 0\n",
      "  Iteration 1\t time lapse 1.61617s\t ll change inf\n",
      "  Iteration 2\t time lapse 0.57261s\t ll change 0.51887\n",
      "  Iteration 3\t time lapse 0.58101s\t ll change 0.01620\n",
      "  Iteration 4\t time lapse 0.59494s\t ll change 0.01144\n",
      "  Iteration 5\t time lapse 0.60246s\t ll change 0.00896\n",
      "  Iteration 6\t time lapse 0.58447s\t ll change 0.00682\n",
      "  Iteration 7\t time lapse 0.60362s\t ll change 0.00499\n",
      "  Iteration 8\t time lapse 0.59831s\t ll change 0.00360\n",
      "  Iteration 9\t time lapse 0.57938s\t ll change 0.00264\n",
      "  Iteration 10\t time lapse 0.59389s\t ll change 0.00198\n",
      "  Iteration 11\t time lapse 0.58526s\t ll change 0.00154\n",
      "  Iteration 12\t time lapse 0.58043s\t ll change 0.00122\n",
      "  Iteration 13\t time lapse 0.58057s\t ll change 0.00098\n",
      "Initialization converged: True\t time lapse 8.67317s\t ll 2.56071\n",
      "Initialization 0\n",
      "  Iteration 1\t time lapse 1.89220s\t ll change inf\n",
      "  Iteration 2\t time lapse 0.64409s\t ll change 0.65146\n",
      "  Iteration 3\t time lapse 0.62425s\t ll change 0.01700\n",
      "  Iteration 4\t time lapse 0.67599s\t ll change 0.01022\n",
      "  Iteration 5\t time lapse 0.64722s\t ll change 0.00667\n",
      "  Iteration 6\t time lapse 0.65835s\t ll change 0.00442\n",
      "  Iteration 7\t time lapse 0.65904s\t ll change 0.00296\n",
      "  Iteration 8\t time lapse 0.65995s\t ll change 0.00203\n",
      "  Iteration 9\t time lapse 0.62850s\t ll change 0.00145\n",
      "  Iteration 10\t time lapse 0.64007s\t ll change 0.00108\n",
      "  Iteration 11\t time lapse 0.64949s\t ll change 0.00086\n",
      "Initialization converged: True\t time lapse 8.37923s\t ll 2.76802\n",
      "Initialization 0\n",
      "  Iteration 1\t time lapse 2.29818s\t ll change inf\n",
      "  Iteration 2\t time lapse 0.65428s\t ll change 0.62732\n",
      "  Iteration 3\t time lapse 0.64683s\t ll change 0.02279\n",
      "  Iteration 4\t time lapse 0.62993s\t ll change 0.01448\n",
      "  Iteration 5\t time lapse 0.66675s\t ll change 0.01020\n",
      "  Iteration 6\t time lapse 0.65798s\t ll change 0.00721\n",
      "  Iteration 7\t time lapse 0.64093s\t ll change 0.00490\n",
      "  Iteration 8\t time lapse 0.65232s\t ll change 0.00320\n",
      "  Iteration 9\t time lapse 0.63904s\t ll change 0.00205\n",
      "  Iteration 10\t time lapse 0.63950s\t ll change 0.00133\n",
      "  Iteration 11\t time lapse 0.65064s\t ll change 0.00090\n",
      "Initialization converged: True\t time lapse 8.77644s\t ll 1.77300\n",
      "Initialization 0\n",
      "  Iteration 1\t time lapse 1.32282s\t ll change inf\n",
      "  Iteration 2\t time lapse 0.60879s\t ll change 0.55434\n",
      "  Iteration 3\t time lapse 0.59920s\t ll change 0.01813\n",
      "  Iteration 4\t time lapse 0.59832s\t ll change 0.01129\n",
      "  Iteration 5\t time lapse 0.59397s\t ll change 0.00744\n",
      "  Iteration 6\t time lapse 0.59929s\t ll change 0.00493\n",
      "  Iteration 7\t time lapse 0.58270s\t ll change 0.00328\n",
      "  Iteration 8\t time lapse 0.59794s\t ll change 0.00221\n",
      "  Iteration 9\t time lapse 0.59410s\t ll change 0.00151\n",
      "  Iteration 10\t time lapse 0.58540s\t ll change 0.00106\n",
      "  Iteration 11\t time lapse 0.60028s\t ll change 0.00075\n",
      "Initialization converged: True\t time lapse 7.28288s\t ll 2.44546\n",
      "Initialization 0\n",
      "  Iteration 1\t time lapse 1.39605s\t ll change inf\n",
      "  Iteration 2\t time lapse 0.53607s\t ll change 0.70888\n",
      "  Iteration 3\t time lapse 0.54276s\t ll change 0.02030\n",
      "  Iteration 4\t time lapse 0.53853s\t ll change 0.01448\n",
      "  Iteration 5\t time lapse 0.54400s\t ll change 0.01154\n",
      "  Iteration 6\t time lapse 0.55123s\t ll change 0.00932\n",
      "  Iteration 7\t time lapse 0.53289s\t ll change 0.00736\n",
      "  Iteration 8\t time lapse 0.53727s\t ll change 0.00563\n",
      "  Iteration 9\t time lapse 0.53720s\t ll change 0.00419\n",
      "  Iteration 10\t time lapse 0.53621s\t ll change 0.00308\n",
      "  Iteration 11\t time lapse 0.55871s\t ll change 0.00226\n",
      "  Iteration 12\t time lapse 0.55957s\t ll change 0.00168\n",
      "  Iteration 13\t time lapse 0.53558s\t ll change 0.00127\n",
      "  Iteration 14\t time lapse 0.54656s\t ll change 0.00099\n",
      "Initialization converged: True\t time lapse 8.45271s\t ll 1.92172\n",
      "Initialization 0\n",
      "  Iteration 1\t time lapse 1.68852s\t ll change inf\n",
      "  Iteration 2\t time lapse 0.57503s\t ll change 0.49256\n",
      "  Iteration 3\t time lapse 0.57370s\t ll change 0.01256\n",
      "  Iteration 4\t time lapse 0.57380s\t ll change 0.00693\n",
      "  Iteration 5\t time lapse 0.56755s\t ll change 0.00491\n",
      "  Iteration 6\t time lapse 0.56471s\t ll change 0.00406\n",
      "  Iteration 7\t time lapse 0.56673s\t ll change 0.00373\n",
      "  Iteration 8\t time lapse 0.56716s\t ll change 0.00369\n",
      "  Iteration 9\t time lapse 0.56023s\t ll change 0.00383\n",
      "  Iteration 10\t time lapse 0.58092s\t ll change 0.00410\n",
      "  Iteration 11\t time lapse 0.56575s\t ll change 0.00450\n",
      "  Iteration 12\t time lapse 0.58065s\t ll change 0.00502\n",
      "  Iteration 13\t time lapse 0.58080s\t ll change 0.00560\n",
      "  Iteration 14\t time lapse 0.59790s\t ll change 0.00602\n",
      "  Iteration 15\t time lapse 0.57716s\t ll change 0.00595\n",
      "Initialization converged: False\t time lapse 9.72068s\t ll 2.61348\n"
     ]
    },
    {
     "name": "stderr",
     "output_type": "stream",
     "text": [
      "/home/av/.local/lib/python3.10/site-packages/sklearn/mixture/_base.py:274: ConvergenceWarning: Initialization 1 did not converge. Try different init parameters, or increase max_iter, tol or check for degenerate data.\n",
      "  warnings.warn(\n",
      "100%|██████████| 600/600 [00:19<00:00, 31.49it/s]\n",
      "/home/av/IST/slp-labs/LAB2/pf_tools.py:89: UserWarning: The feature directory already exists, and no new feature extraction will be performed.\n",
      "  warnings.warn(\"The feature directory already exists, and no new feature extraction will be performed.\")\n"
     ]
    },
    {
     "name": "stdout",
     "output_type": "stream",
     "text": [
      "Accuracy Score = 0.555\n",
      "\n",
      "\n",
      "Combination 11\n",
      "Initialization 0\n",
      "  Iteration 1\t time lapse 2.73938s\t ll change inf\n",
      "  Iteration 2\t time lapse 1.00214s\t ll change 0.49892\n",
      "  Iteration 3\t time lapse 0.97808s\t ll change 0.01702\n",
      "  Iteration 4\t time lapse 0.99638s\t ll change 0.01000\n",
      "  Iteration 5\t time lapse 0.98111s\t ll change 0.00716\n",
      "  Iteration 6\t time lapse 0.95884s\t ll change 0.00564\n",
      "  Iteration 7\t time lapse 0.94478s\t ll change 0.00472\n",
      "  Iteration 8\t time lapse 0.98820s\t ll change 0.00413\n",
      "  Iteration 9\t time lapse 0.98033s\t ll change 0.00375\n",
      "  Iteration 10\t time lapse 1.01263s\t ll change 0.00344\n",
      "  Iteration 11\t time lapse 1.16080s\t ll change 0.00315\n",
      "  Iteration 12\t time lapse 0.97713s\t ll change 0.00287\n",
      "  Iteration 13\t time lapse 0.97255s\t ll change 0.00263\n",
      "  Iteration 14\t time lapse 0.95926s\t ll change 0.00240\n",
      "  Iteration 15\t time lapse 0.96467s\t ll change 0.00210\n",
      "Initialization converged: False\t time lapse 16.61639s\t ll 2.69755\n"
     ]
    },
    {
     "name": "stderr",
     "output_type": "stream",
     "text": [
      "/home/av/.local/lib/python3.10/site-packages/sklearn/mixture/_base.py:274: ConvergenceWarning: Initialization 1 did not converge. Try different init parameters, or increase max_iter, tol or check for degenerate data.\n",
      "  warnings.warn(\n"
     ]
    },
    {
     "name": "stdout",
     "output_type": "stream",
     "text": [
      "Initialization 0\n",
      "  Iteration 1\t time lapse 3.26660s\t ll change inf\n",
      "  Iteration 2\t time lapse 1.05247s\t ll change 0.56478\n",
      "  Iteration 3\t time lapse 1.04013s\t ll change 0.01869\n",
      "  Iteration 4\t time lapse 1.03138s\t ll change 0.01177\n",
      "  Iteration 5\t time lapse 1.03466s\t ll change 0.00848\n",
      "  Iteration 6\t time lapse 1.04381s\t ll change 0.00643\n",
      "  Iteration 7\t time lapse 1.02713s\t ll change 0.00501\n",
      "  Iteration 8\t time lapse 1.03731s\t ll change 0.00395\n",
      "  Iteration 9\t time lapse 1.06739s\t ll change 0.00312\n",
      "  Iteration 10\t time lapse 1.05722s\t ll change 0.00248\n",
      "  Iteration 11\t time lapse 1.17103s\t ll change 0.00199\n",
      "  Iteration 12\t time lapse 1.17730s\t ll change 0.00162\n",
      "  Iteration 13\t time lapse 1.07041s\t ll change 0.00135\n",
      "  Iteration 14\t time lapse 1.04858s\t ll change 0.00115\n",
      "  Iteration 15\t time lapse 1.09802s\t ll change 0.00101\n",
      "Initialization converged: False\t time lapse 18.22358s\t ll 2.89791\n"
     ]
    },
    {
     "name": "stderr",
     "output_type": "stream",
     "text": [
      "/home/av/.local/lib/python3.10/site-packages/sklearn/mixture/_base.py:274: ConvergenceWarning: Initialization 1 did not converge. Try different init parameters, or increase max_iter, tol or check for degenerate data.\n",
      "  warnings.warn(\n"
     ]
    },
    {
     "name": "stdout",
     "output_type": "stream",
     "text": [
      "Initialization 0\n",
      "  Iteration 1\t time lapse 2.98959s\t ll change inf\n",
      "  Iteration 2\t time lapse 1.12590s\t ll change 0.50969\n",
      "  Iteration 3\t time lapse 1.12382s\t ll change 0.01990\n",
      "  Iteration 4\t time lapse 1.12489s\t ll change 0.01369\n",
      "  Iteration 5\t time lapse 1.11574s\t ll change 0.01172\n",
      "  Iteration 6\t time lapse 1.13577s\t ll change 0.01143\n",
      "  Iteration 7\t time lapse 1.10469s\t ll change 0.01114\n",
      "  Iteration 8\t time lapse 1.16279s\t ll change 0.00964\n",
      "  Iteration 9\t time lapse 1.11900s\t ll change 0.00742\n",
      "  Iteration 10\t time lapse 1.10932s\t ll change 0.00534\n",
      "  Iteration 11\t time lapse 1.10147s\t ll change 0.00382\n",
      "  Iteration 12\t time lapse 1.09251s\t ll change 0.00284\n",
      "  Iteration 13\t time lapse 1.06530s\t ll change 0.00222\n",
      "  Iteration 14\t time lapse 1.07392s\t ll change 0.00180\n",
      "  Iteration 15\t time lapse 1.07449s\t ll change 0.00150\n",
      "Initialization converged: False\t time lapse 18.51931s\t ll 1.93322\n"
     ]
    },
    {
     "name": "stderr",
     "output_type": "stream",
     "text": [
      "/home/av/.local/lib/python3.10/site-packages/sklearn/mixture/_base.py:274: ConvergenceWarning: Initialization 1 did not converge. Try different init parameters, or increase max_iter, tol or check for degenerate data.\n",
      "  warnings.warn(\n"
     ]
    },
    {
     "name": "stdout",
     "output_type": "stream",
     "text": [
      "Initialization 0\n",
      "  Iteration 1\t time lapse 2.59363s\t ll change inf\n",
      "  Iteration 2\t time lapse 0.98315s\t ll change 0.43011\n",
      "  Iteration 3\t time lapse 0.97673s\t ll change 0.01890\n",
      "  Iteration 4\t time lapse 1.01360s\t ll change 0.01198\n",
      "  Iteration 5\t time lapse 0.98386s\t ll change 0.00894\n",
      "  Iteration 6\t time lapse 1.00953s\t ll change 0.00717\n",
      "  Iteration 7\t time lapse 1.01313s\t ll change 0.00602\n",
      "  Iteration 8\t time lapse 1.14103s\t ll change 0.00524\n",
      "  Iteration 9\t time lapse 0.99056s\t ll change 0.00466\n",
      "  Iteration 10\t time lapse 1.00555s\t ll change 0.00421\n",
      "  Iteration 11\t time lapse 1.00520s\t ll change 0.00385\n",
      "  Iteration 12\t time lapse 0.97810s\t ll change 0.00353\n",
      "  Iteration 13\t time lapse 0.98827s\t ll change 0.00319\n",
      "  Iteration 14\t time lapse 1.01694s\t ll change 0.00284\n",
      "  Iteration 15\t time lapse 1.01530s\t ll change 0.00248\n",
      "Initialization converged: False\t time lapse 16.71470s\t ll 2.56865\n"
     ]
    },
    {
     "name": "stderr",
     "output_type": "stream",
     "text": [
      "/home/av/.local/lib/python3.10/site-packages/sklearn/mixture/_base.py:274: ConvergenceWarning: Initialization 1 did not converge. Try different init parameters, or increase max_iter, tol or check for degenerate data.\n",
      "  warnings.warn(\n"
     ]
    },
    {
     "name": "stdout",
     "output_type": "stream",
     "text": [
      "Initialization 0\n",
      "  Iteration 1\t time lapse 2.36560s\t ll change inf\n",
      "  Iteration 2\t time lapse 0.91425s\t ll change 0.60175\n",
      "  Iteration 3\t time lapse 0.91426s\t ll change 0.02067\n",
      "  Iteration 4\t time lapse 0.90686s\t ll change 0.01309\n",
      "  Iteration 5\t time lapse 0.91295s\t ll change 0.00933\n",
      "  Iteration 6\t time lapse 0.94416s\t ll change 0.00700\n",
      "  Iteration 7\t time lapse 0.90930s\t ll change 0.00547\n",
      "  Iteration 8\t time lapse 0.94431s\t ll change 0.00446\n",
      "  Iteration 9\t time lapse 0.91990s\t ll change 0.00384\n",
      "  Iteration 10\t time lapse 0.89909s\t ll change 0.00350\n",
      "  Iteration 11\t time lapse 0.92479s\t ll change 0.00335\n",
      "  Iteration 12\t time lapse 0.90167s\t ll change 0.00330\n",
      "  Iteration 13\t time lapse 0.91424s\t ll change 0.00324\n",
      "  Iteration 14\t time lapse 0.92104s\t ll change 0.00302\n",
      "  Iteration 15\t time lapse 0.91325s\t ll change 0.00257\n",
      "Initialization converged: False\t time lapse 15.20603s\t ll 2.02808\n"
     ]
    },
    {
     "name": "stderr",
     "output_type": "stream",
     "text": [
      "/home/av/.local/lib/python3.10/site-packages/sklearn/mixture/_base.py:274: ConvergenceWarning: Initialization 1 did not converge. Try different init parameters, or increase max_iter, tol or check for degenerate data.\n",
      "  warnings.warn(\n"
     ]
    },
    {
     "name": "stdout",
     "output_type": "stream",
     "text": [
      "Initialization 0\n",
      "  Iteration 1\t time lapse 3.15955s\t ll change inf\n",
      "  Iteration 2\t time lapse 0.94840s\t ll change 0.05158\n",
      "  Iteration 3\t time lapse 0.94272s\t ll change 0.01944\n",
      "  Iteration 4\t time lapse 0.98071s\t ll change 0.01222\n",
      "  Iteration 5\t time lapse 0.94123s\t ll change 0.00890\n",
      "  Iteration 6\t time lapse 1.11018s\t ll change 0.00686\n",
      "  Iteration 7\t time lapse 1.01413s\t ll change 0.00550\n",
      "  Iteration 8\t time lapse 0.96192s\t ll change 0.00456\n",
      "  Iteration 9\t time lapse 0.98205s\t ll change 0.00389\n",
      "  Iteration 10\t time lapse 0.97146s\t ll change 0.00337\n",
      "  Iteration 11\t time lapse 0.93042s\t ll change 0.00293\n",
      "  Iteration 12\t time lapse 0.93195s\t ll change 0.00252\n",
      "  Iteration 13\t time lapse 0.97464s\t ll change 0.00214\n",
      "  Iteration 14\t time lapse 0.96996s\t ll change 0.00178\n",
      "  Iteration 15\t time lapse 0.96187s\t ll change 0.00145\n",
      "Initialization converged: False\t time lapse 16.78158s\t ll 2.78793\n"
     ]
    },
    {
     "name": "stderr",
     "output_type": "stream",
     "text": [
      "/home/av/.local/lib/python3.10/site-packages/sklearn/mixture/_base.py:274: ConvergenceWarning: Initialization 1 did not converge. Try different init parameters, or increase max_iter, tol or check for degenerate data.\n",
      "  warnings.warn(\n",
      "100%|██████████| 600/600 [00:30<00:00, 19.54it/s]\n",
      "/home/av/IST/slp-labs/LAB2/pf_tools.py:89: UserWarning: The feature directory already exists, and no new feature extraction will be performed.\n",
      "  warnings.warn(\"The feature directory already exists, and no new feature extraction will be performed.\")\n"
     ]
    },
    {
     "name": "stdout",
     "output_type": "stream",
     "text": [
      "Accuracy Score = 0.5883333333333334\n",
      "\n",
      "\n",
      "Combination 12\n",
      "Initialization 0\n",
      "  Iteration 1\t time lapse 6.75513s\t ll change inf\n",
      "  Iteration 2\t time lapse 1.65782s\t ll change 0.43828\n",
      "  Iteration 3\t time lapse 1.63075s\t ll change 0.01949\n",
      "  Iteration 4\t time lapse 1.58336s\t ll change 0.01123\n",
      "  Iteration 5\t time lapse 1.58091s\t ll change 0.00771\n",
      "  Iteration 6\t time lapse 1.59125s\t ll change 0.00587\n",
      "  Iteration 7\t time lapse 1.58357s\t ll change 0.00469\n",
      "  Iteration 8\t time lapse 1.58530s\t ll change 0.00376\n",
      "  Iteration 9\t time lapse 1.60364s\t ll change 0.00299\n",
      "  Iteration 10\t time lapse 1.62253s\t ll change 0.00238\n",
      "  Iteration 11\t time lapse 1.63442s\t ll change 0.00193\n",
      "  Iteration 12\t time lapse 1.60322s\t ll change 0.00161\n",
      "  Iteration 13\t time lapse 1.66269s\t ll change 0.00138\n",
      "  Iteration 14\t time lapse 1.58225s\t ll change 0.00121\n",
      "  Iteration 15\t time lapse 1.57458s\t ll change 0.00109\n",
      "Initialization converged: False\t time lapse 29.25183s\t ll 2.79114\n"
     ]
    },
    {
     "name": "stderr",
     "output_type": "stream",
     "text": [
      "/home/av/.local/lib/python3.10/site-packages/sklearn/mixture/_base.py:274: ConvergenceWarning: Initialization 1 did not converge. Try different init parameters, or increase max_iter, tol or check for degenerate data.\n",
      "  warnings.warn(\n"
     ]
    },
    {
     "name": "stdout",
     "output_type": "stream",
     "text": [
      "Initialization 0\n",
      "  Iteration 1\t time lapse 5.11156s\t ll change inf\n",
      "  Iteration 2\t time lapse 1.76156s\t ll change 0.21718\n",
      "  Iteration 3\t time lapse 1.82893s\t ll change 0.01952\n",
      "  Iteration 4\t time lapse 1.86231s\t ll change 0.01125\n",
      "  Iteration 5\t time lapse 1.71771s\t ll change 0.00789\n",
      "  Iteration 6\t time lapse 1.87833s\t ll change 0.00603\n",
      "  Iteration 7\t time lapse 1.69610s\t ll change 0.00485\n",
      "  Iteration 8\t time lapse 1.91549s\t ll change 0.00406\n",
      "  Iteration 9\t time lapse 1.78048s\t ll change 0.00350\n",
      "  Iteration 10\t time lapse 1.74369s\t ll change 0.00308\n",
      "  Iteration 11\t time lapse 1.76708s\t ll change 0.00275\n",
      "  Iteration 12\t time lapse 1.77842s\t ll change 0.00247\n",
      "  Iteration 13\t time lapse 1.79402s\t ll change 0.00221\n",
      "  Iteration 14\t time lapse 1.74450s\t ll change 0.00198\n",
      "  Iteration 15\t time lapse 1.84082s\t ll change 0.00177\n",
      "Initialization converged: False\t time lapse 30.22111s\t ll 2.98086\n"
     ]
    },
    {
     "name": "stderr",
     "output_type": "stream",
     "text": [
      "/home/av/.local/lib/python3.10/site-packages/sklearn/mixture/_base.py:274: ConvergenceWarning: Initialization 1 did not converge. Try different init parameters, or increase max_iter, tol or check for degenerate data.\n",
      "  warnings.warn(\n"
     ]
    },
    {
     "name": "stdout",
     "output_type": "stream",
     "text": [
      "Initialization 0\n",
      "  Iteration 1\t time lapse 5.85160s\t ll change inf\n",
      "  Iteration 2\t time lapse 1.85286s\t ll change 0.42590\n",
      "  Iteration 3\t time lapse 1.88985s\t ll change 0.02729\n",
      "  Iteration 4\t time lapse 2.00602s\t ll change 0.01963\n",
      "  Iteration 5\t time lapse 1.96302s\t ll change 0.01464\n",
      "  Iteration 6\t time lapse 1.92603s\t ll change 0.00971\n",
      "  Iteration 7\t time lapse 1.87736s\t ll change 0.00630\n",
      "  Iteration 8\t time lapse 1.86656s\t ll change 0.00445\n",
      "  Iteration 9\t time lapse 1.90400s\t ll change 0.00344\n",
      "  Iteration 10\t time lapse 1.82438s\t ll change 0.00280\n",
      "  Iteration 11\t time lapse 1.83773s\t ll change 0.00237\n",
      "  Iteration 12\t time lapse 1.83146s\t ll change 0.00205\n",
      "  Iteration 13\t time lapse 1.90747s\t ll change 0.00181\n",
      "  Iteration 14\t time lapse 1.84918s\t ll change 0.00161\n",
      "  Iteration 15\t time lapse 1.83111s\t ll change 0.00143\n",
      "Initialization converged: False\t time lapse 32.21904s\t ll 2.04310\n"
     ]
    },
    {
     "name": "stderr",
     "output_type": "stream",
     "text": [
      "/home/av/.local/lib/python3.10/site-packages/sklearn/mixture/_base.py:274: ConvergenceWarning: Initialization 1 did not converge. Try different init parameters, or increase max_iter, tol or check for degenerate data.\n",
      "  warnings.warn(\n"
     ]
    },
    {
     "name": "stdout",
     "output_type": "stream",
     "text": [
      "Initialization 0\n",
      "  Iteration 1\t time lapse 5.93770s\t ll change inf\n",
      "  Iteration 2\t time lapse 1.58396s\t ll change 0.37371\n",
      "  Iteration 3\t time lapse 1.63251s\t ll change 0.01830\n",
      "  Iteration 4\t time lapse 1.56132s\t ll change 0.01096\n",
      "  Iteration 5\t time lapse 1.57602s\t ll change 0.00812\n",
      "  Iteration 6\t time lapse 1.55233s\t ll change 0.00662\n",
      "  Iteration 7\t time lapse 1.56818s\t ll change 0.00575\n",
      "  Iteration 8\t time lapse 1.60672s\t ll change 0.00525\n",
      "  Iteration 9\t time lapse 1.57078s\t ll change 0.00494\n",
      "  Iteration 10\t time lapse 1.54693s\t ll change 0.00466\n",
      "  Iteration 11\t time lapse 1.53859s\t ll change 0.00435\n",
      "  Iteration 12\t time lapse 1.55435s\t ll change 0.00407\n",
      "  Iteration 13\t time lapse 1.54415s\t ll change 0.00380\n",
      "  Iteration 14\t time lapse 1.57801s\t ll change 0.00355\n",
      "  Iteration 15\t time lapse 1.62402s\t ll change 0.00332\n",
      "Initialization converged: False\t time lapse 27.97571s\t ll 2.65811\n"
     ]
    },
    {
     "name": "stderr",
     "output_type": "stream",
     "text": [
      "/home/av/.local/lib/python3.10/site-packages/sklearn/mixture/_base.py:274: ConvergenceWarning: Initialization 1 did not converge. Try different init parameters, or increase max_iter, tol or check for degenerate data.\n",
      "  warnings.warn(\n"
     ]
    },
    {
     "name": "stdout",
     "output_type": "stream",
     "text": [
      "Initialization 0\n",
      "  Iteration 1\t time lapse 4.14354s\t ll change inf\n",
      "  Iteration 2\t time lapse 1.43485s\t ll change 0.53831\n",
      "  Iteration 3\t time lapse 1.46390s\t ll change 0.02075\n",
      "  Iteration 4\t time lapse 1.43404s\t ll change 0.01316\n",
      "  Iteration 5\t time lapse 1.48815s\t ll change 0.00989\n",
      "  Iteration 6\t time lapse 1.44328s\t ll change 0.00771\n",
      "  Iteration 7\t time lapse 1.52323s\t ll change 0.00605\n",
      "  Iteration 8\t time lapse 1.45427s\t ll change 0.00483\n",
      "  Iteration 9\t time lapse 1.47469s\t ll change 0.00397\n",
      "  Iteration 10\t time lapse 1.46132s\t ll change 0.00336\n",
      "  Iteration 11\t time lapse 1.45824s\t ll change 0.00291\n",
      "  Iteration 12\t time lapse 1.45664s\t ll change 0.00254\n",
      "  Iteration 13\t time lapse 1.45508s\t ll change 0.00224\n",
      "  Iteration 14\t time lapse 1.52965s\t ll change 0.00199\n",
      "  Iteration 15\t time lapse 1.46711s\t ll change 0.00178\n",
      "Initialization converged: False\t time lapse 24.68810s\t ll 2.11494\n"
     ]
    },
    {
     "name": "stderr",
     "output_type": "stream",
     "text": [
      "/home/av/.local/lib/python3.10/site-packages/sklearn/mixture/_base.py:274: ConvergenceWarning: Initialization 1 did not converge. Try different init parameters, or increase max_iter, tol or check for degenerate data.\n",
      "  warnings.warn(\n"
     ]
    },
    {
     "name": "stdout",
     "output_type": "stream",
     "text": [
      "Initialization 0\n",
      "  Iteration 1\t time lapse 5.49893s\t ll change inf\n",
      "  Iteration 2\t time lapse 1.56454s\t ll change 0.05932\n",
      "  Iteration 3\t time lapse 1.51040s\t ll change 0.01971\n",
      "  Iteration 4\t time lapse 1.56020s\t ll change 0.01126\n",
      "  Iteration 5\t time lapse 1.59385s\t ll change 0.00809\n",
      "  Iteration 6\t time lapse 1.52178s\t ll change 0.00654\n",
      "  Iteration 7\t time lapse 1.61156s\t ll change 0.00559\n",
      "  Iteration 8\t time lapse 1.49957s\t ll change 0.00488\n",
      "  Iteration 9\t time lapse 1.57675s\t ll change 0.00430\n",
      "  Iteration 10\t time lapse 1.51060s\t ll change 0.00381\n",
      "  Iteration 11\t time lapse 1.63371s\t ll change 0.00341\n",
      "  Iteration 12\t time lapse 1.52158s\t ll change 0.00308\n",
      "  Iteration 13\t time lapse 1.55508s\t ll change 0.00277\n",
      "  Iteration 14\t time lapse 1.56187s\t ll change 0.00245\n",
      "  Iteration 15\t time lapse 1.53164s\t ll change 0.00212\n",
      "Initialization converged: False\t time lapse 27.25249s\t ll 2.86736\n"
     ]
    },
    {
     "name": "stderr",
     "output_type": "stream",
     "text": [
      "/home/av/.local/lib/python3.10/site-packages/sklearn/mixture/_base.py:274: ConvergenceWarning: Initialization 1 did not converge. Try different init parameters, or increase max_iter, tol or check for degenerate data.\n",
      "  warnings.warn(\n",
      "100%|██████████| 600/600 [00:51<00:00, 11.64it/s]\n",
      "/home/av/IST/slp-labs/LAB2/pf_tools.py:89: UserWarning: The feature directory already exists, and no new feature extraction will be performed.\n",
      "  warnings.warn(\"The feature directory already exists, and no new feature extraction will be performed.\")\n"
     ]
    },
    {
     "name": "stdout",
     "output_type": "stream",
     "text": [
      "Accuracy Score = 0.6166666666666667\n",
      "\n",
      "\n",
      "Combination 13\n",
      "Initialization 0\n",
      "  Iteration 1\t time lapse 1.57974s\t ll change inf\n",
      "  Iteration 2\t time lapse 0.56995s\t ll change 0.51675\n",
      "  Iteration 3\t time lapse 0.58353s\t ll change 0.01455\n",
      "  Iteration 4\t time lapse 0.60270s\t ll change 0.01057\n",
      "  Iteration 5\t time lapse 0.59757s\t ll change 0.00921\n",
      "  Iteration 6\t time lapse 0.58820s\t ll change 0.00798\n",
      "  Iteration 7\t time lapse 0.58193s\t ll change 0.00643\n",
      "  Iteration 8\t time lapse 0.59806s\t ll change 0.00487\n",
      "  Iteration 9\t time lapse 0.57824s\t ll change 0.00359\n",
      "  Iteration 10\t time lapse 0.57413s\t ll change 0.00266\n",
      "  Iteration 11\t time lapse 0.60843s\t ll change 0.00202\n",
      "  Iteration 12\t time lapse 0.57915s\t ll change 0.00158\n",
      "  Iteration 13\t time lapse 0.60306s\t ll change 0.00125\n",
      "  Iteration 14\t time lapse 0.57910s\t ll change 0.00100\n",
      "  Iteration 15\t time lapse 0.57423s\t ll change 0.00081\n",
      "Initialization converged: True\t time lapse 9.79808s\t ll 2.56160\n",
      "Initialization 0\n",
      "  Iteration 1\t time lapse 1.77784s\t ll change inf\n",
      "  Iteration 2\t time lapse 0.62049s\t ll change 0.65146\n",
      "  Iteration 3\t time lapse 0.65182s\t ll change 0.01700\n",
      "  Iteration 4\t time lapse 0.62519s\t ll change 0.01022\n",
      "  Iteration 5\t time lapse 0.61727s\t ll change 0.00667\n",
      "  Iteration 6\t time lapse 0.63344s\t ll change 0.00442\n",
      "  Iteration 7\t time lapse 0.63082s\t ll change 0.00295\n",
      "  Iteration 8\t time lapse 0.66731s\t ll change 0.00202\n",
      "  Iteration 9\t time lapse 0.63364s\t ll change 0.00144\n",
      "  Iteration 10\t time lapse 0.61699s\t ll change 0.00108\n",
      "  Iteration 11\t time lapse 0.63126s\t ll change 0.00086\n",
      "Initialization converged: True\t time lapse 8.10614s\t ll 2.76802\n",
      "Initialization 0\n",
      "  Iteration 1\t time lapse 1.73899s\t ll change inf\n",
      "  Iteration 2\t time lapse 0.62808s\t ll change 0.60100\n",
      "  Iteration 3\t time lapse 0.61722s\t ll change 0.02248\n",
      "  Iteration 4\t time lapse 0.61185s\t ll change 0.01465\n",
      "  Iteration 5\t time lapse 0.60997s\t ll change 0.01054\n",
      "  Iteration 6\t time lapse 0.63090s\t ll change 0.00760\n",
      "  Iteration 7\t time lapse 0.61740s\t ll change 0.00532\n",
      "  Iteration 8\t time lapse 0.62335s\t ll change 0.00360\n",
      "  Iteration 9\t time lapse 0.60686s\t ll change 0.00243\n",
      "  Iteration 10\t time lapse 0.62692s\t ll change 0.00167\n",
      "  Iteration 11\t time lapse 0.61089s\t ll change 0.00119\n",
      "  Iteration 12\t time lapse 0.62152s\t ll change 0.00089\n",
      "Initialization converged: True\t time lapse 8.54403s\t ll 1.77227\n",
      "Initialization 0\n",
      "  Iteration 1\t time lapse 1.51249s\t ll change inf\n",
      "  Iteration 2\t time lapse 0.59161s\t ll change 0.57753\n",
      "  Iteration 3\t time lapse 0.57545s\t ll change 0.01842\n",
      "  Iteration 4\t time lapse 0.57998s\t ll change 0.01164\n",
      "  Iteration 5\t time lapse 0.56905s\t ll change 0.00777\n",
      "  Iteration 6\t time lapse 0.59717s\t ll change 0.00515\n",
      "  Iteration 7\t time lapse 0.59038s\t ll change 0.00337\n",
      "  Iteration 8\t time lapse 0.59178s\t ll change 0.00220\n",
      "  Iteration 9\t time lapse 0.60463s\t ll change 0.00145\n",
      "  Iteration 10\t time lapse 0.58781s\t ll change 0.00097\n",
      "Initialization converged: True\t time lapse 6.80042s\t ll 2.44513\n",
      "Initialization 0\n",
      "  Iteration 1\t time lapse 1.37359s\t ll change inf\n",
      "  Iteration 2\t time lapse 0.53433s\t ll change 0.71024\n",
      "  Iteration 3\t time lapse 0.54399s\t ll change 0.02035\n",
      "  Iteration 4\t time lapse 0.54837s\t ll change 0.01442\n",
      "  Iteration 5\t time lapse 0.55286s\t ll change 0.01151\n",
      "  Iteration 6\t time lapse 0.53660s\t ll change 0.00936\n",
      "  Iteration 7\t time lapse 0.53973s\t ll change 0.00745\n",
      "  Iteration 8\t time lapse 0.52932s\t ll change 0.00573\n",
      "  Iteration 9\t time lapse 0.53417s\t ll change 0.00426\n",
      "  Iteration 10\t time lapse 0.52801s\t ll change 0.00310\n",
      "  Iteration 11\t time lapse 0.54155s\t ll change 0.00225\n",
      "  Iteration 12\t time lapse 0.52712s\t ll change 0.00164\n",
      "  Iteration 13\t time lapse 0.53121s\t ll change 0.00122\n",
      "  Iteration 14\t time lapse 0.53669s\t ll change 0.00093\n",
      "Initialization converged: True\t time lapse 8.35757s\t ll 1.92211\n",
      "Initialization 0\n",
      "  Iteration 1\t time lapse 1.41821s\t ll change inf\n",
      "  Iteration 2\t time lapse 0.56545s\t ll change 0.03700\n",
      "  Iteration 3\t time lapse 0.56045s\t ll change 0.01318\n",
      "  Iteration 4\t time lapse 0.56001s\t ll change 0.00832\n",
      "  Iteration 5\t time lapse 0.56633s\t ll change 0.00637\n",
      "  Iteration 6\t time lapse 0.56125s\t ll change 0.00534\n",
      "  Iteration 7\t time lapse 0.57141s\t ll change 0.00478\n",
      "  Iteration 8\t time lapse 0.57609s\t ll change 0.00451\n",
      "  Iteration 9\t time lapse 0.56882s\t ll change 0.00440\n",
      "  Iteration 10\t time lapse 0.56078s\t ll change 0.00428\n",
      "  Iteration 11\t time lapse 0.55748s\t ll change 0.00394\n",
      "  Iteration 12\t time lapse 0.56506s\t ll change 0.00328\n",
      "  Iteration 13\t time lapse 0.56966s\t ll change 0.00245\n",
      "  Iteration 14\t time lapse 0.57322s\t ll change 0.00170\n",
      "  Iteration 15\t time lapse 0.55912s\t ll change 0.00115\n",
      "Initialization converged: False\t time lapse 9.33343s\t ll 2.63200\n"
     ]
    },
    {
     "name": "stderr",
     "output_type": "stream",
     "text": [
      "/home/av/.local/lib/python3.10/site-packages/sklearn/mixture/_base.py:274: ConvergenceWarning: Initialization 1 did not converge. Try different init parameters, or increase max_iter, tol or check for degenerate data.\n",
      "  warnings.warn(\n",
      "100%|██████████| 600/600 [00:19<00:00, 31.12it/s]\n",
      "/home/av/IST/slp-labs/LAB2/pf_tools.py:89: UserWarning: The feature directory already exists, and no new feature extraction will be performed.\n",
      "  warnings.warn(\"The feature directory already exists, and no new feature extraction will be performed.\")\n"
     ]
    },
    {
     "name": "stdout",
     "output_type": "stream",
     "text": [
      "Accuracy Score = 0.555\n",
      "\n",
      "\n",
      "Combination 14\n",
      "Initialization 0\n",
      "  Iteration 1\t time lapse 3.70851s\t ll change inf\n",
      "  Iteration 2\t time lapse 1.00219s\t ll change 0.49605\n",
      "  Iteration 3\t time lapse 1.01074s\t ll change 0.01580\n",
      "  Iteration 4\t time lapse 0.99553s\t ll change 0.00950\n",
      "  Iteration 5\t time lapse 0.99630s\t ll change 0.00702\n",
      "  Iteration 6\t time lapse 0.99326s\t ll change 0.00567\n",
      "  Iteration 7\t time lapse 0.99287s\t ll change 0.00481\n",
      "  Iteration 8\t time lapse 0.99428s\t ll change 0.00419\n",
      "  Iteration 9\t time lapse 0.99643s\t ll change 0.00371\n",
      "  Iteration 10\t time lapse 1.01216s\t ll change 0.00332\n",
      "  Iteration 11\t time lapse 0.97964s\t ll change 0.00293\n",
      "  Iteration 12\t time lapse 0.99925s\t ll change 0.00252\n",
      "  Iteration 13\t time lapse 1.00485s\t ll change 0.00207\n",
      "  Iteration 14\t time lapse 0.99748s\t ll change 0.00164\n",
      "  Iteration 15\t time lapse 0.99295s\t ll change 0.00130\n",
      "Initialization converged: False\t time lapse 17.67655s\t ll 2.68961\n"
     ]
    },
    {
     "name": "stderr",
     "output_type": "stream",
     "text": [
      "/home/av/.local/lib/python3.10/site-packages/sklearn/mixture/_base.py:274: ConvergenceWarning: Initialization 1 did not converge. Try different init parameters, or increase max_iter, tol or check for degenerate data.\n",
      "  warnings.warn(\n"
     ]
    },
    {
     "name": "stdout",
     "output_type": "stream",
     "text": [
      "Initialization 0\n",
      "  Iteration 1\t time lapse 2.94491s\t ll change inf\n",
      "  Iteration 2\t time lapse 1.07124s\t ll change 0.55687\n",
      "  Iteration 3\t time lapse 1.05829s\t ll change 0.01903\n",
      "  Iteration 4\t time lapse 1.04549s\t ll change 0.01194\n",
      "  Iteration 5\t time lapse 1.07748s\t ll change 0.00873\n",
      "  Iteration 6\t time lapse 1.05556s\t ll change 0.00676\n",
      "  Iteration 7\t time lapse 1.04631s\t ll change 0.00540\n",
      "  Iteration 8\t time lapse 1.05853s\t ll change 0.00446\n",
      "  Iteration 9\t time lapse 1.26874s\t ll change 0.00382\n",
      "  Iteration 10\t time lapse 1.11416s\t ll change 0.00338\n",
      "  Iteration 11\t time lapse 1.06201s\t ll change 0.00301\n",
      "  Iteration 12\t time lapse 1.05892s\t ll change 0.00261\n",
      "  Iteration 13\t time lapse 1.07527s\t ll change 0.00219\n",
      "  Iteration 14\t time lapse 1.09243s\t ll change 0.00181\n",
      "  Iteration 15\t time lapse 1.07753s\t ll change 0.00152\n",
      "Initialization converged: False\t time lapse 18.10726s\t ll 2.89245\n"
     ]
    },
    {
     "name": "stderr",
     "output_type": "stream",
     "text": [
      "/home/av/.local/lib/python3.10/site-packages/sklearn/mixture/_base.py:274: ConvergenceWarning: Initialization 1 did not converge. Try different init parameters, or increase max_iter, tol or check for degenerate data.\n",
      "  warnings.warn(\n"
     ]
    },
    {
     "name": "stdout",
     "output_type": "stream",
     "text": [
      "Initialization 0\n",
      "  Iteration 1\t time lapse 2.75927s\t ll change inf\n",
      "  Iteration 2\t time lapse 1.06066s\t ll change 0.50953\n",
      "  Iteration 3\t time lapse 1.12316s\t ll change 0.01916\n",
      "  Iteration 4\t time lapse 1.06383s\t ll change 0.01234\n",
      "  Iteration 5\t time lapse 1.17975s\t ll change 0.00959\n",
      "  Iteration 6\t time lapse 1.05862s\t ll change 0.00849\n",
      "  Iteration 7\t time lapse 1.04985s\t ll change 0.00812\n",
      "  Iteration 8\t time lapse 1.04379s\t ll change 0.00766\n",
      "  Iteration 9\t time lapse 1.11634s\t ll change 0.00655\n",
      "  Iteration 10\t time lapse 1.10851s\t ll change 0.00506\n",
      "  Iteration 11\t time lapse 1.07747s\t ll change 0.00384\n",
      "  Iteration 12\t time lapse 1.10071s\t ll change 0.00306\n",
      "  Iteration 13\t time lapse 1.10144s\t ll change 0.00257\n",
      "  Iteration 14\t time lapse 1.06418s\t ll change 0.00226\n",
      "  Iteration 15\t time lapse 1.11297s\t ll change 0.00205\n",
      "Initialization converged: False\t time lapse 18.02095s\t ll 1.92513\n"
     ]
    },
    {
     "name": "stderr",
     "output_type": "stream",
     "text": [
      "/home/av/.local/lib/python3.10/site-packages/sklearn/mixture/_base.py:274: ConvergenceWarning: Initialization 1 did not converge. Try different init parameters, or increase max_iter, tol or check for degenerate data.\n",
      "  warnings.warn(\n"
     ]
    },
    {
     "name": "stdout",
     "output_type": "stream",
     "text": [
      "Initialization 0\n",
      "  Iteration 1\t time lapse 3.31512s\t ll change inf\n",
      "  Iteration 2\t time lapse 1.00739s\t ll change 0.43167\n",
      "  Iteration 3\t time lapse 0.99914s\t ll change 0.02044\n",
      "  Iteration 4\t time lapse 0.99805s\t ll change 0.01331\n",
      "  Iteration 5\t time lapse 0.99300s\t ll change 0.00988\n",
      "  Iteration 6\t time lapse 0.98900s\t ll change 0.00770\n",
      "  Iteration 7\t time lapse 0.98866s\t ll change 0.00624\n",
      "  Iteration 8\t time lapse 0.96221s\t ll change 0.00523\n",
      "  Iteration 9\t time lapse 0.98504s\t ll change 0.00448\n",
      "  Iteration 10\t time lapse 0.97062s\t ll change 0.00389\n",
      "  Iteration 11\t time lapse 0.97527s\t ll change 0.00342\n",
      "  Iteration 12\t time lapse 0.97429s\t ll change 0.00304\n",
      "  Iteration 13\t time lapse 0.96933s\t ll change 0.00273\n",
      "  Iteration 14\t time lapse 0.97271s\t ll change 0.00245\n",
      "  Iteration 15\t time lapse 0.96740s\t ll change 0.00217\n",
      "Initialization converged: False\t time lapse 17.06733s\t ll 2.57446\n"
     ]
    },
    {
     "name": "stderr",
     "output_type": "stream",
     "text": [
      "/home/av/.local/lib/python3.10/site-packages/sklearn/mixture/_base.py:274: ConvergenceWarning: Initialization 1 did not converge. Try different init parameters, or increase max_iter, tol or check for degenerate data.\n",
      "  warnings.warn(\n"
     ]
    },
    {
     "name": "stdout",
     "output_type": "stream",
     "text": [
      "Initialization 0\n",
      "  Iteration 1\t time lapse 2.71713s\t ll change inf\n",
      "  Iteration 2\t time lapse 0.89590s\t ll change 0.63242\n",
      "  Iteration 3\t time lapse 0.94002s\t ll change 0.01941\n",
      "  Iteration 4\t time lapse 0.89719s\t ll change 0.01229\n",
      "  Iteration 5\t time lapse 0.90299s\t ll change 0.00881\n",
      "  Iteration 6\t time lapse 0.91013s\t ll change 0.00660\n",
      "  Iteration 7\t time lapse 0.89005s\t ll change 0.00507\n",
      "  Iteration 8\t time lapse 0.90198s\t ll change 0.00400\n",
      "  Iteration 9\t time lapse 0.93409s\t ll change 0.00324\n",
      "  Iteration 10\t time lapse 0.93661s\t ll change 0.00271\n",
      "  Iteration 11\t time lapse 0.89884s\t ll change 0.00234\n",
      "  Iteration 12\t time lapse 0.93325s\t ll change 0.00208\n",
      "  Iteration 13\t time lapse 0.89824s\t ll change 0.00189\n",
      "  Iteration 14\t time lapse 0.90434s\t ll change 0.00174\n",
      "  Iteration 15\t time lapse 0.91169s\t ll change 0.00163\n",
      "Initialization converged: False\t time lapse 15.47279s\t ll 2.01853\n"
     ]
    },
    {
     "name": "stderr",
     "output_type": "stream",
     "text": [
      "/home/av/.local/lib/python3.10/site-packages/sklearn/mixture/_base.py:274: ConvergenceWarning: Initialization 1 did not converge. Try different init parameters, or increase max_iter, tol or check for degenerate data.\n",
      "  warnings.warn(\n"
     ]
    },
    {
     "name": "stdout",
     "output_type": "stream",
     "text": [
      "Initialization 0\n",
      "  Iteration 1\t time lapse 2.66645s\t ll change inf\n",
      "  Iteration 2\t time lapse 0.93852s\t ll change 0.05009\n",
      "  Iteration 3\t time lapse 0.98873s\t ll change 0.01829\n",
      "  Iteration 4\t time lapse 0.97776s\t ll change 0.01156\n",
      "  Iteration 5\t time lapse 1.16798s\t ll change 0.00886\n",
      "  Iteration 6\t time lapse 1.49356s\t ll change 0.00741\n",
      "  Iteration 7\t time lapse 1.52118s\t ll change 0.00644\n",
      "  Iteration 8\t time lapse 1.63116s\t ll change 0.00566\n",
      "  Iteration 9\t time lapse 1.48194s\t ll change 0.00493\n",
      "  Iteration 10\t time lapse 1.53662s\t ll change 0.00420\n",
      "  Iteration 11\t time lapse 1.50631s\t ll change 0.00352\n",
      "  Iteration 12\t time lapse 1.55432s\t ll change 0.00293\n",
      "  Iteration 13\t time lapse 1.53664s\t ll change 0.00241\n",
      "  Iteration 14\t time lapse 1.58252s\t ll change 0.00196\n",
      "  Iteration 15\t time lapse 1.51748s\t ll change 0.00160\n",
      "Initialization converged: False\t time lapse 22.10167s\t ll 2.77852\n"
     ]
    },
    {
     "name": "stderr",
     "output_type": "stream",
     "text": [
      "/home/av/.local/lib/python3.10/site-packages/sklearn/mixture/_base.py:274: ConvergenceWarning: Initialization 1 did not converge. Try different init parameters, or increase max_iter, tol or check for degenerate data.\n",
      "  warnings.warn(\n",
      "100%|██████████| 600/600 [00:34<00:00, 17.20it/s]\n",
      "/home/av/IST/slp-labs/LAB2/pf_tools.py:89: UserWarning: The feature directory already exists, and no new feature extraction will be performed.\n",
      "  warnings.warn(\"The feature directory already exists, and no new feature extraction will be performed.\")\n"
     ]
    },
    {
     "name": "stdout",
     "output_type": "stream",
     "text": [
      "Accuracy Score = 0.5966666666666667\n",
      "\n",
      "\n",
      "Combination 15\n",
      "Initialization 0\n",
      "  Iteration 1\t time lapse 6.55752s\t ll change inf\n",
      "  Iteration 2\t time lapse 1.60133s\t ll change 0.43854\n",
      "  Iteration 3\t time lapse 1.55596s\t ll change 0.01967\n",
      "  Iteration 4\t time lapse 1.56316s\t ll change 0.01124\n",
      "  Iteration 5\t time lapse 1.55905s\t ll change 0.00787\n",
      "  Iteration 6\t time lapse 1.56226s\t ll change 0.00611\n",
      "  Iteration 7\t time lapse 1.55848s\t ll change 0.00496\n",
      "  Iteration 8\t time lapse 1.57452s\t ll change 0.00406\n",
      "  Iteration 9\t time lapse 1.56683s\t ll change 0.00331\n",
      "  Iteration 10\t time lapse 1.63564s\t ll change 0.00271\n",
      "  Iteration 11\t time lapse 1.48004s\t ll change 0.00225\n",
      "  Iteration 12\t time lapse 1.52849s\t ll change 0.00189\n",
      "  Iteration 13\t time lapse 1.53124s\t ll change 0.00161\n",
      "  Iteration 14\t time lapse 1.50555s\t ll change 0.00139\n",
      "  Iteration 15\t time lapse 1.50459s\t ll change 0.00121\n",
      "Initialization converged: False\t time lapse 28.28481s\t ll 2.79575\n"
     ]
    },
    {
     "name": "stderr",
     "output_type": "stream",
     "text": [
      "/home/av/.local/lib/python3.10/site-packages/sklearn/mixture/_base.py:274: ConvergenceWarning: Initialization 1 did not converge. Try different init parameters, or increase max_iter, tol or check for degenerate data.\n",
      "  warnings.warn(\n"
     ]
    },
    {
     "name": "stdout",
     "output_type": "stream",
     "text": [
      "Initialization 0\n",
      "  Iteration 1\t time lapse 5.06721s\t ll change inf\n",
      "  Iteration 2\t time lapse 1.77239s\t ll change 0.40589\n",
      "  Iteration 3\t time lapse 1.72924s\t ll change 0.01806\n",
      "  Iteration 4\t time lapse 1.76529s\t ll change 0.01020\n",
      "  Iteration 5\t time lapse 1.78479s\t ll change 0.00717\n",
      "  Iteration 6\t time lapse 1.72214s\t ll change 0.00563\n",
      "  Iteration 7\t time lapse 1.81143s\t ll change 0.00469\n",
      "  Iteration 8\t time lapse 1.79976s\t ll change 0.00406\n",
      "  Iteration 9\t time lapse 1.68449s\t ll change 0.00361\n",
      "  Iteration 10\t time lapse 1.73386s\t ll change 0.00330\n",
      "  Iteration 11\t time lapse 1.67825s\t ll change 0.00310\n",
      "  Iteration 12\t time lapse 1.81314s\t ll change 0.00297\n",
      "  Iteration 13\t time lapse 1.66228s\t ll change 0.00286\n",
      "  Iteration 14\t time lapse 1.79473s\t ll change 0.00273\n",
      "  Iteration 15\t time lapse 1.66914s\t ll change 0.00253\n",
      "Initialization converged: False\t time lapse 29.48825s\t ll 2.97822\n"
     ]
    },
    {
     "name": "stderr",
     "output_type": "stream",
     "text": [
      "/home/av/.local/lib/python3.10/site-packages/sklearn/mixture/_base.py:274: ConvergenceWarning: Initialization 1 did not converge. Try different init parameters, or increase max_iter, tol or check for degenerate data.\n",
      "  warnings.warn(\n"
     ]
    },
    {
     "name": "stdout",
     "output_type": "stream",
     "text": [
      "Initialization 0\n",
      "  Iteration 1\t time lapse 6.52209s\t ll change inf\n",
      "  Iteration 2\t time lapse 1.74681s\t ll change 0.42307\n",
      "  Iteration 3\t time lapse 1.91114s\t ll change 0.02411\n",
      "  Iteration 4\t time lapse 1.81106s\t ll change 0.01673\n",
      "  Iteration 5\t time lapse 1.86251s\t ll change 0.01352\n",
      "  Iteration 6\t time lapse 1.72757s\t ll change 0.01039\n",
      "  Iteration 7\t time lapse 1.90206s\t ll change 0.00737\n",
      "  Iteration 8\t time lapse 1.88060s\t ll change 0.00528\n",
      "  Iteration 9\t time lapse 2.91784s\t ll change 0.00399\n",
      "  Iteration 10\t time lapse 3.59358s\t ll change 0.00315\n",
      "  Iteration 11\t time lapse 4.73211s\t ll change 0.00258\n",
      "  Iteration 12\t time lapse 6.57675s\t ll change 0.00215\n",
      "  Iteration 13\t time lapse 6.75500s\t ll change 0.00184\n",
      "  Iteration 14\t time lapse 6.23931s\t ll change 0.00159\n",
      "  Iteration 15\t time lapse 6.00359s\t ll change 0.00141\n",
      "Initialization converged: False\t time lapse 56.18301s\t ll 2.03334\n"
     ]
    },
    {
     "name": "stderr",
     "output_type": "stream",
     "text": [
      "/home/av/.local/lib/python3.10/site-packages/sklearn/mixture/_base.py:274: ConvergenceWarning: Initialization 1 did not converge. Try different init parameters, or increase max_iter, tol or check for degenerate data.\n",
      "  warnings.warn(\n"
     ]
    },
    {
     "name": "stdout",
     "output_type": "stream",
     "text": [
      "Initialization 0\n",
      "  Iteration 1\t time lapse 19.22052s\t ll change inf\n",
      "  Iteration 2\t time lapse 4.87408s\t ll change 0.37417\n",
      "  Iteration 3\t time lapse 5.42022s\t ll change 0.01828\n",
      "  Iteration 4\t time lapse 5.27912s\t ll change 0.01078\n",
      "  Iteration 5\t time lapse 5.44064s\t ll change 0.00798\n",
      "  Iteration 6\t time lapse 5.37336s\t ll change 0.00659\n",
      "  Iteration 7\t time lapse 5.14748s\t ll change 0.00581\n",
      "  Iteration 8\t time lapse 5.27850s\t ll change 0.00534\n",
      "  Iteration 9\t time lapse 5.02158s\t ll change 0.00498\n",
      "  Iteration 10\t time lapse 5.79507s\t ll change 0.00458\n",
      "  Iteration 11\t time lapse 5.22869s\t ll change 0.00415\n",
      "  Iteration 12\t time lapse 5.58361s\t ll change 0.00377\n",
      "  Iteration 13\t time lapse 4.93512s\t ll change 0.00342\n",
      "  Iteration 14\t time lapse 5.13048s\t ll change 0.00310\n",
      "  Iteration 15\t time lapse 5.15848s\t ll change 0.00280\n",
      "Initialization converged: False\t time lapse 92.88746s\t ll 2.66428\n"
     ]
    },
    {
     "name": "stderr",
     "output_type": "stream",
     "text": [
      "/home/av/.local/lib/python3.10/site-packages/sklearn/mixture/_base.py:274: ConvergenceWarning: Initialization 1 did not converge. Try different init parameters, or increase max_iter, tol or check for degenerate data.\n",
      "  warnings.warn(\n"
     ]
    },
    {
     "name": "stdout",
     "output_type": "stream",
     "text": [
      "Initialization 0\n",
      "  Iteration 1\t time lapse 12.63565s\t ll change inf\n",
      "  Iteration 2\t time lapse 4.72200s\t ll change 0.55464\n",
      "  Iteration 3\t time lapse 4.88527s\t ll change 0.01890\n",
      "  Iteration 4\t time lapse 5.10057s\t ll change 0.01141\n",
      "  Iteration 5\t time lapse 4.78546s\t ll change 0.00843\n",
      "  Iteration 6\t time lapse 5.01978s\t ll change 0.00681\n",
      "  Iteration 7\t time lapse 5.15220s\t ll change 0.00577\n",
      "  Iteration 8\t time lapse 5.01196s\t ll change 0.00500\n",
      "  Iteration 9\t time lapse 5.06182s\t ll change 0.00437\n",
      "  Iteration 10\t time lapse 5.14441s\t ll change 0.00384\n",
      "  Iteration 11\t time lapse 4.64889s\t ll change 0.00335\n",
      "  Iteration 12\t time lapse 5.08599s\t ll change 0.00289\n",
      "  Iteration 13\t time lapse 4.89598s\t ll change 0.00245\n",
      "  Iteration 14\t time lapse 4.95123s\t ll change 0.00206\n",
      "  Iteration 15\t time lapse 4.94490s\t ll change 0.00173\n",
      "Initialization converged: False\t time lapse 82.04666s\t ll 2.11294\n"
     ]
    },
    {
     "name": "stderr",
     "output_type": "stream",
     "text": [
      "/home/av/.local/lib/python3.10/site-packages/sklearn/mixture/_base.py:274: ConvergenceWarning: Initialization 1 did not converge. Try different init parameters, or increase max_iter, tol or check for degenerate data.\n",
      "  warnings.warn(\n"
     ]
    },
    {
     "name": "stdout",
     "output_type": "stream",
     "text": [
      "Initialization 0\n",
      "  Iteration 1\t time lapse 13.69601s\t ll change inf\n",
      "  Iteration 2\t time lapse 5.03966s\t ll change 0.05839\n",
      "  Iteration 3\t time lapse 4.96409s\t ll change 0.02064\n",
      "  Iteration 4\t time lapse 5.13070s\t ll change 0.01233\n",
      "  Iteration 5\t time lapse 5.28159s\t ll change 0.00879\n",
      "  Iteration 6\t time lapse 5.13197s\t ll change 0.00667\n",
      "  Iteration 7\t time lapse 4.90393s\t ll change 0.00518\n",
      "  Iteration 8\t time lapse 4.91711s\t ll change 0.00411\n",
      "  Iteration 9\t time lapse 5.28193s\t ll change 0.00338\n",
      "  Iteration 10\t time lapse 5.06410s\t ll change 0.00288\n",
      "  Iteration 11\t time lapse 5.37049s\t ll change 0.00252\n",
      "  Iteration 12\t time lapse 4.79617s\t ll change 0.00224\n",
      "  Iteration 13\t time lapse 4.86977s\t ll change 0.00201\n",
      "  Iteration 14\t time lapse 5.07065s\t ll change 0.00180\n",
      "  Iteration 15\t time lapse 5.04535s\t ll change 0.00160\n",
      "Initialization converged: False\t time lapse 84.56388s\t ll 2.87388\n"
     ]
    },
    {
     "name": "stderr",
     "output_type": "stream",
     "text": [
      "/home/av/.local/lib/python3.10/site-packages/sklearn/mixture/_base.py:274: ConvergenceWarning: Initialization 1 did not converge. Try different init parameters, or increase max_iter, tol or check for degenerate data.\n",
      "  warnings.warn(\n",
      "100%|██████████| 600/600 [01:38<00:00,  6.10it/s]\n",
      "/home/av/IST/slp-labs/LAB2/pf_tools.py:89: UserWarning: The feature directory already exists, and no new feature extraction will be performed.\n",
      "  warnings.warn(\"The feature directory already exists, and no new feature extraction will be performed.\")\n"
     ]
    },
    {
     "name": "stdout",
     "output_type": "stream",
     "text": [
      "Accuracy Score = 0.63\n",
      "\n",
      "\n",
      "Combination 16\n",
      "Initialization 0\n",
      "  Iteration 1\t time lapse 1.79813s\t ll change inf\n",
      "  Iteration 2\t time lapse 0.56490s\t ll change 0.51894\n",
      "  Iteration 3\t time lapse 0.58029s\t ll change 0.01624\n",
      "  Iteration 4\t time lapse 0.55895s\t ll change 0.01144\n",
      "  Iteration 5\t time lapse 0.56907s\t ll change 0.00892\n",
      "  Iteration 6\t time lapse 0.57157s\t ll change 0.00676\n",
      "  Iteration 7\t time lapse 0.56107s\t ll change 0.00493\n",
      "  Iteration 8\t time lapse 0.58716s\t ll change 0.00356\n",
      "  Iteration 9\t time lapse 0.59259s\t ll change 0.00261\n",
      "  Iteration 10\t time lapse 0.57612s\t ll change 0.00196\n",
      "  Iteration 11\t time lapse 0.59397s\t ll change 0.00152\n",
      "  Iteration 12\t time lapse 0.60053s\t ll change 0.00121\n",
      "  Iteration 13\t time lapse 0.58554s\t ll change 0.00098\n",
      "Initialization converged: True\t time lapse 8.73997s\t ll 2.56073\n",
      "Initialization 0\n",
      "  Iteration 1\t time lapse 1.95654s\t ll change inf\n",
      "  Iteration 2\t time lapse 0.62535s\t ll change 0.65147\n",
      "  Iteration 3\t time lapse 0.62720s\t ll change 0.01700\n",
      "  Iteration 4\t time lapse 0.62398s\t ll change 0.01022\n",
      "  Iteration 5\t time lapse 0.61690s\t ll change 0.00668\n",
      "  Iteration 6\t time lapse 0.67728s\t ll change 0.00443\n",
      "  Iteration 7\t time lapse 0.63629s\t ll change 0.00296\n",
      "  Iteration 8\t time lapse 0.62870s\t ll change 0.00203\n",
      "  Iteration 9\t time lapse 0.63008s\t ll change 0.00145\n",
      "  Iteration 10\t time lapse 0.62835s\t ll change 0.00109\n",
      "  Iteration 11\t time lapse 0.66399s\t ll change 0.00086\n",
      "Initialization converged: True\t time lapse 8.31473s\t ll 2.76798\n",
      "Initialization 0\n",
      "  Iteration 1\t time lapse 1.65101s\t ll change inf\n",
      "  Iteration 2\t time lapse 0.62979s\t ll change 0.60354\n",
      "  Iteration 3\t time lapse 0.63509s\t ll change 0.02254\n",
      "  Iteration 4\t time lapse 0.62136s\t ll change 0.01465\n",
      "  Iteration 5\t time lapse 0.65435s\t ll change 0.01048\n",
      "  Iteration 6\t time lapse 0.63050s\t ll change 0.00752\n",
      "  Iteration 7\t time lapse 0.63306s\t ll change 0.00524\n",
      "  Iteration 8\t time lapse 0.63419s\t ll change 0.00354\n",
      "  Iteration 9\t time lapse 0.63316s\t ll change 0.00239\n",
      "  Iteration 10\t time lapse 0.62089s\t ll change 0.00165\n",
      "  Iteration 11\t time lapse 0.62172s\t ll change 0.00118\n",
      "  Iteration 12\t time lapse 0.63807s\t ll change 0.00088\n",
      "Initialization converged: True\t time lapse 8.60327s\t ll 1.77232\n",
      "Initialization 0\n",
      "  Iteration 1\t time lapse 1.41944s\t ll change inf\n",
      "  Iteration 2\t time lapse 0.59610s\t ll change 0.57756\n",
      "  Iteration 3\t time lapse 0.63814s\t ll change 0.01843\n",
      "  Iteration 4\t time lapse 0.58143s\t ll change 0.01165\n",
      "  Iteration 5\t time lapse 0.57552s\t ll change 0.00778\n",
      "  Iteration 6\t time lapse 0.57850s\t ll change 0.00516\n",
      "  Iteration 7\t time lapse 0.58228s\t ll change 0.00338\n",
      "  Iteration 8\t time lapse 0.57784s\t ll change 0.00220\n",
      "  Iteration 9\t time lapse 0.57289s\t ll change 0.00145\n",
      "  Iteration 10\t time lapse 0.58969s\t ll change 0.00097\n",
      "Initialization converged: True\t time lapse 6.71190s\t ll 2.44513\n",
      "Initialization 0\n",
      "  Iteration 1\t time lapse 1.33363s\t ll change inf\n",
      "  Iteration 2\t time lapse 0.53249s\t ll change 0.70895\n",
      "  Iteration 3\t time lapse 0.54878s\t ll change 0.02030\n",
      "  Iteration 4\t time lapse 0.52790s\t ll change 0.01446\n",
      "  Iteration 5\t time lapse 0.54920s\t ll change 0.01150\n",
      "  Iteration 6\t time lapse 0.54192s\t ll change 0.00926\n",
      "  Iteration 7\t time lapse 0.52583s\t ll change 0.00729\n",
      "  Iteration 8\t time lapse 0.51976s\t ll change 0.00555\n",
      "  Iteration 9\t time lapse 0.53654s\t ll change 0.00412\n",
      "  Iteration 10\t time lapse 0.51933s\t ll change 0.00301\n",
      "  Iteration 11\t time lapse 0.54226s\t ll change 0.00221\n",
      "  Iteration 12\t time lapse 0.52376s\t ll change 0.00164\n",
      "  Iteration 13\t time lapse 0.52497s\t ll change 0.00124\n",
      "  Iteration 14\t time lapse 0.52107s\t ll change 0.00096\n",
      "Initialization converged: True\t time lapse 8.24751s\t ll 1.92185\n",
      "Initialization 0\n",
      "  Iteration 1\t time lapse 1.66000s\t ll change inf\n",
      "  Iteration 2\t time lapse 0.57379s\t ll change 0.03712\n",
      "  Iteration 3\t time lapse 0.58046s\t ll change 0.01326\n",
      "  Iteration 4\t time lapse 0.55885s\t ll change 0.00842\n",
      "  Iteration 5\t time lapse 0.57471s\t ll change 0.00647\n",
      "  Iteration 6\t time lapse 0.56135s\t ll change 0.00543\n",
      "  Iteration 7\t time lapse 0.58128s\t ll change 0.00482\n",
      "  Iteration 8\t time lapse 0.57102s\t ll change 0.00450\n",
      "  Iteration 9\t time lapse 0.55741s\t ll change 0.00434\n",
      "  Iteration 10\t time lapse 0.57170s\t ll change 0.00420\n",
      "  Iteration 11\t time lapse 0.55624s\t ll change 0.00386\n",
      "  Iteration 12\t time lapse 0.56274s\t ll change 0.00320\n",
      "  Iteration 13\t time lapse 0.55967s\t ll change 0.00237\n",
      "  Iteration 14\t time lapse 0.55291s\t ll change 0.00163\n",
      "  Iteration 15\t time lapse 0.57045s\t ll change 0.00109\n",
      "Initialization converged: False\t time lapse 9.59265s\t ll 2.63236\n"
     ]
    },
    {
     "name": "stderr",
     "output_type": "stream",
     "text": [
      "/home/av/.local/lib/python3.10/site-packages/sklearn/mixture/_base.py:274: ConvergenceWarning: Initialization 1 did not converge. Try different init parameters, or increase max_iter, tol or check for degenerate data.\n",
      "  warnings.warn(\n",
      "100%|██████████| 600/600 [00:19<00:00, 31.47it/s]\n",
      "/home/av/IST/slp-labs/LAB2/pf_tools.py:89: UserWarning: The feature directory already exists, and no new feature extraction will be performed.\n",
      "  warnings.warn(\"The feature directory already exists, and no new feature extraction will be performed.\")\n"
     ]
    },
    {
     "name": "stdout",
     "output_type": "stream",
     "text": [
      "Accuracy Score = 0.5533333333333333\n",
      "\n",
      "\n",
      "Combination 17\n",
      "Initialization 0\n",
      "  Iteration 1\t time lapse 2.49091s\t ll change inf\n",
      "  Iteration 2\t time lapse 0.96300s\t ll change 0.50024\n",
      "  Iteration 3\t time lapse 0.98406s\t ll change 0.01682\n",
      "  Iteration 4\t time lapse 0.99336s\t ll change 0.00959\n",
      "  Iteration 5\t time lapse 0.97769s\t ll change 0.00669\n",
      "  Iteration 6\t time lapse 1.01164s\t ll change 0.00518\n",
      "  Iteration 7\t time lapse 1.02631s\t ll change 0.00430\n",
      "  Iteration 8\t time lapse 0.98147s\t ll change 0.00379\n",
      "  Iteration 9\t time lapse 0.96768s\t ll change 0.00345\n",
      "  Iteration 10\t time lapse 0.97759s\t ll change 0.00312\n",
      "  Iteration 11\t time lapse 0.97749s\t ll change 0.00286\n",
      "  Iteration 12\t time lapse 0.96109s\t ll change 0.00273\n",
      "  Iteration 13\t time lapse 0.94869s\t ll change 0.00267\n",
      "  Iteration 14\t time lapse 0.94995s\t ll change 0.00259\n",
      "  Iteration 15\t time lapse 0.96790s\t ll change 0.00238\n",
      "Initialization converged: False\t time lapse 16.17921s\t ll 2.69391\n"
     ]
    },
    {
     "name": "stderr",
     "output_type": "stream",
     "text": [
      "/home/av/.local/lib/python3.10/site-packages/sklearn/mixture/_base.py:274: ConvergenceWarning: Initialization 1 did not converge. Try different init parameters, or increase max_iter, tol or check for degenerate data.\n",
      "  warnings.warn(\n"
     ]
    },
    {
     "name": "stdout",
     "output_type": "stream",
     "text": [
      "Initialization 0\n",
      "  Iteration 1\t time lapse 3.09096s\t ll change inf\n",
      "  Iteration 2\t time lapse 1.05213s\t ll change 0.53965\n",
      "  Iteration 3\t time lapse 1.14524s\t ll change 0.01913\n",
      "  Iteration 4\t time lapse 1.14976s\t ll change 0.01172\n",
      "  Iteration 5\t time lapse 1.07672s\t ll change 0.00826\n",
      "  Iteration 6\t time lapse 1.05559s\t ll change 0.00616\n",
      "  Iteration 7\t time lapse 1.07222s\t ll change 0.00474\n",
      "  Iteration 8\t time lapse 1.16456s\t ll change 0.00375\n",
      "  Iteration 9\t time lapse 1.07000s\t ll change 0.00306\n",
      "  Iteration 10\t time lapse 1.11501s\t ll change 0.00260\n",
      "  Iteration 11\t time lapse 1.07047s\t ll change 0.00232\n",
      "  Iteration 12\t time lapse 1.06912s\t ll change 0.00221\n",
      "  Iteration 13\t time lapse 1.04701s\t ll change 0.00219\n",
      "  Iteration 14\t time lapse 1.09747s\t ll change 0.00211\n",
      "  Iteration 15\t time lapse 1.05047s\t ll change 0.00186\n",
      "Initialization converged: False\t time lapse 18.32711s\t ll 2.90397\n"
     ]
    },
    {
     "name": "stderr",
     "output_type": "stream",
     "text": [
      "/home/av/.local/lib/python3.10/site-packages/sklearn/mixture/_base.py:274: ConvergenceWarning: Initialization 1 did not converge. Try different init parameters, or increase max_iter, tol or check for degenerate data.\n",
      "  warnings.warn(\n"
     ]
    },
    {
     "name": "stdout",
     "output_type": "stream",
     "text": [
      "Initialization 0\n",
      "  Iteration 1\t time lapse 3.65020s\t ll change inf\n",
      "  Iteration 2\t time lapse 1.06981s\t ll change 0.50948\n",
      "  Iteration 3\t time lapse 1.13758s\t ll change 0.01995\n",
      "  Iteration 4\t time lapse 1.10001s\t ll change 0.01398\n",
      "  Iteration 5\t time lapse 1.08665s\t ll change 0.01232\n",
      "  Iteration 6\t time lapse 1.11107s\t ll change 0.01218\n",
      "  Iteration 7\t time lapse 1.10312s\t ll change 0.01154\n",
      "  Iteration 8\t time lapse 1.10951s\t ll change 0.00947\n",
      "  Iteration 9\t time lapse 1.20037s\t ll change 0.00693\n",
      "  Iteration 10\t time lapse 1.09669s\t ll change 0.00489\n",
      "  Iteration 11\t time lapse 1.05992s\t ll change 0.00355\n",
      "  Iteration 12\t time lapse 1.08635s\t ll change 0.00271\n",
      "  Iteration 13\t time lapse 1.07985s\t ll change 0.00217\n",
      "  Iteration 14\t time lapse 1.07925s\t ll change 0.00179\n",
      "  Iteration 15\t time lapse 1.17938s\t ll change 0.00151\n",
      "Initialization converged: False\t time lapse 19.15017s\t ll 1.93368\n"
     ]
    },
    {
     "name": "stderr",
     "output_type": "stream",
     "text": [
      "/home/av/.local/lib/python3.10/site-packages/sklearn/mixture/_base.py:274: ConvergenceWarning: Initialization 1 did not converge. Try different init parameters, or increase max_iter, tol or check for degenerate data.\n",
      "  warnings.warn(\n"
     ]
    },
    {
     "name": "stdout",
     "output_type": "stream",
     "text": [
      "Initialization 0\n",
      "  Iteration 1\t time lapse 3.75757s\t ll change inf\n",
      "  Iteration 2\t time lapse 0.95965s\t ll change 0.44301\n",
      "  Iteration 3\t time lapse 0.97547s\t ll change 0.02046\n",
      "  Iteration 4\t time lapse 1.05753s\t ll change 0.01350\n",
      "  Iteration 5\t time lapse 0.97240s\t ll change 0.01008\n",
      "  Iteration 6\t time lapse 0.99027s\t ll change 0.00778\n",
      "  Iteration 7\t time lapse 0.98407s\t ll change 0.00613\n",
      "  Iteration 8\t time lapse 0.99851s\t ll change 0.00493\n",
      "  Iteration 9\t time lapse 0.98091s\t ll change 0.00407\n",
      "  Iteration 10\t time lapse 0.99093s\t ll change 0.00346\n",
      "  Iteration 11\t time lapse 1.00853s\t ll change 0.00306\n",
      "  Iteration 12\t time lapse 1.09224s\t ll change 0.00279\n",
      "  Iteration 13\t time lapse 0.96567s\t ll change 0.00259\n",
      "  Iteration 14\t time lapse 0.98186s\t ll change 0.00242\n",
      "  Iteration 15\t time lapse 0.97807s\t ll change 0.00225\n",
      "Initialization converged: False\t time lapse 17.69409s\t ll 2.57110\n"
     ]
    },
    {
     "name": "stderr",
     "output_type": "stream",
     "text": [
      "/home/av/.local/lib/python3.10/site-packages/sklearn/mixture/_base.py:274: ConvergenceWarning: Initialization 1 did not converge. Try different init parameters, or increase max_iter, tol or check for degenerate data.\n",
      "  warnings.warn(\n"
     ]
    },
    {
     "name": "stdout",
     "output_type": "stream",
     "text": [
      "Initialization 0\n",
      "  Iteration 1\t time lapse 2.90779s\t ll change inf\n",
      "  Iteration 2\t time lapse 2.43660s\t ll change 0.60005\n",
      "  Iteration 3\t time lapse 1.66598s\t ll change 0.02073\n",
      "  Iteration 4\t time lapse 1.37926s\t ll change 0.01291\n",
      "  Iteration 5\t time lapse 1.44650s\t ll change 0.00914\n",
      "  Iteration 6\t time lapse 1.55469s\t ll change 0.00692\n",
      "  Iteration 7\t time lapse 1.41188s\t ll change 0.00550\n",
      "  Iteration 8\t time lapse 1.42782s\t ll change 0.00456\n",
      "  Iteration 9\t time lapse 1.65979s\t ll change 0.00394\n",
      "  Iteration 10\t time lapse 1.91663s\t ll change 0.00355\n",
      "  Iteration 11\t time lapse 1.71713s\t ll change 0.00336\n",
      "  Iteration 12\t time lapse 2.92484s\t ll change 0.00324\n",
      "  Iteration 13\t time lapse 3.04267s\t ll change 0.00296\n",
      "  Iteration 14\t time lapse 2.94553s\t ll change 0.00240\n",
      "  Iteration 15\t time lapse 2.77026s\t ll change 0.00181\n",
      "Initialization converged: False\t time lapse 31.20775s\t ll 2.03517\n"
     ]
    },
    {
     "name": "stderr",
     "output_type": "stream",
     "text": [
      "/home/av/.local/lib/python3.10/site-packages/sklearn/mixture/_base.py:274: ConvergenceWarning: Initialization 1 did not converge. Try different init parameters, or increase max_iter, tol or check for degenerate data.\n",
      "  warnings.warn(\n"
     ]
    },
    {
     "name": "stdout",
     "output_type": "stream",
     "text": [
      "Initialization 0\n",
      "  Iteration 1\t time lapse 7.84505s\t ll change inf\n",
      "  Iteration 2\t time lapse 3.24111s\t ll change 0.05165\n",
      "  Iteration 3\t time lapse 2.94698s\t ll change 0.01951\n",
      "  Iteration 4\t time lapse 3.30265s\t ll change 0.01230\n",
      "  Iteration 5\t time lapse 3.22140s\t ll change 0.00898\n",
      "  Iteration 6\t time lapse 3.13520s\t ll change 0.00693\n",
      "  Iteration 7\t time lapse 3.23265s\t ll change 0.00557\n",
      "  Iteration 8\t time lapse 3.68197s\t ll change 0.00463\n",
      "  Iteration 9\t time lapse 2.93520s\t ll change 0.00394\n",
      "  Iteration 10\t time lapse 3.16501s\t ll change 0.00341\n",
      "  Iteration 11\t time lapse 2.84971s\t ll change 0.00295\n",
      "  Iteration 12\t time lapse 3.21289s\t ll change 0.00254\n",
      "  Iteration 13\t time lapse 2.96135s\t ll change 0.00214\n",
      "  Iteration 14\t time lapse 3.20766s\t ll change 0.00178\n",
      "  Iteration 15\t time lapse 2.88037s\t ll change 0.00145\n",
      "Initialization converged: False\t time lapse 51.81958s\t ll 2.78782\n"
     ]
    },
    {
     "name": "stderr",
     "output_type": "stream",
     "text": [
      "/home/av/.local/lib/python3.10/site-packages/sklearn/mixture/_base.py:274: ConvergenceWarning: Initialization 1 did not converge. Try different init parameters, or increase max_iter, tol or check for degenerate data.\n",
      "  warnings.warn(\n",
      "100%|██████████| 600/600 [01:23<00:00,  7.17it/s]\n",
      "/home/av/IST/slp-labs/LAB2/pf_tools.py:89: UserWarning: The feature directory already exists, and no new feature extraction will be performed.\n",
      "  warnings.warn(\"The feature directory already exists, and no new feature extraction will be performed.\")\n"
     ]
    },
    {
     "name": "stdout",
     "output_type": "stream",
     "text": [
      "Accuracy Score = 0.5983333333333334\n",
      "\n",
      "\n",
      "Combination 18\n",
      "Initialization 0\n",
      "  Iteration 1\t time lapse 14.68151s\t ll change inf\n",
      "  Iteration 2\t time lapse 5.49916s\t ll change 0.43711\n",
      "  Iteration 3\t time lapse 4.99492s\t ll change 0.01858\n",
      "  Iteration 4\t time lapse 5.01541s\t ll change 0.01038\n",
      "  Iteration 5\t time lapse 4.99914s\t ll change 0.00720\n",
      "  Iteration 6\t time lapse 5.32898s\t ll change 0.00561\n",
      "  Iteration 7\t time lapse 5.11786s\t ll change 0.00465\n",
      "  Iteration 8\t time lapse 5.36695s\t ll change 0.00394\n",
      "  Iteration 9\t time lapse 5.09767s\t ll change 0.00332\n",
      "  Iteration 10\t time lapse 5.00407s\t ll change 0.00279\n",
      "  Iteration 11\t time lapse 4.73250s\t ll change 0.00234\n",
      "  Iteration 12\t time lapse 5.32259s\t ll change 0.00199\n",
      "  Iteration 13\t time lapse 4.51767s\t ll change 0.00172\n",
      "  Iteration 14\t time lapse 5.02536s\t ll change 0.00152\n",
      "  Iteration 15\t time lapse 5.06456s\t ll change 0.00136\n",
      "Initialization converged: False\t time lapse 85.76864s\t ll 2.79173\n"
     ]
    },
    {
     "name": "stderr",
     "output_type": "stream",
     "text": [
      "/home/av/.local/lib/python3.10/site-packages/sklearn/mixture/_base.py:274: ConvergenceWarning: Initialization 1 did not converge. Try different init parameters, or increase max_iter, tol or check for degenerate data.\n",
      "  warnings.warn(\n"
     ]
    },
    {
     "name": "stdout",
     "output_type": "stream",
     "text": [
      "Initialization 0\n",
      "  Iteration 1\t time lapse 14.15654s\t ll change inf\n",
      "  Iteration 2\t time lapse 5.30451s\t ll change 0.44775\n",
      "  Iteration 3\t time lapse 5.69668s\t ll change 0.01797\n",
      "  Iteration 4\t time lapse 5.63833s\t ll change 0.01011\n",
      "  Iteration 5\t time lapse 5.64031s\t ll change 0.00714\n",
      "  Iteration 6\t time lapse 5.73773s\t ll change 0.00560\n",
      "  Iteration 7\t time lapse 5.82807s\t ll change 0.00461\n",
      "  Iteration 8\t time lapse 5.72624s\t ll change 0.00391\n",
      "  Iteration 9\t time lapse 5.30051s\t ll change 0.00337\n",
      "  Iteration 10\t time lapse 6.31346s\t ll change 0.00298\n",
      "  Iteration 11\t time lapse 5.71628s\t ll change 0.00273\n",
      "  Iteration 12\t time lapse 5.76606s\t ll change 0.00260\n",
      "  Iteration 13\t time lapse 5.83520s\t ll change 0.00256\n",
      "  Iteration 14\t time lapse 5.41459s\t ll change 0.00252\n",
      "  Iteration 15\t time lapse 5.63353s\t ll change 0.00241\n",
      "Initialization converged: False\t time lapse 93.70817s\t ll 2.97607\n"
     ]
    },
    {
     "name": "stderr",
     "output_type": "stream",
     "text": [
      "/home/av/.local/lib/python3.10/site-packages/sklearn/mixture/_base.py:274: ConvergenceWarning: Initialization 1 did not converge. Try different init parameters, or increase max_iter, tol or check for degenerate data.\n",
      "  warnings.warn(\n"
     ]
    },
    {
     "name": "stdout",
     "output_type": "stream",
     "text": [
      "Initialization 0\n",
      "  Iteration 1\t time lapse 14.21727s\t ll change inf\n",
      "  Iteration 2\t time lapse 1.87888s\t ll change 0.45423\n",
      "  Iteration 3\t time lapse 1.80631s\t ll change 0.02609\n",
      "  Iteration 4\t time lapse 1.74206s\t ll change 0.01850\n",
      "  Iteration 5\t time lapse 1.82890s\t ll change 0.01522\n",
      "  Iteration 6\t time lapse 1.76880s\t ll change 0.01166\n",
      "  Iteration 7\t time lapse 1.77819s\t ll change 0.00801\n",
      "  Iteration 8\t time lapse 1.79285s\t ll change 0.00555\n",
      "  Iteration 9\t time lapse 1.85171s\t ll change 0.00413\n",
      "  Iteration 10\t time lapse 1.80540s\t ll change 0.00325\n",
      "  Iteration 11\t time lapse 1.77612s\t ll change 0.00265\n",
      "  Iteration 12\t time lapse 1.76298s\t ll change 0.00220\n",
      "  Iteration 13\t time lapse 1.71879s\t ll change 0.00185\n",
      "  Iteration 14\t time lapse 1.76651s\t ll change 0.00156\n",
      "  Iteration 15\t time lapse 1.75120s\t ll change 0.00132\n",
      "Initialization converged: False\t time lapse 39.24641s\t ll 2.04257\n"
     ]
    },
    {
     "name": "stderr",
     "output_type": "stream",
     "text": [
      "/home/av/.local/lib/python3.10/site-packages/sklearn/mixture/_base.py:274: ConvergenceWarning: Initialization 1 did not converge. Try different init parameters, or increase max_iter, tol or check for degenerate data.\n",
      "  warnings.warn(\n"
     ]
    },
    {
     "name": "stdout",
     "output_type": "stream",
     "text": [
      "Initialization 0\n",
      "  Iteration 1\t time lapse 7.12130s\t ll change inf\n",
      "  Iteration 2\t time lapse 1.61354s\t ll change 0.37499\n",
      "  Iteration 3\t time lapse 1.59037s\t ll change 0.01945\n",
      "  Iteration 4\t time lapse 1.57432s\t ll change 0.01206\n",
      "  Iteration 5\t time lapse 1.58544s\t ll change 0.00929\n",
      "  Iteration 6\t time lapse 1.55626s\t ll change 0.00778\n",
      "  Iteration 7\t time lapse 1.62796s\t ll change 0.00672\n",
      "  Iteration 8\t time lapse 1.65857s\t ll change 0.00592\n",
      "  Iteration 9\t time lapse 1.58358s\t ll change 0.00534\n",
      "  Iteration 10\t time lapse 1.58967s\t ll change 0.00491\n",
      "  Iteration 11\t time lapse 1.65065s\t ll change 0.00456\n",
      "  Iteration 12\t time lapse 1.57714s\t ll change 0.00420\n",
      "  Iteration 13\t time lapse 1.61635s\t ll change 0.00379\n",
      "  Iteration 14\t time lapse 1.59511s\t ll change 0.00336\n",
      "  Iteration 15\t time lapse 1.58356s\t ll change 0.00297\n",
      "Initialization converged: False\t time lapse 29.52392s\t ll 2.66475\n"
     ]
    },
    {
     "name": "stderr",
     "output_type": "stream",
     "text": [
      "/home/av/.local/lib/python3.10/site-packages/sklearn/mixture/_base.py:274: ConvergenceWarning: Initialization 1 did not converge. Try different init parameters, or increase max_iter, tol or check for degenerate data.\n",
      "  warnings.warn(\n"
     ]
    },
    {
     "name": "stdout",
     "output_type": "stream",
     "text": [
      "Initialization 0\n",
      "  Iteration 1\t time lapse 4.92023s\t ll change inf\n",
      "  Iteration 2\t time lapse 1.47479s\t ll change 0.53841\n",
      "  Iteration 3\t time lapse 1.43254s\t ll change 0.01936\n",
      "  Iteration 4\t time lapse 1.45093s\t ll change 0.01182\n",
      "  Iteration 5\t time lapse 1.48654s\t ll change 0.00889\n",
      "  Iteration 6\t time lapse 1.50162s\t ll change 0.00731\n",
      "  Iteration 7\t time lapse 1.49388s\t ll change 0.00626\n",
      "  Iteration 8\t time lapse 1.42285s\t ll change 0.00546\n",
      "  Iteration 9\t time lapse 1.47229s\t ll change 0.00477\n",
      "  Iteration 10\t time lapse 1.41792s\t ll change 0.00415\n",
      "  Iteration 11\t time lapse 1.43211s\t ll change 0.00360\n",
      "  Iteration 12\t time lapse 1.43750s\t ll change 0.00310\n",
      "  Iteration 13\t time lapse 1.49028s\t ll change 0.00266\n",
      "  Iteration 14\t time lapse 1.42388s\t ll change 0.00232\n",
      "  Iteration 15\t time lapse 1.45764s\t ll change 0.00207\n",
      "Initialization converged: False\t time lapse 25.31513s\t ll 2.11450\n"
     ]
    },
    {
     "name": "stderr",
     "output_type": "stream",
     "text": [
      "/home/av/.local/lib/python3.10/site-packages/sklearn/mixture/_base.py:274: ConvergenceWarning: Initialization 1 did not converge. Try different init parameters, or increase max_iter, tol or check for degenerate data.\n",
      "  warnings.warn(\n"
     ]
    },
    {
     "name": "stdout",
     "output_type": "stream",
     "text": [
      "Initialization 0\n",
      "  Iteration 1\t time lapse 4.99771s\t ll change inf\n",
      "  Iteration 2\t time lapse 1.53091s\t ll change 0.05801\n",
      "  Iteration 3\t time lapse 1.52744s\t ll change 0.02001\n",
      "  Iteration 4\t time lapse 1.50932s\t ll change 0.01181\n",
      "  Iteration 5\t time lapse 1.52693s\t ll change 0.00857\n",
      "  Iteration 6\t time lapse 1.54737s\t ll change 0.00683\n",
      "  Iteration 7\t time lapse 1.55421s\t ll change 0.00565\n",
      "  Iteration 8\t time lapse 1.54277s\t ll change 0.00475\n",
      "  Iteration 9\t time lapse 1.54751s\t ll change 0.00405\n",
      "  Iteration 10\t time lapse 1.52162s\t ll change 0.00349\n",
      "  Iteration 11\t time lapse 1.52647s\t ll change 0.00302\n",
      "  Iteration 12\t time lapse 1.58745s\t ll change 0.00260\n",
      "  Iteration 13\t time lapse 1.53084s\t ll change 0.00225\n",
      "  Iteration 14\t time lapse 1.53353s\t ll change 0.00194\n",
      "  Iteration 15\t time lapse 1.52286s\t ll change 0.00169\n",
      "Initialization converged: False\t time lapse 26.50740s\t ll 2.86766\n"
     ]
    },
    {
     "name": "stderr",
     "output_type": "stream",
     "text": [
      "/home/av/.local/lib/python3.10/site-packages/sklearn/mixture/_base.py:274: ConvergenceWarning: Initialization 1 did not converge. Try different init parameters, or increase max_iter, tol or check for degenerate data.\n",
      "  warnings.warn(\n",
      "100%|██████████| 600/600 [00:50<00:00, 11.85it/s]\n",
      "/home/av/IST/slp-labs/LAB2/pf_tools.py:89: UserWarning: The feature directory already exists, and no new feature extraction will be performed.\n",
      "  warnings.warn(\"The feature directory already exists, and no new feature extraction will be performed.\")\n"
     ]
    },
    {
     "name": "stdout",
     "output_type": "stream",
     "text": [
      "Accuracy Score = 0.62\n",
      "\n",
      "\n",
      "Combination 19\n",
      "Initialization 0\n",
      "  Iteration 1\t time lapse 1.46947s\t ll change inf\n",
      "  Iteration 2\t time lapse 0.57673s\t ll change 0.51854\n",
      "  Iteration 3\t time lapse 0.57016s\t ll change 0.01597\n",
      "  Iteration 4\t time lapse 0.57743s\t ll change 0.01134\n",
      "  Iteration 5\t time lapse 0.59333s\t ll change 0.00899\n",
      "  Iteration 6\t time lapse 0.62045s\t ll change 0.00693\n",
      "  Iteration 7\t time lapse 0.56970s\t ll change 0.00511\n",
      "  Iteration 8\t time lapse 0.56814s\t ll change 0.00371\n",
      "  Iteration 9\t time lapse 0.59492s\t ll change 0.00272\n",
      "  Iteration 10\t time lapse 0.58114s\t ll change 0.00205\n",
      "  Iteration 11\t time lapse 0.57472s\t ll change 0.00159\n",
      "  Iteration 12\t time lapse 0.58311s\t ll change 0.00126\n",
      "  Iteration 13\t time lapse 0.55440s\t ll change 0.00102\n",
      "  Iteration 14\t time lapse 0.56699s\t ll change 0.00083\n",
      "Initialization converged: True\t time lapse 9.00076s\t ll 2.56139\n",
      "Initialization 0\n",
      "  Iteration 1\t time lapse 1.63594s\t ll change inf\n",
      "  Iteration 2\t time lapse 0.62441s\t ll change 0.65147\n",
      "  Iteration 3\t time lapse 0.63728s\t ll change 0.01700\n",
      "  Iteration 4\t time lapse 0.62086s\t ll change 0.01022\n",
      "  Iteration 5\t time lapse 0.61739s\t ll change 0.00668\n",
      "  Iteration 6\t time lapse 0.61066s\t ll change 0.00443\n",
      "  Iteration 7\t time lapse 0.62034s\t ll change 0.00296\n",
      "  Iteration 8\t time lapse 0.59874s\t ll change 0.00203\n",
      "  Iteration 9\t time lapse 0.61574s\t ll change 0.00145\n",
      "  Iteration 10\t time lapse 0.60698s\t ll change 0.00109\n",
      "  Iteration 11\t time lapse 0.66153s\t ll change 0.00086\n",
      "Initialization converged: True\t time lapse 7.84994s\t ll 2.76798\n",
      "Initialization 0\n",
      "  Iteration 1\t time lapse 1.47603s\t ll change inf\n",
      "  Iteration 2\t time lapse 0.64358s\t ll change 0.57986\n",
      "  Iteration 3\t time lapse 0.61996s\t ll change 0.01359\n",
      "  Iteration 4\t time lapse 0.62970s\t ll change 0.00896\n",
      "  Iteration 5\t time lapse 0.62350s\t ll change 0.00753\n",
      "  Iteration 6\t time lapse 0.62394s\t ll change 0.00735\n",
      "  Iteration 7\t time lapse 0.62745s\t ll change 0.00793\n",
      "  Iteration 8\t time lapse 0.63612s\t ll change 0.00846\n",
      "  Iteration 9\t time lapse 0.61568s\t ll change 0.00790\n",
      "  Iteration 10\t time lapse 0.63385s\t ll change 0.00642\n",
      "  Iteration 11\t time lapse 0.61546s\t ll change 0.00494\n",
      "  Iteration 12\t time lapse 0.63526s\t ll change 0.00400\n",
      "  Iteration 13\t time lapse 0.64661s\t ll change 0.00369\n",
      "  Iteration 14\t time lapse 0.64232s\t ll change 0.00400\n",
      "  Iteration 15\t time lapse 0.63418s\t ll change 0.00501\n",
      "Initialization converged: False\t time lapse 10.30370s\t ll 1.69836\n"
     ]
    },
    {
     "name": "stderr",
     "output_type": "stream",
     "text": [
      "/home/av/.local/lib/python3.10/site-packages/sklearn/mixture/_base.py:274: ConvergenceWarning: Initialization 1 did not converge. Try different init parameters, or increase max_iter, tol or check for degenerate data.\n",
      "  warnings.warn(\n"
     ]
    },
    {
     "name": "stdout",
     "output_type": "stream",
     "text": [
      "Initialization 0\n",
      "  Iteration 1\t time lapse 1.52145s\t ll change inf\n",
      "  Iteration 2\t time lapse 0.58196s\t ll change 0.55182\n",
      "  Iteration 3\t time lapse 0.60659s\t ll change 0.01797\n",
      "  Iteration 4\t time lapse 0.58199s\t ll change 0.01113\n",
      "  Iteration 5\t time lapse 0.56234s\t ll change 0.00732\n",
      "  Iteration 6\t time lapse 0.58760s\t ll change 0.00486\n",
      "  Iteration 7\t time lapse 0.58677s\t ll change 0.00325\n",
      "  Iteration 8\t time lapse 0.58588s\t ll change 0.00221\n",
      "  Iteration 9\t time lapse 0.58307s\t ll change 0.00153\n",
      "  Iteration 10\t time lapse 0.57575s\t ll change 0.00108\n",
      "  Iteration 11\t time lapse 0.60357s\t ll change 0.00078\n",
      "Initialization converged: True\t time lapse 7.37705s\t ll 2.44533\n",
      "Initialization 0\n",
      "  Iteration 1\t time lapse 1.25608s\t ll change inf\n",
      "  Iteration 2\t time lapse 0.77866s\t ll change 0.71166\n",
      "  Iteration 3\t time lapse 0.57254s\t ll change 0.02035\n",
      "  Iteration 4\t time lapse 0.54346s\t ll change 0.01443\n",
      "  Iteration 5\t time lapse 0.55591s\t ll change 0.01151\n",
      "  Iteration 6\t time lapse 0.53758s\t ll change 0.00934\n",
      "  Iteration 7\t time lapse 0.54910s\t ll change 0.00743\n",
      "  Iteration 8\t time lapse 0.53137s\t ll change 0.00570\n",
      "  Iteration 9\t time lapse 0.53249s\t ll change 0.00424\n",
      "  Iteration 10\t time lapse 0.53217s\t ll change 0.00309\n",
      "  Iteration 11\t time lapse 0.53118s\t ll change 0.00223\n",
      "  Iteration 12\t time lapse 0.55909s\t ll change 0.00163\n",
      "  Iteration 13\t time lapse 0.52908s\t ll change 0.00122\n",
      "  Iteration 14\t time lapse 0.52923s\t ll change 0.00093\n",
      "Initialization converged: True\t time lapse 8.53802s\t ll 1.92211\n",
      "Initialization 0\n",
      "  Iteration 1\t time lapse 1.28623s\t ll change inf\n",
      "  Iteration 2\t time lapse 0.59972s\t ll change 0.03711\n",
      "  Iteration 3\t time lapse 0.55774s\t ll change 0.01328\n",
      "  Iteration 4\t time lapse 0.56102s\t ll change 0.00844\n",
      "  Iteration 5\t time lapse 0.58858s\t ll change 0.00650\n",
      "  Iteration 6\t time lapse 0.57752s\t ll change 0.00546\n",
      "  Iteration 7\t time lapse 0.55723s\t ll change 0.00487\n",
      "  Iteration 8\t time lapse 0.55964s\t ll change 0.00454\n",
      "  Iteration 9\t time lapse 0.54994s\t ll change 0.00439\n",
      "  Iteration 10\t time lapse 0.55940s\t ll change 0.00422\n",
      "  Iteration 11\t time lapse 0.55323s\t ll change 0.00383\n",
      "  Iteration 12\t time lapse 0.58429s\t ll change 0.00312\n",
      "  Iteration 13\t time lapse 0.56674s\t ll change 0.00229\n",
      "  Iteration 14\t time lapse 0.56508s\t ll change 0.00156\n",
      "  Iteration 15\t time lapse 0.57347s\t ll change 0.00104\n",
      "Initialization converged: False\t time lapse 9.23988s\t ll 2.63244\n"
     ]
    },
    {
     "name": "stderr",
     "output_type": "stream",
     "text": [
      "/home/av/.local/lib/python3.10/site-packages/sklearn/mixture/_base.py:274: ConvergenceWarning: Initialization 1 did not converge. Try different init parameters, or increase max_iter, tol or check for degenerate data.\n",
      "  warnings.warn(\n",
      "100%|██████████| 600/600 [00:18<00:00, 31.79it/s]\n",
      "/home/av/IST/slp-labs/LAB2/pf_tools.py:89: UserWarning: The feature directory already exists, and no new feature extraction will be performed.\n",
      "  warnings.warn(\"The feature directory already exists, and no new feature extraction will be performed.\")\n"
     ]
    },
    {
     "name": "stdout",
     "output_type": "stream",
     "text": [
      "Accuracy Score = 0.5466666666666666\n",
      "\n",
      "\n",
      "Combination 20\n",
      "Initialization 0\n",
      "  Iteration 1\t time lapse 2.50347s\t ll change inf\n",
      "  Iteration 2\t time lapse 0.99483s\t ll change 0.49705\n",
      "  Iteration 3\t time lapse 0.99801s\t ll change 0.01533\n",
      "  Iteration 4\t time lapse 1.05745s\t ll change 0.00867\n",
      "  Iteration 5\t time lapse 0.98564s\t ll change 0.00605\n",
      "  Iteration 6\t time lapse 0.96772s\t ll change 0.00467\n",
      "  Iteration 7\t time lapse 0.99180s\t ll change 0.00381\n",
      "  Iteration 8\t time lapse 0.99100s\t ll change 0.00322\n",
      "  Iteration 9\t time lapse 0.98716s\t ll change 0.00278\n",
      "  Iteration 10\t time lapse 0.98825s\t ll change 0.00242\n",
      "  Iteration 11\t time lapse 1.00116s\t ll change 0.00211\n",
      "  Iteration 12\t time lapse 1.00146s\t ll change 0.00182\n",
      "  Iteration 13\t time lapse 0.98898s\t ll change 0.00155\n",
      "  Iteration 14\t time lapse 0.99290s\t ll change 0.00136\n",
      "  Iteration 15\t time lapse 1.01040s\t ll change 0.00124\n",
      "Initialization converged: False\t time lapse 16.46062s\t ll 2.67869\n"
     ]
    },
    {
     "name": "stderr",
     "output_type": "stream",
     "text": [
      "/home/av/.local/lib/python3.10/site-packages/sklearn/mixture/_base.py:274: ConvergenceWarning: Initialization 1 did not converge. Try different init parameters, or increase max_iter, tol or check for degenerate data.\n",
      "  warnings.warn(\n"
     ]
    },
    {
     "name": "stdout",
     "output_type": "stream",
     "text": [
      "Initialization 0\n",
      "  Iteration 1\t time lapse 3.15525s\t ll change inf\n",
      "  Iteration 2\t time lapse 1.07810s\t ll change 0.54119\n",
      "  Iteration 3\t time lapse 1.09399s\t ll change 0.01818\n",
      "  Iteration 4\t time lapse 1.25499s\t ll change 0.01118\n",
      "  Iteration 5\t time lapse 1.05808s\t ll change 0.00820\n",
      "  Iteration 6\t time lapse 1.10426s\t ll change 0.00652\n",
      "  Iteration 7\t time lapse 1.08054s\t ll change 0.00541\n",
      "  Iteration 8\t time lapse 1.06132s\t ll change 0.00463\n",
      "  Iteration 9\t time lapse 1.04095s\t ll change 0.00407\n",
      "  Iteration 10\t time lapse 1.02184s\t ll change 0.00367\n",
      "  Iteration 11\t time lapse 1.02463s\t ll change 0.00335\n",
      "  Iteration 12\t time lapse 1.03843s\t ll change 0.00307\n",
      "  Iteration 13\t time lapse 1.02592s\t ll change 0.00279\n",
      "  Iteration 14\t time lapse 1.02480s\t ll change 0.00249\n",
      "  Iteration 15\t time lapse 1.03304s\t ll change 0.00219\n",
      "Initialization converged: False\t time lapse 18.09649s\t ll 2.88961\n"
     ]
    },
    {
     "name": "stderr",
     "output_type": "stream",
     "text": [
      "/home/av/.local/lib/python3.10/site-packages/sklearn/mixture/_base.py:274: ConvergenceWarning: Initialization 1 did not converge. Try different init parameters, or increase max_iter, tol or check for degenerate data.\n",
      "  warnings.warn(\n"
     ]
    },
    {
     "name": "stdout",
     "output_type": "stream",
     "text": [
      "Initialization 0\n",
      "  Iteration 1\t time lapse 3.23479s\t ll change inf\n",
      "  Iteration 2\t time lapse 1.05125s\t ll change 0.52174\n",
      "  Iteration 3\t time lapse 1.06537s\t ll change 0.02058\n",
      "  Iteration 4\t time lapse 1.14921s\t ll change 0.01483\n",
      "  Iteration 5\t time lapse 1.11416s\t ll change 0.01313\n",
      "  Iteration 6\t time lapse 1.16076s\t ll change 0.01224\n",
      "  Iteration 7\t time lapse 1.09533s\t ll change 0.01051\n",
      "  Iteration 8\t time lapse 1.08162s\t ll change 0.00851\n",
      "  Iteration 9\t time lapse 1.07888s\t ll change 0.00704\n",
      "  Iteration 10\t time lapse 1.13526s\t ll change 0.00591\n",
      "  Iteration 11\t time lapse 1.13100s\t ll change 0.00475\n",
      "  Iteration 12\t time lapse 1.08602s\t ll change 0.00360\n",
      "  Iteration 13\t time lapse 1.12465s\t ll change 0.00269\n",
      "  Iteration 14\t time lapse 1.08463s\t ll change 0.00206\n",
      "  Iteration 15\t time lapse 1.18090s\t ll change 0.00163\n",
      "Initialization converged: False\t time lapse 18.77425s\t ll 1.93514\n"
     ]
    },
    {
     "name": "stderr",
     "output_type": "stream",
     "text": [
      "/home/av/.local/lib/python3.10/site-packages/sklearn/mixture/_base.py:274: ConvergenceWarning: Initialization 1 did not converge. Try different init parameters, or increase max_iter, tol or check for degenerate data.\n",
      "  warnings.warn(\n"
     ]
    },
    {
     "name": "stdout",
     "output_type": "stream",
     "text": [
      "Initialization 0\n",
      "  Iteration 1\t time lapse 2.92173s\t ll change inf\n",
      "  Iteration 2\t time lapse 0.99410s\t ll change 0.39380\n",
      "  Iteration 3\t time lapse 1.00596s\t ll change 0.02018\n",
      "  Iteration 4\t time lapse 0.98682s\t ll change 0.01349\n",
      "  Iteration 5\t time lapse 1.01801s\t ll change 0.01041\n",
      "  Iteration 6\t time lapse 1.14623s\t ll change 0.00845\n",
      "  Iteration 7\t time lapse 1.02154s\t ll change 0.00703\n",
      "  Iteration 8\t time lapse 1.00695s\t ll change 0.00592\n",
      "  Iteration 9\t time lapse 0.99622s\t ll change 0.00499\n",
      "  Iteration 10\t time lapse 1.00163s\t ll change 0.00422\n",
      "  Iteration 11\t time lapse 1.01883s\t ll change 0.00359\n",
      "  Iteration 12\t time lapse 1.00825s\t ll change 0.00305\n",
      "  Iteration 13\t time lapse 1.02626s\t ll change 0.00260\n",
      "  Iteration 14\t time lapse 1.03795s\t ll change 0.00223\n",
      "  Iteration 15\t time lapse 0.96694s\t ll change 0.00194\n",
      "Initialization converged: False\t time lapse 17.15779s\t ll 2.56638\n"
     ]
    },
    {
     "name": "stderr",
     "output_type": "stream",
     "text": [
      "/home/av/.local/lib/python3.10/site-packages/sklearn/mixture/_base.py:274: ConvergenceWarning: Initialization 1 did not converge. Try different init parameters, or increase max_iter, tol or check for degenerate data.\n",
      "  warnings.warn(\n"
     ]
    },
    {
     "name": "stdout",
     "output_type": "stream",
     "text": [
      "Initialization 0\n",
      "  Iteration 1\t time lapse 2.50187s\t ll change inf\n",
      "  Iteration 2\t time lapse 0.91319s\t ll change 0.63532\n",
      "  Iteration 3\t time lapse 0.89019s\t ll change 0.01949\n",
      "  Iteration 4\t time lapse 0.89601s\t ll change 0.01230\n",
      "  Iteration 5\t time lapse 0.91624s\t ll change 0.00878\n",
      "  Iteration 6\t time lapse 0.95466s\t ll change 0.00655\n",
      "  Iteration 7\t time lapse 0.90928s\t ll change 0.00502\n",
      "  Iteration 8\t time lapse 0.94534s\t ll change 0.00395\n",
      "  Iteration 9\t time lapse 0.92854s\t ll change 0.00321\n",
      "  Iteration 10\t time lapse 0.90296s\t ll change 0.00269\n",
      "  Iteration 11\t time lapse 0.95270s\t ll change 0.00233\n",
      "  Iteration 12\t time lapse 0.93618s\t ll change 0.00208\n",
      "  Iteration 13\t time lapse 0.92224s\t ll change 0.00190\n",
      "  Iteration 14\t time lapse 0.90968s\t ll change 0.00176\n",
      "  Iteration 15\t time lapse 0.90502s\t ll change 0.00166\n",
      "Initialization converged: False\t time lapse 15.38448s\t ll 2.01902\n"
     ]
    },
    {
     "name": "stderr",
     "output_type": "stream",
     "text": [
      "/home/av/.local/lib/python3.10/site-packages/sklearn/mixture/_base.py:274: ConvergenceWarning: Initialization 1 did not converge. Try different init parameters, or increase max_iter, tol or check for degenerate data.\n",
      "  warnings.warn(\n"
     ]
    },
    {
     "name": "stdout",
     "output_type": "stream",
     "text": [
      "Initialization 0\n",
      "  Iteration 1\t time lapse 2.80411s\t ll change inf\n",
      "  Iteration 2\t time lapse 0.98697s\t ll change 0.05161\n",
      "  Iteration 3\t time lapse 1.01817s\t ll change 0.01959\n",
      "  Iteration 4\t time lapse 0.98620s\t ll change 0.01260\n",
      "  Iteration 5\t time lapse 0.96025s\t ll change 0.00937\n",
      "  Iteration 6\t time lapse 0.98862s\t ll change 0.00731\n",
      "  Iteration 7\t time lapse 0.97774s\t ll change 0.00587\n",
      "  Iteration 8\t time lapse 0.99092s\t ll change 0.00485\n",
      "  Iteration 9\t time lapse 0.97762s\t ll change 0.00410\n",
      "  Iteration 10\t time lapse 0.98888s\t ll change 0.00352\n",
      "  Iteration 11\t time lapse 0.93688s\t ll change 0.00303\n",
      "  Iteration 12\t time lapse 0.97853s\t ll change 0.00258\n",
      "  Iteration 13\t time lapse 1.01380s\t ll change 0.00217\n",
      "  Iteration 14\t time lapse 1.01894s\t ll change 0.00178\n",
      "  Iteration 15\t time lapse 0.98848s\t ll change 0.00144\n",
      "Initialization converged: False\t time lapse 16.61646s\t ll 2.78776\n"
     ]
    },
    {
     "name": "stderr",
     "output_type": "stream",
     "text": [
      "/home/av/.local/lib/python3.10/site-packages/sklearn/mixture/_base.py:274: ConvergenceWarning: Initialization 1 did not converge. Try different init parameters, or increase max_iter, tol or check for degenerate data.\n",
      "  warnings.warn(\n",
      "100%|██████████| 600/600 [00:30<00:00, 19.81it/s]\n",
      "/home/av/IST/slp-labs/LAB2/pf_tools.py:89: UserWarning: The feature directory already exists, and no new feature extraction will be performed.\n",
      "  warnings.warn(\"The feature directory already exists, and no new feature extraction will be performed.\")\n"
     ]
    },
    {
     "name": "stdout",
     "output_type": "stream",
     "text": [
      "Accuracy Score = 0.595\n",
      "\n",
      "\n",
      "Combination 21\n",
      "Initialization 0\n",
      "  Iteration 1\t time lapse 6.13799s\t ll change inf\n",
      "  Iteration 2\t time lapse 1.57665s\t ll change 0.43725\n",
      "  Iteration 3\t time lapse 1.56131s\t ll change 0.01940\n",
      "  Iteration 4\t time lapse 1.55232s\t ll change 0.01109\n",
      "  Iteration 5\t time lapse 1.61243s\t ll change 0.00752\n",
      "  Iteration 6\t time lapse 1.52615s\t ll change 0.00562\n",
      "  Iteration 7\t time lapse 1.54829s\t ll change 0.00446\n",
      "  Iteration 8\t time lapse 1.52642s\t ll change 0.00366\n",
      "  Iteration 9\t time lapse 1.52003s\t ll change 0.00307\n",
      "  Iteration 10\t time lapse 1.53914s\t ll change 0.00262\n",
      "  Iteration 11\t time lapse 1.58754s\t ll change 0.00227\n",
      "  Iteration 12\t time lapse 1.49399s\t ll change 0.00199\n",
      "  Iteration 13\t time lapse 1.55298s\t ll change 0.00178\n",
      "  Iteration 14\t time lapse 1.57190s\t ll change 0.00161\n",
      "  Iteration 15\t time lapse 1.49024s\t ll change 0.00147\n",
      "Initialization converged: False\t time lapse 27.79752s\t ll 2.79468\n"
     ]
    },
    {
     "name": "stderr",
     "output_type": "stream",
     "text": [
      "/home/av/.local/lib/python3.10/site-packages/sklearn/mixture/_base.py:274: ConvergenceWarning: Initialization 1 did not converge. Try different init parameters, or increase max_iter, tol or check for degenerate data.\n",
      "  warnings.warn(\n"
     ]
    },
    {
     "name": "stdout",
     "output_type": "stream",
     "text": [
      "Initialization 0\n",
      "  Iteration 1\t time lapse 5.52686s\t ll change inf\n",
      "  Iteration 2\t time lapse 1.78716s\t ll change 0.37806\n",
      "  Iteration 3\t time lapse 1.72970s\t ll change 0.01824\n",
      "  Iteration 4\t time lapse 1.70436s\t ll change 0.01045\n",
      "  Iteration 5\t time lapse 1.75511s\t ll change 0.00738\n",
      "  Iteration 6\t time lapse 1.67282s\t ll change 0.00571\n",
      "  Iteration 7\t time lapse 1.66382s\t ll change 0.00463\n",
      "  Iteration 8\t time lapse 1.67768s\t ll change 0.00390\n",
      "  Iteration 9\t time lapse 1.66188s\t ll change 0.00340\n",
      "  Iteration 10\t time lapse 1.64373s\t ll change 0.00308\n",
      "  Iteration 11\t time lapse 1.68981s\t ll change 0.00289\n",
      "  Iteration 12\t time lapse 1.68438s\t ll change 0.00279\n",
      "  Iteration 13\t time lapse 1.74927s\t ll change 0.00273\n",
      "  Iteration 14\t time lapse 1.76322s\t ll change 0.00265\n",
      "  Iteration 15\t time lapse 1.75189s\t ll change 0.00249\n",
      "Initialization converged: False\t time lapse 29.46212s\t ll 2.97850\n"
     ]
    },
    {
     "name": "stderr",
     "output_type": "stream",
     "text": [
      "/home/av/.local/lib/python3.10/site-packages/sklearn/mixture/_base.py:274: ConvergenceWarning: Initialization 1 did not converge. Try different init parameters, or increase max_iter, tol or check for degenerate data.\n",
      "  warnings.warn(\n"
     ]
    },
    {
     "name": "stdout",
     "output_type": "stream",
     "text": [
      "Initialization 0\n",
      "  Iteration 1\t time lapse 6.59082s\t ll change inf\n",
      "  Iteration 2\t time lapse 1.90656s\t ll change 0.42423\n",
      "  Iteration 3\t time lapse 1.72745s\t ll change 0.02487\n",
      "  Iteration 4\t time lapse 1.73928s\t ll change 0.01637\n",
      "  Iteration 5\t time lapse 1.83668s\t ll change 0.01225\n",
      "  Iteration 6\t time lapse 1.75081s\t ll change 0.00929\n",
      "  Iteration 7\t time lapse 1.85802s\t ll change 0.00688\n",
      "  Iteration 8\t time lapse 1.76387s\t ll change 0.00512\n",
      "  Iteration 9\t time lapse 1.73446s\t ll change 0.00392\n",
      "  Iteration 10\t time lapse 1.69778s\t ll change 0.00312\n",
      "  Iteration 11\t time lapse 1.71880s\t ll change 0.00256\n",
      "  Iteration 12\t time lapse 1.72109s\t ll change 0.00215\n",
      "  Iteration 13\t time lapse 1.75285s\t ll change 0.00183\n",
      "  Iteration 14\t time lapse 1.73467s\t ll change 0.00159\n",
      "  Iteration 15\t time lapse 1.74026s\t ll change 0.00140\n",
      "Initialization converged: False\t time lapse 31.27382s\t ll 2.03392\n"
     ]
    },
    {
     "name": "stderr",
     "output_type": "stream",
     "text": [
      "/home/av/.local/lib/python3.10/site-packages/sklearn/mixture/_base.py:274: ConvergenceWarning: Initialization 1 did not converge. Try different init parameters, or increase max_iter, tol or check for degenerate data.\n",
      "  warnings.warn(\n"
     ]
    },
    {
     "name": "stdout",
     "output_type": "stream",
     "text": [
      "Initialization 0\n",
      "  Iteration 1\t time lapse 4.41447s\t ll change inf\n",
      "  Iteration 2\t time lapse 1.57893s\t ll change 0.39726\n",
      "  Iteration 3\t time lapse 1.56015s\t ll change 0.01808\n",
      "  Iteration 4\t time lapse 1.55769s\t ll change 0.01087\n",
      "  Iteration 5\t time lapse 1.60598s\t ll change 0.00835\n",
      "  Iteration 6\t time lapse 1.55530s\t ll change 0.00726\n",
      "  Iteration 7\t time lapse 1.57653s\t ll change 0.00669\n",
      "  Iteration 8\t time lapse 1.60125s\t ll change 0.00628\n",
      "  Iteration 9\t time lapse 1.55390s\t ll change 0.00588\n",
      "  Iteration 10\t time lapse 1.57800s\t ll change 0.00541\n",
      "  Iteration 11\t time lapse 1.60368s\t ll change 0.00511\n",
      "  Iteration 12\t time lapse 1.61245s\t ll change 0.00502\n",
      "  Iteration 13\t time lapse 1.56442s\t ll change 0.00498\n",
      "  Iteration 14\t time lapse 1.59402s\t ll change 0.00499\n",
      "  Iteration 15\t time lapse 1.55376s\t ll change 0.00567\n",
      "Initialization converged: False\t time lapse 26.51093s\t ll 2.67031\n"
     ]
    },
    {
     "name": "stderr",
     "output_type": "stream",
     "text": [
      "/home/av/.local/lib/python3.10/site-packages/sklearn/mixture/_base.py:274: ConvergenceWarning: Initialization 1 did not converge. Try different init parameters, or increase max_iter, tol or check for degenerate data.\n",
      "  warnings.warn(\n"
     ]
    },
    {
     "name": "stdout",
     "output_type": "stream",
     "text": [
      "Initialization 0\n",
      "  Iteration 1\t time lapse 5.98365s\t ll change inf\n",
      "  Iteration 2\t time lapse 1.43018s\t ll change 0.53521\n",
      "  Iteration 3\t time lapse 1.47100s\t ll change 0.01947\n",
      "  Iteration 4\t time lapse 1.44704s\t ll change 0.01143\n",
      "  Iteration 5\t time lapse 1.46085s\t ll change 0.00805\n",
      "  Iteration 6\t time lapse 1.62705s\t ll change 0.00614\n",
      "  Iteration 7\t time lapse 1.48682s\t ll change 0.00488\n",
      "  Iteration 8\t time lapse 1.41968s\t ll change 0.00401\n",
      "  Iteration 9\t time lapse 1.46758s\t ll change 0.00337\n",
      "  Iteration 10\t time lapse 1.42656s\t ll change 0.00289\n",
      "  Iteration 11\t time lapse 1.44334s\t ll change 0.00252\n",
      "  Iteration 12\t time lapse 1.50556s\t ll change 0.00222\n",
      "  Iteration 13\t time lapse 1.43773s\t ll change 0.00197\n",
      "  Iteration 14\t time lapse 1.50771s\t ll change 0.00175\n",
      "  Iteration 15\t time lapse 1.45999s\t ll change 0.00157\n",
      "Initialization converged: False\t time lapse 26.57487s\t ll 2.10971\n"
     ]
    },
    {
     "name": "stderr",
     "output_type": "stream",
     "text": [
      "/home/av/.local/lib/python3.10/site-packages/sklearn/mixture/_base.py:274: ConvergenceWarning: Initialization 1 did not converge. Try different init parameters, or increase max_iter, tol or check for degenerate data.\n",
      "  warnings.warn(\n"
     ]
    },
    {
     "name": "stdout",
     "output_type": "stream",
     "text": [
      "Initialization 0\n",
      "  Iteration 1\t time lapse 5.69734s\t ll change inf\n",
      "  Iteration 2\t time lapse 1.56280s\t ll change 0.05755\n",
      "  Iteration 3\t time lapse 1.54150s\t ll change 0.02023\n",
      "  Iteration 4\t time lapse 1.57735s\t ll change 0.01228\n",
      "  Iteration 5\t time lapse 1.53743s\t ll change 0.00917\n",
      "  Iteration 6\t time lapse 1.51275s\t ll change 0.00747\n",
      "  Iteration 7\t time lapse 1.66097s\t ll change 0.00623\n",
      "  Iteration 8\t time lapse 1.51934s\t ll change 0.00519\n",
      "  Iteration 9\t time lapse 1.53483s\t ll change 0.00432\n",
      "  Iteration 10\t time lapse 1.50716s\t ll change 0.00366\n",
      "  Iteration 11\t time lapse 1.53949s\t ll change 0.00319\n",
      "  Iteration 12\t time lapse 1.60329s\t ll change 0.00285\n",
      "  Iteration 13\t time lapse 1.56020s\t ll change 0.00260\n",
      "  Iteration 14\t time lapse 1.49944s\t ll change 0.00239\n",
      "  Iteration 15\t time lapse 1.55792s\t ll change 0.00217\n",
      "Initialization converged: False\t time lapse 27.41194s\t ll 2.87142\n"
     ]
    },
    {
     "name": "stderr",
     "output_type": "stream",
     "text": [
      "/home/av/.local/lib/python3.10/site-packages/sklearn/mixture/_base.py:274: ConvergenceWarning: Initialization 1 did not converge. Try different init parameters, or increase max_iter, tol or check for degenerate data.\n",
      "  warnings.warn(\n",
      "100%|██████████| 600/600 [00:51<00:00, 11.74it/s]\n",
      "/home/av/IST/slp-labs/LAB2/pf_tools.py:89: UserWarning: The feature directory already exists, and no new feature extraction will be performed.\n",
      "  warnings.warn(\"The feature directory already exists, and no new feature extraction will be performed.\")\n"
     ]
    },
    {
     "name": "stdout",
     "output_type": "stream",
     "text": [
      "Accuracy Score = 0.6183333333333333\n",
      "\n",
      "\n",
      "Combination 22\n",
      "Initialization 0\n",
      "  Iteration 1\t time lapse 1.57632s\t ll change inf\n",
      "  Iteration 2\t time lapse 0.60364s\t ll change 0.51888\n",
      "  Iteration 3\t time lapse 0.61811s\t ll change 0.01621\n",
      "  Iteration 4\t time lapse 0.58618s\t ll change 0.01145\n",
      "  Iteration 5\t time lapse 0.60966s\t ll change 0.00896\n",
      "  Iteration 6\t time lapse 0.59935s\t ll change 0.00682\n",
      "  Iteration 7\t time lapse 0.61923s\t ll change 0.00499\n",
      "  Iteration 8\t time lapse 0.60054s\t ll change 0.00360\n",
      "  Iteration 9\t time lapse 0.61934s\t ll change 0.00263\n",
      "  Iteration 10\t time lapse 0.60024s\t ll change 0.00198\n",
      "  Iteration 11\t time lapse 0.59978s\t ll change 0.00153\n",
      "  Iteration 12\t time lapse 0.60930s\t ll change 0.00122\n",
      "  Iteration 13\t time lapse 0.60790s\t ll change 0.00098\n",
      "Initialization converged: True\t time lapse 8.84965s\t ll 2.56071\n",
      "Initialization 0\n",
      "  Iteration 1\t time lapse 1.85338s\t ll change inf\n",
      "  Iteration 2\t time lapse 0.65351s\t ll change 0.65146\n",
      "  Iteration 3\t time lapse 0.67471s\t ll change 0.01700\n",
      "  Iteration 4\t time lapse 0.65819s\t ll change 0.01023\n",
      "  Iteration 5\t time lapse 0.62617s\t ll change 0.00669\n",
      "  Iteration 6\t time lapse 0.60934s\t ll change 0.00443\n",
      "  Iteration 7\t time lapse 0.65342s\t ll change 0.00297\n",
      "  Iteration 8\t time lapse 0.64690s\t ll change 0.00203\n",
      "  Iteration 9\t time lapse 0.61280s\t ll change 0.00145\n",
      "  Iteration 10\t time lapse 0.65382s\t ll change 0.00109\n",
      "  Iteration 11\t time lapse 0.62226s\t ll change 0.00086\n",
      "Initialization converged: True\t time lapse 8.26456s\t ll 2.76796\n",
      "Initialization 0\n",
      "  Iteration 1\t time lapse 1.69854s\t ll change inf\n",
      "  Iteration 2\t time lapse 0.62383s\t ll change 0.62734\n",
      "  Iteration 3\t time lapse 0.65570s\t ll change 0.02279\n",
      "  Iteration 4\t time lapse 0.62821s\t ll change 0.01448\n",
      "  Iteration 5\t time lapse 0.61837s\t ll change 0.01020\n",
      "  Iteration 6\t time lapse 0.63170s\t ll change 0.00720\n",
      "  Iteration 7\t time lapse 0.62258s\t ll change 0.00490\n",
      "  Iteration 8\t time lapse 0.63285s\t ll change 0.00319\n",
      "  Iteration 9\t time lapse 0.63054s\t ll change 0.00205\n",
      "  Iteration 10\t time lapse 0.62399s\t ll change 0.00133\n",
      "  Iteration 11\t time lapse 0.62059s\t ll change 0.00090\n",
      "Initialization converged: True\t time lapse 7.98695s\t ll 1.77301\n",
      "Initialization 0\n",
      "  Iteration 1\t time lapse 1.56739s\t ll change inf\n",
      "  Iteration 2\t time lapse 0.58135s\t ll change 0.55187\n",
      "  Iteration 3\t time lapse 0.59821s\t ll change 0.01797\n",
      "  Iteration 4\t time lapse 0.60752s\t ll change 0.01111\n",
      "  Iteration 5\t time lapse 0.60042s\t ll change 0.00730\n",
      "  Iteration 6\t time lapse 0.58714s\t ll change 0.00485\n",
      "  Iteration 7\t time lapse 0.58211s\t ll change 0.00325\n",
      "  Iteration 8\t time lapse 0.57832s\t ll change 0.00221\n",
      "  Iteration 9\t time lapse 0.58845s\t ll change 0.00153\n",
      "  Iteration 10\t time lapse 0.58938s\t ll change 0.00108\n",
      "  Iteration 11\t time lapse 0.57542s\t ll change 0.00077\n",
      "Initialization converged: True\t time lapse 7.45578s\t ll 2.44535\n",
      "Initialization 0\n",
      "  Iteration 1\t time lapse 1.29204s\t ll change inf\n",
      "  Iteration 2\t time lapse 0.54379s\t ll change 0.71204\n",
      "  Iteration 3\t time lapse 0.54871s\t ll change 0.02040\n",
      "  Iteration 4\t time lapse 0.54401s\t ll change 0.01449\n",
      "  Iteration 5\t time lapse 0.53892s\t ll change 0.01152\n",
      "  Iteration 6\t time lapse 0.54433s\t ll change 0.00928\n",
      "  Iteration 7\t time lapse 0.53821s\t ll change 0.00731\n",
      "  Iteration 8\t time lapse 0.53955s\t ll change 0.00556\n",
      "  Iteration 9\t time lapse 0.53353s\t ll change 0.00411\n",
      "  Iteration 10\t time lapse 0.54349s\t ll change 0.00299\n",
      "  Iteration 11\t time lapse 0.54041s\t ll change 0.00217\n",
      "  Iteration 12\t time lapse 0.55581s\t ll change 0.00159\n",
      "  Iteration 13\t time lapse 0.53575s\t ll change 0.00119\n",
      "  Iteration 14\t time lapse 0.57044s\t ll change 0.00091\n",
      "Initialization converged: True\t time lapse 8.36907s\t ll 1.92212\n",
      "Initialization 0\n",
      "  Iteration 1\t time lapse 1.46692s\t ll change inf\n",
      "  Iteration 2\t time lapse 0.58844s\t ll change 0.03716\n",
      "  Iteration 3\t time lapse 0.56338s\t ll change 0.01331\n",
      "  Iteration 4\t time lapse 0.59902s\t ll change 0.00847\n",
      "  Iteration 5\t time lapse 0.57089s\t ll change 0.00653\n",
      "  Iteration 6\t time lapse 0.57396s\t ll change 0.00549\n",
      "  Iteration 7\t time lapse 0.56292s\t ll change 0.00490\n",
      "  Iteration 8\t time lapse 0.57296s\t ll change 0.00458\n",
      "  Iteration 9\t time lapse 0.56903s\t ll change 0.00442\n",
      "  Iteration 10\t time lapse 0.56818s\t ll change 0.00424\n",
      "  Iteration 11\t time lapse 0.57186s\t ll change 0.00381\n",
      "  Iteration 12\t time lapse 0.56747s\t ll change 0.00308\n",
      "  Iteration 13\t time lapse 0.57371s\t ll change 0.00223\n",
      "  Iteration 14\t time lapse 0.57137s\t ll change 0.00152\n",
      "  Iteration 15\t time lapse 0.57291s\t ll change 0.00101\n",
      "Initialization converged: False\t time lapse 9.49308s\t ll 2.63248\n"
     ]
    },
    {
     "name": "stderr",
     "output_type": "stream",
     "text": [
      "/home/av/.local/lib/python3.10/site-packages/sklearn/mixture/_base.py:274: ConvergenceWarning: Initialization 1 did not converge. Try different init parameters, or increase max_iter, tol or check for degenerate data.\n",
      "  warnings.warn(\n",
      "100%|██████████| 600/600 [00:19<00:00, 31.01it/s]\n",
      "/home/av/IST/slp-labs/LAB2/pf_tools.py:89: UserWarning: The feature directory already exists, and no new feature extraction will be performed.\n",
      "  warnings.warn(\"The feature directory already exists, and no new feature extraction will be performed.\")\n"
     ]
    },
    {
     "name": "stdout",
     "output_type": "stream",
     "text": [
      "Accuracy Score = 0.555\n",
      "\n",
      "\n",
      "Combination 23\n",
      "Initialization 0\n",
      "  Iteration 1\t time lapse 2.92222s\t ll change inf\n",
      "  Iteration 2\t time lapse 0.97991s\t ll change 0.49576\n",
      "  Iteration 3\t time lapse 1.01312s\t ll change 0.01564\n",
      "  Iteration 4\t time lapse 1.01644s\t ll change 0.00936\n",
      "  Iteration 5\t time lapse 0.97909s\t ll change 0.00691\n",
      "  Iteration 6\t time lapse 1.00704s\t ll change 0.00560\n",
      "  Iteration 7\t time lapse 1.03610s\t ll change 0.00477\n",
      "  Iteration 8\t time lapse 1.01242s\t ll change 0.00419\n",
      "  Iteration 9\t time lapse 0.97554s\t ll change 0.00373\n",
      "  Iteration 10\t time lapse 1.03037s\t ll change 0.00334\n",
      "  Iteration 11\t time lapse 1.13901s\t ll change 0.00295\n",
      "  Iteration 12\t time lapse 1.03972s\t ll change 0.00252\n",
      "  Iteration 13\t time lapse 0.99690s\t ll change 0.00206\n",
      "  Iteration 14\t time lapse 0.98677s\t ll change 0.00162\n",
      "  Iteration 15\t time lapse 0.98824s\t ll change 0.00128\n",
      "Initialization converged: False\t time lapse 17.12327s\t ll 2.68926\n"
     ]
    },
    {
     "name": "stderr",
     "output_type": "stream",
     "text": [
      "/home/av/.local/lib/python3.10/site-packages/sklearn/mixture/_base.py:274: ConvergenceWarning: Initialization 1 did not converge. Try different init parameters, or increase max_iter, tol or check for degenerate data.\n",
      "  warnings.warn(\n"
     ]
    },
    {
     "name": "stdout",
     "output_type": "stream",
     "text": [
      "Initialization 0\n",
      "  Iteration 1\t time lapse 4.18489s\t ll change inf\n",
      "  Iteration 2\t time lapse 1.04019s\t ll change 0.56513\n",
      "  Iteration 3\t time lapse 1.04839s\t ll change 0.01887\n",
      "  Iteration 4\t time lapse 1.07506s\t ll change 0.01188\n",
      "  Iteration 5\t time lapse 1.06951s\t ll change 0.00855\n",
      "  Iteration 6\t time lapse 1.02993s\t ll change 0.00645\n",
      "  Iteration 7\t time lapse 1.17061s\t ll change 0.00499\n",
      "  Iteration 8\t time lapse 1.04743s\t ll change 0.00390\n",
      "  Iteration 9\t time lapse 1.03203s\t ll change 0.00305\n",
      "  Iteration 10\t time lapse 1.04548s\t ll change 0.00241\n",
      "  Iteration 11\t time lapse 1.07946s\t ll change 0.00193\n",
      "  Iteration 12\t time lapse 1.03164s\t ll change 0.00157\n",
      "  Iteration 13\t time lapse 1.00742s\t ll change 0.00130\n",
      "  Iteration 14\t time lapse 1.01698s\t ll change 0.00110\n",
      "  Iteration 15\t time lapse 1.07530s\t ll change 0.00095\n",
      "Initialization converged: True\t time lapse 18.95474s\t ll 2.89783\n",
      "Initialization 0\n",
      "  Iteration 1\t time lapse 3.36640s\t ll change inf\n",
      "  Iteration 2\t time lapse 1.11494s\t ll change 0.52189\n",
      "  Iteration 3\t time lapse 1.08250s\t ll change 0.02037\n",
      "  Iteration 4\t time lapse 1.19417s\t ll change 0.01451\n",
      "  Iteration 5\t time lapse 1.12820s\t ll change 0.01291\n",
      "  Iteration 6\t time lapse 1.13040s\t ll change 0.01254\n",
      "  Iteration 7\t time lapse 1.15496s\t ll change 0.01141\n",
      "  Iteration 8\t time lapse 1.11169s\t ll change 0.00927\n",
      "  Iteration 9\t time lapse 1.19115s\t ll change 0.00693\n",
      "  Iteration 10\t time lapse 1.16227s\t ll change 0.00497\n",
      "  Iteration 11\t time lapse 1.25992s\t ll change 0.00360\n",
      "  Iteration 12\t time lapse 1.09686s\t ll change 0.00271\n",
      "  Iteration 13\t time lapse 1.09591s\t ll change 0.00213\n",
      "  Iteration 14\t time lapse 1.16565s\t ll change 0.00173\n",
      "  Iteration 15\t time lapse 1.08795s\t ll change 0.00144\n",
      "Initialization converged: False\t time lapse 19.34337s\t ll 1.93508\n"
     ]
    },
    {
     "name": "stderr",
     "output_type": "stream",
     "text": [
      "/home/av/.local/lib/python3.10/site-packages/sklearn/mixture/_base.py:274: ConvergenceWarning: Initialization 1 did not converge. Try different init parameters, or increase max_iter, tol or check for degenerate data.\n",
      "  warnings.warn(\n"
     ]
    },
    {
     "name": "stdout",
     "output_type": "stream",
     "text": [
      "Initialization 0\n",
      "  Iteration 1\t time lapse 2.96960s\t ll change inf\n",
      "  Iteration 2\t time lapse 1.01003s\t ll change 0.39371\n",
      "  Iteration 3\t time lapse 1.01472s\t ll change 0.02017\n",
      "  Iteration 4\t time lapse 1.02388s\t ll change 0.01361\n",
      "  Iteration 5\t time lapse 1.01542s\t ll change 0.01064\n",
      "  Iteration 6\t time lapse 1.16437s\t ll change 0.00877\n",
      "  Iteration 7\t time lapse 1.03545s\t ll change 0.00741\n",
      "  Iteration 8\t time lapse 1.01073s\t ll change 0.00632\n",
      "  Iteration 9\t time lapse 1.00127s\t ll change 0.00538\n",
      "  Iteration 10\t time lapse 1.00036s\t ll change 0.00459\n",
      "  Iteration 11\t time lapse 0.98689s\t ll change 0.00392\n",
      "  Iteration 12\t time lapse 1.01797s\t ll change 0.00336\n",
      "  Iteration 13\t time lapse 0.99062s\t ll change 0.00289\n",
      "  Iteration 14\t time lapse 1.00645s\t ll change 0.00250\n",
      "  Iteration 15\t time lapse 0.98661s\t ll change 0.00220\n",
      "Initialization converged: False\t time lapse 17.23470s\t ll 2.56951\n"
     ]
    },
    {
     "name": "stderr",
     "output_type": "stream",
     "text": [
      "/home/av/.local/lib/python3.10/site-packages/sklearn/mixture/_base.py:274: ConvergenceWarning: Initialization 1 did not converge. Try different init parameters, or increase max_iter, tol or check for degenerate data.\n",
      "  warnings.warn(\n"
     ]
    },
    {
     "name": "stdout",
     "output_type": "stream",
     "text": [
      "Initialization 0\n",
      "  Iteration 1\t time lapse 2.58494s\t ll change inf\n",
      "  Iteration 2\t time lapse 0.90275s\t ll change 0.62933\n",
      "  Iteration 3\t time lapse 0.91755s\t ll change 0.01948\n",
      "  Iteration 4\t time lapse 0.87436s\t ll change 0.01230\n",
      "  Iteration 5\t time lapse 0.91346s\t ll change 0.00877\n",
      "  Iteration 6\t time lapse 0.94746s\t ll change 0.00655\n",
      "  Iteration 7\t time lapse 0.91026s\t ll change 0.00502\n",
      "  Iteration 8\t time lapse 0.90732s\t ll change 0.00394\n",
      "  Iteration 9\t time lapse 0.94040s\t ll change 0.00320\n",
      "  Iteration 10\t time lapse 0.88940s\t ll change 0.00268\n",
      "  Iteration 11\t time lapse 0.93366s\t ll change 0.00233\n",
      "  Iteration 12\t time lapse 0.91466s\t ll change 0.00207\n",
      "  Iteration 13\t time lapse 0.90103s\t ll change 0.00189\n",
      "  Iteration 14\t time lapse 0.91787s\t ll change 0.00175\n",
      "  Iteration 15\t time lapse 0.89859s\t ll change 0.00165\n",
      "Initialization converged: False\t time lapse 15.35409s\t ll 2.01898\n"
     ]
    },
    {
     "name": "stderr",
     "output_type": "stream",
     "text": [
      "/home/av/.local/lib/python3.10/site-packages/sklearn/mixture/_base.py:274: ConvergenceWarning: Initialization 1 did not converge. Try different init parameters, or increase max_iter, tol or check for degenerate data.\n",
      "  warnings.warn(\n"
     ]
    },
    {
     "name": "stdout",
     "output_type": "stream",
     "text": [
      "Initialization 0\n",
      "  Iteration 1\t time lapse 2.44281s\t ll change inf\n",
      "  Iteration 2\t time lapse 0.98848s\t ll change 0.04963\n",
      "  Iteration 3\t time lapse 0.99562s\t ll change 0.01840\n",
      "  Iteration 4\t time lapse 0.99656s\t ll change 0.01190\n",
      "  Iteration 5\t time lapse 0.98229s\t ll change 0.00920\n",
      "  Iteration 6\t time lapse 0.99504s\t ll change 0.00756\n",
      "  Iteration 7\t time lapse 0.98801s\t ll change 0.00649\n",
      "  Iteration 8\t time lapse 1.01760s\t ll change 0.00588\n",
      "  Iteration 9\t time lapse 0.99763s\t ll change 0.00552\n",
      "  Iteration 10\t time lapse 0.98910s\t ll change 0.00518\n",
      "  Iteration 11\t time lapse 1.00192s\t ll change 0.00470\n",
      "  Iteration 12\t time lapse 0.97921s\t ll change 0.00409\n",
      "  Iteration 13\t time lapse 0.98716s\t ll change 0.00346\n",
      "  Iteration 14\t time lapse 0.97006s\t ll change 0.00288\n",
      "  Iteration 15\t time lapse 0.96897s\t ll change 0.00237\n",
      "Initialization converged: False\t time lapse 16.30060s\t ll 2.77306\n"
     ]
    },
    {
     "name": "stderr",
     "output_type": "stream",
     "text": [
      "/home/av/.local/lib/python3.10/site-packages/sklearn/mixture/_base.py:274: ConvergenceWarning: Initialization 1 did not converge. Try different init parameters, or increase max_iter, tol or check for degenerate data.\n",
      "  warnings.warn(\n",
      "100%|██████████| 600/600 [00:30<00:00, 19.51it/s]\n",
      "/home/av/IST/slp-labs/LAB2/pf_tools.py:89: UserWarning: The feature directory already exists, and no new feature extraction will be performed.\n",
      "  warnings.warn(\"The feature directory already exists, and no new feature extraction will be performed.\")\n"
     ]
    },
    {
     "name": "stdout",
     "output_type": "stream",
     "text": [
      "Accuracy Score = 0.5933333333333334\n",
      "\n",
      "\n",
      "Combination 24\n",
      "Initialization 0\n",
      "  Iteration 1\t time lapse 6.39774s\t ll change inf\n",
      "  Iteration 2\t time lapse 1.63468s\t ll change 0.43823\n",
      "  Iteration 3\t time lapse 1.65612s\t ll change 0.01911\n",
      "  Iteration 4\t time lapse 1.64086s\t ll change 0.01069\n",
      "  Iteration 5\t time lapse 1.57397s\t ll change 0.00742\n",
      "  Iteration 6\t time lapse 1.61765s\t ll change 0.00573\n",
      "  Iteration 7\t time lapse 1.56588s\t ll change 0.00460\n",
      "  Iteration 8\t time lapse 1.58747s\t ll change 0.00371\n",
      "  Iteration 9\t time lapse 1.67488s\t ll change 0.00300\n",
      "  Iteration 10\t time lapse 1.56726s\t ll change 0.00246\n",
      "  Iteration 11\t time lapse 1.57421s\t ll change 0.00208\n",
      "  Iteration 12\t time lapse 1.57918s\t ll change 0.00179\n",
      "  Iteration 13\t time lapse 1.56674s\t ll change 0.00158\n",
      "  Iteration 14\t time lapse 1.60619s\t ll change 0.00141\n",
      "  Iteration 15\t time lapse 1.55534s\t ll change 0.00128\n",
      "Initialization converged: False\t time lapse 28.79829s\t ll 2.78997\n"
     ]
    },
    {
     "name": "stderr",
     "output_type": "stream",
     "text": [
      "/home/av/.local/lib/python3.10/site-packages/sklearn/mixture/_base.py:274: ConvergenceWarning: Initialization 1 did not converge. Try different init parameters, or increase max_iter, tol or check for degenerate data.\n",
      "  warnings.warn(\n"
     ]
    },
    {
     "name": "stdout",
     "output_type": "stream",
     "text": [
      "Initialization 0\n",
      "  Iteration 1\t time lapse 7.24132s\t ll change inf\n",
      "  Iteration 2\t time lapse 1.94749s\t ll change 0.43416\n",
      "  Iteration 3\t time lapse 1.75637s\t ll change 0.01791\n",
      "  Iteration 4\t time lapse 1.77859s\t ll change 0.00995\n",
      "  Iteration 5\t time lapse 1.81083s\t ll change 0.00699\n",
      "  Iteration 6\t time lapse 1.76398s\t ll change 0.00554\n",
      "  Iteration 7\t time lapse 1.68909s\t ll change 0.00469\n",
      "  Iteration 8\t time lapse 1.82990s\t ll change 0.00415\n",
      "  Iteration 9\t time lapse 1.73102s\t ll change 0.00377\n",
      "  Iteration 10\t time lapse 1.72488s\t ll change 0.00349\n",
      "  Iteration 11\t time lapse 1.70455s\t ll change 0.00325\n",
      "  Iteration 12\t time lapse 1.73050s\t ll change 0.00301\n",
      "  Iteration 13\t time lapse 1.71141s\t ll change 0.00273\n",
      "  Iteration 14\t time lapse 1.77794s\t ll change 0.00243\n",
      "  Iteration 15\t time lapse 1.66501s\t ll change 0.00213\n",
      "Initialization converged: False\t time lapse 31.86330s\t ll 2.97262\n"
     ]
    },
    {
     "name": "stderr",
     "output_type": "stream",
     "text": [
      "/home/av/.local/lib/python3.10/site-packages/sklearn/mixture/_base.py:274: ConvergenceWarning: Initialization 1 did not converge. Try different init parameters, or increase max_iter, tol or check for degenerate data.\n",
      "  warnings.warn(\n"
     ]
    },
    {
     "name": "stdout",
     "output_type": "stream",
     "text": [
      "Initialization 0\n",
      "  Iteration 1\t time lapse 5.31768s\t ll change inf\n",
      "  Iteration 2\t time lapse 1.84158s\t ll change 0.43883\n",
      "  Iteration 3\t time lapse 1.78714s\t ll change 0.02534\n",
      "  Iteration 4\t time lapse 1.78750s\t ll change 0.01723\n",
      "  Iteration 5\t time lapse 1.86459s\t ll change 0.01369\n",
      "  Iteration 6\t time lapse 1.79371s\t ll change 0.01092\n",
      "  Iteration 7\t time lapse 1.79526s\t ll change 0.00804\n",
      "  Iteration 8\t time lapse 1.82726s\t ll change 0.00573\n",
      "  Iteration 9\t time lapse 1.74359s\t ll change 0.00421\n",
      "  Iteration 10\t time lapse 1.75318s\t ll change 0.00322\n",
      "  Iteration 11\t time lapse 1.83471s\t ll change 0.00255\n",
      "  Iteration 12\t time lapse 1.78324s\t ll change 0.00207\n",
      "  Iteration 13\t time lapse 1.79216s\t ll change 0.00172\n",
      "  Iteration 14\t time lapse 1.79462s\t ll change 0.00145\n",
      "  Iteration 15\t time lapse 1.80852s\t ll change 0.00125\n",
      "Initialization converged: False\t time lapse 30.52515s\t ll 2.04038\n"
     ]
    },
    {
     "name": "stderr",
     "output_type": "stream",
     "text": [
      "/home/av/.local/lib/python3.10/site-packages/sklearn/mixture/_base.py:274: ConvergenceWarning: Initialization 1 did not converge. Try different init parameters, or increase max_iter, tol or check for degenerate data.\n",
      "  warnings.warn(\n"
     ]
    },
    {
     "name": "stdout",
     "output_type": "stream",
     "text": [
      "Initialization 0\n",
      "  Iteration 1\t time lapse 5.57794s\t ll change inf\n",
      "  Iteration 2\t time lapse 1.62771s\t ll change 0.37376\n",
      "  Iteration 3\t time lapse 1.65635s\t ll change 0.01786\n",
      "  Iteration 4\t time lapse 1.60370s\t ll change 0.01038\n",
      "  Iteration 5\t time lapse 1.64553s\t ll change 0.00755\n",
      "  Iteration 6\t time lapse 1.58960s\t ll change 0.00610\n",
      "  Iteration 7\t time lapse 1.57854s\t ll change 0.00527\n",
      "  Iteration 8\t time lapse 1.62768s\t ll change 0.00484\n",
      "  Iteration 9\t time lapse 1.61779s\t ll change 0.00457\n",
      "  Iteration 10\t time lapse 1.60057s\t ll change 0.00433\n",
      "  Iteration 11\t time lapse 1.55600s\t ll change 0.00407\n",
      "  Iteration 12\t time lapse 1.61433s\t ll change 0.00383\n",
      "  Iteration 13\t time lapse 1.59800s\t ll change 0.00362\n",
      "  Iteration 14\t time lapse 1.55157s\t ll change 0.00338\n",
      "  Iteration 15\t time lapse 1.57220s\t ll change 0.00311\n",
      "Initialization converged: False\t time lapse 28.01793s\t ll 2.65162\n"
     ]
    },
    {
     "name": "stderr",
     "output_type": "stream",
     "text": [
      "/home/av/.local/lib/python3.10/site-packages/sklearn/mixture/_base.py:274: ConvergenceWarning: Initialization 1 did not converge. Try different init parameters, or increase max_iter, tol or check for degenerate data.\n",
      "  warnings.warn(\n"
     ]
    },
    {
     "name": "stdout",
     "output_type": "stream",
     "text": [
      "Initialization 0\n",
      "  Iteration 1\t time lapse 7.61646s\t ll change inf\n",
      "  Iteration 2\t time lapse 1.43396s\t ll change 0.49736\n",
      "  Iteration 3\t time lapse 1.50094s\t ll change 0.01997\n",
      "  Iteration 4\t time lapse 1.44131s\t ll change 0.01230\n",
      "  Iteration 5\t time lapse 1.50462s\t ll change 0.00912\n",
      "  Iteration 6\t time lapse 1.47076s\t ll change 0.00723\n",
      "  Iteration 7\t time lapse 1.50449s\t ll change 0.00587\n",
      "  Iteration 8\t time lapse 1.43953s\t ll change 0.00481\n",
      "  Iteration 9\t time lapse 1.55876s\t ll change 0.00395\n",
      "  Iteration 10\t time lapse 1.43364s\t ll change 0.00326\n",
      "  Iteration 11\t time lapse 1.43034s\t ll change 0.00271\n",
      "  Iteration 12\t time lapse 1.47007s\t ll change 0.00227\n",
      "  Iteration 13\t time lapse 1.47519s\t ll change 0.00193\n",
      "  Iteration 14\t time lapse 1.55862s\t ll change 0.00168\n",
      "  Iteration 15\t time lapse 1.47102s\t ll change 0.00148\n",
      "Initialization converged: False\t time lapse 28.30984s\t ll 2.11570\n"
     ]
    },
    {
     "name": "stderr",
     "output_type": "stream",
     "text": [
      "/home/av/.local/lib/python3.10/site-packages/sklearn/mixture/_base.py:274: ConvergenceWarning: Initialization 1 did not converge. Try different init parameters, or increase max_iter, tol or check for degenerate data.\n",
      "  warnings.warn(\n"
     ]
    },
    {
     "name": "stdout",
     "output_type": "stream",
     "text": [
      "Initialization 0\n",
      "  Iteration 1\t time lapse 5.89814s\t ll change inf\n",
      "  Iteration 2\t time lapse 1.60537s\t ll change 0.05756\n",
      "  Iteration 3\t time lapse 1.60315s\t ll change 0.01950\n",
      "  Iteration 4\t time lapse 1.58559s\t ll change 0.01129\n",
      "  Iteration 5\t time lapse 1.59599s\t ll change 0.00806\n",
      "  Iteration 6\t time lapse 1.63313s\t ll change 0.00640\n",
      "  Iteration 7\t time lapse 1.54100s\t ll change 0.00538\n",
      "  Iteration 8\t time lapse 1.57397s\t ll change 0.00463\n",
      "  Iteration 9\t time lapse 1.54162s\t ll change 0.00400\n",
      "  Iteration 10\t time lapse 1.55561s\t ll change 0.00345\n",
      "  Iteration 11\t time lapse 1.60877s\t ll change 0.00298\n",
      "  Iteration 12\t time lapse 1.56302s\t ll change 0.00259\n",
      "  Iteration 13\t time lapse 1.59691s\t ll change 0.00226\n",
      "  Iteration 14\t time lapse 1.56000s\t ll change 0.00200\n",
      "  Iteration 15\t time lapse 1.59772s\t ll change 0.00180\n",
      "Initialization converged: False\t time lapse 28.06042s\t ll 2.86509\n"
     ]
    },
    {
     "name": "stderr",
     "output_type": "stream",
     "text": [
      "/home/av/.local/lib/python3.10/site-packages/sklearn/mixture/_base.py:274: ConvergenceWarning: Initialization 1 did not converge. Try different init parameters, or increase max_iter, tol or check for degenerate data.\n",
      "  warnings.warn(\n",
      "100%|██████████| 600/600 [00:52<00:00, 11.50it/s]\n",
      "/home/av/IST/slp-labs/LAB2/pf_tools.py:89: UserWarning: The feature directory already exists, and no new feature extraction will be performed.\n",
      "  warnings.warn(\"The feature directory already exists, and no new feature extraction will be performed.\")\n"
     ]
    },
    {
     "name": "stdout",
     "output_type": "stream",
     "text": [
      "Accuracy Score = 0.62\n",
      "\n",
      "\n",
      "Combination 25\n",
      "Initialization 0\n",
      "  Iteration 1\t time lapse 1.53620s\t ll change inf\n",
      "  Iteration 2\t time lapse 0.57282s\t ll change 0.51891\n",
      "  Iteration 3\t time lapse 0.57854s\t ll change 0.01622\n",
      "  Iteration 4\t time lapse 0.60922s\t ll change 0.01141\n",
      "  Iteration 5\t time lapse 0.58136s\t ll change 0.00888\n",
      "  Iteration 6\t time lapse 0.56630s\t ll change 0.00672\n",
      "  Iteration 7\t time lapse 0.61952s\t ll change 0.00491\n",
      "  Iteration 8\t time lapse 0.58237s\t ll change 0.00354\n",
      "  Iteration 9\t time lapse 0.55871s\t ll change 0.00260\n",
      "  Iteration 10\t time lapse 0.57283s\t ll change 0.00196\n",
      "  Iteration 11\t time lapse 0.63418s\t ll change 0.00153\n",
      "  Iteration 12\t time lapse 0.61133s\t ll change 0.00121\n",
      "  Iteration 13\t time lapse 0.60148s\t ll change 0.00098\n",
      "Initialization converged: True\t time lapse 8.62491s\t ll 2.56068\n",
      "Initialization 0\n",
      "  Iteration 1\t time lapse 1.81115s\t ll change inf\n",
      "  Iteration 2\t time lapse 0.76230s\t ll change 0.65147\n",
      "  Iteration 3\t time lapse 0.68031s\t ll change 0.01700\n",
      "  Iteration 4\t time lapse 0.62585s\t ll change 0.01022\n",
      "  Iteration 5\t time lapse 0.63702s\t ll change 0.00668\n",
      "  Iteration 6\t time lapse 0.62017s\t ll change 0.00443\n",
      "  Iteration 7\t time lapse 0.63486s\t ll change 0.00296\n",
      "  Iteration 8\t time lapse 0.62109s\t ll change 0.00203\n",
      "  Iteration 9\t time lapse 0.63838s\t ll change 0.00145\n",
      "  Iteration 10\t time lapse 0.63021s\t ll change 0.00109\n",
      "  Iteration 11\t time lapse 0.62330s\t ll change 0.00086\n",
      "Initialization converged: True\t time lapse 8.28470s\t ll 2.76798\n",
      "Initialization 0\n",
      "  Iteration 1\t time lapse 1.56397s\t ll change inf\n",
      "  Iteration 2\t time lapse 0.65983s\t ll change 0.60102\n",
      "  Iteration 3\t time lapse 0.62449s\t ll change 0.02248\n",
      "  Iteration 4\t time lapse 0.67493s\t ll change 0.01465\n",
      "  Iteration 5\t time lapse 0.67440s\t ll change 0.01054\n",
      "  Iteration 6\t time lapse 0.63012s\t ll change 0.00760\n",
      "  Iteration 7\t time lapse 0.62610s\t ll change 0.00531\n",
      "  Iteration 8\t time lapse 0.62529s\t ll change 0.00360\n",
      "  Iteration 9\t time lapse 0.63397s\t ll change 0.00242\n",
      "  Iteration 10\t time lapse 0.62842s\t ll change 0.00167\n",
      "  Iteration 11\t time lapse 0.64249s\t ll change 0.00119\n",
      "  Iteration 12\t time lapse 0.62113s\t ll change 0.00089\n",
      "Initialization converged: True\t time lapse 8.60521s\t ll 1.77227\n",
      "Initialization 0\n",
      "  Iteration 1\t time lapse 1.62823s\t ll change inf\n",
      "  Iteration 2\t time lapse 0.58844s\t ll change 0.55425\n",
      "  Iteration 3\t time lapse 0.59361s\t ll change 0.01798\n",
      "  Iteration 4\t time lapse 0.62379s\t ll change 0.01112\n",
      "  Iteration 5\t time lapse 0.60316s\t ll change 0.00731\n",
      "  Iteration 6\t time lapse 0.59346s\t ll change 0.00485\n",
      "  Iteration 7\t time lapse 0.59439s\t ll change 0.00325\n",
      "  Iteration 8\t time lapse 0.59609s\t ll change 0.00221\n",
      "  Iteration 9\t time lapse 0.58205s\t ll change 0.00153\n",
      "  Iteration 10\t time lapse 0.63188s\t ll change 0.00108\n",
      "  Iteration 11\t time lapse 0.57320s\t ll change 0.00077\n",
      "Initialization converged: True\t time lapse 7.60838s\t ll 2.44536\n",
      "Initialization 0\n",
      "  Iteration 1\t time lapse 1.36949s\t ll change inf\n",
      "  Iteration 2\t time lapse 0.53152s\t ll change 0.71020\n",
      "  Iteration 3\t time lapse 0.51679s\t ll change 0.02033\n",
      "  Iteration 4\t time lapse 0.54262s\t ll change 0.01441\n",
      "  Iteration 5\t time lapse 0.53363s\t ll change 0.01150\n",
      "  Iteration 6\t time lapse 0.52908s\t ll change 0.00935\n",
      "  Iteration 7\t time lapse 0.53480s\t ll change 0.00744\n",
      "  Iteration 8\t time lapse 0.52446s\t ll change 0.00572\n",
      "  Iteration 9\t time lapse 0.52759s\t ll change 0.00426\n",
      "  Iteration 10\t time lapse 0.51775s\t ll change 0.00310\n",
      "  Iteration 11\t time lapse 0.53530s\t ll change 0.00225\n",
      "  Iteration 12\t time lapse 0.51701s\t ll change 0.00164\n",
      "  Iteration 13\t time lapse 0.51773s\t ll change 0.00122\n",
      "  Iteration 14\t time lapse 0.51824s\t ll change 0.00093\n",
      "Initialization converged: True\t time lapse 8.21609s\t ll 1.92209\n",
      "Initialization 0\n",
      "  Iteration 1\t time lapse 1.38620s\t ll change inf\n",
      "  Iteration 2\t time lapse 0.59881s\t ll change 0.03724\n",
      "  Iteration 3\t time lapse 0.55240s\t ll change 0.01335\n",
      "  Iteration 4\t time lapse 0.55122s\t ll change 0.00848\n",
      "  Iteration 5\t time lapse 0.55523s\t ll change 0.00653\n",
      "  Iteration 6\t time lapse 0.58523s\t ll change 0.00550\n",
      "  Iteration 7\t time lapse 0.56360s\t ll change 0.00493\n",
      "  Iteration 8\t time lapse 0.56597s\t ll change 0.00464\n",
      "  Iteration 9\t time lapse 0.55749s\t ll change 0.00449\n",
      "  Iteration 10\t time lapse 0.55509s\t ll change 0.00428\n",
      "  Iteration 11\t time lapse 0.56286s\t ll change 0.00380\n",
      "  Iteration 12\t time lapse 0.57694s\t ll change 0.00301\n",
      "  Iteration 13\t time lapse 0.54718s\t ll change 0.00217\n",
      "  Iteration 14\t time lapse 0.55103s\t ll change 0.00147\n",
      "  Iteration 15\t time lapse 0.55385s\t ll change 0.00098\n",
      "Initialization converged: True\t time lapse 9.26318s\t ll 2.63246\n"
     ]
    },
    {
     "name": "stderr",
     "output_type": "stream",
     "text": [
      "100%|██████████| 600/600 [00:19<00:00, 30.59it/s]\n",
      "/home/av/IST/slp-labs/LAB2/pf_tools.py:89: UserWarning: The feature directory already exists, and no new feature extraction will be performed.\n",
      "  warnings.warn(\"The feature directory already exists, and no new feature extraction will be performed.\")\n"
     ]
    },
    {
     "name": "stdout",
     "output_type": "stream",
     "text": [
      "Accuracy Score = 0.555\n",
      "\n",
      "\n",
      "Combination 26\n",
      "Initialization 0\n",
      "  Iteration 1\t time lapse 2.52225s\t ll change inf\n",
      "  Iteration 2\t time lapse 0.95489s\t ll change 0.49872\n",
      "  Iteration 3\t time lapse 0.98302s\t ll change 0.01685\n",
      "  Iteration 4\t time lapse 0.96745s\t ll change 0.00988\n",
      "  Iteration 5\t time lapse 1.00003s\t ll change 0.00707\n",
      "  Iteration 6\t time lapse 0.97874s\t ll change 0.00557\n",
      "  Iteration 7\t time lapse 0.98078s\t ll change 0.00465\n",
      "  Iteration 8\t time lapse 0.96188s\t ll change 0.00405\n",
      "  Iteration 9\t time lapse 0.97255s\t ll change 0.00365\n",
      "  Iteration 10\t time lapse 0.96377s\t ll change 0.00335\n",
      "  Iteration 11\t time lapse 0.97156s\t ll change 0.00307\n",
      "  Iteration 12\t time lapse 0.99611s\t ll change 0.00282\n",
      "  Iteration 13\t time lapse 1.04799s\t ll change 0.00263\n",
      "  Iteration 14\t time lapse 0.95468s\t ll change 0.00246\n",
      "  Iteration 15\t time lapse 0.96313s\t ll change 0.00222\n",
      "Initialization converged: False\t time lapse 16.21921s\t ll 2.69752\n"
     ]
    },
    {
     "name": "stderr",
     "output_type": "stream",
     "text": [
      "/home/av/.local/lib/python3.10/site-packages/sklearn/mixture/_base.py:274: ConvergenceWarning: Initialization 1 did not converge. Try different init parameters, or increase max_iter, tol or check for degenerate data.\n",
      "  warnings.warn(\n"
     ]
    },
    {
     "name": "stdout",
     "output_type": "stream",
     "text": [
      "Initialization 0\n",
      "  Iteration 1\t time lapse 2.79157s\t ll change inf\n",
      "  Iteration 2\t time lapse 1.06692s\t ll change 0.56459\n",
      "  Iteration 3\t time lapse 1.06908s\t ll change 0.01843\n",
      "  Iteration 4\t time lapse 1.09506s\t ll change 0.01146\n",
      "  Iteration 5\t time lapse 1.05973s\t ll change 0.00819\n",
      "  Iteration 6\t time lapse 1.04138s\t ll change 0.00617\n",
      "  Iteration 7\t time lapse 1.03625s\t ll change 0.00476\n",
      "  Iteration 8\t time lapse 1.02378s\t ll change 0.00372\n",
      "  Iteration 9\t time lapse 1.05726s\t ll change 0.00291\n",
      "  Iteration 10\t time lapse 1.04210s\t ll change 0.00230\n",
      "  Iteration 11\t time lapse 1.15633s\t ll change 0.00184\n",
      "  Iteration 12\t time lapse 1.05257s\t ll change 0.00150\n",
      "  Iteration 13\t time lapse 1.02038s\t ll change 0.00125\n",
      "  Iteration 14\t time lapse 1.01641s\t ll change 0.00107\n",
      "  Iteration 15\t time lapse 1.01616s\t ll change 0.00095\n",
      "Initialization converged: True\t time lapse 17.54508s\t ll 2.89235\n",
      "Initialization 0\n",
      "  Iteration 1\t time lapse 2.64689s\t ll change inf\n",
      "  Iteration 2\t time lapse 1.07032s\t ll change 0.49443\n",
      "  Iteration 3\t time lapse 1.11031s\t ll change 0.01956\n",
      "  Iteration 4\t time lapse 1.09465s\t ll change 0.01276\n",
      "  Iteration 5\t time lapse 1.10141s\t ll change 0.00992\n",
      "  Iteration 6\t time lapse 1.09177s\t ll change 0.00856\n",
      "  Iteration 7\t time lapse 1.15920s\t ll change 0.00789\n",
      "  Iteration 8\t time lapse 1.13302s\t ll change 0.00737\n",
      "  Iteration 9\t time lapse 1.08022s\t ll change 0.00645\n",
      "  Iteration 10\t time lapse 1.16577s\t ll change 0.00520\n",
      "  Iteration 11\t time lapse 1.09262s\t ll change 0.00404\n",
      "  Iteration 12\t time lapse 1.08786s\t ll change 0.00323\n",
      "  Iteration 13\t time lapse 1.09948s\t ll change 0.00272\n",
      "  Iteration 14\t time lapse 1.06859s\t ll change 0.00241\n",
      "  Iteration 15\t time lapse 1.20462s\t ll change 0.00221\n",
      "Initialization converged: False\t time lapse 18.20712s\t ll 1.92617\n"
     ]
    },
    {
     "name": "stderr",
     "output_type": "stream",
     "text": [
      "/home/av/.local/lib/python3.10/site-packages/sklearn/mixture/_base.py:274: ConvergenceWarning: Initialization 1 did not converge. Try different init parameters, or increase max_iter, tol or check for degenerate data.\n",
      "  warnings.warn(\n"
     ]
    },
    {
     "name": "stdout",
     "output_type": "stream",
     "text": [
      "Initialization 0\n",
      "  Iteration 1\t time lapse 3.22788s\t ll change inf\n",
      "  Iteration 2\t time lapse 1.03588s\t ll change 0.39247\n",
      "  Iteration 3\t time lapse 1.04005s\t ll change 0.01932\n",
      "  Iteration 4\t time lapse 1.02137s\t ll change 0.01351\n",
      "  Iteration 5\t time lapse 1.01757s\t ll change 0.01105\n",
      "  Iteration 6\t time lapse 1.00698s\t ll change 0.00932\n",
      "  Iteration 7\t time lapse 1.00975s\t ll change 0.00781\n",
      "  Iteration 8\t time lapse 1.15283s\t ll change 0.00650\n",
      "  Iteration 9\t time lapse 1.02083s\t ll change 0.00544\n",
      "  Iteration 10\t time lapse 0.99805s\t ll change 0.00462\n",
      "  Iteration 11\t time lapse 0.99845s\t ll change 0.00393\n",
      "  Iteration 12\t time lapse 1.00873s\t ll change 0.00330\n",
      "  Iteration 13\t time lapse 1.00644s\t ll change 0.00274\n",
      "  Iteration 14\t time lapse 1.00458s\t ll change 0.00229\n",
      "  Iteration 15\t time lapse 1.00148s\t ll change 0.00194\n",
      "Initialization converged: False\t time lapse 17.55128s\t ll 2.56575\n"
     ]
    },
    {
     "name": "stderr",
     "output_type": "stream",
     "text": [
      "/home/av/.local/lib/python3.10/site-packages/sklearn/mixture/_base.py:274: ConvergenceWarning: Initialization 1 did not converge. Try different init parameters, or increase max_iter, tol or check for degenerate data.\n",
      "  warnings.warn(\n"
     ]
    },
    {
     "name": "stdout",
     "output_type": "stream",
     "text": [
      "Initialization 0\n",
      "  Iteration 1\t time lapse 2.54617s\t ll change inf\n",
      "  Iteration 2\t time lapse 0.96469s\t ll change 0.62594\n",
      "  Iteration 3\t time lapse 0.91031s\t ll change 0.02006\n",
      "  Iteration 4\t time lapse 0.91122s\t ll change 0.01300\n",
      "  Iteration 5\t time lapse 0.92219s\t ll change 0.00939\n",
      "  Iteration 6\t time lapse 0.93027s\t ll change 0.00699\n",
      "  Iteration 7\t time lapse 0.98646s\t ll change 0.00529\n",
      "  Iteration 8\t time lapse 0.99374s\t ll change 0.00410\n",
      "  Iteration 9\t time lapse 0.95013s\t ll change 0.00327\n",
      "  Iteration 10\t time lapse 0.90817s\t ll change 0.00271\n",
      "  Iteration 11\t time lapse 0.92567s\t ll change 0.00234\n",
      "  Iteration 12\t time lapse 0.94092s\t ll change 0.00213\n",
      "  Iteration 13\t time lapse 0.91706s\t ll change 0.00204\n",
      "  Iteration 14\t time lapse 0.91936s\t ll change 0.00205\n",
      "  Iteration 15\t time lapse 0.92199s\t ll change 0.00214\n",
      "Initialization converged: False\t time lapse 15.64848s\t ll 2.02447\n"
     ]
    },
    {
     "name": "stderr",
     "output_type": "stream",
     "text": [
      "/home/av/.local/lib/python3.10/site-packages/sklearn/mixture/_base.py:274: ConvergenceWarning: Initialization 1 did not converge. Try different init parameters, or increase max_iter, tol or check for degenerate data.\n",
      "  warnings.warn(\n"
     ]
    },
    {
     "name": "stdout",
     "output_type": "stream",
     "text": [
      "Initialization 0\n",
      "  Iteration 1\t time lapse 2.83171s\t ll change inf\n",
      "  Iteration 2\t time lapse 0.96698s\t ll change 0.05184\n",
      "  Iteration 3\t time lapse 0.97050s\t ll change 0.01985\n",
      "  Iteration 4\t time lapse 0.94978s\t ll change 0.01272\n",
      "  Iteration 5\t time lapse 0.97791s\t ll change 0.00948\n",
      "  Iteration 6\t time lapse 0.98646s\t ll change 0.00750\n",
      "  Iteration 7\t time lapse 1.01577s\t ll change 0.00623\n",
      "  Iteration 8\t time lapse 0.98226s\t ll change 0.00545\n",
      "  Iteration 9\t time lapse 0.99971s\t ll change 0.00486\n",
      "  Iteration 10\t time lapse 0.99418s\t ll change 0.00416\n",
      "  Iteration 11\t time lapse 0.99526s\t ll change 0.00334\n",
      "  Iteration 12\t time lapse 0.99448s\t ll change 0.00260\n",
      "  Iteration 13\t time lapse 0.98874s\t ll change 0.00203\n",
      "  Iteration 14\t time lapse 0.99351s\t ll change 0.00162\n",
      "  Iteration 15\t time lapse 0.99988s\t ll change 0.00134\n",
      "Initialization converged: False\t time lapse 16.64752s\t ll 2.78221\n"
     ]
    },
    {
     "name": "stderr",
     "output_type": "stream",
     "text": [
      "/home/av/.local/lib/python3.10/site-packages/sklearn/mixture/_base.py:274: ConvergenceWarning: Initialization 1 did not converge. Try different init parameters, or increase max_iter, tol or check for degenerate data.\n",
      "  warnings.warn(\n",
      "100%|██████████| 600/600 [00:31<00:00, 19.06it/s]\n",
      "/home/av/IST/slp-labs/LAB2/pf_tools.py:89: UserWarning: The feature directory already exists, and no new feature extraction will be performed.\n",
      "  warnings.warn(\"The feature directory already exists, and no new feature extraction will be performed.\")\n"
     ]
    },
    {
     "name": "stdout",
     "output_type": "stream",
     "text": [
      "Accuracy Score = 0.5916666666666667\n",
      "\n",
      "\n",
      "Combination 27\n",
      "Initialization 0\n",
      "  Iteration 1\t time lapse 6.95068s\t ll change inf\n",
      "  Iteration 2\t time lapse 1.63930s\t ll change 0.43740\n",
      "  Iteration 3\t time lapse 1.59081s\t ll change 0.01942\n",
      "  Iteration 4\t time lapse 1.61012s\t ll change 0.01103\n",
      "  Iteration 5\t time lapse 1.57036s\t ll change 0.00747\n",
      "  Iteration 6\t time lapse 1.54197s\t ll change 0.00559\n",
      "  Iteration 7\t time lapse 1.51722s\t ll change 0.00443\n",
      "  Iteration 8\t time lapse 1.66874s\t ll change 0.00364\n",
      "  Iteration 9\t time lapse 1.51462s\t ll change 0.00306\n",
      "  Iteration 10\t time lapse 1.59437s\t ll change 0.00262\n",
      "  Iteration 11\t time lapse 1.58820s\t ll change 0.00228\n",
      "  Iteration 12\t time lapse 1.55523s\t ll change 0.00201\n",
      "  Iteration 13\t time lapse 1.54920s\t ll change 0.00180\n",
      "  Iteration 14\t time lapse 1.52879s\t ll change 0.00163\n",
      "  Iteration 15\t time lapse 1.54293s\t ll change 0.00148\n",
      "Initialization converged: False\t time lapse 28.96266s\t ll 2.79472\n"
     ]
    },
    {
     "name": "stderr",
     "output_type": "stream",
     "text": [
      "/home/av/.local/lib/python3.10/site-packages/sklearn/mixture/_base.py:274: ConvergenceWarning: Initialization 1 did not converge. Try different init parameters, or increase max_iter, tol or check for degenerate data.\n",
      "  warnings.warn(\n"
     ]
    },
    {
     "name": "stdout",
     "output_type": "stream",
     "text": [
      "Initialization 0\n",
      "  Iteration 1\t time lapse 7.11387s\t ll change inf\n",
      "  Iteration 2\t time lapse 1.78833s\t ll change 0.43784\n",
      "  Iteration 3\t time lapse 1.72242s\t ll change 0.01819\n",
      "  Iteration 4\t time lapse 1.71401s\t ll change 0.01020\n",
      "  Iteration 5\t time lapse 1.67667s\t ll change 0.00710\n",
      "  Iteration 6\t time lapse 1.69385s\t ll change 0.00547\n",
      "  Iteration 7\t time lapse 1.67245s\t ll change 0.00445\n",
      "  Iteration 8\t time lapse 1.66652s\t ll change 0.00375\n",
      "  Iteration 9\t time lapse 1.76019s\t ll change 0.00322\n",
      "  Iteration 10\t time lapse 1.67173s\t ll change 0.00281\n",
      "  Iteration 11\t time lapse 1.68075s\t ll change 0.00248\n",
      "  Iteration 12\t time lapse 1.72181s\t ll change 0.00221\n",
      "  Iteration 13\t time lapse 1.70074s\t ll change 0.00200\n",
      "  Iteration 14\t time lapse 1.66567s\t ll change 0.00181\n",
      "  Iteration 15\t time lapse 1.76585s\t ll change 0.00164\n",
      "Initialization converged: False\t time lapse 31.01530s\t ll 2.97698\n"
     ]
    },
    {
     "name": "stderr",
     "output_type": "stream",
     "text": [
      "/home/av/.local/lib/python3.10/site-packages/sklearn/mixture/_base.py:274: ConvergenceWarning: Initialization 1 did not converge. Try different init parameters, or increase max_iter, tol or check for degenerate data.\n",
      "  warnings.warn(\n"
     ]
    },
    {
     "name": "stdout",
     "output_type": "stream",
     "text": [
      "Initialization 0\n",
      "  Iteration 1\t time lapse 5.30247s\t ll change inf\n",
      "  Iteration 2\t time lapse 1.84036s\t ll change 0.38963\n",
      "  Iteration 3\t time lapse 1.73165s\t ll change 0.02741\n",
      "  Iteration 4\t time lapse 1.76612s\t ll change 0.02093\n",
      "  Iteration 5\t time lapse 1.81617s\t ll change 0.01695\n",
      "  Iteration 6\t time lapse 1.75824s\t ll change 0.01192\n",
      "  Iteration 7\t time lapse 1.73425s\t ll change 0.00783\n",
      "  Iteration 8\t time lapse 1.77344s\t ll change 0.00540\n",
      "  Iteration 9\t time lapse 1.76988s\t ll change 0.00400\n",
      "  Iteration 10\t time lapse 1.79931s\t ll change 0.00312\n",
      "  Iteration 11\t time lapse 1.80817s\t ll change 0.00252\n",
      "  Iteration 12\t time lapse 1.74454s\t ll change 0.00210\n",
      "  Iteration 13\t time lapse 1.81321s\t ll change 0.00180\n",
      "  Iteration 14\t time lapse 1.80651s\t ll change 0.00158\n",
      "  Iteration 15\t time lapse 1.78463s\t ll change 0.00141\n",
      "Initialization converged: False\t time lapse 30.24939s\t ll 2.03966\n"
     ]
    },
    {
     "name": "stderr",
     "output_type": "stream",
     "text": [
      "/home/av/.local/lib/python3.10/site-packages/sklearn/mixture/_base.py:274: ConvergenceWarning: Initialization 1 did not converge. Try different init parameters, or increase max_iter, tol or check for degenerate data.\n",
      "  warnings.warn(\n"
     ]
    },
    {
     "name": "stdout",
     "output_type": "stream",
     "text": [
      "Initialization 0\n",
      "  Iteration 1\t time lapse 4.82371s\t ll change inf\n",
      "  Iteration 2\t time lapse 1.68609s\t ll change 0.37447\n",
      "  Iteration 3\t time lapse 1.54328s\t ll change 0.01834\n",
      "  Iteration 4\t time lapse 1.59852s\t ll change 0.01066\n",
      "  Iteration 5\t time lapse 1.64584s\t ll change 0.00770\n",
      "  Iteration 6\t time lapse 1.56388s\t ll change 0.00619\n",
      "  Iteration 7\t time lapse 1.59132s\t ll change 0.00533\n",
      "  Iteration 8\t time lapse 1.56466s\t ll change 0.00481\n",
      "  Iteration 9\t time lapse 1.59056s\t ll change 0.00439\n",
      "  Iteration 10\t time lapse 1.55952s\t ll change 0.00398\n",
      "  Iteration 11\t time lapse 1.57233s\t ll change 0.00359\n",
      "  Iteration 12\t time lapse 1.60638s\t ll change 0.00330\n",
      "  Iteration 13\t time lapse 1.60925s\t ll change 0.00306\n",
      "  Iteration 14\t time lapse 1.56155s\t ll change 0.00286\n",
      "  Iteration 15\t time lapse 1.56263s\t ll change 0.00269\n",
      "Initialization converged: False\t time lapse 27.07964s\t ll 2.65463\n"
     ]
    },
    {
     "name": "stderr",
     "output_type": "stream",
     "text": [
      "/home/av/.local/lib/python3.10/site-packages/sklearn/mixture/_base.py:274: ConvergenceWarning: Initialization 1 did not converge. Try different init parameters, or increase max_iter, tol or check for degenerate data.\n",
      "  warnings.warn(\n"
     ]
    },
    {
     "name": "stdout",
     "output_type": "stream",
     "text": [
      "Initialization 0\n",
      "  Iteration 1\t time lapse 5.24641s\t ll change inf\n",
      "  Iteration 2\t time lapse 1.43199s\t ll change 0.46020\n",
      "  Iteration 3\t time lapse 1.50418s\t ll change 0.01936\n",
      "  Iteration 4\t time lapse 1.44339s\t ll change 0.01185\n",
      "  Iteration 5\t time lapse 1.51784s\t ll change 0.00885\n",
      "  Iteration 6\t time lapse 1.45042s\t ll change 0.00716\n",
      "  Iteration 7\t time lapse 1.46374s\t ll change 0.00603\n",
      "  Iteration 8\t time lapse 1.41898s\t ll change 0.00520\n",
      "  Iteration 9\t time lapse 1.47516s\t ll change 0.00457\n",
      "  Iteration 10\t time lapse 1.42637s\t ll change 0.00407\n",
      "  Iteration 11\t time lapse 1.48471s\t ll change 0.00368\n",
      "  Iteration 12\t time lapse 1.46497s\t ll change 0.00336\n",
      "  Iteration 13\t time lapse 1.55993s\t ll change 0.00310\n",
      "  Iteration 14\t time lapse 1.45218s\t ll change 0.00287\n",
      "  Iteration 15\t time lapse 1.54466s\t ll change 0.00264\n",
      "Initialization converged: False\t time lapse 25.88537s\t ll 2.11398\n"
     ]
    },
    {
     "name": "stderr",
     "output_type": "stream",
     "text": [
      "/home/av/.local/lib/python3.10/site-packages/sklearn/mixture/_base.py:274: ConvergenceWarning: Initialization 1 did not converge. Try different init parameters, or increase max_iter, tol or check for degenerate data.\n",
      "  warnings.warn(\n"
     ]
    },
    {
     "name": "stdout",
     "output_type": "stream",
     "text": [
      "Initialization 0\n",
      "  Iteration 1\t time lapse 4.90746s\t ll change inf\n",
      "  Iteration 2\t time lapse 1.51743s\t ll change 0.05850\n",
      "  Iteration 3\t time lapse 1.55989s\t ll change 0.02060\n",
      "  Iteration 4\t time lapse 1.54069s\t ll change 0.01267\n",
      "  Iteration 5\t time lapse 1.60371s\t ll change 0.00957\n",
      "  Iteration 6\t time lapse 1.54589s\t ll change 0.00781\n",
      "  Iteration 7\t time lapse 1.56669s\t ll change 0.00649\n",
      "  Iteration 8\t time lapse 1.57043s\t ll change 0.00540\n",
      "  Iteration 9\t time lapse 1.57367s\t ll change 0.00449\n",
      "  Iteration 10\t time lapse 1.57942s\t ll change 0.00373\n",
      "  Iteration 11\t time lapse 1.51255s\t ll change 0.00308\n",
      "  Iteration 12\t time lapse 1.59427s\t ll change 0.00255\n",
      "  Iteration 13\t time lapse 1.54903s\t ll change 0.00213\n",
      "  Iteration 14\t time lapse 1.62444s\t ll change 0.00181\n",
      "  Iteration 15\t time lapse 1.59356s\t ll change 0.00156\n",
      "Initialization converged: False\t time lapse 26.83955s\t ll 2.86811\n"
     ]
    },
    {
     "name": "stderr",
     "output_type": "stream",
     "text": [
      "/home/av/.local/lib/python3.10/site-packages/sklearn/mixture/_base.py:274: ConvergenceWarning: Initialization 1 did not converge. Try different init parameters, or increase max_iter, tol or check for degenerate data.\n",
      "  warnings.warn(\n",
      "100%|██████████| 600/600 [00:50<00:00, 11.95it/s]\n",
      "/home/av/IST/slp-labs/LAB2/pf_tools.py:89: UserWarning: The feature directory already exists, and no new feature extraction will be performed.\n",
      "  warnings.warn(\"The feature directory already exists, and no new feature extraction will be performed.\")\n"
     ]
    },
    {
     "name": "stdout",
     "output_type": "stream",
     "text": [
      "Accuracy Score = 0.6233333333333333\n",
      "\n",
      "\n",
      "Combination 28\n",
      "Initialization 0\n",
      "  Iteration 1\t time lapse 1.50955s\t ll change inf\n",
      "  Iteration 2\t time lapse 0.60226s\t ll change 0.51642\n",
      "  Iteration 3\t time lapse 0.58385s\t ll change 0.01426\n",
      "  Iteration 4\t time lapse 0.59969s\t ll change 0.01035\n",
      "  Iteration 5\t time lapse 0.59011s\t ll change 0.00915\n",
      "  Iteration 6\t time lapse 0.57274s\t ll change 0.00814\n",
      "  Iteration 7\t time lapse 0.59567s\t ll change 0.00672\n",
      "  Iteration 8\t time lapse 0.57318s\t ll change 0.00516\n",
      "  Iteration 9\t time lapse 0.58735s\t ll change 0.00381\n",
      "  Iteration 10\t time lapse 0.58347s\t ll change 0.00282\n",
      "  Iteration 11\t time lapse 0.61732s\t ll change 0.00213\n",
      "  Iteration 12\t time lapse 0.58311s\t ll change 0.00165\n",
      "  Iteration 13\t time lapse 0.57102s\t ll change 0.00130\n",
      "  Iteration 14\t time lapse 0.60479s\t ll change 0.00104\n",
      "  Iteration 15\t time lapse 0.58323s\t ll change 0.00084\n",
      "Initialization converged: True\t time lapse 9.75741s\t ll 2.56151\n",
      "Initialization 0\n",
      "  Iteration 1\t time lapse 1.64325s\t ll change inf\n",
      "  Iteration 2\t time lapse 0.63890s\t ll change 0.65789\n",
      "  Iteration 3\t time lapse 0.64627s\t ll change 0.01703\n",
      "  Iteration 4\t time lapse 0.64747s\t ll change 0.01022\n",
      "  Iteration 5\t time lapse 0.63086s\t ll change 0.00666\n",
      "  Iteration 6\t time lapse 0.65985s\t ll change 0.00440\n",
      "  Iteration 7\t time lapse 0.63351s\t ll change 0.00294\n",
      "  Iteration 8\t time lapse 0.65664s\t ll change 0.00201\n",
      "  Iteration 9\t time lapse 0.63676s\t ll change 0.00143\n",
      "  Iteration 10\t time lapse 0.61630s\t ll change 0.00107\n",
      "  Iteration 11\t time lapse 0.67843s\t ll change 0.00085\n",
      "Initialization converged: True\t time lapse 8.08830s\t ll 2.76817\n",
      "Initialization 0\n",
      "  Iteration 1\t time lapse 2.29946s\t ll change inf\n",
      "  Iteration 2\t time lapse 0.63703s\t ll change 0.62734\n",
      "  Iteration 3\t time lapse 0.79769s\t ll change 0.02278\n",
      "  Iteration 4\t time lapse 0.71235s\t ll change 0.01447\n",
      "  Iteration 5\t time lapse 0.65256s\t ll change 0.01020\n",
      "  Iteration 6\t time lapse 0.63383s\t ll change 0.00721\n",
      "  Iteration 7\t time lapse 0.65006s\t ll change 0.00490\n",
      "  Iteration 8\t time lapse 0.64421s\t ll change 0.00320\n",
      "  Iteration 9\t time lapse 0.62896s\t ll change 0.00205\n",
      "  Iteration 10\t time lapse 0.68983s\t ll change 0.00133\n",
      "  Iteration 11\t time lapse 0.64897s\t ll change 0.00090\n",
      "Initialization converged: True\t time lapse 8.99502s\t ll 1.77301\n",
      "Initialization 0\n",
      "  Iteration 1\t time lapse 1.54151s\t ll change inf\n",
      "  Iteration 2\t time lapse 0.59387s\t ll change 0.55185\n",
      "  Iteration 3\t time lapse 0.60573s\t ll change 0.01797\n",
      "  Iteration 4\t time lapse 0.59067s\t ll change 0.01112\n",
      "  Iteration 5\t time lapse 0.60673s\t ll change 0.00731\n",
      "  Iteration 6\t time lapse 0.59887s\t ll change 0.00485\n",
      "  Iteration 7\t time lapse 0.57803s\t ll change 0.00325\n",
      "  Iteration 8\t time lapse 0.60064s\t ll change 0.00221\n",
      "  Iteration 9\t time lapse 0.58681s\t ll change 0.00153\n",
      "  Iteration 10\t time lapse 0.58270s\t ll change 0.00108\n",
      "  Iteration 11\t time lapse 0.59257s\t ll change 0.00077\n",
      "Initialization converged: True\t time lapse 7.47819s\t ll 2.44534\n",
      "Initialization 0\n",
      "  Iteration 1\t time lapse 1.21010s\t ll change inf\n",
      "  Iteration 2\t time lapse 0.56870s\t ll change 0.70734\n",
      "  Iteration 3\t time lapse 0.53994s\t ll change 0.02023\n",
      "  Iteration 4\t time lapse 0.54970s\t ll change 0.01440\n",
      "  Iteration 5\t time lapse 0.55213s\t ll change 0.01150\n",
      "  Iteration 6\t time lapse 0.53683s\t ll change 0.00933\n",
      "  Iteration 7\t time lapse 0.54136s\t ll change 0.00741\n",
      "  Iteration 8\t time lapse 0.54922s\t ll change 0.00569\n",
      "  Iteration 9\t time lapse 0.54701s\t ll change 0.00423\n",
      "  Iteration 10\t time lapse 0.53239s\t ll change 0.00310\n",
      "  Iteration 11\t time lapse 0.53792s\t ll change 0.00226\n",
      "  Iteration 12\t time lapse 0.53874s\t ll change 0.00166\n",
      "  Iteration 13\t time lapse 0.56673s\t ll change 0.00125\n",
      "  Iteration 14\t time lapse 0.55418s\t ll change 0.00096\n",
      "Initialization converged: True\t time lapse 8.32502s\t ll 1.92191\n",
      "Initialization 0\n",
      "  Iteration 1\t time lapse 1.42921s\t ll change inf\n",
      "  Iteration 2\t time lapse 0.57471s\t ll change 0.03698\n",
      "  Iteration 3\t time lapse 0.56956s\t ll change 0.01318\n",
      "  Iteration 4\t time lapse 0.56869s\t ll change 0.00832\n",
      "  Iteration 5\t time lapse 0.57530s\t ll change 0.00637\n",
      "  Iteration 6\t time lapse 0.57179s\t ll change 0.00535\n",
      "  Iteration 7\t time lapse 0.58889s\t ll change 0.00479\n",
      "  Iteration 8\t time lapse 0.57521s\t ll change 0.00452\n",
      "  Iteration 9\t time lapse 0.57318s\t ll change 0.00441\n",
      "  Iteration 10\t time lapse 0.58630s\t ll change 0.00429\n",
      "  Iteration 11\t time lapse 0.57508s\t ll change 0.00395\n",
      "  Iteration 12\t time lapse 0.58554s\t ll change 0.00328\n",
      "  Iteration 13\t time lapse 0.56934s\t ll change 0.00244\n",
      "  Iteration 14\t time lapse 0.56933s\t ll change 0.00170\n",
      "  Iteration 15\t time lapse 0.56834s\t ll change 0.00115\n",
      "Initialization converged: False\t time lapse 9.48053s\t ll 2.63198\n"
     ]
    },
    {
     "name": "stderr",
     "output_type": "stream",
     "text": [
      "/home/av/.local/lib/python3.10/site-packages/sklearn/mixture/_base.py:274: ConvergenceWarning: Initialization 1 did not converge. Try different init parameters, or increase max_iter, tol or check for degenerate data.\n",
      "  warnings.warn(\n",
      "100%|██████████| 600/600 [00:19<00:00, 30.66it/s]\n",
      "/home/av/IST/slp-labs/LAB2/pf_tools.py:89: UserWarning: The feature directory already exists, and no new feature extraction will be performed.\n",
      "  warnings.warn(\"The feature directory already exists, and no new feature extraction will be performed.\")\n"
     ]
    },
    {
     "name": "stdout",
     "output_type": "stream",
     "text": [
      "Accuracy Score = 0.5566666666666666\n",
      "\n",
      "\n",
      "Combination 29\n",
      "Initialization 0\n",
      "  Iteration 1\t time lapse 3.24778s\t ll change inf\n",
      "  Iteration 2\t time lapse 0.97325s\t ll change 0.49857\n",
      "  Iteration 3\t time lapse 1.00316s\t ll change 0.01670\n",
      "  Iteration 4\t time lapse 1.06481s\t ll change 0.00971\n",
      "  Iteration 5\t time lapse 0.98887s\t ll change 0.00686\n",
      "  Iteration 6\t time lapse 1.00961s\t ll change 0.00533\n",
      "  Iteration 7\t time lapse 1.00503s\t ll change 0.00438\n",
      "  Iteration 8\t time lapse 0.96852s\t ll change 0.00376\n",
      "  Iteration 9\t time lapse 1.00341s\t ll change 0.00335\n",
      "  Iteration 10\t time lapse 0.98174s\t ll change 0.00305\n",
      "  Iteration 11\t time lapse 0.98659s\t ll change 0.00278\n",
      "  Iteration 12\t time lapse 1.03720s\t ll change 0.00253\n",
      "  Iteration 13\t time lapse 0.98804s\t ll change 0.00235\n",
      "  Iteration 14\t time lapse 0.99147s\t ll change 0.00224\n",
      "  Iteration 15\t time lapse 1.02692s\t ll change 0.00216\n",
      "Initialization converged: False\t time lapse 17.27651s\t ll 2.69434\n"
     ]
    },
    {
     "name": "stderr",
     "output_type": "stream",
     "text": [
      "/home/av/.local/lib/python3.10/site-packages/sklearn/mixture/_base.py:274: ConvergenceWarning: Initialization 1 did not converge. Try different init parameters, or increase max_iter, tol or check for degenerate data.\n",
      "  warnings.warn(\n"
     ]
    },
    {
     "name": "stdout",
     "output_type": "stream",
     "text": [
      "Initialization 0\n",
      "  Iteration 1\t time lapse 3.63832s\t ll change inf\n",
      "  Iteration 2\t time lapse 1.04866s\t ll change 0.56562\n",
      "  Iteration 3\t time lapse 1.06212s\t ll change 0.01900\n",
      "  Iteration 4\t time lapse 1.07975s\t ll change 0.01187\n",
      "  Iteration 5\t time lapse 1.02920s\t ll change 0.00848\n",
      "  Iteration 6\t time lapse 1.10446s\t ll change 0.00635\n",
      "  Iteration 7\t time lapse 1.17495s\t ll change 0.00487\n",
      "  Iteration 8\t time lapse 1.06232s\t ll change 0.00379\n",
      "  Iteration 9\t time lapse 1.20669s\t ll change 0.00296\n",
      "  Iteration 10\t time lapse 1.06312s\t ll change 0.00234\n",
      "  Iteration 11\t time lapse 1.04487s\t ll change 0.00188\n",
      "  Iteration 12\t time lapse 1.04798s\t ll change 0.00153\n",
      "  Iteration 13\t time lapse 1.04409s\t ll change 0.00126\n",
      "  Iteration 14\t time lapse 1.03814s\t ll change 0.00104\n",
      "  Iteration 15\t time lapse 1.02562s\t ll change 0.00088\n",
      "Initialization converged: True\t time lapse 18.67067s\t ll 2.89759\n",
      "Initialization 0\n",
      "  Iteration 1\t time lapse 3.95572s\t ll change inf\n",
      "  Iteration 2\t time lapse 1.06474s\t ll change 0.52228\n",
      "  Iteration 3\t time lapse 1.21585s\t ll change 0.02039\n",
      "  Iteration 4\t time lapse 1.09521s\t ll change 0.01427\n",
      "  Iteration 5\t time lapse 1.11017s\t ll change 0.01234\n",
      "  Iteration 6\t time lapse 1.22140s\t ll change 0.01167\n",
      "  Iteration 7\t time lapse 1.29258s\t ll change 0.01032\n",
      "  Iteration 8\t time lapse 1.11344s\t ll change 0.00829\n",
      "  Iteration 9\t time lapse 1.11899s\t ll change 0.00669\n",
      "  Iteration 10\t time lapse 1.11535s\t ll change 0.00573\n",
      "  Iteration 11\t time lapse 1.08814s\t ll change 0.00494\n",
      "  Iteration 12\t time lapse 1.20302s\t ll change 0.00401\n",
      "  Iteration 13\t time lapse 1.27523s\t ll change 0.00304\n",
      "  Iteration 14\t time lapse 1.11743s\t ll change 0.00228\n",
      "  Iteration 15\t time lapse 1.14476s\t ll change 0.00175\n",
      "Initialization converged: False\t time lapse 20.13238s\t ll 1.93417\n"
     ]
    },
    {
     "name": "stderr",
     "output_type": "stream",
     "text": [
      "/home/av/.local/lib/python3.10/site-packages/sklearn/mixture/_base.py:274: ConvergenceWarning: Initialization 1 did not converge. Try different init parameters, or increase max_iter, tol or check for degenerate data.\n",
      "  warnings.warn(\n"
     ]
    },
    {
     "name": "stdout",
     "output_type": "stream",
     "text": [
      "Initialization 0\n",
      "  Iteration 1\t time lapse 2.80924s\t ll change inf\n",
      "  Iteration 2\t time lapse 0.97819s\t ll change 0.43200\n",
      "  Iteration 3\t time lapse 0.96801s\t ll change 0.01921\n",
      "  Iteration 4\t time lapse 1.07638s\t ll change 0.01126\n",
      "  Iteration 5\t time lapse 0.98982s\t ll change 0.00760\n",
      "  Iteration 6\t time lapse 0.99839s\t ll change 0.00553\n",
      "  Iteration 7\t time lapse 1.00820s\t ll change 0.00427\n",
      "  Iteration 8\t time lapse 1.06711s\t ll change 0.00348\n",
      "  Iteration 9\t time lapse 0.97453s\t ll change 0.00298\n",
      "  Iteration 10\t time lapse 0.98355s\t ll change 0.00265\n",
      "  Iteration 11\t time lapse 0.98962s\t ll change 0.00246\n",
      "  Iteration 12\t time lapse 0.98653s\t ll change 0.00236\n",
      "  Iteration 13\t time lapse 1.00572s\t ll change 0.00231\n",
      "  Iteration 14\t time lapse 0.99076s\t ll change 0.00224\n",
      "  Iteration 15\t time lapse 0.97659s\t ll change 0.00212\n",
      "Initialization converged: False\t time lapse 16.80274s\t ll 2.56591\n"
     ]
    },
    {
     "name": "stderr",
     "output_type": "stream",
     "text": [
      "/home/av/.local/lib/python3.10/site-packages/sklearn/mixture/_base.py:274: ConvergenceWarning: Initialization 1 did not converge. Try different init parameters, or increase max_iter, tol or check for degenerate data.\n",
      "  warnings.warn(\n"
     ]
    },
    {
     "name": "stdout",
     "output_type": "stream",
     "text": [
      "Initialization 0\n",
      "  Iteration 1\t time lapse 4.00162s\t ll change inf\n",
      "  Iteration 2\t time lapse 0.93526s\t ll change 0.63829\n",
      "  Iteration 3\t time lapse 0.93592s\t ll change 0.01925\n",
      "  Iteration 4\t time lapse 0.92238s\t ll change 0.01265\n",
      "  Iteration 5\t time lapse 0.96609s\t ll change 0.00953\n",
      "  Iteration 6\t time lapse 0.94280s\t ll change 0.00744\n",
      "  Iteration 7\t time lapse 0.91572s\t ll change 0.00581\n",
      "  Iteration 8\t time lapse 0.92211s\t ll change 0.00451\n",
      "  Iteration 9\t time lapse 0.92753s\t ll change 0.00351\n",
      "  Iteration 10\t time lapse 0.91767s\t ll change 0.00277\n",
      "  Iteration 11\t time lapse 0.91291s\t ll change 0.00225\n",
      "  Iteration 12\t time lapse 0.91658s\t ll change 0.00188\n",
      "  Iteration 13\t time lapse 0.95134s\t ll change 0.00162\n",
      "  Iteration 14\t time lapse 0.92368s\t ll change 0.00142\n",
      "  Iteration 15\t time lapse 0.90936s\t ll change 0.00129\n",
      "Initialization converged: False\t time lapse 17.00137s\t ll 2.02188\n"
     ]
    },
    {
     "name": "stderr",
     "output_type": "stream",
     "text": [
      "/home/av/.local/lib/python3.10/site-packages/sklearn/mixture/_base.py:274: ConvergenceWarning: Initialization 1 did not converge. Try different init parameters, or increase max_iter, tol or check for degenerate data.\n",
      "  warnings.warn(\n"
     ]
    },
    {
     "name": "stdout",
     "output_type": "stream",
     "text": [
      "Initialization 0\n",
      "  Iteration 1\t time lapse 3.20151s\t ll change inf\n",
      "  Iteration 2\t time lapse 0.98897s\t ll change 0.05060\n",
      "  Iteration 3\t time lapse 1.03666s\t ll change 0.01990\n",
      "  Iteration 4\t time lapse 1.01473s\t ll change 0.01337\n",
      "  Iteration 5\t time lapse 0.98052s\t ll change 0.01052\n",
      "  Iteration 6\t time lapse 0.99715s\t ll change 0.00869\n",
      "  Iteration 7\t time lapse 0.98698s\t ll change 0.00722\n",
      "  Iteration 8\t time lapse 1.00241s\t ll change 0.00592\n",
      "  Iteration 9\t time lapse 1.01229s\t ll change 0.00479\n",
      "  Iteration 10\t time lapse 1.00581s\t ll change 0.00387\n",
      "  Iteration 11\t time lapse 1.01504s\t ll change 0.00316\n",
      "  Iteration 12\t time lapse 1.15422s\t ll change 0.00262\n",
      "  Iteration 13\t time lapse 1.01490s\t ll change 0.00220\n",
      "  Iteration 14\t time lapse 1.00776s\t ll change 0.00184\n",
      "  Iteration 15\t time lapse 0.98437s\t ll change 0.00155\n",
      "Initialization converged: False\t time lapse 17.40371s\t ll 2.77698\n"
     ]
    },
    {
     "name": "stderr",
     "output_type": "stream",
     "text": [
      "/home/av/.local/lib/python3.10/site-packages/sklearn/mixture/_base.py:274: ConvergenceWarning: Initialization 1 did not converge. Try different init parameters, or increase max_iter, tol or check for degenerate data.\n",
      "  warnings.warn(\n",
      "100%|██████████| 600/600 [00:30<00:00, 19.85it/s]\n",
      "/home/av/IST/slp-labs/LAB2/pf_tools.py:89: UserWarning: The feature directory already exists, and no new feature extraction will be performed.\n",
      "  warnings.warn(\"The feature directory already exists, and no new feature extraction will be performed.\")\n"
     ]
    },
    {
     "name": "stdout",
     "output_type": "stream",
     "text": [
      "Accuracy Score = 0.58\n",
      "\n",
      "\n",
      "Combination 30\n",
      "Initialization 0\n",
      "  Iteration 1\t time lapse 5.59194s\t ll change inf\n",
      "  Iteration 2\t time lapse 1.62285s\t ll change 0.43904\n",
      "  Iteration 3\t time lapse 1.57025s\t ll change 0.01930\n",
      "  Iteration 4\t time lapse 1.59550s\t ll change 0.01063\n",
      "  Iteration 5\t time lapse 1.66975s\t ll change 0.00710\n",
      "  Iteration 6\t time lapse 1.55145s\t ll change 0.00517\n",
      "  Iteration 7\t time lapse 1.56933s\t ll change 0.00396\n",
      "  Iteration 8\t time lapse 1.55779s\t ll change 0.00316\n",
      "  Iteration 9\t time lapse 1.54517s\t ll change 0.00261\n",
      "  Iteration 10\t time lapse 1.51909s\t ll change 0.00221\n",
      "  Iteration 11\t time lapse 1.61470s\t ll change 0.00191\n",
      "  Iteration 12\t time lapse 1.60254s\t ll change 0.00167\n",
      "  Iteration 13\t time lapse 1.59381s\t ll change 0.00148\n",
      "  Iteration 14\t time lapse 1.57749s\t ll change 0.00132\n",
      "  Iteration 15\t time lapse 1.56367s\t ll change 0.00118\n",
      "Initialization converged: False\t time lapse 27.74546s\t ll 2.78979\n"
     ]
    },
    {
     "name": "stderr",
     "output_type": "stream",
     "text": [
      "/home/av/.local/lib/python3.10/site-packages/sklearn/mixture/_base.py:274: ConvergenceWarning: Initialization 1 did not converge. Try different init parameters, or increase max_iter, tol or check for degenerate data.\n",
      "  warnings.warn(\n"
     ]
    },
    {
     "name": "stdout",
     "output_type": "stream",
     "text": [
      "Initialization 0\n",
      "  Iteration 1\t time lapse 5.93547s\t ll change inf\n",
      "  Iteration 2\t time lapse 1.82338s\t ll change 0.43343\n",
      "  Iteration 3\t time lapse 1.78693s\t ll change 0.01749\n",
      "  Iteration 4\t time lapse 1.75758s\t ll change 0.00964\n",
      "  Iteration 5\t time lapse 1.74750s\t ll change 0.00672\n",
      "  Iteration 6\t time lapse 1.73127s\t ll change 0.00527\n",
      "  Iteration 7\t time lapse 1.78984s\t ll change 0.00441\n",
      "  Iteration 8\t time lapse 1.72447s\t ll change 0.00386\n",
      "  Iteration 9\t time lapse 1.77250s\t ll change 0.00348\n",
      "  Iteration 10\t time lapse 1.68830s\t ll change 0.00322\n",
      "  Iteration 11\t time lapse 1.72729s\t ll change 0.00303\n",
      "  Iteration 12\t time lapse 1.73673s\t ll change 0.00288\n",
      "  Iteration 13\t time lapse 1.72338s\t ll change 0.00275\n",
      "  Iteration 14\t time lapse 1.77720s\t ll change 0.00259\n",
      "  Iteration 15\t time lapse 1.72004s\t ll change 0.00237\n",
      "Initialization converged: False\t time lapse 30.44229s\t ll 2.97663\n"
     ]
    },
    {
     "name": "stderr",
     "output_type": "stream",
     "text": [
      "/home/av/.local/lib/python3.10/site-packages/sklearn/mixture/_base.py:274: ConvergenceWarning: Initialization 1 did not converge. Try different init parameters, or increase max_iter, tol or check for degenerate data.\n",
      "  warnings.warn(\n"
     ]
    },
    {
     "name": "stdout",
     "output_type": "stream",
     "text": [
      "Initialization 0\n",
      "  Iteration 1\t time lapse 5.32195s\t ll change inf\n",
      "  Iteration 2\t time lapse 1.81595s\t ll change 0.42159\n",
      "  Iteration 3\t time lapse 1.88391s\t ll change 0.02491\n",
      "  Iteration 4\t time lapse 1.79744s\t ll change 0.01826\n",
      "  Iteration 5\t time lapse 1.78333s\t ll change 0.01477\n",
      "  Iteration 6\t time lapse 1.91739s\t ll change 0.01081\n",
      "  Iteration 7\t time lapse 1.80051s\t ll change 0.00729\n",
      "  Iteration 8\t time lapse 1.85571s\t ll change 0.00504\n",
      "  Iteration 9\t time lapse 1.78939s\t ll change 0.00375\n",
      "  Iteration 10\t time lapse 1.80731s\t ll change 0.00297\n",
      "  Iteration 11\t time lapse 1.82294s\t ll change 0.00246\n",
      "  Iteration 12\t time lapse 1.83911s\t ll change 0.00208\n",
      "  Iteration 13\t time lapse 1.73269s\t ll change 0.00179\n",
      "  Iteration 14\t time lapse 1.79239s\t ll change 0.00156\n",
      "  Iteration 15\t time lapse 1.72320s\t ll change 0.00139\n",
      "Initialization converged: False\t time lapse 30.68365s\t ll 2.03783\n"
     ]
    },
    {
     "name": "stderr",
     "output_type": "stream",
     "text": [
      "/home/av/.local/lib/python3.10/site-packages/sklearn/mixture/_base.py:274: ConvergenceWarning: Initialization 1 did not converge. Try different init parameters, or increase max_iter, tol or check for degenerate data.\n",
      "  warnings.warn(\n"
     ]
    },
    {
     "name": "stdout",
     "output_type": "stream",
     "text": [
      "Initialization 0\n",
      "  Iteration 1\t time lapse 6.27042s\t ll change inf\n",
      "  Iteration 2\t time lapse 1.64577s\t ll change 0.37357\n",
      "  Iteration 3\t time lapse 1.54859s\t ll change 0.01780\n",
      "  Iteration 4\t time lapse 1.59172s\t ll change 0.01041\n",
      "  Iteration 5\t time lapse 1.55368s\t ll change 0.00782\n",
      "  Iteration 6\t time lapse 1.60402s\t ll change 0.00661\n",
      "  Iteration 7\t time lapse 1.62193s\t ll change 0.00593\n",
      "  Iteration 8\t time lapse 1.55556s\t ll change 0.00546\n",
      "  Iteration 9\t time lapse 1.70576s\t ll change 0.00506\n",
      "  Iteration 10\t time lapse 1.62912s\t ll change 0.00464\n",
      "  Iteration 11\t time lapse 1.62122s\t ll change 0.00423\n",
      "  Iteration 12\t time lapse 1.58015s\t ll change 0.00385\n",
      "  Iteration 13\t time lapse 1.61097s\t ll change 0.00346\n",
      "  Iteration 14\t time lapse 1.63160s\t ll change 0.00311\n",
      "  Iteration 15\t time lapse 1.67204s\t ll change 0.00282\n",
      "Initialization converged: False\t time lapse 28.84297s\t ll 2.66267\n"
     ]
    },
    {
     "name": "stderr",
     "output_type": "stream",
     "text": [
      "/home/av/.local/lib/python3.10/site-packages/sklearn/mixture/_base.py:274: ConvergenceWarning: Initialization 1 did not converge. Try different init parameters, or increase max_iter, tol or check for degenerate data.\n",
      "  warnings.warn(\n"
     ]
    },
    {
     "name": "stdout",
     "output_type": "stream",
     "text": [
      "Initialization 0\n",
      "  Iteration 1\t time lapse 5.39284s\t ll change inf\n",
      "  Iteration 2\t time lapse 1.45230s\t ll change 0.47135\n",
      "  Iteration 3\t time lapse 1.43861s\t ll change 0.02013\n",
      "  Iteration 4\t time lapse 1.51402s\t ll change 0.01223\n",
      "  Iteration 5\t time lapse 1.45188s\t ll change 0.00893\n",
      "  Iteration 6\t time lapse 1.55557s\t ll change 0.00708\n",
      "  Iteration 7\t time lapse 1.42451s\t ll change 0.00586\n",
      "  Iteration 8\t time lapse 1.49394s\t ll change 0.00497\n",
      "  Iteration 9\t time lapse 1.47063s\t ll change 0.00428\n",
      "  Iteration 10\t time lapse 1.47447s\t ll change 0.00375\n",
      "  Iteration 11\t time lapse 1.44787s\t ll change 0.00332\n",
      "  Iteration 12\t time lapse 1.47001s\t ll change 0.00300\n",
      "  Iteration 13\t time lapse 1.44092s\t ll change 0.00274\n",
      "  Iteration 14\t time lapse 1.55543s\t ll change 0.00253\n",
      "  Iteration 15\t time lapse 1.44584s\t ll change 0.00233\n",
      "Initialization converged: False\t time lapse 26.02899s\t ll 2.11777\n"
     ]
    },
    {
     "name": "stderr",
     "output_type": "stream",
     "text": [
      "/home/av/.local/lib/python3.10/site-packages/sklearn/mixture/_base.py:274: ConvergenceWarning: Initialization 1 did not converge. Try different init parameters, or increase max_iter, tol or check for degenerate data.\n",
      "  warnings.warn(\n"
     ]
    },
    {
     "name": "stdout",
     "output_type": "stream",
     "text": [
      "Initialization 0\n",
      "  Iteration 1\t time lapse 5.86824s\t ll change inf\n",
      "  Iteration 2\t time lapse 1.55310s\t ll change 0.05814\n",
      "  Iteration 3\t time lapse 1.60439s\t ll change 0.02006\n",
      "  Iteration 4\t time lapse 1.56810s\t ll change 0.01191\n",
      "  Iteration 5\t time lapse 1.61113s\t ll change 0.00871\n",
      "  Iteration 6\t time lapse 1.57712s\t ll change 0.00694\n",
      "  Iteration 7\t time lapse 1.55670s\t ll change 0.00572\n",
      "  Iteration 8\t time lapse 1.53525s\t ll change 0.00481\n",
      "  Iteration 9\t time lapse 1.54339s\t ll change 0.00412\n",
      "  Iteration 10\t time lapse 1.53532s\t ll change 0.00359\n",
      "  Iteration 11\t time lapse 1.67184s\t ll change 0.00315\n",
      "  Iteration 12\t time lapse 1.51654s\t ll change 0.00277\n",
      "  Iteration 13\t time lapse 1.54734s\t ll change 0.00243\n",
      "  Iteration 14\t time lapse 1.58217s\t ll change 0.00210\n",
      "  Iteration 15\t time lapse 1.51200s\t ll change 0.00177\n",
      "Initialization converged: False\t time lapse 27.78275s\t ll 2.87088\n"
     ]
    },
    {
     "name": "stderr",
     "output_type": "stream",
     "text": [
      "/home/av/.local/lib/python3.10/site-packages/sklearn/mixture/_base.py:274: ConvergenceWarning: Initialization 1 did not converge. Try different init parameters, or increase max_iter, tol or check for degenerate data.\n",
      "  warnings.warn(\n",
      "100%|██████████| 600/600 [00:52<00:00, 11.37it/s]\n",
      "/home/av/IST/slp-labs/LAB2/pf_tools.py:89: UserWarning: The feature directory already exists, and no new feature extraction will be performed.\n",
      "  warnings.warn(\"The feature directory already exists, and no new feature extraction will be performed.\")\n"
     ]
    },
    {
     "name": "stdout",
     "output_type": "stream",
     "text": [
      "Accuracy Score = 0.6216666666666667\n",
      "\n",
      "\n",
      "Combination 31\n",
      "Initialization 0\n",
      "  Iteration 1\t time lapse 1.47229s\t ll change inf\n",
      "  Iteration 2\t time lapse 0.61489s\t ll change 0.51619\n",
      "  Iteration 3\t time lapse 0.59444s\t ll change 0.01403\n",
      "  Iteration 4\t time lapse 0.56174s\t ll change 0.01018\n",
      "  Iteration 5\t time lapse 0.57569s\t ll change 0.00913\n",
      "  Iteration 6\t time lapse 0.68130s\t ll change 0.00829\n",
      "  Iteration 7\t time lapse 0.60064s\t ll change 0.00697\n",
      "  Iteration 8\t time lapse 0.57697s\t ll change 0.00539\n",
      "  Iteration 9\t time lapse 0.57148s\t ll change 0.00399\n",
      "  Iteration 10\t time lapse 0.57326s\t ll change 0.00293\n",
      "  Iteration 11\t time lapse 0.60643s\t ll change 0.00219\n",
      "  Iteration 12\t time lapse 0.57737s\t ll change 0.00168\n",
      "  Iteration 13\t time lapse 0.57681s\t ll change 0.00131\n",
      "  Iteration 14\t time lapse 0.59813s\t ll change 0.00104\n",
      "  Iteration 15\t time lapse 0.60925s\t ll change 0.00084\n",
      "Initialization converged: True\t time lapse 9.79075s\t ll 2.56157\n",
      "Initialization 0\n",
      "  Iteration 1\t time lapse 1.85236s\t ll change inf\n",
      "  Iteration 2\t time lapse 0.62920s\t ll change 0.65147\n",
      "  Iteration 3\t time lapse 0.62518s\t ll change 0.01700\n",
      "  Iteration 4\t time lapse 0.61336s\t ll change 0.01022\n",
      "  Iteration 5\t time lapse 0.62234s\t ll change 0.00667\n",
      "  Iteration 6\t time lapse 0.63425s\t ll change 0.00442\n",
      "  Iteration 7\t time lapse 0.63055s\t ll change 0.00295\n",
      "  Iteration 8\t time lapse 0.60957s\t ll change 0.00202\n",
      "  Iteration 9\t time lapse 0.63300s\t ll change 0.00144\n",
      "  Iteration 10\t time lapse 0.61950s\t ll change 0.00108\n",
      "  Iteration 11\t time lapse 0.60801s\t ll change 0.00086\n",
      "Initialization converged: True\t time lapse 8.07739s\t ll 2.76803\n",
      "Initialization 0\n",
      "  Iteration 1\t time lapse 1.68352s\t ll change inf\n",
      "  Iteration 2\t time lapse 0.66663s\t ll change 0.60364\n",
      "  Iteration 3\t time lapse 0.63855s\t ll change 0.02257\n",
      "  Iteration 4\t time lapse 0.62796s\t ll change 0.01464\n",
      "  Iteration 5\t time lapse 0.62846s\t ll change 0.01044\n",
      "  Iteration 6\t time lapse 0.64415s\t ll change 0.00747\n",
      "  Iteration 7\t time lapse 0.62985s\t ll change 0.00519\n",
      "  Iteration 8\t time lapse 0.63703s\t ll change 0.00350\n",
      "  Iteration 9\t time lapse 0.64001s\t ll change 0.00236\n",
      "  Iteration 10\t time lapse 0.62299s\t ll change 0.00162\n",
      "  Iteration 11\t time lapse 0.61946s\t ll change 0.00116\n",
      "  Iteration 12\t time lapse 0.63813s\t ll change 0.00087\n",
      "Initialization converged: True\t time lapse 8.67683s\t ll 1.77238\n",
      "Initialization 0\n",
      "  Iteration 1\t time lapse 1.68246s\t ll change inf\n",
      "  Iteration 2\t time lapse 0.58839s\t ll change 0.55185\n",
      "  Iteration 3\t time lapse 0.59524s\t ll change 0.01797\n",
      "  Iteration 4\t time lapse 0.57876s\t ll change 0.01112\n",
      "  Iteration 5\t time lapse 0.60835s\t ll change 0.00732\n",
      "  Iteration 6\t time lapse 0.59003s\t ll change 0.00485\n",
      "  Iteration 7\t time lapse 0.58767s\t ll change 0.00325\n",
      "  Iteration 8\t time lapse 0.57839s\t ll change 0.00221\n",
      "  Iteration 9\t time lapse 0.58522s\t ll change 0.00153\n",
      "  Iteration 10\t time lapse 0.58221s\t ll change 0.00108\n",
      "  Iteration 11\t time lapse 0.58945s\t ll change 0.00077\n",
      "Initialization converged: True\t time lapse 7.56624s\t ll 2.44534\n",
      "Initialization 0\n",
      "  Iteration 1\t time lapse 1.55837s\t ll change inf\n",
      "  Iteration 2\t time lapse 0.52772s\t ll change 0.71022\n",
      "  Iteration 3\t time lapse 0.54577s\t ll change 0.02034\n",
      "  Iteration 4\t time lapse 0.53541s\t ll change 0.01442\n",
      "  Iteration 5\t time lapse 0.52949s\t ll change 0.01151\n",
      "  Iteration 6\t time lapse 0.57218s\t ll change 0.00935\n",
      "  Iteration 7\t time lapse 0.53755s\t ll change 0.00744\n",
      "  Iteration 8\t time lapse 0.58118s\t ll change 0.00572\n",
      "  Iteration 9\t time lapse 0.53679s\t ll change 0.00426\n",
      "  Iteration 10\t time lapse 0.56256s\t ll change 0.00310\n",
      "  Iteration 11\t time lapse 0.53889s\t ll change 0.00225\n",
      "  Iteration 12\t time lapse 0.54908s\t ll change 0.00164\n",
      "  Iteration 13\t time lapse 0.53512s\t ll change 0.00122\n",
      "  Iteration 14\t time lapse 0.53935s\t ll change 0.00093\n",
      "Initialization converged: True\t time lapse 8.64952s\t ll 1.92210\n",
      "Initialization 0\n",
      "  Iteration 1\t time lapse 1.50583s\t ll change inf\n",
      "  Iteration 2\t time lapse 0.56601s\t ll change 0.03730\n",
      "  Iteration 3\t time lapse 0.56508s\t ll change 0.01335\n",
      "  Iteration 4\t time lapse 0.56455s\t ll change 0.00846\n",
      "  Iteration 5\t time lapse 0.58598s\t ll change 0.00650\n",
      "  Iteration 6\t time lapse 0.57459s\t ll change 0.00548\n",
      "  Iteration 7\t time lapse 0.55951s\t ll change 0.00493\n",
      "  Iteration 8\t time lapse 0.57574s\t ll change 0.00466\n",
      "  Iteration 9\t time lapse 0.57461s\t ll change 0.00453\n",
      "  Iteration 10\t time lapse 0.57164s\t ll change 0.00431\n",
      "  Iteration 11\t time lapse 0.56952s\t ll change 0.00381\n",
      "  Iteration 12\t time lapse 0.57639s\t ll change 0.00302\n",
      "  Iteration 13\t time lapse 0.57077s\t ll change 0.00217\n",
      "  Iteration 14\t time lapse 0.56698s\t ll change 0.00147\n",
      "  Iteration 15\t time lapse 0.57098s\t ll change 0.00099\n",
      "Initialization converged: True\t time lapse 9.49825s\t ll 2.63239\n"
     ]
    },
    {
     "name": "stderr",
     "output_type": "stream",
     "text": [
      "100%|██████████| 600/600 [00:19<00:00, 30.95it/s]\n",
      "/home/av/IST/slp-labs/LAB2/pf_tools.py:89: UserWarning: The feature directory already exists, and no new feature extraction will be performed.\n",
      "  warnings.warn(\"The feature directory already exists, and no new feature extraction will be performed.\")\n"
     ]
    },
    {
     "name": "stdout",
     "output_type": "stream",
     "text": [
      "Accuracy Score = 0.555\n",
      "\n",
      "\n",
      "Combination 32\n",
      "Initialization 0\n",
      "  Iteration 1\t time lapse 2.66524s\t ll change inf\n",
      "  Iteration 2\t time lapse 0.96474s\t ll change 0.50087\n",
      "  Iteration 3\t time lapse 1.00279s\t ll change 0.01709\n",
      "  Iteration 4\t time lapse 1.01630s\t ll change 0.00968\n",
      "  Iteration 5\t time lapse 0.99089s\t ll change 0.00669\n",
      "  Iteration 6\t time lapse 1.00247s\t ll change 0.00513\n",
      "  Iteration 7\t time lapse 1.00556s\t ll change 0.00423\n",
      "  Iteration 8\t time lapse 0.99449s\t ll change 0.00371\n",
      "  Iteration 9\t time lapse 1.02692s\t ll change 0.00336\n",
      "  Iteration 10\t time lapse 1.12767s\t ll change 0.00301\n",
      "  Iteration 11\t time lapse 1.02837s\t ll change 0.00273\n",
      "  Iteration 12\t time lapse 1.02115s\t ll change 0.00260\n",
      "  Iteration 13\t time lapse 1.00546s\t ll change 0.00258\n",
      "  Iteration 14\t time lapse 0.98449s\t ll change 0.00259\n",
      "  Iteration 15\t time lapse 1.01873s\t ll change 0.00250\n",
      "Initialization converged: False\t time lapse 16.85538s\t ll 2.69343\n"
     ]
    },
    {
     "name": "stderr",
     "output_type": "stream",
     "text": [
      "/home/av/.local/lib/python3.10/site-packages/sklearn/mixture/_base.py:274: ConvergenceWarning: Initialization 1 did not converge. Try different init parameters, or increase max_iter, tol or check for degenerate data.\n",
      "  warnings.warn(\n"
     ]
    },
    {
     "name": "stdout",
     "output_type": "stream",
     "text": [
      "Initialization 0\n",
      "  Iteration 1\t time lapse 4.00393s\t ll change inf\n",
      "  Iteration 2\t time lapse 1.06147s\t ll change 0.58768\n",
      "  Iteration 3\t time lapse 1.08288s\t ll change 0.02000\n",
      "  Iteration 4\t time lapse 1.04033s\t ll change 0.01257\n",
      "  Iteration 5\t time lapse 1.03302s\t ll change 0.00896\n",
      "  Iteration 6\t time lapse 1.07113s\t ll change 0.00665\n",
      "  Iteration 7\t time lapse 1.09672s\t ll change 0.00505\n",
      "  Iteration 8\t time lapse 1.07956s\t ll change 0.00392\n",
      "  Iteration 9\t time lapse 1.04633s\t ll change 0.00314\n",
      "  Iteration 10\t time lapse 1.21116s\t ll change 0.00260\n",
      "  Iteration 11\t time lapse 1.09104s\t ll change 0.00220\n",
      "  Iteration 12\t time lapse 1.15451s\t ll change 0.00186\n",
      "  Iteration 13\t time lapse 1.10273s\t ll change 0.00153\n",
      "  Iteration 14\t time lapse 1.04609s\t ll change 0.00122\n",
      "  Iteration 15\t time lapse 1.17146s\t ll change 0.00098\n",
      "Initialization converged: True\t time lapse 19.29247s\t ll 2.89851\n",
      "Initialization 0\n",
      "  Iteration 1\t time lapse 3.51722s\t ll change inf\n",
      "  Iteration 2\t time lapse 1.09744s\t ll change 0.50967\n",
      "  Iteration 3\t time lapse 1.14694s\t ll change 0.01995\n",
      "  Iteration 4\t time lapse 1.17120s\t ll change 0.01372\n",
      "  Iteration 5\t time lapse 1.08034s\t ll change 0.01170\n",
      "  Iteration 6\t time lapse 1.09137s\t ll change 0.01131\n",
      "  Iteration 7\t time lapse 1.10191s\t ll change 0.01088\n",
      "  Iteration 8\t time lapse 1.29125s\t ll change 0.00945\n",
      "  Iteration 9\t time lapse 1.09373s\t ll change 0.00754\n",
      "  Iteration 10\t time lapse 1.17752s\t ll change 0.00568\n",
      "  Iteration 11\t time lapse 1.12497s\t ll change 0.00415\n",
      "  Iteration 12\t time lapse 1.06436s\t ll change 0.00305\n",
      "  Iteration 13\t time lapse 1.06504s\t ll change 0.00233\n",
      "  Iteration 14\t time lapse 1.07073s\t ll change 0.00185\n",
      "  Iteration 15\t time lapse 1.20715s\t ll change 0.00152\n",
      "Initialization converged: False\t time lapse 19.30127s\t ll 1.93341\n"
     ]
    },
    {
     "name": "stderr",
     "output_type": "stream",
     "text": [
      "/home/av/.local/lib/python3.10/site-packages/sklearn/mixture/_base.py:274: ConvergenceWarning: Initialization 1 did not converge. Try different init parameters, or increase max_iter, tol or check for degenerate data.\n",
      "  warnings.warn(\n"
     ]
    },
    {
     "name": "stdout",
     "output_type": "stream",
     "text": [
      "Initialization 0\n",
      "  Iteration 1\t time lapse 2.86107s\t ll change inf\n",
      "  Iteration 2\t time lapse 1.00327s\t ll change 0.44164\n",
      "  Iteration 3\t time lapse 1.00077s\t ll change 0.01925\n",
      "  Iteration 4\t time lapse 1.01329s\t ll change 0.01221\n",
      "  Iteration 5\t time lapse 1.01011s\t ll change 0.00902\n",
      "  Iteration 6\t time lapse 1.00203s\t ll change 0.00715\n",
      "  Iteration 7\t time lapse 1.00186s\t ll change 0.00594\n",
      "  Iteration 8\t time lapse 0.99216s\t ll change 0.00503\n",
      "  Iteration 9\t time lapse 0.99638s\t ll change 0.00425\n",
      "  Iteration 10\t time lapse 1.00775s\t ll change 0.00354\n",
      "  Iteration 11\t time lapse 1.15060s\t ll change 0.00296\n",
      "  Iteration 12\t time lapse 0.99799s\t ll change 0.00251\n",
      "  Iteration 13\t time lapse 1.01392s\t ll change 0.00218\n",
      "  Iteration 14\t time lapse 1.00931s\t ll change 0.00194\n",
      "  Iteration 15\t time lapse 1.04231s\t ll change 0.00174\n",
      "Initialization converged: False\t time lapse 17.10320s\t ll 2.56911\n"
     ]
    },
    {
     "name": "stderr",
     "output_type": "stream",
     "text": [
      "/home/av/.local/lib/python3.10/site-packages/sklearn/mixture/_base.py:274: ConvergenceWarning: Initialization 1 did not converge. Try different init parameters, or increase max_iter, tol or check for degenerate data.\n",
      "  warnings.warn(\n"
     ]
    },
    {
     "name": "stdout",
     "output_type": "stream",
     "text": [
      "Initialization 0\n",
      "  Iteration 1\t time lapse 3.29400s\t ll change inf\n",
      "  Iteration 2\t time lapse 0.89416s\t ll change 0.61127\n",
      "  Iteration 3\t time lapse 0.92174s\t ll change 0.01974\n",
      "  Iteration 4\t time lapse 0.89731s\t ll change 0.01256\n",
      "  Iteration 5\t time lapse 0.92181s\t ll change 0.00899\n",
      "  Iteration 6\t time lapse 0.92233s\t ll change 0.00674\n",
      "  Iteration 7\t time lapse 0.91475s\t ll change 0.00522\n",
      "  Iteration 8\t time lapse 0.92755s\t ll change 0.00416\n",
      "  Iteration 9\t time lapse 0.96593s\t ll change 0.00343\n",
      "  Iteration 10\t time lapse 0.94960s\t ll change 0.00292\n",
      "  Iteration 11\t time lapse 0.96649s\t ll change 0.00257\n",
      "  Iteration 12\t time lapse 0.95045s\t ll change 0.00235\n",
      "  Iteration 13\t time lapse 0.92960s\t ll change 0.00222\n",
      "  Iteration 14\t time lapse 0.94155s\t ll change 0.00217\n",
      "  Iteration 15\t time lapse 0.97224s\t ll change 0.00215\n",
      "Initialization converged: False\t time lapse 16.36961s\t ll 2.02370\n"
     ]
    },
    {
     "name": "stderr",
     "output_type": "stream",
     "text": [
      "/home/av/.local/lib/python3.10/site-packages/sklearn/mixture/_base.py:274: ConvergenceWarning: Initialization 1 did not converge. Try different init parameters, or increase max_iter, tol or check for degenerate data.\n",
      "  warnings.warn(\n"
     ]
    },
    {
     "name": "stdout",
     "output_type": "stream",
     "text": [
      "Initialization 0\n",
      "  Iteration 1\t time lapse 2.94412s\t ll change inf\n",
      "  Iteration 2\t time lapse 0.95838s\t ll change 0.05107\n",
      "  Iteration 3\t time lapse 0.96461s\t ll change 0.01946\n",
      "  Iteration 4\t time lapse 1.00447s\t ll change 0.01237\n",
      "  Iteration 5\t time lapse 0.98179s\t ll change 0.00887\n",
      "  Iteration 6\t time lapse 0.97354s\t ll change 0.00657\n",
      "  Iteration 7\t time lapse 1.01462s\t ll change 0.00499\n",
      "  Iteration 8\t time lapse 1.00958s\t ll change 0.00391\n",
      "  Iteration 9\t time lapse 1.00349s\t ll change 0.00321\n",
      "  Iteration 10\t time lapse 0.98358s\t ll change 0.00279\n",
      "  Iteration 11\t time lapse 0.97493s\t ll change 0.00258\n",
      "  Iteration 12\t time lapse 0.96881s\t ll change 0.00253\n",
      "  Iteration 13\t time lapse 0.94908s\t ll change 0.00258\n",
      "  Iteration 14\t time lapse 0.94589s\t ll change 0.00264\n",
      "  Iteration 15\t time lapse 0.97199s\t ll change 0.00262\n",
      "Initialization converged: False\t time lapse 16.64927s\t ll 2.77191\n"
     ]
    },
    {
     "name": "stderr",
     "output_type": "stream",
     "text": [
      "/home/av/.local/lib/python3.10/site-packages/sklearn/mixture/_base.py:274: ConvergenceWarning: Initialization 1 did not converge. Try different init parameters, or increase max_iter, tol or check for degenerate data.\n",
      "  warnings.warn(\n",
      "100%|██████████| 600/600 [00:30<00:00, 19.51it/s]\n",
      "/home/av/IST/slp-labs/LAB2/pf_tools.py:89: UserWarning: The feature directory already exists, and no new feature extraction will be performed.\n",
      "  warnings.warn(\"The feature directory already exists, and no new feature extraction will be performed.\")\n"
     ]
    },
    {
     "name": "stdout",
     "output_type": "stream",
     "text": [
      "Accuracy Score = 0.585\n",
      "\n",
      "\n",
      "Combination 33\n",
      "Initialization 0\n",
      "  Iteration 1\t time lapse 5.70105s\t ll change inf\n",
      "  Iteration 2\t time lapse 1.73248s\t ll change 0.46065\n",
      "  Iteration 3\t time lapse 1.56761s\t ll change 0.01935\n",
      "  Iteration 4\t time lapse 1.66030s\t ll change 0.01095\n",
      "  Iteration 5\t time lapse 1.59958s\t ll change 0.00760\n",
      "  Iteration 6\t time lapse 1.58223s\t ll change 0.00587\n",
      "  Iteration 7\t time lapse 1.59365s\t ll change 0.00475\n",
      "  Iteration 8\t time lapse 1.54659s\t ll change 0.00388\n",
      "  Iteration 9\t time lapse 1.64070s\t ll change 0.00314\n",
      "  Iteration 10\t time lapse 1.58015s\t ll change 0.00254\n",
      "  Iteration 11\t time lapse 1.59560s\t ll change 0.00207\n",
      "  Iteration 12\t time lapse 1.64441s\t ll change 0.00172\n",
      "  Iteration 13\t time lapse 1.52330s\t ll change 0.00146\n",
      "  Iteration 14\t time lapse 1.56755s\t ll change 0.00126\n",
      "  Iteration 15\t time lapse 1.57694s\t ll change 0.00110\n",
      "Initialization converged: False\t time lapse 28.11255s\t ll 2.79461\n"
     ]
    },
    {
     "name": "stderr",
     "output_type": "stream",
     "text": [
      "/home/av/.local/lib/python3.10/site-packages/sklearn/mixture/_base.py:274: ConvergenceWarning: Initialization 1 did not converge. Try different init parameters, or increase max_iter, tol or check for degenerate data.\n",
      "  warnings.warn(\n"
     ]
    },
    {
     "name": "stdout",
     "output_type": "stream",
     "text": [
      "Initialization 0\n",
      "  Iteration 1\t time lapse 5.90492s\t ll change inf\n",
      "  Iteration 2\t time lapse 1.89214s\t ll change 0.38732\n",
      "  Iteration 3\t time lapse 1.72885s\t ll change 0.01864\n",
      "  Iteration 4\t time lapse 1.76135s\t ll change 0.01087\n",
      "  Iteration 5\t time lapse 1.79316s\t ll change 0.00796\n",
      "  Iteration 6\t time lapse 1.85229s\t ll change 0.00645\n",
      "  Iteration 7\t time lapse 1.73841s\t ll change 0.00547\n",
      "  Iteration 8\t time lapse 1.78988s\t ll change 0.00473\n",
      "  Iteration 9\t time lapse 1.79418s\t ll change 0.00411\n",
      "  Iteration 10\t time lapse 1.79264s\t ll change 0.00358\n",
      "  Iteration 11\t time lapse 1.77745s\t ll change 0.00311\n",
      "  Iteration 12\t time lapse 1.83994s\t ll change 0.00270\n",
      "  Iteration 13\t time lapse 1.81237s\t ll change 0.00233\n",
      "  Iteration 14\t time lapse 1.78336s\t ll change 0.00201\n",
      "  Iteration 15\t time lapse 1.75607s\t ll change 0.00173\n",
      "Initialization converged: False\t time lapse 31.01712s\t ll 2.98038\n"
     ]
    },
    {
     "name": "stderr",
     "output_type": "stream",
     "text": [
      "/home/av/.local/lib/python3.10/site-packages/sklearn/mixture/_base.py:274: ConvergenceWarning: Initialization 1 did not converge. Try different init parameters, or increase max_iter, tol or check for degenerate data.\n",
      "  warnings.warn(\n"
     ]
    },
    {
     "name": "stdout",
     "output_type": "stream",
     "text": [
      "Initialization 0\n",
      "  Iteration 1\t time lapse 6.43142s\t ll change inf\n",
      "  Iteration 2\t time lapse 1.87798s\t ll change 0.42558\n",
      "  Iteration 3\t time lapse 1.88344s\t ll change 0.02681\n",
      "  Iteration 4\t time lapse 1.90449s\t ll change 0.01888\n",
      "  Iteration 5\t time lapse 1.91995s\t ll change 0.01416\n",
      "  Iteration 6\t time lapse 1.97836s\t ll change 0.00966\n",
      "  Iteration 7\t time lapse 1.87315s\t ll change 0.00638\n",
      "  Iteration 8\t time lapse 1.91108s\t ll change 0.00450\n",
      "  Iteration 9\t time lapse 2.07769s\t ll change 0.00343\n",
      "  Iteration 10\t time lapse 1.83826s\t ll change 0.00275\n",
      "  Iteration 11\t time lapse 1.91620s\t ll change 0.00228\n",
      "  Iteration 12\t time lapse 1.92696s\t ll change 0.00194\n",
      "  Iteration 13\t time lapse 1.89980s\t ll change 0.00166\n",
      "  Iteration 14\t time lapse 1.86172s\t ll change 0.00144\n",
      "  Iteration 15\t time lapse 1.82836s\t ll change 0.00125\n",
      "Initialization converged: False\t time lapse 33.12897s\t ll 2.03964\n"
     ]
    },
    {
     "name": "stderr",
     "output_type": "stream",
     "text": [
      "/home/av/.local/lib/python3.10/site-packages/sklearn/mixture/_base.py:274: ConvergenceWarning: Initialization 1 did not converge. Try different init parameters, or increase max_iter, tol or check for degenerate data.\n",
      "  warnings.warn(\n"
     ]
    },
    {
     "name": "stdout",
     "output_type": "stream",
     "text": [
      "Initialization 0\n",
      "  Iteration 1\t time lapse 5.79707s\t ll change inf\n",
      "  Iteration 2\t time lapse 1.59768s\t ll change 0.37383\n",
      "  Iteration 3\t time lapse 1.62293s\t ll change 0.01815\n",
      "  Iteration 4\t time lapse 1.61158s\t ll change 0.01075\n",
      "  Iteration 5\t time lapse 1.56319s\t ll change 0.00795\n",
      "  Iteration 6\t time lapse 1.56489s\t ll change 0.00654\n",
      "  Iteration 7\t time lapse 1.57301s\t ll change 0.00575\n",
      "  Iteration 8\t time lapse 1.60948s\t ll change 0.00532\n",
      "  Iteration 9\t time lapse 1.64778s\t ll change 0.00503\n",
      "  Iteration 10\t time lapse 1.58114s\t ll change 0.00471\n",
      "  Iteration 11\t time lapse 1.64281s\t ll change 0.00432\n",
      "  Iteration 12\t time lapse 1.57438s\t ll change 0.00391\n",
      "  Iteration 13\t time lapse 1.57531s\t ll change 0.00353\n",
      "  Iteration 14\t time lapse 1.62304s\t ll change 0.00315\n",
      "  Iteration 15\t time lapse 1.54885s\t ll change 0.00279\n",
      "Initialization converged: False\t time lapse 28.13357s\t ll 2.65591\n"
     ]
    },
    {
     "name": "stderr",
     "output_type": "stream",
     "text": [
      "/home/av/.local/lib/python3.10/site-packages/sklearn/mixture/_base.py:274: ConvergenceWarning: Initialization 1 did not converge. Try different init parameters, or increase max_iter, tol or check for degenerate data.\n",
      "  warnings.warn(\n"
     ]
    },
    {
     "name": "stdout",
     "output_type": "stream",
     "text": [
      "Initialization 0\n",
      "  Iteration 1\t time lapse 5.56415s\t ll change inf\n",
      "  Iteration 2\t time lapse 1.49355s\t ll change 0.49426\n",
      "  Iteration 3\t time lapse 1.46685s\t ll change 0.01948\n",
      "  Iteration 4\t time lapse 1.47140s\t ll change 0.01194\n",
      "  Iteration 5\t time lapse 1.45946s\t ll change 0.00891\n",
      "  Iteration 6\t time lapse 1.45094s\t ll change 0.00723\n",
      "  Iteration 7\t time lapse 1.57818s\t ll change 0.00608\n",
      "  Iteration 8\t time lapse 1.44685s\t ll change 0.00519\n",
      "  Iteration 9\t time lapse 1.50616s\t ll change 0.00444\n",
      "  Iteration 10\t time lapse 1.41994s\t ll change 0.00377\n",
      "  Iteration 11\t time lapse 1.49262s\t ll change 0.00318\n",
      "  Iteration 12\t time lapse 1.44840s\t ll change 0.00270\n",
      "  Iteration 13\t time lapse 1.48373s\t ll change 0.00233\n",
      "  Iteration 14\t time lapse 1.43466s\t ll change 0.00206\n",
      "  Iteration 15\t time lapse 1.55499s\t ll change 0.00188\n",
      "Initialization converged: False\t time lapse 26.27234s\t ll 2.11403\n"
     ]
    },
    {
     "name": "stderr",
     "output_type": "stream",
     "text": [
      "/home/av/.local/lib/python3.10/site-packages/sklearn/mixture/_base.py:274: ConvergenceWarning: Initialization 1 did not converge. Try different init parameters, or increase max_iter, tol or check for degenerate data.\n",
      "  warnings.warn(\n"
     ]
    },
    {
     "name": "stdout",
     "output_type": "stream",
     "text": [
      "Initialization 0\n",
      "  Iteration 1\t time lapse 5.22434s\t ll change inf\n",
      "  Iteration 2\t time lapse 1.57221s\t ll change 0.05709\n",
      "  Iteration 3\t time lapse 1.53315s\t ll change 0.01921\n",
      "  Iteration 4\t time lapse 1.63664s\t ll change 0.01107\n",
      "  Iteration 5\t time lapse 1.53318s\t ll change 0.00777\n",
      "  Iteration 6\t time lapse 1.54490s\t ll change 0.00590\n",
      "  Iteration 7\t time lapse 1.60476s\t ll change 0.00464\n",
      "  Iteration 8\t time lapse 1.54294s\t ll change 0.00376\n",
      "  Iteration 9\t time lapse 1.56489s\t ll change 0.00317\n",
      "  Iteration 10\t time lapse 1.52810s\t ll change 0.00280\n",
      "  Iteration 11\t time lapse 1.62284s\t ll change 0.00256\n",
      "  Iteration 12\t time lapse 1.57343s\t ll change 0.00237\n",
      "  Iteration 13\t time lapse 1.64610s\t ll change 0.00214\n",
      "  Iteration 14\t time lapse 1.59118s\t ll change 0.00191\n",
      "  Iteration 15\t time lapse 1.56005s\t ll change 0.00171\n",
      "Initialization converged: False\t time lapse 27.27882s\t ll 2.86748\n"
     ]
    },
    {
     "name": "stderr",
     "output_type": "stream",
     "text": [
      "/home/av/.local/lib/python3.10/site-packages/sklearn/mixture/_base.py:274: ConvergenceWarning: Initialization 1 did not converge. Try different init parameters, or increase max_iter, tol or check for degenerate data.\n",
      "  warnings.warn(\n",
      "100%|██████████| 600/600 [00:52<00:00, 11.34it/s]\n",
      "/home/av/IST/slp-labs/LAB2/pf_tools.py:89: UserWarning: The feature directory already exists, and no new feature extraction will be performed.\n",
      "  warnings.warn(\"The feature directory already exists, and no new feature extraction will be performed.\")\n"
     ]
    },
    {
     "name": "stdout",
     "output_type": "stream",
     "text": [
      "Accuracy Score = 0.6183333333333333\n",
      "\n",
      "\n",
      "Combination 34\n",
      "Initialization 0\n",
      "  Iteration 1\t time lapse 1.74116s\t ll change inf\n",
      "  Iteration 2\t time lapse 0.60670s\t ll change 0.51885\n",
      "  Iteration 3\t time lapse 0.57315s\t ll change 0.01618\n",
      "  Iteration 4\t time lapse 0.59885s\t ll change 0.01141\n",
      "  Iteration 5\t time lapse 0.60288s\t ll change 0.00892\n",
      "  Iteration 6\t time lapse 0.61394s\t ll change 0.00678\n",
      "  Iteration 7\t time lapse 0.58781s\t ll change 0.00496\n",
      "  Iteration 8\t time lapse 0.59822s\t ll change 0.00358\n",
      "  Iteration 9\t time lapse 0.61269s\t ll change 0.00262\n",
      "  Iteration 10\t time lapse 0.66573s\t ll change 0.00198\n",
      "  Iteration 11\t time lapse 0.60551s\t ll change 0.00153\n",
      "  Iteration 12\t time lapse 0.59135s\t ll change 0.00122\n",
      "  Iteration 13\t time lapse 0.74730s\t ll change 0.00098\n",
      "Initialization converged: True\t time lapse 9.14536s\t ll 2.56069\n",
      "Initialization 0\n",
      "  Iteration 1\t time lapse 1.99069s\t ll change inf\n",
      "  Iteration 2\t time lapse 0.61090s\t ll change 0.65149\n",
      "  Iteration 3\t time lapse 0.64664s\t ll change 0.01701\n",
      "  Iteration 4\t time lapse 0.61505s\t ll change 0.01022\n",
      "  Iteration 5\t time lapse 0.66689s\t ll change 0.00668\n",
      "  Iteration 6\t time lapse 0.62186s\t ll change 0.00442\n",
      "  Iteration 7\t time lapse 0.61418s\t ll change 0.00295\n",
      "  Iteration 8\t time lapse 0.62882s\t ll change 0.00202\n",
      "  Iteration 9\t time lapse 0.61107s\t ll change 0.00144\n",
      "  Iteration 10\t time lapse 0.60935s\t ll change 0.00108\n",
      "  Iteration 11\t time lapse 0.66666s\t ll change 0.00085\n",
      "Initialization converged: True\t time lapse 8.28217s\t ll 2.76805\n",
      "Initialization 0\n",
      "  Iteration 1\t time lapse 1.45812s\t ll change inf\n",
      "  Iteration 2\t time lapse 0.63578s\t ll change 0.60341\n",
      "  Iteration 3\t time lapse 0.61561s\t ll change 0.02249\n",
      "  Iteration 4\t time lapse 0.62158s\t ll change 0.01465\n",
      "  Iteration 5\t time lapse 0.63813s\t ll change 0.01053\n",
      "  Iteration 6\t time lapse 0.61913s\t ll change 0.00759\n",
      "  Iteration 7\t time lapse 0.61646s\t ll change 0.00531\n",
      "  Iteration 8\t time lapse 0.61868s\t ll change 0.00360\n",
      "  Iteration 9\t time lapse 0.62618s\t ll change 0.00242\n",
      "  Iteration 10\t time lapse 0.62941s\t ll change 0.00167\n",
      "  Iteration 11\t time lapse 0.61991s\t ll change 0.00120\n",
      "  Iteration 12\t time lapse 0.62965s\t ll change 0.00089\n",
      "Initialization converged: True\t time lapse 8.32872s\t ll 1.77226\n",
      "Initialization 0\n",
      "  Iteration 1\t time lapse 1.64829s\t ll change inf\n",
      "  Iteration 2\t time lapse 0.57314s\t ll change 0.57753\n",
      "  Iteration 3\t time lapse 0.56476s\t ll change 0.01842\n",
      "  Iteration 4\t time lapse 0.56873s\t ll change 0.01164\n",
      "  Iteration 5\t time lapse 0.56825s\t ll change 0.00777\n",
      "  Iteration 6\t time lapse 0.58618s\t ll change 0.00514\n",
      "  Iteration 7\t time lapse 0.57938s\t ll change 0.00337\n",
      "  Iteration 8\t time lapse 0.57530s\t ll change 0.00220\n",
      "  Iteration 9\t time lapse 0.68648s\t ll change 0.00145\n",
      "  Iteration 10\t time lapse 0.57842s\t ll change 0.00097\n",
      "Initialization converged: True\t time lapse 6.92899s\t ll 2.44513\n",
      "Initialization 0\n",
      "  Iteration 1\t time lapse 1.35143s\t ll change inf\n",
      "  Iteration 2\t time lapse 0.52680s\t ll change 0.71024\n",
      "  Iteration 3\t time lapse 0.52679s\t ll change 0.02035\n",
      "  Iteration 4\t time lapse 0.56078s\t ll change 0.01442\n",
      "  Iteration 5\t time lapse 0.52776s\t ll change 0.01151\n",
      "  Iteration 6\t time lapse 0.55329s\t ll change 0.00935\n",
      "  Iteration 7\t time lapse 0.54478s\t ll change 0.00744\n",
      "  Iteration 8\t time lapse 0.51941s\t ll change 0.00571\n",
      "  Iteration 9\t time lapse 0.53645s\t ll change 0.00425\n",
      "  Iteration 10\t time lapse 0.52954s\t ll change 0.00309\n",
      "  Iteration 11\t time lapse 0.53766s\t ll change 0.00224\n",
      "  Iteration 12\t time lapse 0.52811s\t ll change 0.00164\n",
      "  Iteration 13\t time lapse 0.53370s\t ll change 0.00122\n",
      "  Iteration 14\t time lapse 0.52363s\t ll change 0.00093\n",
      "Initialization converged: True\t time lapse 8.30021s\t ll 1.92211\n",
      "Initialization 0\n",
      "  Iteration 1\t time lapse 1.26687s\t ll change inf\n",
      "  Iteration 2\t time lapse 0.57371s\t ll change 0.49397\n",
      "  Iteration 3\t time lapse 0.55881s\t ll change 0.01354\n",
      "  Iteration 4\t time lapse 0.57153s\t ll change 0.00800\n",
      "  Iteration 5\t time lapse 0.55958s\t ll change 0.00633\n",
      "  Iteration 6\t time lapse 0.57447s\t ll change 0.00593\n",
      "  Iteration 7\t time lapse 0.55621s\t ll change 0.00604\n",
      "  Iteration 8\t time lapse 0.56885s\t ll change 0.00636\n",
      "  Iteration 9\t time lapse 0.56040s\t ll change 0.00672\n",
      "  Iteration 10\t time lapse 0.57291s\t ll change 0.00692\n",
      "  Iteration 11\t time lapse 0.57781s\t ll change 0.00671\n",
      "  Iteration 12\t time lapse 0.56059s\t ll change 0.00599\n",
      "  Iteration 13\t time lapse 0.56112s\t ll change 0.00494\n",
      "  Iteration 14\t time lapse 0.56982s\t ll change 0.00385\n",
      "  Iteration 15\t time lapse 0.59127s\t ll change 0.00289\n",
      "Initialization converged: False\t time lapse 9.22402s\t ll 2.62688\n"
     ]
    },
    {
     "name": "stderr",
     "output_type": "stream",
     "text": [
      "/home/av/.local/lib/python3.10/site-packages/sklearn/mixture/_base.py:274: ConvergenceWarning: Initialization 1 did not converge. Try different init parameters, or increase max_iter, tol or check for degenerate data.\n",
      "  warnings.warn(\n",
      "100%|██████████| 600/600 [00:19<00:00, 30.33it/s]\n",
      "/home/av/IST/slp-labs/LAB2/pf_tools.py:89: UserWarning: The feature directory already exists, and no new feature extraction will be performed.\n",
      "  warnings.warn(\"The feature directory already exists, and no new feature extraction will be performed.\")\n"
     ]
    },
    {
     "name": "stdout",
     "output_type": "stream",
     "text": [
      "Accuracy Score = 0.5583333333333333\n",
      "\n",
      "\n",
      "Combination 35\n",
      "Initialization 0\n",
      "  Iteration 1\t time lapse 3.02123s\t ll change inf\n",
      "  Iteration 2\t time lapse 0.98442s\t ll change 0.49620\n",
      "  Iteration 3\t time lapse 0.97510s\t ll change 0.01593\n",
      "  Iteration 4\t time lapse 0.97125s\t ll change 0.00955\n",
      "  Iteration 5\t time lapse 1.01522s\t ll change 0.00703\n",
      "  Iteration 6\t time lapse 0.99477s\t ll change 0.00567\n",
      "  Iteration 7\t time lapse 1.04124s\t ll change 0.00480\n",
      "  Iteration 8\t time lapse 0.97673s\t ll change 0.00419\n",
      "  Iteration 9\t time lapse 1.12947s\t ll change 0.00372\n",
      "  Iteration 10\t time lapse 0.98584s\t ll change 0.00335\n",
      "  Iteration 11\t time lapse 0.95969s\t ll change 0.00300\n",
      "  Iteration 12\t time lapse 1.03095s\t ll change 0.00261\n",
      "  Iteration 13\t time lapse 0.97383s\t ll change 0.00216\n",
      "  Iteration 14\t time lapse 0.95829s\t ll change 0.00172\n",
      "  Iteration 15\t time lapse 0.96177s\t ll change 0.00136\n",
      "Initialization converged: False\t time lapse 16.97989s\t ll 2.68945\n"
     ]
    },
    {
     "name": "stderr",
     "output_type": "stream",
     "text": [
      "/home/av/.local/lib/python3.10/site-packages/sklearn/mixture/_base.py:274: ConvergenceWarning: Initialization 1 did not converge. Try different init parameters, or increase max_iter, tol or check for degenerate data.\n",
      "  warnings.warn(\n"
     ]
    },
    {
     "name": "stdout",
     "output_type": "stream",
     "text": [
      "Initialization 0\n",
      "  Iteration 1\t time lapse 3.43951s\t ll change inf\n",
      "  Iteration 2\t time lapse 1.05743s\t ll change 0.55217\n",
      "  Iteration 3\t time lapse 1.08633s\t ll change 0.01927\n",
      "  Iteration 4\t time lapse 1.04707s\t ll change 0.01195\n",
      "  Iteration 5\t time lapse 1.02750s\t ll change 0.00850\n",
      "  Iteration 6\t time lapse 1.03374s\t ll change 0.00638\n",
      "  Iteration 7\t time lapse 1.05301s\t ll change 0.00493\n",
      "  Iteration 8\t time lapse 1.25791s\t ll change 0.00391\n",
      "  Iteration 9\t time lapse 1.18647s\t ll change 0.00321\n",
      "  Iteration 10\t time lapse 1.03905s\t ll change 0.00273\n",
      "  Iteration 11\t time lapse 1.02668s\t ll change 0.00244\n",
      "  Iteration 12\t time lapse 1.02404s\t ll change 0.00233\n",
      "  Iteration 13\t time lapse 1.03250s\t ll change 0.00232\n",
      "  Iteration 14\t time lapse 1.04069s\t ll change 0.00227\n",
      "  Iteration 15\t time lapse 1.15225s\t ll change 0.00205\n",
      "Initialization converged: False\t time lapse 18.50458s\t ll 2.90165\n"
     ]
    },
    {
     "name": "stderr",
     "output_type": "stream",
     "text": [
      "/home/av/.local/lib/python3.10/site-packages/sklearn/mixture/_base.py:274: ConvergenceWarning: Initialization 1 did not converge. Try different init parameters, or increase max_iter, tol or check for degenerate data.\n",
      "  warnings.warn(\n"
     ]
    },
    {
     "name": "stdout",
     "output_type": "stream",
     "text": [
      "Initialization 0\n",
      "  Iteration 1\t time lapse 3.16406s\t ll change inf\n",
      "  Iteration 2\t time lapse 1.07089s\t ll change 0.54089\n",
      "  Iteration 3\t time lapse 1.08697s\t ll change 0.02078\n",
      "  Iteration 4\t time lapse 1.19596s\t ll change 0.01444\n",
      "  Iteration 5\t time lapse 1.24441s\t ll change 0.01261\n",
      "  Iteration 6\t time lapse 1.12573s\t ll change 0.01221\n",
      "  Iteration 7\t time lapse 1.07300s\t ll change 0.01104\n",
      "  Iteration 8\t time lapse 1.07957s\t ll change 0.00869\n",
      "  Iteration 9\t time lapse 1.13266s\t ll change 0.00621\n",
      "  Iteration 10\t time lapse 1.08570s\t ll change 0.00436\n",
      "  Iteration 11\t time lapse 1.26845s\t ll change 0.00319\n",
      "  Iteration 12\t time lapse 1.17383s\t ll change 0.00246\n",
      "  Iteration 13\t time lapse 1.22361s\t ll change 0.00198\n",
      "  Iteration 14\t time lapse 1.08977s\t ll change 0.00164\n",
      "  Iteration 15\t time lapse 1.14049s\t ll change 0.00137\n",
      "Initialization converged: False\t time lapse 19.15549s\t ll 1.93333\n"
     ]
    },
    {
     "name": "stderr",
     "output_type": "stream",
     "text": [
      "/home/av/.local/lib/python3.10/site-packages/sklearn/mixture/_base.py:274: ConvergenceWarning: Initialization 1 did not converge. Try different init parameters, or increase max_iter, tol or check for degenerate data.\n",
      "  warnings.warn(\n"
     ]
    },
    {
     "name": "stdout",
     "output_type": "stream",
     "text": [
      "Initialization 0\n",
      "  Iteration 1\t time lapse 3.05841s\t ll change inf\n",
      "  Iteration 2\t time lapse 1.02389s\t ll change 0.41595\n",
      "  Iteration 3\t time lapse 1.15234s\t ll change 0.02030\n",
      "  Iteration 4\t time lapse 1.03230s\t ll change 0.01325\n",
      "  Iteration 5\t time lapse 1.00772s\t ll change 0.00979\n",
      "  Iteration 6\t time lapse 1.02369s\t ll change 0.00755\n",
      "  Iteration 7\t time lapse 1.02363s\t ll change 0.00605\n",
      "  Iteration 8\t time lapse 1.09235s\t ll change 0.00505\n",
      "  Iteration 9\t time lapse 1.02181s\t ll change 0.00437\n",
      "  Iteration 10\t time lapse 0.99019s\t ll change 0.00385\n",
      "  Iteration 11\t time lapse 1.00441s\t ll change 0.00344\n",
      "  Iteration 12\t time lapse 0.98831s\t ll change 0.00308\n",
      "  Iteration 13\t time lapse 1.02295s\t ll change 0.00280\n",
      "  Iteration 14\t time lapse 1.17351s\t ll change 0.00257\n",
      "  Iteration 15\t time lapse 1.05678s\t ll change 0.00236\n",
      "Initialization converged: False\t time lapse 17.67267s\t ll 2.56879\n"
     ]
    },
    {
     "name": "stderr",
     "output_type": "stream",
     "text": [
      "/home/av/.local/lib/python3.10/site-packages/sklearn/mixture/_base.py:274: ConvergenceWarning: Initialization 1 did not converge. Try different init parameters, or increase max_iter, tol or check for degenerate data.\n",
      "  warnings.warn(\n"
     ]
    },
    {
     "name": "stdout",
     "output_type": "stream",
     "text": [
      "Initialization 0\n",
      "  Iteration 1\t time lapse 3.02037s\t ll change inf\n",
      "  Iteration 2\t time lapse 0.91040s\t ll change 0.59769\n",
      "  Iteration 3\t time lapse 0.90716s\t ll change 0.02042\n",
      "  Iteration 4\t time lapse 0.95649s\t ll change 0.01337\n",
      "  Iteration 5\t time lapse 0.92614s\t ll change 0.00975\n",
      "  Iteration 6\t time lapse 0.90103s\t ll change 0.00734\n",
      "  Iteration 7\t time lapse 0.90129s\t ll change 0.00567\n",
      "  Iteration 8\t time lapse 0.91563s\t ll change 0.00451\n",
      "  Iteration 9\t time lapse 0.90213s\t ll change 0.00370\n",
      "  Iteration 10\t time lapse 0.91960s\t ll change 0.00315\n",
      "  Iteration 11\t time lapse 0.93813s\t ll change 0.00278\n",
      "  Iteration 12\t time lapse 0.96623s\t ll change 0.00253\n",
      "  Iteration 13\t time lapse 0.96439s\t ll change 0.00235\n",
      "  Iteration 14\t time lapse 0.89917s\t ll change 0.00213\n",
      "  Iteration 15\t time lapse 0.97901s\t ll change 0.00180\n",
      "Initialization converged: False\t time lapse 16.00756s\t ll 2.03434\n"
     ]
    },
    {
     "name": "stderr",
     "output_type": "stream",
     "text": [
      "/home/av/.local/lib/python3.10/site-packages/sklearn/mixture/_base.py:274: ConvergenceWarning: Initialization 1 did not converge. Try different init parameters, or increase max_iter, tol or check for degenerate data.\n",
      "  warnings.warn(\n"
     ]
    },
    {
     "name": "stdout",
     "output_type": "stream",
     "text": [
      "Initialization 0\n",
      "  Iteration 1\t time lapse 3.03769s\t ll change inf\n",
      "  Iteration 2\t time lapse 0.96002s\t ll change 0.05192\n",
      "  Iteration 3\t time lapse 1.00339s\t ll change 0.01946\n",
      "  Iteration 4\t time lapse 1.11126s\t ll change 0.01223\n",
      "  Iteration 5\t time lapse 1.01856s\t ll change 0.00896\n",
      "  Iteration 6\t time lapse 1.01124s\t ll change 0.00696\n",
      "  Iteration 7\t time lapse 1.02703s\t ll change 0.00561\n",
      "  Iteration 8\t time lapse 1.01394s\t ll change 0.00467\n",
      "  Iteration 9\t time lapse 1.02034s\t ll change 0.00398\n",
      "  Iteration 10\t time lapse 1.01728s\t ll change 0.00345\n",
      "  Iteration 11\t time lapse 0.97493s\t ll change 0.00301\n",
      "  Iteration 12\t time lapse 0.98373s\t ll change 0.00261\n",
      "  Iteration 13\t time lapse 1.01807s\t ll change 0.00221\n",
      "  Iteration 14\t time lapse 1.18455s\t ll change 0.00184\n",
      "  Iteration 15\t time lapse 1.00316s\t ll change 0.00150\n",
      "Initialization converged: False\t time lapse 17.38531s\t ll 2.78814\n"
     ]
    },
    {
     "name": "stderr",
     "output_type": "stream",
     "text": [
      "/home/av/.local/lib/python3.10/site-packages/sklearn/mixture/_base.py:274: ConvergenceWarning: Initialization 1 did not converge. Try different init parameters, or increase max_iter, tol or check for degenerate data.\n",
      "  warnings.warn(\n",
      "100%|██████████| 600/600 [00:31<00:00, 19.13it/s]\n",
      "/home/av/IST/slp-labs/LAB2/pf_tools.py:89: UserWarning: The feature directory already exists, and no new feature extraction will be performed.\n",
      "  warnings.warn(\"The feature directory already exists, and no new feature extraction will be performed.\")\n"
     ]
    },
    {
     "name": "stdout",
     "output_type": "stream",
     "text": [
      "Accuracy Score = 0.595\n",
      "\n",
      "\n",
      "Combination 36\n",
      "Initialization 0\n",
      "  Iteration 1\t time lapse 5.24236s\t ll change inf\n",
      "  Iteration 2\t time lapse 1.70578s\t ll change 0.43761\n",
      "  Iteration 3\t time lapse 1.57748s\t ll change 0.01937\n",
      "  Iteration 4\t time lapse 1.62973s\t ll change 0.01164\n",
      "  Iteration 5\t time lapse 1.59677s\t ll change 0.00839\n",
      "  Iteration 6\t time lapse 1.67051s\t ll change 0.00635\n",
      "  Iteration 7\t time lapse 1.60032s\t ll change 0.00487\n",
      "  Iteration 8\t time lapse 1.60562s\t ll change 0.00386\n",
      "  Iteration 9\t time lapse 1.58837s\t ll change 0.00314\n",
      "  Iteration 10\t time lapse 1.69057s\t ll change 0.00260\n",
      "  Iteration 11\t time lapse 1.57031s\t ll change 0.00217\n",
      "  Iteration 12\t time lapse 1.59666s\t ll change 0.00181\n",
      "  Iteration 13\t time lapse 1.56262s\t ll change 0.00151\n",
      "  Iteration 14\t time lapse 1.56156s\t ll change 0.00128\n",
      "  Iteration 15\t time lapse 1.55206s\t ll change 0.00110\n",
      "Initialization converged: False\t time lapse 27.75084s\t ll 2.79012\n"
     ]
    },
    {
     "name": "stderr",
     "output_type": "stream",
     "text": [
      "/home/av/.local/lib/python3.10/site-packages/sklearn/mixture/_base.py:274: ConvergenceWarning: Initialization 1 did not converge. Try different init parameters, or increase max_iter, tol or check for degenerate data.\n",
      "  warnings.warn(\n"
     ]
    },
    {
     "name": "stdout",
     "output_type": "stream",
     "text": [
      "Initialization 0\n",
      "  Iteration 1\t time lapse 6.37105s\t ll change inf\n",
      "  Iteration 2\t time lapse 1.85134s\t ll change 0.43919\n",
      "  Iteration 3\t time lapse 1.81530s\t ll change 0.01882\n",
      "  Iteration 4\t time lapse 1.84040s\t ll change 0.01050\n",
      "  Iteration 5\t time lapse 1.94530s\t ll change 0.00721\n",
      "  Iteration 6\t time lapse 1.77755s\t ll change 0.00549\n",
      "  Iteration 7\t time lapse 1.84367s\t ll change 0.00445\n",
      "  Iteration 8\t time lapse 1.88704s\t ll change 0.00374\n",
      "  Iteration 9\t time lapse 1.88924s\t ll change 0.00324\n",
      "  Iteration 10\t time lapse 1.88799s\t ll change 0.00287\n",
      "  Iteration 11\t time lapse 1.80764s\t ll change 0.00261\n",
      "  Iteration 12\t time lapse 1.86244s\t ll change 0.00241\n",
      "  Iteration 13\t time lapse 1.73750s\t ll change 0.00225\n",
      "  Iteration 14\t time lapse 1.79601s\t ll change 0.00209\n",
      "  Iteration 15\t time lapse 1.85387s\t ll change 0.00192\n",
      "Initialization converged: False\t time lapse 32.16647s\t ll 2.97540\n"
     ]
    },
    {
     "name": "stderr",
     "output_type": "stream",
     "text": [
      "/home/av/.local/lib/python3.10/site-packages/sklearn/mixture/_base.py:274: ConvergenceWarning: Initialization 1 did not converge. Try different init parameters, or increase max_iter, tol or check for degenerate data.\n",
      "  warnings.warn(\n"
     ]
    },
    {
     "name": "stdout",
     "output_type": "stream",
     "text": [
      "Initialization 0\n",
      "  Iteration 1\t time lapse 5.23963s\t ll change inf\n",
      "  Iteration 2\t time lapse 1.91793s\t ll change 0.42564\n",
      "  Iteration 3\t time lapse 1.87293s\t ll change 0.02712\n",
      "  Iteration 4\t time lapse 1.89734s\t ll change 0.01922\n",
      "  Iteration 5\t time lapse 1.80148s\t ll change 0.01402\n",
      "  Iteration 6\t time lapse 1.86862s\t ll change 0.00942\n",
      "  Iteration 7\t time lapse 1.92286s\t ll change 0.00637\n",
      "  Iteration 8\t time lapse 1.84331s\t ll change 0.00467\n",
      "  Iteration 9\t time lapse 1.80896s\t ll change 0.00368\n",
      "  Iteration 10\t time lapse 2.03713s\t ll change 0.00302\n",
      "  Iteration 11\t time lapse 1.84881s\t ll change 0.00254\n",
      "  Iteration 12\t time lapse 1.88661s\t ll change 0.00217\n",
      "  Iteration 13\t time lapse 1.79964s\t ll change 0.00187\n",
      "  Iteration 14\t time lapse 1.82407s\t ll change 0.00162\n",
      "  Iteration 15\t time lapse 1.84515s\t ll change 0.00142\n",
      "Initialization converged: False\t time lapse 31.41460s\t ll 2.04123\n"
     ]
    },
    {
     "name": "stderr",
     "output_type": "stream",
     "text": [
      "/home/av/.local/lib/python3.10/site-packages/sklearn/mixture/_base.py:274: ConvergenceWarning: Initialization 1 did not converge. Try different init parameters, or increase max_iter, tol or check for degenerate data.\n",
      "  warnings.warn(\n"
     ]
    },
    {
     "name": "stdout",
     "output_type": "stream",
     "text": [
      "Initialization 0\n",
      "  Iteration 1\t time lapse 5.55116s\t ll change inf\n",
      "  Iteration 2\t time lapse 1.61351s\t ll change 0.37402\n",
      "  Iteration 3\t time lapse 1.55966s\t ll change 0.01834\n",
      "  Iteration 4\t time lapse 1.57331s\t ll change 0.01091\n",
      "  Iteration 5\t time lapse 1.55003s\t ll change 0.00806\n",
      "  Iteration 6\t time lapse 1.60313s\t ll change 0.00656\n",
      "  Iteration 7\t time lapse 1.64155s\t ll change 0.00571\n",
      "  Iteration 8\t time lapse 1.61051s\t ll change 0.00515\n",
      "  Iteration 9\t time lapse 1.69601s\t ll change 0.00467\n",
      "  Iteration 10\t time lapse 1.62390s\t ll change 0.00419\n",
      "  Iteration 11\t time lapse 1.58080s\t ll change 0.00378\n",
      "  Iteration 12\t time lapse 1.57243s\t ll change 0.00347\n",
      "  Iteration 13\t time lapse 1.64193s\t ll change 0.00320\n",
      "  Iteration 14\t time lapse 1.66745s\t ll change 0.00295\n",
      "  Iteration 15\t time lapse 1.71254s\t ll change 0.00272\n",
      "Initialization converged: False\t time lapse 28.19833s\t ll 2.65474\n"
     ]
    },
    {
     "name": "stderr",
     "output_type": "stream",
     "text": [
      "/home/av/.local/lib/python3.10/site-packages/sklearn/mixture/_base.py:274: ConvergenceWarning: Initialization 1 did not converge. Try different init parameters, or increase max_iter, tol or check for degenerate data.\n",
      "  warnings.warn(\n"
     ]
    },
    {
     "name": "stdout",
     "output_type": "stream",
     "text": [
      "Initialization 0\n",
      "  Iteration 1\t time lapse 4.70880s\t ll change inf\n",
      "  Iteration 2\t time lapse 1.43987s\t ll change 0.54436\n",
      "  Iteration 3\t time lapse 1.66772s\t ll change 0.01943\n",
      "  Iteration 4\t time lapse 1.43675s\t ll change 0.01188\n",
      "  Iteration 5\t time lapse 1.47954s\t ll change 0.00884\n",
      "  Iteration 6\t time lapse 1.43101s\t ll change 0.00714\n",
      "  Iteration 7\t time lapse 1.52740s\t ll change 0.00598\n",
      "  Iteration 8\t time lapse 1.46787s\t ll change 0.00507\n",
      "  Iteration 9\t time lapse 1.61111s\t ll change 0.00429\n",
      "  Iteration 10\t time lapse 1.43119s\t ll change 0.00363\n",
      "  Iteration 11\t time lapse 1.51606s\t ll change 0.00308\n",
      "  Iteration 12\t time lapse 1.50568s\t ll change 0.00265\n",
      "  Iteration 13\t time lapse 1.50504s\t ll change 0.00234\n",
      "  Iteration 14\t time lapse 1.51313s\t ll change 0.00212\n",
      "  Iteration 15\t time lapse 1.64423s\t ll change 0.00196\n",
      "Initialization converged: False\t time lapse 25.88548s\t ll 2.11588\n"
     ]
    },
    {
     "name": "stderr",
     "output_type": "stream",
     "text": [
      "/home/av/.local/lib/python3.10/site-packages/sklearn/mixture/_base.py:274: ConvergenceWarning: Initialization 1 did not converge. Try different init parameters, or increase max_iter, tol or check for degenerate data.\n",
      "  warnings.warn(\n"
     ]
    },
    {
     "name": "stdout",
     "output_type": "stream",
     "text": [
      "Initialization 0\n",
      "  Iteration 1\t time lapse 5.52528s\t ll change inf\n",
      "  Iteration 2\t time lapse 1.58786s\t ll change 0.05889\n",
      "  Iteration 3\t time lapse 1.56862s\t ll change 0.02058\n",
      "  Iteration 4\t time lapse 1.62521s\t ll change 0.01190\n",
      "  Iteration 5\t time lapse 1.62473s\t ll change 0.00811\n",
      "  Iteration 6\t time lapse 1.54780s\t ll change 0.00607\n",
      "  Iteration 7\t time lapse 1.52140s\t ll change 0.00487\n",
      "  Iteration 8\t time lapse 1.60866s\t ll change 0.00409\n",
      "  Iteration 9\t time lapse 1.52174s\t ll change 0.00353\n",
      "  Iteration 10\t time lapse 1.58839s\t ll change 0.00309\n",
      "  Iteration 11\t time lapse 1.58983s\t ll change 0.00273\n",
      "  Iteration 12\t time lapse 1.60602s\t ll change 0.00241\n",
      "  Iteration 13\t time lapse 1.56357s\t ll change 0.00212\n",
      "  Iteration 14\t time lapse 1.55437s\t ll change 0.00184\n",
      "  Iteration 15\t time lapse 1.55151s\t ll change 0.00159\n",
      "Initialization converged: False\t time lapse 27.58510s\t ll 2.86717\n"
     ]
    },
    {
     "name": "stderr",
     "output_type": "stream",
     "text": [
      "/home/av/.local/lib/python3.10/site-packages/sklearn/mixture/_base.py:274: ConvergenceWarning: Initialization 1 did not converge. Try different init parameters, or increase max_iter, tol or check for degenerate data.\n",
      "  warnings.warn(\n",
      "100%|██████████| 600/600 [00:50<00:00, 11.77it/s]\n",
      "/home/av/IST/slp-labs/LAB2/pf_tools.py:89: UserWarning: The feature directory already exists, and no new feature extraction will be performed.\n",
      "  warnings.warn(\"The feature directory already exists, and no new feature extraction will be performed.\")\n"
     ]
    },
    {
     "name": "stdout",
     "output_type": "stream",
     "text": [
      "Accuracy Score = 0.6183333333333333\n",
      "\n",
      "\n",
      "Combination 37\n",
      "Initialization 0\n",
      "  Iteration 1\t time lapse 1.55503s\t ll change inf\n",
      "  Iteration 2\t time lapse 0.63182s\t ll change 0.51716\n",
      "  Iteration 3\t time lapse 0.60719s\t ll change 0.01491\n",
      "  Iteration 4\t time lapse 0.61667s\t ll change 0.01090\n",
      "  Iteration 5\t time lapse 0.58458s\t ll change 0.00942\n",
      "  Iteration 6\t time lapse 0.57560s\t ll change 0.00799\n",
      "  Iteration 7\t time lapse 0.60774s\t ll change 0.00629\n",
      "  Iteration 8\t time lapse 0.57285s\t ll change 0.00466\n",
      "  Iteration 9\t time lapse 0.64891s\t ll change 0.00339\n",
      "  Iteration 10\t time lapse 0.60111s\t ll change 0.00249\n",
      "  Iteration 11\t time lapse 0.59469s\t ll change 0.00187\n",
      "  Iteration 12\t time lapse 0.59486s\t ll change 0.00145\n",
      "  Iteration 13\t time lapse 0.60615s\t ll change 0.00114\n",
      "  Iteration 14\t time lapse 0.59493s\t ll change 0.00091\n",
      "Initialization converged: True\t time lapse 9.39219s\t ll 2.56123\n",
      "Initialization 0\n",
      "  Iteration 1\t time lapse 1.69056s\t ll change inf\n",
      "  Iteration 2\t time lapse 0.63840s\t ll change 0.65868\n",
      "  Iteration 3\t time lapse 0.63337s\t ll change 0.01741\n",
      "  Iteration 4\t time lapse 0.66345s\t ll change 0.01021\n",
      "  Iteration 5\t time lapse 0.67985s\t ll change 0.00642\n",
      "  Iteration 6\t time lapse 0.63076s\t ll change 0.00410\n",
      "  Iteration 7\t time lapse 0.66330s\t ll change 0.00266\n",
      "  Iteration 8\t time lapse 0.69857s\t ll change 0.00178\n",
      "  Iteration 9\t time lapse 0.63568s\t ll change 0.00125\n",
      "  Iteration 10\t time lapse 0.62319s\t ll change 0.00091\n",
      "Initialization converged: True\t time lapse 7.55719s\t ll 2.76917\n",
      "Initialization 0\n",
      "  Iteration 1\t time lapse 1.54835s\t ll change inf\n",
      "  Iteration 2\t time lapse 0.63377s\t ll change 0.58178\n",
      "  Iteration 3\t time lapse 0.62475s\t ll change 0.01352\n",
      "  Iteration 4\t time lapse 0.60422s\t ll change 0.00877\n",
      "  Iteration 5\t time lapse 0.60785s\t ll change 0.00723\n",
      "  Iteration 6\t time lapse 0.60548s\t ll change 0.00691\n",
      "  Iteration 7\t time lapse 0.62532s\t ll change 0.00740\n",
      "  Iteration 8\t time lapse 0.62871s\t ll change 0.00815\n",
      "  Iteration 9\t time lapse 0.60549s\t ll change 0.00810\n",
      "  Iteration 10\t time lapse 0.63032s\t ll change 0.00700\n",
      "  Iteration 11\t time lapse 0.62114s\t ll change 0.00566\n",
      "  Iteration 12\t time lapse 0.61411s\t ll change 0.00480\n",
      "  Iteration 13\t time lapse 0.60782s\t ll change 0.00469\n",
      "  Iteration 14\t time lapse 0.61739s\t ll change 0.00542\n",
      "  Iteration 15\t time lapse 0.61121s\t ll change 0.00707\n",
      "Initialization converged: False\t time lapse 10.18600s\t ll 1.70386\n"
     ]
    },
    {
     "name": "stderr",
     "output_type": "stream",
     "text": [
      "/home/av/.local/lib/python3.10/site-packages/sklearn/mixture/_base.py:274: ConvergenceWarning: Initialization 1 did not converge. Try different init parameters, or increase max_iter, tol or check for degenerate data.\n",
      "  warnings.warn(\n"
     ]
    },
    {
     "name": "stdout",
     "output_type": "stream",
     "text": [
      "Initialization 0\n",
      "  Iteration 1\t time lapse 1.43198s\t ll change inf\n",
      "  Iteration 2\t time lapse 0.57670s\t ll change 0.55415\n",
      "  Iteration 3\t time lapse 0.56883s\t ll change 0.01812\n",
      "  Iteration 4\t time lapse 0.57895s\t ll change 0.01135\n",
      "  Iteration 5\t time lapse 0.59053s\t ll change 0.00752\n",
      "  Iteration 6\t time lapse 0.59557s\t ll change 0.00498\n",
      "  Iteration 7\t time lapse 0.56069s\t ll change 0.00331\n",
      "  Iteration 8\t time lapse 0.57396s\t ll change 0.00222\n",
      "  Iteration 9\t time lapse 0.59353s\t ll change 0.00151\n",
      "  Iteration 10\t time lapse 0.60533s\t ll change 0.00105\n",
      "  Iteration 11\t time lapse 0.57004s\t ll change 0.00075\n",
      "Initialization converged: True\t time lapse 7.24617s\t ll 2.44538\n",
      "Initialization 0\n",
      "  Iteration 1\t time lapse 1.27614s\t ll change inf\n",
      "  Iteration 2\t time lapse 0.65189s\t ll change 0.70388\n",
      "  Iteration 3\t time lapse 0.55475s\t ll change 0.01998\n",
      "  Iteration 4\t time lapse 0.54256s\t ll change 0.01420\n",
      "  Iteration 5\t time lapse 0.54227s\t ll change 0.01139\n",
      "  Iteration 6\t time lapse 0.54396s\t ll change 0.00932\n",
      "  Iteration 7\t time lapse 0.58351s\t ll change 0.00750\n",
      "  Iteration 8\t time lapse 0.54745s\t ll change 0.00584\n",
      "  Iteration 9\t time lapse 0.56334s\t ll change 0.00440\n",
      "  Iteration 10\t time lapse 0.54651s\t ll change 0.00325\n",
      "  Iteration 11\t time lapse 0.60739s\t ll change 0.00239\n",
      "  Iteration 12\t time lapse 0.56062s\t ll change 0.00177\n",
      "  Iteration 13\t time lapse 0.55112s\t ll change 0.00134\n",
      "  Iteration 14\t time lapse 0.54756s\t ll change 0.00103\n",
      "  Iteration 15\t time lapse 0.53770s\t ll change 0.00081\n",
      "Initialization converged: True\t time lapse 9.15682s\t ll 1.92238\n",
      "Initialization 0\n",
      "  Iteration 1\t time lapse 1.51866s\t ll change inf\n",
      "  Iteration 2\t time lapse 0.57748s\t ll change 0.49261\n",
      "  Iteration 3\t time lapse 0.56564s\t ll change 0.01259\n",
      "  Iteration 4\t time lapse 0.54991s\t ll change 0.00695\n",
      "  Iteration 5\t time lapse 0.56262s\t ll change 0.00495\n",
      "  Iteration 6\t time lapse 0.54926s\t ll change 0.00411\n",
      "  Iteration 7\t time lapse 0.54875s\t ll change 0.00381\n",
      "  Iteration 8\t time lapse 0.57364s\t ll change 0.00379\n",
      "  Iteration 9\t time lapse 0.57125s\t ll change 0.00395\n",
      "  Iteration 10\t time lapse 0.55466s\t ll change 0.00425\n",
      "  Iteration 11\t time lapse 0.56824s\t ll change 0.00467\n",
      "  Iteration 12\t time lapse 0.55783s\t ll change 0.00522\n",
      "  Iteration 13\t time lapse 0.55384s\t ll change 0.00578\n",
      "  Iteration 14\t time lapse 0.57542s\t ll change 0.00610\n",
      "  Iteration 15\t time lapse 0.56383s\t ll change 0.00589\n",
      "Initialization converged: False\t time lapse 9.39108s\t ll 2.61457\n"
     ]
    },
    {
     "name": "stderr",
     "output_type": "stream",
     "text": [
      "/home/av/.local/lib/python3.10/site-packages/sklearn/mixture/_base.py:274: ConvergenceWarning: Initialization 1 did not converge. Try different init parameters, or increase max_iter, tol or check for degenerate data.\n",
      "  warnings.warn(\n",
      "100%|██████████| 600/600 [00:20<00:00, 29.97it/s]\n",
      "/home/av/IST/slp-labs/LAB2/pf_tools.py:89: UserWarning: The feature directory already exists, and no new feature extraction will be performed.\n",
      "  warnings.warn(\"The feature directory already exists, and no new feature extraction will be performed.\")\n"
     ]
    },
    {
     "name": "stdout",
     "output_type": "stream",
     "text": [
      "Accuracy Score = 0.5516666666666666\n",
      "\n",
      "\n",
      "Combination 38\n",
      "Initialization 0\n",
      "  Iteration 1\t time lapse 3.19363s\t ll change inf\n",
      "  Iteration 2\t time lapse 0.95142s\t ll change 0.49711\n",
      "  Iteration 3\t time lapse 0.99682s\t ll change 0.01560\n",
      "  Iteration 4\t time lapse 0.98411s\t ll change 0.00900\n",
      "  Iteration 5\t time lapse 1.00767s\t ll change 0.00638\n",
      "  Iteration 6\t time lapse 0.99598s\t ll change 0.00496\n",
      "  Iteration 7\t time lapse 1.00936s\t ll change 0.00405\n",
      "  Iteration 8\t time lapse 1.00318s\t ll change 0.00342\n",
      "  Iteration 9\t time lapse 0.97168s\t ll change 0.00293\n",
      "  Iteration 10\t time lapse 1.00636s\t ll change 0.00254\n",
      "  Iteration 11\t time lapse 1.00788s\t ll change 0.00221\n",
      "  Iteration 12\t time lapse 1.21659s\t ll change 0.00195\n",
      "  Iteration 13\t time lapse 1.03538s\t ll change 0.00179\n",
      "  Iteration 14\t time lapse 1.05361s\t ll change 0.00176\n",
      "  Iteration 15\t time lapse 0.99214s\t ll change 0.00181\n",
      "Initialization converged: False\t time lapse 17.42617s\t ll 2.68002\n"
     ]
    },
    {
     "name": "stderr",
     "output_type": "stream",
     "text": [
      "/home/av/.local/lib/python3.10/site-packages/sklearn/mixture/_base.py:274: ConvergenceWarning: Initialization 1 did not converge. Try different init parameters, or increase max_iter, tol or check for degenerate data.\n",
      "  warnings.warn(\n"
     ]
    },
    {
     "name": "stdout",
     "output_type": "stream",
     "text": [
      "Initialization 0\n",
      "  Iteration 1\t time lapse 3.60288s\t ll change inf\n",
      "  Iteration 2\t time lapse 1.05020s\t ll change 0.56488\n",
      "  Iteration 3\t time lapse 1.10955s\t ll change 0.01869\n",
      "  Iteration 4\t time lapse 1.14321s\t ll change 0.01167\n",
      "  Iteration 5\t time lapse 1.28777s\t ll change 0.00834\n",
      "  Iteration 6\t time lapse 1.08068s\t ll change 0.00628\n",
      "  Iteration 7\t time lapse 1.06936s\t ll change 0.00487\n",
      "  Iteration 8\t time lapse 1.04489s\t ll change 0.00387\n",
      "  Iteration 9\t time lapse 1.10118s\t ll change 0.00310\n",
      "  Iteration 10\t time lapse 1.09029s\t ll change 0.00251\n",
      "  Iteration 11\t time lapse 1.05620s\t ll change 0.00205\n",
      "  Iteration 12\t time lapse 1.08848s\t ll change 0.00170\n",
      "  Iteration 13\t time lapse 1.15569s\t ll change 0.00144\n",
      "  Iteration 14\t time lapse 1.05961s\t ll change 0.00125\n",
      "  Iteration 15\t time lapse 1.18121s\t ll change 0.00113\n",
      "Initialization converged: False\t time lapse 19.12134s\t ll 2.89832\n"
     ]
    },
    {
     "name": "stderr",
     "output_type": "stream",
     "text": [
      "/home/av/.local/lib/python3.10/site-packages/sklearn/mixture/_base.py:274: ConvergenceWarning: Initialization 1 did not converge. Try different init parameters, or increase max_iter, tol or check for degenerate data.\n",
      "  warnings.warn(\n"
     ]
    },
    {
     "name": "stdout",
     "output_type": "stream",
     "text": [
      "Initialization 0\n",
      "  Iteration 1\t time lapse 3.05186s\t ll change inf\n",
      "  Iteration 2\t time lapse 1.09257s\t ll change 0.48996\n",
      "  Iteration 3\t time lapse 1.11264s\t ll change 0.02092\n",
      "  Iteration 4\t time lapse 1.11013s\t ll change 0.01407\n",
      "  Iteration 5\t time lapse 1.13688s\t ll change 0.01114\n",
      "  Iteration 6\t time lapse 1.08895s\t ll change 0.00970\n",
      "  Iteration 7\t time lapse 1.29587s\t ll change 0.00900\n",
      "  Iteration 8\t time lapse 1.17292s\t ll change 0.00818\n",
      "  Iteration 9\t time lapse 1.09018s\t ll change 0.00658\n",
      "  Iteration 10\t time lapse 1.09256s\t ll change 0.00472\n",
      "  Iteration 11\t time lapse 1.08552s\t ll change 0.00334\n",
      "  Iteration 12\t time lapse 1.11493s\t ll change 0.00252\n",
      "  Iteration 13\t time lapse 1.22808s\t ll change 0.00204\n",
      "  Iteration 14\t time lapse 1.11980s\t ll change 0.00173\n",
      "  Iteration 15\t time lapse 1.18268s\t ll change 0.00151\n",
      "Initialization converged: False\t time lapse 18.97598s\t ll 1.93127\n"
     ]
    },
    {
     "name": "stderr",
     "output_type": "stream",
     "text": [
      "/home/av/.local/lib/python3.10/site-packages/sklearn/mixture/_base.py:274: ConvergenceWarning: Initialization 1 did not converge. Try different init parameters, or increase max_iter, tol or check for degenerate data.\n",
      "  warnings.warn(\n"
     ]
    },
    {
     "name": "stdout",
     "output_type": "stream",
     "text": [
      "Initialization 0\n",
      "  Iteration 1\t time lapse 3.27476s\t ll change inf\n",
      "  Iteration 2\t time lapse 0.99923s\t ll change 0.41358\n",
      "  Iteration 3\t time lapse 1.00747s\t ll change 0.02025\n",
      "  Iteration 4\t time lapse 1.06718s\t ll change 0.01324\n",
      "  Iteration 5\t time lapse 0.97947s\t ll change 0.01020\n",
      "  Iteration 6\t time lapse 0.97768s\t ll change 0.00839\n",
      "  Iteration 7\t time lapse 1.08074s\t ll change 0.00713\n",
      "  Iteration 8\t time lapse 1.14394s\t ll change 0.00610\n",
      "  Iteration 9\t time lapse 1.01642s\t ll change 0.00525\n",
      "  Iteration 10\t time lapse 1.01426s\t ll change 0.00454\n",
      "  Iteration 11\t time lapse 0.97981s\t ll change 0.00390\n",
      "  Iteration 12\t time lapse 1.01117s\t ll change 0.00327\n",
      "  Iteration 13\t time lapse 0.99749s\t ll change 0.00267\n",
      "  Iteration 14\t time lapse 0.98536s\t ll change 0.00216\n",
      "  Iteration 15\t time lapse 1.04110s\t ll change 0.00175\n",
      "Initialization converged: False\t time lapse 17.57621s\t ll 2.57292\n"
     ]
    },
    {
     "name": "stderr",
     "output_type": "stream",
     "text": [
      "/home/av/.local/lib/python3.10/site-packages/sklearn/mixture/_base.py:274: ConvergenceWarning: Initialization 1 did not converge. Try different init parameters, or increase max_iter, tol or check for degenerate data.\n",
      "  warnings.warn(\n"
     ]
    },
    {
     "name": "stdout",
     "output_type": "stream",
     "text": [
      "Initialization 0\n",
      "  Iteration 1\t time lapse 2.64002s\t ll change inf\n",
      "  Iteration 2\t time lapse 0.91441s\t ll change 0.63682\n",
      "  Iteration 3\t time lapse 1.12391s\t ll change 0.01925\n",
      "  Iteration 4\t time lapse 1.03903s\t ll change 0.01260\n",
      "  Iteration 5\t time lapse 1.00359s\t ll change 0.00944\n",
      "  Iteration 6\t time lapse 0.98438s\t ll change 0.00732\n",
      "  Iteration 7\t time lapse 0.92075s\t ll change 0.00567\n",
      "  Iteration 8\t time lapse 0.96751s\t ll change 0.00438\n",
      "  Iteration 9\t time lapse 0.96692s\t ll change 0.00339\n",
      "  Iteration 10\t time lapse 0.97811s\t ll change 0.00268\n",
      "  Iteration 11\t time lapse 0.95314s\t ll change 0.00218\n",
      "  Iteration 12\t time lapse 0.95180s\t ll change 0.00181\n",
      "  Iteration 13\t time lapse 0.91156s\t ll change 0.00155\n",
      "  Iteration 14\t time lapse 0.95009s\t ll change 0.00136\n",
      "  Iteration 15\t time lapse 0.94632s\t ll change 0.00122\n",
      "Initialization converged: False\t time lapse 16.25196s\t ll 2.02194\n"
     ]
    },
    {
     "name": "stderr",
     "output_type": "stream",
     "text": [
      "/home/av/.local/lib/python3.10/site-packages/sklearn/mixture/_base.py:274: ConvergenceWarning: Initialization 1 did not converge. Try different init parameters, or increase max_iter, tol or check for degenerate data.\n",
      "  warnings.warn(\n"
     ]
    },
    {
     "name": "stdout",
     "output_type": "stream",
     "text": [
      "Initialization 0\n",
      "  Iteration 1\t time lapse 4.29866s\t ll change inf\n",
      "  Iteration 2\t time lapse 0.97242s\t ll change 0.05197\n",
      "  Iteration 3\t time lapse 0.97068s\t ll change 0.01965\n",
      "  Iteration 4\t time lapse 0.97022s\t ll change 0.01239\n",
      "  Iteration 5\t time lapse 0.95897s\t ll change 0.00909\n",
      "  Iteration 6\t time lapse 0.98665s\t ll change 0.00708\n",
      "  Iteration 7\t time lapse 0.96320s\t ll change 0.00574\n",
      "  Iteration 8\t time lapse 0.97027s\t ll change 0.00478\n",
      "  Iteration 9\t time lapse 0.98041s\t ll change 0.00407\n",
      "  Iteration 10\t time lapse 0.98248s\t ll change 0.00349\n",
      "  Iteration 11\t time lapse 0.98863s\t ll change 0.00298\n",
      "  Iteration 12\t time lapse 0.97255s\t ll change 0.00251\n",
      "  Iteration 13\t time lapse 0.95994s\t ll change 0.00208\n",
      "  Iteration 14\t time lapse 0.96781s\t ll change 0.00170\n",
      "  Iteration 15\t time lapse 0.97963s\t ll change 0.00137\n",
      "Initialization converged: False\t time lapse 17.92265s\t ll 2.78886\n"
     ]
    },
    {
     "name": "stderr",
     "output_type": "stream",
     "text": [
      "/home/av/.local/lib/python3.10/site-packages/sklearn/mixture/_base.py:274: ConvergenceWarning: Initialization 1 did not converge. Try different init parameters, or increase max_iter, tol or check for degenerate data.\n",
      "  warnings.warn(\n",
      "100%|██████████| 600/600 [00:31<00:00, 19.17it/s]\n",
      "/home/av/IST/slp-labs/LAB2/pf_tools.py:89: UserWarning: The feature directory already exists, and no new feature extraction will be performed.\n",
      "  warnings.warn(\"The feature directory already exists, and no new feature extraction will be performed.\")\n"
     ]
    },
    {
     "name": "stdout",
     "output_type": "stream",
     "text": [
      "Accuracy Score = 0.585\n",
      "\n",
      "\n",
      "Combination 39\n",
      "Initialization 0\n",
      "  Iteration 1\t time lapse 6.57323s\t ll change inf\n",
      "  Iteration 2\t time lapse 1.59296s\t ll change 0.43804\n",
      "  Iteration 3\t time lapse 1.57999s\t ll change 0.01907\n",
      "  Iteration 4\t time lapse 1.57394s\t ll change 0.01073\n",
      "  Iteration 5\t time lapse 1.60768s\t ll change 0.00747\n",
      "  Iteration 6\t time lapse 1.59057s\t ll change 0.00582\n",
      "  Iteration 7\t time lapse 1.59466s\t ll change 0.00476\n",
      "  Iteration 8\t time lapse 1.59795s\t ll change 0.00391\n",
      "  Iteration 9\t time lapse 1.54155s\t ll change 0.00318\n",
      "  Iteration 10\t time lapse 1.51549s\t ll change 0.00258\n",
      "  Iteration 11\t time lapse 1.55408s\t ll change 0.00212\n",
      "  Iteration 12\t time lapse 1.63438s\t ll change 0.00177\n",
      "  Iteration 13\t time lapse 1.51900s\t ll change 0.00152\n",
      "  Iteration 14\t time lapse 1.59836s\t ll change 0.00132\n",
      "  Iteration 15\t time lapse 1.52642s\t ll change 0.00117\n",
      "Initialization converged: False\t time lapse 28.60040s\t ll 2.79270\n"
     ]
    },
    {
     "name": "stderr",
     "output_type": "stream",
     "text": [
      "/home/av/.local/lib/python3.10/site-packages/sklearn/mixture/_base.py:274: ConvergenceWarning: Initialization 1 did not converge. Try different init parameters, or increase max_iter, tol or check for degenerate data.\n",
      "  warnings.warn(\n"
     ]
    },
    {
     "name": "stdout",
     "output_type": "stream",
     "text": [
      "Initialization 0\n",
      "  Iteration 1\t time lapse 6.39941s\t ll change inf\n",
      "  Iteration 2\t time lapse 1.87387s\t ll change 0.38815\n",
      "  Iteration 3\t time lapse 1.76795s\t ll change 0.01886\n",
      "  Iteration 4\t time lapse 1.80638s\t ll change 0.01059\n",
      "  Iteration 5\t time lapse 1.75447s\t ll change 0.00734\n",
      "  Iteration 6\t time lapse 1.87457s\t ll change 0.00562\n",
      "  Iteration 7\t time lapse 1.79689s\t ll change 0.00455\n",
      "  Iteration 8\t time lapse 1.76693s\t ll change 0.00381\n",
      "  Iteration 9\t time lapse 1.88948s\t ll change 0.00328\n",
      "  Iteration 10\t time lapse 1.81635s\t ll change 0.00289\n",
      "  Iteration 11\t time lapse 1.73750s\t ll change 0.00260\n",
      "  Iteration 12\t time lapse 1.78140s\t ll change 0.00238\n",
      "  Iteration 13\t time lapse 1.83584s\t ll change 0.00218\n",
      "  Iteration 14\t time lapse 1.75060s\t ll change 0.00199\n",
      "  Iteration 15\t time lapse 1.79460s\t ll change 0.00180\n",
      "Initialization converged: False\t time lapse 31.64637s\t ll 2.97651\n"
     ]
    },
    {
     "name": "stderr",
     "output_type": "stream",
     "text": [
      "/home/av/.local/lib/python3.10/site-packages/sklearn/mixture/_base.py:274: ConvergenceWarning: Initialization 1 did not converge. Try different init parameters, or increase max_iter, tol or check for degenerate data.\n",
      "  warnings.warn(\n"
     ]
    },
    {
     "name": "stdout",
     "output_type": "stream",
     "text": [
      "Initialization 0\n",
      "  Iteration 1\t time lapse 5.87900s\t ll change inf\n",
      "  Iteration 2\t time lapse 1.81726s\t ll change 0.42620\n",
      "  Iteration 3\t time lapse 1.77409s\t ll change 0.02757\n",
      "  Iteration 4\t time lapse 1.84162s\t ll change 0.01981\n",
      "  Iteration 5\t time lapse 1.83992s\t ll change 0.01469\n",
      "  Iteration 6\t time lapse 1.82533s\t ll change 0.00964\n",
      "  Iteration 7\t time lapse 1.75589s\t ll change 0.00613\n",
      "  Iteration 8\t time lapse 1.81922s\t ll change 0.00424\n",
      "  Iteration 9\t time lapse 1.85083s\t ll change 0.00320\n",
      "  Iteration 10\t time lapse 1.76759s\t ll change 0.00257\n",
      "  Iteration 11\t time lapse 1.96741s\t ll change 0.00214\n",
      "  Iteration 12\t time lapse 1.83569s\t ll change 0.00182\n",
      "  Iteration 13\t time lapse 1.82417s\t ll change 0.00159\n",
      "  Iteration 14\t time lapse 1.79856s\t ll change 0.00141\n",
      "  Iteration 15\t time lapse 1.92105s\t ll change 0.00127\n",
      "Initialization converged: False\t time lapse 31.51776s\t ll 2.04213\n"
     ]
    },
    {
     "name": "stderr",
     "output_type": "stream",
     "text": [
      "/home/av/.local/lib/python3.10/site-packages/sklearn/mixture/_base.py:274: ConvergenceWarning: Initialization 1 did not converge. Try different init parameters, or increase max_iter, tol or check for degenerate data.\n",
      "  warnings.warn(\n"
     ]
    },
    {
     "name": "stdout",
     "output_type": "stream",
     "text": [
      "Initialization 0\n",
      "  Iteration 1\t time lapse 6.11038s\t ll change inf\n",
      "  Iteration 2\t time lapse 1.59107s\t ll change 0.37332\n",
      "  Iteration 3\t time lapse 1.58874s\t ll change 0.01824\n",
      "  Iteration 4\t time lapse 1.62928s\t ll change 0.01094\n",
      "  Iteration 5\t time lapse 1.64277s\t ll change 0.00814\n",
      "  Iteration 6\t time lapse 1.57249s\t ll change 0.00680\n",
      "  Iteration 7\t time lapse 1.60786s\t ll change 0.00614\n",
      "  Iteration 8\t time lapse 1.59576s\t ll change 0.00577\n",
      "  Iteration 9\t time lapse 1.59971s\t ll change 0.00539\n",
      "  Iteration 10\t time lapse 1.63388s\t ll change 0.00491\n",
      "  Iteration 11\t time lapse 1.59243s\t ll change 0.00439\n",
      "  Iteration 12\t time lapse 1.54151s\t ll change 0.00395\n",
      "  Iteration 13\t time lapse 1.56575s\t ll change 0.00358\n",
      "  Iteration 14\t time lapse 1.61813s\t ll change 0.00326\n",
      "  Iteration 15\t time lapse 1.63595s\t ll change 0.00296\n",
      "Initialization converged: False\t time lapse 28.52584s\t ll 2.65844\n"
     ]
    },
    {
     "name": "stderr",
     "output_type": "stream",
     "text": [
      "/home/av/.local/lib/python3.10/site-packages/sklearn/mixture/_base.py:274: ConvergenceWarning: Initialization 1 did not converge. Try different init parameters, or increase max_iter, tol or check for degenerate data.\n",
      "  warnings.warn(\n"
     ]
    },
    {
     "name": "stdout",
     "output_type": "stream",
     "text": [
      "Initialization 0\n",
      "  Iteration 1\t time lapse 4.72200s\t ll change inf\n",
      "  Iteration 2\t time lapse 1.44471s\t ll change 0.58555\n",
      "  Iteration 3\t time lapse 1.52771s\t ll change 0.02041\n",
      "  Iteration 4\t time lapse 1.48448s\t ll change 0.01241\n",
      "  Iteration 5\t time lapse 1.49841s\t ll change 0.00893\n",
      "  Iteration 6\t time lapse 1.44532s\t ll change 0.00684\n",
      "  Iteration 7\t time lapse 1.53129s\t ll change 0.00539\n",
      "  Iteration 8\t time lapse 1.50430s\t ll change 0.00436\n",
      "  Iteration 9\t time lapse 1.53825s\t ll change 0.00365\n",
      "  Iteration 10\t time lapse 1.44664s\t ll change 0.00317\n",
      "  Iteration 11\t time lapse 1.50719s\t ll change 0.00285\n",
      "  Iteration 12\t time lapse 1.43459s\t ll change 0.00263\n",
      "  Iteration 13\t time lapse 1.54183s\t ll change 0.00248\n",
      "  Iteration 14\t time lapse 1.41827s\t ll change 0.00237\n",
      "  Iteration 15\t time lapse 1.60133s\t ll change 0.00229\n",
      "Initialization converged: False\t time lapse 25.64679s\t ll 2.11138\n"
     ]
    },
    {
     "name": "stderr",
     "output_type": "stream",
     "text": [
      "/home/av/.local/lib/python3.10/site-packages/sklearn/mixture/_base.py:274: ConvergenceWarning: Initialization 1 did not converge. Try different init parameters, or increase max_iter, tol or check for degenerate data.\n",
      "  warnings.warn(\n"
     ]
    },
    {
     "name": "stdout",
     "output_type": "stream",
     "text": [
      "Initialization 0\n",
      "  Iteration 1\t time lapse 5.61542s\t ll change inf\n",
      "  Iteration 2\t time lapse 1.59766s\t ll change 0.05772\n",
      "  Iteration 3\t time lapse 1.63041s\t ll change 0.01987\n",
      "  Iteration 4\t time lapse 1.63990s\t ll change 0.01170\n",
      "  Iteration 5\t time lapse 1.62131s\t ll change 0.00847\n",
      "  Iteration 6\t time lapse 1.67921s\t ll change 0.00673\n",
      "  Iteration 7\t time lapse 1.58170s\t ll change 0.00558\n",
      "  Iteration 8\t time lapse 1.59397s\t ll change 0.00471\n",
      "  Iteration 9\t time lapse 1.56309s\t ll change 0.00398\n",
      "  Iteration 10\t time lapse 1.63887s\t ll change 0.00337\n",
      "  Iteration 11\t time lapse 1.61646s\t ll change 0.00286\n",
      "  Iteration 12\t time lapse 1.55574s\t ll change 0.00247\n",
      "  Iteration 13\t time lapse 1.60441s\t ll change 0.00216\n",
      "  Iteration 14\t time lapse 1.54113s\t ll change 0.00193\n",
      "  Iteration 15\t time lapse 1.58684s\t ll change 0.00175\n",
      "Initialization converged: False\t time lapse 28.06624s\t ll 2.86595\n"
     ]
    },
    {
     "name": "stderr",
     "output_type": "stream",
     "text": [
      "/home/av/.local/lib/python3.10/site-packages/sklearn/mixture/_base.py:274: ConvergenceWarning: Initialization 1 did not converge. Try different init parameters, or increase max_iter, tol or check for degenerate data.\n",
      "  warnings.warn(\n",
      "100%|██████████| 600/600 [00:53<00:00, 11.20it/s]\n",
      "/home/av/IST/slp-labs/LAB2/pf_tools.py:89: UserWarning: The feature directory already exists, and no new feature extraction will be performed.\n",
      "  warnings.warn(\"The feature directory already exists, and no new feature extraction will be performed.\")\n"
     ]
    },
    {
     "name": "stdout",
     "output_type": "stream",
     "text": [
      "Accuracy Score = 0.6216666666666667\n",
      "\n",
      "\n",
      "Combination 40\n",
      "Initialization 0\n",
      "  Iteration 1\t time lapse 1.67099s\t ll change inf\n",
      "  Iteration 2\t time lapse 0.59217s\t ll change 0.51886\n",
      "  Iteration 3\t time lapse 0.61214s\t ll change 0.01620\n",
      "  Iteration 4\t time lapse 0.60504s\t ll change 0.01147\n",
      "  Iteration 5\t time lapse 0.59695s\t ll change 0.00901\n",
      "  Iteration 6\t time lapse 0.58947s\t ll change 0.00687\n",
      "  Iteration 7\t time lapse 0.60363s\t ll change 0.00503\n",
      "  Iteration 8\t time lapse 0.56818s\t ll change 0.00363\n",
      "  Iteration 9\t time lapse 0.59485s\t ll change 0.00265\n",
      "  Iteration 10\t time lapse 0.58088s\t ll change 0.00199\n",
      "  Iteration 11\t time lapse 0.61912s\t ll change 0.00154\n",
      "  Iteration 12\t time lapse 0.59085s\t ll change 0.00122\n",
      "  Iteration 13\t time lapse 0.68524s\t ll change 0.00098\n",
      "Initialization converged: True\t time lapse 8.90959s\t ll 2.56072\n",
      "Initialization 0\n",
      "  Iteration 1\t time lapse 1.91565s\t ll change inf\n",
      "  Iteration 2\t time lapse 0.60495s\t ll change 0.65146\n",
      "  Iteration 3\t time lapse 0.65609s\t ll change 0.01700\n",
      "  Iteration 4\t time lapse 0.61747s\t ll change 0.01022\n",
      "  Iteration 5\t time lapse 0.60450s\t ll change 0.00667\n",
      "  Iteration 6\t time lapse 0.63122s\t ll change 0.00442\n",
      "  Iteration 7\t time lapse 0.61917s\t ll change 0.00296\n",
      "  Iteration 8\t time lapse 0.63706s\t ll change 0.00203\n",
      "  Iteration 9\t time lapse 0.61302s\t ll change 0.00145\n",
      "  Iteration 10\t time lapse 0.60687s\t ll change 0.00109\n",
      "  Iteration 11\t time lapse 0.61456s\t ll change 0.00086\n",
      "Initialization converged: True\t time lapse 8.12062s\t ll 2.76801\n",
      "Initialization 0\n",
      "  Iteration 1\t time lapse 1.60228s\t ll change inf\n",
      "  Iteration 2\t time lapse 0.62320s\t ll change 0.61573\n",
      "  Iteration 3\t time lapse 0.61246s\t ll change 0.02282\n",
      "  Iteration 4\t time lapse 0.68111s\t ll change 0.01461\n",
      "  Iteration 5\t time lapse 0.67452s\t ll change 0.01024\n",
      "  Iteration 6\t time lapse 0.63500s\t ll change 0.00717\n",
      "  Iteration 7\t time lapse 0.62999s\t ll change 0.00486\n",
      "  Iteration 8\t time lapse 0.62994s\t ll change 0.00320\n",
      "  Iteration 9\t time lapse 0.62167s\t ll change 0.00211\n",
      "  Iteration 10\t time lapse 0.62446s\t ll change 0.00142\n",
      "  Iteration 11\t time lapse 0.63112s\t ll change 0.00099\n",
      "Initialization converged: True\t time lapse 7.96581s\t ll 1.77237\n",
      "Initialization 0\n",
      "  Iteration 1\t time lapse 1.48029s\t ll change inf\n",
      "  Iteration 2\t time lapse 0.57248s\t ll change 0.57759\n",
      "  Iteration 3\t time lapse 0.64306s\t ll change 0.01844\n",
      "  Iteration 4\t time lapse 0.58266s\t ll change 0.01165\n",
      "  Iteration 5\t time lapse 0.59973s\t ll change 0.00777\n",
      "  Iteration 6\t time lapse 0.58173s\t ll change 0.00515\n",
      "  Iteration 7\t time lapse 0.57213s\t ll change 0.00337\n",
      "  Iteration 8\t time lapse 0.59443s\t ll change 0.00220\n",
      "  Iteration 9\t time lapse 0.60680s\t ll change 0.00144\n",
      "  Iteration 10\t time lapse 0.60303s\t ll change 0.00096\n",
      "Initialization converged: True\t time lapse 6.83640s\t ll 2.44517\n",
      "Initialization 0\n",
      "  Iteration 1\t time lapse 1.55666s\t ll change inf\n",
      "  Iteration 2\t time lapse 0.54422s\t ll change 0.71024\n",
      "  Iteration 3\t time lapse 0.53949s\t ll change 0.02035\n",
      "  Iteration 4\t time lapse 0.54864s\t ll change 0.01442\n",
      "  Iteration 5\t time lapse 0.53565s\t ll change 0.01151\n",
      "  Iteration 6\t time lapse 0.55196s\t ll change 0.00936\n",
      "  Iteration 7\t time lapse 0.54045s\t ll change 0.00745\n",
      "  Iteration 8\t time lapse 0.54614s\t ll change 0.00573\n",
      "  Iteration 9\t time lapse 0.54502s\t ll change 0.00426\n",
      "  Iteration 10\t time lapse 0.54345s\t ll change 0.00310\n",
      "  Iteration 11\t time lapse 0.53776s\t ll change 0.00224\n",
      "  Iteration 12\t time lapse 0.58525s\t ll change 0.00164\n",
      "  Iteration 13\t time lapse 0.56162s\t ll change 0.00122\n",
      "  Iteration 14\t time lapse 0.54336s\t ll change 0.00093\n",
      "Initialization converged: True\t time lapse 8.67974s\t ll 1.92211\n",
      "Initialization 0\n",
      "  Iteration 1\t time lapse 1.88556s\t ll change inf\n",
      "  Iteration 2\t time lapse 0.59938s\t ll change 0.03728\n",
      "  Iteration 3\t time lapse 0.58098s\t ll change 0.01334\n",
      "  Iteration 4\t time lapse 0.56873s\t ll change 0.00846\n",
      "  Iteration 5\t time lapse 0.56813s\t ll change 0.00651\n",
      "  Iteration 6\t time lapse 0.56748s\t ll change 0.00548\n",
      "  Iteration 7\t time lapse 0.59113s\t ll change 0.00492\n",
      "  Iteration 8\t time lapse 0.64572s\t ll change 0.00465\n",
      "  Iteration 9\t time lapse 0.65514s\t ll change 0.00451\n",
      "  Iteration 10\t time lapse 0.57053s\t ll change 0.00430\n",
      "  Iteration 11\t time lapse 0.55919s\t ll change 0.00382\n",
      "  Iteration 12\t time lapse 0.58657s\t ll change 0.00304\n",
      "  Iteration 13\t time lapse 0.57861s\t ll change 0.00219\n",
      "  Iteration 14\t time lapse 0.56183s\t ll change 0.00149\n",
      "  Iteration 15\t time lapse 0.57851s\t ll change 0.00100\n",
      "Initialization converged: True\t time lapse 10.09755s\t ll 2.63240\n"
     ]
    },
    {
     "name": "stderr",
     "output_type": "stream",
     "text": [
      "100%|██████████| 600/600 [00:20<00:00, 29.83it/s]\n",
      "/home/av/IST/slp-labs/LAB2/pf_tools.py:89: UserWarning: The feature directory already exists, and no new feature extraction will be performed.\n",
      "  warnings.warn(\"The feature directory already exists, and no new feature extraction will be performed.\")\n"
     ]
    },
    {
     "name": "stdout",
     "output_type": "stream",
     "text": [
      "Accuracy Score = 0.5533333333333333\n",
      "\n",
      "\n",
      "Combination 41\n",
      "Initialization 0\n",
      "  Iteration 1\t time lapse 3.25414s\t ll change inf\n",
      "  Iteration 2\t time lapse 0.97828s\t ll change 0.46870\n",
      "  Iteration 3\t time lapse 1.00112s\t ll change 0.01566\n",
      "  Iteration 4\t time lapse 0.99890s\t ll change 0.00936\n",
      "  Iteration 5\t time lapse 1.00649s\t ll change 0.00667\n",
      "  Iteration 6\t time lapse 0.98213s\t ll change 0.00518\n",
      "  Iteration 7\t time lapse 0.98784s\t ll change 0.00429\n",
      "  Iteration 8\t time lapse 0.99489s\t ll change 0.00374\n",
      "  Iteration 9\t time lapse 0.99759s\t ll change 0.00338\n",
      "  Iteration 10\t time lapse 0.99167s\t ll change 0.00314\n",
      "  Iteration 11\t time lapse 1.10389s\t ll change 0.00299\n",
      "  Iteration 12\t time lapse 0.98097s\t ll change 0.00286\n",
      "  Iteration 13\t time lapse 0.98791s\t ll change 0.00273\n",
      "  Iteration 14\t time lapse 1.03584s\t ll change 0.00253\n",
      "  Iteration 15\t time lapse 0.97777s\t ll change 0.00225\n",
      "Initialization converged: False\t time lapse 17.27955s\t ll 2.69067\n"
     ]
    },
    {
     "name": "stderr",
     "output_type": "stream",
     "text": [
      "/home/av/.local/lib/python3.10/site-packages/sklearn/mixture/_base.py:274: ConvergenceWarning: Initialization 1 did not converge. Try different init parameters, or increase max_iter, tol or check for degenerate data.\n",
      "  warnings.warn(\n"
     ]
    },
    {
     "name": "stdout",
     "output_type": "stream",
     "text": [
      "Initialization 0\n",
      "  Iteration 1\t time lapse 3.05023s\t ll change inf\n",
      "  Iteration 2\t time lapse 1.05548s\t ll change 0.56235\n",
      "  Iteration 3\t time lapse 1.05955s\t ll change 0.01848\n",
      "  Iteration 4\t time lapse 1.11891s\t ll change 0.01155\n",
      "  Iteration 5\t time lapse 1.05238s\t ll change 0.00852\n",
      "  Iteration 6\t time lapse 1.07924s\t ll change 0.00675\n",
      "  Iteration 7\t time lapse 1.14053s\t ll change 0.00554\n",
      "  Iteration 8\t time lapse 1.27488s\t ll change 0.00467\n",
      "  Iteration 9\t time lapse 1.05731s\t ll change 0.00402\n",
      "  Iteration 10\t time lapse 1.02995s\t ll change 0.00355\n",
      "  Iteration 11\t time lapse 1.03759s\t ll change 0.00321\n",
      "  Iteration 12\t time lapse 1.02475s\t ll change 0.00287\n",
      "  Iteration 13\t time lapse 1.03794s\t ll change 0.00247\n",
      "  Iteration 14\t time lapse 1.03147s\t ll change 0.00204\n",
      "  Iteration 15\t time lapse 1.01406s\t ll change 0.00166\n",
      "Initialization converged: False\t time lapse 18.06465s\t ll 2.88880\n"
     ]
    },
    {
     "name": "stderr",
     "output_type": "stream",
     "text": [
      "/home/av/.local/lib/python3.10/site-packages/sklearn/mixture/_base.py:274: ConvergenceWarning: Initialization 1 did not converge. Try different init parameters, or increase max_iter, tol or check for degenerate data.\n",
      "  warnings.warn(\n"
     ]
    },
    {
     "name": "stdout",
     "output_type": "stream",
     "text": [
      "Initialization 0\n",
      "  Iteration 1\t time lapse 3.29124s\t ll change inf\n",
      "  Iteration 2\t time lapse 1.05194s\t ll change 0.50939\n",
      "  Iteration 3\t time lapse 1.03916s\t ll change 0.01908\n",
      "  Iteration 4\t time lapse 1.20529s\t ll change 0.01232\n",
      "  Iteration 5\t time lapse 1.11079s\t ll change 0.00949\n",
      "  Iteration 6\t time lapse 1.18447s\t ll change 0.00819\n",
      "  Iteration 7\t time lapse 1.11317s\t ll change 0.00771\n",
      "  Iteration 8\t time lapse 1.08761s\t ll change 0.00746\n",
      "  Iteration 9\t time lapse 1.11501s\t ll change 0.00677\n",
      "  Iteration 10\t time lapse 1.11334s\t ll change 0.00555\n",
      "  Iteration 11\t time lapse 1.09712s\t ll change 0.00429\n",
      "  Iteration 12\t time lapse 1.17427s\t ll change 0.00337\n",
      "  Iteration 13\t time lapse 1.11902s\t ll change 0.00279\n",
      "  Iteration 14\t time lapse 1.16428s\t ll change 0.00243\n",
      "  Iteration 15\t time lapse 1.12335s\t ll change 0.00221\n",
      "Initialization converged: False\t time lapse 18.99048s\t ll 1.92407\n"
     ]
    },
    {
     "name": "stderr",
     "output_type": "stream",
     "text": [
      "/home/av/.local/lib/python3.10/site-packages/sklearn/mixture/_base.py:274: ConvergenceWarning: Initialization 1 did not converge. Try different init parameters, or increase max_iter, tol or check for degenerate data.\n",
      "  warnings.warn(\n"
     ]
    },
    {
     "name": "stdout",
     "output_type": "stream",
     "text": [
      "Initialization 0\n",
      "  Iteration 1\t time lapse 3.11679s\t ll change inf\n",
      "  Iteration 2\t time lapse 0.98314s\t ll change 0.48329\n",
      "  Iteration 3\t time lapse 1.00624s\t ll change 0.01808\n",
      "  Iteration 4\t time lapse 1.01324s\t ll change 0.01131\n",
      "  Iteration 5\t time lapse 0.99991s\t ll change 0.00849\n",
      "  Iteration 6\t time lapse 1.02687s\t ll change 0.00684\n",
      "  Iteration 7\t time lapse 0.99187s\t ll change 0.00572\n",
      "  Iteration 8\t time lapse 0.98232s\t ll change 0.00490\n",
      "  Iteration 9\t time lapse 0.99967s\t ll change 0.00427\n",
      "  Iteration 10\t time lapse 1.03183s\t ll change 0.00379\n",
      "  Iteration 11\t time lapse 0.99016s\t ll change 0.00345\n",
      "  Iteration 12\t time lapse 1.13977s\t ll change 0.00324\n",
      "  Iteration 13\t time lapse 1.01861s\t ll change 0.00308\n",
      "  Iteration 14\t time lapse 1.05813s\t ll change 0.00287\n",
      "  Iteration 15\t time lapse 1.08606s\t ll change 0.00256\n",
      "Initialization converged: False\t time lapse 17.44501s\t ll 2.56181\n"
     ]
    },
    {
     "name": "stderr",
     "output_type": "stream",
     "text": [
      "/home/av/.local/lib/python3.10/site-packages/sklearn/mixture/_base.py:274: ConvergenceWarning: Initialization 1 did not converge. Try different init parameters, or increase max_iter, tol or check for degenerate data.\n",
      "  warnings.warn(\n"
     ]
    },
    {
     "name": "stdout",
     "output_type": "stream",
     "text": [
      "Initialization 0\n",
      "  Iteration 1\t time lapse 2.98520s\t ll change inf\n",
      "  Iteration 2\t time lapse 0.97742s\t ll change 0.63707\n",
      "  Iteration 3\t time lapse 0.90253s\t ll change 0.01934\n",
      "  Iteration 4\t time lapse 0.91397s\t ll change 0.01235\n",
      "  Iteration 5\t time lapse 1.03030s\t ll change 0.00895\n",
      "  Iteration 6\t time lapse 1.02385s\t ll change 0.00677\n",
      "  Iteration 7\t time lapse 0.95944s\t ll change 0.00522\n",
      "  Iteration 8\t time lapse 0.94598s\t ll change 0.00410\n",
      "  Iteration 9\t time lapse 0.91507s\t ll change 0.00330\n",
      "  Iteration 10\t time lapse 0.94247s\t ll change 0.00273\n",
      "  Iteration 11\t time lapse 0.91046s\t ll change 0.00233\n",
      "  Iteration 12\t time lapse 0.93517s\t ll change 0.00203\n",
      "  Iteration 13\t time lapse 0.94391s\t ll change 0.00180\n",
      "  Iteration 14\t time lapse 0.90074s\t ll change 0.00162\n",
      "  Iteration 15\t time lapse 0.97107s\t ll change 0.00147\n",
      "Initialization converged: False\t time lapse 16.25796s\t ll 2.01867\n"
     ]
    },
    {
     "name": "stderr",
     "output_type": "stream",
     "text": [
      "/home/av/.local/lib/python3.10/site-packages/sklearn/mixture/_base.py:274: ConvergenceWarning: Initialization 1 did not converge. Try different init parameters, or increase max_iter, tol or check for degenerate data.\n",
      "  warnings.warn(\n"
     ]
    },
    {
     "name": "stdout",
     "output_type": "stream",
     "text": [
      "Initialization 0\n",
      "  Iteration 1\t time lapse 3.46309s\t ll change inf\n",
      "  Iteration 2\t time lapse 0.99402s\t ll change 0.05142\n",
      "  Iteration 3\t time lapse 0.98616s\t ll change 0.01947\n",
      "  Iteration 4\t time lapse 0.97182s\t ll change 0.01226\n",
      "  Iteration 5\t time lapse 0.97858s\t ll change 0.00894\n",
      "  Iteration 6\t time lapse 0.97272s\t ll change 0.00691\n",
      "  Iteration 7\t time lapse 1.01094s\t ll change 0.00555\n",
      "  Iteration 8\t time lapse 1.00758s\t ll change 0.00459\n",
      "  Iteration 9\t time lapse 0.96758s\t ll change 0.00387\n",
      "  Iteration 10\t time lapse 1.02361s\t ll change 0.00331\n",
      "  Iteration 11\t time lapse 1.05583s\t ll change 0.00283\n",
      "  Iteration 12\t time lapse 1.00829s\t ll change 0.00241\n",
      "  Iteration 13\t time lapse 0.98583s\t ll change 0.00204\n",
      "  Iteration 14\t time lapse 0.98648s\t ll change 0.00170\n",
      "  Iteration 15\t time lapse 0.97279s\t ll change 0.00140\n",
      "Initialization converged: False\t time lapse 17.38572s\t ll 2.78825\n"
     ]
    },
    {
     "name": "stderr",
     "output_type": "stream",
     "text": [
      "/home/av/.local/lib/python3.10/site-packages/sklearn/mixture/_base.py:274: ConvergenceWarning: Initialization 1 did not converge. Try different init parameters, or increase max_iter, tol or check for degenerate data.\n",
      "  warnings.warn(\n",
      "100%|██████████| 600/600 [00:31<00:00, 19.15it/s]\n",
      "/home/av/IST/slp-labs/LAB2/pf_tools.py:89: UserWarning: The feature directory already exists, and no new feature extraction will be performed.\n",
      "  warnings.warn(\"The feature directory already exists, and no new feature extraction will be performed.\")\n"
     ]
    },
    {
     "name": "stdout",
     "output_type": "stream",
     "text": [
      "Accuracy Score = 0.5933333333333334\n",
      "\n",
      "\n",
      "Combination 42\n",
      "Initialization 0\n",
      "  Iteration 1\t time lapse 5.29813s\t ll change inf\n",
      "  Iteration 2\t time lapse 1.64189s\t ll change 0.45982\n",
      "  Iteration 3\t time lapse 1.57236s\t ll change 0.01885\n",
      "  Iteration 4\t time lapse 1.61428s\t ll change 0.01050\n",
      "  Iteration 5\t time lapse 1.63464s\t ll change 0.00717\n",
      "  Iteration 6\t time lapse 1.67600s\t ll change 0.00546\n",
      "  Iteration 7\t time lapse 1.55960s\t ll change 0.00443\n",
      "  Iteration 8\t time lapse 1.55924s\t ll change 0.00373\n",
      "  Iteration 9\t time lapse 1.58229s\t ll change 0.00321\n",
      "  Iteration 10\t time lapse 1.61527s\t ll change 0.00277\n",
      "  Iteration 11\t time lapse 1.57363s\t ll change 0.00238\n",
      "  Iteration 12\t time lapse 1.62419s\t ll change 0.00203\n",
      "  Iteration 13\t time lapse 1.59598s\t ll change 0.00173\n",
      "  Iteration 14\t time lapse 1.57034s\t ll change 0.00148\n",
      "  Iteration 15\t time lapse 1.60474s\t ll change 0.00128\n",
      "Initialization converged: False\t time lapse 27.72300s\t ll 2.79037\n"
     ]
    },
    {
     "name": "stderr",
     "output_type": "stream",
     "text": [
      "/home/av/.local/lib/python3.10/site-packages/sklearn/mixture/_base.py:274: ConvergenceWarning: Initialization 1 did not converge. Try different init parameters, or increase max_iter, tol or check for degenerate data.\n",
      "  warnings.warn(\n"
     ]
    },
    {
     "name": "stdout",
     "output_type": "stream",
     "text": [
      "Initialization 0\n",
      "  Iteration 1\t time lapse 6.40057s\t ll change inf\n",
      "  Iteration 2\t time lapse 2.01068s\t ll change 0.38617\n",
      "  Iteration 3\t time lapse 1.79321s\t ll change 0.01782\n",
      "  Iteration 4\t time lapse 1.79913s\t ll change 0.01004\n",
      "  Iteration 5\t time lapse 1.83896s\t ll change 0.00712\n",
      "  Iteration 6\t time lapse 1.73356s\t ll change 0.00564\n",
      "  Iteration 7\t time lapse 1.79298s\t ll change 0.00473\n",
      "  Iteration 8\t time lapse 1.75232s\t ll change 0.00409\n",
      "  Iteration 9\t time lapse 1.71976s\t ll change 0.00363\n",
      "  Iteration 10\t time lapse 1.77318s\t ll change 0.00332\n",
      "  Iteration 11\t time lapse 1.73636s\t ll change 0.00311\n",
      "  Iteration 12\t time lapse 1.80195s\t ll change 0.00292\n",
      "  Iteration 13\t time lapse 1.72235s\t ll change 0.00271\n",
      "  Iteration 14\t time lapse 1.71260s\t ll change 0.00245\n",
      "  Iteration 15\t time lapse 1.80669s\t ll change 0.00218\n",
      "Initialization converged: False\t time lapse 31.39444s\t ll 2.97237\n"
     ]
    },
    {
     "name": "stderr",
     "output_type": "stream",
     "text": [
      "/home/av/.local/lib/python3.10/site-packages/sklearn/mixture/_base.py:274: ConvergenceWarning: Initialization 1 did not converge. Try different init parameters, or increase max_iter, tol or check for degenerate data.\n",
      "  warnings.warn(\n"
     ]
    },
    {
     "name": "stdout",
     "output_type": "stream",
     "text": [
      "Initialization 0\n",
      "  Iteration 1\t time lapse 6.67202s\t ll change inf\n",
      "  Iteration 2\t time lapse 1.85796s\t ll change 0.44039\n",
      "  Iteration 3\t time lapse 1.91618s\t ll change 0.02730\n",
      "  Iteration 4\t time lapse 1.87285s\t ll change 0.01909\n",
      "  Iteration 5\t time lapse 1.83519s\t ll change 0.01420\n",
      "  Iteration 6\t time lapse 1.89195s\t ll change 0.01032\n",
      "  Iteration 7\t time lapse 1.76486s\t ll change 0.00761\n",
      "  Iteration 8\t time lapse 1.87382s\t ll change 0.00581\n",
      "  Iteration 9\t time lapse 1.83203s\t ll change 0.00456\n",
      "  Iteration 10\t time lapse 1.90615s\t ll change 0.00365\n",
      "  Iteration 11\t time lapse 1.80305s\t ll change 0.00296\n",
      "  Iteration 12\t time lapse 1.77301s\t ll change 0.00242\n",
      "  Iteration 13\t time lapse 1.96126s\t ll change 0.00200\n",
      "  Iteration 14\t time lapse 1.77433s\t ll change 0.00167\n",
      "  Iteration 15\t time lapse 1.85742s\t ll change 0.00140\n",
      "Initialization converged: False\t time lapse 32.59250s\t ll 2.04142\n"
     ]
    },
    {
     "name": "stderr",
     "output_type": "stream",
     "text": [
      "/home/av/.local/lib/python3.10/site-packages/sklearn/mixture/_base.py:274: ConvergenceWarning: Initialization 1 did not converge. Try different init parameters, or increase max_iter, tol or check for degenerate data.\n",
      "  warnings.warn(\n"
     ]
    },
    {
     "name": "stdout",
     "output_type": "stream",
     "text": [
      "Initialization 0\n",
      "  Iteration 1\t time lapse 5.62419s\t ll change inf\n",
      "  Iteration 2\t time lapse 1.67645s\t ll change 0.25960\n",
      "  Iteration 3\t time lapse 1.65383s\t ll change 0.01804\n",
      "  Iteration 4\t time lapse 1.59426s\t ll change 0.01067\n",
      "  Iteration 5\t time lapse 1.62264s\t ll change 0.00819\n",
      "  Iteration 6\t time lapse 1.66387s\t ll change 0.00708\n",
      "  Iteration 7\t time lapse 1.63330s\t ll change 0.00641\n",
      "  Iteration 8\t time lapse 1.61019s\t ll change 0.00581\n",
      "  Iteration 9\t time lapse 1.58219s\t ll change 0.00523\n",
      "  Iteration 10\t time lapse 1.65384s\t ll change 0.00488\n",
      "  Iteration 11\t time lapse 1.61129s\t ll change 0.00469\n",
      "  Iteration 12\t time lapse 1.66350s\t ll change 0.00457\n",
      "  Iteration 13\t time lapse 1.66214s\t ll change 0.00446\n",
      "  Iteration 14\t time lapse 1.68034s\t ll change 0.00436\n",
      "  Iteration 15\t time lapse 1.61130s\t ll change 0.00435\n",
      "Initialization converged: False\t time lapse 28.54377s\t ll 2.66454\n"
     ]
    },
    {
     "name": "stderr",
     "output_type": "stream",
     "text": [
      "/home/av/.local/lib/python3.10/site-packages/sklearn/mixture/_base.py:274: ConvergenceWarning: Initialization 1 did not converge. Try different init parameters, or increase max_iter, tol or check for degenerate data.\n",
      "  warnings.warn(\n"
     ]
    },
    {
     "name": "stdout",
     "output_type": "stream",
     "text": [
      "Initialization 0\n",
      "  Iteration 1\t time lapse 5.82670s\t ll change inf\n",
      "  Iteration 2\t time lapse 1.45251s\t ll change 0.47179\n",
      "  Iteration 3\t time lapse 1.45228s\t ll change 0.01983\n",
      "  Iteration 4\t time lapse 1.53692s\t ll change 0.01153\n",
      "  Iteration 5\t time lapse 1.46510s\t ll change 0.00801\n",
      "  Iteration 6\t time lapse 1.53596s\t ll change 0.00611\n",
      "  Iteration 7\t time lapse 1.69357s\t ll change 0.00499\n",
      "  Iteration 8\t time lapse 1.47700s\t ll change 0.00430\n",
      "  Iteration 9\t time lapse 1.51301s\t ll change 0.00386\n",
      "  Iteration 10\t time lapse 1.41937s\t ll change 0.00352\n",
      "  Iteration 11\t time lapse 1.44637s\t ll change 0.00315\n",
      "  Iteration 12\t time lapse 1.55143s\t ll change 0.00271\n",
      "  Iteration 13\t time lapse 1.43536s\t ll change 0.00226\n",
      "  Iteration 14\t time lapse 1.49964s\t ll change 0.00187\n",
      "  Iteration 15\t time lapse 1.44919s\t ll change 0.00161\n",
      "Initialization converged: False\t time lapse 26.75453s\t ll 2.11200\n"
     ]
    },
    {
     "name": "stderr",
     "output_type": "stream",
     "text": [
      "/home/av/.local/lib/python3.10/site-packages/sklearn/mixture/_base.py:274: ConvergenceWarning: Initialization 1 did not converge. Try different init parameters, or increase max_iter, tol or check for degenerate data.\n",
      "  warnings.warn(\n"
     ]
    },
    {
     "name": "stdout",
     "output_type": "stream",
     "text": [
      "Initialization 0\n",
      "  Iteration 1\t time lapse 6.60461s\t ll change inf\n",
      "  Iteration 2\t time lapse 1.53282s\t ll change 0.05626\n",
      "  Iteration 3\t time lapse 1.58758s\t ll change 0.01871\n",
      "  Iteration 4\t time lapse 1.53243s\t ll change 0.01078\n",
      "  Iteration 5\t time lapse 1.52755s\t ll change 0.00759\n",
      "  Iteration 6\t time lapse 1.58357s\t ll change 0.00575\n",
      "  Iteration 7\t time lapse 1.66288s\t ll change 0.00444\n",
      "  Iteration 8\t time lapse 1.55597s\t ll change 0.00348\n",
      "  Iteration 9\t time lapse 1.58429s\t ll change 0.00281\n",
      "  Iteration 10\t time lapse 1.50351s\t ll change 0.00236\n",
      "  Iteration 11\t time lapse 1.58187s\t ll change 0.00205\n",
      "  Iteration 12\t time lapse 1.53677s\t ll change 0.00184\n",
      "  Iteration 13\t time lapse 1.64491s\t ll change 0.00170\n",
      "  Iteration 14\t time lapse 1.59400s\t ll change 0.00161\n",
      "  Iteration 15\t time lapse 1.54547s\t ll change 0.00157\n",
      "Initialization converged: False\t time lapse 28.57836s\t ll 2.86761\n"
     ]
    },
    {
     "name": "stderr",
     "output_type": "stream",
     "text": [
      "/home/av/.local/lib/python3.10/site-packages/sklearn/mixture/_base.py:274: ConvergenceWarning: Initialization 1 did not converge. Try different init parameters, or increase max_iter, tol or check for degenerate data.\n",
      "  warnings.warn(\n",
      "100%|██████████| 600/600 [00:51<00:00, 11.57it/s]\n",
      "/home/av/IST/slp-labs/LAB2/pf_tools.py:89: UserWarning: The feature directory already exists, and no new feature extraction will be performed.\n",
      "  warnings.warn(\"The feature directory already exists, and no new feature extraction will be performed.\")\n"
     ]
    },
    {
     "name": "stdout",
     "output_type": "stream",
     "text": [
      "Accuracy Score = 0.6216666666666667\n",
      "\n",
      "\n",
      "Combination 43\n",
      "Initialization 0\n",
      "  Iteration 1\t time lapse 1.54079s\t ll change inf\n",
      "  Iteration 2\t time lapse 0.57925s\t ll change 0.51635\n",
      "  Iteration 3\t time lapse 0.56237s\t ll change 0.01418\n",
      "  Iteration 4\t time lapse 0.59989s\t ll change 0.01029\n",
      "  Iteration 5\t time lapse 0.56028s\t ll change 0.00913\n",
      "  Iteration 6\t time lapse 0.55835s\t ll change 0.00818\n",
      "  Iteration 7\t time lapse 0.56706s\t ll change 0.00679\n",
      "  Iteration 8\t time lapse 0.58124s\t ll change 0.00523\n",
      "  Iteration 9\t time lapse 0.61179s\t ll change 0.00387\n",
      "  Iteration 10\t time lapse 0.56488s\t ll change 0.00286\n",
      "  Iteration 11\t time lapse 0.56632s\t ll change 0.00215\n",
      "  Iteration 12\t time lapse 0.56744s\t ll change 0.00166\n",
      "  Iteration 13\t time lapse 0.55558s\t ll change 0.00131\n",
      "  Iteration 14\t time lapse 0.58693s\t ll change 0.00105\n",
      "  Iteration 15\t time lapse 0.56328s\t ll change 0.00084\n",
      "Initialization converged: True\t time lapse 9.56552s\t ll 2.56151\n",
      "Initialization 0\n",
      "  Iteration 1\t time lapse 1.77270s\t ll change inf\n",
      "  Iteration 2\t time lapse 0.61800s\t ll change 0.65147\n",
      "  Iteration 3\t time lapse 0.63193s\t ll change 0.01700\n",
      "  Iteration 4\t time lapse 0.63809s\t ll change 0.01022\n",
      "  Iteration 5\t time lapse 0.60121s\t ll change 0.00668\n",
      "  Iteration 6\t time lapse 0.65520s\t ll change 0.00443\n",
      "  Iteration 7\t time lapse 0.61697s\t ll change 0.00296\n",
      "  Iteration 8\t time lapse 0.61335s\t ll change 0.00203\n",
      "  Iteration 9\t time lapse 0.61715s\t ll change 0.00145\n",
      "  Iteration 10\t time lapse 0.60202s\t ll change 0.00109\n",
      "  Iteration 11\t time lapse 0.62080s\t ll change 0.00086\n",
      "Initialization converged: True\t time lapse 7.98752s\t ll 2.76798\n",
      "Initialization 0\n",
      "  Iteration 1\t time lapse 1.55311s\t ll change inf\n",
      "  Iteration 2\t time lapse 0.62303s\t ll change 0.60371\n",
      "  Iteration 3\t time lapse 0.62681s\t ll change 0.02260\n",
      "  Iteration 4\t time lapse 0.73625s\t ll change 0.01464\n",
      "  Iteration 5\t time lapse 0.61185s\t ll change 0.01042\n",
      "  Iteration 6\t time lapse 0.61767s\t ll change 0.00744\n",
      "  Iteration 7\t time lapse 0.59895s\t ll change 0.00515\n",
      "  Iteration 8\t time lapse 0.61672s\t ll change 0.00347\n",
      "  Iteration 9\t time lapse 0.61273s\t ll change 0.00233\n",
      "  Iteration 10\t time lapse 0.60560s\t ll change 0.00160\n",
      "  Iteration 11\t time lapse 0.65953s\t ll change 0.00115\n",
      "  Iteration 12\t time lapse 0.63400s\t ll change 0.00085\n",
      "Initialization converged: True\t time lapse 8.49634s\t ll 1.77247\n",
      "Initialization 0\n",
      "  Iteration 1\t time lapse 1.35554s\t ll change inf\n",
      "  Iteration 2\t time lapse 0.57574s\t ll change 0.55176\n",
      "  Iteration 3\t time lapse 0.57384s\t ll change 0.01793\n",
      "  Iteration 4\t time lapse 0.56342s\t ll change 0.01110\n",
      "  Iteration 5\t time lapse 0.56921s\t ll change 0.00732\n",
      "  Iteration 6\t time lapse 0.59826s\t ll change 0.00487\n",
      "  Iteration 7\t time lapse 0.55983s\t ll change 0.00327\n",
      "  Iteration 8\t time lapse 0.58856s\t ll change 0.00224\n",
      "  Iteration 9\t time lapse 0.57634s\t ll change 0.00156\n",
      "  Iteration 10\t time lapse 0.56119s\t ll change 0.00111\n",
      "  Iteration 11\t time lapse 0.57136s\t ll change 0.00080\n",
      "Initialization converged: True\t time lapse 7.09335s\t ll 2.44523\n",
      "Initialization 0\n",
      "  Iteration 1\t time lapse 1.34717s\t ll change inf\n",
      "  Iteration 2\t time lapse 0.52460s\t ll change 0.71025\n",
      "  Iteration 3\t time lapse 0.55357s\t ll change 0.02035\n",
      "  Iteration 4\t time lapse 0.56417s\t ll change 0.01443\n",
      "  Iteration 5\t time lapse 0.53019s\t ll change 0.01151\n",
      "  Iteration 6\t time lapse 0.52533s\t ll change 0.00935\n",
      "  Iteration 7\t time lapse 0.55543s\t ll change 0.00744\n",
      "  Iteration 8\t time lapse 0.52074s\t ll change 0.00571\n",
      "  Iteration 9\t time lapse 0.53595s\t ll change 0.00425\n",
      "  Iteration 10\t time lapse 0.51767s\t ll change 0.00309\n",
      "  Iteration 11\t time lapse 0.54245s\t ll change 0.00224\n",
      "  Iteration 12\t time lapse 0.53345s\t ll change 0.00163\n",
      "  Iteration 13\t time lapse 0.52524s\t ll change 0.00122\n",
      "  Iteration 14\t time lapse 0.53677s\t ll change 0.00093\n",
      "Initialization converged: True\t time lapse 8.31279s\t ll 1.92212\n",
      "Initialization 0\n",
      "  Iteration 1\t time lapse 1.29698s\t ll change inf\n",
      "  Iteration 2\t time lapse 0.57131s\t ll change 0.49512\n",
      "  Iteration 3\t time lapse 0.55026s\t ll change 0.01474\n",
      "  Iteration 4\t time lapse 0.57684s\t ll change 0.00968\n",
      "  Iteration 5\t time lapse 0.56901s\t ll change 0.00852\n",
      "  Iteration 6\t time lapse 0.55186s\t ll change 0.00836\n",
      "  Iteration 7\t time lapse 0.55572s\t ll change 0.00828\n",
      "  Iteration 8\t time lapse 0.54924s\t ll change 0.00794\n",
      "  Iteration 9\t time lapse 0.54896s\t ll change 0.00725\n",
      "  Iteration 10\t time lapse 0.55110s\t ll change 0.00628\n",
      "  Iteration 11\t time lapse 0.58342s\t ll change 0.00516\n",
      "  Iteration 12\t time lapse 0.54821s\t ll change 0.00406\n",
      "  Iteration 13\t time lapse 0.60827s\t ll change 0.00309\n",
      "  Iteration 14\t time lapse 0.58718s\t ll change 0.00230\n",
      "  Iteration 15\t time lapse 0.57405s\t ll change 0.00171\n",
      "Initialization converged: False\t time lapse 9.22245s\t ll 2.63032\n"
     ]
    },
    {
     "name": "stderr",
     "output_type": "stream",
     "text": [
      "/home/av/.local/lib/python3.10/site-packages/sklearn/mixture/_base.py:274: ConvergenceWarning: Initialization 1 did not converge. Try different init parameters, or increase max_iter, tol or check for degenerate data.\n",
      "  warnings.warn(\n",
      "100%|██████████| 600/600 [00:20<00:00, 29.63it/s]\n",
      "/home/av/IST/slp-labs/LAB2/pf_tools.py:89: UserWarning: The feature directory already exists, and no new feature extraction will be performed.\n",
      "  warnings.warn(\"The feature directory already exists, and no new feature extraction will be performed.\")\n"
     ]
    },
    {
     "name": "stdout",
     "output_type": "stream",
     "text": [
      "Accuracy Score = 0.5566666666666666\n",
      "\n",
      "\n",
      "Combination 44\n",
      "Initialization 0\n",
      "  Iteration 1\t time lapse 2.94531s\t ll change inf\n",
      "  Iteration 2\t time lapse 0.97189s\t ll change 0.49881\n",
      "  Iteration 3\t time lapse 1.00704s\t ll change 0.01696\n",
      "  Iteration 4\t time lapse 1.02258s\t ll change 0.00992\n",
      "  Iteration 5\t time lapse 1.02582s\t ll change 0.00705\n",
      "  Iteration 6\t time lapse 1.16050s\t ll change 0.00551\n",
      "  Iteration 7\t time lapse 1.00824s\t ll change 0.00457\n",
      "  Iteration 8\t time lapse 0.98784s\t ll change 0.00395\n",
      "  Iteration 9\t time lapse 1.02703s\t ll change 0.00356\n",
      "  Iteration 10\t time lapse 0.98662s\t ll change 0.00326\n",
      "  Iteration 11\t time lapse 1.01648s\t ll change 0.00297\n",
      "  Iteration 12\t time lapse 0.98546s\t ll change 0.00270\n",
      "  Iteration 13\t time lapse 1.03982s\t ll change 0.00249\n",
      "  Iteration 14\t time lapse 1.00298s\t ll change 0.00235\n",
      "  Iteration 15\t time lapse 0.96452s\t ll change 0.00220\n",
      "Initialization converged: False\t time lapse 17.15225s\t ll 2.69518\n"
     ]
    },
    {
     "name": "stderr",
     "output_type": "stream",
     "text": [
      "/home/av/.local/lib/python3.10/site-packages/sklearn/mixture/_base.py:274: ConvergenceWarning: Initialization 1 did not converge. Try different init parameters, or increase max_iter, tol or check for degenerate data.\n",
      "  warnings.warn(\n"
     ]
    },
    {
     "name": "stdout",
     "output_type": "stream",
     "text": [
      "Initialization 0\n",
      "  Iteration 1\t time lapse 3.20470s\t ll change inf\n",
      "  Iteration 2\t time lapse 1.04771s\t ll change 0.54173\n",
      "  Iteration 3\t time lapse 1.07307s\t ll change 0.01976\n",
      "  Iteration 4\t time lapse 1.05546s\t ll change 0.01343\n",
      "  Iteration 5\t time lapse 1.05828s\t ll change 0.01053\n",
      "  Iteration 6\t time lapse 1.16410s\t ll change 0.00849\n",
      "  Iteration 7\t time lapse 1.06273s\t ll change 0.00684\n",
      "  Iteration 8\t time lapse 1.03990s\t ll change 0.00551\n",
      "  Iteration 9\t time lapse 1.13654s\t ll change 0.00446\n",
      "  Iteration 10\t time lapse 1.12058s\t ll change 0.00363\n",
      "  Iteration 11\t time lapse 1.18813s\t ll change 0.00296\n",
      "  Iteration 12\t time lapse 1.05661s\t ll change 0.00244\n",
      "  Iteration 13\t time lapse 1.05993s\t ll change 0.00202\n",
      "  Iteration 14\t time lapse 1.07296s\t ll change 0.00169\n",
      "  Iteration 15\t time lapse 1.05776s\t ll change 0.00141\n",
      "Initialization converged: False\t time lapse 18.39887s\t ll 2.89663\n"
     ]
    },
    {
     "name": "stderr",
     "output_type": "stream",
     "text": [
      "/home/av/.local/lib/python3.10/site-packages/sklearn/mixture/_base.py:274: ConvergenceWarning: Initialization 1 did not converge. Try different init parameters, or increase max_iter, tol or check for degenerate data.\n",
      "  warnings.warn(\n"
     ]
    },
    {
     "name": "stdout",
     "output_type": "stream",
     "text": [
      "Initialization 0\n",
      "  Iteration 1\t time lapse 3.45097s\t ll change inf\n",
      "  Iteration 2\t time lapse 1.11143s\t ll change 0.52240\n",
      "  Iteration 3\t time lapse 1.17622s\t ll change 0.02049\n",
      "  Iteration 4\t time lapse 1.20399s\t ll change 0.01440\n",
      "  Iteration 5\t time lapse 1.12056s\t ll change 0.01249\n",
      "  Iteration 6\t time lapse 1.14458s\t ll change 0.01175\n",
      "  Iteration 7\t time lapse 1.17927s\t ll change 0.01024\n",
      "  Iteration 8\t time lapse 1.11558s\t ll change 0.00812\n",
      "  Iteration 9\t time lapse 1.19871s\t ll change 0.00651\n",
      "  Iteration 10\t time lapse 1.18552s\t ll change 0.00562\n",
      "  Iteration 11\t time lapse 1.09790s\t ll change 0.00495\n",
      "  Iteration 12\t time lapse 1.08988s\t ll change 0.00411\n",
      "  Iteration 13\t time lapse 1.18628s\t ll change 0.00317\n",
      "  Iteration 14\t time lapse 1.07824s\t ll change 0.00237\n",
      "  Iteration 15\t time lapse 1.08204s\t ll change 0.00181\n",
      "Initialization converged: False\t time lapse 19.42129s\t ll 1.93421\n"
     ]
    },
    {
     "name": "stderr",
     "output_type": "stream",
     "text": [
      "/home/av/.local/lib/python3.10/site-packages/sklearn/mixture/_base.py:274: ConvergenceWarning: Initialization 1 did not converge. Try different init parameters, or increase max_iter, tol or check for degenerate data.\n",
      "  warnings.warn(\n"
     ]
    },
    {
     "name": "stdout",
     "output_type": "stream",
     "text": [
      "Initialization 0\n",
      "  Iteration 1\t time lapse 2.71105s\t ll change inf\n",
      "  Iteration 2\t time lapse 1.01335s\t ll change 0.41594\n",
      "  Iteration 3\t time lapse 1.21292s\t ll change 0.02035\n",
      "  Iteration 4\t time lapse 1.02756s\t ll change 0.01334\n",
      "  Iteration 5\t time lapse 1.05986s\t ll change 0.00990\n",
      "  Iteration 6\t time lapse 1.00317s\t ll change 0.00765\n",
      "  Iteration 7\t time lapse 1.02907s\t ll change 0.00613\n",
      "  Iteration 8\t time lapse 0.99080s\t ll change 0.00511\n",
      "  Iteration 9\t time lapse 0.99964s\t ll change 0.00441\n",
      "  Iteration 10\t time lapse 1.00436s\t ll change 0.00388\n",
      "  Iteration 11\t time lapse 0.99370s\t ll change 0.00346\n",
      "  Iteration 12\t time lapse 1.01344s\t ll change 0.00310\n",
      "  Iteration 13\t time lapse 1.00746s\t ll change 0.00281\n",
      "  Iteration 14\t time lapse 0.98684s\t ll change 0.00258\n",
      "  Iteration 15\t time lapse 1.00585s\t ll change 0.00238\n",
      "Initialization converged: False\t time lapse 17.05944s\t ll 2.56899\n"
     ]
    },
    {
     "name": "stderr",
     "output_type": "stream",
     "text": [
      "/home/av/.local/lib/python3.10/site-packages/sklearn/mixture/_base.py:274: ConvergenceWarning: Initialization 1 did not converge. Try different init parameters, or increase max_iter, tol or check for degenerate data.\n",
      "  warnings.warn(\n"
     ]
    },
    {
     "name": "stdout",
     "output_type": "stream",
     "text": [
      "Initialization 0\n",
      "  Iteration 1\t time lapse 2.77584s\t ll change inf\n",
      "  Iteration 2\t time lapse 0.93227s\t ll change 0.63794\n",
      "  Iteration 3\t time lapse 0.96697s\t ll change 0.01891\n",
      "  Iteration 4\t time lapse 0.99122s\t ll change 0.01236\n",
      "  Iteration 5\t time lapse 0.98740s\t ll change 0.00936\n",
      "  Iteration 6\t time lapse 0.99612s\t ll change 0.00739\n",
      "  Iteration 7\t time lapse 0.99645s\t ll change 0.00586\n",
      "  Iteration 8\t time lapse 0.98707s\t ll change 0.00459\n",
      "  Iteration 9\t time lapse 0.99697s\t ll change 0.00357\n",
      "  Iteration 10\t time lapse 0.98774s\t ll change 0.00280\n",
      "  Iteration 11\t time lapse 0.95103s\t ll change 0.00224\n",
      "  Iteration 12\t time lapse 1.03344s\t ll change 0.00184\n",
      "  Iteration 13\t time lapse 1.00593s\t ll change 0.00156\n",
      "  Iteration 14\t time lapse 0.98466s\t ll change 0.00136\n",
      "  Iteration 15\t time lapse 0.98071s\t ll change 0.00121\n",
      "Initialization converged: False\t time lapse 16.57417s\t ll 2.02218\n"
     ]
    },
    {
     "name": "stderr",
     "output_type": "stream",
     "text": [
      "/home/av/.local/lib/python3.10/site-packages/sklearn/mixture/_base.py:274: ConvergenceWarning: Initialization 1 did not converge. Try different init parameters, or increase max_iter, tol or check for degenerate data.\n",
      "  warnings.warn(\n"
     ]
    },
    {
     "name": "stdout",
     "output_type": "stream",
     "text": [
      "Initialization 0\n",
      "  Iteration 1\t time lapse 2.67426s\t ll change inf\n",
      "  Iteration 2\t time lapse 1.13897s\t ll change 0.05146\n",
      "  Iteration 3\t time lapse 1.01432s\t ll change 0.01934\n",
      "  Iteration 4\t time lapse 0.99173s\t ll change 0.01219\n",
      "  Iteration 5\t time lapse 0.98550s\t ll change 0.00895\n",
      "  Iteration 6\t time lapse 0.97065s\t ll change 0.00699\n",
      "  Iteration 7\t time lapse 0.99150s\t ll change 0.00567\n",
      "  Iteration 8\t time lapse 0.98614s\t ll change 0.00473\n",
      "  Iteration 9\t time lapse 0.99043s\t ll change 0.00404\n",
      "  Iteration 10\t time lapse 0.98690s\t ll change 0.00347\n",
      "  Iteration 11\t time lapse 0.96659s\t ll change 0.00297\n",
      "  Iteration 12\t time lapse 0.97797s\t ll change 0.00252\n",
      "  Iteration 13\t time lapse 1.00561s\t ll change 0.00210\n",
      "  Iteration 14\t time lapse 1.03221s\t ll change 0.00174\n",
      "  Iteration 15\t time lapse 0.95719s\t ll change 0.00142\n",
      "Initialization converged: False\t time lapse 16.67009s\t ll 2.78858\n"
     ]
    },
    {
     "name": "stderr",
     "output_type": "stream",
     "text": [
      "/home/av/.local/lib/python3.10/site-packages/sklearn/mixture/_base.py:274: ConvergenceWarning: Initialization 1 did not converge. Try different init parameters, or increase max_iter, tol or check for degenerate data.\n",
      "  warnings.warn(\n",
      "100%|██████████| 600/600 [00:31<00:00, 18.82it/s]\n",
      "/home/av/IST/slp-labs/LAB2/pf_tools.py:89: UserWarning: The feature directory already exists, and no new feature extraction will be performed.\n",
      "  warnings.warn(\"The feature directory already exists, and no new feature extraction will be performed.\")\n"
     ]
    },
    {
     "name": "stdout",
     "output_type": "stream",
     "text": [
      "Accuracy Score = 0.5966666666666667\n",
      "\n",
      "\n",
      "Combination 45\n",
      "Initialization 0\n",
      "  Iteration 1\t time lapse 5.31854s\t ll change inf\n",
      "  Iteration 2\t time lapse 1.72876s\t ll change 0.43584\n",
      "  Iteration 3\t time lapse 1.55759s\t ll change 0.01803\n",
      "  Iteration 4\t time lapse 1.63568s\t ll change 0.01098\n",
      "  Iteration 5\t time lapse 1.58455s\t ll change 0.00852\n",
      "  Iteration 6\t time lapse 1.65768s\t ll change 0.00724\n",
      "  Iteration 7\t time lapse 1.63972s\t ll change 0.00620\n",
      "  Iteration 8\t time lapse 1.60219s\t ll change 0.00527\n",
      "  Iteration 9\t time lapse 1.60010s\t ll change 0.00442\n",
      "  Iteration 10\t time lapse 1.65487s\t ll change 0.00367\n",
      "  Iteration 11\t time lapse 1.57015s\t ll change 0.00303\n",
      "  Iteration 12\t time lapse 1.56476s\t ll change 0.00251\n",
      "  Iteration 13\t time lapse 1.63275s\t ll change 0.00210\n",
      "  Iteration 14\t time lapse 1.60324s\t ll change 0.00178\n",
      "  Iteration 15\t time lapse 1.63947s\t ll change 0.00153\n",
      "Initialization converged: False\t time lapse 27.99045s\t ll 2.79319\n"
     ]
    },
    {
     "name": "stderr",
     "output_type": "stream",
     "text": [
      "/home/av/.local/lib/python3.10/site-packages/sklearn/mixture/_base.py:274: ConvergenceWarning: Initialization 1 did not converge. Try different init parameters, or increase max_iter, tol or check for degenerate data.\n",
      "  warnings.warn(\n"
     ]
    },
    {
     "name": "stdout",
     "output_type": "stream",
     "text": [
      "Initialization 0\n",
      "  Iteration 1\t time lapse 5.98057s\t ll change inf\n",
      "  Iteration 2\t time lapse 1.80850s\t ll change 0.43510\n",
      "  Iteration 3\t time lapse 1.83239s\t ll change 0.01770\n",
      "  Iteration 4\t time lapse 1.68777s\t ll change 0.01002\n",
      "  Iteration 5\t time lapse 1.71097s\t ll change 0.00709\n",
      "  Iteration 6\t time lapse 1.74922s\t ll change 0.00559\n",
      "  Iteration 7\t time lapse 1.75883s\t ll change 0.00466\n",
      "  Iteration 8\t time lapse 1.74804s\t ll change 0.00400\n",
      "  Iteration 9\t time lapse 1.77957s\t ll change 0.00352\n",
      "  Iteration 10\t time lapse 1.79834s\t ll change 0.00316\n",
      "  Iteration 11\t time lapse 1.69952s\t ll change 0.00292\n",
      "  Iteration 12\t time lapse 1.76395s\t ll change 0.00276\n",
      "  Iteration 13\t time lapse 1.79505s\t ll change 0.00268\n",
      "  Iteration 14\t time lapse 1.68907s\t ll change 0.00262\n",
      "  Iteration 15\t time lapse 1.69831s\t ll change 0.00255\n",
      "Initialization converged: False\t time lapse 30.50053s\t ll 2.97304\n"
     ]
    },
    {
     "name": "stderr",
     "output_type": "stream",
     "text": [
      "/home/av/.local/lib/python3.10/site-packages/sklearn/mixture/_base.py:274: ConvergenceWarning: Initialization 1 did not converge. Try different init parameters, or increase max_iter, tol or check for degenerate data.\n",
      "  warnings.warn(\n"
     ]
    },
    {
     "name": "stdout",
     "output_type": "stream",
     "text": [
      "Initialization 0\n",
      "  Iteration 1\t time lapse 6.73405s\t ll change inf\n",
      "  Iteration 2\t time lapse 1.81656s\t ll change 0.43830\n",
      "  Iteration 3\t time lapse 1.77100s\t ll change 0.02550\n",
      "  Iteration 4\t time lapse 1.91457s\t ll change 0.01863\n",
      "  Iteration 5\t time lapse 1.83049s\t ll change 0.01497\n",
      "  Iteration 6\t time lapse 1.85083s\t ll change 0.01157\n",
      "  Iteration 7\t time lapse 1.80616s\t ll change 0.00864\n",
      "  Iteration 8\t time lapse 1.76451s\t ll change 0.00633\n",
      "  Iteration 9\t time lapse 1.84341s\t ll change 0.00467\n",
      "  Iteration 10\t time lapse 1.84951s\t ll change 0.00359\n",
      "  Iteration 11\t time lapse 1.79964s\t ll change 0.00291\n",
      "  Iteration 12\t time lapse 1.89780s\t ll change 0.00246\n",
      "  Iteration 13\t time lapse 1.78322s\t ll change 0.00216\n",
      "  Iteration 14\t time lapse 1.81511s\t ll change 0.00197\n",
      "  Iteration 15\t time lapse 1.88853s\t ll change 0.00184\n",
      "Initialization converged: False\t time lapse 32.36582s\t ll 2.03836\n"
     ]
    },
    {
     "name": "stderr",
     "output_type": "stream",
     "text": [
      "/home/av/.local/lib/python3.10/site-packages/sklearn/mixture/_base.py:274: ConvergenceWarning: Initialization 1 did not converge. Try different init parameters, or increase max_iter, tol or check for degenerate data.\n",
      "  warnings.warn(\n"
     ]
    },
    {
     "name": "stdout",
     "output_type": "stream",
     "text": [
      "Initialization 0\n",
      "  Iteration 1\t time lapse 4.91699s\t ll change inf\n",
      "  Iteration 2\t time lapse 1.56870s\t ll change 0.37357\n",
      "  Iteration 3\t time lapse 1.57549s\t ll change 0.01803\n",
      "  Iteration 4\t time lapse 1.55409s\t ll change 0.01049\n",
      "  Iteration 5\t time lapse 1.64209s\t ll change 0.00747\n",
      "  Iteration 6\t time lapse 1.67113s\t ll change 0.00585\n",
      "  Iteration 7\t time lapse 1.63979s\t ll change 0.00493\n",
      "  Iteration 8\t time lapse 1.57942s\t ll change 0.00443\n",
      "  Iteration 9\t time lapse 1.63582s\t ll change 0.00409\n",
      "  Iteration 10\t time lapse 1.57911s\t ll change 0.00375\n",
      "  Iteration 11\t time lapse 1.66551s\t ll change 0.00339\n",
      "  Iteration 12\t time lapse 1.60850s\t ll change 0.00311\n",
      "  Iteration 13\t time lapse 1.57072s\t ll change 0.00287\n",
      "  Iteration 14\t time lapse 1.61096s\t ll change 0.00267\n",
      "  Iteration 15\t time lapse 1.57270s\t ll change 0.00247\n",
      "Initialization converged: False\t time lapse 27.39145s\t ll 2.64878\n"
     ]
    },
    {
     "name": "stderr",
     "output_type": "stream",
     "text": [
      "/home/av/.local/lib/python3.10/site-packages/sklearn/mixture/_base.py:274: ConvergenceWarning: Initialization 1 did not converge. Try different init parameters, or increase max_iter, tol or check for degenerate data.\n",
      "  warnings.warn(\n"
     ]
    },
    {
     "name": "stdout",
     "output_type": "stream",
     "text": [
      "Initialization 0\n",
      "  Iteration 1\t time lapse 5.70018s\t ll change inf\n",
      "  Iteration 2\t time lapse 1.46837s\t ll change 0.47504\n",
      "  Iteration 3\t time lapse 1.44974s\t ll change 0.02124\n",
      "  Iteration 4\t time lapse 1.55438s\t ll change 0.01354\n",
      "  Iteration 5\t time lapse 1.42388s\t ll change 0.01010\n",
      "  Iteration 6\t time lapse 1.52394s\t ll change 0.00790\n",
      "  Iteration 7\t time lapse 1.48503s\t ll change 0.00629\n",
      "  Iteration 8\t time lapse 1.51307s\t ll change 0.00504\n",
      "  Iteration 9\t time lapse 1.44324s\t ll change 0.00408\n",
      "  Iteration 10\t time lapse 1.54806s\t ll change 0.00336\n",
      "  Iteration 11\t time lapse 1.43586s\t ll change 0.00283\n",
      "  Iteration 12\t time lapse 1.49962s\t ll change 0.00242\n",
      "  Iteration 13\t time lapse 1.45126s\t ll change 0.00211\n",
      "  Iteration 14\t time lapse 1.50003s\t ll change 0.00187\n",
      "  Iteration 15\t time lapse 1.43209s\t ll change 0.00168\n",
      "Initialization converged: False\t time lapse 26.42919s\t ll 2.11728\n"
     ]
    },
    {
     "name": "stderr",
     "output_type": "stream",
     "text": [
      "/home/av/.local/lib/python3.10/site-packages/sklearn/mixture/_base.py:274: ConvergenceWarning: Initialization 1 did not converge. Try different init parameters, or increase max_iter, tol or check for degenerate data.\n",
      "  warnings.warn(\n"
     ]
    },
    {
     "name": "stdout",
     "output_type": "stream",
     "text": [
      "Initialization 0\n",
      "  Iteration 1\t time lapse 6.19982s\t ll change inf\n",
      "  Iteration 2\t time lapse 1.64819s\t ll change 0.05604\n",
      "  Iteration 3\t time lapse 1.57410s\t ll change 0.01855\n",
      "  Iteration 4\t time lapse 1.52014s\t ll change 0.01059\n",
      "  Iteration 5\t time lapse 1.59061s\t ll change 0.00754\n",
      "  Iteration 6\t time lapse 1.69027s\t ll change 0.00599\n",
      "  Iteration 7\t time lapse 1.58826s\t ll change 0.00501\n",
      "  Iteration 8\t time lapse 1.63663s\t ll change 0.00431\n",
      "  Iteration 9\t time lapse 1.61018s\t ll change 0.00380\n",
      "  Iteration 10\t time lapse 1.62625s\t ll change 0.00339\n",
      "  Iteration 11\t time lapse 1.75913s\t ll change 0.00304\n",
      "  Iteration 12\t time lapse 1.56329s\t ll change 0.00271\n",
      "  Iteration 13\t time lapse 1.57609s\t ll change 0.00241\n",
      "  Iteration 14\t time lapse 1.54488s\t ll change 0.00213\n",
      "  Iteration 15\t time lapse 1.57794s\t ll change 0.00187\n",
      "Initialization converged: False\t time lapse 28.70588s\t ll 2.86803\n"
     ]
    },
    {
     "name": "stderr",
     "output_type": "stream",
     "text": [
      "/home/av/.local/lib/python3.10/site-packages/sklearn/mixture/_base.py:274: ConvergenceWarning: Initialization 1 did not converge. Try different init parameters, or increase max_iter, tol or check for degenerate data.\n",
      "  warnings.warn(\n",
      "100%|██████████| 600/600 [00:51<00:00, 11.61it/s]\n",
      "/home/av/IST/slp-labs/LAB2/pf_tools.py:89: UserWarning: The feature directory already exists, and no new feature extraction will be performed.\n",
      "  warnings.warn(\"The feature directory already exists, and no new feature extraction will be performed.\")\n"
     ]
    },
    {
     "name": "stdout",
     "output_type": "stream",
     "text": [
      "Accuracy Score = 0.62\n",
      "\n",
      "\n",
      "Combination 46\n",
      "Initialization 0\n",
      "  Iteration 1\t time lapse 1.69976s\t ll change inf\n",
      "  Iteration 2\t time lapse 0.58281s\t ll change 0.51728\n",
      "  Iteration 3\t time lapse 0.57903s\t ll change 0.01501\n",
      "  Iteration 4\t time lapse 0.57931s\t ll change 0.01097\n",
      "  Iteration 5\t time lapse 0.59553s\t ll change 0.00942\n",
      "  Iteration 6\t time lapse 0.60799s\t ll change 0.00793\n",
      "  Iteration 7\t time lapse 0.59222s\t ll change 0.00619\n",
      "  Iteration 8\t time lapse 0.57631s\t ll change 0.00458\n",
      "  Iteration 9\t time lapse 0.59789s\t ll change 0.00333\n",
      "  Iteration 10\t time lapse 0.59413s\t ll change 0.00245\n",
      "  Iteration 11\t time lapse 0.59376s\t ll change 0.00185\n",
      "  Iteration 12\t time lapse 0.57903s\t ll change 0.00143\n",
      "  Iteration 13\t time lapse 0.58405s\t ll change 0.00113\n",
      "  Iteration 14\t time lapse 0.63125s\t ll change 0.00090\n",
      "Initialization converged: True\t time lapse 9.39311s\t ll 2.56126\n",
      "Initialization 0\n",
      "  Iteration 1\t time lapse 1.47551s\t ll change inf\n",
      "  Iteration 2\t time lapse 0.66550s\t ll change 0.65821\n",
      "  Iteration 3\t time lapse 0.64756s\t ll change 0.01714\n",
      "  Iteration 4\t time lapse 0.61919s\t ll change 0.01012\n",
      "  Iteration 5\t time lapse 0.63994s\t ll change 0.00644\n",
      "  Iteration 6\t time lapse 0.63158s\t ll change 0.00416\n",
      "  Iteration 7\t time lapse 0.68457s\t ll change 0.00273\n",
      "  Iteration 8\t time lapse 0.62081s\t ll change 0.00185\n",
      "  Iteration 9\t time lapse 0.67288s\t ll change 0.00131\n",
      "  Iteration 10\t time lapse 0.65344s\t ll change 0.00098\n",
      "Initialization converged: True\t time lapse 7.31105s\t ll 2.76829\n",
      "Initialization 0\n",
      "  Iteration 1\t time lapse 1.74055s\t ll change inf\n",
      "  Iteration 2\t time lapse 0.63044s\t ll change 0.61535\n",
      "  Iteration 3\t time lapse 0.61863s\t ll change 0.02271\n",
      "  Iteration 4\t time lapse 0.65622s\t ll change 0.01462\n",
      "  Iteration 5\t time lapse 0.62799s\t ll change 0.01031\n",
      "  Iteration 6\t time lapse 0.61650s\t ll change 0.00728\n",
      "  Iteration 7\t time lapse 0.61623s\t ll change 0.00499\n",
      "  Iteration 8\t time lapse 0.62076s\t ll change 0.00332\n",
      "  Iteration 9\t time lapse 0.65230s\t ll change 0.00220\n",
      "  Iteration 10\t time lapse 0.64057s\t ll change 0.00150\n",
      "  Iteration 11\t time lapse 0.61391s\t ll change 0.00106\n",
      "  Iteration 12\t time lapse 0.64821s\t ll change 0.00078\n",
      "Initialization converged: True\t time lapse 8.68239s\t ll 1.77283\n",
      "Initialization 0\n",
      "  Iteration 1\t time lapse 1.28704s\t ll change inf\n",
      "  Iteration 2\t time lapse 0.58571s\t ll change 0.57737\n",
      "  Iteration 3\t time lapse 0.58270s\t ll change 0.01835\n",
      "  Iteration 4\t time lapse 0.57475s\t ll change 0.01160\n",
      "  Iteration 5\t time lapse 0.56871s\t ll change 0.00773\n",
      "  Iteration 6\t time lapse 0.58417s\t ll change 0.00512\n",
      "  Iteration 7\t time lapse 0.56400s\t ll change 0.00336\n",
      "  Iteration 8\t time lapse 0.57712s\t ll change 0.00221\n",
      "  Iteration 9\t time lapse 0.57533s\t ll change 0.00147\n",
      "  Iteration 10\t time lapse 0.56736s\t ll change 0.00099\n",
      "Initialization converged: True\t time lapse 6.46697s\t ll 2.44503\n",
      "Initialization 0\n",
      "  Iteration 1\t time lapse 1.29713s\t ll change inf\n",
      "  Iteration 2\t time lapse 0.53388s\t ll change 0.71168\n",
      "  Iteration 3\t time lapse 0.52600s\t ll change 0.02037\n",
      "  Iteration 4\t time lapse 0.53618s\t ll change 0.01449\n",
      "  Iteration 5\t time lapse 0.55579s\t ll change 0.01151\n",
      "  Iteration 6\t time lapse 0.52705s\t ll change 0.00925\n",
      "  Iteration 7\t time lapse 0.56353s\t ll change 0.00726\n",
      "  Iteration 8\t time lapse 0.53409s\t ll change 0.00552\n",
      "  Iteration 9\t time lapse 0.53446s\t ll change 0.00408\n",
      "  Iteration 10\t time lapse 0.54828s\t ll change 0.00297\n",
      "  Iteration 11\t time lapse 0.52372s\t ll change 0.00217\n",
      "  Iteration 12\t time lapse 0.53519s\t ll change 0.00160\n",
      "  Iteration 13\t time lapse 0.52863s\t ll change 0.00121\n",
      "  Iteration 14\t time lapse 0.52728s\t ll change 0.00093\n",
      "Initialization converged: True\t time lapse 8.27128s\t ll 1.92198\n",
      "Initialization 0\n",
      "  Iteration 1\t time lapse 1.22537s\t ll change inf\n",
      "  Iteration 2\t time lapse 0.72582s\t ll change 0.03706\n",
      "  Iteration 3\t time lapse 0.57913s\t ll change 0.01322\n",
      "  Iteration 4\t time lapse 0.56071s\t ll change 0.00837\n",
      "  Iteration 5\t time lapse 0.56941s\t ll change 0.00642\n",
      "  Iteration 6\t time lapse 0.57375s\t ll change 0.00537\n",
      "  Iteration 7\t time lapse 0.55305s\t ll change 0.00477\n",
      "  Iteration 8\t time lapse 0.56551s\t ll change 0.00444\n",
      "  Iteration 9\t time lapse 0.56574s\t ll change 0.00429\n",
      "  Iteration 10\t time lapse 0.56690s\t ll change 0.00417\n",
      "  Iteration 11\t time lapse 0.55662s\t ll change 0.00389\n",
      "  Iteration 12\t time lapse 0.58042s\t ll change 0.00329\n",
      "  Iteration 13\t time lapse 0.55121s\t ll change 0.00249\n",
      "  Iteration 14\t time lapse 0.57097s\t ll change 0.00173\n",
      "  Iteration 15\t time lapse 0.56020s\t ll change 0.00116\n",
      "Initialization converged: False\t time lapse 9.30491s\t ll 2.63222\n"
     ]
    },
    {
     "name": "stderr",
     "output_type": "stream",
     "text": [
      "/home/av/.local/lib/python3.10/site-packages/sklearn/mixture/_base.py:274: ConvergenceWarning: Initialization 1 did not converge. Try different init parameters, or increase max_iter, tol or check for degenerate data.\n",
      "  warnings.warn(\n",
      "100%|██████████| 600/600 [00:20<00:00, 29.92it/s]\n",
      "/home/av/IST/slp-labs/LAB2/pf_tools.py:89: UserWarning: The feature directory already exists, and no new feature extraction will be performed.\n",
      "  warnings.warn(\"The feature directory already exists, and no new feature extraction will be performed.\")\n"
     ]
    },
    {
     "name": "stdout",
     "output_type": "stream",
     "text": [
      "Accuracy Score = 0.5566666666666666\n",
      "\n",
      "\n",
      "Combination 47\n",
      "Initialization 0\n",
      "  Iteration 1\t time lapse 3.34217s\t ll change inf\n",
      "  Iteration 2\t time lapse 0.95411s\t ll change 0.49811\n",
      "  Iteration 3\t time lapse 0.97127s\t ll change 0.01655\n",
      "  Iteration 4\t time lapse 0.96355s\t ll change 0.00969\n",
      "  Iteration 5\t time lapse 0.96416s\t ll change 0.00689\n",
      "  Iteration 6\t time lapse 0.95083s\t ll change 0.00534\n",
      "  Iteration 7\t time lapse 0.97222s\t ll change 0.00436\n",
      "  Iteration 8\t time lapse 1.00723s\t ll change 0.00368\n",
      "  Iteration 9\t time lapse 1.02472s\t ll change 0.00318\n",
      "  Iteration 10\t time lapse 1.00053s\t ll change 0.00278\n",
      "  Iteration 11\t time lapse 0.98656s\t ll change 0.00238\n",
      "  Iteration 12\t time lapse 0.99450s\t ll change 0.00197\n",
      "  Iteration 13\t time lapse 0.98993s\t ll change 0.00161\n",
      "  Iteration 14\t time lapse 0.97765s\t ll change 0.00133\n",
      "  Iteration 15\t time lapse 1.02415s\t ll change 0.00114\n",
      "Initialization converged: False\t time lapse 17.12397s\t ll 2.68943\n"
     ]
    },
    {
     "name": "stderr",
     "output_type": "stream",
     "text": [
      "/home/av/.local/lib/python3.10/site-packages/sklearn/mixture/_base.py:274: ConvergenceWarning: Initialization 1 did not converge. Try different init parameters, or increase max_iter, tol or check for degenerate data.\n",
      "  warnings.warn(\n"
     ]
    },
    {
     "name": "stdout",
     "output_type": "stream",
     "text": [
      "Initialization 0\n",
      "  Iteration 1\t time lapse 3.75299s\t ll change inf\n",
      "  Iteration 2\t time lapse 1.07045s\t ll change 0.48330\n",
      "  Iteration 3\t time lapse 1.12511s\t ll change 0.01829\n",
      "  Iteration 4\t time lapse 1.26780s\t ll change 0.01119\n",
      "  Iteration 5\t time lapse 1.06568s\t ll change 0.00794\n",
      "  Iteration 6\t time lapse 1.04994s\t ll change 0.00600\n",
      "  Iteration 7\t time lapse 1.03557s\t ll change 0.00470\n",
      "  Iteration 8\t time lapse 1.04604s\t ll change 0.00373\n",
      "  Iteration 9\t time lapse 1.04110s\t ll change 0.00297\n",
      "  Iteration 10\t time lapse 1.03387s\t ll change 0.00237\n",
      "  Iteration 11\t time lapse 1.04623s\t ll change 0.00190\n",
      "  Iteration 12\t time lapse 1.16184s\t ll change 0.00151\n",
      "  Iteration 13\t time lapse 1.31364s\t ll change 0.00120\n",
      "  Iteration 14\t time lapse 1.12810s\t ll change 0.00094\n",
      "Initialization converged: True\t time lapse 18.13876s\t ll 2.90289\n",
      "Initialization 0\n",
      "  Iteration 1\t time lapse 3.03550s\t ll change inf\n",
      "  Iteration 2\t time lapse 1.11453s\t ll change 0.50970\n",
      "  Iteration 3\t time lapse 1.14601s\t ll change 0.01991\n",
      "  Iteration 4\t time lapse 1.35790s\t ll change 0.01371\n",
      "  Iteration 5\t time lapse 1.18878s\t ll change 0.01175\n",
      "  Iteration 6\t time lapse 1.11557s\t ll change 0.01147\n",
      "  Iteration 7\t time lapse 1.16217s\t ll change 0.01116\n",
      "  Iteration 8\t time lapse 1.08497s\t ll change 0.00963\n",
      "  Iteration 9\t time lapse 1.09747s\t ll change 0.00738\n",
      "  Iteration 10\t time lapse 1.20592s\t ll change 0.00529\n",
      "  Iteration 11\t time lapse 1.10055s\t ll change 0.00378\n",
      "  Iteration 12\t time lapse 1.10200s\t ll change 0.00281\n",
      "  Iteration 13\t time lapse 1.18047s\t ll change 0.00220\n",
      "  Iteration 14\t time lapse 1.19522s\t ll change 0.00178\n",
      "  Iteration 15\t time lapse 1.09644s\t ll change 0.00149\n",
      "Initialization converged: False\t time lapse 19.18359s\t ll 1.93331\n"
     ]
    },
    {
     "name": "stderr",
     "output_type": "stream",
     "text": [
      "/home/av/.local/lib/python3.10/site-packages/sklearn/mixture/_base.py:274: ConvergenceWarning: Initialization 1 did not converge. Try different init parameters, or increase max_iter, tol or check for degenerate data.\n",
      "  warnings.warn(\n"
     ]
    },
    {
     "name": "stdout",
     "output_type": "stream",
     "text": [
      "Initialization 0\n",
      "  Iteration 1\t time lapse 2.83914s\t ll change inf\n",
      "  Iteration 2\t time lapse 0.99506s\t ll change 0.46994\n",
      "  Iteration 3\t time lapse 1.06964s\t ll change 0.02014\n",
      "  Iteration 4\t time lapse 0.99337s\t ll change 0.01317\n",
      "  Iteration 5\t time lapse 1.05375s\t ll change 0.00983\n",
      "  Iteration 6\t time lapse 0.95952s\t ll change 0.00783\n",
      "  Iteration 7\t time lapse 0.97906s\t ll change 0.00660\n",
      "  Iteration 8\t time lapse 1.03689s\t ll change 0.00575\n",
      "  Iteration 9\t time lapse 0.97766s\t ll change 0.00502\n",
      "  Iteration 10\t time lapse 0.99192s\t ll change 0.00429\n",
      "  Iteration 11\t time lapse 1.01080s\t ll change 0.00359\n",
      "  Iteration 12\t time lapse 1.05260s\t ll change 0.00299\n",
      "  Iteration 13\t time lapse 0.99215s\t ll change 0.00253\n",
      "  Iteration 14\t time lapse 1.02287s\t ll change 0.00217\n",
      "  Iteration 15\t time lapse 1.00746s\t ll change 0.00190\n",
      "Initialization converged: False\t time lapse 16.98201s\t ll 2.56712\n"
     ]
    },
    {
     "name": "stderr",
     "output_type": "stream",
     "text": [
      "/home/av/.local/lib/python3.10/site-packages/sklearn/mixture/_base.py:274: ConvergenceWarning: Initialization 1 did not converge. Try different init parameters, or increase max_iter, tol or check for degenerate data.\n",
      "  warnings.warn(\n"
     ]
    },
    {
     "name": "stdout",
     "output_type": "stream",
     "text": [
      "Initialization 0\n",
      "  Iteration 1\t time lapse 2.70609s\t ll change inf\n",
      "  Iteration 2\t time lapse 0.95452s\t ll change 0.60897\n",
      "  Iteration 3\t time lapse 0.96038s\t ll change 0.01988\n",
      "  Iteration 4\t time lapse 0.93220s\t ll change 0.01266\n",
      "  Iteration 5\t time lapse 0.95011s\t ll change 0.00905\n",
      "  Iteration 6\t time lapse 0.93452s\t ll change 0.00677\n",
      "  Iteration 7\t time lapse 0.95212s\t ll change 0.00521\n",
      "  Iteration 8\t time lapse 0.91504s\t ll change 0.00413\n",
      "  Iteration 9\t time lapse 0.97849s\t ll change 0.00338\n",
      "  Iteration 10\t time lapse 0.93899s\t ll change 0.00286\n",
      "  Iteration 11\t time lapse 0.93149s\t ll change 0.00251\n",
      "  Iteration 12\t time lapse 0.92979s\t ll change 0.00229\n",
      "  Iteration 13\t time lapse 0.97501s\t ll change 0.00217\n",
      "  Iteration 14\t time lapse 1.00397s\t ll change 0.00213\n",
      "  Iteration 15\t time lapse 1.00459s\t ll change 0.00213\n",
      "Initialization converged: False\t time lapse 16.06770s\t ll 2.02381\n"
     ]
    },
    {
     "name": "stderr",
     "output_type": "stream",
     "text": [
      "/home/av/.local/lib/python3.10/site-packages/sklearn/mixture/_base.py:274: ConvergenceWarning: Initialization 1 did not converge. Try different init parameters, or increase max_iter, tol or check for degenerate data.\n",
      "  warnings.warn(\n"
     ]
    },
    {
     "name": "stdout",
     "output_type": "stream",
     "text": [
      "Initialization 0\n",
      "  Iteration 1\t time lapse 2.51023s\t ll change inf\n",
      "  Iteration 2\t time lapse 1.00749s\t ll change 0.05256\n",
      "  Iteration 3\t time lapse 0.97039s\t ll change 0.01934\n",
      "  Iteration 4\t time lapse 0.97529s\t ll change 0.01205\n",
      "  Iteration 5\t time lapse 0.96258s\t ll change 0.00886\n",
      "  Iteration 6\t time lapse 0.97839s\t ll change 0.00697\n",
      "  Iteration 7\t time lapse 0.96603s\t ll change 0.00564\n",
      "  Iteration 8\t time lapse 0.99415s\t ll change 0.00462\n",
      "  Iteration 9\t time lapse 1.00488s\t ll change 0.00386\n",
      "  Iteration 10\t time lapse 0.98390s\t ll change 0.00332\n",
      "  Iteration 11\t time lapse 0.94190s\t ll change 0.00298\n",
      "  Iteration 12\t time lapse 0.95395s\t ll change 0.00280\n",
      "  Iteration 13\t time lapse 1.02935s\t ll change 0.00271\n",
      "  Iteration 14\t time lapse 1.00370s\t ll change 0.00261\n",
      "  Iteration 15\t time lapse 0.97165s\t ll change 0.00243\n",
      "Initialization converged: False\t time lapse 16.25397s\t ll 2.75958\n"
     ]
    },
    {
     "name": "stderr",
     "output_type": "stream",
     "text": [
      "/home/av/.local/lib/python3.10/site-packages/sklearn/mixture/_base.py:274: ConvergenceWarning: Initialization 1 did not converge. Try different init parameters, or increase max_iter, tol or check for degenerate data.\n",
      "  warnings.warn(\n",
      "100%|██████████| 600/600 [00:31<00:00, 18.78it/s]\n",
      "/home/av/IST/slp-labs/LAB2/pf_tools.py:89: UserWarning: The feature directory already exists, and no new feature extraction will be performed.\n",
      "  warnings.warn(\"The feature directory already exists, and no new feature extraction will be performed.\")\n"
     ]
    },
    {
     "name": "stdout",
     "output_type": "stream",
     "text": [
      "Accuracy Score = 0.59\n",
      "\n",
      "\n",
      "Combination 48\n",
      "Initialization 0\n",
      "  Iteration 1\t time lapse 5.84463s\t ll change inf\n",
      "  Iteration 2\t time lapse 1.55724s\t ll change 0.43854\n",
      "  Iteration 3\t time lapse 1.57751s\t ll change 0.01914\n",
      "  Iteration 4\t time lapse 1.61572s\t ll change 0.01047\n",
      "  Iteration 5\t time lapse 1.56277s\t ll change 0.00693\n",
      "  Iteration 6\t time lapse 1.58577s\t ll change 0.00501\n",
      "  Iteration 7\t time lapse 1.62803s\t ll change 0.00381\n",
      "  Iteration 8\t time lapse 1.54841s\t ll change 0.00301\n",
      "  Iteration 9\t time lapse 1.57490s\t ll change 0.00246\n",
      "  Iteration 10\t time lapse 1.54979s\t ll change 0.00205\n",
      "  Iteration 11\t time lapse 1.74588s\t ll change 0.00174\n",
      "  Iteration 12\t time lapse 1.59313s\t ll change 0.00149\n",
      "  Iteration 13\t time lapse 1.51174s\t ll change 0.00129\n",
      "  Iteration 14\t time lapse 1.58609s\t ll change 0.00114\n",
      "  Iteration 15\t time lapse 1.50044s\t ll change 0.00103\n",
      "Initialization converged: False\t time lapse 27.98248s\t ll 2.79122\n"
     ]
    },
    {
     "name": "stderr",
     "output_type": "stream",
     "text": [
      "/home/av/.local/lib/python3.10/site-packages/sklearn/mixture/_base.py:274: ConvergenceWarning: Initialization 1 did not converge. Try different init parameters, or increase max_iter, tol or check for degenerate data.\n",
      "  warnings.warn(\n"
     ]
    },
    {
     "name": "stdout",
     "output_type": "stream",
     "text": [
      "Initialization 0\n",
      "  Iteration 1\t time lapse 5.59745s\t ll change inf\n",
      "  Iteration 2\t time lapse 1.79354s\t ll change 0.45025\n",
      "  Iteration 3\t time lapse 1.74122s\t ll change 0.01803\n",
      "  Iteration 4\t time lapse 1.86889s\t ll change 0.01013\n",
      "  Iteration 5\t time lapse 1.67893s\t ll change 0.00715\n",
      "  Iteration 6\t time lapse 1.77100s\t ll change 0.00560\n",
      "  Iteration 7\t time lapse 1.70435s\t ll change 0.00457\n",
      "  Iteration 8\t time lapse 1.77459s\t ll change 0.00381\n",
      "  Iteration 9\t time lapse 1.77373s\t ll change 0.00323\n",
      "  Iteration 10\t time lapse 1.77182s\t ll change 0.00279\n",
      "  Iteration 11\t time lapse 1.69672s\t ll change 0.00247\n",
      "  Iteration 12\t time lapse 1.75878s\t ll change 0.00225\n",
      "  Iteration 13\t time lapse 1.77562s\t ll change 0.00210\n",
      "  Iteration 14\t time lapse 1.75308s\t ll change 0.00201\n",
      "  Iteration 15\t time lapse 1.74291s\t ll change 0.00194\n",
      "Initialization converged: False\t time lapse 30.20306s\t ll 2.97107\n"
     ]
    },
    {
     "name": "stderr",
     "output_type": "stream",
     "text": [
      "/home/av/.local/lib/python3.10/site-packages/sklearn/mixture/_base.py:274: ConvergenceWarning: Initialization 1 did not converge. Try different init parameters, or increase max_iter, tol or check for degenerate data.\n",
      "  warnings.warn(\n"
     ]
    },
    {
     "name": "stdout",
     "output_type": "stream",
     "text": [
      "Initialization 0\n",
      "  Iteration 1\t time lapse 5.84260s\t ll change inf\n",
      "  Iteration 2\t time lapse 1.91103s\t ll change 0.43974\n",
      "  Iteration 3\t time lapse 1.76558s\t ll change 0.02679\n",
      "  Iteration 4\t time lapse 1.75553s\t ll change 0.01893\n",
      "  Iteration 5\t time lapse 1.78824s\t ll change 0.01379\n",
      "  Iteration 6\t time lapse 1.85051s\t ll change 0.00929\n",
      "  Iteration 7\t time lapse 1.76575s\t ll change 0.00629\n",
      "  Iteration 8\t time lapse 1.89932s\t ll change 0.00459\n",
      "  Iteration 9\t time lapse 1.85558s\t ll change 0.00356\n",
      "  Iteration 10\t time lapse 1.73824s\t ll change 0.00286\n",
      "  Iteration 11\t time lapse 1.79911s\t ll change 0.00235\n",
      "  Iteration 12\t time lapse 1.78045s\t ll change 0.00196\n",
      "  Iteration 13\t time lapse 1.76261s\t ll change 0.00167\n",
      "  Iteration 14\t time lapse 1.89605s\t ll change 0.00144\n",
      "  Iteration 15\t time lapse 1.74032s\t ll change 0.00125\n",
      "Initialization converged: False\t time lapse 31.15134s\t ll 2.03895\n"
     ]
    },
    {
     "name": "stderr",
     "output_type": "stream",
     "text": [
      "/home/av/.local/lib/python3.10/site-packages/sklearn/mixture/_base.py:274: ConvergenceWarning: Initialization 1 did not converge. Try different init parameters, or increase max_iter, tol or check for degenerate data.\n",
      "  warnings.warn(\n"
     ]
    },
    {
     "name": "stdout",
     "output_type": "stream",
     "text": [
      "Initialization 0\n",
      "  Iteration 1\t time lapse 5.46504s\t ll change inf\n",
      "  Iteration 2\t time lapse 1.62349s\t ll change 0.37372\n",
      "  Iteration 3\t time lapse 1.63502s\t ll change 0.01782\n",
      "  Iteration 4\t time lapse 1.56759s\t ll change 0.01041\n",
      "  Iteration 5\t time lapse 1.62352s\t ll change 0.00778\n",
      "  Iteration 6\t time lapse 1.57340s\t ll change 0.00656\n",
      "  Iteration 7\t time lapse 1.59608s\t ll change 0.00583\n",
      "  Iteration 8\t time lapse 1.62531s\t ll change 0.00538\n",
      "  Iteration 9\t time lapse 1.60156s\t ll change 0.00498\n",
      "  Iteration 10\t time lapse 1.70098s\t ll change 0.00460\n",
      "  Iteration 11\t time lapse 1.57249s\t ll change 0.00440\n",
      "  Iteration 12\t time lapse 1.55184s\t ll change 0.00430\n",
      "  Iteration 13\t time lapse 1.70959s\t ll change 0.00415\n",
      "  Iteration 14\t time lapse 1.58994s\t ll change 0.00394\n",
      "  Iteration 15\t time lapse 1.63885s\t ll change 0.00373\n",
      "Initialization converged: False\t time lapse 28.07512s\t ll 2.66005\n"
     ]
    },
    {
     "name": "stderr",
     "output_type": "stream",
     "text": [
      "/home/av/.local/lib/python3.10/site-packages/sklearn/mixture/_base.py:274: ConvergenceWarning: Initialization 1 did not converge. Try different init parameters, or increase max_iter, tol or check for degenerate data.\n",
      "  warnings.warn(\n"
     ]
    },
    {
     "name": "stdout",
     "output_type": "stream",
     "text": [
      "Initialization 0\n",
      "  Iteration 1\t time lapse 5.43346s\t ll change inf\n",
      "  Iteration 2\t time lapse 1.44561s\t ll change 0.52633\n",
      "  Iteration 3\t time lapse 1.49937s\t ll change 0.01943\n",
      "  Iteration 4\t time lapse 1.53069s\t ll change 0.01142\n",
      "  Iteration 5\t time lapse 1.51748s\t ll change 0.00814\n",
      "  Iteration 6\t time lapse 1.42555s\t ll change 0.00631\n",
      "  Iteration 7\t time lapse 1.50280s\t ll change 0.00507\n",
      "  Iteration 8\t time lapse 1.45232s\t ll change 0.00417\n",
      "  Iteration 9\t time lapse 1.50808s\t ll change 0.00349\n",
      "  Iteration 10\t time lapse 1.50264s\t ll change 0.00297\n",
      "  Iteration 11\t time lapse 1.51151s\t ll change 0.00256\n",
      "  Iteration 12\t time lapse 1.47640s\t ll change 0.00224\n",
      "  Iteration 13\t time lapse 1.54956s\t ll change 0.00197\n",
      "  Iteration 14\t time lapse 1.45783s\t ll change 0.00175\n",
      "  Iteration 15\t time lapse 1.58201s\t ll change 0.00155\n",
      "Initialization converged: False\t time lapse 26.39573s\t ll 2.10888\n"
     ]
    },
    {
     "name": "stderr",
     "output_type": "stream",
     "text": [
      "/home/av/.local/lib/python3.10/site-packages/sklearn/mixture/_base.py:274: ConvergenceWarning: Initialization 1 did not converge. Try different init parameters, or increase max_iter, tol or check for degenerate data.\n",
      "  warnings.warn(\n"
     ]
    },
    {
     "name": "stdout",
     "output_type": "stream",
     "text": [
      "Initialization 0\n",
      "  Iteration 1\t time lapse 5.02329s\t ll change inf\n",
      "  Iteration 2\t time lapse 1.58984s\t ll change 0.05815\n",
      "  Iteration 3\t time lapse 1.52034s\t ll change 0.02083\n",
      "  Iteration 4\t time lapse 1.63414s\t ll change 0.01281\n",
      "  Iteration 5\t time lapse 1.53945s\t ll change 0.00946\n",
      "  Iteration 6\t time lapse 1.52579s\t ll change 0.00740\n",
      "  Iteration 7\t time lapse 1.50678s\t ll change 0.00580\n",
      "  Iteration 8\t time lapse 1.54914s\t ll change 0.00450\n",
      "  Iteration 9\t time lapse 1.56503s\t ll change 0.00354\n",
      "  Iteration 10\t time lapse 1.63396s\t ll change 0.00289\n",
      "  Iteration 11\t time lapse 1.60233s\t ll change 0.00246\n",
      "  Iteration 12\t time lapse 1.56607s\t ll change 0.00218\n",
      "  Iteration 13\t time lapse 1.53099s\t ll change 0.00198\n",
      "  Iteration 14\t time lapse 1.58159s\t ll change 0.00183\n",
      "  Iteration 15\t time lapse 1.62214s\t ll change 0.00170\n",
      "Initialization converged: False\t time lapse 26.99100s\t ll 2.86562\n"
     ]
    },
    {
     "name": "stderr",
     "output_type": "stream",
     "text": [
      "/home/av/.local/lib/python3.10/site-packages/sklearn/mixture/_base.py:274: ConvergenceWarning: Initialization 1 did not converge. Try different init parameters, or increase max_iter, tol or check for degenerate data.\n",
      "  warnings.warn(\n",
      "100%|██████████| 600/600 [00:52<00:00, 11.33it/s]\n",
      "/home/av/IST/slp-labs/LAB2/pf_tools.py:89: UserWarning: The feature directory already exists, and no new feature extraction will be performed.\n",
      "  warnings.warn(\"The feature directory already exists, and no new feature extraction will be performed.\")\n"
     ]
    },
    {
     "name": "stdout",
     "output_type": "stream",
     "text": [
      "Accuracy Score = 0.62\n",
      "\n",
      "\n",
      "Combination 49\n",
      "Initialization 0\n",
      "  Iteration 1\t time lapse 1.53801s\t ll change inf\n",
      "  Iteration 2\t time lapse 0.62843s\t ll change 0.51760\n",
      "  Iteration 3\t time lapse 0.58260s\t ll change 0.01526\n",
      "  Iteration 4\t time lapse 0.62121s\t ll change 0.01101\n",
      "  Iteration 5\t time lapse 0.60350s\t ll change 0.00918\n",
      "  Iteration 6\t time lapse 0.59249s\t ll change 0.00749\n",
      "  Iteration 7\t time lapse 0.56814s\t ll change 0.00575\n",
      "  Iteration 8\t time lapse 0.57441s\t ll change 0.00425\n",
      "  Iteration 9\t time lapse 0.55739s\t ll change 0.00312\n",
      "  Iteration 10\t time lapse 0.58643s\t ll change 0.00234\n",
      "  Iteration 11\t time lapse 0.63822s\t ll change 0.00180\n",
      "  Iteration 12\t time lapse 0.60366s\t ll change 0.00142\n",
      "  Iteration 13\t time lapse 0.58419s\t ll change 0.00114\n",
      "  Iteration 14\t time lapse 0.59972s\t ll change 0.00092\n",
      "Initialization converged: True\t time lapse 9.27845s\t ll 2.56105\n",
      "Initialization 0\n",
      "  Iteration 1\t time lapse 1.48527s\t ll change inf\n",
      "  Iteration 2\t time lapse 0.64191s\t ll change 0.65824\n",
      "  Iteration 3\t time lapse 0.68474s\t ll change 0.01720\n",
      "  Iteration 4\t time lapse 0.63703s\t ll change 0.01024\n",
      "  Iteration 5\t time lapse 0.63865s\t ll change 0.00659\n",
      "  Iteration 6\t time lapse 0.68254s\t ll change 0.00430\n",
      "  Iteration 7\t time lapse 0.63844s\t ll change 0.00284\n",
      "  Iteration 8\t time lapse 0.63435s\t ll change 0.00193\n",
      "  Iteration 9\t time lapse 0.61679s\t ll change 0.00137\n",
      "  Iteration 10\t time lapse 0.68638s\t ll change 0.00102\n",
      "  Iteration 11\t time lapse 0.62379s\t ll change 0.00080\n",
      "Initialization converged: True\t time lapse 7.96997s\t ll 2.76884\n",
      "Initialization 0\n",
      "  Iteration 1\t time lapse 1.48452s\t ll change inf\n",
      "  Iteration 2\t time lapse 0.62364s\t ll change 0.62330\n",
      "  Iteration 3\t time lapse 0.65223s\t ll change 0.02269\n",
      "  Iteration 4\t time lapse 0.75637s\t ll change 0.01442\n",
      "  Iteration 5\t time lapse 0.62253s\t ll change 0.01019\n",
      "  Iteration 6\t time lapse 0.62239s\t ll change 0.00722\n",
      "  Iteration 7\t time lapse 0.64937s\t ll change 0.00492\n",
      "  Iteration 8\t time lapse 0.64323s\t ll change 0.00322\n",
      "  Iteration 9\t time lapse 0.62013s\t ll change 0.00207\n",
      "  Iteration 10\t time lapse 0.63427s\t ll change 0.00135\n",
      "  Iteration 11\t time lapse 0.68853s\t ll change 0.00091\n",
      "Initialization converged: True\t time lapse 7.99727s\t ll 1.77294\n",
      "Initialization 0\n",
      "  Iteration 1\t time lapse 1.34707s\t ll change inf\n",
      "  Iteration 2\t time lapse 0.65899s\t ll change 0.56550\n",
      "  Iteration 3\t time lapse 0.57519s\t ll change 0.01815\n",
      "  Iteration 4\t time lapse 0.57518s\t ll change 0.01126\n",
      "  Iteration 5\t time lapse 0.57776s\t ll change 0.00740\n",
      "  Iteration 6\t time lapse 0.59736s\t ll change 0.00487\n",
      "  Iteration 7\t time lapse 0.58382s\t ll change 0.00322\n",
      "  Iteration 8\t time lapse 0.57834s\t ll change 0.00215\n",
      "  Iteration 9\t time lapse 0.58053s\t ll change 0.00146\n",
      "  Iteration 10\t time lapse 0.57604s\t ll change 0.00100\n",
      "  Iteration 11\t time lapse 0.59681s\t ll change 0.00071\n",
      "Initialization converged: True\t time lapse 7.24717s\t ll 2.44563\n",
      "Initialization 0\n",
      "  Iteration 1\t time lapse 1.24328s\t ll change inf\n",
      "  Iteration 2\t time lapse 0.55042s\t ll change 0.70880\n",
      "  Iteration 3\t time lapse 0.53412s\t ll change 0.02019\n",
      "  Iteration 4\t time lapse 0.53095s\t ll change 0.01438\n",
      "  Iteration 5\t time lapse 0.53848s\t ll change 0.01147\n",
      "  Iteration 6\t time lapse 0.53490s\t ll change 0.00928\n",
      "  Iteration 7\t time lapse 0.55731s\t ll change 0.00734\n",
      "  Iteration 8\t time lapse 0.53374s\t ll change 0.00563\n",
      "  Iteration 9\t time lapse 0.55085s\t ll change 0.00419\n",
      "  Iteration 10\t time lapse 0.54736s\t ll change 0.00308\n",
      "  Iteration 11\t time lapse 0.53298s\t ll change 0.00226\n",
      "  Iteration 12\t time lapse 0.53753s\t ll change 0.00167\n",
      "  Iteration 13\t time lapse 0.53025s\t ll change 0.00126\n",
      "  Iteration 14\t time lapse 0.55456s\t ll change 0.00098\n",
      "Initialization converged: True\t time lapse 8.27682s\t ll 1.92176\n",
      "Initialization 0\n",
      "  Iteration 1\t time lapse 1.52903s\t ll change inf\n",
      "  Iteration 2\t time lapse 0.56857s\t ll change 0.03700\n",
      "  Iteration 3\t time lapse 0.55525s\t ll change 0.01318\n",
      "  Iteration 4\t time lapse 0.55702s\t ll change 0.00831\n",
      "  Iteration 5\t time lapse 0.58136s\t ll change 0.00636\n",
      "  Iteration 6\t time lapse 0.57237s\t ll change 0.00534\n",
      "  Iteration 7\t time lapse 0.56008s\t ll change 0.00478\n",
      "  Iteration 8\t time lapse 0.57805s\t ll change 0.00450\n",
      "  Iteration 9\t time lapse 0.55615s\t ll change 0.00439\n",
      "  Iteration 10\t time lapse 0.57788s\t ll change 0.00428\n",
      "  Iteration 11\t time lapse 0.57340s\t ll change 0.00395\n",
      "  Iteration 12\t time lapse 0.58255s\t ll change 0.00329\n",
      "  Iteration 13\t time lapse 0.58046s\t ll change 0.00246\n",
      "  Iteration 14\t time lapse 0.59512s\t ll change 0.00171\n",
      "  Iteration 15\t time lapse 0.56213s\t ll change 0.00115\n",
      "Initialization converged: False\t time lapse 9.52947s\t ll 2.63199\n"
     ]
    },
    {
     "name": "stderr",
     "output_type": "stream",
     "text": [
      "/home/av/.local/lib/python3.10/site-packages/sklearn/mixture/_base.py:274: ConvergenceWarning: Initialization 1 did not converge. Try different init parameters, or increase max_iter, tol or check for degenerate data.\n",
      "  warnings.warn(\n",
      "100%|██████████| 600/600 [00:19<00:00, 30.18it/s]\n",
      "/home/av/IST/slp-labs/LAB2/pf_tools.py:89: UserWarning: The feature directory already exists, and no new feature extraction will be performed.\n",
      "  warnings.warn(\"The feature directory already exists, and no new feature extraction will be performed.\")\n"
     ]
    },
    {
     "name": "stdout",
     "output_type": "stream",
     "text": [
      "Accuracy Score = 0.5566666666666666\n",
      "\n",
      "\n",
      "Combination 50\n",
      "Initialization 0\n",
      "  Iteration 1\t time lapse 3.75564s\t ll change inf\n",
      "  Iteration 2\t time lapse 0.98597s\t ll change 0.49500\n",
      "  Iteration 3\t time lapse 1.09392s\t ll change 0.01500\n",
      "  Iteration 4\t time lapse 1.06735s\t ll change 0.00871\n",
      "  Iteration 5\t time lapse 1.06187s\t ll change 0.00613\n",
      "  Iteration 6\t time lapse 1.13148s\t ll change 0.00474\n",
      "  Iteration 7\t time lapse 1.04288s\t ll change 0.00388\n",
      "  Iteration 8\t time lapse 0.99518s\t ll change 0.00331\n",
      "  Iteration 9\t time lapse 0.99852s\t ll change 0.00290\n",
      "  Iteration 10\t time lapse 1.00529s\t ll change 0.00255\n",
      "  Iteration 11\t time lapse 1.00556s\t ll change 0.00223\n",
      "  Iteration 12\t time lapse 1.05995s\t ll change 0.00194\n",
      "  Iteration 13\t time lapse 0.96406s\t ll change 0.00174\n",
      "  Iteration 14\t time lapse 0.95511s\t ll change 0.00164\n",
      "  Iteration 15\t time lapse 1.01955s\t ll change 0.00163\n",
      "Initialization converged: False\t time lapse 18.14244s\t ll 2.68615\n"
     ]
    },
    {
     "name": "stderr",
     "output_type": "stream",
     "text": [
      "/home/av/.local/lib/python3.10/site-packages/sklearn/mixture/_base.py:274: ConvergenceWarning: Initialization 1 did not converge. Try different init parameters, or increase max_iter, tol or check for degenerate data.\n",
      "  warnings.warn(\n"
     ]
    },
    {
     "name": "stdout",
     "output_type": "stream",
     "text": [
      "Initialization 0\n",
      "  Iteration 1\t time lapse 3.06085s\t ll change inf\n",
      "  Iteration 2\t time lapse 1.04524s\t ll change 0.55964\n",
      "  Iteration 3\t time lapse 1.06080s\t ll change 0.01887\n",
      "  Iteration 4\t time lapse 1.16566s\t ll change 0.01190\n",
      "  Iteration 5\t time lapse 1.05859s\t ll change 0.00857\n",
      "  Iteration 6\t time lapse 1.06118s\t ll change 0.00646\n",
      "  Iteration 7\t time lapse 1.06669s\t ll change 0.00498\n",
      "  Iteration 8\t time lapse 1.04398s\t ll change 0.00388\n",
      "  Iteration 9\t time lapse 1.03796s\t ll change 0.00303\n",
      "  Iteration 10\t time lapse 1.06362s\t ll change 0.00240\n",
      "  Iteration 11\t time lapse 1.28495s\t ll change 0.00193\n",
      "  Iteration 12\t time lapse 1.17368s\t ll change 0.00158\n",
      "  Iteration 13\t time lapse 1.07970s\t ll change 0.00132\n",
      "  Iteration 14\t time lapse 1.05494s\t ll change 0.00111\n",
      "  Iteration 15\t time lapse 1.04305s\t ll change 0.00096\n",
      "Initialization converged: True\t time lapse 18.30127s\t ll 2.89652\n",
      "Initialization 0\n",
      "  Iteration 1\t time lapse 3.72764s\t ll change inf\n",
      "  Iteration 2\t time lapse 1.07048s\t ll change 0.52198\n",
      "  Iteration 3\t time lapse 1.18305s\t ll change 0.02025\n",
      "  Iteration 4\t time lapse 1.09966s\t ll change 0.01420\n",
      "  Iteration 5\t time lapse 1.14719s\t ll change 0.01244\n",
      "  Iteration 6\t time lapse 1.19763s\t ll change 0.01208\n",
      "  Iteration 7\t time lapse 1.12251s\t ll change 0.01119\n",
      "  Iteration 8\t time lapse 1.37687s\t ll change 0.00931\n",
      "  Iteration 9\t time lapse 1.09546s\t ll change 0.00719\n",
      "  Iteration 10\t time lapse 1.15112s\t ll change 0.00528\n",
      "  Iteration 11\t time lapse 1.19058s\t ll change 0.00381\n",
      "  Iteration 12\t time lapse 1.13341s\t ll change 0.00283\n",
      "  Iteration 13\t time lapse 1.18556s\t ll change 0.00219\n",
      "  Iteration 14\t time lapse 1.24557s\t ll change 0.00176\n",
      "  Iteration 15\t time lapse 1.10804s\t ll change 0.00145\n",
      "Initialization converged: False\t time lapse 20.03489s\t ll 1.93501\n"
     ]
    },
    {
     "name": "stderr",
     "output_type": "stream",
     "text": [
      "/home/av/.local/lib/python3.10/site-packages/sklearn/mixture/_base.py:274: ConvergenceWarning: Initialization 1 did not converge. Try different init parameters, or increase max_iter, tol or check for degenerate data.\n",
      "  warnings.warn(\n"
     ]
    },
    {
     "name": "stdout",
     "output_type": "stream",
     "text": [
      "Initialization 0\n",
      "  Iteration 1\t time lapse 3.19848s\t ll change inf\n",
      "  Iteration 2\t time lapse 0.98414s\t ll change 0.39377\n",
      "  Iteration 3\t time lapse 0.96988s\t ll change 0.02017\n",
      "  Iteration 4\t time lapse 0.98650s\t ll change 0.01368\n",
      "  Iteration 5\t time lapse 1.01768s\t ll change 0.01085\n",
      "  Iteration 6\t time lapse 1.13682s\t ll change 0.00909\n",
      "  Iteration 7\t time lapse 1.01052s\t ll change 0.00780\n",
      "  Iteration 8\t time lapse 1.03213s\t ll change 0.00673\n",
      "  Iteration 9\t time lapse 1.00005s\t ll change 0.00577\n",
      "  Iteration 10\t time lapse 1.00528s\t ll change 0.00492\n",
      "  Iteration 11\t time lapse 1.01674s\t ll change 0.00420\n",
      "  Iteration 12\t time lapse 0.99672s\t ll change 0.00361\n",
      "  Iteration 13\t time lapse 1.04356s\t ll change 0.00312\n",
      "  Iteration 14\t time lapse 1.12029s\t ll change 0.00271\n",
      "  Iteration 15\t time lapse 0.99669s\t ll change 0.00239\n",
      "Initialization converged: False\t time lapse 17.51559s\t ll 2.57092\n"
     ]
    },
    {
     "name": "stderr",
     "output_type": "stream",
     "text": [
      "/home/av/.local/lib/python3.10/site-packages/sklearn/mixture/_base.py:274: ConvergenceWarning: Initialization 1 did not converge. Try different init parameters, or increase max_iter, tol or check for degenerate data.\n",
      "  warnings.warn(\n"
     ]
    },
    {
     "name": "stdout",
     "output_type": "stream",
     "text": [
      "Initialization 0\n",
      "  Iteration 1\t time lapse 2.17763s\t ll change inf\n",
      "  Iteration 2\t time lapse 0.91566s\t ll change 0.63449\n",
      "  Iteration 3\t time lapse 0.90167s\t ll change 0.01761\n",
      "  Iteration 4\t time lapse 0.93035s\t ll change 0.01122\n",
      "  Iteration 5\t time lapse 0.90808s\t ll change 0.00875\n",
      "  Iteration 6\t time lapse 0.94308s\t ll change 0.00766\n",
      "  Iteration 7\t time lapse 0.92597s\t ll change 0.00708\n",
      "  Iteration 8\t time lapse 0.91704s\t ll change 0.00644\n",
      "  Iteration 9\t time lapse 0.97294s\t ll change 0.00561\n",
      "  Iteration 10\t time lapse 0.99240s\t ll change 0.00475\n",
      "  Iteration 11\t time lapse 0.91531s\t ll change 0.00384\n",
      "  Iteration 12\t time lapse 0.92000s\t ll change 0.00296\n",
      "  Iteration 13\t time lapse 0.98437s\t ll change 0.00227\n",
      "  Iteration 14\t time lapse 0.93339s\t ll change 0.00181\n",
      "  Iteration 15\t time lapse 0.91327s\t ll change 0.00153\n",
      "Initialization converged: False\t time lapse 15.25156s\t ll 2.02577\n"
     ]
    },
    {
     "name": "stderr",
     "output_type": "stream",
     "text": [
      "/home/av/.local/lib/python3.10/site-packages/sklearn/mixture/_base.py:274: ConvergenceWarning: Initialization 1 did not converge. Try different init parameters, or increase max_iter, tol or check for degenerate data.\n",
      "  warnings.warn(\n"
     ]
    },
    {
     "name": "stdout",
     "output_type": "stream",
     "text": [
      "Initialization 0\n",
      "  Iteration 1\t time lapse 3.33126s\t ll change inf\n",
      "  Iteration 2\t time lapse 1.03238s\t ll change 0.05163\n",
      "  Iteration 3\t time lapse 0.99539s\t ll change 0.01928\n",
      "  Iteration 4\t time lapse 1.01458s\t ll change 0.01211\n",
      "  Iteration 5\t time lapse 0.99486s\t ll change 0.00890\n",
      "  Iteration 6\t time lapse 0.99638s\t ll change 0.00696\n",
      "  Iteration 7\t time lapse 1.05821s\t ll change 0.00565\n",
      "  Iteration 8\t time lapse 1.13612s\t ll change 0.00472\n",
      "  Iteration 9\t time lapse 1.07310s\t ll change 0.00403\n",
      "  Iteration 10\t time lapse 0.95879s\t ll change 0.00347\n",
      "  Iteration 11\t time lapse 1.00409s\t ll change 0.00298\n",
      "  Iteration 12\t time lapse 1.05125s\t ll change 0.00253\n",
      "  Iteration 13\t time lapse 1.10859s\t ll change 0.00211\n",
      "  Iteration 14\t time lapse 0.95468s\t ll change 0.00173\n",
      "  Iteration 15\t time lapse 0.95256s\t ll change 0.00139\n",
      "Initialization converged: False\t time lapse 17.66234s\t ll 2.78808\n"
     ]
    },
    {
     "name": "stderr",
     "output_type": "stream",
     "text": [
      "/home/av/.local/lib/python3.10/site-packages/sklearn/mixture/_base.py:274: ConvergenceWarning: Initialization 1 did not converge. Try different init parameters, or increase max_iter, tol or check for degenerate data.\n",
      "  warnings.warn(\n",
      "100%|██████████| 600/600 [00:33<00:00, 18.10it/s]\n",
      "/home/av/IST/slp-labs/LAB2/pf_tools.py:89: UserWarning: The feature directory already exists, and no new feature extraction will be performed.\n",
      "  warnings.warn(\"The feature directory already exists, and no new feature extraction will be performed.\")\n"
     ]
    },
    {
     "name": "stdout",
     "output_type": "stream",
     "text": [
      "Accuracy Score = 0.5833333333333334\n",
      "\n",
      "\n",
      "Combination 51\n",
      "Initialization 0\n",
      "  Iteration 1\t time lapse 5.35036s\t ll change inf\n",
      "  Iteration 2\t time lapse 1.67565s\t ll change 0.43844\n",
      "  Iteration 3\t time lapse 1.73279s\t ll change 0.01914\n",
      "  Iteration 4\t time lapse 1.61836s\t ll change 0.01050\n",
      "  Iteration 5\t time lapse 1.51772s\t ll change 0.00697\n",
      "  Iteration 6\t time lapse 1.59487s\t ll change 0.00505\n",
      "  Iteration 7\t time lapse 1.56888s\t ll change 0.00386\n",
      "  Iteration 8\t time lapse 1.52916s\t ll change 0.00307\n",
      "  Iteration 9\t time lapse 1.57117s\t ll change 0.00253\n",
      "  Iteration 10\t time lapse 1.54517s\t ll change 0.00214\n",
      "  Iteration 11\t time lapse 1.60089s\t ll change 0.00185\n",
      "  Iteration 12\t time lapse 1.54064s\t ll change 0.00162\n",
      "  Iteration 13\t time lapse 1.51552s\t ll change 0.00145\n",
      "  Iteration 14\t time lapse 1.64668s\t ll change 0.00132\n",
      "  Iteration 15\t time lapse 1.51291s\t ll change 0.00120\n",
      "Initialization converged: False\t time lapse 27.52118s\t ll 2.79231\n"
     ]
    },
    {
     "name": "stderr",
     "output_type": "stream",
     "text": [
      "/home/av/.local/lib/python3.10/site-packages/sklearn/mixture/_base.py:274: ConvergenceWarning: Initialization 1 did not converge. Try different init parameters, or increase max_iter, tol or check for degenerate data.\n",
      "  warnings.warn(\n"
     ]
    },
    {
     "name": "stdout",
     "output_type": "stream",
     "text": [
      "Initialization 0\n",
      "  Iteration 1\t time lapse 5.43326s\t ll change inf\n",
      "  Iteration 2\t time lapse 1.86323s\t ll change 0.43885\n",
      "  Iteration 3\t time lapse 1.71992s\t ll change 0.01921\n",
      "  Iteration 4\t time lapse 1.74163s\t ll change 0.01099\n",
      "  Iteration 5\t time lapse 1.66647s\t ll change 0.00757\n",
      "  Iteration 6\t time lapse 1.66384s\t ll change 0.00566\n",
      "  Iteration 7\t time lapse 1.77410s\t ll change 0.00444\n",
      "  Iteration 8\t time lapse 1.77535s\t ll change 0.00362\n",
      "  Iteration 9\t time lapse 1.72246s\t ll change 0.00304\n",
      "  Iteration 10\t time lapse 1.67915s\t ll change 0.00265\n",
      "  Iteration 11\t time lapse 1.74992s\t ll change 0.00239\n",
      "  Iteration 12\t time lapse 1.76300s\t ll change 0.00220\n",
      "  Iteration 13\t time lapse 1.73517s\t ll change 0.00208\n",
      "  Iteration 14\t time lapse 1.71276s\t ll change 0.00199\n",
      "  Iteration 15\t time lapse 1.76999s\t ll change 0.00190\n",
      "Initialization converged: False\t time lapse 29.77037s\t ll 2.97413\n"
     ]
    },
    {
     "name": "stderr",
     "output_type": "stream",
     "text": [
      "/home/av/.local/lib/python3.10/site-packages/sklearn/mixture/_base.py:274: ConvergenceWarning: Initialization 1 did not converge. Try different init parameters, or increase max_iter, tol or check for degenerate data.\n",
      "  warnings.warn(\n"
     ]
    },
    {
     "name": "stdout",
     "output_type": "stream",
     "text": [
      "Initialization 0\n",
      "  Iteration 1\t time lapse 6.31364s\t ll change inf\n",
      "  Iteration 2\t time lapse 1.88643s\t ll change 0.43828\n",
      "  Iteration 3\t time lapse 1.86352s\t ll change 0.02408\n",
      "  Iteration 4\t time lapse 1.92762s\t ll change 0.01625\n",
      "  Iteration 5\t time lapse 1.75611s\t ll change 0.01372\n",
      "  Iteration 6\t time lapse 1.85311s\t ll change 0.01164\n",
      "  Iteration 7\t time lapse 1.80195s\t ll change 0.00888\n",
      "  Iteration 8\t time lapse 1.76571s\t ll change 0.00611\n",
      "  Iteration 9\t time lapse 1.82512s\t ll change 0.00408\n",
      "  Iteration 10\t time lapse 1.93329s\t ll change 0.00290\n",
      "  Iteration 11\t time lapse 1.75313s\t ll change 0.00225\n",
      "  Iteration 12\t time lapse 1.76285s\t ll change 0.00185\n",
      "  Iteration 13\t time lapse 1.78931s\t ll change 0.00159\n",
      "  Iteration 14\t time lapse 1.88529s\t ll change 0.00141\n",
      "  Iteration 15\t time lapse 1.85309s\t ll change 0.00129\n",
      "Initialization converged: False\t time lapse 31.97056s\t ll 2.03691\n"
     ]
    },
    {
     "name": "stderr",
     "output_type": "stream",
     "text": [
      "/home/av/.local/lib/python3.10/site-packages/sklearn/mixture/_base.py:274: ConvergenceWarning: Initialization 1 did not converge. Try different init parameters, or increase max_iter, tol or check for degenerate data.\n",
      "  warnings.warn(\n"
     ]
    },
    {
     "name": "stdout",
     "output_type": "stream",
     "text": [
      "Initialization 0\n",
      "  Iteration 1\t time lapse 6.06625s\t ll change inf\n",
      "  Iteration 2\t time lapse 1.59411s\t ll change 0.37443\n",
      "  Iteration 3\t time lapse 1.63173s\t ll change 0.01931\n",
      "  Iteration 4\t time lapse 1.61898s\t ll change 0.01192\n",
      "  Iteration 5\t time lapse 1.64752s\t ll change 0.00909\n",
      "  Iteration 6\t time lapse 1.55464s\t ll change 0.00762\n",
      "  Iteration 7\t time lapse 1.62569s\t ll change 0.00671\n",
      "  Iteration 8\t time lapse 1.61535s\t ll change 0.00600\n",
      "  Iteration 9\t time lapse 1.57981s\t ll change 0.00535\n",
      "  Iteration 10\t time lapse 1.64171s\t ll change 0.00478\n",
      "  Iteration 11\t time lapse 1.57940s\t ll change 0.00430\n",
      "  Iteration 12\t time lapse 1.61352s\t ll change 0.00392\n",
      "  Iteration 13\t time lapse 1.55144s\t ll change 0.00360\n",
      "  Iteration 14\t time lapse 1.65861s\t ll change 0.00335\n",
      "  Iteration 15\t time lapse 1.70951s\t ll change 0.00314\n",
      "Initialization converged: False\t time lapse 28.68870s\t ll 2.66109\n"
     ]
    },
    {
     "name": "stderr",
     "output_type": "stream",
     "text": [
      "/home/av/.local/lib/python3.10/site-packages/sklearn/mixture/_base.py:274: ConvergenceWarning: Initialization 1 did not converge. Try different init parameters, or increase max_iter, tol or check for degenerate data.\n",
      "  warnings.warn(\n"
     ]
    },
    {
     "name": "stdout",
     "output_type": "stream",
     "text": [
      "Initialization 0\n",
      "  Iteration 1\t time lapse 6.05135s\t ll change inf\n",
      "  Iteration 2\t time lapse 1.53718s\t ll change 0.49359\n",
      "  Iteration 3\t time lapse 1.44103s\t ll change 0.01914\n",
      "  Iteration 4\t time lapse 1.55477s\t ll change 0.01170\n",
      "  Iteration 5\t time lapse 1.46093s\t ll change 0.00872\n",
      "  Iteration 6\t time lapse 1.54900s\t ll change 0.00708\n",
      "  Iteration 7\t time lapse 1.47139s\t ll change 0.00601\n",
      "  Iteration 8\t time lapse 1.51079s\t ll change 0.00520\n",
      "  Iteration 9\t time lapse 1.45922s\t ll change 0.00453\n",
      "  Iteration 10\t time lapse 1.56297s\t ll change 0.00394\n",
      "  Iteration 11\t time lapse 1.48472s\t ll change 0.00338\n",
      "  Iteration 12\t time lapse 1.68959s\t ll change 0.00288\n",
      "  Iteration 13\t time lapse 1.43140s\t ll change 0.00245\n",
      "  Iteration 14\t time lapse 1.54635s\t ll change 0.00208\n",
      "  Iteration 15\t time lapse 1.43967s\t ll change 0.00179\n",
      "Initialization converged: False\t time lapse 27.19080s\t ll 2.11328\n"
     ]
    },
    {
     "name": "stderr",
     "output_type": "stream",
     "text": [
      "/home/av/.local/lib/python3.10/site-packages/sklearn/mixture/_base.py:274: ConvergenceWarning: Initialization 1 did not converge. Try different init parameters, or increase max_iter, tol or check for degenerate data.\n",
      "  warnings.warn(\n"
     ]
    },
    {
     "name": "stdout",
     "output_type": "stream",
     "text": [
      "Initialization 0\n",
      "  Iteration 1\t time lapse 5.78160s\t ll change inf\n",
      "  Iteration 2\t time lapse 1.63398s\t ll change 0.05672\n",
      "  Iteration 3\t time lapse 1.55569s\t ll change 0.01887\n",
      "  Iteration 4\t time lapse 1.57389s\t ll change 0.01076\n",
      "  Iteration 5\t time lapse 1.64167s\t ll change 0.00761\n",
      "  Iteration 6\t time lapse 1.56135s\t ll change 0.00591\n",
      "  Iteration 7\t time lapse 1.57878s\t ll change 0.00475\n",
      "  Iteration 8\t time lapse 1.62965s\t ll change 0.00389\n",
      "  Iteration 9\t time lapse 1.65015s\t ll change 0.00326\n",
      "  Iteration 10\t time lapse 1.59412s\t ll change 0.00278\n",
      "  Iteration 11\t time lapse 1.53923s\t ll change 0.00239\n",
      "  Iteration 12\t time lapse 1.59016s\t ll change 0.00206\n",
      "  Iteration 13\t time lapse 1.51499s\t ll change 0.00180\n",
      "  Iteration 14\t time lapse 1.59471s\t ll change 0.00159\n",
      "  Iteration 15\t time lapse 1.64125s\t ll change 0.00144\n",
      "Initialization converged: False\t time lapse 28.08162s\t ll 2.86620\n"
     ]
    },
    {
     "name": "stderr",
     "output_type": "stream",
     "text": [
      "/home/av/.local/lib/python3.10/site-packages/sklearn/mixture/_base.py:274: ConvergenceWarning: Initialization 1 did not converge. Try different init parameters, or increase max_iter, tol or check for degenerate data.\n",
      "  warnings.warn(\n",
      "100%|██████████| 600/600 [00:52<00:00, 11.39it/s]\n",
      "/home/av/IST/slp-labs/LAB2/pf_tools.py:89: UserWarning: The feature directory already exists, and no new feature extraction will be performed.\n",
      "  warnings.warn(\"The feature directory already exists, and no new feature extraction will be performed.\")\n"
     ]
    },
    {
     "name": "stdout",
     "output_type": "stream",
     "text": [
      "Accuracy Score = 0.6183333333333333\n",
      "\n",
      "\n",
      "Combination 52\n",
      "Initialization 0\n",
      "  Iteration 1\t time lapse 1.68983s\t ll change inf\n",
      "  Iteration 2\t time lapse 0.60648s\t ll change 0.51648\n",
      "  Iteration 3\t time lapse 0.62380s\t ll change 0.01431\n",
      "  Iteration 4\t time lapse 0.59987s\t ll change 0.01039\n",
      "  Iteration 5\t time lapse 0.58967s\t ll change 0.00917\n",
      "  Iteration 6\t time lapse 0.62371s\t ll change 0.00812\n",
      "  Iteration 7\t time lapse 0.58461s\t ll change 0.00667\n",
      "  Iteration 8\t time lapse 0.62968s\t ll change 0.00510\n",
      "  Iteration 9\t time lapse 0.60069s\t ll change 0.00377\n",
      "  Iteration 10\t time lapse 0.58839s\t ll change 0.00279\n",
      "  Iteration 11\t time lapse 0.59149s\t ll change 0.00211\n",
      "  Iteration 12\t time lapse 0.58659s\t ll change 0.00163\n",
      "  Iteration 13\t time lapse 0.63140s\t ll change 0.00129\n",
      "  Iteration 14\t time lapse 0.60469s\t ll change 0.00103\n",
      "  Iteration 15\t time lapse 0.58134s\t ll change 0.00083\n",
      "Initialization converged: True\t time lapse 10.13230s\t ll 2.56154\n",
      "Initialization 0\n",
      "  Iteration 1\t time lapse 1.65496s\t ll change inf\n",
      "  Iteration 2\t time lapse 0.64035s\t ll change 0.65870\n",
      "  Iteration 3\t time lapse 0.63375s\t ll change 0.01742\n",
      "  Iteration 4\t time lapse 0.61846s\t ll change 0.01021\n",
      "  Iteration 5\t time lapse 0.67106s\t ll change 0.00643\n",
      "  Iteration 6\t time lapse 0.63779s\t ll change 0.00410\n",
      "  Iteration 7\t time lapse 0.61792s\t ll change 0.00266\n",
      "  Iteration 8\t time lapse 0.63755s\t ll change 0.00178\n",
      "  Iteration 9\t time lapse 0.63424s\t ll change 0.00124\n",
      "  Iteration 10\t time lapse 0.66045s\t ll change 0.00091\n",
      "Initialization converged: True\t time lapse 7.40660s\t ll 2.76920\n",
      "Initialization 0\n",
      "  Iteration 1\t time lapse 1.81308s\t ll change inf\n",
      "  Iteration 2\t time lapse 0.63139s\t ll change 0.60381\n",
      "  Iteration 3\t time lapse 0.66488s\t ll change 0.02263\n",
      "  Iteration 4\t time lapse 0.64209s\t ll change 0.01463\n",
      "  Iteration 5\t time lapse 0.62435s\t ll change 0.01037\n",
      "  Iteration 6\t time lapse 0.63948s\t ll change 0.00737\n",
      "  Iteration 7\t time lapse 0.64898s\t ll change 0.00508\n",
      "  Iteration 8\t time lapse 0.63785s\t ll change 0.00340\n",
      "  Iteration 9\t time lapse 0.63029s\t ll change 0.00227\n",
      "  Iteration 10\t time lapse 0.62642s\t ll change 0.00156\n",
      "  Iteration 11\t time lapse 0.67948s\t ll change 0.00111\n",
      "  Iteration 12\t time lapse 0.63460s\t ll change 0.00082\n",
      "Initialization converged: True\t time lapse 8.87296s\t ll 1.77261\n",
      "Initialization 0\n",
      "  Iteration 1\t time lapse 1.31030s\t ll change inf\n",
      "  Iteration 2\t time lapse 0.58488s\t ll change 0.55446\n",
      "  Iteration 3\t time lapse 0.58851s\t ll change 0.01823\n",
      "  Iteration 4\t time lapse 0.58692s\t ll change 0.01136\n",
      "  Iteration 5\t time lapse 0.60457s\t ll change 0.00748\n",
      "  Iteration 6\t time lapse 0.58831s\t ll change 0.00493\n",
      "  Iteration 7\t time lapse 0.58692s\t ll change 0.00325\n",
      "  Iteration 8\t time lapse 0.59033s\t ll change 0.00216\n",
      "  Iteration 9\t time lapse 0.58284s\t ll change 0.00146\n",
      "  Iteration 10\t time lapse 0.62101s\t ll change 0.00100\n",
      "Initialization converged: True\t time lapse 6.64467s\t ll 2.44497\n",
      "Initialization 0\n",
      "  Iteration 1\t time lapse 1.41403s\t ll change inf\n",
      "  Iteration 2\t time lapse 0.53954s\t ll change 0.71024\n",
      "  Iteration 3\t time lapse 0.54438s\t ll change 0.02035\n",
      "  Iteration 4\t time lapse 0.54062s\t ll change 0.01443\n",
      "  Iteration 5\t time lapse 0.56694s\t ll change 0.01151\n",
      "  Iteration 6\t time lapse 0.54795s\t ll change 0.00935\n",
      "  Iteration 7\t time lapse 0.54091s\t ll change 0.00744\n",
      "  Iteration 8\t time lapse 0.54701s\t ll change 0.00572\n",
      "  Iteration 9\t time lapse 0.53157s\t ll change 0.00425\n",
      "  Iteration 10\t time lapse 0.53144s\t ll change 0.00309\n",
      "  Iteration 11\t time lapse 0.53458s\t ll change 0.00224\n",
      "  Iteration 12\t time lapse 0.55964s\t ll change 0.00164\n",
      "  Iteration 13\t time lapse 0.54486s\t ll change 0.00122\n",
      "  Iteration 14\t time lapse 0.55276s\t ll change 0.00093\n",
      "Initialization converged: True\t time lapse 8.49628s\t ll 1.92211\n",
      "Initialization 0\n",
      "  Iteration 1\t time lapse 1.39287s\t ll change inf\n",
      "  Iteration 2\t time lapse 0.57028s\t ll change 0.03701\n",
      "  Iteration 3\t time lapse 0.58164s\t ll change 0.01317\n",
      "  Iteration 4\t time lapse 0.58284s\t ll change 0.00830\n",
      "  Iteration 5\t time lapse 0.56641s\t ll change 0.00635\n",
      "  Iteration 6\t time lapse 0.59022s\t ll change 0.00532\n",
      "  Iteration 7\t time lapse 0.56773s\t ll change 0.00476\n",
      "  Iteration 8\t time lapse 0.56772s\t ll change 0.00448\n",
      "  Iteration 9\t time lapse 0.57082s\t ll change 0.00437\n",
      "  Iteration 10\t time lapse 0.57429s\t ll change 0.00427\n",
      "  Iteration 11\t time lapse 0.59017s\t ll change 0.00396\n",
      "  Iteration 12\t time lapse 0.56665s\t ll change 0.00332\n",
      "  Iteration 13\t time lapse 0.56720s\t ll change 0.00250\n",
      "  Iteration 14\t time lapse 0.56670s\t ll change 0.00174\n",
      "  Iteration 15\t time lapse 0.56731s\t ll change 0.00117\n",
      "Initialization converged: False\t time lapse 9.42291s\t ll 2.63198\n"
     ]
    },
    {
     "name": "stderr",
     "output_type": "stream",
     "text": [
      "/home/av/.local/lib/python3.10/site-packages/sklearn/mixture/_base.py:274: ConvergenceWarning: Initialization 1 did not converge. Try different init parameters, or increase max_iter, tol or check for degenerate data.\n",
      "  warnings.warn(\n",
      "100%|██████████| 600/600 [00:20<00:00, 29.71it/s]\n",
      "/home/av/IST/slp-labs/LAB2/pf_tools.py:89: UserWarning: The feature directory already exists, and no new feature extraction will be performed.\n",
      "  warnings.warn(\"The feature directory already exists, and no new feature extraction will be performed.\")\n"
     ]
    },
    {
     "name": "stdout",
     "output_type": "stream",
     "text": [
      "Accuracy Score = 0.5583333333333333\n",
      "\n",
      "\n",
      "Combination 53\n",
      "Initialization 0\n",
      "  Iteration 1\t time lapse 3.10411s\t ll change inf\n",
      "  Iteration 2\t time lapse 0.96713s\t ll change 0.49886\n",
      "  Iteration 3\t time lapse 0.97764s\t ll change 0.01703\n",
      "  Iteration 4\t time lapse 1.00183s\t ll change 0.01001\n",
      "  Iteration 5\t time lapse 1.04935s\t ll change 0.00714\n",
      "  Iteration 6\t time lapse 0.96920s\t ll change 0.00562\n",
      "  Iteration 7\t time lapse 0.96980s\t ll change 0.00469\n",
      "  Iteration 8\t time lapse 0.99496s\t ll change 0.00409\n",
      "  Iteration 9\t time lapse 0.97537s\t ll change 0.00370\n",
      "  Iteration 10\t time lapse 0.97556s\t ll change 0.00340\n",
      "  Iteration 11\t time lapse 0.98236s\t ll change 0.00310\n",
      "  Iteration 12\t time lapse 0.97300s\t ll change 0.00283\n",
      "  Iteration 13\t time lapse 1.01508s\t ll change 0.00262\n",
      "  Iteration 14\t time lapse 1.01488s\t ll change 0.00246\n",
      "  Iteration 15\t time lapse 0.98991s\t ll change 0.00226\n",
      "Initialization converged: False\t time lapse 16.96057s\t ll 2.69660\n"
     ]
    },
    {
     "name": "stderr",
     "output_type": "stream",
     "text": [
      "/home/av/.local/lib/python3.10/site-packages/sklearn/mixture/_base.py:274: ConvergenceWarning: Initialization 1 did not converge. Try different init parameters, or increase max_iter, tol or check for degenerate data.\n",
      "  warnings.warn(\n"
     ]
    },
    {
     "name": "stdout",
     "output_type": "stream",
     "text": [
      "Initialization 0\n",
      "  Iteration 1\t time lapse 4.63504s\t ll change inf\n",
      "  Iteration 2\t time lapse 1.03887s\t ll change 0.58787\n",
      "  Iteration 3\t time lapse 1.09416s\t ll change 0.02001\n",
      "  Iteration 4\t time lapse 1.08458s\t ll change 0.01250\n",
      "  Iteration 5\t time lapse 1.22840s\t ll change 0.00884\n",
      "  Iteration 6\t time lapse 1.08177s\t ll change 0.00653\n",
      "  Iteration 7\t time lapse 1.09298s\t ll change 0.00495\n",
      "  Iteration 8\t time lapse 1.01216s\t ll change 0.00385\n",
      "  Iteration 9\t time lapse 1.06547s\t ll change 0.00311\n",
      "  Iteration 10\t time lapse 1.02298s\t ll change 0.00261\n",
      "  Iteration 11\t time lapse 1.30732s\t ll change 0.00225\n",
      "  Iteration 12\t time lapse 1.08982s\t ll change 0.00192\n",
      "  Iteration 13\t time lapse 1.12653s\t ll change 0.00157\n",
      "  Iteration 14\t time lapse 1.07485s\t ll change 0.00125\n",
      "  Iteration 15\t time lapse 1.08579s\t ll change 0.00100\n",
      "Initialization converged: False\t time lapse 20.04085s\t ll 2.89898\n"
     ]
    },
    {
     "name": "stderr",
     "output_type": "stream",
     "text": [
      "/home/av/.local/lib/python3.10/site-packages/sklearn/mixture/_base.py:274: ConvergenceWarning: Initialization 1 did not converge. Try different init parameters, or increase max_iter, tol or check for degenerate data.\n",
      "  warnings.warn(\n"
     ]
    },
    {
     "name": "stdout",
     "output_type": "stream",
     "text": [
      "Initialization 0\n",
      "  Iteration 1\t time lapse 2.95937s\t ll change inf\n",
      "  Iteration 2\t time lapse 1.07581s\t ll change 0.50268\n",
      "  Iteration 3\t time lapse 1.11890s\t ll change 0.01894\n",
      "  Iteration 4\t time lapse 1.15291s\t ll change 0.01208\n",
      "  Iteration 5\t time lapse 1.17292s\t ll change 0.00917\n",
      "  Iteration 6\t time lapse 1.12208s\t ll change 0.00788\n",
      "  Iteration 7\t time lapse 1.13781s\t ll change 0.00752\n",
      "  Iteration 8\t time lapse 1.11925s\t ll change 0.00745\n",
      "  Iteration 9\t time lapse 1.09915s\t ll change 0.00690\n",
      "  Iteration 10\t time lapse 1.09885s\t ll change 0.00573\n",
      "  Iteration 11\t time lapse 1.13282s\t ll change 0.00448\n",
      "  Iteration 12\t time lapse 1.10806s\t ll change 0.00354\n",
      "  Iteration 13\t time lapse 1.16967s\t ll change 0.00293\n",
      "  Iteration 14\t time lapse 1.13884s\t ll change 0.00253\n",
      "  Iteration 15\t time lapse 1.20118s\t ll change 0.00225\n",
      "Initialization converged: False\t time lapse 18.80800s\t ll 1.92483\n"
     ]
    },
    {
     "name": "stderr",
     "output_type": "stream",
     "text": [
      "/home/av/.local/lib/python3.10/site-packages/sklearn/mixture/_base.py:274: ConvergenceWarning: Initialization 1 did not converge. Try different init parameters, or increase max_iter, tol or check for degenerate data.\n",
      "  warnings.warn(\n"
     ]
    },
    {
     "name": "stdout",
     "output_type": "stream",
     "text": [
      "Initialization 0\n",
      "  Iteration 1\t time lapse 3.34614s\t ll change inf\n",
      "  Iteration 2\t time lapse 0.99983s\t ll change 0.39253\n",
      "  Iteration 3\t time lapse 1.00632s\t ll change 0.01941\n",
      "  Iteration 4\t time lapse 0.98074s\t ll change 0.01352\n",
      "  Iteration 5\t time lapse 1.03039s\t ll change 0.01101\n",
      "  Iteration 6\t time lapse 1.02470s\t ll change 0.00930\n",
      "  Iteration 7\t time lapse 1.05524s\t ll change 0.00790\n",
      "  Iteration 8\t time lapse 0.98077s\t ll change 0.00670\n",
      "  Iteration 9\t time lapse 0.97253s\t ll change 0.00566\n",
      "  Iteration 10\t time lapse 1.02325s\t ll change 0.00473\n",
      "  Iteration 11\t time lapse 1.02141s\t ll change 0.00388\n",
      "  Iteration 12\t time lapse 0.99770s\t ll change 0.00313\n",
      "  Iteration 13\t time lapse 0.99379s\t ll change 0.00253\n",
      "  Iteration 14\t time lapse 0.99013s\t ll change 0.00208\n",
      "  Iteration 15\t time lapse 0.98849s\t ll change 0.00175\n",
      "Initialization converged: False\t time lapse 17.41184s\t ll 2.56551\n"
     ]
    },
    {
     "name": "stderr",
     "output_type": "stream",
     "text": [
      "/home/av/.local/lib/python3.10/site-packages/sklearn/mixture/_base.py:274: ConvergenceWarning: Initialization 1 did not converge. Try different init parameters, or increase max_iter, tol or check for degenerate data.\n",
      "  warnings.warn(\n"
     ]
    },
    {
     "name": "stdout",
     "output_type": "stream",
     "text": [
      "Initialization 0\n",
      "  Iteration 1\t time lapse 2.77191s\t ll change inf\n",
      "  Iteration 2\t time lapse 0.94035s\t ll change 0.62850\n",
      "  Iteration 3\t time lapse 0.91332s\t ll change 0.01962\n",
      "  Iteration 4\t time lapse 0.96534s\t ll change 0.01341\n",
      "  Iteration 5\t time lapse 0.93955s\t ll change 0.01058\n",
      "  Iteration 6\t time lapse 0.97778s\t ll change 0.00856\n",
      "  Iteration 7\t time lapse 0.93103s\t ll change 0.00685\n",
      "  Iteration 8\t time lapse 0.99481s\t ll change 0.00544\n",
      "  Iteration 9\t time lapse 1.01329s\t ll change 0.00438\n",
      "  Iteration 10\t time lapse 0.98637s\t ll change 0.00363\n",
      "  Iteration 11\t time lapse 1.05857s\t ll change 0.00311\n",
      "  Iteration 12\t time lapse 1.00389s\t ll change 0.00276\n",
      "  Iteration 13\t time lapse 1.01633s\t ll change 0.00251\n",
      "  Iteration 14\t time lapse 0.98218s\t ll change 0.00233\n",
      "  Iteration 15\t time lapse 0.99717s\t ll change 0.00219\n",
      "Initialization converged: False\t time lapse 16.49231s\t ll 2.02598\n"
     ]
    },
    {
     "name": "stderr",
     "output_type": "stream",
     "text": [
      "/home/av/.local/lib/python3.10/site-packages/sklearn/mixture/_base.py:274: ConvergenceWarning: Initialization 1 did not converge. Try different init parameters, or increase max_iter, tol or check for degenerate data.\n",
      "  warnings.warn(\n"
     ]
    },
    {
     "name": "stdout",
     "output_type": "stream",
     "text": [
      "Initialization 0\n",
      "  Iteration 1\t time lapse 4.32266s\t ll change inf\n",
      "  Iteration 2\t time lapse 0.96415s\t ll change 0.05145\n",
      "  Iteration 3\t time lapse 1.00323s\t ll change 0.01952\n",
      "  Iteration 4\t time lapse 0.98677s\t ll change 0.01229\n",
      "  Iteration 5\t time lapse 1.00092s\t ll change 0.00895\n",
      "  Iteration 6\t time lapse 1.01637s\t ll change 0.00691\n",
      "  Iteration 7\t time lapse 0.96147s\t ll change 0.00553\n",
      "  Iteration 8\t time lapse 1.02560s\t ll change 0.00455\n",
      "  Iteration 9\t time lapse 1.10073s\t ll change 0.00383\n",
      "  Iteration 10\t time lapse 1.04957s\t ll change 0.00326\n",
      "  Iteration 11\t time lapse 1.00788s\t ll change 0.00279\n",
      "  Iteration 12\t time lapse 1.00796s\t ll change 0.00238\n",
      "  Iteration 13\t time lapse 1.01853s\t ll change 0.00202\n",
      "  Iteration 14\t time lapse 1.02076s\t ll change 0.00170\n",
      "  Iteration 15\t time lapse 0.97576s\t ll change 0.00141\n",
      "Initialization converged: False\t time lapse 18.46278s\t ll 2.78822\n"
     ]
    },
    {
     "name": "stderr",
     "output_type": "stream",
     "text": [
      "/home/av/.local/lib/python3.10/site-packages/sklearn/mixture/_base.py:274: ConvergenceWarning: Initialization 1 did not converge. Try different init parameters, or increase max_iter, tol or check for degenerate data.\n",
      "  warnings.warn(\n",
      "100%|██████████| 600/600 [00:32<00:00, 18.55it/s]\n",
      "/home/av/IST/slp-labs/LAB2/pf_tools.py:89: UserWarning: The feature directory already exists, and no new feature extraction will be performed.\n",
      "  warnings.warn(\"The feature directory already exists, and no new feature extraction will be performed.\")\n"
     ]
    },
    {
     "name": "stdout",
     "output_type": "stream",
     "text": [
      "Accuracy Score = 0.5866666666666667\n",
      "\n",
      "\n",
      "Combination 54\n",
      "Initialization 0\n",
      "  Iteration 1\t time lapse 5.57775s\t ll change inf\n",
      "  Iteration 2\t time lapse 1.62981s\t ll change 0.43756\n",
      "  Iteration 3\t time lapse 1.62541s\t ll change 0.01906\n",
      "  Iteration 4\t time lapse 1.62254s\t ll change 0.01073\n",
      "  Iteration 5\t time lapse 1.58113s\t ll change 0.00738\n",
      "  Iteration 6\t time lapse 1.61275s\t ll change 0.00564\n",
      "  Iteration 7\t time lapse 1.59646s\t ll change 0.00454\n",
      "  Iteration 8\t time lapse 1.70571s\t ll change 0.00373\n",
      "  Iteration 9\t time lapse 1.55728s\t ll change 0.00306\n",
      "  Iteration 10\t time lapse 1.60699s\t ll change 0.00251\n",
      "  Iteration 11\t time lapse 1.56062s\t ll change 0.00208\n",
      "  Iteration 12\t time lapse 1.64525s\t ll change 0.00176\n",
      "  Iteration 13\t time lapse 1.61231s\t ll change 0.00153\n",
      "  Iteration 14\t time lapse 1.52502s\t ll change 0.00136\n",
      "  Iteration 15\t time lapse 1.56695s\t ll change 0.00124\n",
      "Initialization converged: False\t time lapse 28.02610s\t ll 2.78601\n"
     ]
    },
    {
     "name": "stderr",
     "output_type": "stream",
     "text": [
      "/home/av/.local/lib/python3.10/site-packages/sklearn/mixture/_base.py:274: ConvergenceWarning: Initialization 1 did not converge. Try different init parameters, or increase max_iter, tol or check for degenerate data.\n",
      "  warnings.warn(\n"
     ]
    },
    {
     "name": "stdout",
     "output_type": "stream",
     "text": [
      "Initialization 0\n",
      "  Iteration 1\t time lapse 7.96949s\t ll change inf\n",
      "  Iteration 2\t time lapse 1.80586s\t ll change 0.35498\n",
      "  Iteration 3\t time lapse 1.77040s\t ll change 0.01777\n",
      "  Iteration 4\t time lapse 1.71209s\t ll change 0.01001\n",
      "  Iteration 5\t time lapse 1.76468s\t ll change 0.00704\n",
      "  Iteration 6\t time lapse 1.73493s\t ll change 0.00549\n",
      "  Iteration 7\t time lapse 1.75289s\t ll change 0.00450\n",
      "  Iteration 8\t time lapse 1.67384s\t ll change 0.00377\n",
      "  Iteration 9\t time lapse 1.82565s\t ll change 0.00320\n",
      "  Iteration 10\t time lapse 1.74730s\t ll change 0.00277\n",
      "  Iteration 11\t time lapse 1.76236s\t ll change 0.00246\n",
      "  Iteration 12\t time lapse 1.67767s\t ll change 0.00223\n",
      "  Iteration 13\t time lapse 1.83325s\t ll change 0.00205\n",
      "  Iteration 14\t time lapse 1.78515s\t ll change 0.00190\n",
      "  Iteration 15\t time lapse 1.76090s\t ll change 0.00176\n",
      "Initialization converged: False\t time lapse 32.57657s\t ll 2.96905\n"
     ]
    },
    {
     "name": "stderr",
     "output_type": "stream",
     "text": [
      "/home/av/.local/lib/python3.10/site-packages/sklearn/mixture/_base.py:274: ConvergenceWarning: Initialization 1 did not converge. Try different init parameters, or increase max_iter, tol or check for degenerate data.\n",
      "  warnings.warn(\n"
     ]
    },
    {
     "name": "stdout",
     "output_type": "stream",
     "text": [
      "Initialization 0\n",
      "  Iteration 1\t time lapse 6.08944s\t ll change inf\n",
      "  Iteration 2\t time lapse 1.90253s\t ll change 0.42652\n",
      "  Iteration 3\t time lapse 1.90880s\t ll change 0.02785\n",
      "  Iteration 4\t time lapse 1.91819s\t ll change 0.02014\n",
      "  Iteration 5\t time lapse 1.85317s\t ll change 0.01504\n",
      "  Iteration 6\t time lapse 1.80554s\t ll change 0.01006\n",
      "  Iteration 7\t time lapse 1.95704s\t ll change 0.00653\n",
      "  Iteration 8\t time lapse 1.91905s\t ll change 0.00457\n",
      "  Iteration 9\t time lapse 1.78746s\t ll change 0.00347\n",
      "  Iteration 10\t time lapse 1.78867s\t ll change 0.00278\n",
      "  Iteration 11\t time lapse 1.85803s\t ll change 0.00232\n",
      "  Iteration 12\t time lapse 1.89612s\t ll change 0.00199\n",
      "  Iteration 13\t time lapse 1.82710s\t ll change 0.00174\n",
      "  Iteration 14\t time lapse 1.75511s\t ll change 0.00154\n",
      "  Iteration 15\t time lapse 1.86945s\t ll change 0.00135\n",
      "Initialization converged: False\t time lapse 32.13583s\t ll 2.04134\n"
     ]
    },
    {
     "name": "stderr",
     "output_type": "stream",
     "text": [
      "/home/av/.local/lib/python3.10/site-packages/sklearn/mixture/_base.py:274: ConvergenceWarning: Initialization 1 did not converge. Try different init parameters, or increase max_iter, tol or check for degenerate data.\n",
      "  warnings.warn(\n"
     ]
    },
    {
     "name": "stdout",
     "output_type": "stream",
     "text": [
      "Initialization 0\n",
      "  Iteration 1\t time lapse 5.46309s\t ll change inf\n",
      "  Iteration 2\t time lapse 1.76010s\t ll change 0.37472\n",
      "  Iteration 3\t time lapse 1.66812s\t ll change 0.01832\n",
      "  Iteration 4\t time lapse 1.61482s\t ll change 0.01060\n",
      "  Iteration 5\t time lapse 1.73166s\t ll change 0.00759\n",
      "  Iteration 6\t time lapse 1.68253s\t ll change 0.00605\n",
      "  Iteration 7\t time lapse 1.55486s\t ll change 0.00517\n",
      "  Iteration 8\t time lapse 1.62224s\t ll change 0.00464\n",
      "  Iteration 9\t time lapse 1.60534s\t ll change 0.00423\n",
      "  Iteration 10\t time lapse 1.59886s\t ll change 0.00386\n",
      "  Iteration 11\t time lapse 1.62640s\t ll change 0.00351\n",
      "  Iteration 12\t time lapse 1.58233s\t ll change 0.00323\n",
      "  Iteration 13\t time lapse 1.58551s\t ll change 0.00302\n",
      "  Iteration 14\t time lapse 1.59893s\t ll change 0.00285\n",
      "  Iteration 15\t time lapse 1.63063s\t ll change 0.00273\n",
      "Initialization converged: False\t time lapse 28.32554s\t ll 2.65410\n"
     ]
    },
    {
     "name": "stderr",
     "output_type": "stream",
     "text": [
      "/home/av/.local/lib/python3.10/site-packages/sklearn/mixture/_base.py:274: ConvergenceWarning: Initialization 1 did not converge. Try different init parameters, or increase max_iter, tol or check for degenerate data.\n",
      "  warnings.warn(\n"
     ]
    },
    {
     "name": "stdout",
     "output_type": "stream",
     "text": [
      "Initialization 0\n",
      "  Iteration 1\t time lapse 5.51910s\t ll change inf\n",
      "  Iteration 2\t time lapse 1.53082s\t ll change 0.54582\n",
      "  Iteration 3\t time lapse 1.53915s\t ll change 0.02015\n",
      "  Iteration 4\t time lapse 1.42400s\t ll change 0.01244\n",
      "  Iteration 5\t time lapse 1.49682s\t ll change 0.00919\n",
      "  Iteration 6\t time lapse 1.52351s\t ll change 0.00731\n",
      "  Iteration 7\t time lapse 1.42864s\t ll change 0.00597\n",
      "  Iteration 8\t time lapse 1.56990s\t ll change 0.00490\n",
      "  Iteration 9\t time lapse 1.45203s\t ll change 0.00400\n",
      "  Iteration 10\t time lapse 1.52876s\t ll change 0.00327\n",
      "  Iteration 11\t time lapse 1.47502s\t ll change 0.00272\n",
      "  Iteration 12\t time lapse 1.51564s\t ll change 0.00230\n",
      "  Iteration 13\t time lapse 1.54248s\t ll change 0.00201\n",
      "  Iteration 14\t time lapse 1.49440s\t ll change 0.00181\n",
      "  Iteration 15\t time lapse 1.44143s\t ll change 0.00168\n",
      "Initialization converged: False\t time lapse 26.48217s\t ll 2.11417\n"
     ]
    },
    {
     "name": "stderr",
     "output_type": "stream",
     "text": [
      "/home/av/.local/lib/python3.10/site-packages/sklearn/mixture/_base.py:274: ConvergenceWarning: Initialization 1 did not converge. Try different init parameters, or increase max_iter, tol or check for degenerate data.\n",
      "  warnings.warn(\n"
     ]
    },
    {
     "name": "stdout",
     "output_type": "stream",
     "text": [
      "Initialization 0\n",
      "  Iteration 1\t time lapse 6.21790s\t ll change inf\n",
      "  Iteration 2\t time lapse 1.58713s\t ll change 0.05915\n",
      "  Iteration 3\t time lapse 1.55570s\t ll change 0.02120\n",
      "  Iteration 4\t time lapse 1.60509s\t ll change 0.01294\n",
      "  Iteration 5\t time lapse 1.72751s\t ll change 0.00929\n",
      "  Iteration 6\t time lapse 1.60532s\t ll change 0.00696\n",
      "  Iteration 7\t time lapse 1.54289s\t ll change 0.00528\n",
      "  Iteration 8\t time lapse 1.59835s\t ll change 0.00410\n",
      "  Iteration 9\t time lapse 1.55916s\t ll change 0.00331\n",
      "  Iteration 10\t time lapse 1.67401s\t ll change 0.00277\n",
      "  Iteration 11\t time lapse 1.65689s\t ll change 0.00241\n",
      "  Iteration 12\t time lapse 1.56611s\t ll change 0.00215\n",
      "  Iteration 13\t time lapse 1.56339s\t ll change 0.00195\n",
      "  Iteration 14\t time lapse 1.62916s\t ll change 0.00179\n",
      "  Iteration 15\t time lapse 1.63608s\t ll change 0.00164\n",
      "Initialization converged: False\t time lapse 28.72511s\t ll 2.86664\n"
     ]
    },
    {
     "name": "stderr",
     "output_type": "stream",
     "text": [
      "/home/av/.local/lib/python3.10/site-packages/sklearn/mixture/_base.py:274: ConvergenceWarning: Initialization 1 did not converge. Try different init parameters, or increase max_iter, tol or check for degenerate data.\n",
      "  warnings.warn(\n",
      "100%|██████████| 600/600 [00:51<00:00, 11.63it/s]\n",
      "/home/av/IST/slp-labs/LAB2/pf_tools.py:89: UserWarning: The feature directory already exists, and no new feature extraction will be performed.\n",
      "  warnings.warn(\"The feature directory already exists, and no new feature extraction will be performed.\")\n"
     ]
    },
    {
     "name": "stdout",
     "output_type": "stream",
     "text": [
      "Accuracy Score = 0.625\n",
      "\n",
      "\n",
      "Combination 55\n",
      "Initialization 0\n",
      "  Iteration 1\t time lapse 1.45006s\t ll change inf\n",
      "  Iteration 2\t time lapse 0.61838s\t ll change 0.51708\n",
      "  Iteration 3\t time lapse 0.59805s\t ll change 0.01485\n",
      "  Iteration 4\t time lapse 0.62581s\t ll change 0.01086\n",
      "  Iteration 5\t time lapse 0.58571s\t ll change 0.00942\n",
      "  Iteration 6\t time lapse 0.62998s\t ll change 0.00803\n",
      "  Iteration 7\t time lapse 0.57093s\t ll change 0.00634\n",
      "  Iteration 8\t time lapse 0.58429s\t ll change 0.00472\n",
      "  Iteration 9\t time lapse 0.66137s\t ll change 0.00343\n",
      "  Iteration 10\t time lapse 0.58177s\t ll change 0.00252\n",
      "  Iteration 11\t time lapse 0.61914s\t ll change 0.00190\n",
      "  Iteration 12\t time lapse 0.57528s\t ll change 0.00146\n",
      "  Iteration 13\t time lapse 0.67614s\t ll change 0.00115\n",
      "  Iteration 14\t time lapse 0.62014s\t ll change 0.00092\n",
      "Initialization converged: True\t time lapse 9.39713s\t ll 2.56120\n",
      "Initialization 0\n",
      "  Iteration 1\t time lapse 1.83880s\t ll change inf\n",
      "  Iteration 2\t time lapse 0.62911s\t ll change 0.65147\n",
      "  Iteration 3\t time lapse 0.62967s\t ll change 0.01700\n",
      "  Iteration 4\t time lapse 0.68547s\t ll change 0.01023\n",
      "  Iteration 5\t time lapse 0.68922s\t ll change 0.00669\n",
      "  Iteration 6\t time lapse 0.62740s\t ll change 0.00443\n",
      "  Iteration 7\t time lapse 0.75363s\t ll change 0.00297\n",
      "  Iteration 8\t time lapse 0.69280s\t ll change 0.00203\n",
      "  Iteration 9\t time lapse 0.63038s\t ll change 0.00145\n",
      "  Iteration 10\t time lapse 0.62779s\t ll change 0.00109\n",
      "  Iteration 11\t time lapse 0.67513s\t ll change 0.00086\n",
      "Initialization converged: True\t time lapse 8.47946s\t ll 2.76796\n",
      "Initialization 0\n",
      "  Iteration 1\t time lapse 1.58292s\t ll change inf\n",
      "  Iteration 2\t time lapse 0.63849s\t ll change 0.58187\n",
      "  Iteration 3\t time lapse 0.63350s\t ll change 0.01354\n",
      "  Iteration 4\t time lapse 0.68132s\t ll change 0.00879\n",
      "  Iteration 5\t time lapse 0.62518s\t ll change 0.00726\n",
      "  Iteration 6\t time lapse 0.62690s\t ll change 0.00695\n",
      "  Iteration 7\t time lapse 0.63651s\t ll change 0.00746\n",
      "  Iteration 8\t time lapse 0.64163s\t ll change 0.00822\n",
      "  Iteration 9\t time lapse 0.62889s\t ll change 0.00814\n",
      "  Iteration 10\t time lapse 0.66118s\t ll change 0.00703\n",
      "  Iteration 11\t time lapse 0.64304s\t ll change 0.00574\n",
      "  Iteration 12\t time lapse 0.63273s\t ll change 0.00496\n",
      "  Iteration 13\t time lapse 0.63345s\t ll change 0.00498\n",
      "  Iteration 14\t time lapse 0.63530s\t ll change 0.00589\n",
      "  Iteration 15\t time lapse 0.62602s\t ll change 0.00777\n",
      "Initialization converged: False\t time lapse 10.52712s\t ll 1.70594\n"
     ]
    },
    {
     "name": "stderr",
     "output_type": "stream",
     "text": [
      "/home/av/.local/lib/python3.10/site-packages/sklearn/mixture/_base.py:274: ConvergenceWarning: Initialization 1 did not converge. Try different init parameters, or increase max_iter, tol or check for degenerate data.\n",
      "  warnings.warn(\n"
     ]
    },
    {
     "name": "stdout",
     "output_type": "stream",
     "text": [
      "Initialization 0\n",
      "  Iteration 1\t time lapse 1.39603s\t ll change inf\n",
      "  Iteration 2\t time lapse 0.64016s\t ll change 0.57756\n",
      "  Iteration 3\t time lapse 0.61200s\t ll change 0.01837\n",
      "  Iteration 4\t time lapse 0.63029s\t ll change 0.01151\n",
      "  Iteration 5\t time lapse 0.60500s\t ll change 0.00761\n",
      "  Iteration 6\t time lapse 0.61565s\t ll change 0.00502\n",
      "  Iteration 7\t time lapse 0.59654s\t ll change 0.00329\n",
      "  Iteration 8\t time lapse 0.60400s\t ll change 0.00217\n",
      "  Iteration 9\t time lapse 0.61996s\t ll change 0.00145\n",
      "  Iteration 10\t time lapse 0.59762s\t ll change 0.00099\n",
      "Initialization converged: True\t time lapse 6.91731s\t ll 2.44508\n",
      "Initialization 0\n",
      "  Iteration 1\t time lapse 1.30862s\t ll change inf\n",
      "  Iteration 2\t time lapse 0.52878s\t ll change 0.70419\n",
      "  Iteration 3\t time lapse 0.53094s\t ll change 0.02021\n",
      "  Iteration 4\t time lapse 0.54969s\t ll change 0.01437\n",
      "  Iteration 5\t time lapse 0.55300s\t ll change 0.01148\n",
      "  Iteration 6\t time lapse 0.56630s\t ll change 0.00935\n",
      "  Iteration 7\t time lapse 0.55999s\t ll change 0.00746\n",
      "  Iteration 8\t time lapse 0.53211s\t ll change 0.00577\n",
      "  Iteration 9\t time lapse 0.53159s\t ll change 0.00432\n",
      "  Iteration 10\t time lapse 0.58101s\t ll change 0.00318\n",
      "  Iteration 11\t time lapse 0.58189s\t ll change 0.00233\n",
      "  Iteration 12\t time lapse 0.52104s\t ll change 0.00172\n",
      "  Iteration 13\t time lapse 0.55950s\t ll change 0.00130\n",
      "  Iteration 14\t time lapse 0.54908s\t ll change 0.00100\n",
      "  Iteration 15\t time lapse 0.55081s\t ll change 0.00079\n",
      "Initialization converged: True\t time lapse 9.00440s\t ll 1.92248\n",
      "Initialization 0\n",
      "  Iteration 1\t time lapse 1.36396s\t ll change inf\n",
      "  Iteration 2\t time lapse 0.65406s\t ll change 0.03702\n",
      "  Iteration 3\t time lapse 0.60085s\t ll change 0.01318\n",
      "  Iteration 4\t time lapse 0.57043s\t ll change 0.00831\n",
      "  Iteration 5\t time lapse 0.54606s\t ll change 0.00635\n",
      "  Iteration 6\t time lapse 0.57518s\t ll change 0.00533\n",
      "  Iteration 7\t time lapse 0.54739s\t ll change 0.00477\n",
      "  Iteration 8\t time lapse 0.59416s\t ll change 0.00449\n",
      "  Iteration 9\t time lapse 0.55740s\t ll change 0.00438\n",
      "  Iteration 10\t time lapse 0.55381s\t ll change 0.00428\n",
      "  Iteration 11\t time lapse 0.56704s\t ll change 0.00395\n",
      "  Iteration 12\t time lapse 0.55850s\t ll change 0.00330\n",
      "  Iteration 13\t time lapse 0.56091s\t ll change 0.00248\n",
      "  Iteration 14\t time lapse 0.55916s\t ll change 0.00172\n",
      "  Iteration 15\t time lapse 0.56433s\t ll change 0.00116\n",
      "Initialization converged: False\t time lapse 9.37329s\t ll 2.63199\n"
     ]
    },
    {
     "name": "stderr",
     "output_type": "stream",
     "text": [
      "/home/av/.local/lib/python3.10/site-packages/sklearn/mixture/_base.py:274: ConvergenceWarning: Initialization 1 did not converge. Try different init parameters, or increase max_iter, tol or check for degenerate data.\n",
      "  warnings.warn(\n",
      "100%|██████████| 600/600 [00:20<00:00, 29.37it/s]\n",
      "/home/av/IST/slp-labs/LAB2/pf_tools.py:89: UserWarning: The feature directory already exists, and no new feature extraction will be performed.\n",
      "  warnings.warn(\"The feature directory already exists, and no new feature extraction will be performed.\")\n"
     ]
    },
    {
     "name": "stdout",
     "output_type": "stream",
     "text": [
      "Accuracy Score = 0.5516666666666666\n",
      "\n",
      "\n",
      "Combination 56\n",
      "Initialization 0\n",
      "  Iteration 1\t time lapse 4.10770s\t ll change inf\n",
      "  Iteration 2\t time lapse 0.96412s\t ll change 0.47144\n",
      "  Iteration 3\t time lapse 1.00143s\t ll change 0.01704\n",
      "  Iteration 4\t time lapse 1.16234s\t ll change 0.01058\n",
      "  Iteration 5\t time lapse 1.06630s\t ll change 0.00798\n",
      "  Iteration 6\t time lapse 1.02513s\t ll change 0.00658\n",
      "  Iteration 7\t time lapse 1.03737s\t ll change 0.00569\n",
      "  Iteration 8\t time lapse 1.14409s\t ll change 0.00506\n",
      "  Iteration 9\t time lapse 1.00521s\t ll change 0.00453\n",
      "  Iteration 10\t time lapse 0.99828s\t ll change 0.00403\n",
      "  Iteration 11\t time lapse 0.99438s\t ll change 0.00350\n",
      "  Iteration 12\t time lapse 1.00708s\t ll change 0.00297\n",
      "  Iteration 13\t time lapse 0.97608s\t ll change 0.00248\n",
      "  Iteration 14\t time lapse 0.98471s\t ll change 0.00204\n",
      "  Iteration 15\t time lapse 0.97459s\t ll change 0.00163\n",
      "Initialization converged: False\t time lapse 18.44892s\t ll 2.69338\n"
     ]
    },
    {
     "name": "stderr",
     "output_type": "stream",
     "text": [
      "/home/av/.local/lib/python3.10/site-packages/sklearn/mixture/_base.py:274: ConvergenceWarning: Initialization 1 did not converge. Try different init parameters, or increase max_iter, tol or check for degenerate data.\n",
      "  warnings.warn(\n"
     ]
    },
    {
     "name": "stdout",
     "output_type": "stream",
     "text": [
      "Initialization 0\n",
      "  Iteration 1\t time lapse 3.70149s\t ll change inf\n",
      "  Iteration 2\t time lapse 1.06182s\t ll change 0.56552\n",
      "  Iteration 3\t time lapse 1.17402s\t ll change 0.01889\n",
      "  Iteration 4\t time lapse 1.05078s\t ll change 0.01174\n",
      "  Iteration 5\t time lapse 1.03308s\t ll change 0.00834\n",
      "  Iteration 6\t time lapse 1.04257s\t ll change 0.00624\n",
      "  Iteration 7\t time lapse 1.27350s\t ll change 0.00481\n",
      "  Iteration 8\t time lapse 1.08672s\t ll change 0.00378\n",
      "  Iteration 9\t time lapse 1.03445s\t ll change 0.00299\n",
      "  Iteration 10\t time lapse 1.04554s\t ll change 0.00239\n",
      "  Iteration 11\t time lapse 1.06538s\t ll change 0.00194\n",
      "  Iteration 12\t time lapse 1.19056s\t ll change 0.00160\n",
      "  Iteration 13\t time lapse 1.24596s\t ll change 0.00135\n",
      "  Iteration 14\t time lapse 1.07913s\t ll change 0.00115\n",
      "  Iteration 15\t time lapse 1.07906s\t ll change 0.00099\n",
      "Initialization converged: True\t time lapse 19.16445s\t ll 2.89646\n",
      "Initialization 0\n",
      "  Iteration 1\t time lapse 3.73095s\t ll change inf\n",
      "  Iteration 2\t time lapse 1.17415s\t ll change 0.51610\n",
      "  Iteration 3\t time lapse 1.26094s\t ll change 0.02007\n",
      "  Iteration 4\t time lapse 1.16355s\t ll change 0.01419\n",
      "  Iteration 5\t time lapse 1.12264s\t ll change 0.01262\n",
      "  Iteration 6\t time lapse 1.14582s\t ll change 0.01243\n",
      "  Iteration 7\t time lapse 1.21061s\t ll change 0.01157\n",
      "  Iteration 8\t time lapse 1.17718s\t ll change 0.00941\n",
      "  Iteration 9\t time lapse 1.10486s\t ll change 0.00692\n",
      "  Iteration 10\t time lapse 1.10165s\t ll change 0.00492\n",
      "  Iteration 11\t time lapse 1.11858s\t ll change 0.00359\n",
      "  Iteration 12\t time lapse 1.32106s\t ll change 0.00274\n",
      "  Iteration 13\t time lapse 1.14375s\t ll change 0.00219\n",
      "  Iteration 14\t time lapse 1.13301s\t ll change 0.00180\n",
      "  Iteration 15\t time lapse 1.11570s\t ll change 0.00151\n",
      "Initialization converged: False\t time lapse 20.02457s\t ll 1.93419\n"
     ]
    },
    {
     "name": "stderr",
     "output_type": "stream",
     "text": [
      "/home/av/.local/lib/python3.10/site-packages/sklearn/mixture/_base.py:274: ConvergenceWarning: Initialization 1 did not converge. Try different init parameters, or increase max_iter, tol or check for degenerate data.\n",
      "  warnings.warn(\n"
     ]
    },
    {
     "name": "stdout",
     "output_type": "stream",
     "text": [
      "Initialization 0\n",
      "  Iteration 1\t time lapse 3.15355s\t ll change inf\n",
      "  Iteration 2\t time lapse 0.99619s\t ll change 0.41598\n",
      "  Iteration 3\t time lapse 0.98014s\t ll change 0.02004\n",
      "  Iteration 4\t time lapse 0.97620s\t ll change 0.01286\n",
      "  Iteration 5\t time lapse 0.96961s\t ll change 0.00940\n",
      "  Iteration 6\t time lapse 1.00068s\t ll change 0.00722\n",
      "  Iteration 7\t time lapse 0.98287s\t ll change 0.00581\n",
      "  Iteration 8\t time lapse 0.99302s\t ll change 0.00490\n",
      "  Iteration 9\t time lapse 0.99554s\t ll change 0.00428\n",
      "  Iteration 10\t time lapse 0.98874s\t ll change 0.00381\n",
      "  Iteration 11\t time lapse 0.99156s\t ll change 0.00341\n",
      "  Iteration 12\t time lapse 0.99354s\t ll change 0.00308\n",
      "  Iteration 13\t time lapse 1.04033s\t ll change 0.00281\n",
      "  Iteration 14\t time lapse 1.02310s\t ll change 0.00258\n",
      "  Iteration 15\t time lapse 1.00267s\t ll change 0.00237\n",
      "Initialization converged: False\t time lapse 17.08785s\t ll 2.56935\n"
     ]
    },
    {
     "name": "stderr",
     "output_type": "stream",
     "text": [
      "/home/av/.local/lib/python3.10/site-packages/sklearn/mixture/_base.py:274: ConvergenceWarning: Initialization 1 did not converge. Try different init parameters, or increase max_iter, tol or check for degenerate data.\n",
      "  warnings.warn(\n"
     ]
    },
    {
     "name": "stdout",
     "output_type": "stream",
     "text": [
      "Initialization 0\n",
      "  Iteration 1\t time lapse 2.63210s\t ll change inf\n",
      "  Iteration 2\t time lapse 0.90762s\t ll change 0.63287\n",
      "  Iteration 3\t time lapse 0.91742s\t ll change 0.01933\n",
      "  Iteration 4\t time lapse 0.93446s\t ll change 0.01265\n",
      "  Iteration 5\t time lapse 0.93717s\t ll change 0.00944\n",
      "  Iteration 6\t time lapse 0.93144s\t ll change 0.00728\n",
      "  Iteration 7\t time lapse 0.92530s\t ll change 0.00561\n",
      "  Iteration 8\t time lapse 0.90610s\t ll change 0.00431\n",
      "  Iteration 9\t time lapse 0.97340s\t ll change 0.00334\n",
      "  Iteration 10\t time lapse 0.95623s\t ll change 0.00264\n",
      "  Iteration 11\t time lapse 0.92583s\t ll change 0.00215\n",
      "  Iteration 12\t time lapse 0.92990s\t ll change 0.00179\n",
      "  Iteration 13\t time lapse 1.00582s\t ll change 0.00154\n",
      "  Iteration 14\t time lapse 0.95693s\t ll change 0.00135\n",
      "  Iteration 15\t time lapse 0.93339s\t ll change 0.00121\n",
      "Initialization converged: False\t time lapse 15.77348s\t ll 2.02260\n"
     ]
    },
    {
     "name": "stderr",
     "output_type": "stream",
     "text": [
      "/home/av/.local/lib/python3.10/site-packages/sklearn/mixture/_base.py:274: ConvergenceWarning: Initialization 1 did not converge. Try different init parameters, or increase max_iter, tol or check for degenerate data.\n",
      "  warnings.warn(\n"
     ]
    },
    {
     "name": "stdout",
     "output_type": "stream",
     "text": [
      "Initialization 0\n",
      "  Iteration 1\t time lapse 3.37229s\t ll change inf\n",
      "  Iteration 2\t time lapse 0.97461s\t ll change 0.05144\n",
      "  Iteration 3\t time lapse 1.00232s\t ll change 0.01949\n",
      "  Iteration 4\t time lapse 1.09523s\t ll change 0.01228\n",
      "  Iteration 5\t time lapse 1.10236s\t ll change 0.00895\n",
      "  Iteration 6\t time lapse 1.09377s\t ll change 0.00692\n",
      "  Iteration 7\t time lapse 1.00086s\t ll change 0.00555\n",
      "  Iteration 8\t time lapse 0.98354s\t ll change 0.00459\n",
      "  Iteration 9\t time lapse 1.04957s\t ll change 0.00387\n",
      "  Iteration 10\t time lapse 1.03879s\t ll change 0.00330\n",
      "  Iteration 11\t time lapse 0.99945s\t ll change 0.00283\n",
      "  Iteration 12\t time lapse 1.00397s\t ll change 0.00241\n",
      "  Iteration 13\t time lapse 0.98990s\t ll change 0.00204\n",
      "  Iteration 14\t time lapse 0.98242s\t ll change 0.00170\n",
      "  Iteration 15\t time lapse 0.98381s\t ll change 0.00140\n",
      "Initialization converged: False\t time lapse 17.67328s\t ll 2.78824\n"
     ]
    },
    {
     "name": "stderr",
     "output_type": "stream",
     "text": [
      "/home/av/.local/lib/python3.10/site-packages/sklearn/mixture/_base.py:274: ConvergenceWarning: Initialization 1 did not converge. Try different init parameters, or increase max_iter, tol or check for degenerate data.\n",
      "  warnings.warn(\n",
      "100%|██████████| 600/600 [00:32<00:00, 18.47it/s]\n",
      "/home/av/IST/slp-labs/LAB2/pf_tools.py:89: UserWarning: The feature directory already exists, and no new feature extraction will be performed.\n",
      "  warnings.warn(\"The feature directory already exists, and no new feature extraction will be performed.\")\n"
     ]
    },
    {
     "name": "stdout",
     "output_type": "stream",
     "text": [
      "Accuracy Score = 0.585\n",
      "\n",
      "\n",
      "Combination 57\n",
      "Initialization 0\n",
      "  Iteration 1\t time lapse 5.48756s\t ll change inf\n",
      "  Iteration 2\t time lapse 1.53128s\t ll change 0.43882\n",
      "  Iteration 3\t time lapse 1.63104s\t ll change 0.01954\n",
      "  Iteration 4\t time lapse 1.52043s\t ll change 0.01097\n",
      "  Iteration 5\t time lapse 1.57101s\t ll change 0.00743\n",
      "  Iteration 6\t time lapse 1.53737s\t ll change 0.00558\n",
      "  Iteration 7\t time lapse 1.59743s\t ll change 0.00446\n",
      "  Iteration 8\t time lapse 1.51415s\t ll change 0.00369\n",
      "  Iteration 9\t time lapse 1.60934s\t ll change 0.00311\n",
      "  Iteration 10\t time lapse 1.61929s\t ll change 0.00263\n",
      "  Iteration 11\t time lapse 1.56926s\t ll change 0.00223\n",
      "  Iteration 12\t time lapse 1.59240s\t ll change 0.00188\n",
      "  Iteration 13\t time lapse 1.59859s\t ll change 0.00159\n",
      "  Iteration 14\t time lapse 1.56156s\t ll change 0.00136\n",
      "  Iteration 15\t time lapse 1.54803s\t ll change 0.00118\n",
      "Initialization converged: False\t time lapse 27.48885s\t ll 2.78898\n"
     ]
    },
    {
     "name": "stderr",
     "output_type": "stream",
     "text": [
      "/home/av/.local/lib/python3.10/site-packages/sklearn/mixture/_base.py:274: ConvergenceWarning: Initialization 1 did not converge. Try different init parameters, or increase max_iter, tol or check for degenerate data.\n",
      "  warnings.warn(\n"
     ]
    },
    {
     "name": "stdout",
     "output_type": "stream",
     "text": [
      "Initialization 0\n",
      "  Iteration 1\t time lapse 6.72588s\t ll change inf\n",
      "  Iteration 2\t time lapse 1.81266s\t ll change 0.30731\n",
      "  Iteration 3\t time lapse 1.79507s\t ll change 0.01948\n",
      "  Iteration 4\t time lapse 1.75507s\t ll change 0.01135\n",
      "  Iteration 5\t time lapse 1.79154s\t ll change 0.00812\n",
      "  Iteration 6\t time lapse 1.76139s\t ll change 0.00640\n",
      "  Iteration 7\t time lapse 1.80149s\t ll change 0.00534\n",
      "  Iteration 8\t time lapse 1.82797s\t ll change 0.00461\n",
      "  Iteration 9\t time lapse 1.77963s\t ll change 0.00403\n",
      "  Iteration 10\t time lapse 1.78532s\t ll change 0.00355\n",
      "  Iteration 11\t time lapse 1.80011s\t ll change 0.00310\n",
      "  Iteration 12\t time lapse 1.80554s\t ll change 0.00269\n",
      "  Iteration 13\t time lapse 1.82633s\t ll change 0.00231\n",
      "  Iteration 14\t time lapse 1.73342s\t ll change 0.00197\n",
      "  Iteration 15\t time lapse 1.79636s\t ll change 0.00169\n",
      "Initialization converged: False\t time lapse 31.79823s\t ll 2.97964\n"
     ]
    },
    {
     "name": "stderr",
     "output_type": "stream",
     "text": [
      "/home/av/.local/lib/python3.10/site-packages/sklearn/mixture/_base.py:274: ConvergenceWarning: Initialization 1 did not converge. Try different init parameters, or increase max_iter, tol or check for degenerate data.\n",
      "  warnings.warn(\n"
     ]
    },
    {
     "name": "stdout",
     "output_type": "stream",
     "text": [
      "Initialization 0\n",
      "  Iteration 1\t time lapse 5.65450s\t ll change inf\n",
      "  Iteration 2\t time lapse 1.93695s\t ll change 0.38840\n",
      "  Iteration 3\t time lapse 1.84786s\t ll change 0.02619\n",
      "  Iteration 4\t time lapse 1.73898s\t ll change 0.01849\n",
      "  Iteration 5\t time lapse 1.97301s\t ll change 0.01470\n",
      "  Iteration 6\t time lapse 1.88331s\t ll change 0.01186\n",
      "  Iteration 7\t time lapse 1.86297s\t ll change 0.00910\n",
      "  Iteration 8\t time lapse 1.82558s\t ll change 0.00660\n",
      "  Iteration 9\t time lapse 1.84025s\t ll change 0.00480\n",
      "  Iteration 10\t time lapse 1.89947s\t ll change 0.00367\n",
      "  Iteration 11\t time lapse 1.89728s\t ll change 0.00294\n",
      "  Iteration 12\t time lapse 1.78691s\t ll change 0.00242\n",
      "  Iteration 13\t time lapse 1.87451s\t ll change 0.00200\n",
      "  Iteration 14\t time lapse 1.81311s\t ll change 0.00166\n",
      "  Iteration 15\t time lapse 1.82721s\t ll change 0.00137\n",
      "Initialization converged: False\t time lapse 31.66231s\t ll 2.04062\n"
     ]
    },
    {
     "name": "stderr",
     "output_type": "stream",
     "text": [
      "/home/av/.local/lib/python3.10/site-packages/sklearn/mixture/_base.py:274: ConvergenceWarning: Initialization 1 did not converge. Try different init parameters, or increase max_iter, tol or check for degenerate data.\n",
      "  warnings.warn(\n"
     ]
    },
    {
     "name": "stdout",
     "output_type": "stream",
     "text": [
      "Initialization 0\n",
      "  Iteration 1\t time lapse 5.53863s\t ll change inf\n",
      "  Iteration 2\t time lapse 1.63700s\t ll change 0.37634\n",
      "  Iteration 3\t time lapse 1.59215s\t ll change 0.02022\n",
      "  Iteration 4\t time lapse 1.59141s\t ll change 0.01266\n",
      "  Iteration 5\t time lapse 1.55255s\t ll change 0.00974\n",
      "  Iteration 6\t time lapse 1.67092s\t ll change 0.00802\n",
      "  Iteration 7\t time lapse 1.66213s\t ll change 0.00674\n",
      "  Iteration 8\t time lapse 1.57334s\t ll change 0.00574\n",
      "  Iteration 9\t time lapse 1.66296s\t ll change 0.00491\n",
      "  Iteration 10\t time lapse 1.60138s\t ll change 0.00420\n",
      "  Iteration 11\t time lapse 1.62789s\t ll change 0.00358\n",
      "  Iteration 12\t time lapse 1.61905s\t ll change 0.00309\n",
      "  Iteration 13\t time lapse 1.58508s\t ll change 0.00274\n",
      "  Iteration 14\t time lapse 1.73709s\t ll change 0.00250\n",
      "  Iteration 15\t time lapse 1.64346s\t ll change 0.00232\n",
      "Initialization converged: False\t time lapse 28.29546s\t ll 2.66368\n"
     ]
    },
    {
     "name": "stderr",
     "output_type": "stream",
     "text": [
      "/home/av/.local/lib/python3.10/site-packages/sklearn/mixture/_base.py:274: ConvergenceWarning: Initialization 1 did not converge. Try different init parameters, or increase max_iter, tol or check for degenerate data.\n",
      "  warnings.warn(\n"
     ]
    },
    {
     "name": "stdout",
     "output_type": "stream",
     "text": [
      "Initialization 0\n",
      "  Iteration 1\t time lapse 5.29293s\t ll change inf\n",
      "  Iteration 2\t time lapse 1.56104s\t ll change 0.56574\n",
      "  Iteration 3\t time lapse 1.46648s\t ll change 0.01993\n",
      "  Iteration 4\t time lapse 1.53578s\t ll change 0.01202\n",
      "  Iteration 5\t time lapse 1.44449s\t ll change 0.00871\n",
      "  Iteration 6\t time lapse 1.57525s\t ll change 0.00681\n",
      "  Iteration 7\t time lapse 1.45559s\t ll change 0.00549\n",
      "  Iteration 8\t time lapse 1.59277s\t ll change 0.00448\n",
      "  Iteration 9\t time lapse 1.48018s\t ll change 0.00358\n",
      "  Iteration 10\t time lapse 1.65850s\t ll change 0.00284\n",
      "  Iteration 11\t time lapse 1.53602s\t ll change 0.00230\n",
      "  Iteration 12\t time lapse 1.43860s\t ll change 0.00192\n",
      "  Iteration 13\t time lapse 1.53881s\t ll change 0.00164\n",
      "  Iteration 14\t time lapse 1.48858s\t ll change 0.00143\n",
      "  Iteration 15\t time lapse 1.57186s\t ll change 0.00128\n",
      "Initialization converged: False\t time lapse 26.63734s\t ll 2.11159\n"
     ]
    },
    {
     "name": "stderr",
     "output_type": "stream",
     "text": [
      "/home/av/.local/lib/python3.10/site-packages/sklearn/mixture/_base.py:274: ConvergenceWarning: Initialization 1 did not converge. Try different init parameters, or increase max_iter, tol or check for degenerate data.\n",
      "  warnings.warn(\n"
     ]
    },
    {
     "name": "stdout",
     "output_type": "stream",
     "text": [
      "Initialization 0\n",
      "  Iteration 1\t time lapse 5.25102s\t ll change inf\n",
      "  Iteration 2\t time lapse 1.53175s\t ll change 0.05860\n",
      "  Iteration 3\t time lapse 1.59250s\t ll change 0.02024\n",
      "  Iteration 4\t time lapse 1.53715s\t ll change 0.01194\n",
      "  Iteration 5\t time lapse 1.57725s\t ll change 0.00857\n",
      "  Iteration 6\t time lapse 1.64242s\t ll change 0.00668\n",
      "  Iteration 7\t time lapse 1.63124s\t ll change 0.00537\n",
      "  Iteration 8\t time lapse 1.55982s\t ll change 0.00434\n",
      "  Iteration 9\t time lapse 1.59040s\t ll change 0.00354\n",
      "  Iteration 10\t time lapse 1.60037s\t ll change 0.00293\n",
      "  Iteration 11\t time lapse 1.64555s\t ll change 0.00248\n",
      "  Iteration 12\t time lapse 1.59695s\t ll change 0.00216\n",
      "  Iteration 13\t time lapse 1.55422s\t ll change 0.00195\n",
      "  Iteration 14\t time lapse 1.55684s\t ll change 0.00181\n",
      "  Iteration 15\t time lapse 1.55201s\t ll change 0.00173\n",
      "Initialization converged: False\t time lapse 27.41961s\t ll 2.86377\n"
     ]
    },
    {
     "name": "stderr",
     "output_type": "stream",
     "text": [
      "/home/av/.local/lib/python3.10/site-packages/sklearn/mixture/_base.py:274: ConvergenceWarning: Initialization 1 did not converge. Try different init parameters, or increase max_iter, tol or check for degenerate data.\n",
      "  warnings.warn(\n",
      "100%|██████████| 600/600 [00:55<00:00, 10.73it/s]\n",
      "/home/av/IST/slp-labs/LAB2/pf_tools.py:89: UserWarning: The feature directory already exists, and no new feature extraction will be performed.\n",
      "  warnings.warn(\"The feature directory already exists, and no new feature extraction will be performed.\")\n"
     ]
    },
    {
     "name": "stdout",
     "output_type": "stream",
     "text": [
      "Accuracy Score = 0.6216666666666667\n",
      "\n",
      "\n",
      "Combination 58\n",
      "Initialization 0\n",
      "  Iteration 1\t time lapse 1.60279s\t ll change inf\n",
      "  Iteration 2\t time lapse 0.57681s\t ll change 0.51891\n",
      "  Iteration 3\t time lapse 0.62933s\t ll change 0.01622\n",
      "  Iteration 4\t time lapse 0.58334s\t ll change 0.01142\n",
      "  Iteration 5\t time lapse 0.62291s\t ll change 0.00890\n",
      "  Iteration 6\t time lapse 0.58310s\t ll change 0.00674\n",
      "  Iteration 7\t time lapse 0.56510s\t ll change 0.00492\n",
      "  Iteration 8\t time lapse 0.64262s\t ll change 0.00355\n",
      "  Iteration 9\t time lapse 0.58788s\t ll change 0.00260\n",
      "  Iteration 10\t time lapse 0.66682s\t ll change 0.00196\n",
      "  Iteration 11\t time lapse 0.64421s\t ll change 0.00152\n",
      "  Iteration 12\t time lapse 0.58294s\t ll change 0.00121\n",
      "  Iteration 13\t time lapse 0.61001s\t ll change 0.00098\n",
      "Initialization converged: True\t time lapse 8.89793s\t ll 2.56071\n",
      "Initialization 0\n",
      "  Iteration 1\t time lapse 1.57599s\t ll change inf\n",
      "  Iteration 2\t time lapse 0.65510s\t ll change 0.65811\n",
      "  Iteration 3\t time lapse 0.67533s\t ll change 0.01710\n",
      "  Iteration 4\t time lapse 0.65419s\t ll change 0.01014\n",
      "  Iteration 5\t time lapse 0.63555s\t ll change 0.00650\n",
      "  Iteration 6\t time lapse 0.63245s\t ll change 0.00423\n",
      "  Iteration 7\t time lapse 0.64974s\t ll change 0.00279\n",
      "  Iteration 8\t time lapse 0.64473s\t ll change 0.00190\n",
      "  Iteration 9\t time lapse 0.63814s\t ll change 0.00135\n",
      "  Iteration 10\t time lapse 0.64012s\t ll change 0.00100\n",
      "  Iteration 11\t time lapse 0.61850s\t ll change 0.00079\n",
      "Initialization converged: True\t time lapse 8.01989s\t ll 2.76878\n",
      "Initialization 0\n",
      "  Iteration 1\t time lapse 2.19801s\t ll change inf\n",
      "  Iteration 2\t time lapse 0.62057s\t ll change 0.62733\n",
      "  Iteration 3\t time lapse 0.62493s\t ll change 0.02279\n",
      "  Iteration 4\t time lapse 0.61456s\t ll change 0.01448\n",
      "  Iteration 5\t time lapse 0.61005s\t ll change 0.01020\n",
      "  Iteration 6\t time lapse 0.63525s\t ll change 0.00721\n",
      "  Iteration 7\t time lapse 0.62471s\t ll change 0.00490\n",
      "  Iteration 8\t time lapse 0.61517s\t ll change 0.00320\n",
      "  Iteration 9\t time lapse 0.63114s\t ll change 0.00205\n",
      "  Iteration 10\t time lapse 0.62097s\t ll change 0.00134\n",
      "  Iteration 11\t time lapse 0.62452s\t ll change 0.00090\n",
      "Initialization converged: True\t time lapse 8.41995s\t ll 1.77300\n",
      "Initialization 0\n",
      "  Iteration 1\t time lapse 1.60882s\t ll change inf\n",
      "  Iteration 2\t time lapse 0.58846s\t ll change 0.55184\n",
      "  Iteration 3\t time lapse 0.58906s\t ll change 0.01796\n",
      "  Iteration 4\t time lapse 0.58726s\t ll change 0.01111\n",
      "  Iteration 5\t time lapse 0.57918s\t ll change 0.00731\n",
      "  Iteration 6\t time lapse 0.58834s\t ll change 0.00485\n",
      "  Iteration 7\t time lapse 0.60235s\t ll change 0.00325\n",
      "  Iteration 8\t time lapse 0.62424s\t ll change 0.00221\n",
      "  Iteration 9\t time lapse 0.59272s\t ll change 0.00154\n",
      "  Iteration 10\t time lapse 0.58122s\t ll change 0.00108\n",
      "  Iteration 11\t time lapse 0.58583s\t ll change 0.00078\n",
      "Initialization converged: True\t time lapse 7.52754s\t ll 2.44533\n",
      "Initialization 0\n",
      "  Iteration 1\t time lapse 1.34221s\t ll change inf\n",
      "  Iteration 2\t time lapse 0.55044s\t ll change 0.71180\n",
      "  Iteration 3\t time lapse 0.53918s\t ll change 0.02043\n",
      "  Iteration 4\t time lapse 0.53844s\t ll change 0.01453\n",
      "  Iteration 5\t time lapse 0.54416s\t ll change 0.01152\n",
      "  Iteration 6\t time lapse 0.53508s\t ll change 0.00924\n",
      "  Iteration 7\t time lapse 0.55356s\t ll change 0.00724\n",
      "  Iteration 8\t time lapse 0.53568s\t ll change 0.00549\n",
      "  Iteration 9\t time lapse 0.56861s\t ll change 0.00405\n",
      "  Iteration 10\t time lapse 0.55124s\t ll change 0.00295\n",
      "  Iteration 11\t time lapse 0.53798s\t ll change 0.00215\n",
      "  Iteration 12\t time lapse 0.54469s\t ll change 0.00158\n",
      "  Iteration 13\t time lapse 0.53797s\t ll change 0.00119\n",
      "  Iteration 14\t time lapse 0.53582s\t ll change 0.00092\n",
      "Initialization converged: True\t time lapse 8.41513s\t ll 1.92207\n",
      "Initialization 0\n",
      "  Iteration 1\t time lapse 1.54107s\t ll change inf\n",
      "  Iteration 2\t time lapse 0.56701s\t ll change 0.03701\n",
      "  Iteration 3\t time lapse 0.58697s\t ll change 0.01318\n",
      "  Iteration 4\t time lapse 0.56926s\t ll change 0.00832\n",
      "  Iteration 5\t time lapse 0.62776s\t ll change 0.00636\n",
      "  Iteration 6\t time lapse 0.57487s\t ll change 0.00534\n",
      "  Iteration 7\t time lapse 0.57349s\t ll change 0.00478\n",
      "  Iteration 8\t time lapse 0.57349s\t ll change 0.00451\n",
      "  Iteration 9\t time lapse 0.57356s\t ll change 0.00439\n",
      "  Iteration 10\t time lapse 0.59418s\t ll change 0.00428\n",
      "  Iteration 11\t time lapse 0.57610s\t ll change 0.00395\n",
      "  Iteration 12\t time lapse 0.56716s\t ll change 0.00329\n",
      "  Iteration 13\t time lapse 0.57862s\t ll change 0.00246\n",
      "  Iteration 14\t time lapse 0.56785s\t ll change 0.00171\n",
      "  Iteration 15\t time lapse 0.56459s\t ll change 0.00115\n",
      "Initialization converged: False\t time lapse 9.63604s\t ll 2.63200\n"
     ]
    },
    {
     "name": "stderr",
     "output_type": "stream",
     "text": [
      "/home/av/.local/lib/python3.10/site-packages/sklearn/mixture/_base.py:274: ConvergenceWarning: Initialization 1 did not converge. Try different init parameters, or increase max_iter, tol or check for degenerate data.\n",
      "  warnings.warn(\n",
      "100%|██████████| 600/600 [00:20<00:00, 29.49it/s]\n",
      "/home/av/IST/slp-labs/LAB2/pf_tools.py:89: UserWarning: The feature directory already exists, and no new feature extraction will be performed.\n",
      "  warnings.warn(\"The feature directory already exists, and no new feature extraction will be performed.\")\n"
     ]
    },
    {
     "name": "stdout",
     "output_type": "stream",
     "text": [
      "Accuracy Score = 0.56\n",
      "\n",
      "\n",
      "Combination 59\n",
      "Initialization 0\n",
      "  Iteration 1\t time lapse 2.65133s\t ll change inf\n",
      "  Iteration 2\t time lapse 0.97386s\t ll change 0.51871\n",
      "  Iteration 3\t time lapse 0.99428s\t ll change 0.01693\n",
      "  Iteration 4\t time lapse 0.96240s\t ll change 0.00966\n",
      "  Iteration 5\t time lapse 0.98599s\t ll change 0.00675\n",
      "  Iteration 6\t time lapse 0.97383s\t ll change 0.00525\n",
      "  Iteration 7\t time lapse 0.96654s\t ll change 0.00439\n",
      "  Iteration 8\t time lapse 1.04927s\t ll change 0.00390\n",
      "  Iteration 9\t time lapse 1.00081s\t ll change 0.00359\n",
      "  Iteration 10\t time lapse 0.97096s\t ll change 0.00328\n",
      "  Iteration 11\t time lapse 1.01231s\t ll change 0.00302\n",
      "  Iteration 12\t time lapse 1.03331s\t ll change 0.00288\n",
      "  Iteration 13\t time lapse 0.97145s\t ll change 0.00280\n",
      "  Iteration 14\t time lapse 0.97628s\t ll change 0.00271\n",
      "  Iteration 15\t time lapse 0.97482s\t ll change 0.00248\n",
      "Initialization converged: False\t time lapse 16.49784s\t ll 2.69398\n"
     ]
    },
    {
     "name": "stderr",
     "output_type": "stream",
     "text": [
      "/home/av/.local/lib/python3.10/site-packages/sklearn/mixture/_base.py:274: ConvergenceWarning: Initialization 1 did not converge. Try different init parameters, or increase max_iter, tol or check for degenerate data.\n",
      "  warnings.warn(\n"
     ]
    },
    {
     "name": "stdout",
     "output_type": "stream",
     "text": [
      "Initialization 0\n",
      "  Iteration 1\t time lapse 3.07843s\t ll change inf\n",
      "  Iteration 2\t time lapse 1.11558s\t ll change 0.54676\n",
      "  Iteration 3\t time lapse 1.07247s\t ll change 0.01936\n",
      "  Iteration 4\t time lapse 1.05766s\t ll change 0.01214\n",
      "  Iteration 5\t time lapse 1.09868s\t ll change 0.00886\n",
      "  Iteration 6\t time lapse 1.03859s\t ll change 0.00678\n",
      "  Iteration 7\t time lapse 1.23286s\t ll change 0.00526\n",
      "  Iteration 8\t time lapse 1.11969s\t ll change 0.00411\n",
      "  Iteration 9\t time lapse 1.13870s\t ll change 0.00324\n",
      "  Iteration 10\t time lapse 1.16955s\t ll change 0.00259\n",
      "  Iteration 11\t time lapse 1.08658s\t ll change 0.00211\n",
      "  Iteration 12\t time lapse 1.18979s\t ll change 0.00175\n",
      "  Iteration 13\t time lapse 1.09236s\t ll change 0.00147\n",
      "  Iteration 14\t time lapse 1.11667s\t ll change 0.00127\n",
      "  Iteration 15\t time lapse 1.09370s\t ll change 0.00111\n",
      "Initialization converged: False\t time lapse 18.70142s\t ll 2.89281\n"
     ]
    },
    {
     "name": "stderr",
     "output_type": "stream",
     "text": [
      "/home/av/.local/lib/python3.10/site-packages/sklearn/mixture/_base.py:274: ConvergenceWarning: Initialization 1 did not converge. Try different init parameters, or increase max_iter, tol or check for degenerate data.\n",
      "  warnings.warn(\n"
     ]
    },
    {
     "name": "stdout",
     "output_type": "stream",
     "text": [
      "Initialization 0\n",
      "  Iteration 1\t time lapse 3.54227s\t ll change inf\n",
      "  Iteration 2\t time lapse 1.11196s\t ll change 0.50748\n",
      "  Iteration 3\t time lapse 1.16621s\t ll change 0.02031\n",
      "  Iteration 4\t time lapse 1.09926s\t ll change 0.01327\n",
      "  Iteration 5\t time lapse 1.29470s\t ll change 0.01027\n",
      "  Iteration 6\t time lapse 1.25033s\t ll change 0.00883\n",
      "  Iteration 7\t time lapse 1.10955s\t ll change 0.00809\n",
      "  Iteration 8\t time lapse 1.11291s\t ll change 0.00749\n",
      "  Iteration 9\t time lapse 1.10146s\t ll change 0.00651\n",
      "  Iteration 10\t time lapse 1.22203s\t ll change 0.00520\n",
      "  Iteration 11\t time lapse 1.17127s\t ll change 0.00403\n",
      "  Iteration 12\t time lapse 1.26526s\t ll change 0.00322\n",
      "  Iteration 13\t time lapse 1.12071s\t ll change 0.00273\n",
      "  Iteration 14\t time lapse 1.11951s\t ll change 0.00243\n",
      "  Iteration 15\t time lapse 1.20714s\t ll change 0.00222\n",
      "Initialization converged: False\t time lapse 19.89493s\t ll 1.93445\n"
     ]
    },
    {
     "name": "stderr",
     "output_type": "stream",
     "text": [
      "/home/av/.local/lib/python3.10/site-packages/sklearn/mixture/_base.py:274: ConvergenceWarning: Initialization 1 did not converge. Try different init parameters, or increase max_iter, tol or check for degenerate data.\n",
      "  warnings.warn(\n"
     ]
    },
    {
     "name": "stdout",
     "output_type": "stream",
     "text": [
      "Initialization 0\n",
      "  Iteration 1\t time lapse 2.55604s\t ll change inf\n",
      "  Iteration 2\t time lapse 1.05082s\t ll change 0.42982\n",
      "  Iteration 3\t time lapse 1.03926s\t ll change 0.01851\n",
      "  Iteration 4\t time lapse 1.12511s\t ll change 0.01189\n",
      "  Iteration 5\t time lapse 0.97976s\t ll change 0.00925\n",
      "  Iteration 6\t time lapse 1.01577s\t ll change 0.00782\n",
      "  Iteration 7\t time lapse 1.00962s\t ll change 0.00696\n",
      "  Iteration 8\t time lapse 0.96693s\t ll change 0.00642\n",
      "  Iteration 9\t time lapse 0.98281s\t ll change 0.00601\n",
      "  Iteration 10\t time lapse 0.99167s\t ll change 0.00558\n",
      "  Iteration 11\t time lapse 0.95675s\t ll change 0.00505\n",
      "  Iteration 12\t time lapse 0.98745s\t ll change 0.00445\n",
      "  Iteration 13\t time lapse 1.00171s\t ll change 0.00386\n",
      "  Iteration 14\t time lapse 1.01693s\t ll change 0.00332\n",
      "  Iteration 15\t time lapse 1.02817s\t ll change 0.00281\n",
      "Initialization converged: False\t time lapse 16.70915s\t ll 2.57603\n"
     ]
    },
    {
     "name": "stderr",
     "output_type": "stream",
     "text": [
      "/home/av/.local/lib/python3.10/site-packages/sklearn/mixture/_base.py:274: ConvergenceWarning: Initialization 1 did not converge. Try different init parameters, or increase max_iter, tol or check for degenerate data.\n",
      "  warnings.warn(\n"
     ]
    },
    {
     "name": "stdout",
     "output_type": "stream",
     "text": [
      "Initialization 0\n",
      "  Iteration 1\t time lapse 2.69867s\t ll change inf\n",
      "  Iteration 2\t time lapse 0.94508s\t ll change 0.60120\n",
      "  Iteration 3\t time lapse 1.04182s\t ll change 0.01994\n",
      "  Iteration 4\t time lapse 0.94011s\t ll change 0.01263\n",
      "  Iteration 5\t time lapse 0.95747s\t ll change 0.00902\n",
      "  Iteration 6\t time lapse 0.92695s\t ll change 0.00678\n",
      "  Iteration 7\t time lapse 0.92473s\t ll change 0.00528\n",
      "  Iteration 8\t time lapse 0.98599s\t ll change 0.00425\n",
      "  Iteration 9\t time lapse 0.95208s\t ll change 0.00351\n",
      "  Iteration 10\t time lapse 0.92979s\t ll change 0.00297\n",
      "  Iteration 11\t time lapse 0.94755s\t ll change 0.00256\n",
      "  Iteration 12\t time lapse 0.93294s\t ll change 0.00226\n",
      "  Iteration 13\t time lapse 0.90530s\t ll change 0.00203\n",
      "  Iteration 14\t time lapse 0.92015s\t ll change 0.00188\n",
      "  Iteration 15\t time lapse 0.94590s\t ll change 0.00176\n",
      "Initialization converged: False\t time lapse 15.95491s\t ll 2.03072\n"
     ]
    },
    {
     "name": "stderr",
     "output_type": "stream",
     "text": [
      "/home/av/.local/lib/python3.10/site-packages/sklearn/mixture/_base.py:274: ConvergenceWarning: Initialization 1 did not converge. Try different init parameters, or increase max_iter, tol or check for degenerate data.\n",
      "  warnings.warn(\n"
     ]
    },
    {
     "name": "stdout",
     "output_type": "stream",
     "text": [
      "Initialization 0\n",
      "  Iteration 1\t time lapse 2.66980s\t ll change inf\n",
      "  Iteration 2\t time lapse 0.95343s\t ll change 0.04885\n",
      "  Iteration 3\t time lapse 0.94279s\t ll change 0.01743\n",
      "  Iteration 4\t time lapse 0.99917s\t ll change 0.01075\n",
      "  Iteration 5\t time lapse 0.98409s\t ll change 0.00808\n",
      "  Iteration 6\t time lapse 0.97266s\t ll change 0.00677\n",
      "  Iteration 7\t time lapse 0.96398s\t ll change 0.00602\n",
      "  Iteration 8\t time lapse 0.96863s\t ll change 0.00541\n",
      "  Iteration 9\t time lapse 0.98286s\t ll change 0.00472\n",
      "  Iteration 10\t time lapse 0.94012s\t ll change 0.00398\n",
      "  Iteration 11\t time lapse 0.94856s\t ll change 0.00330\n",
      "  Iteration 12\t time lapse 0.96551s\t ll change 0.00274\n",
      "  Iteration 13\t time lapse 0.98284s\t ll change 0.00230\n",
      "  Iteration 14\t time lapse 0.95280s\t ll change 0.00195\n",
      "  Iteration 15\t time lapse 1.01324s\t ll change 0.00166\n",
      "Initialization converged: False\t time lapse 16.24088s\t ll 2.77646\n"
     ]
    },
    {
     "name": "stderr",
     "output_type": "stream",
     "text": [
      "/home/av/.local/lib/python3.10/site-packages/sklearn/mixture/_base.py:274: ConvergenceWarning: Initialization 1 did not converge. Try different init parameters, or increase max_iter, tol or check for degenerate data.\n",
      "  warnings.warn(\n",
      "100%|██████████| 600/600 [00:33<00:00, 17.69it/s]\n",
      "/home/av/IST/slp-labs/LAB2/pf_tools.py:89: UserWarning: The feature directory already exists, and no new feature extraction will be performed.\n",
      "  warnings.warn(\"The feature directory already exists, and no new feature extraction will be performed.\")\n"
     ]
    },
    {
     "name": "stdout",
     "output_type": "stream",
     "text": [
      "Accuracy Score = 0.6016666666666667\n",
      "\n",
      "\n",
      "Combination 60\n",
      "Initialization 0\n",
      "  Iteration 1\t time lapse 7.33805s\t ll change inf\n",
      "  Iteration 2\t time lapse 1.58473s\t ll change 0.43855\n",
      "  Iteration 3\t time lapse 1.62704s\t ll change 0.01971\n",
      "  Iteration 4\t time lapse 1.55569s\t ll change 0.01119\n",
      "  Iteration 5\t time lapse 1.57256s\t ll change 0.00769\n",
      "  Iteration 6\t time lapse 1.60984s\t ll change 0.00584\n",
      "  Iteration 7\t time lapse 1.60233s\t ll change 0.00469\n",
      "  Iteration 8\t time lapse 1.60310s\t ll change 0.00392\n",
      "  Iteration 9\t time lapse 1.57707s\t ll change 0.00338\n",
      "  Iteration 10\t time lapse 1.57284s\t ll change 0.00298\n",
      "  Iteration 11\t time lapse 1.53283s\t ll change 0.00262\n",
      "  Iteration 12\t time lapse 1.53106s\t ll change 0.00228\n",
      "  Iteration 13\t time lapse 1.62359s\t ll change 0.00193\n",
      "  Iteration 14\t time lapse 1.54113s\t ll change 0.00162\n",
      "  Iteration 15\t time lapse 1.52178s\t ll change 0.00135\n",
      "Initialization converged: False\t time lapse 29.39375s\t ll 2.79484\n"
     ]
    },
    {
     "name": "stderr",
     "output_type": "stream",
     "text": [
      "/home/av/.local/lib/python3.10/site-packages/sklearn/mixture/_base.py:274: ConvergenceWarning: Initialization 1 did not converge. Try different init parameters, or increase max_iter, tol or check for degenerate data.\n",
      "  warnings.warn(\n"
     ]
    },
    {
     "name": "stdout",
     "output_type": "stream",
     "text": [
      "Initialization 0\n",
      "  Iteration 1\t time lapse 6.52081s\t ll change inf\n",
      "  Iteration 2\t time lapse 1.74520s\t ll change 0.43531\n",
      "  Iteration 3\t time lapse 1.76858s\t ll change 0.01754\n",
      "  Iteration 4\t time lapse 1.74266s\t ll change 0.00976\n",
      "  Iteration 5\t time lapse 1.75887s\t ll change 0.00685\n",
      "  Iteration 6\t time lapse 1.79240s\t ll change 0.00536\n",
      "  Iteration 7\t time lapse 1.72042s\t ll change 0.00444\n",
      "  Iteration 8\t time lapse 1.72499s\t ll change 0.00379\n",
      "  Iteration 9\t time lapse 1.74058s\t ll change 0.00331\n",
      "  Iteration 10\t time lapse 1.79121s\t ll change 0.00296\n",
      "  Iteration 11\t time lapse 1.78280s\t ll change 0.00271\n",
      "  Iteration 12\t time lapse 1.74986s\t ll change 0.00252\n",
      "  Iteration 13\t time lapse 1.73896s\t ll change 0.00233\n",
      "  Iteration 14\t time lapse 1.73079s\t ll change 0.00213\n",
      "  Iteration 15\t time lapse 1.74192s\t ll change 0.00192\n",
      "Initialization converged: False\t time lapse 31.05017s\t ll 2.97631\n"
     ]
    },
    {
     "name": "stderr",
     "output_type": "stream",
     "text": [
      "/home/av/.local/lib/python3.10/site-packages/sklearn/mixture/_base.py:274: ConvergenceWarning: Initialization 1 did not converge. Try different init parameters, or increase max_iter, tol or check for degenerate data.\n",
      "  warnings.warn(\n"
     ]
    },
    {
     "name": "stdout",
     "output_type": "stream",
     "text": [
      "Initialization 0\n",
      "  Iteration 1\t time lapse 5.78831s\t ll change inf\n",
      "  Iteration 2\t time lapse 1.82989s\t ll change 0.42399\n",
      "  Iteration 3\t time lapse 1.89261s\t ll change 0.02452\n",
      "  Iteration 4\t time lapse 1.80229s\t ll change 0.01717\n",
      "  Iteration 5\t time lapse 1.82197s\t ll change 0.01372\n",
      "  Iteration 6\t time lapse 1.77832s\t ll change 0.01075\n",
      "  Iteration 7\t time lapse 1.85698s\t ll change 0.00792\n",
      "  Iteration 8\t time lapse 1.78351s\t ll change 0.00561\n",
      "  Iteration 9\t time lapse 1.77496s\t ll change 0.00412\n",
      "  Iteration 10\t time lapse 1.80473s\t ll change 0.00322\n",
      "  Iteration 11\t time lapse 1.80343s\t ll change 0.00263\n",
      "  Iteration 12\t time lapse 1.84321s\t ll change 0.00221\n",
      "  Iteration 13\t time lapse 1.78162s\t ll change 0.00191\n",
      "  Iteration 14\t time lapse 1.79454s\t ll change 0.00171\n",
      "  Iteration 15\t time lapse 1.80299s\t ll change 0.00156\n",
      "Initialization converged: False\t time lapse 31.15981s\t ll 2.04186\n"
     ]
    },
    {
     "name": "stderr",
     "output_type": "stream",
     "text": [
      "/home/av/.local/lib/python3.10/site-packages/sklearn/mixture/_base.py:274: ConvergenceWarning: Initialization 1 did not converge. Try different init parameters, or increase max_iter, tol or check for degenerate data.\n",
      "  warnings.warn(\n"
     ]
    },
    {
     "name": "stdout",
     "output_type": "stream",
     "text": [
      "Initialization 0\n",
      "  Iteration 1\t time lapse 4.89313s\t ll change inf\n",
      "  Iteration 2\t time lapse 1.54245s\t ll change 0.39947\n",
      "  Iteration 3\t time lapse 1.53272s\t ll change 0.01924\n",
      "  Iteration 4\t time lapse 1.56580s\t ll change 0.01202\n",
      "  Iteration 5\t time lapse 1.57157s\t ll change 0.00926\n",
      "  Iteration 6\t time lapse 1.60297s\t ll change 0.00779\n",
      "  Iteration 7\t time lapse 1.58672s\t ll change 0.00688\n",
      "  Iteration 8\t time lapse 1.57718s\t ll change 0.00623\n",
      "  Iteration 9\t time lapse 1.59788s\t ll change 0.00576\n",
      "  Iteration 10\t time lapse 1.55790s\t ll change 0.00544\n",
      "  Iteration 11\t time lapse 1.65730s\t ll change 0.00518\n",
      "  Iteration 12\t time lapse 1.59449s\t ll change 0.00490\n",
      "  Iteration 13\t time lapse 1.56608s\t ll change 0.00454\n",
      "  Iteration 14\t time lapse 1.56640s\t ll change 0.00408\n",
      "  Iteration 15\t time lapse 1.53086s\t ll change 0.00360\n",
      "Initialization converged: False\t time lapse 26.94389s\t ll 2.67038\n"
     ]
    },
    {
     "name": "stderr",
     "output_type": "stream",
     "text": [
      "/home/av/.local/lib/python3.10/site-packages/sklearn/mixture/_base.py:274: ConvergenceWarning: Initialization 1 did not converge. Try different init parameters, or increase max_iter, tol or check for degenerate data.\n",
      "  warnings.warn(\n"
     ]
    },
    {
     "name": "stdout",
     "output_type": "stream",
     "text": [
      "Initialization 0\n",
      "  Iteration 1\t time lapse 4.75914s\t ll change inf\n",
      "  Iteration 2\t time lapse 1.42750s\t ll change 0.50769\n",
      "  Iteration 3\t time lapse 1.52423s\t ll change 0.01953\n",
      "  Iteration 4\t time lapse 1.44122s\t ll change 0.01208\n",
      "  Iteration 5\t time lapse 1.43448s\t ll change 0.00902\n",
      "  Iteration 6\t time lapse 1.44380s\t ll change 0.00721\n",
      "  Iteration 7\t time lapse 1.43788s\t ll change 0.00591\n",
      "  Iteration 8\t time lapse 1.55618s\t ll change 0.00487\n",
      "  Iteration 9\t time lapse 1.44019s\t ll change 0.00403\n",
      "  Iteration 10\t time lapse 1.42073s\t ll change 0.00336\n",
      "  Iteration 11\t time lapse 1.41830s\t ll change 0.00283\n",
      "  Iteration 12\t time lapse 1.42839s\t ll change 0.00241\n",
      "  Iteration 13\t time lapse 1.57412s\t ll change 0.00208\n",
      "  Iteration 14\t time lapse 1.43623s\t ll change 0.00182\n",
      "  Iteration 15\t time lapse 1.45954s\t ll change 0.00161\n",
      "Initialization converged: False\t time lapse 25.20239s\t ll 2.11392\n"
     ]
    },
    {
     "name": "stderr",
     "output_type": "stream",
     "text": [
      "/home/av/.local/lib/python3.10/site-packages/sklearn/mixture/_base.py:274: ConvergenceWarning: Initialization 1 did not converge. Try different init parameters, or increase max_iter, tol or check for degenerate data.\n",
      "  warnings.warn(\n"
     ]
    },
    {
     "name": "stdout",
     "output_type": "stream",
     "text": [
      "Initialization 0\n",
      "  Iteration 1\t time lapse 5.21887s\t ll change inf\n",
      "  Iteration 2\t time lapse 1.50739s\t ll change 0.05672\n",
      "  Iteration 3\t time lapse 1.54281s\t ll change 0.01902\n",
      "  Iteration 4\t time lapse 1.52502s\t ll change 0.01094\n",
      "  Iteration 5\t time lapse 1.52436s\t ll change 0.00777\n",
      "  Iteration 6\t time lapse 1.57559s\t ll change 0.00603\n",
      "  Iteration 7\t time lapse 1.52479s\t ll change 0.00484\n",
      "  Iteration 8\t time lapse 1.53460s\t ll change 0.00392\n",
      "  Iteration 9\t time lapse 1.51885s\t ll change 0.00319\n",
      "  Iteration 10\t time lapse 1.50795s\t ll change 0.00263\n",
      "  Iteration 11\t time lapse 1.58231s\t ll change 0.00220\n",
      "  Iteration 12\t time lapse 1.51849s\t ll change 0.00188\n",
      "  Iteration 13\t time lapse 1.54036s\t ll change 0.00163\n",
      "  Iteration 14\t time lapse 1.50241s\t ll change 0.00143\n",
      "  Iteration 15\t time lapse 1.51986s\t ll change 0.00128\n",
      "Initialization converged: False\t time lapse 26.64379s\t ll 2.86477\n"
     ]
    },
    {
     "name": "stderr",
     "output_type": "stream",
     "text": [
      "/home/av/.local/lib/python3.10/site-packages/sklearn/mixture/_base.py:274: ConvergenceWarning: Initialization 1 did not converge. Try different init parameters, or increase max_iter, tol or check for degenerate data.\n",
      "  warnings.warn(\n",
      "100%|██████████| 600/600 [00:49<00:00, 12.13it/s]\n"
     ]
    },
    {
     "name": "stdout",
     "output_type": "stream",
     "text": [
      "Accuracy Score = 0.6216666666666667\n",
      "\n",
      "Best Model #15\n",
      "Best Parameters:\n",
      " {'audio_transform': <function <lambda> at 0x7f02b62c1480>, 'chunk_size': 1024, 'chunk_hop': 512, 'n_gauss': 32}\n",
      "Best Accuracy = 0.63\n"
     ]
    }
   ],
   "source": [
    "combinations = parameter_combinations(parameters)\n",
    "\n",
    "best_parameters = {\n",
    "    \n",
    "    # 'transform_id': None,\n",
    "    'audio_transform': None,\n",
    "    'chunk_size': None,\n",
    "    'chunk_hop': None,\n",
    "    'n_gauss': None\n",
    "}\n",
    "best_score = -float('inf')\n",
    "best_model = 0\n",
    "all_acc = []\n",
    "all_traintime = []\n",
    "\n",
    "for i, c in enumerate(combinations):\n",
    "    print('\\nCombination', i+1)\n",
    "    parms = list(c.values())\n",
    "    '''\n",
    "    parms[0] = audio_transform (lambda)\n",
    "    parms[1] = chunk_size\n",
    "    parms[2] = chunk_hop\n",
    "    parms[3] = n_gauss\n",
    "    '''\n",
    "    start = time.time()\n",
    "    trainset = 'train100'\n",
    "    trainkalaka = Kalaka(\n",
    "        CWD, trainset,\n",
    "        transform_id='mfcc',\n",
    "        audio_transform=parms[0],\n",
    "        chunk_transform=None,\n",
    "        chunk_size=parms[1],\n",
    "        chunk_hop=parms[2]\n",
    "    )\n",
    "\n",
    "    # print('Training model')\n",
    "    train_data, train_labels = concat_kalaka(trainkalaka)\n",
    "\n",
    "    GMM = {}\n",
    "    for l, lang in enumerate(LANGUAGES):\n",
    "        GMM[lang] = GaussianMixture(\n",
    "            n_components = parms[3],\n",
    "            covariance_type='diag',\n",
    "            max_iter=15, n_init=1,\n",
    "            init_params='kmeans',\n",
    "            verbose=2, verbose_interval=1\n",
    "        )\n",
    "        GMM[lang].fit(train_data[train_labels==LANG2ID[lang]])\n",
    "    all_traintime.append(time.time() - start)\n",
    "\n",
    "    # score = GMM.score(train_data)\n",
    "    acc = eval_gmm(GMM, trainkalaka)\n",
    "    print(f'Accuracy Score = {acc}\\n')\n",
    "\n",
    "    all_acc.append(acc)\n",
    "\n",
    "    if acc > best_score:\n",
    "        best_score = acc\n",
    "        best_model = i+1\n",
    "        best_parameters = c.copy()\n",
    "        best_GMM = GMM.copy()\n",
    "\n",
    "\n",
    "\n",
    "print(f'Best Model #{best_model}')\n",
    "print('Best Parameters:\\n', best_parameters)\n",
    "print('Best Accuracy =', best_score)"
   ]
  },
  {
   "cell_type": "code",
   "execution_count": 21,
   "metadata": {},
   "outputs": [
    {
     "data": {
      "text/html": [
       "<div>\n",
       "<style scoped>\n",
       "    .dataframe tbody tr th:only-of-type {\n",
       "        vertical-align: middle;\n",
       "    }\n",
       "\n",
       "    .dataframe tbody tr th {\n",
       "        vertical-align: top;\n",
       "    }\n",
       "\n",
       "    .dataframe thead th {\n",
       "        text-align: right;\n",
       "    }\n",
       "</style>\n",
       "<table border=\"1\" class=\"dataframe\">\n",
       "  <thead>\n",
       "    <tr style=\"text-align: right;\">\n",
       "      <th></th>\n",
       "      <th>model</th>\n",
       "      <th>parms</th>\n",
       "      <th>train_time</th>\n",
       "      <th>acc_score</th>\n",
       "    </tr>\n",
       "  </thead>\n",
       "  <tbody>\n",
       "    <tr>\n",
       "      <th>14</th>\n",
       "      <td>15</td>\n",
       "      <td>{'audio_transform': &lt;function &lt;lambda&gt; at 0x7f...</td>\n",
       "      <td>393.761772</td>\n",
       "      <td>0.630</td>\n",
       "    </tr>\n",
       "    <tr>\n",
       "      <th>5</th>\n",
       "      <td>6</td>\n",
       "      <td>{'audio_transform': &lt;function &lt;lambda&gt; at 0x7f...</td>\n",
       "      <td>184.193125</td>\n",
       "      <td>0.625</td>\n",
       "    </tr>\n",
       "    <tr>\n",
       "      <th>53</th>\n",
       "      <td>54</td>\n",
       "      <td>{'audio_transform': &lt;function &lt;lambda&gt; at 0x7f...</td>\n",
       "      <td>185.102380</td>\n",
       "      <td>0.625</td>\n",
       "    </tr>\n",
       "  </tbody>\n",
       "</table>\n",
       "</div>"
      ],
      "text/plain": [
       "    model                                              parms  train_time  \\\n",
       "14     15  {'audio_transform': <function <lambda> at 0x7f...  393.761772   \n",
       "5       6  {'audio_transform': <function <lambda> at 0x7f...  184.193125   \n",
       "53     54  {'audio_transform': <function <lambda> at 0x7f...  185.102380   \n",
       "\n",
       "    acc_score  \n",
       "14      0.630  \n",
       "5       0.625  \n",
       "53      0.625  "
      ]
     },
     "execution_count": 21,
     "metadata": {},
     "output_type": "execute_result"
    }
   ],
   "source": [
    "model_history = pd.DataFrame({\n",
    "    'model': list(range(1, len(combinations)+1)),\n",
    "    'parms': combinations,\n",
    "    'train_time': all_traintime,\n",
    "    'acc_score': all_acc\n",
    "})\n",
    "model_history.sort_values(\n",
    "    by=['acc_score', 'train_time'],\n",
    "    ascending=[False, True],\n",
    "    inplace=True\n",
    ")\n",
    "model_history.reset_index(drop=True)\n",
    "\n",
    "best_parameters = model_history['parms'][0]\n",
    "\n",
    "model_history[0:3]"
   ]
  },
  {
   "cell_type": "code",
   "execution_count": 22,
   "metadata": {
    "scrolled": true
   },
   "outputs": [
    {
     "name": "stdout",
     "output_type": "stream",
     "text": [
      "Finished reading all data in 0.40483975410461426\n"
     ]
    }
   ],
   "source": [
    "# IN GMM training each training sample contains more than one frame;\n",
    "# so we cocatenate all data to have all training datain one array \n",
    "# and the corresponding label with same time duration\n",
    "# actually, here the chunking process is useless, I could have obtained the same without chunking (with slight differences due to trunkation)\n",
    "\n",
    "#This method cannot be used with opensmile\n",
    "start = time.time()\n",
    "train_data = []\n",
    "train_labels = []\n",
    "for data, label, basename in trainkalaka:\n",
    "        train_data.append(data)\n",
    "        train_labels.append(np.full(data.shape[0], label)) \n",
    "\n",
    "train_data = np.concatenate(train_data)\n",
    "train_labels = np.concatenate(train_labels)\n",
    "\n",
    "print(f'Finished reading all data in {time.time() - start}')"
   ]
  },
  {
   "attachments": {},
   "cell_type": "markdown",
   "metadata": {},
   "source": [
    "Let's go training. Again, depending of the amount of data used, the model complexity and computational resources of the machine that you're using, this can take a while. So, relax while the computer works for you!"
   ]
  },
  {
   "cell_type": "code",
   "execution_count": 23,
   "metadata": {},
   "outputs": [
    {
     "data": {
      "text/plain": [
       "\"\\nmodels = {}\\nn_gauss = 64\\nfor lang in LANGUAGES:\\n    models[lang] = GaussianMixture(n_components=n_gauss, covariance_type='diag', max_iter=20, n_init=1, init_params='kmeans', verbose=2, verbose_interval=1)\\n    \\nfor lang in LANGUAGES:\\n    print(f'Training model for {lang}')\\n    models[lang].fit(train_data[train_labels==LANG2ID[lang]])\\n\""
      ]
     },
     "execution_count": 23,
     "metadata": {},
     "output_type": "execute_result"
    }
   ],
   "source": [
    "## TRAIN GMM models (ML)\n",
    "\"\"\"\n",
    "models = {}\n",
    "n_gauss = 64\n",
    "for lang in LANGUAGES:\n",
    "    models[lang] = GaussianMixture(n_components=n_gauss, covariance_type='diag', max_iter=20, n_init=1, init_params='kmeans', verbose=2, verbose_interval=1)\n",
    "    \n",
    "for lang in LANGUAGES:\n",
    "    print(f'Training model for {lang}')\n",
    "    models[lang].fit(train_data[train_labels==LANG2ID[lang]])\n",
    "\"\"\""
   ]
  },
  {
   "attachments": {},
   "cell_type": "markdown",
   "metadata": {},
   "source": [
    "Now we have two arrays containing the complete training dataset and the corresponging reference labels. Check the sizes, may be have a look to the content of one time instant. Do some checks on the data to be sure that everything is as expected:"
   ]
  },
  {
   "attachments": {},
   "cell_type": "markdown",
   "metadata": {},
   "source": [
    "## Identification and generation of the predictions file\n",
    "\n",
    "Now that we  already have trained models, let's predict/identify language in new audio data and test our model!!! \n",
    "\n",
    "But first, we need to obtain the development partition and do the feature extraction more or less as previously (using the Kalaka class).\n",
    "\n",
    "**IMPORTANT WARNING** Make sure to use the exact same feature extraction process as the one used for the train set. Otherwise, your model will be in disagreement with your evaluation data, and very likely, will not work at all.\n"
   ]
  },
  {
   "cell_type": "code",
   "execution_count": 24,
   "metadata": {},
   "outputs": [
    {
     "name": "stderr",
     "output_type": "stream",
     "text": [
      "100%|██████████| 1.84G/1.84G [02:10<00:00, 15.1MB/s]\n",
      "100%|██████████| 917/917 [02:25<00:00,  6.31it/s]\n"
     ]
    }
   ],
   "source": [
    "# Download and feature extract\n",
    "# transform_id = 'opensmile'\n",
    "transform_id = 'mfcc'\n",
    "\n",
    "# Notice that the chunking is mostly useless both in training and prediction with GMMs: each frame is a sample for which we obtain the probs\n",
    "devkalaka = Kalaka(\n",
    "    CWD,'dev', \n",
    "    transform_id = transform_id, \n",
    "    audio_transform = best_parameters['audio_transform'], \n",
    "    chunk_transform = None,\n",
    "    chunk_size = best_parameters['chunk_size'], \n",
    "    chunk_hop = best_parameters['chunk_hop']\n",
    ")"
   ]
  },
  {
   "attachments": {},
   "cell_type": "markdown",
   "metadata": {},
   "source": [
    "Now, we can iterate the data and use the models for scoring:"
   ]
  },
  {
   "cell_type": "code",
   "execution_count": 25,
   "metadata": {},
   "outputs": [
    {
     "name": "stdout",
     "output_type": "stream",
     "text": [
      "Finished reading all data in 1.4551963806152344\n"
     ]
    }
   ],
   "source": [
    "start = time.time()\n",
    "dev_data = {}\n",
    "\n",
    "for data, label, basename in devkalaka:\n",
    "        if basename not in dev_data:\n",
    "                dev_data[basename] = {'data':[], 'label':label}\n",
    "        dev_data[basename]['data'].append(data)\n",
    "\n",
    "## We concatenate all the frames belonging to the same filename\n",
    "for basename in dev_data:\n",
    "        dev_data[basename]['data'] = np.concatenate(dev_data[basename]['data'])\n",
    "\n",
    "print(f'Finished reading all data in {time.time() - start}')"
   ]
  },
  {
   "cell_type": "code",
   "execution_count": 26,
   "metadata": {
    "scrolled": false
   },
   "outputs": [
    {
     "name": "stderr",
     "output_type": "stream",
     "text": [
      "100%|██████████| 917/917 [02:11<00:00,  6.96it/s]"
     ]
    },
    {
     "name": "stdout",
     "output_type": "stream",
     "text": [
      "Finished predicting all data in 131.76763677597046\n"
     ]
    },
    {
     "name": "stderr",
     "output_type": "stream",
     "text": [
      "\n"
     ]
    }
   ],
   "source": [
    "start = time.time()\n",
    "\n",
    "results_dev = {}\n",
    "results_dev['ref'] =  np.empty(len(dev_data),dtype=np.int32)\n",
    "results_dev['hyp'] =  np.empty(len(dev_data),dtype=np.int32)\n",
    "results_dev['llhs'] = np.empty((len(dev_data), len(LANGUAGES)), dtype=np.float64)\n",
    "results_dev['fileids'] = list()\n",
    "\n",
    "for i, fileid in tqdm(enumerate(sorted(dev_data)), total=len(dev_data)):\n",
    "    data = dev_data[fileid]['data']  # the features\n",
    "    \n",
    "    results_dev['fileids'].append(fileid)     #fileid\n",
    "\n",
    "    # obtain the log-likelihood score for each model and store\n",
    "    results_dev['llhs'][i,:] = np.array([best_GMM[lang].score(data) for lang in LANGUAGES])\n",
    "\n",
    "    # store the reference. Notice that I only have this for the dev set, not for the eval\n",
    "    results_dev['ref'][i] = (dev_data[fileid]['label']) #reference\n",
    "\n",
    "    # Obtain the maximum likelihood languge estimation\n",
    "    ix = np.argmax(results_dev['llhs'][i,:])\n",
    "    results_dev['hyp'][i] = LANG2ID[LANGUAGES[ix]]\n",
    "    \n",
    "    \n",
    "print(f'Finished predicting all data in {time.time() - start}')\n"
   ]
  },
  {
   "attachments": {},
   "cell_type": "markdown",
   "metadata": {},
   "source": [
    "\n",
    "## Evaluation\n",
    "After running the previous cells, we obtain two arrays with the reference and hypothesis labels, respectively (we can also reload them in case we need them). We can use these to obtain different evaluation metrics and inspect the performance (and potential problems) of our system. Of course, you will only be able to do this evaluation with the development set, since you don't have access to the eval labels."
   ]
  },
  {
   "attachments": {},
   "cell_type": "markdown",
   "metadata": {},
   "source": [
    "You can for instance obtain a classification report summary:"
   ]
  },
  {
   "cell_type": "code",
   "execution_count": 27,
   "metadata": {},
   "outputs": [
    {
     "name": "stdout",
     "output_type": "stream",
     "text": [
      "              precision    recall  f1-score   support\n",
      "\n",
      "      Basque       0.31      0.13      0.18       154\n",
      "     Catalan       0.18      0.12      0.15       149\n",
      "     English       0.17      0.20      0.19       150\n",
      "    Galician       0.15      0.34      0.21       151\n",
      "  Portuguese       0.17      0.11      0.13       160\n",
      "     Spanish       0.20      0.18      0.19       153\n",
      "\n",
      "    accuracy                           0.18       917\n",
      "   macro avg       0.20      0.18      0.18       917\n",
      "weighted avg       0.20      0.18      0.17       917\n",
      "\n"
     ]
    }
   ],
   "source": [
    "ref, hyp = results_dev['ref'], results_dev['hyp']\n",
    "print(classification_report(ref, hyp, target_names=LANGUAGES))"
   ]
  },
  {
   "attachments": {},
   "cell_type": "markdown",
   "metadata": {},
   "source": [
    "Overall accuracy (this will be the **main metric for system ranking**) Or a confusion matrix:"
   ]
  },
  {
   "cell_type": "code",
   "execution_count": 28,
   "metadata": {},
   "outputs": [
    {
     "name": "stdout",
     "output_type": "stream",
     "text": [
      "Accuracy Score = 0.17993456924754633\n",
      "Confusion Matrix = [[20 18 30 54 10 22]\n",
      " [10 18 21 50 17 33]\n",
      " [ 8  6 30 57 30 19]\n",
      " [ 8 23 28 51 17 24]\n",
      " [ 5 18 37 67 18 15]\n",
      " [13 15 26 54 17 28]]\n"
     ]
    }
   ],
   "source": [
    "print('Accuracy Score =', accuracy_score(ref, hyp))\n",
    "print('Confusion Matrix =', confusion_matrix(ref, hyp))"
   ]
  },
  {
   "attachments": {},
   "cell_type": "markdown",
   "metadata": {},
   "source": [
    "and visualize it:"
   ]
  },
  {
   "cell_type": "code",
   "execution_count": 29,
   "metadata": {},
   "outputs": [
    {
     "data": {
      "image/png": "[encoded data removed]",
      "text/plain": [
       "<Figure size 300x300 with 1 Axes>"
      ]
     },
     "metadata": {},
     "output_type": "display_data"
    }
   ],
   "source": [
    "conf_matrix = confusion_matrix(ref, hyp)\n",
    "\n",
    "fig, ax = plt.subplots(figsize=(3.0, 3.0))\n",
    "ax.matshow(conf_matrix, cmap=plt.cm.Blues, alpha=0.3)\n",
    "for i in range(conf_matrix.shape[0]):\n",
    "    for j in range(conf_matrix.shape[1]):\n",
    "        ax.text(x=j, y=i,s=conf_matrix[i, j], va='center', ha='center')\n",
    "\n",
    "plt.xlabel('Predictions', fontsize=12)\n",
    "plt.ylabel('Actuals', fontsize=12)\n",
    "plt.title(f'Confusion Matrix\\n(Accuracy {100*accuracy_score(ref, hyp):.2f})', fontsize=12)\n",
    "plt.show()"
   ]
  },
  {
   "attachments": {},
   "cell_type": "markdown",
   "metadata": {},
   "source": [
    "These results are poor. The baseline system is very limited in several aspects (features, time context, generative model, etc.). For instance, the likelihood scores are not normalized. It may happen, that one model  provides slightly higher scores for some reason. The following trick sometimes increases slightly the results:"
   ]
  },
  {
   "cell_type": "code",
   "execution_count": 30,
   "metadata": {},
   "outputs": [],
   "source": [
    "llhs_norm = (results_dev['llhs'] - results_dev['llhs'].mean(axis=0))\n",
    "hyp_norm = np.empty(hyp.shape, like=hyp)\n",
    "for i in range(len(results_dev['fileids'])):\n",
    "    ix = np.argmax(llhs_norm[i,:])\n",
    "    hyp_norm[i] = LANG2ID[LANGUAGES[ix]]\n"
   ]
  },
  {
   "cell_type": "code",
   "execution_count": 31,
   "metadata": {},
   "outputs": [
    {
     "data": {
      "image/png": "[encoded data removed]",
      "text/plain": [
       "<Figure size 300x300 with 1 Axes>"
      ]
     },
     "metadata": {},
     "output_type": "display_data"
    }
   ],
   "source": [
    "conf_matrix = confusion_matrix(ref, hyp_norm)\n",
    "\n",
    "fig, ax = plt.subplots(figsize=(3.0, 3.0))\n",
    "ax.matshow(conf_matrix, cmap=plt.cm.Blues, alpha=0.3)\n",
    "for i in range(conf_matrix.shape[0]):\n",
    "    for j in range(conf_matrix.shape[1]):\n",
    "        ax.text(x=j, y=i,s=conf_matrix[i, j], va='center', ha='center')\n",
    "\n",
    "plt.xlabel('Predictions', fontsize=12)\n",
    "plt.ylabel('Actuals', fontsize=12)\n",
    "plt.title(f'Confusion Matrix\\n(Accuracy {100*accuracy_score(ref, hyp_norm):.2f})', fontsize=12)\n",
    "plt.show()"
   ]
  },
  {
   "attachments": {},
   "cell_type": "markdown",
   "metadata": {},
   "source": [
    "This \"trick\" is probematic. Can you discuss why? Can you think of an altenative way of doing the same kind of normalization?"
   ]
  },
  {
   "attachments": {},
   "cell_type": "markdown",
   "metadata": {},
   "source": [
    "# Creating Dataset from opensmile features"
   ]
  },
  {
   "cell_type": "code",
   "execution_count": 32,
   "metadata": {},
   "outputs": [
    {
     "name": "stderr",
     "output_type": "stream",
     "text": [
      "100%|██████████| 600/600 [00:53<00:00, 11.13it/s]\n"
     ]
    },
    {
     "name": "stdout",
     "output_type": "stream",
     "text": [
      "0\n",
      "0\n",
      "1\n",
      "2\n",
      "3\n",
      "4\n",
      "5\n",
      "6\n",
      "7\n",
      "8\n",
      "9\n",
      "10\n",
      "11\n",
      "12\n",
      "13\n",
      "14\n",
      "15\n",
      "16\n",
      "17\n",
      "18\n",
      "19\n",
      "20\n",
      "21\n",
      "22\n",
      "23\n",
      "24\n",
      "25\n",
      "26\n",
      "27\n",
      "28\n",
      "29\n",
      "30\n",
      "31\n",
      "32\n",
      "33\n",
      "34\n",
      "35\n",
      "36\n",
      "37\n",
      "38\n",
      "39\n",
      "40\n",
      "41\n",
      "42\n",
      "43\n",
      "44\n",
      "45\n",
      "46\n",
      "47\n",
      "48\n",
      "49\n",
      "50\n",
      "51\n",
      "52\n",
      "53\n",
      "54\n",
      "55\n",
      "56\n",
      "57\n",
      "58\n",
      "59\n",
      "60\n",
      "61\n",
      "62\n",
      "63\n",
      "64\n",
      "65\n",
      "66\n",
      "67\n",
      "68\n",
      "69\n",
      "70\n",
      "71\n",
      "72\n",
      "73\n",
      "74\n",
      "75\n",
      "76\n",
      "77\n",
      "78\n",
      "79\n",
      "80\n",
      "81\n",
      "82\n",
      "83\n",
      "84\n",
      "85\n",
      "86\n",
      "87\n",
      "88\n",
      "89\n",
      "90\n",
      "91\n",
      "92\n",
      "93\n",
      "94\n",
      "95\n",
      "96\n",
      "97\n",
      "98\n",
      "99\n",
      "100\n",
      "100\n",
      "101\n",
      "102\n",
      "103\n",
      "104\n",
      "105\n",
      "106\n",
      "107\n",
      "108\n",
      "109\n",
      "110\n",
      "111\n",
      "112\n",
      "113\n",
      "114\n",
      "115\n",
      "116\n",
      "117\n",
      "118\n",
      "119\n",
      "120\n",
      "121\n",
      "122\n",
      "123\n",
      "124\n",
      "125\n",
      "126\n",
      "127\n",
      "128\n",
      "129\n",
      "130\n",
      "131\n",
      "132\n",
      "133\n",
      "134\n",
      "135\n",
      "136\n",
      "137\n",
      "138\n",
      "139\n",
      "140\n",
      "141\n",
      "142\n",
      "143\n",
      "144\n",
      "145\n",
      "146\n",
      "147\n",
      "148\n",
      "149\n",
      "150\n",
      "151\n",
      "152\n",
      "153\n",
      "154\n",
      "155\n",
      "156\n",
      "157\n",
      "158\n",
      "159\n",
      "160\n",
      "161\n",
      "162\n",
      "163\n",
      "164\n",
      "165\n",
      "166\n",
      "167\n",
      "168\n",
      "169\n",
      "170\n",
      "171\n",
      "172\n",
      "173\n",
      "174\n",
      "175\n",
      "176\n",
      "177\n",
      "178\n",
      "179\n",
      "180\n",
      "181\n",
      "182\n",
      "183\n",
      "184\n",
      "185\n",
      "186\n",
      "187\n",
      "188\n",
      "189\n",
      "190\n",
      "191\n",
      "192\n",
      "193\n",
      "194\n",
      "195\n",
      "196\n",
      "197\n",
      "198\n",
      "199\n",
      "200\n",
      "200\n",
      "201\n",
      "202\n",
      "203\n",
      "204\n",
      "205\n",
      "206\n",
      "207\n",
      "208\n",
      "209\n",
      "210\n",
      "211\n",
      "212\n",
      "213\n",
      "214\n",
      "215\n",
      "216\n",
      "217\n",
      "218\n",
      "219\n",
      "220\n",
      "221\n",
      "222\n",
      "223\n",
      "224\n",
      "225\n",
      "226\n",
      "227\n",
      "228\n",
      "229\n",
      "230\n",
      "231\n",
      "232\n",
      "233\n",
      "234\n",
      "235\n",
      "236\n",
      "237\n",
      "238\n",
      "239\n",
      "240\n",
      "241\n",
      "242\n",
      "243\n",
      "244\n",
      "245\n",
      "246\n",
      "247\n",
      "248\n",
      "249\n",
      "250\n",
      "251\n",
      "252\n",
      "253\n",
      "254\n",
      "255\n",
      "256\n",
      "257\n",
      "258\n",
      "259\n",
      "260\n",
      "261\n",
      "262\n",
      "263\n",
      "264\n",
      "265\n",
      "266\n",
      "267\n",
      "268\n",
      "269\n",
      "270\n",
      "271\n",
      "272\n",
      "273\n",
      "274\n",
      "275\n",
      "276\n",
      "277\n",
      "278\n",
      "279\n",
      "280\n",
      "281\n",
      "282\n",
      "283\n",
      "284\n",
      "285\n",
      "286\n",
      "287\n",
      "288\n",
      "289\n",
      "290\n",
      "291\n",
      "292\n",
      "293\n",
      "294\n",
      "295\n",
      "296\n",
      "297\n",
      "298\n",
      "299\n",
      "300\n",
      "300\n",
      "301\n",
      "302\n",
      "303\n",
      "304\n",
      "305\n",
      "306\n",
      "307\n",
      "308\n",
      "309\n",
      "310\n",
      "311\n",
      "312\n",
      "313\n",
      "314\n",
      "315\n",
      "316\n",
      "317\n",
      "318\n",
      "319\n",
      "320\n",
      "321\n",
      "322\n",
      "323\n",
      "324\n",
      "325\n",
      "326\n",
      "327\n",
      "328\n",
      "329\n",
      "330\n",
      "331\n",
      "332\n",
      "333\n",
      "334\n",
      "335\n",
      "336\n",
      "337\n",
      "338\n",
      "339\n",
      "340\n",
      "341\n",
      "342\n",
      "343\n",
      "344\n",
      "345\n",
      "346\n",
      "347\n",
      "348\n",
      "349\n",
      "350\n",
      "351\n",
      "352\n",
      "353\n",
      "354\n",
      "355\n",
      "356\n",
      "357\n",
      "358\n",
      "359\n",
      "360\n",
      "361\n",
      "362\n",
      "363\n",
      "364\n",
      "365\n",
      "366\n",
      "367\n",
      "368\n",
      "369\n",
      "370\n",
      "371\n",
      "372\n",
      "373\n",
      "374\n",
      "375\n",
      "376\n",
      "377\n",
      "378\n",
      "379\n",
      "380\n",
      "381\n",
      "382\n",
      "383\n",
      "384\n",
      "385\n",
      "386\n",
      "387\n",
      "388\n",
      "389\n",
      "390\n",
      "391\n",
      "392\n",
      "393\n",
      "394\n",
      "395\n",
      "396\n",
      "397\n",
      "398\n",
      "399\n",
      "400\n",
      "400\n",
      "401\n",
      "402\n",
      "403\n",
      "404\n",
      "405\n",
      "406\n",
      "407\n",
      "408\n",
      "409\n",
      "410\n",
      "411\n",
      "412\n",
      "413\n",
      "414\n",
      "415\n",
      "416\n",
      "417\n",
      "418\n",
      "419\n",
      "420\n",
      "421\n",
      "422\n",
      "423\n",
      "424\n",
      "425\n",
      "426\n",
      "427\n",
      "428\n",
      "429\n",
      "430\n",
      "431\n",
      "432\n",
      "433\n",
      "434\n",
      "435\n",
      "436\n",
      "437\n",
      "438\n",
      "439\n",
      "440\n",
      "441\n",
      "442\n",
      "443\n",
      "444\n",
      "445\n",
      "446\n",
      "447\n",
      "448\n",
      "449\n",
      "450\n",
      "451\n",
      "452\n",
      "453\n",
      "454\n",
      "455\n",
      "456\n",
      "457\n",
      "458\n",
      "459\n",
      "460\n",
      "461\n",
      "462\n",
      "463\n",
      "464\n",
      "465\n",
      "466\n",
      "467\n",
      "468\n",
      "469\n",
      "470\n",
      "471\n",
      "472\n",
      "473\n",
      "474\n",
      "475\n",
      "476\n",
      "477\n",
      "478\n",
      "479\n",
      "480\n",
      "481\n",
      "482\n",
      "483\n",
      "484\n",
      "485\n",
      "486\n",
      "487\n",
      "488\n",
      "489\n",
      "490\n",
      "491\n",
      "492\n",
      "493\n",
      "494\n",
      "495\n",
      "496\n",
      "497\n",
      "498\n",
      "499\n",
      "500\n",
      "500\n",
      "501\n",
      "502\n",
      "503\n",
      "504\n",
      "505\n",
      "506\n",
      "507\n",
      "508\n",
      "509\n",
      "510\n",
      "511\n",
      "512\n",
      "513\n",
      "514\n",
      "515\n",
      "516\n",
      "517\n",
      "518\n",
      "519\n",
      "520\n",
      "521\n",
      "522\n",
      "523\n",
      "524\n",
      "525\n",
      "526\n",
      "527\n",
      "528\n",
      "529\n",
      "530\n",
      "531\n",
      "532\n",
      "533\n",
      "534\n",
      "535\n",
      "536\n",
      "537\n",
      "538\n",
      "539\n",
      "540\n",
      "541\n",
      "542\n",
      "543\n",
      "544\n",
      "545\n",
      "546\n",
      "547\n",
      "548\n",
      "549\n",
      "550\n",
      "551\n",
      "552\n",
      "553\n",
      "554\n",
      "555\n",
      "556\n",
      "557\n",
      "558\n",
      "559\n",
      "560\n",
      "561\n",
      "562\n",
      "563\n",
      "564\n",
      "565\n",
      "566\n",
      "567\n",
      "568\n",
      "569\n",
      "570\n",
      "571\n",
      "572\n",
      "573\n",
      "574\n",
      "575\n",
      "576\n",
      "577\n",
      "578\n",
      "579\n",
      "580\n",
      "581\n",
      "582\n",
      "583\n",
      "584\n",
      "585\n",
      "586\n",
      "587\n",
      "588\n",
      "589\n",
      "590\n",
      "591\n",
      "592\n",
      "593\n",
      "594\n",
      "595\n",
      "596\n",
      "597\n",
      "598\n",
      "599\n"
     ]
    },
    {
     "ename": "NameError",
     "evalue": "name 'joblib' is not defined",
     "output_type": "error",
     "traceback": [
      "\u001b[0;31m---------------------------------------------------------------------------\u001b[0m",
      "\u001b[0;31mNameError\u001b[0m                                 Traceback (most recent call last)",
      "Cell \u001b[0;32mIn[32], line 21\u001b[0m\n\u001b[1;32m     19\u001b[0m train_data \u001b[39m=\u001b[39m np\u001b[39m.\u001b[39mvstack(train_data)\n\u001b[1;32m     20\u001b[0m train_labels \u001b[39m=\u001b[39m np\u001b[39m.\u001b[39mconcatenate(train_labels)\n\u001b[0;32m---> 21\u001b[0m joblib\u001b[39m.\u001b[39mdump(dev_data,\u001b[39m'\u001b[39m\u001b[39mtrain100\u001b[39m\u001b[39m\\\\\u001b[39;00m\u001b[39mopensmile.pkl\u001b[39m\u001b[39m'\u001b[39m)\n",
      "\u001b[0;31mNameError\u001b[0m: name 'joblib' is not defined"
     ]
    }
   ],
   "source": [
    "#For opensmile:\n",
    "train_data = []\n",
    "train_labels = []\n",
    "trainkalaka = Kalaka(CWD, 'train100', transform_id='raw', audio_transform=audio_transform)\n",
    "\n",
    "\n",
    "start = time.time()\n",
    "train_data = []\n",
    "train_labels = []\n",
    "i=0\n",
    "for data, label, basename in trainkalaka:\n",
    "    print(i)\n",
    "    train_data.append(opensmile_feats(data.reshape(np.shape(data)[0]),sr=16000))\n",
    "    train_labels.append([label]) \n",
    "    if i%100==0:\n",
    "        print(i)\n",
    "    i=i+1\n",
    "        \n",
    "train_data = np.vstack(train_data)\n",
    "train_labels = np.concatenate(train_labels)\n",
    "joblib.dump(dev_data,'train100\\\\opensmile.pkl')\n"
   ]
  },
  {
   "cell_type": "code",
   "execution_count": null,
   "metadata": {},
   "outputs": [],
   "source": [
    "#For opensmile:\n",
    "dev_data = []\n",
    "dev_labels = []\n",
    "devkalaka = Kalaka(CWD, 'dev', transform_id='raw', audio_transform=audio_transform)\n",
    "\n",
    "\n",
    "start = time.time()\n",
    "train_data = []\n",
    "train_labels = []\n",
    "i=0\n",
    "for data, label, basename in devkalaka:\n",
    "    print(i)\n",
    "    dev_data.append(opensmile_feats(data.reshape(np.shape(data)[0]),sr=16000))\n",
    "    dev_labels.append([label]) \n",
    "    if i%100==0:\n",
    "        print(i)\n",
    "    i=i+1\n",
    "        \n",
    "dev_data = np.vstack(dev_data)\n",
    "dev_labels = np.concatenate(dev_labels)\n"
   ]
  },
  {
   "cell_type": "code",
   "execution_count": null,
   "metadata": {},
   "outputs": [],
   "source": [
    "#Let's train a GBDT\n",
    "from lightgbm import LGBMClassifier, plot_importance, plot_tree\n",
    "import sklearn as skl\n",
    "from sklearn.model_selection import ParameterSampler\n",
    "import numpy as np\n",
    "import math\n",
    "from scipy.stats import uniform\n",
    "\n",
    "def lgbm_param_sampler(n_iters,seed,device):\n",
    "    param_grid={'num_iterations': \n",
    "                range(30, 200),\n",
    "        'learning_rate':\n",
    "            uniform(loc=0.001, scale=1-0.001 ),\n",
    "        'num_leaves':\n",
    "            range( 5, 100 ),\n",
    "        'boosting_type':\n",
    "            [\"goss\"],\n",
    "        'min_data_in_leaf':\n",
    "            range( 2, 50 ),\n",
    "        'max_bin':\n",
    "            range( 3, 100 ),\n",
    "        'device': \n",
    "            [device]}\n",
    "    param_list = list(ParameterSampler(param_grid, n_iter=n_iters, random_state=np.random.RandomState(seed)))\n",
    "    return param_list\n",
    "\n",
    "params=lgbm_param_sampler(50,1213,'cpu')\n",
    "i=0\n",
    "for k in params:\n",
    "    lgbm=LGBMClassifier(**k,objective='multiclass',verbose=-1,verbose_eval=-1)\n",
    "    lgbm.fit(train_data,train_labels)\n",
    "    y_hat=lgbm.predict(dev_data)\n",
    "    print('iter :',i,'--- dev accuracy: ',accuracy_score(y_hat,dev_labels)) #???\n",
    "    #print(confusion_matrix(dev_labels, y_hat))\n",
    "    i=i+1"
   ]
  },
  {
   "cell_type": "code",
   "execution_count": null,
   "metadata": {},
   "outputs": [
    {
     "name": "stderr",
     "output_type": "stream",
     "text": [
      "100%|██████████| 917/917 [00:02<00:00, 306.21it/s]"
     ]
    },
    {
     "name": "stdout",
     "output_type": "stream",
     "text": [
      "Finished predicting all data in 2.9981255531311035\n"
     ]
    },
    {
     "name": "stderr",
     "output_type": "stream",
     "text": [
      "\n"
     ]
    }
   ],
   "source": [
    "start = time.time()\n",
    "\n",
    "results_dev = {}\n",
    "results_dev['ref'] =  np.empty(len(dev_data),dtype=np.int32)\n",
    "results_dev['hyp'] =  np.empty(len(dev_data),dtype=np.int32)\n",
    "results_dev['estimated_prob'] =  np.empty((len(dev_data), len(LANGUAGES)), dtype=np.float64)\n",
    "results_dev['fileids'] = list()\n",
    "\n",
    "for i, fileid in tqdm(enumerate(sorted(dev_data)), total=len(dev_data)):\n",
    "    data = dev_data[fileid]['data']  # the features\n",
    "    \n",
    "    results_dev['fileids'].append(fileid)     #fileid\n",
    "\n",
    "    # obtain the log-likelihood score for each model and store\n",
    "    results_dev['estimated_prob'][i,:] = np.array([lgbm.predict_proba(data.reshape(1,-1))[0,i] for i in range(len(LANGUAGES))])\n",
    "\n",
    "    # store the reference. Notice that I only have this for the dev set, not for the eval\n",
    "    results_dev['ref'][i] = (dev_data[fileid]['label']) #reference\n",
    "\n",
    "    # Obtain the maximum likelihood languge estimation\n",
    "    ix = lgbm.predict(data.reshape(1,-1))\n",
    "    results_dev['hyp'][i] = ix\n",
    "    \n",
    "    \n",
    "print(f'Finished predicting all data in {time.time() - start}')\n"
   ]
  },
  {
   "attachments": {},
   "cell_type": "markdown",
   "metadata": {},
   "source": [
    "## Running the prediction on the evl partition\n",
    "\n",
    "Once you are happy with your system and the results obtained in the development set, you are ready to generate the predictions on the `'evl'` partition. To do that, you have to follow the same process as for the development partition, but of course, this time you will not be able to obtain performance results because you don't have labels for this partition. \n",
    "\n",
    "We start by instantiating the `Kalaka` class for the `'evl'` partition:\n"
   ]
  },
  {
   "cell_type": "code",
   "execution_count": null,
   "metadata": {},
   "outputs": [],
   "source": [
    "transform_id = 'mfcc'\n",
    "\n",
    "evlkalaka = Kalaka(\n",
    "    CWD,'evl',\n",
    "    transform_id = transform_id, \n",
    "    audio_transform = best_parameters['audio_transform'], \n",
    "    chunk_transform = None,\n",
    "    chunk_size = best_parameters['chunk_size'], \n",
    "    chunk_hop = best_parameters['chunk_hop']\n",
    ")"
   ]
  },
  {
   "attachments": {},
   "cell_type": "markdown",
   "metadata": {},
   "source": [
    "Then, we load the evaluation data:"
   ]
  },
  {
   "cell_type": "code",
   "execution_count": null,
   "metadata": {},
   "outputs": [],
   "source": [
    "start = time.time()\n",
    "evl_data = {}\n",
    "\n",
    "for data, label, basename in evlkalaka:\n",
    "        if basename not in evl_data:\n",
    "                evl_data[basename] = {'data':[], 'label':label}\n",
    "        evl_data[basename]['data'].append(data)\n",
    "\n",
    "for basename in evl_data:\n",
    "        evl_data[basename]['data'] = np.concatenate(evl_data[basename]['data'])\n",
    "\n",
    "print(f'Finished reading all data in {time.time() - start}')"
   ]
  },
  {
   "attachments": {},
   "cell_type": "markdown",
   "metadata": {},
   "source": [
    "And apply the model(s) to the new `'evl'` data:"
   ]
  },
  {
   "cell_type": "code",
   "execution_count": null,
   "metadata": {},
   "outputs": [],
   "source": [
    "start = time.time()\n",
    "\n",
    "results_evl = {}\n",
    "results_evl['ref'] =  None\n",
    "results_evl['hyp'] =  np.empty(len(evl_data),dtype=np.int32)\n",
    "results_evl['llhs'] = np.empty((len(evl_data), len(LANGUAGES)), dtype=np.float64)\n",
    "results_evl['fileids'] = list()\n",
    "\n",
    "\n",
    "# Obtain LLH matrix\n",
    "for i, fileid in tqdm(enumerate(sorted(evl_data)), total=len(evl_data)):\n",
    "\n",
    "    data = evl_data[fileid]['data']  # the features\n",
    "    results_evl['fileids'].append(fileid)     #fileid\n",
    "\n",
    "    # obtain the log-likelihood score for each model and store\n",
    "    results_evl['llhs'][i,:] = np.array([best_GMM[lang].score(data) for lang in LANGUAGES])\n",
    "\n",
    "    # Obtain the maximum likelihood languge estimation\n",
    "    ix = np.argmax(results_evl['llhs'][i,:])\n",
    "    results_evl['hyp'][i] = LANG2ID[LANGUAGES[ix]]    \n",
    "\n",
    "print(f'Finished predicting all data in {time.time() - start}')"
   ]
  },
  {
   "attachments": {},
   "cell_type": "markdown",
   "metadata": {},
   "source": [
    "## Create the predictions file\n",
    "\n",
    "The predictions file used for submission and scoring is a CSV file containing the predictions of both the `dev` and `evl` partitions.\n",
    "The file has two fields: fileId and Lang. The fileId is the unique audio file identifier and the Lang field is the language prediction (numeric from 1 to 6). The predictions file name must be as follows:\n",
    "\n",
    "`T<X>_G<YY>_<SYSTEMID>.csv` \n",
    "\n",
    "where `<X>` can be 1 or 2 depending on being a system for track 1 or track 2 evaluation; `<YY>` is the students' group number (use 2 digits) and `<SYSTEMID>` is a identifying string for that submission/system."
   ]
  },
  {
   "cell_type": "code",
   "execution_count": null,
   "metadata": {},
   "outputs": [],
   "source": [
    "group, system = '00', 'baseline_train100'\n",
    "with open(f'{os.getcwd()}/T1_G{group}_{system}.csv', 'w') as file:\n",
    "    csv_writer = csv.writer(file) # CSV writer\n",
    "    csv_writer.writerow(('fileId', 'Lang')) # Header of the CSV\n",
    "\n",
    "    # Save dev results\n",
    "    for i in range(len(results_dev['fileids'])):\n",
    "        csv_writer.writerow((results_dev['fileids'][i], results_dev['hyp'][i]))\n",
    "    # Save evl results\n",
    "    for i in range(len(results_evl['fileids'])):\n",
    "        csv_writer.writerow((results_evl['fileids'][i], results_evl['hyp'][i]))"
   ]
  },
  {
   "attachments": {},
   "cell_type": "markdown",
   "metadata": {},
   "source": [
    "## Submit your prediction\n",
    "You can submit your prediction in the following Kaggle competition: https://www.kaggle.com/competitions/speech-processing-lab-2/\n",
    "\n",
    "## What should/can you do next?\n",
    "**Everything!!** Try to extend and improve the feature extraction. Try to play with the parameters. Try completely different feature extraction modules (look for openSMILE, torchaudio,). Try to increase the model complexity. Try different modeling approaches. Try to understand the impact of the different modifications. Once you are happy with your system, try to train on the full set and check the impact of adding data to your system.\n"
   ]
  },
  {
   "attachments": {},
   "cell_type": "markdown",
   "metadata": {},
   "source": [
    "# PART 2 - Using pre-trained embeddings (Track 2)\n",
    "\n",
    "There exist plenty of resources and pre-trained models that can be extremely useful for our task. For instance, x-vectors are currently the state of the art approach to obtain speech embeddings that characterize very efficiently speaker or language, among others. Particularly, the following x-vector model is available and it has been trained using a large corpus of 107 languages for language identification: https://huggingface.co/speechbrain/lang-id-voxlingua107-ecapa\n",
    "\n",
    "You can obtain it from the `speechbrain` module, that you need to install now if you are using Google Colab:\n",
    "\n"
   ]
  },
  {
   "cell_type": "code",
   "execution_count": null,
   "metadata": {},
   "outputs": [],
   "source": [
    "# If you are using Google Colab, you'll have to install the speechbrain module\n",
    "raise CheckThisCell ## <---- Remove this after completing/checking this cell\n",
    "!pip install speechbrain"
   ]
  },
  {
   "attachments": {},
   "cell_type": "markdown",
   "metadata": {},
   "source": [
    "The following code cell imports such model and shows how to obtain an embedding vector:"
   ]
  },
  {
   "cell_type": "code",
   "execution_count": null,
   "metadata": {},
   "outputs": [],
   "source": [
    "import torchaudio\n",
    "import speechbrain\n",
    "\n",
    "from speechbrain.pretrained import EncoderClassifier\n",
    "from torch.nn.utils.rnn import pad_sequence\n",
    "\n",
    "language_id = EncoderClassifier.from_hparams(source=\"speechbrain/lang-id-voxlingua107-ecapa\", savedir=\"tmp\")\n",
    "\n",
    "signal = language_id.load_audio(f'{CWD}/train100/audio/0a5c0729.wav')\n",
    "emb =  language_id.encode_batch(signal)"
   ]
  },
  {
   "attachments": {},
   "cell_type": "markdown",
   "metadata": {},
   "source": [
    "In fact, the model is trained for language identification of 107 languages and we could use it directly for identification:"
   ]
  },
  {
   "cell_type": "code",
   "execution_count": null,
   "metadata": {},
   "outputs": [],
   "source": [
    "prediction =  language_id.classify_batch(signal)"
   ]
  },
  {
   "attachments": {},
   "cell_type": "markdown",
   "metadata": {},
   "source": [
    "Invest some time to inspect the model and the outputs. Notice that the six target languages are included among the 107. The output indices are: \n",
    "\n",
    "```python\n",
    "XVEC_LANG_INDEX = (24,13,20,29,75,22) \n",
    "```\n",
    "\n",
    "corresponding respectively to the following languages:\n",
    "\n",
    "```python \n",
    "LANGUAGES = ('Basque',  'Catalan',  'English',  'Galician',  'Portuguese',  'Spanish')\n",
    "```\n",
    "\n",
    "Knowing this, it should be easy to obtain the predicted class among the six possible candidates:"
   ]
  },
  {
   "cell_type": "code",
   "execution_count": null,
   "metadata": {},
   "outputs": [],
   "source": [
    "XVEC_LANG_INDEX = (24,13,20,29,75,22) \n",
    "\n",
    "# Obtain the predicted class out of the 6 target ones\n",
    "raise CheckThisCell ## <---- Remove this after completeing/checking this cell"
   ]
  },
  {
   "attachments": {},
   "cell_type": "markdown",
   "metadata": {},
   "source": [
    "## Using the x-vector up-stream model for language ID\n",
    "\n",
    "Let's try first something simple: use the the pre-trained model for idenfication. In this simple test, you don't need to train anyhing simply classify the dev and test sets. To do so, first configure the right transformation for the Kalaka class (one that simply loads the audio without any chunking):"
   ]
  },
  {
   "cell_type": "code",
   "execution_count": null,
   "metadata": {},
   "outputs": [],
   "source": [
    "# Confifure the tranformation\n",
    "raise CheckThisCell ## <---- Remove this after completeing/checking this cell\n",
    "\n",
    "transform = { \n",
    "                'raw_xvec' :\n",
    "                {\n",
    "                    'audio_transform': None, ## <--- You need to modify this here\n",
    "                    'chunk_transform': None,\n",
    "                    'chunk_size': 0,\n",
    "                    'chunk_hop':0   \n",
    "                }\n",
    "            }\n",
    "\n",
    "# Download and feature extract\n",
    "transform_id = 'raw_xvec'\n",
    "\n",
    "\n",
    "devkalaka = Kalaka(CWD, 'dev', \n",
    "                 transform_id=transform_id, \n",
    "                 audio_transform=transform[transform_id]['audio_transform'], \n",
    "                 chunk_transform=transform[transform_id]['chunk_transform'],\n",
    "                 chunk_size=transform[transform_id]['chunk_size'], \n",
    "                 chunk_hop=transform[transform_id]['chunk_hop']\n",
    "                )"
   ]
  },
  {
   "attachments": {},
   "cell_type": "markdown",
   "metadata": {},
   "source": [
    "Now you have all the elements to predict langauge using the langID pre-trained model.\n",
    "In case you have access to a GPU, it may be good using a Pytorch Dataloader to batch the dev samples:"
   ]
  },
  {
   "cell_type": "code",
   "execution_count": null,
   "metadata": {},
   "outputs": [],
   "source": [
    "import torch\n",
    "if torch.cuda.is_available():\n",
    "  device = torch.device('cuda:0')\n",
    "else:\n",
    "  device = torch.device('cpu')"
   ]
  },
  {
   "attachments": {},
   "cell_type": "markdown",
   "metadata": {},
   "source": [
    "Since the audios are of different size, we need to pass an auxiliary function to the dataloader that handles this (by adding 0s). This can be done as follows:"
   ]
  },
  {
   "cell_type": "code",
   "execution_count": null,
   "metadata": {},
   "outputs": [],
   "source": [
    "def collate_batch(batch): \n",
    "    label_list, audio_list, basename_list, audiolen_list = [], [], [], []\n",
    "\n",
    "    for (_audio,_label, _basename) in batch:\n",
    "        label_list.append(_label)\n",
    "        audio_list.append(_audio)\n",
    "        basename_list.append(_basename)\n",
    "        audiolen_list.append(_audio.shape[0])\n",
    "\n",
    "    label_list = torch.tensor(label_list, dtype=torch.int64)\n",
    "    audio_list = pad_sequence(audio_list, batch_first=True, padding_value=0)\n",
    "    max_len = max(audiolen_list)\n",
    "    audiolen_list = torch.tensor([l/max_len for l in audiolen_list])\n",
    "\n",
    "    return audio_list.to(device),label_list.to(device), basename_list, audiolen_list.to(device)\n",
    "\n",
    "batch_size = 10\n",
    "dataloader = torch.utils.data.DataLoader(\n",
    "        dataset=devkalaka,\n",
    "        batch_size=batch_size,\n",
    "        collate_fn=collate_batch,\n",
    "        shuffle=False  # <-- We want to keep the original order of the dev set\n",
    ")\n"
   ]
  },
  {
   "attachments": {},
   "cell_type": "markdown",
   "metadata": {},
   "source": [
    "Complete the following piece of code to store properly the hypothesis and the reference:"
   ]
  },
  {
   "cell_type": "code",
   "execution_count": null,
   "metadata": {},
   "outputs": [],
   "source": [
    "import time\n",
    "from tqdm import tqdm\n",
    "start = time.time()\n",
    "\n",
    "results_dev = {}\n",
    "results_dev['ref'] =  []\n",
    "results_dev['hyp'] =  []\n",
    "results_dev['fileids'] = [] \n",
    "\n",
    "for i, batch in tqdm(enumerate(dataloader), total=1+len(devkalaka)//batch_size):\n",
    "    data, label, basename, audiolen = batch\n",
    "    predictions = language_id.classify_batch(data, wav_lens=audiolen)\n",
    "    \n",
    "    # Complete the code to store the hypothesis (careful if you use argmax, you will ned to add 1 to the predicted class),\n",
    "    # the reference and the fileids. In the call to the prediction method, you should pass the audio length information, so that \n",
    "    # the padded 0s can be ignored\n",
    "    raise CheckThisCell ## <---- Remove this after completeing/checking this cell\n",
    "    \n",
    "print(f'Finished preocessing all data in {time.time() - start}')"
   ]
  },
  {
   "attachments": {},
   "cell_type": "markdown",
   "metadata": {},
   "source": [
    "And now let's see how well this model behaves on our dev partition:"
   ]
  },
  {
   "cell_type": "code",
   "execution_count": null,
   "metadata": {},
   "outputs": [],
   "source": [
    "ref, hyp = results_dev['ref'], results_dev['hyp']\n",
    "\n",
    "conf_matrix = confusion_matrix(ref, hyp)\n",
    "\n",
    "fig, ax = plt.subplots(figsize=(3.0, 3.0))\n",
    "ax.matshow(conf_matrix, cmap=plt.cm.Blues, alpha=0.3)\n",
    "for i in range(conf_matrix.shape[0]):\n",
    "    for j in range(conf_matrix.shape[1]):\n",
    "        ax.text(x=j, y=i,s=conf_matrix[i, j], va='center', ha='center')\n",
    "\n",
    "plt.xlabel('Predictions', fontsize=12)\n",
    "plt.ylabel('Actuals', fontsize=12)\n",
    "plt.title(f'Confusion Matrix\\n(Accuracy {100*accuracy_score(ref, hyp):.2f})', fontsize=12)\n",
    "plt.show()"
   ]
  },
  {
   "attachments": {},
   "cell_type": "markdown",
   "metadata": {},
   "source": [
    "That was pretty impressive, right!?! And  easier than Part I of this lab! \n",
    "\n",
    "Well, here comes some bad news: you can not use this langid classifier in the challenge. However, you can use the pre-trained x-vector embeddings as a feature extractor to train your language classification system (may be a simple K-means on top of the x-vectors work well). You can also try to change the classification head of the x-vector model and fine-tune with the challenge data. You have plenty of options, but remember, any system that use these pre-trained embeddings (or any similar ones) are only valid for the Track 2 of the Challenge and the prediction file should be  namedlike this: `T2_G<YY>_<SYSTEMID>.csv` \n",
    "\n"
   ]
  },
  {
   "attachments": {},
   "cell_type": "markdown",
   "metadata": {},
   "source": [
    "# What should you deliver at the end of this lab assignment?\n",
    "You should deliver the following three elements:\n",
    "- You must submit at least one prediction file to the Kaggle competition in the format previously described: https://www.kaggle.com/competitions/speech-processing-lab-2/\n",
    "- You must submit (via Fênix) the modified notebook (or code) of your proposed systems(s).\n",
    "- You must submit a report (via Fênix) of maximum 2 pages describing your system, approaches (may be unsuccesful), lessons learnt, results on the dev partition, etc. You can use the following Overleaf template for the report: https://www.overleaf.com/latex/templates/interspeech-2023-paper-kit/kzcdqdmkqvbr"
   ]
  },
  {
   "attachments": {},
   "cell_type": "markdown",
   "metadata": {},
   "source": [
    "# Contacts and support\n",
    "You can contact the professors during the classes or the office hours.\n",
    "\n",
    "Particularly, for this second laboratory assignment, you should contact Prof. Alberto Abad: alberto.abad@tecnico.ulisboa.pt\n",
    "\n",
    "\n",
    "\n"
   ]
  },
  {
   "attachments": {},
   "cell_type": "markdown",
   "metadata": {},
   "source": []
  }
 ],
 "metadata": {
  "kernelspec": {
   "display_name": "Python 3 (ipykernel)",
   "language": "python",
   "name": "python3"
  },
  "language_info": {
   "codemirror_mode": {
    "name": "ipython",
    "version": 3
   },
   "file_extension": ".py",
   "mimetype": "text/x-python",
   "name": "python",
   "nbconvert_exporter": "python",
   "pygments_lexer": "ipython3",
   "version": "3.10.6"
  }
 },
 "nbformat": 4,
 "nbformat_minor": 2
}
