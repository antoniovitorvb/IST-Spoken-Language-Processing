{
 "cells": [
  {
   "attachments": {},
   "cell_type": "markdown",
   "metadata": {},
   "source": [
    "# Speech Processing - Instituto Superior Técnico\n",
    "### Laboratory Assignment 2 - Spoken Language Indentification challenge\n",
    "\n",
    "The second laboratory assignment of the course is designed to simulate a **spoken language identification** challenge. In this challenge, partipants (a.k.a students enrolled in the course) receive a train, development and evaluation (blind) data set, and a simple (and weak) baseline system for the task at hand: closed-set identification of the spoken language in a given audio file out of a set of six target langauges: Basque,  Catalan,  English,  Galician,  Portuguese and  Spanish.\n",
    "\n",
    "The **goal** for each participant is to develop/build the best spoken language identification system. To this end, participants are encouraged to modify this baseline, incorporate any other techniques and in general explore any approach that permit  improving their results.\n",
    "\n",
    "During the first week (Part 1), students are expected to:\n",
    "- Run and understand the main components of the baseline.\n",
    "- Propose and develop simple modifications to the baseline feature extraction process.\n",
    "- Propose and develop simple modifications to the baseline GMM language models.\n",
    "- Evaluate the models on the development partition.\n",
    "\n",
    "During the second week (Part 2), students are expected to:\n",
    "- Propose and develop other *classical* modifications to any component of the processing pipeline (openSMILE features, segment-based features, SVM classifiers, MLP/CNN classifiers, etc.)\n",
    "- Run and understand the second part of Notebook that explores a pre-trained model.\n",
    "- Propose and develop more recent advanced approaches, including x-vectors.\n",
    "- Evaluate the models on the development partition.\n",
    "- Obtain predictions for the blind test partition and prepare the submission.\n",
    "\n",
    "The challenge distinguishes two different tracks or evaluation conditions:\n",
    "- Track 1 - Participants are not allowed to use any kind of pre-trained model (such as x-vectors).\n",
    "- Track 2 - Participants are allowed to use anything.\n",
    "\n",
    "\n",
    "## About the data\n",
    "\n",
    "The data consists of mono audio files sampled at 16 kHz all of them containing speech of only one of the following target languages:\n",
    "```python \n",
    "LANGUAGES = ('Basque',  'Catalan',  'English',  'Galician',  'Portuguese',  'Spanish')\n",
    "```\n",
    "\n",
    "The dataset is organized in 4 partitions:\n",
    "- `'train'`: This is the full training set, consisting of 3060 clean audio samples correponding to speech segments of TV broadcast shows. (**ATENTION**: Do not use this dataset for training your models, unless your system is very fast or if you want to build your final model. It can be slow)\n",
    "- `'train100'`: This is a subset of the full training set that consists of 100 audio files per target language (**RECOMMENDATION**: Use this partition in your quick experiments, to more rapidly validate alternatives)\n",
    "- `'dev'`: This is the development set. It contains audio extracted from YouTube. You will typically use this to validate the quality of your model.\n",
    "- `'evl'`: This is the evaluation set. It contains audio extracted from YouTube. You don't have the groud-truth for this set. You are expected to produce it and submit it.\n",
    "\n",
    "The data used in this challenge is a subset of the KALAKA-3 database: https://aclanthology.org/L14-1576/\n",
    "\n",
    "The  difference is that only the clean train audio segments and the Plenty Closed evaluation condition have been considered. "
   ]
  },
  {
   "attachments": {},
   "cell_type": "markdown",
   "metadata": {},
   "source": [
    "## Before starting\n",
    "The following conditions are neecessary to run correctly this notebook:\n",
    "\n",
    "*   All modules included in the requirements file need to be \n",
    "installed in the Python environment.\n",
    "*   The module `pf_tools` needs to be accessible (if you are using Google Colab, you will need to copy the `pf_tools.py` every time you start a new session)."
   ]
  },
  {
   "cell_type": "code",
   "execution_count": 1,
   "metadata": {},
   "outputs": [],
   "source": [
    "from pf_tools import CheckThisCell"
   ]
  },
  {
   "attachments": {},
   "cell_type": "markdown",
   "metadata": {},
   "source": [
    "## How can you download (and process) the data\n",
    "\n",
    "The first thing we have to do is to set our working directory. If you are using Google Colab, you  probably want to mount Google Drive to keep persistent information, such as data, features and models:"
   ]
  },
  {
   "cell_type": "code",
   "execution_count": 2,
   "metadata": {},
   "outputs": [
    {
     "data": {
      "text/plain": [
       "'/home/av/IST/slp-labs/LAB2'"
      ]
     },
     "execution_count": 2,
     "metadata": {},
     "output_type": "execute_result"
    }
   ],
   "source": [
    "#raise CheckThisCell ## <---- Remove this after completeing/checking this cell\n",
    "import os \n",
    "CWD = os.getcwd() + '' # Change this variable to your working directory to store data, features and models\n",
    "CWD"
   ]
  },
  {
   "attachments": {},
   "cell_type": "markdown",
   "metadata": {},
   "source": [
    "The class `Kalaka` permits downloading, transforming and storing the different data partitions. Each `Kalaka` instance can be used to iterate over all the samples of the partition. It can also be used in combination with pytorch dataloader to read batches of data to train neural networks with pytorch. For instance, consider the following piece of code:\n"
   ]
  },
  {
   "cell_type": "code",
   "execution_count": 3,
   "metadata": {},
   "outputs": [],
   "source": [
    "import numpy as np\n",
    "from pf_tools import Kalaka\n",
    "import librosa \n",
    "\n",
    "def audio_transform(filename):\n",
    "    y, _ = librosa.load(filename, sr=16000, mono=True)\n",
    "    return y.reshape(-1,1)\n",
    "    \n",
    "#trainkalaka = Kalaka(CWD, 'train100', transform_id='raw', audio_transform=audio_transform)"
   ]
  },
  {
   "attachments": {},
   "cell_type": "markdown",
   "metadata": {},
   "source": [
    "\n",
    "This will first download and uncompress the .tar.gz file containing all the necessary data of the `'train100'` partition, that is, the audio files that are stored to disk (in CWD/train100/audio/) and key file (CWD/train100/key.lst). Then, the audio transformation `'transform'` will be applied to each file and the result stored to disk CWD/train100/raw/. \n",
    "\n",
    "**Audio transformations** receive a filename of an audio file and returns an array of dimensions (NxD), in which N is the time dimension and D the dimension of the feature vector. In this simple case D is 1 because the transform is just returning the raw audio signal.\n",
    "\n",
    "The `Kalaka` class permits chunking the output of the audio transformation (of size NxD) in chunks of CxD size. The chunking operation divides the orignal sample, in multiple smaller samples with a configurable chunk size and hop length. These chunks can be further transformed and stored as individual feature files. For instance:"
   ]
  },
  {
   "cell_type": "code",
   "execution_count": 4,
   "metadata": {},
   "outputs": [
    {
     "name": "stderr",
     "output_type": "stream",
     "text": [
      "/home/av/IST/slp-labs/LAB2/pf_tools.py:89: UserWarning: The feature directory already exists, and no new feature extraction will be performed.\n",
      "  warnings.warn(\"The feature directory already exists, and no new feature extraction will be performed.\")\n"
     ]
    }
   ],
   "source": [
    "trainkalaka = Kalaka(CWD, 'train100', \n",
    "                     transform_id='chunks', \n",
    "                     audio_transform=audio_transform, \n",
    "                     chunk_size=4*16000, \n",
    "                     chunk_hop=2*16000)"
   ]
  },
  {
   "attachments": {},
   "cell_type": "markdown",
   "metadata": {},
   "source": [
    "This will download and uncompress the partition data, only if was not already done before. Then, as previously, the simple tranform that returns the waveform is applied to each audio file. After this, the resulting array of dimension Nx1, in which N=16000xduration_in_seconds, is split in continuous chunks of length 64000 (that is, 4 seconds) with chunk hop of 2 seconds. Each one of these chunks of 4 seconds is stored and will be accessed whenever we iterate the dataset. \n",
    "\n",
    "Adittionally, the optional argument `chunk_transform` pertmits defining a transformation to be applied to each chunk before storing to disk. It can be any function that receives an array of size CxD and returns an array HxW, in which H is the *new time dimension*. For instance, the following example takes the audio segments of 64000x1, computes the mean and variance every 0.1 sec (1600 samples) and returns a feature vector of size 40x2."
   ]
  },
  {
   "cell_type": "code",
   "execution_count": 5,
   "metadata": {},
   "outputs": [],
   "source": [
    "def chunk_transform(x):\n",
    "    x = x.reshape(-1,1600)\n",
    "    return np.concatenate((x.mean(axis=1, keepdims=True), x.std(axis=1, keepdims=True)),axis=1)\n",
    "\n",
    "trainkalaka = Kalaka(CWD, 'train100', \n",
    "                     transform_id='chunks_mv', \n",
    "                     audio_transform=audio_transform, \n",
    "                     chunk_size=4*16000, \n",
    "                     chunk_hop=2*16000, \n",
    "                     chunk_transform=chunk_transform)\n"
   ]
  },
  {
   "attachments": {},
   "cell_type": "markdown",
   "metadata": {},
   "source": [
    "\n",
    "Notice that, while the above example is probably useless as an effective feature extraction method, the proper combination of audio and chunk transformations is expected to permit quite flexible feature extraction that (hopefully) can match the needs of almost any training setting. \n",
    "\n",
    "Once we have instanciated a Kalaka dataset, it can be iterated to have access to each processed sample, for instance: "
   ]
  },
  {
   "cell_type": "code",
   "execution_count": 6,
   "metadata": {},
   "outputs": [
    {
     "name": "stdout",
     "output_type": "stream",
     "text": [
      "0 (40, 2) 6 0006ebda\n",
      "1000 (40, 2) 1 11a3790f\n",
      "2000 (40, 2) 4 271621da\n",
      "3000 (40, 2) 5 3b9d2c2f\n",
      "4000 (40, 2) 1 4d10f8f2\n",
      "5000 (40, 2) 6 5fb949a1\n",
      "6000 (40, 2) 6 70d28e30\n",
      "7000 (40, 2) 6 7d5515f0\n",
      "8000 (40, 2) 3 937623c2\n",
      "9000 (40, 2) 5 a4a7491b\n",
      "10000 (40, 2) 5 bc3f6e51\n",
      "11000 (40, 2) 3 cd82bcca\n",
      "12000 (40, 2) 1 df0b27f2\n",
      "13000 (40, 2) 3 f3ba1f4d\n",
      "Finished reading all data in 10.039682149887085\n"
     ]
    }
   ],
   "source": [
    "import time\n",
    "start = time.time()\n",
    "for i, sample in enumerate(trainkalaka):\n",
    "    data, label, basename = sample # array, int, str\n",
    "    if i % 1000 == 0:\n",
    "        print(i, data.shape, label, basename)\n",
    "\n",
    "print(f'Finished reading all data in {time.time() - start}')"
   ]
  },
  {
   "attachments": {},
   "cell_type": "markdown",
   "metadata": {},
   "source": [
    "Now you can use the `Kalaka` class to check the  number of files and size (in minutes) of the training set for each target language. You cankKeep these numbers to include in your system description paper:"
   ]
  },
  {
   "attachments": {},
   "cell_type": "markdown",
   "metadata": {},
   "source": [
    "Notice that the `Kalaka` class extends the `torch.utils.data.Dataset` and it can be used in combination with a Pytorch DataLoader to read data in batches:"
   ]
  },
  {
   "cell_type": "code",
   "execution_count": 7,
   "metadata": {},
   "outputs": [
    {
     "name": "stdout",
     "output_type": "stream",
     "text": [
      "torch.Size([10, 40, 2]) torch.Size([10]) 10\n",
      "torch.Size([10, 40, 2]) torch.Size([10]) 10\n",
      "torch.Size([10, 40, 2]) torch.Size([10]) 10\n",
      "torch.Size([10, 40, 2]) torch.Size([10]) 10\n",
      "torch.Size([10, 40, 2]) torch.Size([10]) 10\n",
      "torch.Size([10, 40, 2]) torch.Size([10]) 10\n",
      "torch.Size([10, 40, 2]) torch.Size([10]) 10\n",
      "torch.Size([10, 40, 2]) torch.Size([10]) 10\n",
      "torch.Size([10, 40, 2]) torch.Size([10]) 10\n",
      "torch.Size([10, 40, 2]) torch.Size([10]) 10\n",
      "torch.Size([10, 40, 2]) torch.Size([10]) 10\n",
      "torch.Size([10, 40, 2]) torch.Size([10]) 10\n",
      "torch.Size([10, 40, 2]) torch.Size([10]) 10\n",
      "torch.Size([10, 40, 2]) torch.Size([10]) 10\n",
      "Finished reading all data in 3.8828232288360596\n"
     ]
    }
   ],
   "source": [
    "import torch \n",
    "\n",
    "trainkalaka = Kalaka(CWD, 'train100', \n",
    "                     transform_id='chunks_mv', \n",
    "                     audio_transform=audio_transform, \n",
    "                     chunk_size=4*16000, \n",
    "                     chunk_hop=2*16000, \n",
    "                     chunk_transform=chunk_transform)\n",
    "\n",
    "dataloader = torch.utils.data.DataLoader(\n",
    "        dataset=trainkalaka,\n",
    "        batch_size=10,\n",
    "        shuffle=True\n",
    ")\n",
    "\n",
    "start = time.time()\n",
    "for i, batch in enumerate(dataloader):\n",
    "    data, label, basename = batch\n",
    "    if i % 100 == 0:\n",
    "        print(data.shape, label.shape, len(basename))\n",
    "\n",
    "print(f'Finished reading all data in {time.time() - start}')\n"
   ]
  },
  {
   "attachments": {},
   "cell_type": "markdown",
   "metadata": {},
   "source": [
    "Finally, remind that you can change anything you want. This includes the Kalaka class. Eventually, you can decide not using it at all and loading the data in some alternative way.  You can inspect the class to find the URLs for downloading the datasets. It is up to you! \n",
    "\n",
    "Before moving to the next stage, you probably want to delete the folders containing the dummy features that you just generated."
   ]
  },
  {
   "attachments": {},
   "cell_type": "markdown",
   "metadata": {},
   "source": [
    "# PART 1 - The baseline (Track 1)\n",
    "The baseline consists of MFCC feature extraction  (based on the `librosa` module) with SDC computation and VAD removal, followed by GMMs of 64 dimensions for each language (using the `sklearn` module). The rest of this notebook contains the guide and code cells (some of them partially incomplete) that permit implementing this baseline and score it on the development set. Read carefully the Markdown information, but also the comments inside the code cells (they provide useful information and hints), and also the code itself. The better you understand it, the easier will be modyfing it."
   ]
  },
  {
   "attachments": {},
   "cell_type": "markdown",
   "metadata": {},
   "source": [
    "## Initialization and importing modules"
   ]
  },
  {
   "cell_type": "code",
   "execution_count": 24,
   "metadata": {
    "scrolled": true
   },
   "outputs": [
    {
     "name": "stdout",
     "output_type": "stream",
     "text": [
      "OK\n"
     ]
    }
   ],
   "source": [
    "import importlib\n",
    "\n",
    "try:\n",
    "    # importlib.import_module('opensmile')\n",
    "    import opensmile\n",
    "    print('OK')\n",
    "\n",
    "except ImportError:\n",
    "    # print('Package not installed')\n",
    "    !pip install opensmile"
   ]
  },
  {
   "cell_type": "code",
   "execution_count": 9,
   "metadata": {},
   "outputs": [],
   "source": [
    "import os\n",
    "from pf_tools import Kalaka\n",
    "import librosa\n",
    "import numpy as np\n",
    "import torch\n",
    "from sklearn.mixture import GaussianMixture\n",
    "from sklearn.discriminant_analysis import LinearDiscriminantAnalysis\n",
    "from sklearn.metrics import classification_report, accuracy_score, confusion_matrix\n",
    "import matplotlib.pyplot as plt\n",
    "\n",
    "import time\n",
    "import random\n",
    "import datetime\n",
    "from pathlib import Path\n",
    "import pickle\n",
    "import csv \n",
    "from tqdm import tqdm\n",
    "import opensmile #feature extraction\n",
    "import importlib #reload packages\n",
    "\n",
    "opensmile=importlib.reload(opensmile)\n",
    "\n",
    "GLOBAL_SEED = 35731\n",
    "\n",
    "np.random.seed(GLOBAL_SEED)\n",
    "torch.manual_seed(GLOBAL_SEED)\n",
    "random.seed(GLOBAL_SEED)\n",
    "\n",
    "\n",
    "LANGUAGES = ('Basque',  'Catalan',  'English',  'Galician',  'Portuguese',  'Spanish')\n",
    "LANG2ID = {'Basque':1, 'Catalan':2, 'English':3, 'Galician':4, 'Portuguese':5, 'Spanish':6}\n",
    "ID2LANG = dict((LANG2ID[k],k) for k in LANG2ID)"
   ]
  },
  {
   "attachments": {},
   "cell_type": "markdown",
   "metadata": {},
   "source": [
    "## The baseline feature extraction module\n",
    "The next function extracts MFCCs, but there are plenty of things that can be improved. You are free to change anything you want, including the number of formal parameters, the number of returned expressions, etc. "
   ]
  },
  {
   "cell_type": "code",
   "execution_count": 10,
   "metadata": {},
   "outputs": [],
   "source": [
    "# Read carefully this function and understand it\n",
    "\n",
    "def feat_extract(filename, orig_sr=16000, mono=True, n_mfcc = 13, remove_c0=False, delta_order=0, \n",
    "                 apply_sdc=False, apply_vad=False, apply_cmvn=False):\n",
    "    \n",
    "    sr=16000\n",
    "    n_mels = 40\n",
    "    n_fft = 512 \n",
    "    hop_length = 160\n",
    "    fmin = 50\n",
    "    fmax = 7800\n",
    "    \n",
    "    if apply_sdc and (delta_order > 0):\n",
    "        raise ValueError(\"Applying SDC and delta > 0 is not compatible\")\n",
    "\n",
    "    \n",
    "    # Load audio wav into numpy array\n",
    "    y, _ = librosa.load(filename, sr=orig_sr, mono=mono)\n",
    "    \n",
    "    # Resample in case it's needed\n",
    "    if orig_sr != sr:\n",
    "        y = librosa.resample(y, orig_sr=orig_sr,target_sr=sr)\n",
    "    \n",
    "        \n",
    "    ## OPTIONAL ADDIDITIONAL STAGES - LAB WORK\n",
    "    # 1 - PREPROCESSING - Typical preprocessing may include normalization of audio (mean removal), \n",
    "    #                       but also speech enhancement and others more complex\n",
    "    \n",
    "    # Extract MFFCs\n",
    "    mfcc = librosa.feature.mfcc(y=y, sr=sr, n_fft=n_fft, \n",
    "                                n_mfcc=n_mfcc, n_mels=n_mels, \n",
    "                                hop_length=hop_length, \n",
    "                                fmin=fmin, fmax=fmax, htk=False).T\n",
    "    \n",
    "    ## OPTIONAL ADDIDITIONAL STAGES - LAB WORK\n",
    "\n",
    "    # 2 Compute deltas --> Hint you can use librosa (order size may be a parameter?)\n",
    "    if delta_order > 0:\n",
    "        mfcc = compute_delta(mfcc,delta_order=delta_order)\n",
    "    \n",
    "    # 3 SDC --> Hint: You can build this using deltas (of extented context)  \n",
    "    if apply_sdc:\n",
    "        mfcc = compute_sdc(mfcc)\n",
    "    \n",
    "    # 4 COMPUTE VAD --> Hint: You can use any vad (theshold energy, something avaialble in the net, a biGaussian model...).\n",
    "    #                         Coeff0 is highly related with Energy and sometimes it is removed\n",
    "    #                   ATTENTION: Using a VAD may have a significant impact  \n",
    "    if apply_vad:\n",
    "        mfcc, _ = compute_vad(mfcc)\n",
    "             \n",
    "        \n",
    "    # 5 APPLY CMVN --> ATTENTION: Using normalization may have a significant impact\n",
    "    if apply_cmvn:\n",
    "        mfcc = compute_cmvn(mfcc)\n",
    "        \n",
    "\n",
    "    return mfcc, y\n"
   ]
  },
  {
   "attachments": {},
   "cell_type": "markdown",
   "metadata": {},
   "source": [
    "Try to define some or all of the following steps to improve your feature extraction pipeline "
   ]
  },
  {
   "cell_type": "code",
   "execution_count": 11,
   "metadata": {},
   "outputs": [],
   "source": [
    "# Numpy arrays have methods to compute mean and variance, so this one should be really easy\n",
    "# raise CheckThisCell ## <---- Remove this after completeing/checking this cell\n",
    "\n",
    "def compute_cmvn(features):\n",
    "    #return features/np.linalg.norm(features)\n",
    "    return (features-np.mean(features))/np.std(features)"
   ]
  },
  {
   "cell_type": "code",
   "execution_count": 12,
   "metadata": {},
   "outputs": [],
   "source": [
    "# librosa contains functions to compute deltas\n",
    "# raise CheckThisCell ## <---- Remove this after completeing/checking this cell\n",
    "\n",
    "def compute_delta(features, win=3, delta_order=2, keep_static=True):\n",
    "    delta = librosa.feature.delta(\n",
    "        features.T,\n",
    "        width=win,order=delta_order\n",
    "    ).T\n",
    "    return np.hstack((features,delta))"
   ]
  },
  {
   "cell_type": "code",
   "execution_count": 13,
   "metadata": {},
   "outputs": [],
   "source": [
    "# Compute deltas and then select previous and next deltas with fixed intervals to cocatentate. \n",
    "# You may need to code a bit here or dinf some function that helps with this\n",
    "# raise CheckThisCell ## <---- Remove this after completeing/checking this cell\n",
    "\n",
    "def compute_sdc(features, P=3, D=3, K=2, keep_static=True):\n",
    "    delta = compute_delta(\n",
    "        features.T,\n",
    "        win=D, delta_order=1)[:,np.shape(features)[1]:]\n",
    "    \n",
    "    sdc = np.empty([np.shape(features)[0],np.shape(features)[1]*K])\n",
    "    marker = np.zeros(features.shape[0], dtype='bool')\n",
    "    for j in range(K):\n",
    "        marker[D + j * P] = True\n",
    "    for i in range(len(features)):\n",
    "        sdc[i, :] = delta[marker, :].reshape(1, -1)\n",
    "        marker = np.roll(marker, 1)\n",
    "    return np.hstack((features,sdc))"
   ]
  },
  {
   "cell_type": "code",
   "execution_count": 14,
   "metadata": {},
   "outputs": [],
   "source": [
    "# You can think of several strattegies to compute VAD, simple ones based on energy and a threshold, or maybe some more \n",
    "# ellaborated ones, like training a GMM with 2 mixtures with the Energy. \n",
    "# In addition to the features without some frames, this function may return a sequence of 0s and 1s that helps you to validate the method.\n",
    "# raise CheckThisCell ## <---- Remove this after completeing/checking this cell\n",
    "\n",
    "# Voice Activity Detection - Zero Crossing Rate\n",
    "def zero_crossing_rate(x):\n",
    "    return np.sum(np.abs(np.diff(np.sign(x)))/2)/len(x)\n",
    "\n",
    "def compute_vad(features, energy=None, y=None):\n",
    "    features_aux=features[:,0:int(np.shape(features)[1]/2)]\n",
    "    zcr=np.empty(np.shape(features)[1])\n",
    "    for i in range(len(zcr)):\n",
    "        zcr[i]=zero_crossing_rate(features[:,i])\n",
    "    GM=GaussianMixture(n_components=2)\n",
    "    frame_class=GM.fit_predict(zcr.reshape(-1,1))\n",
    "    vad=np.empty(np.shape(features))\n",
    "    for i in range(len(zcr)):\n",
    "        vad[:,i]=frame_class[i]\n",
    "    return np.hstack((features,vad)),frame_class"
   ]
  },
  {
   "cell_type": "code",
   "execution_count": 15,
   "metadata": {},
   "outputs": [],
   "source": [
    "def opensmile_feats(signal,sr):\n",
    "    smile = opensmile.Smile(\n",
    "            feature_set=opensmile.FeatureSet.GeMAPSv01b ,\n",
    "            feature_level=opensmile.FeatureLevel.Functionals,\n",
    "        )\n",
    "    opensmile_feats=smile.process_signal(signal,sr)\n",
    "    return np.hstack(opensmile_feats.values)"
   ]
  },
  {
   "attachments": {},
   "cell_type": "markdown",
   "metadata": {},
   "source": [
    "You can test in an isolated audio file and inspect the dimensions, verify that your code is doing what is expected, inspect and visualize the data using some of the lessons learnt in LAB1. Also, don't forget to listen some of the examples!!"
   ]
  },
  {
   "cell_type": "code",
   "execution_count": 16,
   "metadata": {},
   "outputs": [],
   "source": [
    "# raise CheckThisCell ## <---- Remove this after completeing/checking this cell\n",
    "mfcc, _=feat_extract(f'{CWD}/train100/audio/0006ebda.wav', apply_cmvn=True, apply_sdc=False,apply_vad=False)\n",
    "mfcc_dd, _ = feat_extract(f'{CWD}/train100/audio/0006ebda.wav', apply_cmvn=False, delta_order=2)\n",
    "mfcc_d, _ = feat_extract(f'{CWD}/train100/audio/0006ebda.wav', apply_cmvn=False, delta_order=1)\n",
    "mfcc, y = feat_extract(f'{CWD}/train100/audio/0006ebda.wav', apply_cmvn=False)\n"
   ]
  },
  {
   "attachments": {},
   "cell_type": "markdown",
   "metadata": {},
   "source": [
    "To run the data processing stage for the train100 partition we will simply instanciate the Kalaka class as mentioned previosly. Take a sit because it can take a bit:"
   ]
  },
  {
   "cell_type": "code",
   "execution_count": 17,
   "metadata": {},
   "outputs": [
    {
     "data": {
      "text/plain": [
       "\" \\ntrainkalaka = Kalaka(CWD, trainset, \\n                 transform_id=transform_id, \\n                 audio_transform=transform[transform_id]['audio_transform'], \\n                 chunk_transform=transform[transform_id]['chunk_transform'],\\n                 chunk_size=transform[transform_id]['chunk_size'], \\n                 chunk_hop=transform[transform_id]['chunk_hop']\\n                )\\n\""
      ]
     },
     "execution_count": 17,
     "metadata": {},
     "output_type": "execute_result"
    }
   ],
   "source": [
    "#Transformation  Combinations attempted    BEST: mfcc_delta1\n",
    "transform = {\n",
    "    'mfcc_sdc_vad_chunk_300_400' : {\n",
    "        'audio_transform': lambda x : feat_extract(x, orig_sr=16000, mono=True, n_mfcc = 7, apply_sdc=False, apply_vad=False, apply_cmvn=True)[0],\n",
    "        'chunk_transform': None,\n",
    "        'chunk_size': 300,\n",
    "        'chunk_hop':300\n",
    "    },\n",
    "\n",
    "    'mfcc_delta1_vad' : {\n",
    "        'audio_transform': lambda x : feat_extract(x, orig_sr=16000, mono=True,delta_order=1, n_mfcc = 13, apply_sdc=False, apply_vad=True, apply_cmvn=True)[0],\n",
    "        'chunk_transform': None,\n",
    "        'chunk_size': 300,\n",
    "        'chunk_hop':300\n",
    "    },\n",
    "\n",
    "    'mfcc_sdc' : {\n",
    "        'audio_transform': lambda x : feat_extract(x, orig_sr=16000, mono=True,delta_order=0, n_mfcc = 13, apply_sdc=True, apply_vad=False, apply_cmvn=True)[0],\n",
    "        'chunk_transform': None,\n",
    "        'chunk_size': 300,\n",
    "        'chunk_hop':300\n",
    "    },\n",
    "\n",
    "    'mfcc_delta1' : {\n",
    "        'audio_transform': lambda x : feat_extract(x, orig_sr=16000, mono=True,delta_order=1, n_mfcc = 13, apply_sdc=False, apply_vad=False, apply_cmvn=True)[0],\n",
    "        'chunk_transform': None,\n",
    "        'chunk_size': 300,\n",
    "        'chunk_hop':300\n",
    "    },\n",
    "\n",
    "    'mfcc' : {\n",
    "        'audio_transform': lambda x : feat_extract(x, orig_sr=16000, mono=True,delta_order=0, n_mfcc = 7, apply_sdc=False, apply_vad=False, apply_cmvn=False)[0],\n",
    "        'chunk_transform': None,\n",
    "        'chunk_size': 300,\n",
    "        'chunk_hop':300\n",
    "    },\n",
    "}\n",
    "\n",
    "trainset = 'train100'\n",
    "transform_id = 'mfcc'\n",
    "\n",
    "\"\"\" \n",
    "trainkalaka = Kalaka(CWD, trainset, \n",
    "                 transform_id=transform_id, \n",
    "                 audio_transform=transform[transform_id]['audio_transform'], \n",
    "                 chunk_transform=transform[transform_id]['chunk_transform'],\n",
    "                 chunk_size=transform[transform_id]['chunk_size'], \n",
    "                 chunk_hop=transform[transform_id]['chunk_hop']\n",
    "                )\n",
    "\"\"\""
   ]
  },
  {
   "attachments": {},
   "cell_type": "markdown",
   "metadata": {},
   "source": [
    "Check your current folder, many things happened!! \n",
    "\n",
    "Notice that if you instanciate again the Kalaka class for the 'train100' partition, the data will not be downloaded again. \n",
    "Additionally, if there is already a folder with the name `transform_id`, feature extraction will not run again. You need to delete from your filesystem the folder with the features if you want to run again the feature extraction (using the same identifier) or , alternatively, you can change the identifier. Be careful because you can easily increase the amount of data generated. If you try a feature extraction method that provides bad results, you probably don't want to keep the features in disk."
   ]
  },
  {
   "attachments": {},
   "cell_type": "markdown",
   "metadata": {},
   "source": [
    "## The baseline spoken language models\n",
    "The baseline model is extremely simple: we'll train an individual GMM model for each language on top of the features that we just extracted. Later, in prediction time, given a test audio sample, we'll compute the loglikelihood obtained with each GMM model and select as the identified language the one whose model gives the highest likelihood. Let's go for it!!\n"
   ]
  },
  {
   "cell_type": "code",
   "execution_count": 18,
   "metadata": {},
   "outputs": [],
   "source": [
    "# from sklearn.model_selection import GridSearchCV # Not useful for GMM's\n",
    "\n",
    "transform_id = 'mfcc'\n",
    "parameters = {\n",
    "    # 'transform_id': ['feat', 'mfcc'],\n",
    "    'audio_transform': [\n",
    "        lambda x : feat_extract(x, orig_sr=16000, mono=True, n_mfcc = 7, apply_sdc=False, apply_vad=False, apply_cmvn=True)[0], # mfcc_cmvn\n",
    "        lambda x : feat_extract(x, orig_sr=16000, mono=True,delta_order=1, n_mfcc = 13, apply_sdc=False, apply_vad=True, apply_cmvn=True)[0], # mfcc_delta1_vad_cmvn\n",
    "        lambda x : feat_extract(x, orig_sr=16000, mono=True,delta_order=0, n_mfcc = 13, apply_sdc=True, apply_vad=False, apply_cmvn=True)[0], # mfcc_sdc_cmvn\n",
    "        lambda x : feat_extract(x, orig_sr=16000, mono=True,delta_order=1, n_mfcc = 13, apply_sdc=False, apply_vad=False, apply_cmvn=True)[0], # mfcc_delta1_cmvn\n",
    "        lambda x : feat_extract(x, orig_sr=16000, mono=True,delta_order=0, n_mfcc = 7, apply_sdc=False, apply_vad=False, apply_cmvn=False)[0], # mfcc\n",
    "    ],\n",
    "    'chunk_size': [1024, 2048],\n",
    "    'chunk_hop': [512, 1024],\n",
    "\n",
    "    'n_gauss': [8, 16, 32]\n",
    "}"
   ]
  },
  {
   "cell_type": "code",
   "execution_count": 106,
   "metadata": {},
   "outputs": [],
   "source": [
    "import itertools\n",
    "\n",
    "def parameter_combinations(param_grid):\n",
    "    keys = param_grid.keys()\n",
    "    values = param_grid.values()\n",
    "    combinations = list(itertools.product(*values))\n",
    "    return [dict(zip(keys, combination)) for combination in combinations]\n",
    "\n",
    "def concat_kalaka(trainkalaka):\n",
    "    # print('concatenating Kalaka')\n",
    "    train_data = []\n",
    "    train_labels = []\n",
    "    for data, label, basename in trainkalaka:\n",
    "            train_data.append(data)\n",
    "            train_labels.append(np.full(data.shape[0], label)) \n",
    "\n",
    "    train_data = np.concatenate(train_data)\n",
    "    train_labels = np.concatenate(train_labels)\n",
    "    return train_data, train_labels\n",
    "\n",
    "from sklearn.metrics import accuracy_score\n",
    "\n",
    "def eval_gmm(gmm, kalaka):\n",
    "\n",
    "    LANGUAGES = ('Basque',  'Catalan',  'English',  'Galician',  'Portuguese',  'Spanish')\n",
    "    LANG2ID = {'Basque':1, 'Catalan':2, 'English':3, 'Galician':4, 'Portuguese':5, 'Spanish':6}\n",
    "    ID2LANG = dict((LANG2ID[k],k) for k in LANG2ID)\n",
    "\n",
    "    dev_data = {}\n",
    "    for data, label, basename in kalaka:\n",
    "        if basename not in dev_data:\n",
    "                dev_data[basename] = {'data':[], 'label':label}\n",
    "\n",
    "        dev_data[basename]['data'].append(data)\n",
    "\n",
    "## We concatenate all the frames belonging to the same filename\n",
    "    for basename in dev_data:\n",
    "        dev_data[basename]['data'] = np.concatenate(dev_data[basename]['data'])\n",
    "    \n",
    "    # return dev_data[basename]\n",
    "\n",
    "    results = {}\n",
    "    results['ref'] =  np.empty(len(dev_data), dtype=np.int32)\n",
    "    results['hyp'] =  np.empty(len(dev_data), dtype=np.int32)\n",
    "    results['llhs'] = np.empty((len(dev_data), len(LANGUAGES)), dtype=np.float64)\n",
    "    results['fileids'] = list()\n",
    "    \n",
    "    for i, fileid in tqdm(enumerate(sorted(dev_data)), total=len(dev_data)):\n",
    "        data = dev_data[fileid]['data']  # the features\n",
    "        \n",
    "        results['fileids'].append(fileid)     #fileid\n",
    "\n",
    "        # obtain the log-likelihood score for each model and store\n",
    "        results['llhs'][i,:] = np.array([gmm[lang].score(data) for lang in LANGUAGES])\n",
    "\n",
    "        # store the reference.\n",
    "        results['ref'][i] = (dev_data[fileid]['label']) #reference\n",
    "\n",
    "        # Obtain the maximum likelihood languge estimation\n",
    "        ix = np.argmax(results['llhs'][i,:])\n",
    "        results['hyp'][i] = LANG2ID[LANGUAGES[ix]]\n",
    "    \n",
    "    return accuracy_score(results['ref'], results['hyp'])"
   ]
  },
  {
   "cell_type": "code",
   "execution_count": null,
   "metadata": {},
   "outputs": [],
   "source": [
    "combinations = parameter_combinations(parameters)\n",
    "\n",
    "best_parameters = {\n",
    "    \n",
    "    # 'transform_id': None,\n",
    "    'audio_transform': None,\n",
    "    'chunk_size': None,\n",
    "    'chunk_hop': None,\n",
    "    'n_gauss': None\n",
    "}\n",
    "best_score = -float('inf')\n",
    "best_model = 0\n",
    "# best_score = np.full_like(LANGUAGES, float('-inf'))\n",
    "# best_model = np.zeros(len(LANGUAGES))\n",
    "for i, c in enumerate(combinations):\n",
    "    print('Combination', i+1)\n",
    "    parms = list(c.values())\n",
    "    '''\n",
    "    parms[0] = audio_transform (lambda)\n",
    "    parms[1] = chunk_size\n",
    "    parms[2] = chunk_hop\n",
    "    parms[3] = n_gauss\n",
    "    '''\n",
    "\n",
    "    trainset = 'train100'\n",
    "    trainkalaka = Kalaka(\n",
    "        CWD, trainset,\n",
    "        transform_id='mfcc',\n",
    "        audio_transform=parms[0],\n",
    "        chunk_transform=None,\n",
    "        chunk_size=parms[1],\n",
    "        chunk_hop=parms[2]\n",
    "    )\n",
    "\n",
    "    # print('Training model')\n",
    "    train_data, train_labels = concat_kalaka(trainkalaka)\n",
    "\n",
    "    GMM = {}\n",
    "    for l, lang in enumerate(LANGUAGES):\n",
    "        GMM[lang] = GaussianMixture(\n",
    "            n_components = parms[3],\n",
    "            covariance_type='diag',\n",
    "            max_iter=15, n_init=1,\n",
    "            init_params='kmeans',\n",
    "            verbose=2, verbose_interval=1\n",
    "        )\n",
    "        GMM[lang].fit(train_data[train_labels==LANG2ID[lang]])\n",
    "\n",
    "    # score = GMM.score(train_data)\n",
    "    acc = eval_gmm(GMM, trainkalaka)\n",
    "    print('Accuracy Score:', acc)\n",
    "\n",
    "    if acc > best_score:\n",
    "        best_score = acc\n",
    "        best_model = i\n",
    "        best_parameters = c.copy()\n",
    "        best_GMM = GMM.copy()\n",
    "\n",
    "\n",
    "\n",
    "print(f'Best Model #{best_model}')\n",
    "print('Best Parameters:\\n', best_parameters)\n",
    "print('Best Accuracy =', best_score)\n",
    "        "
   ]
  },
  {
   "cell_type": "code",
   "execution_count": 47,
   "metadata": {},
   "outputs": [
    {
     "name": "stdout",
     "output_type": "stream",
     "text": [
      "Model # 4\n",
      "best Parameters: \n",
      " {'audio_transform': <function <lambda> at 0x7f86e4044700>, 'chunk_size': 1024, 'chunk_hop': 512, 'n_gauss': 32}\n",
      "Best Accuracy = 0.67\n",
      "\n",
      "Total of combinations: 60\n"
     ]
    },
    {
     "data": {
      "text/plain": [
       "[{'audio_transform': <function __main__.<lambda>(x)>,\n",
       "  'chunk_size': 1024,\n",
       "  'chunk_hop': 512,\n",
       "  'n_gauss': 8},\n",
       " {'audio_transform': <function __main__.<lambda>(x)>,\n",
       "  'chunk_size': 1024,\n",
       "  'chunk_hop': 512,\n",
       "  'n_gauss': 16},\n",
       " {'audio_transform': <function __main__.<lambda>(x)>,\n",
       "  'chunk_size': 1024,\n",
       "  'chunk_hop': 512,\n",
       "  'n_gauss': 32},\n",
       " {'audio_transform': <function __main__.<lambda>(x)>,\n",
       "  'chunk_size': 1024,\n",
       "  'chunk_hop': 1024,\n",
       "  'n_gauss': 8},\n",
       " {'audio_transform': <function __main__.<lambda>(x)>,\n",
       "  'chunk_size': 1024,\n",
       "  'chunk_hop': 1024,\n",
       "  'n_gauss': 16}]"
      ]
     },
     "execution_count": 47,
     "metadata": {},
     "output_type": "execute_result"
    }
   ],
   "source": [
    "print(f'Best Model #{best_model}')\n",
    "print('Best Parameters:\\n', best_parameters)\n",
    "print('Best Accuracy =', best_score)"
   ]
  },
  {
   "cell_type": "code",
   "execution_count": null,
   "metadata": {
    "scrolled": true
   },
   "outputs": [
    {
     "name": "stdout",
     "output_type": "stream",
     "text": [
      "Finished reading all data in 2.7420384883880615\n"
     ]
    }
   ],
   "source": [
    "# IN GMM training each training sample contains more than one frame;\n",
    "# so we cocatenate all data to have all training datain one array \n",
    "# and the corresponding label with same time duration\n",
    "# actually, here the chunking process is useless, I could have obtained the same without chunking (with slight differences due to trunkation)\n",
    "\n",
    "#This method cannot be used with opensmile\n",
    "start = time.time()\n",
    "train_data = []\n",
    "train_labels = []\n",
    "for data, label, basename in trainkalaka:\n",
    "        train_data.append(data)\n",
    "        train_labels.append(np.full(data.shape[0], label)) \n",
    "\n",
    "train_data = np.concatenate(train_data)\n",
    "train_labels = np.concatenate(train_labels)\n",
    "\n",
    "print(f'Finished reading all data in {time.time() - start}')"
   ]
  },
  {
   "attachments": {},
   "cell_type": "markdown",
   "metadata": {},
   "source": [
    "Let's go training. Again, depending of the amount of data used, the model complexity and computational resources of the machine that you're using, this can take a while. So, relax while the computer works for you!"
   ]
  },
  {
   "cell_type": "code",
   "execution_count": null,
   "metadata": {},
   "outputs": [],
   "source": [
    "## TRAIN GMM models (ML)\n",
    "\"\"\"\n",
    "models = {}\n",
    "n_gauss = 64\n",
    "for lang in LANGUAGES:\n",
    "    models[lang] = GaussianMixture(n_components=n_gauss, covariance_type='diag', max_iter=20, n_init=1, init_params='kmeans', verbose=2, verbose_interval=1)\n",
    "    \n",
    "for lang in LANGUAGES:\n",
    "    print(f'Training model for {lang}')\n",
    "    models[lang].fit(train_data[train_labels==LANG2ID[lang]])\n",
    "\"\"\""
   ]
  },
  {
   "attachments": {},
   "cell_type": "markdown",
   "metadata": {},
   "source": [
    "Now we have two arrays containing the complete training dataset and the corresponging reference labels. Check the sizes, may be have a look to the content of one time instant. Do some checks on the data to be sure that everything is as expected:"
   ]
  },
  {
   "attachments": {},
   "cell_type": "markdown",
   "metadata": {},
   "source": [
    "## Identification and generation of the predictions file\n",
    "\n",
    "Now that we  already have trained models, let's predict/identify language in new audio data and test our model!!! \n",
    "\n",
    "But first, we need to obtain the development partition and do the feature extraction more or less as previously (using the Kalaka class).\n",
    "\n",
    "**IMPORTANT WARNING** Make sure to use the exact same feature extraction process as the one used for the train set. Otherwise, your model will be in disagreement with your evaluation data, and very likely, will not work at all.\n"
   ]
  },
  {
   "cell_type": "code",
   "execution_count": null,
   "metadata": {},
   "outputs": [],
   "source": [
    "# Download and feature extract\n",
    "# transform_id = 'opensmile'\n",
    "transform_id = 'mfcc'\n",
    "\n",
    "# Notice that the chunking is mostly useless both in training and prediction with GMMs: each frame is a sample for which we obtain the probs\n",
    "devkalaka = Kalaka(\n",
    "    CWD,'dev', \n",
    "    transform_id = transform_id, \n",
    "    audio_transform = best_parameters['audio_transform'], \n",
    "    chunk_transform = None,\n",
    "    chunk_size = best_parameters['chunk_size'], \n",
    "    chunk_hop = best_parameters['chunk_hop']\n",
    ")"
   ]
  },
  {
   "attachments": {},
   "cell_type": "markdown",
   "metadata": {},
   "source": [
    "Now, we can iterate the data and use the models for scoring:"
   ]
  },
  {
   "cell_type": "code",
   "execution_count": null,
   "metadata": {},
   "outputs": [
    {
     "name": "stdout",
     "output_type": "stream",
     "text": [
      "Finished reading all data in 0.2989621162414551\n"
     ]
    }
   ],
   "source": [
    "start = time.time()\n",
    "dev_data = {}\n",
    "\n",
    "for data, label, basename in devkalaka:\n",
    "        if basename not in dev_data:\n",
    "                dev_data[basename] = {'data':[], 'label':label}\n",
    "        dev_data[basename]['data'].append(data)\n",
    "\n",
    "## We concatenate all the frames belonging to the same filename\n",
    "for basename in dev_data:\n",
    "        dev_data[basename]['data'] = np.concatenate(dev_data[basename]['data'])\n",
    "\n",
    "print(f'Finished reading all data in {time.time() - start}')"
   ]
  },
  {
   "cell_type": "code",
   "execution_count": null,
   "metadata": {
    "scrolled": false
   },
   "outputs": [],
   "source": [
    "start = time.time()\n",
    "\n",
    "results_dev = {}\n",
    "results_dev['ref'] =  np.empty(len(dev_data),dtype=np.int32)\n",
    "results_dev['hyp'] =  np.empty(len(dev_data),dtype=np.int32)\n",
    "results_dev['llhs'] = np.empty((len(dev_data), len(LANGUAGES)), dtype=np.float64)\n",
    "results_dev['fileids'] = list()\n",
    "\n",
    "for i, fileid in tqdm(enumerate(sorted(dev_data)), total=len(dev_data)):\n",
    "    data = dev_data[fileid]['data']  # the features\n",
    "    \n",
    "    results_dev['fileids'].append(fileid)     #fileid\n",
    "\n",
    "    # obtain the log-likelihood score for each model and store\n",
    "    results_dev['llhs'][i,:] = np.array([best_GMM[lang].score(data) for lang in LANGUAGES])\n",
    "\n",
    "    # store the reference. Notice that I only have this for the dev set, not for the eval\n",
    "    results_dev['ref'][i] = (dev_data[fileid]['label']) #reference\n",
    "\n",
    "    # Obtain the maximum likelihood languge estimation\n",
    "    ix = np.argmax(results_dev['llhs'][i,:])\n",
    "    results_dev['hyp'][i] = LANG2ID[LANGUAGES[ix]]\n",
    "    \n",
    "    \n",
    "print(f'Finished predicting all data in {time.time() - start}')\n"
   ]
  },
  {
   "cell_type": "code",
   "execution_count": null,
   "metadata": {},
   "outputs": [
    {
     "name": "stderr",
     "output_type": "stream",
     "text": [
      "100%|██████████| 917/917 [00:02<00:00, 306.21it/s]"
     ]
    },
    {
     "name": "stdout",
     "output_type": "stream",
     "text": [
      "Finished predicting all data in 2.9981255531311035\n"
     ]
    },
    {
     "name": "stderr",
     "output_type": "stream",
     "text": [
      "\n"
     ]
    }
   ],
   "source": [
    "start = time.time()\n",
    "\n",
    "results_dev = {}\n",
    "results_dev['ref'] =  np.empty(len(dev_data),dtype=np.int32)\n",
    "results_dev['hyp'] =  np.empty(len(dev_data),dtype=np.int32)\n",
    "results_dev['estimated_prob'] =  np.empty((len(dev_data), len(LANGUAGES)), dtype=np.float64)\n",
    "results_dev['fileids'] = list()\n",
    "\n",
    "for i, fileid in tqdm(enumerate(sorted(dev_data)), total=len(dev_data)):\n",
    "    data = dev_data[fileid]['data']  # the features\n",
    "    \n",
    "    results_dev['fileids'].append(fileid)     #fileid\n",
    "\n",
    "    # obtain the log-likelihood score for each model and store\n",
    "    results_dev['estimated_prob'][i,:] = np.array([lgbm.predict_proba(data.reshape(1,-1))[0,i] for i in range(len(LANGUAGES))])\n",
    "\n",
    "    # store the reference. Notice that I only have this for the dev set, not for the eval\n",
    "    results_dev['ref'][i] = (dev_data[fileid]['label']) #reference\n",
    "\n",
    "    # Obtain the maximum likelihood languge estimation\n",
    "    ix = lgbm.predict(data.reshape(1,-1))\n",
    "    results_dev['hyp'][i] = ix\n",
    "    \n",
    "    \n",
    "print(f'Finished predicting all data in {time.time() - start}')\n"
   ]
  },
  {
   "attachments": {},
   "cell_type": "markdown",
   "metadata": {},
   "source": [
    "\n",
    "## Evaluation\n",
    "After running the previous cells, we obtain two arrays with the reference and hypothesis labels, respectively (we can also reload them in case we need them). We can use these to obtain different evaluation metrics and inspect the performance (and potential problems) of our system. Of course, you will only be able to do this evaluation with the development set, since you don't have access to the eval labels."
   ]
  },
  {
   "attachments": {},
   "cell_type": "markdown",
   "metadata": {},
   "source": [
    "You can for instance obtain a classification report summary:"
   ]
  },
  {
   "cell_type": "code",
   "execution_count": null,
   "metadata": {},
   "outputs": [
    {
     "name": "stdout",
     "output_type": "stream",
     "text": [
      "              precision    recall  f1-score   support\n",
      "\n",
      "      Basque       0.23      0.04      0.07       154\n",
      "     Catalan       0.17      0.05      0.08       149\n",
      "     English       0.16      0.75      0.27       150\n",
      "    Galician       0.20      0.03      0.06       151\n",
      "  Portuguese       0.07      0.04      0.05       160\n",
      "     Spanish       0.12      0.03      0.05       153\n",
      "\n",
      "    accuracy                           0.16       917\n",
      "   macro avg       0.16      0.16      0.10       917\n",
      "weighted avg       0.16      0.16      0.09       917\n",
      "\n"
     ]
    }
   ],
   "source": [
    "ref, hyp = results_dev['ref'], results_dev['hyp']\n",
    "print(classification_report(ref, hyp, target_names=LANGUAGES))"
   ]
  },
  {
   "attachments": {},
   "cell_type": "markdown",
   "metadata": {},
   "source": [
    "Overall accuracy (this will be the **main metric for system ranking**):"
   ]
  },
  {
   "cell_type": "code",
   "execution_count": null,
   "metadata": {},
   "outputs": [
    {
     "data": {
      "text/plain": [
       "0.1559432933478735"
      ]
     },
     "execution_count": 264,
     "metadata": {},
     "output_type": "execute_result"
    }
   ],
   "source": [
    "accuracy_score(ref, hyp)"
   ]
  },
  {
   "attachments": {},
   "cell_type": "markdown",
   "metadata": {},
   "source": [
    "Or a confusion matrix: "
   ]
  },
  {
   "cell_type": "code",
   "execution_count": null,
   "metadata": {},
   "outputs": [],
   "source": [
    "confusion_matrix(ref, hyp)"
   ]
  },
  {
   "attachments": {},
   "cell_type": "markdown",
   "metadata": {},
   "source": [
    "and visualize it:"
   ]
  },
  {
   "cell_type": "code",
   "execution_count": null,
   "metadata": {},
   "outputs": [],
   "source": [
    "conf_matrix = confusion_matrix(ref, hyp)\n",
    "\n",
    "fig, ax = plt.subplots(figsize=(3.0, 3.0))\n",
    "ax.matshow(conf_matrix, cmap=plt.cm.Blues, alpha=0.3)\n",
    "for i in range(conf_matrix.shape[0]):\n",
    "    for j in range(conf_matrix.shape[1]):\n",
    "        ax.text(x=j, y=i,s=conf_matrix[i, j], va='center', ha='center')\n",
    "\n",
    "plt.xlabel('Predictions', fontsize=12)\n",
    "plt.ylabel('Actuals', fontsize=12)\n",
    "plt.title(f'Confusion Matrix\\n(Accuracy {100*accuracy_score(ref, hyp):.2f})', fontsize=12)\n",
    "plt.show()"
   ]
  },
  {
   "attachments": {},
   "cell_type": "markdown",
   "metadata": {},
   "source": [
    "These results are poor. The baseline system is very limited in several aspects (features, time context, generative model, etc.). For instance, the likelihood scores are not normalized. It may happen, that one model  provides slightly higher scores for some reason. The following trick sometimes increases slightly the results:"
   ]
  },
  {
   "cell_type": "code",
   "execution_count": null,
   "metadata": {},
   "outputs": [],
   "source": [
    "llhs_norm = (results_dev['llhs'] - results_dev['llhs'].mean(axis=0))\n",
    "hyp_norm = np.empty(hyp.shape, like=hyp)\n",
    "for i in range(len(results_dev['fileids'])):\n",
    "    ix = np.argmax(llhs_norm[i,:])\n",
    "    hyp_norm[i] = LANG2ID[LANGUAGES[ix]]\n"
   ]
  },
  {
   "cell_type": "code",
   "execution_count": null,
   "metadata": {},
   "outputs": [],
   "source": [
    "conf_matrix = confusion_matrix(ref, hyp_norm)\n",
    "\n",
    "fig, ax = plt.subplots(figsize=(3.0, 3.0))\n",
    "ax.matshow(conf_matrix, cmap=plt.cm.Blues, alpha=0.3)\n",
    "for i in range(conf_matrix.shape[0]):\n",
    "    for j in range(conf_matrix.shape[1]):\n",
    "        ax.text(x=j, y=i,s=conf_matrix[i, j], va='center', ha='center')\n",
    "\n",
    "plt.xlabel('Predictions', fontsize=12)\n",
    "plt.ylabel('Actuals', fontsize=12)\n",
    "plt.title(f'Confusion Matrix\\n(Accuracy {100*accuracy_score(ref, hyp_norm):.2f})', fontsize=12)\n",
    "plt.show()"
   ]
  },
  {
   "attachments": {},
   "cell_type": "markdown",
   "metadata": {},
   "source": [
    "This \"trick\" is probematic. Can you discuss why? Can you think of an altenative way of doing the same kind of normalization?"
   ]
  },
  {
   "attachments": {},
   "cell_type": "markdown",
   "metadata": {},
   "source": [
    "# Creating Dataset from opensmile features"
   ]
  },
  {
   "cell_type": "code",
   "execution_count": null,
   "metadata": {},
   "outputs": [],
   "source": [
    "#For opensmile:\n",
    "train_data = []\n",
    "train_labels = []\n",
    "trainkalaka = Kalaka(CWD, 'train100', transform_id='raw', audio_transform=audio_transform)\n",
    "\n",
    "\n",
    "start = time.time()\n",
    "train_data = []\n",
    "train_labels = []\n",
    "i=0\n",
    "for data, label, basename in trainkalaka:\n",
    "    print(i)\n",
    "    train_data.append(opensmile_feats(data.reshape(np.shape(data)[0]),sr=16000))\n",
    "    train_labels.append([label]) \n",
    "    if i%100==0:\n",
    "        print(i)\n",
    "    i=i+1\n",
    "        \n",
    "train_data = np.vstack(train_data)\n",
    "train_labels = np.concatenate(train_labels)\n",
    "joblib.dump(dev_data,'train100\\\\opensmile.pkl')\n"
   ]
  },
  {
   "cell_type": "code",
   "execution_count": null,
   "metadata": {},
   "outputs": [],
   "source": [
    "#For opensmile:\n",
    "dev_data = []\n",
    "dev_labels = []\n",
    "devkalaka = Kalaka(CWD, 'dev', transform_id='raw', audio_transform=audio_transform)\n",
    "\n",
    "\n",
    "start = time.time()\n",
    "train_data = []\n",
    "train_labels = []\n",
    "i=0\n",
    "for data, label, basename in devkalaka:\n",
    "    print(i)\n",
    "    dev_data.append(opensmile_feats(data.reshape(np.shape(data)[0]),sr=16000))\n",
    "    dev_labels.append([label]) \n",
    "    if i%100==0:\n",
    "        print(i)\n",
    "    i=i+1\n",
    "        \n",
    "dev_data = np.vstack(dev_data)\n",
    "dev_labels = np.concatenate(dev_labels)\n"
   ]
  },
  {
   "cell_type": "code",
   "execution_count": null,
   "metadata": {},
   "outputs": [
    {
     "name": "stderr",
     "output_type": "stream",
     "text": [
      "C:\\Users\\ritas\\anaconda3\\lib\\site-packages\\lightgbm\\engine.py:148: UserWarning: Found `num_iterations` in params. Will use it instead of argument\n",
      "  _log_warning(\"Found `{}` in params. Will use it instead of argument\".format(alias))\n",
      "C:\\Users\\ritas\\anaconda3\\lib\\site-packages\\lightgbm\\engine.py:148: UserWarning: Found `num_iterations` in params. Will use it instead of argument\n",
      "  _log_warning(\"Found `{}` in params. Will use it instead of argument\".format(alias))\n"
     ]
    },
    {
     "name": "stdout",
     "output_type": "stream",
     "text": [
      "[LightGBM] [Warning] Unknown parameter: verbose_eval\n",
      "[LightGBM] [Warning] min_data_in_leaf is set=39, min_child_samples=20 will be ignored. Current value: min_data_in_leaf=39\n",
      "iter : 0 --- dev accuracy:  0.2311886586695747\n",
      "[LightGBM] [Warning] Unknown parameter: verbose_eval\n",
      "[LightGBM] [Warning] min_data_in_leaf is set=40, min_child_samples=20 will be ignored. Current value: min_data_in_leaf=40\n",
      "iter : 1 --- dev accuracy:  0.16902944383860413\n",
      "[LightGBM] [Warning] Unknown parameter: verbose_eval\n",
      "[LightGBM] [Warning] min_data_in_leaf is set=5, min_child_samples=20 will be ignored. Current value: min_data_in_leaf=5\n"
     ]
    },
    {
     "name": "stderr",
     "output_type": "stream",
     "text": [
      "C:\\Users\\ritas\\anaconda3\\lib\\site-packages\\lightgbm\\engine.py:148: UserWarning: Found `num_iterations` in params. Will use it instead of argument\n",
      "  _log_warning(\"Found `{}` in params. Will use it instead of argument\".format(alias))\n"
     ]
    },
    {
     "name": "stdout",
     "output_type": "stream",
     "text": [
      "iter : 2 --- dev accuracy:  0.23336968375136313\n",
      "[LightGBM] [Warning] Unknown parameter: verbose_eval\n",
      "[LightGBM] [Warning] min_data_in_leaf is set=27, min_child_samples=20 will be ignored. Current value: min_data_in_leaf=27\n",
      "iter : 3 --- dev accuracy:  0.2257360959651036\n"
     ]
    },
    {
     "name": "stderr",
     "output_type": "stream",
     "text": [
      "C:\\Users\\ritas\\anaconda3\\lib\\site-packages\\lightgbm\\engine.py:148: UserWarning: Found `num_iterations` in params. Will use it instead of argument\n",
      "  _log_warning(\"Found `{}` in params. Will use it instead of argument\".format(alias))\n",
      "C:\\Users\\ritas\\anaconda3\\lib\\site-packages\\lightgbm\\engine.py:148: UserWarning: Found `num_iterations` in params. Will use it instead of argument\n",
      "  _log_warning(\"Found `{}` in params. Will use it instead of argument\".format(alias))\n",
      "C:\\Users\\ritas\\anaconda3\\lib\\site-packages\\lightgbm\\engine.py:148: UserWarning: Found `num_iterations` in params. Will use it instead of argument\n",
      "  _log_warning(\"Found `{}` in params. Will use it instead of argument\".format(alias))\n"
     ]
    },
    {
     "name": "stdout",
     "output_type": "stream",
     "text": [
      "[LightGBM] [Warning] Unknown parameter: verbose_eval\n",
      "[LightGBM] [Warning] min_data_in_leaf is set=43, min_child_samples=20 will be ignored. Current value: min_data_in_leaf=43\n",
      "iter : 4 --- dev accuracy:  0.24427480916030533\n",
      "[LightGBM] [Warning] Unknown parameter: verbose_eval\n",
      "[LightGBM] [Warning] min_data_in_leaf is set=32, min_child_samples=20 will be ignored. Current value: min_data_in_leaf=32\n",
      "iter : 5 --- dev accuracy:  0.18102508178844057\n",
      "[LightGBM] [Warning] Unknown parameter: verbose_eval\n",
      "[LightGBM] [Warning] min_data_in_leaf is set=30, min_child_samples=20 will be ignored. Current value: min_data_in_leaf=30\n",
      "iter : 6 --- dev accuracy:  0.22900763358778625\n",
      "[LightGBM] [Warning] Unknown parameter: verbose_eval\n",
      "[LightGBM] [Warning] min_data_in_leaf is set=40, min_child_samples=20 will be ignored. Current value: min_data_in_leaf=40\n",
      "iter : 7 --- dev accuracy:  0.21701199563794984\n",
      "[LightGBM] [Warning] Unknown parameter: verbose_eval\n",
      "[LightGBM] [Warning] min_data_in_leaf is set=14, min_child_samples=20 will be ignored. Current value: min_data_in_leaf=14\n"
     ]
    },
    {
     "name": "stderr",
     "output_type": "stream",
     "text": [
      "C:\\Users\\ritas\\anaconda3\\lib\\site-packages\\lightgbm\\engine.py:148: UserWarning: Found `num_iterations` in params. Will use it instead of argument\n",
      "  _log_warning(\"Found `{}` in params. Will use it instead of argument\".format(alias))\n",
      "C:\\Users\\ritas\\anaconda3\\lib\\site-packages\\lightgbm\\engine.py:148: UserWarning: Found `num_iterations` in params. Will use it instead of argument\n",
      "  _log_warning(\"Found `{}` in params. Will use it instead of argument\".format(alias))\n",
      "C:\\Users\\ritas\\anaconda3\\lib\\site-packages\\lightgbm\\engine.py:148: UserWarning: Found `num_iterations` in params. Will use it instead of argument\n",
      "  _log_warning(\"Found `{}` in params. Will use it instead of argument\".format(alias))\n"
     ]
    },
    {
     "name": "stdout",
     "output_type": "stream",
     "text": [
      "iter : 8 --- dev accuracy:  0.2366412213740458\n",
      "[LightGBM] [Warning] Unknown parameter: verbose_eval\n",
      "[LightGBM] [Warning] min_data_in_leaf is set=28, min_child_samples=20 will be ignored. Current value: min_data_in_leaf=28\n"
     ]
    },
    {
     "name": "stderr",
     "output_type": "stream",
     "text": [
      "C:\\Users\\ritas\\anaconda3\\lib\\site-packages\\lightgbm\\engine.py:148: UserWarning: Found `num_iterations` in params. Will use it instead of argument\n",
      "  _log_warning(\"Found `{}` in params. Will use it instead of argument\".format(alias))\n"
     ]
    },
    {
     "name": "stdout",
     "output_type": "stream",
     "text": [
      "iter : 9 --- dev accuracy:  0.23227917121046893\n",
      "[LightGBM] [Warning] Unknown parameter: verbose_eval\n",
      "[LightGBM] [Warning] min_data_in_leaf is set=35, min_child_samples=20 will be ignored. Current value: min_data_in_leaf=35\n",
      "iter : 10 --- dev accuracy:  0.2268266085059978\n",
      "[LightGBM] [Warning] Unknown parameter: verbose_eval\n",
      "[LightGBM] [Warning] min_data_in_leaf is set=32, min_child_samples=20 will be ignored. Current value: min_data_in_leaf=32\n"
     ]
    },
    {
     "name": "stderr",
     "output_type": "stream",
     "text": [
      "C:\\Users\\ritas\\anaconda3\\lib\\site-packages\\lightgbm\\engine.py:148: UserWarning: Found `num_iterations` in params. Will use it instead of argument\n",
      "  _log_warning(\"Found `{}` in params. Will use it instead of argument\".format(alias))\n",
      "C:\\Users\\ritas\\anaconda3\\lib\\site-packages\\lightgbm\\engine.py:148: UserWarning: Found `num_iterations` in params. Will use it instead of argument\n",
      "  _log_warning(\"Found `{}` in params. Will use it instead of argument\".format(alias))\n"
     ]
    },
    {
     "name": "stdout",
     "output_type": "stream",
     "text": [
      "iter : 11 --- dev accuracy:  0.14285714285714285\n",
      "[LightGBM] [Warning] Unknown parameter: verbose_eval\n",
      "[LightGBM] [Warning] min_data_in_leaf is set=8, min_child_samples=20 will be ignored. Current value: min_data_in_leaf=8\n"
     ]
    },
    {
     "name": "stderr",
     "output_type": "stream",
     "text": [
      "C:\\Users\\ritas\\anaconda3\\lib\\site-packages\\lightgbm\\engine.py:148: UserWarning: Found `num_iterations` in params. Will use it instead of argument\n",
      "  _log_warning(\"Found `{}` in params. Will use it instead of argument\".format(alias))\n"
     ]
    },
    {
     "name": "stdout",
     "output_type": "stream",
     "text": [
      "iter : 12 --- dev accuracy:  0.2300981461286805\n",
      "[LightGBM] [Warning] Unknown parameter: verbose_eval\n",
      "[LightGBM] [Warning] min_data_in_leaf is set=33, min_child_samples=20 will be ignored. Current value: min_data_in_leaf=33\n",
      "iter : 13 --- dev accuracy:  0.25408942202835333\n"
     ]
    },
    {
     "name": "stderr",
     "output_type": "stream",
     "text": [
      "C:\\Users\\ritas\\anaconda3\\lib\\site-packages\\lightgbm\\engine.py:148: UserWarning: Found `num_iterations` in params. Will use it instead of argument\n",
      "  _log_warning(\"Found `{}` in params. Will use it instead of argument\".format(alias))\n",
      "C:\\Users\\ritas\\anaconda3\\lib\\site-packages\\lightgbm\\engine.py:148: UserWarning: Found `num_iterations` in params. Will use it instead of argument\n",
      "  _log_warning(\"Found `{}` in params. Will use it instead of argument\".format(alias))\n"
     ]
    },
    {
     "name": "stdout",
     "output_type": "stream",
     "text": [
      "[LightGBM] [Warning] Unknown parameter: verbose_eval\n",
      "[LightGBM] [Warning] min_data_in_leaf is set=12, min_child_samples=20 will be ignored. Current value: min_data_in_leaf=12\n",
      "iter : 14 --- dev accuracy:  0.23991275899672845\n",
      "[LightGBM] [Warning] Unknown parameter: verbose_eval\n",
      "[LightGBM] [Warning] min_data_in_leaf is set=19, min_child_samples=20 will be ignored. Current value: min_data_in_leaf=19\n"
     ]
    },
    {
     "name": "stderr",
     "output_type": "stream",
     "text": [
      "C:\\Users\\ritas\\anaconda3\\lib\\site-packages\\lightgbm\\engine.py:148: UserWarning: Found `num_iterations` in params. Will use it instead of argument\n",
      "  _log_warning(\"Found `{}` in params. Will use it instead of argument\".format(alias))\n"
     ]
    },
    {
     "name": "stdout",
     "output_type": "stream",
     "text": [
      "iter : 15 --- dev accuracy:  0.24427480916030533\n",
      "[LightGBM] [Warning] Unknown parameter: verbose_eval\n",
      "[LightGBM] [Warning] min_data_in_leaf is set=14, min_child_samples=20 will be ignored. Current value: min_data_in_leaf=14\n"
     ]
    },
    {
     "name": "stderr",
     "output_type": "stream",
     "text": [
      "C:\\Users\\ritas\\anaconda3\\lib\\site-packages\\lightgbm\\engine.py:148: UserWarning: Found `num_iterations` in params. Will use it instead of argument\n",
      "  _log_warning(\"Found `{}` in params. Will use it instead of argument\".format(alias))\n"
     ]
    },
    {
     "name": "stdout",
     "output_type": "stream",
     "text": [
      "iter : 16 --- dev accuracy:  0.16575790621592149\n",
      "[LightGBM] [Warning] Unknown parameter: verbose_eval\n",
      "[LightGBM] [Warning] min_data_in_leaf is set=26, min_child_samples=20 will be ignored. Current value: min_data_in_leaf=26\n"
     ]
    },
    {
     "name": "stderr",
     "output_type": "stream",
     "text": [
      "C:\\Users\\ritas\\anaconda3\\lib\\site-packages\\lightgbm\\engine.py:148: UserWarning: Found `num_iterations` in params. Will use it instead of argument\n",
      "  _log_warning(\"Found `{}` in params. Will use it instead of argument\".format(alias))\n"
     ]
    },
    {
     "name": "stdout",
     "output_type": "stream",
     "text": [
      "iter : 17 --- dev accuracy:  0.173391494002181\n",
      "[LightGBM] [Warning] Unknown parameter: verbose_eval\n",
      "[LightGBM] [Warning] min_data_in_leaf is set=30, min_child_samples=20 will be ignored. Current value: min_data_in_leaf=30\n"
     ]
    },
    {
     "name": "stderr",
     "output_type": "stream",
     "text": [
      "C:\\Users\\ritas\\anaconda3\\lib\\site-packages\\lightgbm\\engine.py:148: UserWarning: Found `num_iterations` in params. Will use it instead of argument\n",
      "  _log_warning(\"Found `{}` in params. Will use it instead of argument\".format(alias))\n"
     ]
    },
    {
     "name": "stdout",
     "output_type": "stream",
     "text": [
      "iter : 18 --- dev accuracy:  0.20719738276990185\n",
      "[LightGBM] [Warning] Unknown parameter: verbose_eval\n",
      "[LightGBM] [Warning] min_data_in_leaf is set=47, min_child_samples=20 will be ignored. Current value: min_data_in_leaf=47\n",
      "iter : 19 --- dev accuracy:  0.2039258451472192\n",
      "[LightGBM] [Warning] Unknown parameter: verbose_eval\n",
      "[LightGBM] [Warning] min_data_in_leaf is set=19, min_child_samples=20 will be ignored. Current value: min_data_in_leaf=19\n"
     ]
    },
    {
     "name": "stderr",
     "output_type": "stream",
     "text": [
      "C:\\Users\\ritas\\anaconda3\\lib\\site-packages\\lightgbm\\engine.py:148: UserWarning: Found `num_iterations` in params. Will use it instead of argument\n",
      "  _log_warning(\"Found `{}` in params. Will use it instead of argument\".format(alias))\n",
      "C:\\Users\\ritas\\anaconda3\\lib\\site-packages\\lightgbm\\engine.py:148: UserWarning: Found `num_iterations` in params. Will use it instead of argument\n",
      "  _log_warning(\"Found `{}` in params. Will use it instead of argument\".format(alias))\n"
     ]
    },
    {
     "name": "stdout",
     "output_type": "stream",
     "text": [
      "iter : 20 --- dev accuracy:  0.25408942202835333\n",
      "[LightGBM] [Warning] Unknown parameter: verbose_eval\n",
      "[LightGBM] [Warning] min_data_in_leaf is set=22, min_child_samples=20 will be ignored. Current value: min_data_in_leaf=22\n"
     ]
    },
    {
     "name": "stderr",
     "output_type": "stream",
     "text": [
      "C:\\Users\\ritas\\anaconda3\\lib\\site-packages\\lightgbm\\engine.py:148: UserWarning: Found `num_iterations` in params. Will use it instead of argument\n",
      "  _log_warning(\"Found `{}` in params. Will use it instead of argument\".format(alias))\n"
     ]
    },
    {
     "name": "stdout",
     "output_type": "stream",
     "text": [
      "iter : 21 --- dev accuracy:  0.25081788440567065\n",
      "[LightGBM] [Warning] Unknown parameter: verbose_eval\n",
      "[LightGBM] [Warning] min_data_in_leaf is set=48, min_child_samples=20 will be ignored. Current value: min_data_in_leaf=48\n",
      "iter : 22 --- dev accuracy:  0.2311886586695747\n",
      "[LightGBM] [Warning] Unknown parameter: verbose_eval\n",
      "[LightGBM] [Warning] min_data_in_leaf is set=34, min_child_samples=20 will be ignored. Current value: min_data_in_leaf=34\n"
     ]
    },
    {
     "name": "stderr",
     "output_type": "stream",
     "text": [
      "C:\\Users\\ritas\\anaconda3\\lib\\site-packages\\lightgbm\\engine.py:148: UserWarning: Found `num_iterations` in params. Will use it instead of argument\n",
      "  _log_warning(\"Found `{}` in params. Will use it instead of argument\".format(alias))\n",
      "C:\\Users\\ritas\\anaconda3\\lib\\site-packages\\lightgbm\\engine.py:148: UserWarning: Found `num_iterations` in params. Will use it instead of argument\n",
      "  _log_warning(\"Found `{}` in params. Will use it instead of argument\".format(alias))\n"
     ]
    },
    {
     "name": "stdout",
     "output_type": "stream",
     "text": [
      "iter : 23 --- dev accuracy:  0.22900763358778625\n",
      "[LightGBM] [Warning] Unknown parameter: verbose_eval\n",
      "[LightGBM] [Warning] min_data_in_leaf is set=36, min_child_samples=20 will be ignored. Current value: min_data_in_leaf=36\n"
     ]
    },
    {
     "name": "stderr",
     "output_type": "stream",
     "text": [
      "C:\\Users\\ritas\\anaconda3\\lib\\site-packages\\lightgbm\\engine.py:148: UserWarning: Found `num_iterations` in params. Will use it instead of argument\n",
      "  _log_warning(\"Found `{}` in params. Will use it instead of argument\".format(alias))\n"
     ]
    },
    {
     "name": "stdout",
     "output_type": "stream",
     "text": [
      "iter : 24 --- dev accuracy:  0.24863685932388221\n",
      "[LightGBM] [Warning] Unknown parameter: verbose_eval\n",
      "[LightGBM] [Warning] min_data_in_leaf is set=3, min_child_samples=20 will be ignored. Current value: min_data_in_leaf=3\n"
     ]
    },
    {
     "name": "stderr",
     "output_type": "stream",
     "text": [
      "C:\\Users\\ritas\\anaconda3\\lib\\site-packages\\lightgbm\\engine.py:148: UserWarning: Found `num_iterations` in params. Will use it instead of argument\n",
      "  _log_warning(\"Found `{}` in params. Will use it instead of argument\".format(alias))\n"
     ]
    },
    {
     "name": "stdout",
     "output_type": "stream",
     "text": [
      "iter : 25 --- dev accuracy:  0.1766630316248637\n",
      "[LightGBM] [Warning] Unknown parameter: verbose_eval\n",
      "[LightGBM] [Warning] min_data_in_leaf is set=19, min_child_samples=20 will be ignored. Current value: min_data_in_leaf=19\n"
     ]
    },
    {
     "name": "stderr",
     "output_type": "stream",
     "text": [
      "C:\\Users\\ritas\\anaconda3\\lib\\site-packages\\lightgbm\\engine.py:148: UserWarning: Found `num_iterations` in params. Will use it instead of argument\n",
      "  _log_warning(\"Found `{}` in params. Will use it instead of argument\".format(alias))\n"
     ]
    },
    {
     "name": "stdout",
     "output_type": "stream",
     "text": [
      "iter : 26 --- dev accuracy:  0.22464558342420937\n",
      "[LightGBM] [Warning] Unknown parameter: verbose_eval\n",
      "[LightGBM] [Warning] min_data_in_leaf is set=16, min_child_samples=20 will be ignored. Current value: min_data_in_leaf=16\n"
     ]
    },
    {
     "name": "stderr",
     "output_type": "stream",
     "text": [
      "C:\\Users\\ritas\\anaconda3\\lib\\site-packages\\lightgbm\\engine.py:148: UserWarning: Found `num_iterations` in params. Will use it instead of argument\n",
      "  _log_warning(\"Found `{}` in params. Will use it instead of argument\".format(alias))\n"
     ]
    },
    {
     "name": "stdout",
     "output_type": "stream",
     "text": [
      "iter : 27 --- dev accuracy:  0.2268266085059978\n",
      "[LightGBM] [Warning] Unknown parameter: verbose_eval\n",
      "[LightGBM] [Warning] min_data_in_leaf is set=11, min_child_samples=20 will be ignored. Current value: min_data_in_leaf=11\n"
     ]
    },
    {
     "name": "stderr",
     "output_type": "stream",
     "text": [
      "C:\\Users\\ritas\\anaconda3\\lib\\site-packages\\lightgbm\\engine.py:148: UserWarning: Found `num_iterations` in params. Will use it instead of argument\n",
      "  _log_warning(\"Found `{}` in params. Will use it instead of argument\".format(alias))\n"
     ]
    },
    {
     "name": "stdout",
     "output_type": "stream",
     "text": [
      "iter : 28 --- dev accuracy:  0.1668484187568157\n",
      "[LightGBM] [Warning] Unknown parameter: verbose_eval\n",
      "[LightGBM] [Warning] min_data_in_leaf is set=17, min_child_samples=20 will be ignored. Current value: min_data_in_leaf=17\n"
     ]
    },
    {
     "name": "stderr",
     "output_type": "stream",
     "text": [
      "C:\\Users\\ritas\\anaconda3\\lib\\site-packages\\lightgbm\\engine.py:148: UserWarning: Found `num_iterations` in params. Will use it instead of argument\n",
      "  _log_warning(\"Found `{}` in params. Will use it instead of argument\".format(alias))\n"
     ]
    },
    {
     "name": "stdout",
     "output_type": "stream",
     "text": [
      "iter : 29 --- dev accuracy:  0.24645583424209377\n",
      "[LightGBM] [Warning] Unknown parameter: verbose_eval\n",
      "[LightGBM] [Warning] min_data_in_leaf is set=14, min_child_samples=20 will be ignored. Current value: min_data_in_leaf=14\n"
     ]
    },
    {
     "name": "stderr",
     "output_type": "stream",
     "text": [
      "C:\\Users\\ritas\\anaconda3\\lib\\site-packages\\lightgbm\\engine.py:148: UserWarning: Found `num_iterations` in params. Will use it instead of argument\n",
      "  _log_warning(\"Found `{}` in params. Will use it instead of argument\".format(alias))\n"
     ]
    },
    {
     "name": "stdout",
     "output_type": "stream",
     "text": [
      "iter : 30 --- dev accuracy:  0.247546346782988\n",
      "[LightGBM] [Warning] Unknown parameter: verbose_eval\n",
      "[LightGBM] [Warning] min_data_in_leaf is set=44, min_child_samples=20 will be ignored. Current value: min_data_in_leaf=44\n",
      "iter : 31 --- dev accuracy:  0.1668484187568157\n",
      "[LightGBM] [Warning] Unknown parameter: verbose_eval\n",
      "[LightGBM] [Warning] min_data_in_leaf is set=45, min_child_samples=20 will be ignored. Current value: min_data_in_leaf=45\n"
     ]
    },
    {
     "name": "stderr",
     "output_type": "stream",
     "text": [
      "C:\\Users\\ritas\\anaconda3\\lib\\site-packages\\lightgbm\\engine.py:148: UserWarning: Found `num_iterations` in params. Will use it instead of argument\n",
      "  _log_warning(\"Found `{}` in params. Will use it instead of argument\".format(alias))\n",
      "C:\\Users\\ritas\\anaconda3\\lib\\site-packages\\lightgbm\\engine.py:148: UserWarning: Found `num_iterations` in params. Will use it instead of argument\n",
      "  _log_warning(\"Found `{}` in params. Will use it instead of argument\".format(alias))\n"
     ]
    },
    {
     "name": "stdout",
     "output_type": "stream",
     "text": [
      "iter : 32 --- dev accuracy:  0.24318429661941113\n",
      "[LightGBM] [Warning] Unknown parameter: verbose_eval\n",
      "[LightGBM] [Warning] min_data_in_leaf is set=32, min_child_samples=20 will be ignored. Current value: min_data_in_leaf=32\n"
     ]
    },
    {
     "name": "stderr",
     "output_type": "stream",
     "text": [
      "C:\\Users\\ritas\\anaconda3\\lib\\site-packages\\lightgbm\\engine.py:148: UserWarning: Found `num_iterations` in params. Will use it instead of argument\n",
      "  _log_warning(\"Found `{}` in params. Will use it instead of argument\".format(alias))\n"
     ]
    },
    {
     "name": "stdout",
     "output_type": "stream",
     "text": [
      "iter : 33 --- dev accuracy:  0.16793893129770993\n",
      "[LightGBM] [Warning] Unknown parameter: verbose_eval\n",
      "[LightGBM] [Warning] min_data_in_leaf is set=14, min_child_samples=20 will be ignored. Current value: min_data_in_leaf=14\n"
     ]
    },
    {
     "name": "stderr",
     "output_type": "stream",
     "text": [
      "C:\\Users\\ritas\\anaconda3\\lib\\site-packages\\lightgbm\\engine.py:148: UserWarning: Found `num_iterations` in params. Will use it instead of argument\n",
      "  _log_warning(\"Found `{}` in params. Will use it instead of argument\".format(alias))\n"
     ]
    },
    {
     "name": "stdout",
     "output_type": "stream",
     "text": [
      "iter : 34 --- dev accuracy:  0.2529989094874591\n",
      "[LightGBM] [Warning] Unknown parameter: verbose_eval\n",
      "[LightGBM] [Warning] min_data_in_leaf is set=45, min_child_samples=20 will be ignored. Current value: min_data_in_leaf=45\n"
     ]
    },
    {
     "name": "stderr",
     "output_type": "stream",
     "text": [
      "C:\\Users\\ritas\\anaconda3\\lib\\site-packages\\lightgbm\\engine.py:148: UserWarning: Found `num_iterations` in params. Will use it instead of argument\n",
      "  _log_warning(\"Found `{}` in params. Will use it instead of argument\".format(alias))\n"
     ]
    },
    {
     "name": "stdout",
     "output_type": "stream",
     "text": [
      "iter : 35 --- dev accuracy:  0.24863685932388221\n",
      "[LightGBM] [Warning] Unknown parameter: verbose_eval\n",
      "[LightGBM] [Warning] min_data_in_leaf is set=43, min_child_samples=20 will be ignored. Current value: min_data_in_leaf=43\n",
      "iter : 36 --- dev accuracy:  0.20065430752453653\n",
      "[LightGBM] [Warning] Unknown parameter: verbose_eval\n",
      "[LightGBM] [Warning] min_data_in_leaf is set=43, min_child_samples=20 will be ignored. Current value: min_data_in_leaf=43\n",
      "iter : 37 --- dev accuracy:  0.2366412213740458\n"
     ]
    },
    {
     "name": "stderr",
     "output_type": "stream",
     "text": [
      "C:\\Users\\ritas\\anaconda3\\lib\\site-packages\\lightgbm\\engine.py:148: UserWarning: Found `num_iterations` in params. Will use it instead of argument\n",
      "  _log_warning(\"Found `{}` in params. Will use it instead of argument\".format(alias))\n",
      "C:\\Users\\ritas\\anaconda3\\lib\\site-packages\\lightgbm\\engine.py:148: UserWarning: Found `num_iterations` in params. Will use it instead of argument\n",
      "  _log_warning(\"Found `{}` in params. Will use it instead of argument\".format(alias))\n",
      "C:\\Users\\ritas\\anaconda3\\lib\\site-packages\\lightgbm\\engine.py:148: UserWarning: Found `num_iterations` in params. Will use it instead of argument\n",
      "  _log_warning(\"Found `{}` in params. Will use it instead of argument\".format(alias))\n"
     ]
    },
    {
     "name": "stdout",
     "output_type": "stream",
     "text": [
      "[LightGBM] [Warning] Unknown parameter: verbose_eval\n",
      "[LightGBM] [Warning] min_data_in_leaf is set=26, min_child_samples=20 will be ignored. Current value: min_data_in_leaf=26\n",
      "iter : 38 --- dev accuracy:  0.1624863685932388\n",
      "[LightGBM] [Warning] Unknown parameter: verbose_eval\n",
      "[LightGBM] [Warning] min_data_in_leaf is set=36, min_child_samples=20 will be ignored. Current value: min_data_in_leaf=36\n"
     ]
    },
    {
     "name": "stderr",
     "output_type": "stream",
     "text": [
      "C:\\Users\\ritas\\anaconda3\\lib\\site-packages\\lightgbm\\engine.py:148: UserWarning: Found `num_iterations` in params. Will use it instead of argument\n",
      "  _log_warning(\"Found `{}` in params. Will use it instead of argument\".format(alias))\n"
     ]
    },
    {
     "name": "stdout",
     "output_type": "stream",
     "text": [
      "iter : 39 --- dev accuracy:  0.24318429661941113\n",
      "[LightGBM] [Warning] Unknown parameter: verbose_eval\n",
      "[LightGBM] [Warning] min_data_in_leaf is set=39, min_child_samples=20 will be ignored. Current value: min_data_in_leaf=39\n",
      "iter : 40 --- dev accuracy:  0.22464558342420937\n",
      "[LightGBM] [Warning] Unknown parameter: verbose_eval\n",
      "[LightGBM] [Warning] min_data_in_leaf is set=13, min_child_samples=20 will be ignored. Current value: min_data_in_leaf=13\n"
     ]
    },
    {
     "name": "stderr",
     "output_type": "stream",
     "text": [
      "C:\\Users\\ritas\\anaconda3\\lib\\site-packages\\lightgbm\\engine.py:148: UserWarning: Found `num_iterations` in params. Will use it instead of argument\n",
      "  _log_warning(\"Found `{}` in params. Will use it instead of argument\".format(alias))\n",
      "C:\\Users\\ritas\\anaconda3\\lib\\site-packages\\lightgbm\\engine.py:148: UserWarning: Found `num_iterations` in params. Will use it instead of argument\n",
      "  _log_warning(\"Found `{}` in params. Will use it instead of argument\".format(alias))\n"
     ]
    },
    {
     "name": "stdout",
     "output_type": "stream",
     "text": [
      "iter : 41 --- dev accuracy:  0.2595419847328244\n",
      "[LightGBM] [Warning] Unknown parameter: verbose_eval\n",
      "[LightGBM] [Warning] min_data_in_leaf is set=43, min_child_samples=20 will be ignored. Current value: min_data_in_leaf=43\n",
      "iter : 42 --- dev accuracy:  0.22900763358778625\n",
      "[LightGBM] [Warning] Unknown parameter: verbose_eval\n",
      "[LightGBM] [Warning] min_data_in_leaf is set=2, min_child_samples=20 will be ignored. Current value: min_data_in_leaf=2\n"
     ]
    },
    {
     "name": "stderr",
     "output_type": "stream",
     "text": [
      "C:\\Users\\ritas\\anaconda3\\lib\\site-packages\\lightgbm\\engine.py:148: UserWarning: Found `num_iterations` in params. Will use it instead of argument\n",
      "  _log_warning(\"Found `{}` in params. Will use it instead of argument\".format(alias))\n",
      "C:\\Users\\ritas\\anaconda3\\lib\\site-packages\\lightgbm\\engine.py:148: UserWarning: Found `num_iterations` in params. Will use it instead of argument\n",
      "  _log_warning(\"Found `{}` in params. Will use it instead of argument\".format(alias))\n"
     ]
    },
    {
     "name": "stdout",
     "output_type": "stream",
     "text": [
      "iter : 43 --- dev accuracy:  0.22355507088331517\n",
      "[LightGBM] [Warning] Unknown parameter: verbose_eval\n",
      "[LightGBM] [Warning] min_data_in_leaf is set=40, min_child_samples=20 will be ignored. Current value: min_data_in_leaf=40\n"
     ]
    },
    {
     "name": "stderr",
     "output_type": "stream",
     "text": [
      "C:\\Users\\ritas\\anaconda3\\lib\\site-packages\\lightgbm\\engine.py:148: UserWarning: Found `num_iterations` in params. Will use it instead of argument\n",
      "  _log_warning(\"Found `{}` in params. Will use it instead of argument\".format(alias))\n"
     ]
    },
    {
     "name": "stdout",
     "output_type": "stream",
     "text": [
      "iter : 44 --- dev accuracy:  0.2366412213740458\n",
      "[LightGBM] [Warning] Unknown parameter: verbose_eval\n",
      "[LightGBM] [Warning] min_data_in_leaf is set=40, min_child_samples=20 will be ignored. Current value: min_data_in_leaf=40\n"
     ]
    },
    {
     "name": "stderr",
     "output_type": "stream",
     "text": [
      "C:\\Users\\ritas\\anaconda3\\lib\\site-packages\\lightgbm\\engine.py:148: UserWarning: Found `num_iterations` in params. Will use it instead of argument\n",
      "  _log_warning(\"Found `{}` in params. Will use it instead of argument\".format(alias))\n"
     ]
    },
    {
     "name": "stdout",
     "output_type": "stream",
     "text": [
      "iter : 45 --- dev accuracy:  0.23882224645583425\n",
      "[LightGBM] [Warning] Unknown parameter: verbose_eval\n",
      "[LightGBM] [Warning] min_data_in_leaf is set=44, min_child_samples=20 will be ignored. Current value: min_data_in_leaf=44\n",
      "iter : 46 --- dev accuracy:  0.18102508178844057\n",
      "[LightGBM] [Warning] Unknown parameter: verbose_eval\n",
      "[LightGBM] [Warning] min_data_in_leaf is set=40, min_child_samples=20 will be ignored. Current value: min_data_in_leaf=40\n"
     ]
    },
    {
     "name": "stderr",
     "output_type": "stream",
     "text": [
      "C:\\Users\\ritas\\anaconda3\\lib\\site-packages\\lightgbm\\engine.py:148: UserWarning: Found `num_iterations` in params. Will use it instead of argument\n",
      "  _log_warning(\"Found `{}` in params. Will use it instead of argument\".format(alias))\n",
      "C:\\Users\\ritas\\anaconda3\\lib\\site-packages\\lightgbm\\engine.py:148: UserWarning: Found `num_iterations` in params. Will use it instead of argument\n",
      "  _log_warning(\"Found `{}` in params. Will use it instead of argument\".format(alias))\n"
     ]
    },
    {
     "name": "stdout",
     "output_type": "stream",
     "text": [
      "iter : 47 --- dev accuracy:  0.19083969465648856\n",
      "[LightGBM] [Warning] Unknown parameter: verbose_eval\n",
      "[LightGBM] [Warning] min_data_in_leaf is set=14, min_child_samples=20 will be ignored. Current value: min_data_in_leaf=14\n",
      "iter : 48 --- dev accuracy:  0.17011995637949837\n",
      "[LightGBM] [Warning] Unknown parameter: verbose_eval\n",
      "[LightGBM] [Warning] min_data_in_leaf is set=8, min_child_samples=20 will be ignored. Current value: min_data_in_leaf=8\n"
     ]
    },
    {
     "name": "stderr",
     "output_type": "stream",
     "text": [
      "C:\\Users\\ritas\\anaconda3\\lib\\site-packages\\lightgbm\\engine.py:148: UserWarning: Found `num_iterations` in params. Will use it instead of argument\n",
      "  _log_warning(\"Found `{}` in params. Will use it instead of argument\".format(alias))\n",
      "C:\\Users\\ritas\\anaconda3\\lib\\site-packages\\lightgbm\\engine.py:148: UserWarning: Found `num_iterations` in params. Will use it instead of argument\n",
      "  _log_warning(\"Found `{}` in params. Will use it instead of argument\".format(alias))\n"
     ]
    },
    {
     "name": "stdout",
     "output_type": "stream",
     "text": [
      "iter : 49 --- dev accuracy:  0.247546346782988\n"
     ]
    }
   ],
   "source": [
    "#Let's train a GBDT\n",
    "from lightgbm import LGBMClassifier\n",
    "from lightgbm import plot_importance\n",
    "from lightgbm import plot_tree\n",
    "import sklearn as skl\n",
    "from sklearn.model_selection import ParameterSampler\n",
    "import numpy as np\n",
    "import math\n",
    "from scipy.stats import uniform\n",
    "\n",
    "def lgbm_param_sampler(n_iters,seed,device):\n",
    "    param_grid={'num_iterations': \n",
    "                range(30, 200),\n",
    "        'learning_rate':\n",
    "            uniform(loc=0.001, scale=1-0.001 ),\n",
    "        'num_leaves':\n",
    "            range( 5, 100 ),\n",
    "        'boosting_type':\n",
    "            [\"goss\"],\n",
    "        'min_data_in_leaf':\n",
    "            range( 2, 50 ),\n",
    "        'max_bin':\n",
    "            range( 3, 100 ),\n",
    "        'device': \n",
    "            [device]}\n",
    "    param_list = list(ParameterSampler(param_grid, n_iter=n_iters, random_state=np.random.RandomState(seed)))\n",
    "    return param_list\n",
    "\n",
    "params=lgbm_param_sampler(50,1213,'cpu')\n",
    "i=0\n",
    "for k in params:\n",
    "    lgbm=LGBMClassifier(**k,objective='multiclass',verbose=-1,verbose_eval=-1)\n",
    "    lgbm.fit(train_data,train_labels)\n",
    "    y_hat=lgbm.predict(dev_data)\n",
    "    print('iter :',i,'--- dev accuracy: ',accuracy_score(y_hat,dev_labels)) #???\n",
    "    #print(confusion_matrix(dev_labels, y_hat))\n",
    "    i=i+1"
   ]
  },
  {
   "attachments": {},
   "cell_type": "markdown",
   "metadata": {},
   "source": [
    "## Running the prediction on the evl partition\n",
    "\n",
    "Once you are happy with your system and the results obtained in the development set, you are ready to generate the predictions on the `'evl'` partition. To do that, you have to follow the same process as for the development partition, but of course, this time you will not be able to obtain performance results because you don't have labels for this partition. \n",
    "\n",
    "We start by instantiating the `Kalaka` class for the `'evl'` partition:\n"
   ]
  },
  {
   "cell_type": "code",
   "execution_count": null,
   "metadata": {},
   "outputs": [],
   "source": [
    "transform_id = 'mfcc_sdc_vad_chunk_300_300'\n",
    "\n",
    "evlkalaka = Kalaka(CWD,'evl', \n",
    "                 transform_id=transform_id, \n",
    "                 audio_transform=transform[transform_id]['audio_transform'], \n",
    "                 chunk_transform=transform[transform_id]['chunk_transform'],\n",
    "                 chunk_size=transform[transform_id]['chunk_size'], \n",
    "                 chunk_hop=transform[transform_id]['chunk_hop']\n",
    "                )\n"
   ]
  },
  {
   "attachments": {},
   "cell_type": "markdown",
   "metadata": {},
   "source": [
    "Then, we load the evaluation data:"
   ]
  },
  {
   "cell_type": "code",
   "execution_count": null,
   "metadata": {},
   "outputs": [],
   "source": [
    "start = time.time()\n",
    "evl_data = {}\n",
    "\n",
    "for data, label, basename in evlkalaka:\n",
    "        if basename not in evl_data:\n",
    "                evl_data[basename] = {'data':[], 'label':label}\n",
    "        evl_data[basename]['data'].append(data)\n",
    "\n",
    "for basename in evl_data:\n",
    "        evl_data[basename]['data'] = np.concatenate(evl_data[basename]['data'])\n",
    "\n",
    "print(f'Finished reading all data in {time.time() - start}')"
   ]
  },
  {
   "attachments": {},
   "cell_type": "markdown",
   "metadata": {},
   "source": [
    "And apply the model(s) to the new `'evl'` data:"
   ]
  },
  {
   "cell_type": "code",
   "execution_count": null,
   "metadata": {},
   "outputs": [],
   "source": [
    "start = time.time()\n",
    "\n",
    "results_evl = {}\n",
    "results_evl['ref'] =  None\n",
    "results_evl['hyp'] =  np.empty(len(evl_data),dtype=np.int32)\n",
    "results_evl['llhs'] = np.empty((len(evl_data), len(LANGUAGES)), dtype=np.float64)\n",
    "results_evl['fileids'] = list()\n",
    "\n",
    "\n",
    "# Obtain LLH matrix\n",
    "for i, fileid in tqdm(enumerate(sorted(evl_data)), total=len(evl_data)):\n",
    "\n",
    "    data = evl_data[fileid]['data']  # the features\n",
    "    results_evl['fileids'].append(fileid)     #fileid\n",
    "\n",
    "    # obtain the log-likelihood score for each model and store\n",
    "    results_evl['llhs'][i,:] = np.array([models[lang].score(data) for lang in LANGUAGES])\n",
    "\n",
    "    # Obtain the maximum likelihood languge estimation\n",
    "    ix = np.argmax(results_evl['llhs'][i,:])\n",
    "    results_evl['hyp'][i] = LANG2ID[LANGUAGES[ix]]    \n",
    "\n",
    "print(f'Finished predicting all data in {time.time() - start}')"
   ]
  },
  {
   "attachments": {},
   "cell_type": "markdown",
   "metadata": {},
   "source": [
    "## Create the predictions file\n",
    "\n",
    "The predictions file used for submission and scoring is a CSV file containing the predictions of both the `dev` and `evl` partitions.\n",
    "The file has two fields: fileId and Lang. The fileId is the unique audio file identifier and the Lang field is the language prediction (numeric from 1 to 6). The predictions file name must be as follows:\n",
    "\n",
    "`T<X>_G<YY>_<SYSTEMID>.csv` \n",
    "\n",
    "where `<X>` can be 1 or 2 depending on being a system for track 1 or track 2 evaluation; `<YY>` is the students' group number (use 2 digits) and `<SYSTEMID>` is a identifying string for that submission/system."
   ]
  },
  {
   "cell_type": "code",
   "execution_count": null,
   "metadata": {},
   "outputs": [],
   "source": [
    "group, system = '00', 'baseline_train100'\n",
    "with open(f'{os.getcwd()}/T1_G{group}_{system}.csv', 'w') as file:\n",
    "    csv_writer = csv.writer(file) # CSV writer\n",
    "    csv_writer.writerow(('fileId', 'Lang')) # Header of the CSV\n",
    "\n",
    "    # Save dev results\n",
    "    for i in range(len(results_dev['fileids'])):\n",
    "        csv_writer.writerow((results_dev['fileids'][i], results_dev['hyp'][i]))\n",
    "    # Save evl results\n",
    "    for i in range(len(results_evl['fileids'])):\n",
    "        csv_writer.writerow((results_evl['fileids'][i], results_evl['hyp'][i]))"
   ]
  },
  {
   "attachments": {},
   "cell_type": "markdown",
   "metadata": {},
   "source": [
    "## Submit your prediction\n",
    "You can submit your prediction in the following Kaggle competition: https://www.kaggle.com/competitions/speech-processing-lab-2/\n",
    "\n",
    "## What should/can you do next?\n",
    "**Everything!!** Try to extend and improve the feature extraction. Try to play with the parameters. Try completely different feature extraction modules (look for openSMILE, torchaudio,). Try to increase the model complexity. Try different modeling approaches. Try to understand the impact of the different modifications. Once you are happy with your system, try to train on the full set and check the impact of adding data to your system.\n"
   ]
  },
  {
   "attachments": {},
   "cell_type": "markdown",
   "metadata": {},
   "source": [
    "# PART 2 - Using pre-trained embeddings (Track 2)\n",
    "\n",
    "There exist plenty of resources and pre-trained models that can be extremely useful for our task. For instance, x-vectors are currently the state of the art approach to obtain speech embeddings that characterize very efficiently speaker or language, among others. Particularly, the following x-vector model is available and it has been trained using a large corpus of 107 languages for language identification: https://huggingface.co/speechbrain/lang-id-voxlingua107-ecapa\n",
    "\n",
    "You can obtain it from the `speechbrain` module, that you need to install now if you are using Google Colab:\n",
    "\n"
   ]
  },
  {
   "cell_type": "code",
   "execution_count": null,
   "metadata": {},
   "outputs": [],
   "source": [
    "# If you are using Google Colab, you'll have to install the speechbrain module\n",
    "raise CheckThisCell ## <---- Remove this after completing/checking this cell\n",
    "!pip install speechbrain"
   ]
  },
  {
   "attachments": {},
   "cell_type": "markdown",
   "metadata": {},
   "source": [
    "The following code cell imports such model and shows how to obtain an embedding vector:"
   ]
  },
  {
   "cell_type": "code",
   "execution_count": null,
   "metadata": {},
   "outputs": [],
   "source": [
    "import torchaudio\n",
    "import speechbrain\n",
    "\n",
    "from speechbrain.pretrained import EncoderClassifier\n",
    "from torch.nn.utils.rnn import pad_sequence\n",
    "\n",
    "language_id = EncoderClassifier.from_hparams(source=\"speechbrain/lang-id-voxlingua107-ecapa\", savedir=\"tmp\")\n",
    "\n",
    "signal = language_id.load_audio(f'{CWD}/train100/audio/0a5c0729.wav')\n",
    "emb =  language_id.encode_batch(signal)"
   ]
  },
  {
   "attachments": {},
   "cell_type": "markdown",
   "metadata": {},
   "source": [
    "In fact, the model is trained for language identification of 107 languages and we could use it directly for identification:"
   ]
  },
  {
   "cell_type": "code",
   "execution_count": null,
   "metadata": {},
   "outputs": [],
   "source": [
    "prediction =  language_id.classify_batch(signal)"
   ]
  },
  {
   "attachments": {},
   "cell_type": "markdown",
   "metadata": {},
   "source": [
    "Invest some time to inspect the model and the outputs. Notice that the six target languages are included among the 107. The output indices are: \n",
    "\n",
    "```python\n",
    "XVEC_LANG_INDEX = (24,13,20,29,75,22) \n",
    "```\n",
    "\n",
    "corresponding respectively to the following languages:\n",
    "\n",
    "```python \n",
    "LANGUAGES = ('Basque',  'Catalan',  'English',  'Galician',  'Portuguese',  'Spanish')\n",
    "```\n",
    "\n",
    "Knowing this, it should be easy to obtain the predicted class among the six possible candidates:"
   ]
  },
  {
   "cell_type": "code",
   "execution_count": null,
   "metadata": {},
   "outputs": [],
   "source": [
    "XVEC_LANG_INDEX = (24,13,20,29,75,22) \n",
    "\n",
    "# Obtain the predicted class out of the 6 target ones\n",
    "raise CheckThisCell ## <---- Remove this after completeing/checking this cell"
   ]
  },
  {
   "attachments": {},
   "cell_type": "markdown",
   "metadata": {},
   "source": [
    "## Using the x-vector up-stream model for language ID\n",
    "\n",
    "Let's try first something simple: use the the pre-trained model for idenfication. In this simple test, you don't need to train anyhing simply classify the dev and test sets. To do so, first configure the right transformation for the Kalaka class (one that simply loads the audio without any chunking):"
   ]
  },
  {
   "cell_type": "code",
   "execution_count": null,
   "metadata": {},
   "outputs": [],
   "source": [
    "# Confifure the tranformation\n",
    "raise CheckThisCell ## <---- Remove this after completeing/checking this cell\n",
    "\n",
    "transform = { \n",
    "                'raw_xvec' :\n",
    "                {\n",
    "                    'audio_transform': None, ## <--- You need to modify this here\n",
    "                    'chunk_transform': None,\n",
    "                    'chunk_size': 0,\n",
    "                    'chunk_hop':0   \n",
    "                }\n",
    "            }\n",
    "\n",
    "# Download and feature extract\n",
    "transform_id = 'raw_xvec'\n",
    "\n",
    "\n",
    "devkalaka = Kalaka(CWD, 'dev', \n",
    "                 transform_id=transform_id, \n",
    "                 audio_transform=transform[transform_id]['audio_transform'], \n",
    "                 chunk_transform=transform[transform_id]['chunk_transform'],\n",
    "                 chunk_size=transform[transform_id]['chunk_size'], \n",
    "                 chunk_hop=transform[transform_id]['chunk_hop']\n",
    "                )"
   ]
  },
  {
   "attachments": {},
   "cell_type": "markdown",
   "metadata": {},
   "source": [
    "Now you have all the elements to predict langauge using the langID pre-trained model.\n",
    "In case you have access to a GPU, it may be good using a Pytorch Dataloader to batch the dev samples:"
   ]
  },
  {
   "cell_type": "code",
   "execution_count": null,
   "metadata": {},
   "outputs": [],
   "source": [
    "import torch\n",
    "if torch.cuda.is_available():\n",
    "  device = torch.device('cuda:0')\n",
    "else:\n",
    "  device = torch.device('cpu')"
   ]
  },
  {
   "attachments": {},
   "cell_type": "markdown",
   "metadata": {},
   "source": [
    "Since the audios are of different size, we need to pass an auxiliary function to the dataloader that handles this (by adding 0s). This can be done as follows:"
   ]
  },
  {
   "cell_type": "code",
   "execution_count": null,
   "metadata": {},
   "outputs": [],
   "source": [
    "def collate_batch(batch): \n",
    "    label_list, audio_list, basename_list, audiolen_list = [], [], [], []\n",
    "\n",
    "    for (_audio,_label, _basename) in batch:\n",
    "        label_list.append(_label)\n",
    "        audio_list.append(_audio)\n",
    "        basename_list.append(_basename)\n",
    "        audiolen_list.append(_audio.shape[0])\n",
    "\n",
    "    label_list = torch.tensor(label_list, dtype=torch.int64)\n",
    "    audio_list = pad_sequence(audio_list, batch_first=True, padding_value=0)\n",
    "    max_len = max(audiolen_list)\n",
    "    audiolen_list = torch.tensor([l/max_len for l in audiolen_list])\n",
    "\n",
    "    return audio_list.to(device),label_list.to(device), basename_list, audiolen_list.to(device)\n",
    "\n",
    "batch_size = 10\n",
    "dataloader = torch.utils.data.DataLoader(\n",
    "        dataset=devkalaka,\n",
    "        batch_size=batch_size,\n",
    "        collate_fn=collate_batch,\n",
    "        shuffle=False  # <-- We want to keep the original order of the dev set\n",
    ")\n"
   ]
  },
  {
   "attachments": {},
   "cell_type": "markdown",
   "metadata": {},
   "source": [
    "Complete the following piece of code to store properly the hypothesis and the reference:"
   ]
  },
  {
   "cell_type": "code",
   "execution_count": null,
   "metadata": {},
   "outputs": [],
   "source": [
    "import time\n",
    "from tqdm import tqdm\n",
    "start = time.time()\n",
    "\n",
    "results_dev = {}\n",
    "results_dev['ref'] =  []\n",
    "results_dev['hyp'] =  []\n",
    "results_dev['fileids'] = [] \n",
    "\n",
    "for i, batch in tqdm(enumerate(dataloader), total=1+len(devkalaka)//batch_size):\n",
    "    data, label, basename, audiolen = batch\n",
    "    predictions = language_id.classify_batch(data, wav_lens=audiolen)\n",
    "    \n",
    "    # Complete the code to store the hypothesis (careful if you use argmax, you will ned to add 1 to the predicted class),\n",
    "    # the reference and the fileids. In the call to the prediction method, you should pass the audio length information, so that \n",
    "    # the padded 0s can be ignored\n",
    "    raise CheckThisCell ## <---- Remove this after completeing/checking this cell\n",
    "    \n",
    "print(f'Finished preocessing all data in {time.time() - start}')"
   ]
  },
  {
   "attachments": {},
   "cell_type": "markdown",
   "metadata": {},
   "source": [
    "And now let's see how well this model behaves on our dev partition:"
   ]
  },
  {
   "cell_type": "code",
   "execution_count": null,
   "metadata": {},
   "outputs": [],
   "source": [
    "ref, hyp = results_dev['ref'], results_dev['hyp']\n",
    "\n",
    "conf_matrix = confusion_matrix(ref, hyp)\n",
    "\n",
    "fig, ax = plt.subplots(figsize=(3.0, 3.0))\n",
    "ax.matshow(conf_matrix, cmap=plt.cm.Blues, alpha=0.3)\n",
    "for i in range(conf_matrix.shape[0]):\n",
    "    for j in range(conf_matrix.shape[1]):\n",
    "        ax.text(x=j, y=i,s=conf_matrix[i, j], va='center', ha='center')\n",
    "\n",
    "plt.xlabel('Predictions', fontsize=12)\n",
    "plt.ylabel('Actuals', fontsize=12)\n",
    "plt.title(f'Confusion Matrix\\n(Accuracy {100*accuracy_score(ref, hyp):.2f})', fontsize=12)\n",
    "plt.show()"
   ]
  },
  {
   "attachments": {},
   "cell_type": "markdown",
   "metadata": {},
   "source": [
    "That was pretty impressive, right!?! And  easier than Part I of this lab! \n",
    "\n",
    "Well, here comes some bad news: you can not use this langid classifier in the challenge. However, you can use the pre-trained x-vector embeddings as a feature extractor to train your language classification system (may be a simple K-means on top of the x-vectors work well). You can also try to change the classification head of the x-vector model and fine-tune with the challenge data. You have plenty of options, but remember, any system that use these pre-trained embeddings (or any similar ones) are only valid for the Track 2 of the Challenge and the prediction file should be  namedlike this: `T2_G<YY>_<SYSTEMID>.csv` \n",
    "\n"
   ]
  },
  {
   "attachments": {},
   "cell_type": "markdown",
   "metadata": {},
   "source": [
    "# What should you deliver at the end of this lab assignment?\n",
    "You should deliver the following three elements:\n",
    "- You must submit at least one prediction file to the Kaggle competition in the format previously described: https://www.kaggle.com/competitions/speech-processing-lab-2/\n",
    "- You must submit (via Fênix) the modified notebook (or code) of your proposed systems(s).\n",
    "- You must submit a report (via Fênix) of maximum 2 pages describing your system, approaches (may be unsuccesful), lessons learnt, results on the dev partition, etc. You can use the following Overleaf template for the report: https://www.overleaf.com/latex/templates/interspeech-2023-paper-kit/kzcdqdmkqvbr"
   ]
  },
  {
   "attachments": {},
   "cell_type": "markdown",
   "metadata": {},
   "source": [
    "# Contacts and support\n",
    "You can contact the professors during the classes or the office hours.\n",
    "\n",
    "Particularly, for this second laboratory assignment, you should contact Prof. Alberto Abad: alberto.abad@tecnico.ulisboa.pt\n",
    "\n",
    "\n",
    "\n"
   ]
  },
  {
   "attachments": {},
   "cell_type": "markdown",
   "metadata": {},
   "source": []
  }
 ],
 "metadata": {
  "kernelspec": {
   "display_name": "Python 3 (ipykernel)",
   "language": "python",
   "name": "python3"
  },
  "language_info": {
   "codemirror_mode": {
    "name": "ipython",
    "version": 3
   },
   "file_extension": ".py",
   "mimetype": "text/x-python",
   "name": "python",
   "nbconvert_exporter": "python",
   "pygments_lexer": "ipython3",
   "version": "3.10.6"
  }
 },
 "nbformat": 4,
 "nbformat_minor": 2
}
