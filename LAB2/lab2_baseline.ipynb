{
 "cells": [
  {
   "attachments": {},
   "cell_type": "markdown",
   "metadata": {},
   "source": [
    "# Speech Processing - Instituto Superior Técnico\n",
    "### Laboratory Assignment 2 - Spoken Language Indentification challenge\n",
    "\n",
    "The second laboratory assignment of the course is designed to simulate a **spoken language identification** challenge. In this challenge, partipants (a.k.a students enrolled in the course) receive a train, development and evaluation (blind) data set, and a simple (and weak) baseline system for the task at hand: closed-set identification of the spoken language in a given audio file out of a set of six target langauges: Basque,  Catalan,  English,  Galician,  Portuguese and  Spanish.\n",
    "\n",
    "The **goal** for each participant is to develop/build the best spoken language identification system. To this end, participants are encouraged to modify this baseline, incorporate any other techniques and in general explore any approach that permit  improving their results.\n",
    "\n",
    "During the first week (Part 1), students are expected to:\n",
    "- Run and understand the main components of the baseline.\n",
    "- Propose and develop simple modifications to the baseline feature extraction process.\n",
    "- Propose and develop simple modifications to the baseline GMM language models.\n",
    "- Evaluate the models on the development partition.\n",
    "\n",
    "During the second week (Part 2), students are expected to:\n",
    "- Propose and develop other *classical* modifications to any component of the processing pipeline (openSMILE features, segment-based features, SVM classifiers, MLP/CNN classifiers, etc.)\n",
    "- Run and understand the second part of Notebook that explores a pre-trained model.\n",
    "- Propose and develop more recent advanced approaches, including x-vectors.\n",
    "- Evaluate the models on the development partition.\n",
    "- Obtain predictions for the blind test partition and prepare the submission.\n",
    "\n",
    "The challenge distinguishes two different tracks or evaluation conditions:\n",
    "- Track 1 - Participants are not allowed to use any kind of pre-trained model (such as x-vectors).\n",
    "- Track 2 - Participants are allowed to use anything.\n",
    "\n",
    "\n",
    "## About the data\n",
    "\n",
    "The data consists of mono audio files sampled at 16 kHz all of them containing speech of only one of the following target languages:\n",
    "```python \n",
    "LANGUAGES = ('Basque',  'Catalan',  'English',  'Galician',  'Portuguese',  'Spanish')\n",
    "```\n",
    "\n",
    "The dataset is organized in 4 partitions:\n",
    "- `'train'`: This is the full training set, consisting of 3060 clean audio samples correponding to speech segments of TV broadcast shows. (**ATENTION**: Do not use this dataset for training your models, unless your system is very fast or if you want to build your final model. It can be slow)\n",
    "- `'train100'`: This is a subset of the full training set that consists of 100 audio files per target language (**RECOMMENDATION**: Use this partition in your quick experiments, to more rapidly validate alternatives)\n",
    "- `'dev'`: This is the development set. It contains audio extracted from YouTube. You will typically use this to validate the quality of your model.\n",
    "- `'evl'`: This is the evaluation set. It contains audio extracted from YouTube. You don't have the groud-truth for this set. You are expected to produce it and submit it.\n",
    "\n",
    "The data used in this challenge is a subset of the KALAKA-3 database: https://aclanthology.org/L14-1576/\n",
    "\n",
    "The  difference is that only the clean train audio segments and the Plenty Closed evaluation condition have been considered. "
   ]
  },
  {
   "attachments": {},
   "cell_type": "markdown",
   "metadata": {},
   "source": [
    "## Before starting\n",
    "The following conditions are neecessary to run correctly this notebook:\n",
    "\n",
    "*   All modules included in the requirements file need to be \n",
    "installed in the Python environment.\n",
    "*   The module `pf_tools` needs to be accessible (if you are using Google Colab, you will need to copy the `pf_tools.py` every time you start a new session)."
   ]
  },
  {
   "cell_type": "code",
   "execution_count": 1,
   "metadata": {},
   "outputs": [],
   "source": [
    "from pf_tools import CheckThisCell"
   ]
  },
  {
   "attachments": {},
   "cell_type": "markdown",
   "metadata": {},
   "source": [
    "## How can you download (and process) the data\n",
    "\n",
    "The first thing we have to do is to set our working directory. If you are using Google Colab, you  probably want to mount Google Drive to keep persistent information, such as data, features and models:"
   ]
  },
  {
   "cell_type": "code",
   "execution_count": 2,
   "metadata": {},
   "outputs": [
    {
     "data": {
      "text/plain": [
       "'/home/av/IST/slp-labs/LAB2'"
      ]
     },
     "execution_count": 2,
     "metadata": {},
     "output_type": "execute_result"
    }
   ],
   "source": [
    "#raise CheckThisCell ## <---- Remove this after completeing/checking this cell\n",
    "import os \n",
    "CWD = os.getcwd() + '' # Change this variable to your working directory to store data, features and models\n",
    "CWD"
   ]
  },
  {
   "attachments": {},
   "cell_type": "markdown",
   "metadata": {},
   "source": [
    "The class `Kalaka` permits downloading, transforming and storing the different data partitions. Each `Kalaka` instance can be used to iterate over all the samples of the partition. It can also be used in combination with pytorch dataloader to read batches of data to train neural networks with pytorch. For instance, consider the following piece of code:\n"
   ]
  },
  {
   "cell_type": "code",
   "execution_count": 3,
   "metadata": {},
   "outputs": [],
   "source": [
    "import numpy as np\n",
    "from pf_tools import Kalaka\n",
    "import librosa \n",
    "\n",
    "def audio_transform(filename):\n",
    "    y, _ = librosa.load(filename, sr=16000, mono=True)\n",
    "    return y.reshape(-1,1)\n",
    "    \n",
    "#trainkalaka = Kalaka(CWD, 'train100', transform_id='raw', audio_transform=audio_transform)"
   ]
  },
  {
   "attachments": {},
   "cell_type": "markdown",
   "metadata": {},
   "source": [
    "\n",
    "This will first download and uncompress the .tar.gz file containing all the necessary data of the `'train100'` partition, that is, the audio files that are stored to disk (in CWD/train100/audio/) and key file (CWD/train100/key.lst). Then, the audio transformation `'transform'` will be applied to each file and the result stored to disk CWD/train100/raw/. \n",
    "\n",
    "**Audio transformations** receive a filename of an audio file and returns an array of dimensions (NxD), in which N is the time dimension and D the dimension of the feature vector. In this simple case D is 1 because the transform is just returning the raw audio signal.\n",
    "\n",
    "The `Kalaka` class permits chunking the output of the audio transformation (of size NxD) in chunks of CxD size. The chunking operation divides the orignal sample, in multiple smaller samples with a configurable chunk size and hop length. These chunks can be further transformed and stored as individual feature files. For instance:"
   ]
  },
  {
   "cell_type": "code",
   "execution_count": 4,
   "metadata": {},
   "outputs": [
    {
     "name": "stderr",
     "output_type": "stream",
     "text": [
      "/home/av/IST/slp-labs/LAB2/pf_tools.py:89: UserWarning: The feature directory already exists, and no new feature extraction will be performed.\n",
      "  warnings.warn(\"The feature directory already exists, and no new feature extraction will be performed.\")\n"
     ]
    }
   ],
   "source": [
    "trainkalaka = Kalaka(CWD, 'train100', \n",
    "                     transform_id='chunks', \n",
    "                     audio_transform=audio_transform, \n",
    "                     chunk_size=4*16000, \n",
    "                     chunk_hop=2*16000)"
   ]
  },
  {
   "attachments": {},
   "cell_type": "markdown",
   "metadata": {},
   "source": [
    "This will download and uncompress the partition data, only if was not already done before. Then, as previously, the simple tranform that returns the waveform is applied to each audio file. After this, the resulting array of dimension Nx1, in which N=16000xduration_in_seconds, is split in continuous chunks of length 64000 (that is, 4 seconds) with chunk hop of 2 seconds. Each one of these chunks of 4 seconds is stored and will be accessed whenever we iterate the dataset. \n",
    "\n",
    "Adittionally, the optional argument `chunk_transform` pertmits defining a transformation to be applied to each chunk before storing to disk. It can be any function that receives an array of size CxD and returns an array HxW, in which H is the *new time dimension*. For instance, the following example takes the audio segments of 64000x1, computes the mean and variance every 0.1 sec (1600 samples) and returns a feature vector of size 40x2."
   ]
  },
  {
   "cell_type": "code",
   "execution_count": 5,
   "metadata": {},
   "outputs": [],
   "source": [
    "def chunk_transform(x):\n",
    "    x = x.reshape(-1,1600)\n",
    "    return np.concatenate((x.mean(axis=1, keepdims=True), x.std(axis=1, keepdims=True)),axis=1)\n",
    "\n",
    "trainkalaka = Kalaka(CWD, 'train100', \n",
    "                     transform_id='chunks_mv', \n",
    "                     audio_transform=audio_transform, \n",
    "                     chunk_size=4*16000, \n",
    "                     chunk_hop=2*16000, \n",
    "                     chunk_transform=chunk_transform)\n"
   ]
  },
  {
   "attachments": {},
   "cell_type": "markdown",
   "metadata": {},
   "source": [
    "\n",
    "Notice that, while the above example is probably useless as an effective feature extraction method, the proper combination of audio and chunk transformations is expected to permit quite flexible feature extraction that (hopefully) can match the needs of almost any training setting. \n",
    "\n",
    "Once we have instanciated a Kalaka dataset, it can be iterated to have access to each processed sample, for instance: "
   ]
  },
  {
   "cell_type": "code",
   "execution_count": 6,
   "metadata": {},
   "outputs": [
    {
     "name": "stdout",
     "output_type": "stream",
     "text": [
      "0 (40, 2) 6 0006ebda\n",
      "1000 (40, 2) 1 11a3790f\n",
      "2000 (40, 2) 4 271621da\n",
      "3000 (40, 2) 5 3b9d2c2f\n",
      "4000 (40, 2) 1 4d10f8f2\n",
      "5000 (40, 2) 6 5fb949a1\n",
      "6000 (40, 2) 6 70d28e30\n",
      "7000 (40, 2) 6 7d5515f0\n",
      "8000 (40, 2) 3 937623c2\n",
      "9000 (40, 2) 5 a4a7491b\n",
      "10000 (40, 2) 5 bc3f6e51\n",
      "11000 (40, 2) 3 cd82bcca\n",
      "12000 (40, 2) 1 df0b27f2\n",
      "13000 (40, 2) 3 f3ba1f4d\n",
      "Finished reading all data in 10.039682149887085\n"
     ]
    }
   ],
   "source": [
    "import time\n",
    "start = time.time()\n",
    "for i, sample in enumerate(trainkalaka):\n",
    "    data, label, basename = sample # array, int, str\n",
    "    if i % 1000 == 0:\n",
    "        print(i, data.shape, label, basename)\n",
    "\n",
    "print(f'Finished reading all data in {time.time() - start}')"
   ]
  },
  {
   "attachments": {},
   "cell_type": "markdown",
   "metadata": {},
   "source": [
    "Now you can use the `Kalaka` class to check the  number of files and size (in minutes) of the training set for each target language. You cankKeep these numbers to include in your system description paper:"
   ]
  },
  {
   "attachments": {},
   "cell_type": "markdown",
   "metadata": {},
   "source": [
    "Notice that the `Kalaka` class extends the `torch.utils.data.Dataset` and it can be used in combination with a Pytorch DataLoader to read data in batches:"
   ]
  },
  {
   "cell_type": "code",
   "execution_count": 7,
   "metadata": {},
   "outputs": [
    {
     "name": "stdout",
     "output_type": "stream",
     "text": [
      "torch.Size([10, 40, 2]) torch.Size([10]) 10\n",
      "torch.Size([10, 40, 2]) torch.Size([10]) 10\n",
      "torch.Size([10, 40, 2]) torch.Size([10]) 10\n",
      "torch.Size([10, 40, 2]) torch.Size([10]) 10\n",
      "torch.Size([10, 40, 2]) torch.Size([10]) 10\n",
      "torch.Size([10, 40, 2]) torch.Size([10]) 10\n",
      "torch.Size([10, 40, 2]) torch.Size([10]) 10\n",
      "torch.Size([10, 40, 2]) torch.Size([10]) 10\n",
      "torch.Size([10, 40, 2]) torch.Size([10]) 10\n",
      "torch.Size([10, 40, 2]) torch.Size([10]) 10\n",
      "torch.Size([10, 40, 2]) torch.Size([10]) 10\n",
      "torch.Size([10, 40, 2]) torch.Size([10]) 10\n",
      "torch.Size([10, 40, 2]) torch.Size([10]) 10\n",
      "torch.Size([10, 40, 2]) torch.Size([10]) 10\n",
      "Finished reading all data in 3.8828232288360596\n"
     ]
    }
   ],
   "source": [
    "import torch \n",
    "\n",
    "trainkalaka = Kalaka(CWD, 'train100', \n",
    "                     transform_id='chunks_mv', \n",
    "                     audio_transform=audio_transform, \n",
    "                     chunk_size=4*16000, \n",
    "                     chunk_hop=2*16000, \n",
    "                     chunk_transform=chunk_transform)\n",
    "\n",
    "dataloader = torch.utils.data.DataLoader(\n",
    "        dataset=trainkalaka,\n",
    "        batch_size=10,\n",
    "        shuffle=True\n",
    ")\n",
    "\n",
    "start = time.time()\n",
    "for i, batch in enumerate(dataloader):\n",
    "    data, label, basename = batch\n",
    "    if i % 100 == 0:\n",
    "        print(data.shape, label.shape, len(basename))\n",
    "\n",
    "print(f'Finished reading all data in {time.time() - start}')\n"
   ]
  },
  {
   "attachments": {},
   "cell_type": "markdown",
   "metadata": {},
   "source": [
    "Finally, remind that you can change anything you want. This includes the Kalaka class. Eventually, you can decide not using it at all and loading the data in some alternative way.  You can inspect the class to find the URLs for downloading the datasets. It is up to you! \n",
    "\n",
    "Before moving to the next stage, you probably want to delete the folders containing the dummy features that you just generated."
   ]
  },
  {
   "attachments": {},
   "cell_type": "markdown",
   "metadata": {},
   "source": [
    "# PART 1 - The baseline (Track 1)\n",
    "The baseline consists of MFCC feature extraction  (based on the `librosa` module) with SDC computation and VAD removal, followed by GMMs of 64 dimensions for each language (using the `sklearn` module). The rest of this notebook contains the guide and code cells (some of them partially incomplete) that permit implementing this baseline and score it on the development set. Read carefully the Markdown information, but also the comments inside the code cells (they provide useful information and hints), and also the code itself. The better you understand it, the easier will be modyfing it."
   ]
  },
  {
   "attachments": {},
   "cell_type": "markdown",
   "metadata": {},
   "source": [
    "## Initialization and importing modules"
   ]
  },
  {
   "cell_type": "code",
   "execution_count": 24,
   "metadata": {
    "scrolled": true
   },
   "outputs": [
    {
     "name": "stdout",
     "output_type": "stream",
     "text": [
      "OK\n"
     ]
    }
   ],
   "source": [
    "import importlib\n",
    "\n",
    "try:\n",
    "    # importlib.import_module('opensmile')\n",
    "    import opensmile\n",
    "    print('OK')\n",
    "\n",
    "except ImportError:\n",
    "    # print('Package not installed')\n",
    "    !pip install opensmile"
   ]
  },
  {
   "cell_type": "code",
   "execution_count": 122,
   "metadata": {},
   "outputs": [],
   "source": [
    "import os\n",
    "from pf_tools import Kalaka\n",
    "import librosa\n",
    "import numpy as np\n",
    "import torch\n",
    "from sklearn.mixture import GaussianMixture\n",
    "from sklearn.discriminant_analysis import LinearDiscriminantAnalysis\n",
    "from sklearn.metrics import classification_report, accuracy_score, confusion_matrix\n",
    "import matplotlib.pyplot as plt\n",
    "import pandas as pd\n",
    "\n",
    "import time\n",
    "import random\n",
    "import datetime\n",
    "from pathlib import Path\n",
    "import pickle\n",
    "import csv \n",
    "from tqdm import tqdm\n",
    "import opensmile #feature extraction\n",
    "import importlib #reload packages\n",
    "\n",
    "opensmile=importlib.reload(opensmile)\n",
    "\n",
    "GLOBAL_SEED = 35731\n",
    "\n",
    "np.random.seed(GLOBAL_SEED)\n",
    "torch.manual_seed(GLOBAL_SEED)\n",
    "random.seed(GLOBAL_SEED)\n",
    "\n",
    "\n",
    "LANGUAGES = ('Basque',  'Catalan',  'English',  'Galician',  'Portuguese',  'Spanish')\n",
    "LANG2ID = {'Basque':1, 'Catalan':2, 'English':3, 'Galician':4, 'Portuguese':5, 'Spanish':6}\n",
    "ID2LANG = dict((LANG2ID[k],k) for k in LANG2ID)"
   ]
  },
  {
   "attachments": {},
   "cell_type": "markdown",
   "metadata": {},
   "source": [
    "## The baseline feature extraction module\n",
    "The next function extracts MFCCs, but there are plenty of things that can be improved. You are free to change anything you want, including the number of formal parameters, the number of returned expressions, etc. "
   ]
  },
  {
   "cell_type": "code",
   "execution_count": 10,
   "metadata": {},
   "outputs": [],
   "source": [
    "# Read carefully this function and understand it\n",
    "\n",
    "def feat_extract(filename, orig_sr=16000, mono=True, n_mfcc = 13, remove_c0=False, delta_order=0, \n",
    "                 apply_sdc=False, apply_vad=False, apply_cmvn=False):\n",
    "    \n",
    "    sr=16000\n",
    "    n_mels = 40\n",
    "    n_fft = 512 \n",
    "    hop_length = 160\n",
    "    fmin = 50\n",
    "    fmax = 7800\n",
    "    \n",
    "    if apply_sdc and (delta_order > 0):\n",
    "        raise ValueError(\"Applying SDC and delta > 0 is not compatible\")\n",
    "\n",
    "    \n",
    "    # Load audio wav into numpy array\n",
    "    y, _ = librosa.load(filename, sr=orig_sr, mono=mono)\n",
    "    \n",
    "    # Resample in case it's needed\n",
    "    if orig_sr != sr:\n",
    "        y = librosa.resample(y, orig_sr=orig_sr,target_sr=sr)\n",
    "    \n",
    "        \n",
    "    ## OPTIONAL ADDIDITIONAL STAGES - LAB WORK\n",
    "    # 1 - PREPROCESSING - Typical preprocessing may include normalization of audio (mean removal), \n",
    "    #                       but also speech enhancement and others more complex\n",
    "    \n",
    "    # Extract MFFCs\n",
    "    mfcc = librosa.feature.mfcc(y=y, sr=sr, n_fft=n_fft, \n",
    "                                n_mfcc=n_mfcc, n_mels=n_mels, \n",
    "                                hop_length=hop_length, \n",
    "                                fmin=fmin, fmax=fmax, htk=False).T\n",
    "    \n",
    "    ## OPTIONAL ADDIDITIONAL STAGES - LAB WORK\n",
    "\n",
    "    # 2 Compute deltas --> Hint you can use librosa (order size may be a parameter?)\n",
    "    if delta_order > 0:\n",
    "        mfcc = compute_delta(mfcc,delta_order=delta_order)\n",
    "    \n",
    "    # 3 SDC --> Hint: You can build this using deltas (of extented context)  \n",
    "    if apply_sdc:\n",
    "        mfcc = compute_sdc(mfcc)\n",
    "    \n",
    "    # 4 COMPUTE VAD --> Hint: You can use any vad (theshold energy, something avaialble in the net, a biGaussian model...).\n",
    "    #                         Coeff0 is highly related with Energy and sometimes it is removed\n",
    "    #                   ATTENTION: Using a VAD may have a significant impact  \n",
    "    if apply_vad:\n",
    "        mfcc, _ = compute_vad(mfcc)\n",
    "             \n",
    "        \n",
    "    # 5 APPLY CMVN --> ATTENTION: Using normalization may have a significant impact\n",
    "    if apply_cmvn:\n",
    "        mfcc = compute_cmvn(mfcc)\n",
    "        \n",
    "\n",
    "    return mfcc, y\n"
   ]
  },
  {
   "attachments": {},
   "cell_type": "markdown",
   "metadata": {},
   "source": [
    "Try to define some or all of the following steps to improve your feature extraction pipeline "
   ]
  },
  {
   "cell_type": "code",
   "execution_count": 11,
   "metadata": {},
   "outputs": [],
   "source": [
    "# Numpy arrays have methods to compute mean and variance, so this one should be really easy\n",
    "# raise CheckThisCell ## <---- Remove this after completeing/checking this cell\n",
    "\n",
    "def compute_cmvn(features):\n",
    "    #return features/np.linalg.norm(features)\n",
    "    return (features-np.mean(features))/np.std(features)"
   ]
  },
  {
   "cell_type": "code",
   "execution_count": 12,
   "metadata": {},
   "outputs": [],
   "source": [
    "# librosa contains functions to compute deltas\n",
    "# raise CheckThisCell ## <---- Remove this after completeing/checking this cell\n",
    "\n",
    "def compute_delta(features, win=3, delta_order=2, keep_static=True):\n",
    "    delta = librosa.feature.delta(\n",
    "        features.T,\n",
    "        width=win,order=delta_order\n",
    "    ).T\n",
    "    return np.hstack((features,delta))"
   ]
  },
  {
   "cell_type": "code",
   "execution_count": 13,
   "metadata": {},
   "outputs": [],
   "source": [
    "# Compute deltas and then select previous and next deltas with fixed intervals to cocatentate. \n",
    "# You may need to code a bit here or dinf some function that helps with this\n",
    "# raise CheckThisCell ## <---- Remove this after completeing/checking this cell\n",
    "\n",
    "def compute_sdc(features, P=3, D=3, K=2, keep_static=True):\n",
    "    delta = compute_delta(\n",
    "        features.T,\n",
    "        win=D, delta_order=1)[:,np.shape(features)[1]:]\n",
    "    \n",
    "    sdc = np.empty([np.shape(features)[0],np.shape(features)[1]*K])\n",
    "    marker = np.zeros(features.shape[0], dtype='bool')\n",
    "    for j in range(K):\n",
    "        marker[D + j * P] = True\n",
    "    for i in range(len(features)):\n",
    "        sdc[i, :] = delta[marker, :].reshape(1, -1)\n",
    "        marker = np.roll(marker, 1)\n",
    "    return np.hstack((features,sdc))"
   ]
  },
  {
   "cell_type": "code",
   "execution_count": 14,
   "metadata": {},
   "outputs": [],
   "source": [
    "# You can think of several strattegies to compute VAD, simple ones based on energy and a threshold, or maybe some more \n",
    "# ellaborated ones, like training a GMM with 2 mixtures with the Energy. \n",
    "# In addition to the features without some frames, this function may return a sequence of 0s and 1s that helps you to validate the method.\n",
    "# raise CheckThisCell ## <---- Remove this after completeing/checking this cell\n",
    "\n",
    "# Voice Activity Detection - Zero Crossing Rate\n",
    "def zero_crossing_rate(x):\n",
    "    return np.sum(np.abs(np.diff(np.sign(x)))/2)/len(x)\n",
    "\n",
    "def compute_vad(features, energy=None, y=None):\n",
    "    features_aux=features[:,0:int(np.shape(features)[1]/2)]\n",
    "    zcr=np.empty(np.shape(features)[1])\n",
    "    for i in range(len(zcr)):\n",
    "        zcr[i]=zero_crossing_rate(features[:,i])\n",
    "    GM=GaussianMixture(n_components=2)\n",
    "    frame_class=GM.fit_predict(zcr.reshape(-1,1))\n",
    "    vad=np.empty(np.shape(features))\n",
    "    for i in range(len(zcr)):\n",
    "        vad[:,i]=frame_class[i]\n",
    "    return np.hstack((features,vad)),frame_class"
   ]
  },
  {
   "cell_type": "code",
   "execution_count": 15,
   "metadata": {},
   "outputs": [],
   "source": [
    "def opensmile_feats(signal,sr):\n",
    "    smile = opensmile.Smile(\n",
    "            feature_set=opensmile.FeatureSet.GeMAPSv01b ,\n",
    "            feature_level=opensmile.FeatureLevel.Functionals,\n",
    "        )\n",
    "    opensmile_feats=smile.process_signal(signal,sr)\n",
    "    return np.hstack(opensmile_feats.values)"
   ]
  },
  {
   "attachments": {},
   "cell_type": "markdown",
   "metadata": {},
   "source": [
    "You can test in an isolated audio file and inspect the dimensions, verify that your code is doing what is expected, inspect and visualize the data using some of the lessons learnt in LAB1. Also, don't forget to listen some of the examples!!"
   ]
  },
  {
   "cell_type": "code",
   "execution_count": 16,
   "metadata": {},
   "outputs": [],
   "source": [
    "# raise CheckThisCell ## <---- Remove this after completeing/checking this cell\n",
    "mfcc, _=feat_extract(f'{CWD}/train100/audio/0006ebda.wav', apply_cmvn=True, apply_sdc=False,apply_vad=False)\n",
    "mfcc_dd, _ = feat_extract(f'{CWD}/train100/audio/0006ebda.wav', apply_cmvn=False, delta_order=2)\n",
    "mfcc_d, _ = feat_extract(f'{CWD}/train100/audio/0006ebda.wav', apply_cmvn=False, delta_order=1)\n",
    "mfcc, y = feat_extract(f'{CWD}/train100/audio/0006ebda.wav', apply_cmvn=False)\n"
   ]
  },
  {
   "attachments": {},
   "cell_type": "markdown",
   "metadata": {},
   "source": [
    "To run the data processing stage for the train100 partition we will simply instanciate the Kalaka class as mentioned previosly. Take a sit because it can take a bit:"
   ]
  },
  {
   "cell_type": "code",
   "execution_count": 17,
   "metadata": {},
   "outputs": [
    {
     "data": {
      "text/plain": [
       "\" \\ntrainkalaka = Kalaka(CWD, trainset, \\n                 transform_id=transform_id, \\n                 audio_transform=transform[transform_id]['audio_transform'], \\n                 chunk_transform=transform[transform_id]['chunk_transform'],\\n                 chunk_size=transform[transform_id]['chunk_size'], \\n                 chunk_hop=transform[transform_id]['chunk_hop']\\n                )\\n\""
      ]
     },
     "execution_count": 17,
     "metadata": {},
     "output_type": "execute_result"
    }
   ],
   "source": [
    "#Transformation  Combinations attempted    BEST: mfcc_delta1\n",
    "transform = {\n",
    "    'mfcc_sdc_vad_chunk_300_400' : {\n",
    "        'audio_transform': lambda x : feat_extract(x, orig_sr=16000, mono=True, n_mfcc = 7, apply_sdc=False, apply_vad=False, apply_cmvn=True)[0],\n",
    "        'chunk_transform': None,\n",
    "        'chunk_size': 300,\n",
    "        'chunk_hop':300\n",
    "    },\n",
    "\n",
    "    'mfcc_delta1_vad' : {\n",
    "        'audio_transform': lambda x : feat_extract(x, orig_sr=16000, mono=True,delta_order=1, n_mfcc = 13, apply_sdc=False, apply_vad=True, apply_cmvn=True)[0],\n",
    "        'chunk_transform': None,\n",
    "        'chunk_size': 300,\n",
    "        'chunk_hop':300\n",
    "    },\n",
    "\n",
    "    'mfcc_sdc' : {\n",
    "        'audio_transform': lambda x : feat_extract(x, orig_sr=16000, mono=True,delta_order=0, n_mfcc = 13, apply_sdc=True, apply_vad=False, apply_cmvn=True)[0],\n",
    "        'chunk_transform': None,\n",
    "        'chunk_size': 300,\n",
    "        'chunk_hop':300\n",
    "    },\n",
    "\n",
    "    'mfcc_delta1' : {\n",
    "        'audio_transform': lambda x : feat_extract(x, orig_sr=16000, mono=True,delta_order=1, n_mfcc = 13, apply_sdc=False, apply_vad=False, apply_cmvn=True)[0],\n",
    "        'chunk_transform': None,\n",
    "        'chunk_size': 300,\n",
    "        'chunk_hop':300\n",
    "    },\n",
    "\n",
    "    'mfcc' : {\n",
    "        'audio_transform': lambda x : feat_extract(x, orig_sr=16000, mono=True,delta_order=0, n_mfcc = 7, apply_sdc=False, apply_vad=False, apply_cmvn=False)[0],\n",
    "        'chunk_transform': None,\n",
    "        'chunk_size': 300,\n",
    "        'chunk_hop':300\n",
    "    },\n",
    "}\n",
    "\n",
    "trainset = 'train100'\n",
    "transform_id = 'mfcc'\n",
    "\n",
    "\"\"\" \n",
    "trainkalaka = Kalaka(CWD, trainset, \n",
    "                 transform_id=transform_id, \n",
    "                 audio_transform=transform[transform_id]['audio_transform'], \n",
    "                 chunk_transform=transform[transform_id]['chunk_transform'],\n",
    "                 chunk_size=transform[transform_id]['chunk_size'], \n",
    "                 chunk_hop=transform[transform_id]['chunk_hop']\n",
    "                )\n",
    "\"\"\""
   ]
  },
  {
   "attachments": {},
   "cell_type": "markdown",
   "metadata": {},
   "source": [
    "Check your current folder, many things happened!! \n",
    "\n",
    "Notice that if you instanciate again the Kalaka class for the 'train100' partition, the data will not be downloaded again. \n",
    "Additionally, if there is already a folder with the name `transform_id`, feature extraction will not run again. You need to delete from your filesystem the folder with the features if you want to run again the feature extraction (using the same identifier) or , alternatively, you can change the identifier. Be careful because you can easily increase the amount of data generated. If you try a feature extraction method that provides bad results, you probably don't want to keep the features in disk."
   ]
  },
  {
   "attachments": {},
   "cell_type": "markdown",
   "metadata": {},
   "source": [
    "## The baseline spoken language models\n",
    "The baseline model is extremely simple: we'll train an individual GMM model for each language on top of the features that we just extracted. Later, in prediction time, given a test audio sample, we'll compute the loglikelihood obtained with each GMM model and select as the identified language the one whose model gives the highest likelihood. Let's go for it!!\n"
   ]
  },
  {
   "cell_type": "code",
   "execution_count": 18,
   "metadata": {},
   "outputs": [],
   "source": [
    "# from sklearn.model_selection import GridSearchCV # Not useful for GMM's\n",
    "\n",
    "transform_id = 'mfcc'\n",
    "parameters = {\n",
    "    # 'transform_id': ['feat', 'mfcc'],\n",
    "    'audio_transform': [\n",
    "        lambda x : feat_extract(x, orig_sr=16000, mono=True, n_mfcc = 7, apply_sdc=False, apply_vad=False, apply_cmvn=True)[0], # mfcc_cmvn\n",
    "        lambda x : feat_extract(x, orig_sr=16000, mono=True,delta_order=1, n_mfcc = 13, apply_sdc=False, apply_vad=True, apply_cmvn=True)[0], # mfcc_delta1_vad_cmvn\n",
    "        lambda x : feat_extract(x, orig_sr=16000, mono=True,delta_order=0, n_mfcc = 13, apply_sdc=True, apply_vad=False, apply_cmvn=True)[0], # mfcc_sdc_cmvn\n",
    "        lambda x : feat_extract(x, orig_sr=16000, mono=True,delta_order=1, n_mfcc = 13, apply_sdc=False, apply_vad=False, apply_cmvn=True)[0], # mfcc_delta1_cmvn\n",
    "        lambda x : feat_extract(x, orig_sr=16000, mono=True,delta_order=0, n_mfcc = 7, apply_sdc=False, apply_vad=False, apply_cmvn=False)[0], # mfcc\n",
    "    ],\n",
    "    'chunk_size': [1024, 2048],\n",
    "    'chunk_hop': [512, 1024],\n",
    "\n",
    "    'n_gauss': [8, 16, 32]\n",
    "}"
   ]
  },
  {
   "cell_type": "code",
   "execution_count": 106,
   "metadata": {},
   "outputs": [],
   "source": [
    "import itertools\n",
    "\n",
    "def parameter_combinations(param_grid):\n",
    "    keys = param_grid.keys()\n",
    "    values = param_grid.values()\n",
    "    combinations = list(itertools.product(*values))\n",
    "    return [dict(zip(keys, combination)) for combination in combinations]\n",
    "\n",
    "def concat_kalaka(trainkalaka):\n",
    "    # print('concatenating Kalaka')\n",
    "    train_data = []\n",
    "    train_labels = []\n",
    "    for data, label, basename in trainkalaka:\n",
    "            train_data.append(data)\n",
    "            train_labels.append(np.full(data.shape[0], label)) \n",
    "\n",
    "    train_data = np.concatenate(train_data)\n",
    "    train_labels = np.concatenate(train_labels)\n",
    "    return train_data, train_labels\n",
    "\n",
    "from sklearn.metrics import accuracy_score\n",
    "\n",
    "def eval_gmm(gmm, kalaka):\n",
    "\n",
    "    LANGUAGES = ('Basque',  'Catalan',  'English',  'Galician',  'Portuguese',  'Spanish')\n",
    "    LANG2ID = {'Basque':1, 'Catalan':2, 'English':3, 'Galician':4, 'Portuguese':5, 'Spanish':6}\n",
    "    ID2LANG = dict((LANG2ID[k],k) for k in LANG2ID)\n",
    "\n",
    "    dev_data = {}\n",
    "    for data, label, basename in kalaka:\n",
    "        if basename not in dev_data:\n",
    "                dev_data[basename] = {'data':[], 'label':label}\n",
    "\n",
    "        dev_data[basename]['data'].append(data)\n",
    "\n",
    "## We concatenate all the frames belonging to the same filename\n",
    "    for basename in dev_data:\n",
    "        dev_data[basename]['data'] = np.concatenate(dev_data[basename]['data'])\n",
    "    \n",
    "    # return dev_data[basename]\n",
    "\n",
    "    results = {}\n",
    "    results['ref'] =  np.empty(len(dev_data), dtype=np.int32)\n",
    "    results['hyp'] =  np.empty(len(dev_data), dtype=np.int32)\n",
    "    results['llhs'] = np.empty((len(dev_data), len(LANGUAGES)), dtype=np.float64)\n",
    "    results['fileids'] = list()\n",
    "    \n",
    "    for i, fileid in tqdm(enumerate(sorted(dev_data)), total=len(dev_data)):\n",
    "        data = dev_data[fileid]['data']  # the features\n",
    "        \n",
    "        results['fileids'].append(fileid)     #fileid\n",
    "\n",
    "        # obtain the log-likelihood score for each model and store\n",
    "        results['llhs'][i,:] = np.array([gmm[lang].score(data) for lang in LANGUAGES])\n",
    "\n",
    "        # store the reference.\n",
    "        results['ref'][i] = (dev_data[fileid]['label']) #reference\n",
    "\n",
    "        # Obtain the maximum likelihood languge estimation\n",
    "        ix = np.argmax(results['llhs'][i,:])\n",
    "        results['hyp'][i] = LANG2ID[LANGUAGES[ix]]\n",
    "    \n",
    "    return accuracy_score(results['ref'], results['hyp'])"
   ]
  },
  {
   "cell_type": "code",
   "execution_count": null,
   "metadata": {},
   "outputs": [],
   "source": [
    "combinations = parameter_combinations(parameters)\n",
    "\n",
    "best_parameters = {\n",
    "    \n",
    "    # 'transform_id': None,\n",
    "    'audio_transform': None,\n",
    "    'chunk_size': None,\n",
    "    'chunk_hop': None,\n",
    "    'n_gauss': None\n",
    "}\n",
    "best_score = -float('inf')\n",
    "best_model = 0\n",
    "all_acc = []\n",
    "all_traintime = []\n",
    "\n",
    "for i, c in enumerate(combinations):\n",
    "    print('\\nCombination', i+1)\n",
    "    parms = list(c.values())\n",
    "    '''\n",
    "    parms[0] = audio_transform (lambda)\n",
    "    parms[1] = chunk_size\n",
    "    parms[2] = chunk_hop\n",
    "    parms[3] = n_gauss\n",
    "    '''\n",
    "    start = time.time()\n",
    "    trainset = 'train100'\n",
    "    trainkalaka = Kalaka(\n",
    "        CWD, trainset,\n",
    "        transform_id='mfcc',\n",
    "        audio_transform=parms[0],\n",
    "        chunk_transform=None,\n",
    "        chunk_size=parms[1],\n",
    "        chunk_hop=parms[2]\n",
    "    )\n",
    "\n",
    "    # print('Training model')\n",
    "    train_data, train_labels = concat_kalaka(trainkalaka)\n",
    "\n",
    "    GMM = {}\n",
    "    for l, lang in enumerate(LANGUAGES):\n",
    "        GMM[lang] = GaussianMixture(\n",
    "            n_components = parms[3],\n",
    "            covariance_type='diag',\n",
    "            max_iter=15, n_init=1,\n",
    "            init_params='kmeans',\n",
    "            verbose=2, verbose_interval=1\n",
    "        )\n",
    "        GMM[lang].fit(train_data[train_labels==LANG2ID[lang]])\n",
    "    all_traintime.append(time.time() - start)\n",
    "\n",
    "    # score = GMM.score(train_data)\n",
    "    acc = eval_gmm(GMM, trainkalaka)\n",
    "    print(f'Accuracy Score = {acc}\\n')\n",
    "\n",
    "    all_acc.append(acc)\n",
    "\n",
    "    if acc > best_score:\n",
    "        best_score = acc\n",
    "        best_model = i+1\n",
    "        best_parameters = c.copy()\n",
    "        best_GMM = GMM.copy()\n",
    "\n",
    "\n",
    "\n",
    "print(f'Best Model #{best_model}')\n",
    "print('Best Parameters:\\n', best_parameters)\n",
    "print('Best Accuracy =', best_score)"
   ]
  },
  {
   "cell_type": "code",
   "execution_count": 182,
   "metadata": {},
   "outputs": [
    {
     "data": {
      "text/html": [
       "<div>\n",
       "<style scoped>\n",
       "    .dataframe tbody tr th:only-of-type {\n",
       "        vertical-align: middle;\n",
       "    }\n",
       "\n",
       "    .dataframe tbody tr th {\n",
       "        vertical-align: top;\n",
       "    }\n",
       "\n",
       "    .dataframe thead th {\n",
       "        text-align: right;\n",
       "    }\n",
       "</style>\n",
       "<table border=\"1\" class=\"dataframe\">\n",
       "  <thead>\n",
       "    <tr style=\"text-align: right;\">\n",
       "      <th></th>\n",
       "      <th>model</th>\n",
       "      <th>parms</th>\n",
       "      <th>train_time</th>\n",
       "      <th>acc_score</th>\n",
       "    </tr>\n",
       "  </thead>\n",
       "  <tbody>\n",
       "    <tr>\n",
       "      <th>0</th>\n",
       "      <td>3</td>\n",
       "      <td>{'audio_transform': &lt;function &lt;lambda&gt; at 0x7f...</td>\n",
       "      <td>453.231885</td>\n",
       "      <td>0.671667</td>\n",
       "    </tr>\n",
       "    <tr>\n",
       "      <th>1</th>\n",
       "      <td>2</td>\n",
       "      <td>{'audio_transform': &lt;function &lt;lambda&gt; at 0x7f...</td>\n",
       "      <td>228.177402</td>\n",
       "      <td>0.631667</td>\n",
       "    </tr>\n",
       "    <tr>\n",
       "      <th>2</th>\n",
       "      <td>1</td>\n",
       "      <td>{'audio_transform': &lt;function &lt;lambda&gt; at 0x7f...</td>\n",
       "      <td>87.186932</td>\n",
       "      <td>0.585000</td>\n",
       "    </tr>\n",
       "  </tbody>\n",
       "</table>\n",
       "</div>"
      ],
      "text/plain": [
       "   model                                              parms  train_time  \\\n",
       "0      3  {'audio_transform': <function <lambda> at 0x7f...  453.231885   \n",
       "1      2  {'audio_transform': <function <lambda> at 0x7f...  228.177402   \n",
       "2      1  {'audio_transform': <function <lambda> at 0x7f...   87.186932   \n",
       "\n",
       "   acc_score  \n",
       "0   0.671667  \n",
       "1   0.631667  \n",
       "2   0.585000  "
      ]
     },
     "execution_count": 182,
     "metadata": {},
     "output_type": "execute_result"
    }
   ],
   "source": [
    "model_history = pd.DataFrame({\n",
    "    'model': list(range(1, len(combinations[0:3])+1)),\n",
    "    'parms': combinations[0:3],\n",
    "    'train_time': all_traintime,\n",
    "    'acc_score': all_acc\n",
    "})\n",
    "model_history.sort_values(\n",
    "    by=['acc_score', 'train_time'],\n",
    "    ascending=[False, True],\n",
    "    inplace=True\n",
    ")\n",
    "model_history.reset_index(drop=True)\n",
    "\n",
    "best_parameters = model_history['parms'][0]"
   ]
  },
  {
   "cell_type": "code",
   "execution_count": 120,
   "metadata": {},
   "outputs": [
    {
     "name": "stdout",
     "output_type": "stream",
     "text": [
      "Combination 1\n"
     ]
    },
    {
     "name": "stderr",
     "output_type": "stream",
     "text": [
      "/home/av/IST/slp-labs/LAB2/pf_tools.py:89: UserWarning: The feature directory already exists, and no new feature extraction will be performed.\n",
      "  warnings.warn(\"The feature directory already exists, and no new feature extraction will be performed.\")\n"
     ]
    },
    {
     "name": "stdout",
     "output_type": "stream",
     "text": [
      "Initialization 0\n",
      "  Iteration 1\t time lapse 2.66593s\t ll change inf\n",
      "  Iteration 2\t time lapse 0.96849s\t ll change 1.60017\n",
      "  Iteration 3\t time lapse 1.35778s\t ll change 0.02191\n",
      "  Iteration 4\t time lapse 0.89399s\t ll change 0.01384\n",
      "  Iteration 5\t time lapse 0.81778s\t ll change 0.00924\n",
      "  Iteration 6\t time lapse 1.13438s\t ll change 0.00637\n",
      "  Iteration 7\t time lapse 0.97279s\t ll change 0.00459\n",
      "  Iteration 8\t time lapse 0.84951s\t ll change 0.00348\n",
      "  Iteration 9\t time lapse 1.26912s\t ll change 0.00277\n",
      "  Iteration 10\t time lapse 0.93575s\t ll change 0.00229\n",
      "  Iteration 11\t time lapse 0.89245s\t ll change 0.00195\n",
      "  Iteration 12\t time lapse 0.84302s\t ll change 0.00167\n",
      "  Iteration 13\t time lapse 0.77300s\t ll change 0.00144\n",
      "  Iteration 14\t time lapse 0.78005s\t ll change 0.00124\n",
      "  Iteration 15\t time lapse 0.86523s\t ll change 0.00106\n",
      "Initialization converged: False\t time lapse 16.01935s\t ll -27.27245\n"
     ]
    },
    {
     "name": "stderr",
     "output_type": "stream",
     "text": [
      "/home/av/.local/lib/python3.10/site-packages/sklearn/mixture/_base.py:274: ConvergenceWarning: Initialization 1 did not converge. Try different init parameters, or increase max_iter, tol or check for degenerate data.\n",
      "  warnings.warn(\n"
     ]
    },
    {
     "name": "stdout",
     "output_type": "stream",
     "text": [
      "Initialization 0\n",
      "  Iteration 1\t time lapse 2.29687s\t ll change inf\n",
      "  Iteration 2\t time lapse 0.78391s\t ll change 1.30890\n",
      "  Iteration 3\t time lapse 0.82942s\t ll change 0.01549\n",
      "  Iteration 4\t time lapse 0.86444s\t ll change 0.01023\n",
      "  Iteration 5\t time lapse 0.94776s\t ll change 0.00802\n",
      "  Iteration 6\t time lapse 0.95712s\t ll change 0.00678\n",
      "  Iteration 7\t time lapse 0.87926s\t ll change 0.00594\n",
      "  Iteration 8\t time lapse 0.91473s\t ll change 0.00529\n",
      "  Iteration 9\t time lapse 0.81270s\t ll change 0.00470\n",
      "  Iteration 10\t time lapse 0.95139s\t ll change 0.00415\n",
      "  Iteration 11\t time lapse 0.99862s\t ll change 0.00366\n",
      "  Iteration 12\t time lapse 0.94177s\t ll change 0.00322\n",
      "  Iteration 13\t time lapse 0.98399s\t ll change 0.00285\n",
      "  Iteration 14\t time lapse 0.94194s\t ll change 0.00254\n",
      "  Iteration 15\t time lapse 0.77334s\t ll change 0.00229\n",
      "Initialization converged: False\t time lapse 14.87735s\t ll -27.52054\n"
     ]
    },
    {
     "name": "stderr",
     "output_type": "stream",
     "text": [
      "/home/av/.local/lib/python3.10/site-packages/sklearn/mixture/_base.py:274: ConvergenceWarning: Initialization 1 did not converge. Try different init parameters, or increase max_iter, tol or check for degenerate data.\n",
      "  warnings.warn(\n"
     ]
    },
    {
     "name": "stdout",
     "output_type": "stream",
     "text": [
      "Initialization 0\n",
      "  Iteration 1\t time lapse 2.73080s\t ll change inf\n",
      "  Iteration 2\t time lapse 0.80875s\t ll change 1.45738\n",
      "  Iteration 3\t time lapse 0.92068s\t ll change 0.02217\n",
      "  Iteration 4\t time lapse 0.82446s\t ll change 0.01421\n",
      "  Iteration 5\t time lapse 0.98236s\t ll change 0.01063\n",
      "  Iteration 6\t time lapse 0.99805s\t ll change 0.00826\n",
      "  Iteration 7\t time lapse 0.97515s\t ll change 0.00635\n",
      "  Iteration 8\t time lapse 0.99631s\t ll change 0.00480\n",
      "  Iteration 9\t time lapse 1.03246s\t ll change 0.00360\n",
      "  Iteration 10\t time lapse 0.87342s\t ll change 0.00271\n",
      "  Iteration 11\t time lapse 0.87267s\t ll change 0.00206\n",
      "  Iteration 12\t time lapse 0.91960s\t ll change 0.00160\n",
      "  Iteration 13\t time lapse 0.97643s\t ll change 0.00125\n",
      "  Iteration 14\t time lapse 1.02680s\t ll change 0.00099\n",
      "Initialization converged: True\t time lapse 14.93834s\t ll -27.97332\n",
      "Initialization 0\n",
      "  Iteration 1\t time lapse 1.75361s\t ll change inf\n",
      "  Iteration 2\t time lapse 0.80972s\t ll change 1.45334\n",
      "  Iteration 3\t time lapse 0.93814s\t ll change 0.01994\n",
      "  Iteration 4\t time lapse 0.74925s\t ll change 0.01370\n",
      "  Iteration 5\t time lapse 0.85228s\t ll change 0.00996\n",
      "  Iteration 6\t time lapse 0.86348s\t ll change 0.00746\n",
      "  Iteration 7\t time lapse 0.85302s\t ll change 0.00585\n",
      "  Iteration 8\t time lapse 0.77795s\t ll change 0.00487\n",
      "  Iteration 9\t time lapse 0.78854s\t ll change 0.00433\n",
      "  Iteration 10\t time lapse 0.74959s\t ll change 0.00412\n",
      "  Iteration 11\t time lapse 0.86979s\t ll change 0.00417\n",
      "  Iteration 12\t time lapse 0.87170s\t ll change 0.00449\n",
      "  Iteration 13\t time lapse 0.78748s\t ll change 0.00513\n",
      "  Iteration 14\t time lapse 0.87002s\t ll change 0.00607\n",
      "  Iteration 15\t time lapse 0.76462s\t ll change 0.00717\n",
      "Initialization converged: False\t time lapse 13.29942s\t ll -27.47558\n"
     ]
    },
    {
     "name": "stderr",
     "output_type": "stream",
     "text": [
      "/home/av/.local/lib/python3.10/site-packages/sklearn/mixture/_base.py:274: ConvergenceWarning: Initialization 1 did not converge. Try different init parameters, or increase max_iter, tol or check for degenerate data.\n",
      "  warnings.warn(\n"
     ]
    },
    {
     "name": "stdout",
     "output_type": "stream",
     "text": [
      "Initialization 0\n",
      "  Iteration 1\t time lapse 1.78822s\t ll change inf\n",
      "  Iteration 2\t time lapse 0.87558s\t ll change 1.79630\n",
      "  Iteration 3\t time lapse 0.77522s\t ll change 0.02272\n",
      "  Iteration 4\t time lapse 0.86118s\t ll change 0.01602\n",
      "  Iteration 5\t time lapse 0.88213s\t ll change 0.01256\n",
      "  Iteration 6\t time lapse 0.73371s\t ll change 0.01019\n",
      "  Iteration 7\t time lapse 0.67945s\t ll change 0.00829\n",
      "  Iteration 8\t time lapse 0.86388s\t ll change 0.00660\n",
      "  Iteration 9\t time lapse 0.82884s\t ll change 0.00509\n",
      "  Iteration 10\t time lapse 0.90782s\t ll change 0.00382\n",
      "  Iteration 11\t time lapse 0.88967s\t ll change 0.00281\n",
      "  Iteration 12\t time lapse 0.84265s\t ll change 0.00204\n",
      "  Iteration 13\t time lapse 0.68376s\t ll change 0.00149\n",
      "  Iteration 14\t time lapse 0.78726s\t ll change 0.00110\n",
      "  Iteration 15\t time lapse 0.96360s\t ll change 0.00083\n",
      "Initialization converged: True\t time lapse 13.36334s\t ll -27.00417\n",
      "Initialization 0\n",
      "  Iteration 1\t time lapse 2.21963s\t ll change inf\n",
      "  Iteration 2\t time lapse 0.85261s\t ll change 1.12142\n",
      "  Iteration 3\t time lapse 0.78841s\t ll change 0.01535\n",
      "  Iteration 4\t time lapse 0.77883s\t ll change 0.01014\n",
      "  Iteration 5\t time lapse 0.82352s\t ll change 0.00846\n",
      "  Iteration 6\t time lapse 0.78935s\t ll change 0.00801\n",
      "  Iteration 7\t time lapse 0.82956s\t ll change 0.00817\n",
      "  Iteration 8\t time lapse 1.00072s\t ll change 0.00851\n",
      "  Iteration 9\t time lapse 1.01031s\t ll change 0.00832\n",
      "  Iteration 10\t time lapse 0.93709s\t ll change 0.00711\n",
      "  Iteration 11\t time lapse 0.89161s\t ll change 0.00533\n",
      "  Iteration 12\t time lapse 1.02286s\t ll change 0.00372\n",
      "  Iteration 13\t time lapse 1.08984s\t ll change 0.00258\n",
      "  Iteration 14\t time lapse 1.04738s\t ll change 0.00185\n",
      "  Iteration 15\t time lapse 0.93630s\t ll change 0.00139\n",
      "Initialization converged: False\t time lapse 15.01831s\t ll -27.47462\n"
     ]
    },
    {
     "name": "stderr",
     "output_type": "stream",
     "text": [
      "/home/av/.local/lib/python3.10/site-packages/sklearn/mixture/_base.py:274: ConvergenceWarning: Initialization 1 did not converge. Try different init parameters, or increase max_iter, tol or check for degenerate data.\n",
      "  warnings.warn(\n",
      "100%|██████████| 600/600 [00:22<00:00, 26.24it/s]\n",
      "/home/av/IST/slp-labs/LAB2/pf_tools.py:89: UserWarning: The feature directory already exists, and no new feature extraction will be performed.\n",
      "  warnings.warn(\"The feature directory already exists, and no new feature extraction will be performed.\")\n"
     ]
    },
    {
     "name": "stdout",
     "output_type": "stream",
     "text": [
      "Accuracy Score: 0.5833333333333334\n",
      "Combination 2\n",
      "Initialization 0\n",
      "  Iteration 1\t time lapse 6.05754s\t ll change inf\n",
      "  Iteration 2\t time lapse 2.52747s\t ll change 1.43987\n",
      "  Iteration 3\t time lapse 2.25938s\t ll change 0.01768\n",
      "  Iteration 4\t time lapse 2.46417s\t ll change 0.01095\n",
      "  Iteration 5\t time lapse 2.44472s\t ll change 0.00802\n",
      "  Iteration 6\t time lapse 3.54560s\t ll change 0.00643\n",
      "  Iteration 7\t time lapse 3.06669s\t ll change 0.00555\n",
      "  Iteration 8\t time lapse 3.83922s\t ll change 0.00516\n",
      "  Iteration 9\t time lapse 4.15466s\t ll change 0.00512\n",
      "  Iteration 10\t time lapse 5.12740s\t ll change 0.00530\n",
      "  Iteration 11\t time lapse 2.96623s\t ll change 0.00551\n",
      "  Iteration 12\t time lapse 3.76543s\t ll change 0.00558\n",
      "  Iteration 13\t time lapse 3.79260s\t ll change 0.00541\n",
      "  Iteration 14\t time lapse 3.41901s\t ll change 0.00500\n",
      "  Iteration 15\t time lapse 2.61169s\t ll change 0.00438\n",
      "Initialization converged: False\t time lapse 52.04193s\t ll -27.16105\n"
     ]
    },
    {
     "name": "stderr",
     "output_type": "stream",
     "text": [
      "/home/av/.local/lib/python3.10/site-packages/sklearn/mixture/_base.py:274: ConvergenceWarning: Initialization 1 did not converge. Try different init parameters, or increase max_iter, tol or check for degenerate data.\n",
      "  warnings.warn(\n"
     ]
    },
    {
     "name": "stdout",
     "output_type": "stream",
     "text": [
      "Initialization 0\n",
      "  Iteration 1\t time lapse 5.35757s\t ll change inf\n",
      "  Iteration 2\t time lapse 3.13768s\t ll change 1.19792\n",
      "  Iteration 3\t time lapse 2.45770s\t ll change 0.01995\n",
      "  Iteration 4\t time lapse 3.39028s\t ll change 0.01271\n",
      "  Iteration 5\t time lapse 2.35725s\t ll change 0.00931\n",
      "  Iteration 6\t time lapse 3.36878s\t ll change 0.00721\n",
      "  Iteration 7\t time lapse 2.65474s\t ll change 0.00577\n",
      "  Iteration 8\t time lapse 2.14411s\t ll change 0.00476\n",
      "  Iteration 9\t time lapse 2.23667s\t ll change 0.00407\n",
      "  Iteration 10\t time lapse 2.43353s\t ll change 0.00363\n",
      "  Iteration 11\t time lapse 2.24139s\t ll change 0.00336\n",
      "  Iteration 12\t time lapse 1.89497s\t ll change 0.00318\n",
      "  Iteration 13\t time lapse 2.51588s\t ll change 0.00297\n",
      "  Iteration 14\t time lapse 2.18429s\t ll change 0.00266\n",
      "  Iteration 15\t time lapse 2.41335s\t ll change 0.00227\n",
      "Initialization converged: False\t time lapse 40.78937s\t ll -27.36202\n"
     ]
    },
    {
     "name": "stderr",
     "output_type": "stream",
     "text": [
      "/home/av/.local/lib/python3.10/site-packages/sklearn/mixture/_base.py:274: ConvergenceWarning: Initialization 1 did not converge. Try different init parameters, or increase max_iter, tol or check for degenerate data.\n",
      "  warnings.warn(\n"
     ]
    },
    {
     "name": "stdout",
     "output_type": "stream",
     "text": [
      "Initialization 0\n",
      "  Iteration 1\t time lapse 4.52228s\t ll change inf\n",
      "  Iteration 2\t time lapse 2.47872s\t ll change 1.32355\n",
      "  Iteration 3\t time lapse 2.02530s\t ll change 0.02122\n",
      "  Iteration 4\t time lapse 2.21313s\t ll change 0.01312\n",
      "  Iteration 5\t time lapse 2.13404s\t ll change 0.00931\n",
      "  Iteration 6\t time lapse 2.46643s\t ll change 0.00709\n",
      "  Iteration 7\t time lapse 1.86169s\t ll change 0.00568\n",
      "  Iteration 8\t time lapse 2.30612s\t ll change 0.00475\n",
      "  Iteration 9\t time lapse 2.01258s\t ll change 0.00414\n",
      "  Iteration 10\t time lapse 2.14757s\t ll change 0.00375\n",
      "  Iteration 11\t time lapse 2.00178s\t ll change 0.00352\n",
      "  Iteration 12\t time lapse 1.81749s\t ll change 0.00344\n",
      "  Iteration 13\t time lapse 2.33860s\t ll change 0.00347\n",
      "  Iteration 14\t time lapse 1.89695s\t ll change 0.00349\n",
      "  Iteration 15\t time lapse 2.19431s\t ll change 0.00333\n",
      "Initialization converged: False\t time lapse 34.41727s\t ll -27.82103\n"
     ]
    },
    {
     "name": "stderr",
     "output_type": "stream",
     "text": [
      "/home/av/.local/lib/python3.10/site-packages/sklearn/mixture/_base.py:274: ConvergenceWarning: Initialization 1 did not converge. Try different init parameters, or increase max_iter, tol or check for degenerate data.\n",
      "  warnings.warn(\n"
     ]
    },
    {
     "name": "stdout",
     "output_type": "stream",
     "text": [
      "Initialization 0\n",
      "  Iteration 1\t time lapse 7.83220s\t ll change inf\n",
      "  Iteration 2\t time lapse 3.09974s\t ll change 1.38608\n",
      "  Iteration 3\t time lapse 1.88575s\t ll change 0.02248\n",
      "  Iteration 4\t time lapse 1.65486s\t ll change 0.01536\n",
      "  Iteration 5\t time lapse 2.29855s\t ll change 0.01226\n",
      "  Iteration 6\t time lapse 2.27744s\t ll change 0.01015\n",
      "  Iteration 7\t time lapse 2.13664s\t ll change 0.00847\n",
      "  Iteration 8\t time lapse 1.80107s\t ll change 0.00721\n",
      "  Iteration 9\t time lapse 1.91130s\t ll change 0.00630\n",
      "  Iteration 10\t time lapse 1.78330s\t ll change 0.00555\n",
      "  Iteration 11\t time lapse 1.89120s\t ll change 0.00486\n",
      "  Iteration 12\t time lapse 1.87862s\t ll change 0.00417\n",
      "  Iteration 13\t time lapse 1.75550s\t ll change 0.00350\n",
      "  Iteration 14\t time lapse 1.80978s\t ll change 0.00287\n",
      "  Iteration 15\t time lapse 1.81918s\t ll change 0.00230\n",
      "Initialization converged: False\t time lapse 35.83563s\t ll -27.31529\n"
     ]
    },
    {
     "name": "stderr",
     "output_type": "stream",
     "text": [
      "/home/av/.local/lib/python3.10/site-packages/sklearn/mixture/_base.py:274: ConvergenceWarning: Initialization 1 did not converge. Try different init parameters, or increase max_iter, tol or check for degenerate data.\n",
      "  warnings.warn(\n"
     ]
    },
    {
     "name": "stdout",
     "output_type": "stream",
     "text": [
      "Initialization 0\n",
      "  Iteration 1\t time lapse 6.14937s\t ll change inf\n",
      "  Iteration 2\t time lapse 1.54718s\t ll change 1.61182\n",
      "  Iteration 3\t time lapse 1.76150s\t ll change 0.01806\n",
      "  Iteration 4\t time lapse 1.70892s\t ll change 0.01247\n",
      "  Iteration 5\t time lapse 1.72983s\t ll change 0.01072\n",
      "  Iteration 6\t time lapse 1.59304s\t ll change 0.01021\n",
      "  Iteration 7\t time lapse 1.89590s\t ll change 0.00968\n",
      "  Iteration 8\t time lapse 1.59360s\t ll change 0.00869\n",
      "  Iteration 9\t time lapse 1.46486s\t ll change 0.00740\n",
      "  Iteration 10\t time lapse 1.57931s\t ll change 0.00598\n",
      "  Iteration 11\t time lapse 1.66749s\t ll change 0.00459\n",
      "  Iteration 12\t time lapse 1.87634s\t ll change 0.00344\n",
      "  Iteration 13\t time lapse 1.37192s\t ll change 0.00262\n",
      "  Iteration 14\t time lapse 1.63477s\t ll change 0.00208\n",
      "  Iteration 15\t time lapse 1.58564s\t ll change 0.00172\n",
      "Initialization converged: False\t time lapse 29.16103s\t ll -26.90965\n"
     ]
    },
    {
     "name": "stderr",
     "output_type": "stream",
     "text": [
      "/home/av/.local/lib/python3.10/site-packages/sklearn/mixture/_base.py:274: ConvergenceWarning: Initialization 1 did not converge. Try different init parameters, or increase max_iter, tol or check for degenerate data.\n",
      "  warnings.warn(\n"
     ]
    },
    {
     "name": "stdout",
     "output_type": "stream",
     "text": [
      "Initialization 0\n",
      "  Iteration 1\t time lapse 4.34609s\t ll change inf\n",
      "  Iteration 2\t time lapse 1.82828s\t ll change 0.05533\n",
      "  Iteration 3\t time lapse 1.78596s\t ll change 0.02229\n",
      "  Iteration 4\t time lapse 2.16401s\t ll change 0.01530\n",
      "  Iteration 5\t time lapse 2.61625s\t ll change 0.01202\n",
      "  Iteration 6\t time lapse 2.21502s\t ll change 0.00973\n",
      "  Iteration 7\t time lapse 2.16270s\t ll change 0.00795\n",
      "  Iteration 8\t time lapse 1.87114s\t ll change 0.00654\n",
      "  Iteration 9\t time lapse 1.52867s\t ll change 0.00544\n",
      "  Iteration 10\t time lapse 1.91111s\t ll change 0.00459\n",
      "  Iteration 11\t time lapse 1.84390s\t ll change 0.00395\n",
      "  Iteration 12\t time lapse 1.67442s\t ll change 0.00354\n",
      "  Iteration 13\t time lapse 1.79709s\t ll change 0.00331\n",
      "  Iteration 14\t time lapse 1.81172s\t ll change 0.00321\n",
      "  Iteration 15\t time lapse 1.84129s\t ll change 0.00319\n",
      "Initialization converged: False\t time lapse 31.39832s\t ll -27.34372\n"
     ]
    },
    {
     "name": "stderr",
     "output_type": "stream",
     "text": [
      "/home/av/.local/lib/python3.10/site-packages/sklearn/mixture/_base.py:274: ConvergenceWarning: Initialization 1 did not converge. Try different init parameters, or increase max_iter, tol or check for degenerate data.\n",
      "  warnings.warn(\n",
      "100%|██████████| 600/600 [00:43<00:00, 13.74it/s]\n",
      "/home/av/IST/slp-labs/LAB2/pf_tools.py:89: UserWarning: The feature directory already exists, and no new feature extraction will be performed.\n",
      "  warnings.warn(\"The feature directory already exists, and no new feature extraction will be performed.\")\n"
     ]
    },
    {
     "name": "stdout",
     "output_type": "stream",
     "text": [
      "Accuracy Score: 0.645\n",
      "Combination 3\n",
      "Initialization 0\n",
      "  Iteration 1\t time lapse 8.43353s\t ll change inf\n",
      "  Iteration 2\t time lapse 4.99661s\t ll change 1.43036\n",
      "  Iteration 3\t time lapse 3.32089s\t ll change 0.01991\n",
      "  Iteration 4\t time lapse 5.80762s\t ll change 0.01101\n",
      "  Iteration 5\t time lapse 3.81570s\t ll change 0.00740\n",
      "  Iteration 6\t time lapse 5.04513s\t ll change 0.00558\n",
      "  Iteration 7\t time lapse 3.96753s\t ll change 0.00456\n",
      "  Iteration 8\t time lapse 4.88344s\t ll change 0.00395\n",
      "  Iteration 9\t time lapse 3.77985s\t ll change 0.00354\n",
      "  Iteration 10\t time lapse 4.81578s\t ll change 0.00322\n",
      "  Iteration 11\t time lapse 5.61898s\t ll change 0.00293\n",
      "  Iteration 12\t time lapse 4.55053s\t ll change 0.00264\n",
      "  Iteration 13\t time lapse 3.86534s\t ll change 0.00237\n",
      "  Iteration 14\t time lapse 4.45147s\t ll change 0.00211\n",
      "  Iteration 15\t time lapse 4.01693s\t ll change 0.00188\n",
      "Initialization converged: False\t time lapse 71.36946s\t ll -27.04727\n"
     ]
    },
    {
     "name": "stderr",
     "output_type": "stream",
     "text": [
      "/home/av/.local/lib/python3.10/site-packages/sklearn/mixture/_base.py:274: ConvergenceWarning: Initialization 1 did not converge. Try different init parameters, or increase max_iter, tol or check for degenerate data.\n",
      "  warnings.warn(\n"
     ]
    },
    {
     "name": "stdout",
     "output_type": "stream",
     "text": [
      "Initialization 0\n",
      "  Iteration 1\t time lapse 9.19961s\t ll change inf\n",
      "  Iteration 2\t time lapse 5.34871s\t ll change 1.20559\n",
      "  Iteration 3\t time lapse 4.64392s\t ll change 0.01940\n",
      "  Iteration 4\t time lapse 5.34354s\t ll change 0.01155\n",
      "  Iteration 5\t time lapse 4.50942s\t ll change 0.00837\n",
      "  Iteration 6\t time lapse 5.08828s\t ll change 0.00658\n",
      "  Iteration 7\t time lapse 4.76781s\t ll change 0.00537\n",
      "  Iteration 8\t time lapse 4.62282s\t ll change 0.00447\n",
      "  Iteration 9\t time lapse 4.32239s\t ll change 0.00378\n",
      "  Iteration 10\t time lapse 3.43542s\t ll change 0.00325\n",
      "  Iteration 11\t time lapse 4.51757s\t ll change 0.00283\n",
      "  Iteration 12\t time lapse 4.04273s\t ll change 0.00250\n",
      "  Iteration 13\t time lapse 4.13638s\t ll change 0.00223\n",
      "  Iteration 14\t time lapse 4.10434s\t ll change 0.00201\n",
      "  Iteration 15\t time lapse 4.65088s\t ll change 0.00183\n",
      "Initialization converged: False\t time lapse 72.73421s\t ll -27.26262\n"
     ]
    },
    {
     "name": "stderr",
     "output_type": "stream",
     "text": [
      "/home/av/.local/lib/python3.10/site-packages/sklearn/mixture/_base.py:274: ConvergenceWarning: Initialization 1 did not converge. Try different init parameters, or increase max_iter, tol or check for degenerate data.\n",
      "  warnings.warn(\n"
     ]
    },
    {
     "name": "stdout",
     "output_type": "stream",
     "text": [
      "Initialization 0\n",
      "  Iteration 1\t time lapse 9.37357s\t ll change inf\n",
      "  Iteration 2\t time lapse 4.54788s\t ll change 1.19056\n",
      "  Iteration 3\t time lapse 3.93324s\t ll change 0.02067\n",
      "  Iteration 4\t time lapse 4.61670s\t ll change 0.01297\n",
      "  Iteration 5\t time lapse 4.30753s\t ll change 0.00943\n",
      "  Iteration 6\t time lapse 3.74817s\t ll change 0.00730\n",
      "  Iteration 7\t time lapse 4.22128s\t ll change 0.00591\n",
      "  Iteration 8\t time lapse 3.84426s\t ll change 0.00494\n",
      "  Iteration 9\t time lapse 3.49300s\t ll change 0.00422\n",
      "  Iteration 10\t time lapse 3.83514s\t ll change 0.00368\n",
      "  Iteration 11\t time lapse 3.93532s\t ll change 0.00328\n",
      "  Iteration 12\t time lapse 3.93279s\t ll change 0.00297\n",
      "  Iteration 13\t time lapse 4.10810s\t ll change 0.00274\n",
      "  Iteration 14\t time lapse 4.13895s\t ll change 0.00256\n",
      "  Iteration 15\t time lapse 4.78180s\t ll change 0.00242\n",
      "Initialization converged: False\t time lapse 66.81822s\t ll -27.68561\n"
     ]
    },
    {
     "name": "stderr",
     "output_type": "stream",
     "text": [
      "/home/av/.local/lib/python3.10/site-packages/sklearn/mixture/_base.py:274: ConvergenceWarning: Initialization 1 did not converge. Try different init parameters, or increase max_iter, tol or check for degenerate data.\n",
      "  warnings.warn(\n"
     ]
    },
    {
     "name": "stdout",
     "output_type": "stream",
     "text": [
      "Initialization 0\n",
      "  Iteration 1\t time lapse 7.38256s\t ll change inf\n",
      "  Iteration 2\t time lapse 3.18156s\t ll change 1.18233\n",
      "  Iteration 3\t time lapse 3.15009s\t ll change 0.02092\n",
      "  Iteration 4\t time lapse 3.29831s\t ll change 0.01294\n",
      "  Iteration 5\t time lapse 2.77469s\t ll change 0.01017\n",
      "  Iteration 6\t time lapse 3.39325s\t ll change 0.00879\n",
      "  Iteration 7\t time lapse 2.99247s\t ll change 0.00776\n",
      "  Iteration 8\t time lapse 3.17938s\t ll change 0.00684\n",
      "  Iteration 9\t time lapse 2.70175s\t ll change 0.00602\n",
      "  Iteration 10\t time lapse 3.47793s\t ll change 0.00531\n",
      "  Iteration 11\t time lapse 3.37290s\t ll change 0.00479\n",
      "  Iteration 12\t time lapse 3.38321s\t ll change 0.00439\n",
      "  Iteration 13\t time lapse 2.90417s\t ll change 0.00397\n",
      "  Iteration 14\t time lapse 3.27834s\t ll change 0.00384\n",
      "  Iteration 15\t time lapse 2.91394s\t ll change 0.00418\n",
      "Initialization converged: False\t time lapse 51.38505s\t ll -27.22560\n"
     ]
    },
    {
     "name": "stderr",
     "output_type": "stream",
     "text": [
      "/home/av/.local/lib/python3.10/site-packages/sklearn/mixture/_base.py:274: ConvergenceWarning: Initialization 1 did not converge. Try different init parameters, or increase max_iter, tol or check for degenerate data.\n",
      "  warnings.warn(\n"
     ]
    },
    {
     "name": "stdout",
     "output_type": "stream",
     "text": [
      "Initialization 0\n",
      "  Iteration 1\t time lapse 7.96360s\t ll change inf\n",
      "  Iteration 2\t time lapse 3.05417s\t ll change 1.52945\n",
      "  Iteration 3\t time lapse 2.07094s\t ll change 0.01940\n",
      "  Iteration 4\t time lapse 2.25858s\t ll change 0.01167\n",
      "  Iteration 5\t time lapse 2.27431s\t ll change 0.00870\n",
      "  Iteration 6\t time lapse 2.36868s\t ll change 0.00711\n",
      "  Iteration 7\t time lapse 2.15081s\t ll change 0.00610\n",
      "  Iteration 8\t time lapse 2.17734s\t ll change 0.00537\n",
      "  Iteration 9\t time lapse 2.05333s\t ll change 0.00477\n",
      "  Iteration 10\t time lapse 2.00230s\t ll change 0.00427\n",
      "  Iteration 11\t time lapse 2.26010s\t ll change 0.00389\n",
      "  Iteration 12\t time lapse 2.12905s\t ll change 0.00365\n",
      "  Iteration 13\t time lapse 2.06404s\t ll change 0.00354\n",
      "  Iteration 14\t time lapse 2.14903s\t ll change 0.00351\n",
      "  Iteration 15\t time lapse 2.27418s\t ll change 0.00350\n",
      "Initialization converged: False\t time lapse 39.25059s\t ll -26.83833\n"
     ]
    },
    {
     "name": "stderr",
     "output_type": "stream",
     "text": [
      "/home/av/.local/lib/python3.10/site-packages/sklearn/mixture/_base.py:274: ConvergenceWarning: Initialization 1 did not converge. Try different init parameters, or increase max_iter, tol or check for degenerate data.\n",
      "  warnings.warn(\n"
     ]
    },
    {
     "name": "stdout",
     "output_type": "stream",
     "text": [
      "Initialization 0\n",
      "  Iteration 1\t time lapse 7.59065s\t ll change inf\n",
      "  Iteration 2\t time lapse 2.51601s\t ll change 0.05879\n",
      "  Iteration 3\t time lapse 2.21635s\t ll change 0.01950\n",
      "  Iteration 4\t time lapse 2.21017s\t ll change 0.01096\n",
      "  Iteration 5\t time lapse 2.10597s\t ll change 0.00763\n",
      "  Iteration 6\t time lapse 2.36972s\t ll change 0.00593\n",
      "  Iteration 7\t time lapse 2.05415s\t ll change 0.00495\n",
      "  Iteration 8\t time lapse 2.27667s\t ll change 0.00438\n",
      "  Iteration 9\t time lapse 2.15791s\t ll change 0.00403\n",
      "  Iteration 10\t time lapse 2.22723s\t ll change 0.00373\n",
      "  Iteration 11\t time lapse 2.09846s\t ll change 0.00342\n",
      "  Iteration 12\t time lapse 2.23721s\t ll change 0.00313\n",
      "  Iteration 13\t time lapse 2.57270s\t ll change 0.00290\n",
      "  Iteration 14\t time lapse 2.53675s\t ll change 0.00275\n",
      "  Iteration 15\t time lapse 2.12940s\t ll change 0.00269\n",
      "Initialization converged: False\t time lapse 39.29984s\t ll -27.25918\n"
     ]
    },
    {
     "name": "stderr",
     "output_type": "stream",
     "text": [
      "/home/av/.local/lib/python3.10/site-packages/sklearn/mixture/_base.py:274: ConvergenceWarning: Initialization 1 did not converge. Try different init parameters, or increase max_iter, tol or check for degenerate data.\n",
      "  warnings.warn(\n",
      "100%|██████████| 600/600 [01:04<00:00,  9.37it/s]\n",
      "/home/av/IST/slp-labs/LAB2/pf_tools.py:89: UserWarning: The feature directory already exists, and no new feature extraction will be performed.\n",
      "  warnings.warn(\"The feature directory already exists, and no new feature extraction will be performed.\")\n"
     ]
    },
    {
     "name": "stdout",
     "output_type": "stream",
     "text": [
      "Accuracy Score: 0.6683333333333333\n",
      "Combination 4\n",
      "Initialization 0\n",
      "  Iteration 1\t time lapse 2.37488s\t ll change inf\n",
      "  Iteration 2\t time lapse 0.82760s\t ll change 1.59908\n",
      "  Iteration 3\t time lapse 0.74943s\t ll change 0.02257\n",
      "  Iteration 4\t time lapse 0.69090s\t ll change 0.01541\n",
      "  Iteration 5\t time lapse 0.81172s\t ll change 0.01070\n",
      "  Iteration 6\t time lapse 0.82693s\t ll change 0.00744\n",
      "  Iteration 7\t time lapse 0.82044s\t ll change 0.00533\n",
      "  Iteration 8\t time lapse 0.79463s\t ll change 0.00401\n",
      "  Iteration 9\t time lapse 0.81960s\t ll change 0.00316\n",
      "  Iteration 10\t time lapse 0.82642s\t ll change 0.00260\n",
      "  Iteration 11\t time lapse 0.78228s\t ll change 0.00221\n",
      "  Iteration 12\t time lapse 0.78637s\t ll change 0.00191\n",
      "  Iteration 13\t time lapse 0.79766s\t ll change 0.00165\n",
      "  Iteration 14\t time lapse 0.77266s\t ll change 0.00142\n",
      "  Iteration 15\t time lapse 0.87767s\t ll change 0.00121\n",
      "Initialization converged: False\t time lapse 13.55957s\t ll -27.27329\n"
     ]
    },
    {
     "name": "stderr",
     "output_type": "stream",
     "text": [
      "/home/av/.local/lib/python3.10/site-packages/sklearn/mixture/_base.py:274: ConvergenceWarning: Initialization 1 did not converge. Try different init parameters, or increase max_iter, tol or check for degenerate data.\n",
      "  warnings.warn(\n"
     ]
    },
    {
     "name": "stdout",
     "output_type": "stream",
     "text": [
      "Initialization 0\n",
      "  Iteration 1\t time lapse 2.42036s\t ll change inf\n",
      "  Iteration 2\t time lapse 0.80076s\t ll change 1.34844\n",
      "  Iteration 3\t time lapse 0.89041s\t ll change 0.02084\n",
      "  Iteration 4\t time lapse 0.93498s\t ll change 0.01347\n",
      "  Iteration 5\t time lapse 0.85088s\t ll change 0.00923\n",
      "  Iteration 6\t time lapse 0.97475s\t ll change 0.00635\n",
      "  Iteration 7\t time lapse 0.80867s\t ll change 0.00443\n",
      "  Iteration 8\t time lapse 0.77454s\t ll change 0.00323\n",
      "  Iteration 9\t time lapse 0.84516s\t ll change 0.00250\n",
      "  Iteration 10\t time lapse 0.83655s\t ll change 0.00205\n",
      "  Iteration 11\t time lapse 0.96499s\t ll change 0.00177\n",
      "  Iteration 12\t time lapse 0.88544s\t ll change 0.00157\n",
      "  Iteration 13\t time lapse 0.98208s\t ll change 0.00140\n",
      "  Iteration 14\t time lapse 0.87227s\t ll change 0.00123\n",
      "  Iteration 15\t time lapse 0.86729s\t ll change 0.00107\n",
      "Initialization converged: False\t time lapse 14.70928s\t ll -27.49863\n"
     ]
    },
    {
     "name": "stderr",
     "output_type": "stream",
     "text": [
      "/home/av/.local/lib/python3.10/site-packages/sklearn/mixture/_base.py:274: ConvergenceWarning: Initialization 1 did not converge. Try different init parameters, or increase max_iter, tol or check for degenerate data.\n",
      "  warnings.warn(\n"
     ]
    },
    {
     "name": "stdout",
     "output_type": "stream",
     "text": [
      "Initialization 0\n",
      "  Iteration 1\t time lapse 2.60614s\t ll change inf\n",
      "  Iteration 2\t time lapse 0.95759s\t ll change 1.44776\n",
      "  Iteration 3\t time lapse 0.88438s\t ll change 0.02240\n",
      "  Iteration 4\t time lapse 0.81838s\t ll change 0.01413\n",
      "  Iteration 5\t time lapse 0.86931s\t ll change 0.01045\n",
      "  Iteration 6\t time lapse 0.91236s\t ll change 0.00811\n",
      "  Iteration 7\t time lapse 1.10170s\t ll change 0.00627\n",
      "  Iteration 8\t time lapse 0.87995s\t ll change 0.00480\n",
      "  Iteration 9\t time lapse 0.85965s\t ll change 0.00366\n",
      "  Iteration 10\t time lapse 0.96846s\t ll change 0.00281\n",
      "  Iteration 11\t time lapse 0.82110s\t ll change 0.00219\n",
      "  Iteration 12\t time lapse 0.93823s\t ll change 0.00173\n",
      "  Iteration 13\t time lapse 0.93000s\t ll change 0.00139\n",
      "  Iteration 14\t time lapse 1.03040s\t ll change 0.00113\n",
      "  Iteration 15\t time lapse 1.16138s\t ll change 0.00092\n",
      "Initialization converged: True\t time lapse 15.73950s\t ll -27.97365\n",
      "Initialization 0\n",
      "  Iteration 1\t time lapse 2.61918s\t ll change inf\n",
      "  Iteration 2\t time lapse 0.79351s\t ll change 1.49143\n",
      "  Iteration 3\t time lapse 0.75662s\t ll change 0.02475\n",
      "  Iteration 4\t time lapse 0.86223s\t ll change 0.01695\n",
      "  Iteration 5\t time lapse 0.78052s\t ll change 0.01194\n",
      "  Iteration 6\t time lapse 0.76181s\t ll change 0.00835\n",
      "  Iteration 7\t time lapse 0.78202s\t ll change 0.00579\n",
      "  Iteration 8\t time lapse 0.84956s\t ll change 0.00398\n",
      "  Iteration 9\t time lapse 0.84244s\t ll change 0.00272\n",
      "  Iteration 10\t time lapse 0.86197s\t ll change 0.00186\n",
      "  Iteration 11\t time lapse 0.85573s\t ll change 0.00129\n",
      "  Iteration 12\t time lapse 0.88540s\t ll change 0.00090\n",
      "Initialization converged: True\t time lapse 11.65126s\t ll -27.43283\n",
      "Initialization 0\n",
      "  Iteration 1\t time lapse 1.88644s\t ll change inf\n",
      "  Iteration 2\t time lapse 0.79374s\t ll change 1.79628\n",
      "  Iteration 3\t time lapse 0.83438s\t ll change 0.02271\n",
      "  Iteration 4\t time lapse 0.80434s\t ll change 0.01602\n",
      "  Iteration 5\t time lapse 0.85762s\t ll change 0.01255\n",
      "  Iteration 6\t time lapse 0.67166s\t ll change 0.01018\n",
      "  Iteration 7\t time lapse 0.75041s\t ll change 0.00828\n",
      "  Iteration 8\t time lapse 0.78694s\t ll change 0.00659\n",
      "  Iteration 9\t time lapse 0.75166s\t ll change 0.00509\n",
      "  Iteration 10\t time lapse 0.77536s\t ll change 0.00382\n",
      "  Iteration 11\t time lapse 0.76806s\t ll change 0.00281\n",
      "  Iteration 12\t time lapse 0.82631s\t ll change 0.00204\n",
      "  Iteration 13\t time lapse 0.86292s\t ll change 0.00148\n",
      "  Iteration 14\t time lapse 0.82455s\t ll change 0.00109\n",
      "  Iteration 15\t time lapse 0.66981s\t ll change 0.00082\n",
      "Initialization converged: True\t time lapse 12.86429s\t ll -27.00416\n",
      "Initialization 0\n",
      "  Iteration 1\t time lapse 1.88079s\t ll change inf\n",
      "  Iteration 2\t time lapse 0.87704s\t ll change 1.18758\n",
      "  Iteration 3\t time lapse 0.88321s\t ll change 0.01511\n",
      "  Iteration 4\t time lapse 0.85010s\t ll change 0.00989\n",
      "  Iteration 5\t time lapse 0.70214s\t ll change 0.00808\n",
      "  Iteration 6\t time lapse 0.85583s\t ll change 0.00741\n",
      "  Iteration 7\t time lapse 0.79265s\t ll change 0.00733\n",
      "  Iteration 8\t time lapse 0.84158s\t ll change 0.00763\n",
      "  Iteration 9\t time lapse 0.86481s\t ll change 0.00796\n",
      "  Iteration 10\t time lapse 0.74575s\t ll change 0.00766\n",
      "  Iteration 11\t time lapse 0.78064s\t ll change 0.00638\n",
      "  Iteration 12\t time lapse 0.77123s\t ll change 0.00468\n",
      "  Iteration 13\t time lapse 0.80494s\t ll change 0.00322\n",
      "  Iteration 14\t time lapse 0.76483s\t ll change 0.00222\n",
      "  Iteration 15\t time lapse 0.76960s\t ll change 0.00160\n",
      "Initialization converged: False\t time lapse 13.18523s\t ll -27.47523\n"
     ]
    },
    {
     "name": "stderr",
     "output_type": "stream",
     "text": [
      "/home/av/.local/lib/python3.10/site-packages/sklearn/mixture/_base.py:274: ConvergenceWarning: Initialization 1 did not converge. Try different init parameters, or increase max_iter, tol or check for degenerate data.\n",
      "  warnings.warn(\n",
      "100%|██████████| 600/600 [00:24<00:00, 24.69it/s]\n",
      "/home/av/IST/slp-labs/LAB2/pf_tools.py:89: UserWarning: The feature directory already exists, and no new feature extraction will be performed.\n",
      "  warnings.warn(\"The feature directory already exists, and no new feature extraction will be performed.\")\n"
     ]
    },
    {
     "name": "stdout",
     "output_type": "stream",
     "text": [
      "Accuracy Score: 0.585\n",
      "Combination 5\n",
      "Initialization 0\n",
      "  Iteration 1\t time lapse 3.41013s\t ll change inf\n",
      "  Iteration 2\t time lapse 1.80699s\t ll change 1.42511\n",
      "  Iteration 3\t time lapse 1.72411s\t ll change 0.02079\n",
      "  Iteration 4\t time lapse 1.55086s\t ll change 0.01319\n",
      "  Iteration 5\t time lapse 1.40851s\t ll change 0.00958\n",
      "  Iteration 6\t time lapse 1.30181s\t ll change 0.00735\n",
      "  Iteration 7\t time lapse 1.38520s\t ll change 0.00585\n",
      "  Iteration 8\t time lapse 1.16182s\t ll change 0.00482\n",
      "  Iteration 9\t time lapse 1.29023s\t ll change 0.00410\n",
      "  Iteration 10\t time lapse 1.16526s\t ll change 0.00355\n",
      "  Iteration 11\t time lapse 1.38907s\t ll change 0.00310\n",
      "  Iteration 12\t time lapse 1.42194s\t ll change 0.00269\n",
      "  Iteration 13\t time lapse 1.36455s\t ll change 0.00232\n",
      "  Iteration 14\t time lapse 1.17969s\t ll change 0.00198\n",
      "  Iteration 15\t time lapse 1.41904s\t ll change 0.00167\n",
      "Initialization converged: False\t time lapse 22.97989s\t ll -27.14945\n"
     ]
    },
    {
     "name": "stderr",
     "output_type": "stream",
     "text": [
      "/home/av/.local/lib/python3.10/site-packages/sklearn/mixture/_base.py:274: ConvergenceWarning: Initialization 1 did not converge. Try different init parameters, or increase max_iter, tol or check for degenerate data.\n",
      "  warnings.warn(\n"
     ]
    },
    {
     "name": "stdout",
     "output_type": "stream",
     "text": [
      "Initialization 0\n",
      "  Iteration 1\t time lapse 4.08010s\t ll change inf\n",
      "  Iteration 2\t time lapse 1.92243s\t ll change 1.24708\n",
      "  Iteration 3\t time lapse 1.97442s\t ll change 0.02053\n",
      "  Iteration 4\t time lapse 1.67769s\t ll change 0.01406\n",
      "  Iteration 5\t time lapse 1.71022s\t ll change 0.01100\n",
      "  Iteration 6\t time lapse 1.37838s\t ll change 0.00897\n",
      "  Iteration 7\t time lapse 1.70904s\t ll change 0.00741\n",
      "  Iteration 8\t time lapse 1.37124s\t ll change 0.00625\n",
      "  Iteration 9\t time lapse 1.39771s\t ll change 0.00544\n",
      "  Iteration 10\t time lapse 1.41576s\t ll change 0.00489\n",
      "  Iteration 11\t time lapse 1.36798s\t ll change 0.00443\n",
      "  Iteration 12\t time lapse 1.31885s\t ll change 0.00390\n",
      "  Iteration 13\t time lapse 1.34827s\t ll change 0.00328\n",
      "  Iteration 14\t time lapse 2.01744s\t ll change 0.00265\n",
      "  Iteration 15\t time lapse 3.38494s\t ll change 0.00213\n",
      "Initialization converged: False\t time lapse 28.07597s\t ll -27.35841\n"
     ]
    },
    {
     "name": "stderr",
     "output_type": "stream",
     "text": [
      "/home/av/.local/lib/python3.10/site-packages/sklearn/mixture/_base.py:274: ConvergenceWarning: Initialization 1 did not converge. Try different init parameters, or increase max_iter, tol or check for degenerate data.\n",
      "  warnings.warn(\n"
     ]
    },
    {
     "name": "stdout",
     "output_type": "stream",
     "text": [
      "Initialization 0\n",
      "  Iteration 1\t time lapse 4.35754s\t ll change inf\n",
      "  Iteration 2\t time lapse 0.63591s\t ll change 1.24355\n",
      "  Iteration 3\t time lapse 0.63631s\t ll change 0.02190\n",
      "  Iteration 4\t time lapse 0.63297s\t ll change 0.01387\n",
      "  Iteration 5\t time lapse 0.63776s\t ll change 0.01000\n",
      "  Iteration 6\t time lapse 0.63941s\t ll change 0.00769\n",
      "  Iteration 7\t time lapse 0.62772s\t ll change 0.00619\n",
      "  Iteration 8\t time lapse 0.65944s\t ll change 0.00517\n",
      "  Iteration 9\t time lapse 0.62533s\t ll change 0.00444\n",
      "  Iteration 10\t time lapse 0.62499s\t ll change 0.00388\n",
      "  Iteration 11\t time lapse 0.62471s\t ll change 0.00343\n",
      "  Iteration 12\t time lapse 0.62183s\t ll change 0.00305\n",
      "  Iteration 13\t time lapse 0.64204s\t ll change 0.00277\n",
      "  Iteration 14\t time lapse 0.64039s\t ll change 0.00259\n",
      "  Iteration 15\t time lapse 0.62470s\t ll change 0.00249\n",
      "Initialization converged: False\t time lapse 13.23117s\t ll -27.81476\n"
     ]
    },
    {
     "name": "stderr",
     "output_type": "stream",
     "text": [
      "/home/av/.local/lib/python3.10/site-packages/sklearn/mixture/_base.py:274: ConvergenceWarning: Initialization 1 did not converge. Try different init parameters, or increase max_iter, tol or check for degenerate data.\n",
      "  warnings.warn(\n"
     ]
    },
    {
     "name": "stdout",
     "output_type": "stream",
     "text": [
      "Initialization 0\n",
      "  Iteration 1\t time lapse 1.81746s\t ll change inf\n",
      "  Iteration 2\t time lapse 0.54825s\t ll change 1.38627\n",
      "  Iteration 3\t time lapse 0.55558s\t ll change 0.02277\n",
      "  Iteration 4\t time lapse 0.55106s\t ll change 0.01562\n",
      "  Iteration 5\t time lapse 0.57200s\t ll change 0.01235\n",
      "  Iteration 6\t time lapse 0.57215s\t ll change 0.01007\n",
      "  Iteration 7\t time lapse 0.56393s\t ll change 0.00829\n",
      "  Iteration 8\t time lapse 0.54615s\t ll change 0.00698\n",
      "  Iteration 9\t time lapse 0.53461s\t ll change 0.00602\n",
      "  Iteration 10\t time lapse 0.54752s\t ll change 0.00525\n",
      "  Iteration 11\t time lapse 0.52800s\t ll change 0.00456\n",
      "  Iteration 12\t time lapse 0.52754s\t ll change 0.00389\n",
      "  Iteration 13\t time lapse 0.52971s\t ll change 0.00325\n",
      "  Iteration 14\t time lapse 0.54920s\t ll change 0.00266\n",
      "  Iteration 15\t time lapse 0.55152s\t ll change 0.00214\n",
      "Initialization converged: False\t time lapse 9.49478s\t ll -27.31613\n"
     ]
    },
    {
     "name": "stderr",
     "output_type": "stream",
     "text": [
      "/home/av/.local/lib/python3.10/site-packages/sklearn/mixture/_base.py:274: ConvergenceWarning: Initialization 1 did not converge. Try different init parameters, or increase max_iter, tol or check for degenerate data.\n",
      "  warnings.warn(\n"
     ]
    },
    {
     "name": "stdout",
     "output_type": "stream",
     "text": [
      "Initialization 0\n",
      "  Iteration 1\t time lapse 1.54748s\t ll change inf\n",
      "  Iteration 2\t time lapse 0.50564s\t ll change 1.65421\n",
      "  Iteration 3\t time lapse 0.50101s\t ll change 0.01982\n",
      "  Iteration 4\t time lapse 0.51853s\t ll change 0.01292\n",
      "  Iteration 5\t time lapse 0.54037s\t ll change 0.00982\n",
      "  Iteration 6\t time lapse 0.54242s\t ll change 0.00791\n",
      "  Iteration 7\t time lapse 0.54552s\t ll change 0.00654\n",
      "  Iteration 8\t time lapse 0.50918s\t ll change 0.00546\n",
      "  Iteration 9\t time lapse 0.51310s\t ll change 0.00463\n",
      "  Iteration 10\t time lapse 0.51011s\t ll change 0.00401\n",
      "  Iteration 11\t time lapse 0.51303s\t ll change 0.00355\n",
      "  Iteration 12\t time lapse 0.50661s\t ll change 0.00320\n",
      "  Iteration 13\t time lapse 0.55958s\t ll change 0.00292\n",
      "  Iteration 14\t time lapse 0.51078s\t ll change 0.00266\n",
      "  Iteration 15\t time lapse 0.51108s\t ll change 0.00242\n",
      "Initialization converged: False\t time lapse 8.83481s\t ll -26.91491\n"
     ]
    },
    {
     "name": "stderr",
     "output_type": "stream",
     "text": [
      "/home/av/.local/lib/python3.10/site-packages/sklearn/mixture/_base.py:274: ConvergenceWarning: Initialization 1 did not converge. Try different init parameters, or increase max_iter, tol or check for degenerate data.\n",
      "  warnings.warn(\n"
     ]
    },
    {
     "name": "stdout",
     "output_type": "stream",
     "text": [
      "Initialization 0\n",
      "  Iteration 1\t time lapse 1.61849s\t ll change inf\n",
      "  Iteration 2\t time lapse 0.52343s\t ll change 0.05515\n",
      "  Iteration 3\t time lapse 0.52406s\t ll change 0.02068\n",
      "  Iteration 4\t time lapse 0.52460s\t ll change 0.01358\n",
      "  Iteration 5\t time lapse 0.55314s\t ll change 0.01081\n",
      "  Iteration 6\t time lapse 0.52534s\t ll change 0.00915\n",
      "  Iteration 7\t time lapse 0.53781s\t ll change 0.00795\n",
      "  Iteration 8\t time lapse 0.52411s\t ll change 0.00713\n",
      "  Iteration 9\t time lapse 0.55879s\t ll change 0.00667\n",
      "  Iteration 10\t time lapse 0.54977s\t ll change 0.00647\n",
      "  Iteration 11\t time lapse 0.51929s\t ll change 0.00630\n",
      "  Iteration 12\t time lapse 0.53500s\t ll change 0.00585\n",
      "  Iteration 13\t time lapse 0.51718s\t ll change 0.00508\n",
      "  Iteration 14\t time lapse 0.53103s\t ll change 0.00422\n",
      "  Iteration 15\t time lapse 0.53134s\t ll change 0.00343\n",
      "Initialization converged: False\t time lapse 9.07378s\t ll -27.33979\n"
     ]
    },
    {
     "name": "stderr",
     "output_type": "stream",
     "text": [
      "/home/av/.local/lib/python3.10/site-packages/sklearn/mixture/_base.py:274: ConvergenceWarning: Initialization 1 did not converge. Try different init parameters, or increase max_iter, tol or check for degenerate data.\n",
      "  warnings.warn(\n",
      "100%|██████████| 600/600 [00:20<00:00, 29.25it/s]\n",
      "/home/av/IST/slp-labs/LAB2/pf_tools.py:89: UserWarning: The feature directory already exists, and no new feature extraction will be performed.\n",
      "  warnings.warn(\"The feature directory already exists, and no new feature extraction will be performed.\")\n"
     ]
    },
    {
     "name": "stdout",
     "output_type": "stream",
     "text": [
      "Accuracy Score: 0.6383333333333333\n",
      "Combination 6\n",
      "Initialization 0\n",
      "  Iteration 1\t time lapse 3.44480s\t ll change inf\n",
      "  Iteration 2\t time lapse 1.01014s\t ll change 1.41445\n",
      "  Iteration 3\t time lapse 1.00812s\t ll change 0.01989\n",
      "  Iteration 4\t time lapse 1.05385s\t ll change 0.01082\n",
      "  Iteration 5\t time lapse 1.03427s\t ll change 0.00718\n",
      "  Iteration 6\t time lapse 0.94363s\t ll change 0.00538\n",
      "  Iteration 7\t time lapse 0.97856s\t ll change 0.00438\n",
      "  Iteration 8\t time lapse 1.21084s\t ll change 0.00379\n",
      "  Iteration 9\t time lapse 1.12212s\t ll change 0.00343\n",
      "  Iteration 10\t time lapse 0.96401s\t ll change 0.00317\n",
      "  Iteration 11\t time lapse 1.00761s\t ll change 0.00296\n",
      "  Iteration 12\t time lapse 1.09122s\t ll change 0.00277\n",
      "  Iteration 13\t time lapse 0.94220s\t ll change 0.00256\n",
      "  Iteration 14\t time lapse 0.98598s\t ll change 0.00234\n",
      "  Iteration 15\t time lapse 0.93801s\t ll change 0.00213\n",
      "Initialization converged: False\t time lapse 17.73579s\t ll -27.04648\n"
     ]
    },
    {
     "name": "stderr",
     "output_type": "stream",
     "text": [
      "/home/av/.local/lib/python3.10/site-packages/sklearn/mixture/_base.py:274: ConvergenceWarning: Initialization 1 did not converge. Try different init parameters, or increase max_iter, tol or check for degenerate data.\n",
      "  warnings.warn(\n"
     ]
    },
    {
     "name": "stdout",
     "output_type": "stream",
     "text": [
      "Initialization 0\n",
      "  Iteration 1\t time lapse 3.39967s\t ll change inf\n",
      "  Iteration 2\t time lapse 1.42621s\t ll change 1.10721\n",
      "  Iteration 3\t time lapse 1.19865s\t ll change 0.01890\n",
      "  Iteration 4\t time lapse 1.29214s\t ll change 0.01109\n",
      "  Iteration 5\t time lapse 1.18521s\t ll change 0.00796\n",
      "  Iteration 6\t time lapse 1.10243s\t ll change 0.00631\n",
      "  Iteration 7\t time lapse 1.15800s\t ll change 0.00529\n",
      "  Iteration 8\t time lapse 1.12597s\t ll change 0.00460\n",
      "  Iteration 9\t time lapse 1.15305s\t ll change 0.00408\n",
      "  Iteration 10\t time lapse 1.18707s\t ll change 0.00367\n",
      "  Iteration 11\t time lapse 1.32685s\t ll change 0.00332\n",
      "  Iteration 12\t time lapse 1.07500s\t ll change 0.00302\n",
      "  Iteration 13\t time lapse 1.20631s\t ll change 0.00275\n",
      "  Iteration 14\t time lapse 1.13923s\t ll change 0.00252\n",
      "  Iteration 15\t time lapse 1.05257s\t ll change 0.00232\n",
      "Initialization converged: False\t time lapse 20.02849s\t ll -27.26032\n"
     ]
    },
    {
     "name": "stderr",
     "output_type": "stream",
     "text": [
      "/home/av/.local/lib/python3.10/site-packages/sklearn/mixture/_base.py:274: ConvergenceWarning: Initialization 1 did not converge. Try different init parameters, or increase max_iter, tol or check for degenerate data.\n",
      "  warnings.warn(\n"
     ]
    },
    {
     "name": "stdout",
     "output_type": "stream",
     "text": [
      "Initialization 0\n",
      "  Iteration 1\t time lapse 5.19434s\t ll change inf\n",
      "  Iteration 2\t time lapse 1.26100s\t ll change 1.23014\n",
      "  Iteration 3\t time lapse 1.01987s\t ll change 0.02313\n",
      "  Iteration 4\t time lapse 1.08297s\t ll change 0.01480\n",
      "  Iteration 5\t time lapse 1.03614s\t ll change 0.01051\n",
      "  Iteration 6\t time lapse 1.15523s\t ll change 0.00781\n",
      "  Iteration 7\t time lapse 1.06723s\t ll change 0.00603\n",
      "  Iteration 8\t time lapse 1.10829s\t ll change 0.00480\n",
      "  Iteration 9\t time lapse 1.31682s\t ll change 0.00391\n",
      "  Iteration 10\t time lapse 1.44083s\t ll change 0.00324\n",
      "  Iteration 11\t time lapse 1.11526s\t ll change 0.00272\n",
      "  Iteration 12\t time lapse 1.11597s\t ll change 0.00231\n",
      "  Iteration 13\t time lapse 1.05054s\t ll change 0.00199\n",
      "  Iteration 14\t time lapse 1.04390s\t ll change 0.00174\n",
      "  Iteration 15\t time lapse 1.04581s\t ll change 0.00153\n",
      "Initialization converged: False\t time lapse 21.05432s\t ll -27.67864\n"
     ]
    },
    {
     "name": "stderr",
     "output_type": "stream",
     "text": [
      "/home/av/.local/lib/python3.10/site-packages/sklearn/mixture/_base.py:274: ConvergenceWarning: Initialization 1 did not converge. Try different init parameters, or increase max_iter, tol or check for degenerate data.\n",
      "  warnings.warn(\n"
     ]
    },
    {
     "name": "stdout",
     "output_type": "stream",
     "text": [
      "Initialization 0\n",
      "  Iteration 1\t time lapse 3.88361s\t ll change inf\n",
      "  Iteration 2\t time lapse 0.94265s\t ll change 1.29211\n",
      "  Iteration 3\t time lapse 0.94076s\t ll change 0.02091\n",
      "  Iteration 4\t time lapse 0.93787s\t ll change 0.01214\n",
      "  Iteration 5\t time lapse 0.95881s\t ll change 0.00880\n",
      "  Iteration 6\t time lapse 0.93191s\t ll change 0.00719\n",
      "  Iteration 7\t time lapse 0.92907s\t ll change 0.00625\n",
      "  Iteration 8\t time lapse 0.95609s\t ll change 0.00560\n",
      "  Iteration 9\t time lapse 0.94573s\t ll change 0.00509\n",
      "  Iteration 10\t time lapse 0.96802s\t ll change 0.00466\n",
      "  Iteration 11\t time lapse 0.95357s\t ll change 0.00426\n",
      "  Iteration 12\t time lapse 0.94964s\t ll change 0.00397\n",
      "  Iteration 13\t time lapse 0.93117s\t ll change 0.00381\n",
      "  Iteration 14\t time lapse 0.94601s\t ll change 0.00370\n",
      "  Iteration 15\t time lapse 0.94071s\t ll change 0.00346\n",
      "Initialization converged: False\t time lapse 17.11575s\t ll -27.23288\n"
     ]
    },
    {
     "name": "stderr",
     "output_type": "stream",
     "text": [
      "/home/av/.local/lib/python3.10/site-packages/sklearn/mixture/_base.py:274: ConvergenceWarning: Initialization 1 did not converge. Try different init parameters, or increase max_iter, tol or check for degenerate data.\n",
      "  warnings.warn(\n"
     ]
    },
    {
     "name": "stdout",
     "output_type": "stream",
     "text": [
      "Initialization 0\n",
      "  Iteration 1\t time lapse 3.13532s\t ll change inf\n",
      "  Iteration 2\t time lapse 0.95129s\t ll change 1.52949\n",
      "  Iteration 3\t time lapse 0.88062s\t ll change 0.01996\n",
      "  Iteration 4\t time lapse 0.90348s\t ll change 0.01234\n",
      "  Iteration 5\t time lapse 0.89114s\t ll change 0.00935\n",
      "  Iteration 6\t time lapse 0.93835s\t ll change 0.00785\n",
      "  Iteration 7\t time lapse 0.90989s\t ll change 0.00698\n",
      "  Iteration 8\t time lapse 0.92575s\t ll change 0.00634\n",
      "  Iteration 9\t time lapse 0.88984s\t ll change 0.00573\n",
      "  Iteration 10\t time lapse 0.90174s\t ll change 0.00509\n",
      "  Iteration 11\t time lapse 0.89715s\t ll change 0.00445\n",
      "  Iteration 12\t time lapse 0.89474s\t ll change 0.00385\n",
      "  Iteration 13\t time lapse 0.88071s\t ll change 0.00333\n",
      "  Iteration 14\t time lapse 0.87196s\t ll change 0.00288\n",
      "  Iteration 15\t time lapse 0.88677s\t ll change 0.00250\n",
      "Initialization converged: False\t time lapse 15.75922s\t ll -26.83583\n"
     ]
    },
    {
     "name": "stderr",
     "output_type": "stream",
     "text": [
      "/home/av/.local/lib/python3.10/site-packages/sklearn/mixture/_base.py:274: ConvergenceWarning: Initialization 1 did not converge. Try different init parameters, or increase max_iter, tol or check for degenerate data.\n",
      "  warnings.warn(\n"
     ]
    },
    {
     "name": "stdout",
     "output_type": "stream",
     "text": [
      "Initialization 0\n",
      "  Iteration 1\t time lapse 3.35065s\t ll change inf\n",
      "  Iteration 2\t time lapse 0.91774s\t ll change 0.05805\n",
      "  Iteration 3\t time lapse 0.94245s\t ll change 0.02022\n",
      "  Iteration 4\t time lapse 0.92884s\t ll change 0.01250\n",
      "  Iteration 5\t time lapse 0.92758s\t ll change 0.00958\n",
      "  Iteration 6\t time lapse 0.92544s\t ll change 0.00784\n",
      "  Iteration 7\t time lapse 0.91939s\t ll change 0.00651\n",
      "  Iteration 8\t time lapse 0.91575s\t ll change 0.00547\n",
      "  Iteration 9\t time lapse 0.92780s\t ll change 0.00466\n",
      "  Iteration 10\t time lapse 0.98185s\t ll change 0.00403\n",
      "  Iteration 11\t time lapse 0.94919s\t ll change 0.00350\n",
      "  Iteration 12\t time lapse 0.94924s\t ll change 0.00300\n",
      "  Iteration 13\t time lapse 0.95573s\t ll change 0.00254\n",
      "  Iteration 14\t time lapse 0.98287s\t ll change 0.00217\n",
      "  Iteration 15\t time lapse 0.99382s\t ll change 0.00190\n",
      "Initialization converged: False\t time lapse 16.56873s\t ll -27.25275\n"
     ]
    },
    {
     "name": "stderr",
     "output_type": "stream",
     "text": [
      "/home/av/.local/lib/python3.10/site-packages/sklearn/mixture/_base.py:274: ConvergenceWarning: Initialization 1 did not converge. Try different init parameters, or increase max_iter, tol or check for degenerate data.\n",
      "  warnings.warn(\n",
      "100%|██████████| 600/600 [00:30<00:00, 19.71it/s]\n",
      "/home/av/IST/slp-labs/LAB2/pf_tools.py:89: UserWarning: The feature directory already exists, and no new feature extraction will be performed.\n",
      "  warnings.warn(\"The feature directory already exists, and no new feature extraction will be performed.\")\n"
     ]
    },
    {
     "name": "stdout",
     "output_type": "stream",
     "text": [
      "Accuracy Score: 0.6733333333333333\n",
      "Combination 7\n",
      "Initialization 0\n",
      "  Iteration 1\t time lapse 0.95065s\t ll change inf\n",
      "  Iteration 2\t time lapse 0.35078s\t ll change 1.61599\n",
      "  Iteration 3\t time lapse 0.34907s\t ll change 0.02097\n",
      "  Iteration 4\t time lapse 0.32550s\t ll change 0.01641\n",
      "  Iteration 5\t time lapse 0.33251s\t ll change 0.01294\n",
      "  Iteration 6\t time lapse 0.33318s\t ll change 0.00945\n",
      "  Iteration 7\t time lapse 0.32597s\t ll change 0.00674\n",
      "  Iteration 8\t time lapse 0.33289s\t ll change 0.00495\n",
      "  Iteration 9\t time lapse 0.33695s\t ll change 0.00383\n",
      "  Iteration 10\t time lapse 0.32554s\t ll change 0.00312\n",
      "  Iteration 11\t time lapse 0.34186s\t ll change 0.00264\n",
      "  Iteration 12\t time lapse 0.33334s\t ll change 0.00228\n",
      "  Iteration 13\t time lapse 0.32690s\t ll change 0.00199\n",
      "  Iteration 14\t time lapse 0.33814s\t ll change 0.00174\n",
      "  Iteration 15\t time lapse 0.34034s\t ll change 0.00150\n",
      "Initialization converged: False\t time lapse 5.64367s\t ll -27.27466\n"
     ]
    },
    {
     "name": "stderr",
     "output_type": "stream",
     "text": [
      "/home/av/.local/lib/python3.10/site-packages/sklearn/mixture/_base.py:274: ConvergenceWarning: Initialization 1 did not converge. Try different init parameters, or increase max_iter, tol or check for degenerate data.\n",
      "  warnings.warn(\n"
     ]
    },
    {
     "name": "stdout",
     "output_type": "stream",
     "text": [
      "Initialization 0\n",
      "  Iteration 1\t time lapse 0.79180s\t ll change inf\n",
      "  Iteration 2\t time lapse 0.35154s\t ll change 1.33364\n",
      "  Iteration 3\t time lapse 0.34555s\t ll change 0.02021\n",
      "  Iteration 4\t time lapse 0.34138s\t ll change 0.01318\n",
      "  Iteration 5\t time lapse 0.34412s\t ll change 0.00922\n",
      "  Iteration 6\t time lapse 0.34617s\t ll change 0.00645\n",
      "  Iteration 7\t time lapse 0.34926s\t ll change 0.00453\n",
      "  Iteration 8\t time lapse 0.34563s\t ll change 0.00327\n",
      "  Iteration 9\t time lapse 0.35072s\t ll change 0.00249\n",
      "  Iteration 10\t time lapse 0.34831s\t ll change 0.00203\n",
      "  Iteration 11\t time lapse 0.35389s\t ll change 0.00177\n",
      "  Iteration 12\t time lapse 0.35924s\t ll change 0.00162\n",
      "  Iteration 13\t time lapse 0.36754s\t ll change 0.00152\n",
      "  Iteration 14\t time lapse 0.34533s\t ll change 0.00144\n",
      "  Iteration 15\t time lapse 0.36748s\t ll change 0.00134\n",
      "Initialization converged: False\t time lapse 5.70802s\t ll -27.50129\n"
     ]
    },
    {
     "name": "stderr",
     "output_type": "stream",
     "text": [
      "/home/av/.local/lib/python3.10/site-packages/sklearn/mixture/_base.py:274: ConvergenceWarning: Initialization 1 did not converge. Try different init parameters, or increase max_iter, tol or check for degenerate data.\n",
      "  warnings.warn(\n"
     ]
    },
    {
     "name": "stdout",
     "output_type": "stream",
     "text": [
      "Initialization 0\n",
      "  Iteration 1\t time lapse 1.12374s\t ll change inf\n",
      "  Iteration 2\t time lapse 0.39042s\t ll change 1.44780\n",
      "  Iteration 3\t time lapse 0.38213s\t ll change 0.02241\n",
      "  Iteration 4\t time lapse 0.37391s\t ll change 0.01413\n",
      "  Iteration 5\t time lapse 0.37117s\t ll change 0.01046\n",
      "  Iteration 6\t time lapse 0.39953s\t ll change 0.00811\n",
      "  Iteration 7\t time lapse 0.36596s\t ll change 0.00627\n",
      "  Iteration 8\t time lapse 0.38373s\t ll change 0.00480\n",
      "  Iteration 9\t time lapse 0.37049s\t ll change 0.00366\n",
      "  Iteration 10\t time lapse 0.37886s\t ll change 0.00281\n",
      "  Iteration 11\t time lapse 0.37341s\t ll change 0.00219\n",
      "  Iteration 12\t time lapse 0.37114s\t ll change 0.00173\n",
      "  Iteration 13\t time lapse 0.39255s\t ll change 0.00139\n",
      "  Iteration 14\t time lapse 0.37574s\t ll change 0.00113\n",
      "  Iteration 15\t time lapse 0.37147s\t ll change 0.00092\n",
      "Initialization converged: True\t time lapse 6.42430s\t ll -27.97369\n",
      "Initialization 0\n",
      "  Iteration 1\t time lapse 0.91636s\t ll change inf\n",
      "  Iteration 2\t time lapse 0.35493s\t ll change 1.46652\n",
      "  Iteration 3\t time lapse 0.35286s\t ll change 0.02420\n",
      "  Iteration 4\t time lapse 0.34163s\t ll change 0.01674\n",
      "  Iteration 5\t time lapse 0.33556s\t ll change 0.01202\n",
      "  Iteration 6\t time lapse 0.33137s\t ll change 0.00860\n",
      "  Iteration 7\t time lapse 0.34772s\t ll change 0.00610\n",
      "  Iteration 8\t time lapse 0.34027s\t ll change 0.00429\n",
      "  Iteration 9\t time lapse 0.35722s\t ll change 0.00302\n",
      "  Iteration 10\t time lapse 0.34047s\t ll change 0.00216\n",
      "  Iteration 11\t time lapse 0.33932s\t ll change 0.00156\n",
      "  Iteration 12\t time lapse 0.35012s\t ll change 0.00115\n",
      "  Iteration 13\t time lapse 0.33667s\t ll change 0.00086\n",
      "Initialization converged: True\t time lapse 5.04456s\t ll -27.43314\n",
      "Initialization 0\n",
      "  Iteration 1\t time lapse 0.74247s\t ll change inf\n",
      "  Iteration 2\t time lapse 0.32181s\t ll change 1.76584\n",
      "  Iteration 3\t time lapse 0.32469s\t ll change 0.01352\n",
      "  Iteration 4\t time lapse 0.32190s\t ll change 0.00919\n",
      "  Iteration 5\t time lapse 0.32183s\t ll change 0.00777\n",
      "  Iteration 6\t time lapse 0.37418s\t ll change 0.00722\n",
      "  Iteration 7\t time lapse 0.32559s\t ll change 0.00674\n",
      "  Iteration 8\t time lapse 0.32562s\t ll change 0.00597\n",
      "  Iteration 9\t time lapse 0.32524s\t ll change 0.00502\n",
      "  Iteration 10\t time lapse 0.33554s\t ll change 0.00406\n",
      "  Iteration 11\t time lapse 0.37918s\t ll change 0.00326\n",
      "  Iteration 12\t time lapse 0.45811s\t ll change 0.00265\n",
      "  Iteration 13\t time lapse 0.37099s\t ll change 0.00220\n",
      "  Iteration 14\t time lapse 0.35091s\t ll change 0.00188\n",
      "  Iteration 15\t time lapse 0.38189s\t ll change 0.00165\n",
      "Initialization converged: False\t time lapse 5.66001s\t ll -27.09617\n"
     ]
    },
    {
     "name": "stderr",
     "output_type": "stream",
     "text": [
      "/home/av/.local/lib/python3.10/site-packages/sklearn/mixture/_base.py:274: ConvergenceWarning: Initialization 1 did not converge. Try different init parameters, or increase max_iter, tol or check for degenerate data.\n",
      "  warnings.warn(\n"
     ]
    },
    {
     "name": "stdout",
     "output_type": "stream",
     "text": [
      "Initialization 0\n",
      "  Iteration 1\t time lapse 0.84899s\t ll change inf\n",
      "  Iteration 2\t time lapse 0.33385s\t ll change 1.18762\n",
      "  Iteration 3\t time lapse 0.31897s\t ll change 0.01513\n",
      "  Iteration 4\t time lapse 0.32424s\t ll change 0.00991\n",
      "  Iteration 5\t time lapse 0.32318s\t ll change 0.00811\n",
      "  Iteration 6\t time lapse 0.32268s\t ll change 0.00744\n",
      "  Iteration 7\t time lapse 0.31950s\t ll change 0.00737\n",
      "  Iteration 8\t time lapse 0.32452s\t ll change 0.00768\n",
      "  Iteration 9\t time lapse 0.31930s\t ll change 0.00800\n",
      "  Iteration 10\t time lapse 0.32444s\t ll change 0.00765\n",
      "  Iteration 11\t time lapse 0.32907s\t ll change 0.00633\n",
      "  Iteration 12\t time lapse 0.32717s\t ll change 0.00461\n",
      "  Iteration 13\t time lapse 0.32843s\t ll change 0.00317\n",
      "  Iteration 14\t time lapse 0.33512s\t ll change 0.00219\n",
      "  Iteration 15\t time lapse 0.32382s\t ll change 0.00158\n",
      "Initialization converged: False\t time lapse 5.40333s\t ll -27.47515\n"
     ]
    },
    {
     "name": "stderr",
     "output_type": "stream",
     "text": [
      "/home/av/.local/lib/python3.10/site-packages/sklearn/mixture/_base.py:274: ConvergenceWarning: Initialization 1 did not converge. Try different init parameters, or increase max_iter, tol or check for degenerate data.\n",
      "  warnings.warn(\n",
      "100%|██████████| 600/600 [00:11<00:00, 50.83it/s]\n",
      "/home/av/IST/slp-labs/LAB2/pf_tools.py:89: UserWarning: The feature directory already exists, and no new feature extraction will be performed.\n",
      "  warnings.warn(\"The feature directory already exists, and no new feature extraction will be performed.\")\n"
     ]
    },
    {
     "name": "stdout",
     "output_type": "stream",
     "text": [
      "Accuracy Score: 0.5816666666666667\n",
      "Combination 8\n",
      "Initialization 0\n",
      "  Iteration 1\t time lapse 1.83385s\t ll change inf\n",
      "  Iteration 2\t time lapse 0.53637s\t ll change 1.45720\n",
      "  Iteration 3\t time lapse 0.51620s\t ll change 0.01882\n",
      "  Iteration 4\t time lapse 0.51525s\t ll change 0.01166\n",
      "  Iteration 5\t time lapse 0.52722s\t ll change 0.00857\n",
      "  Iteration 6\t time lapse 0.52652s\t ll change 0.00683\n",
      "  Iteration 7\t time lapse 0.53185s\t ll change 0.00563\n",
      "  Iteration 8\t time lapse 0.53994s\t ll change 0.00468\n",
      "  Iteration 9\t time lapse 0.53215s\t ll change 0.00394\n",
      "  Iteration 10\t time lapse 0.54458s\t ll change 0.00342\n",
      "  Iteration 11\t time lapse 0.52799s\t ll change 0.00307\n",
      "  Iteration 12\t time lapse 0.54635s\t ll change 0.00283\n",
      "  Iteration 13\t time lapse 0.58056s\t ll change 0.00264\n",
      "  Iteration 14\t time lapse 0.52289s\t ll change 0.00247\n",
      "  Iteration 15\t time lapse 0.57138s\t ll change 0.00229\n",
      "Initialization converged: False\t time lapse 9.35349s\t ll -27.15485\n"
     ]
    },
    {
     "name": "stderr",
     "output_type": "stream",
     "text": [
      "/home/av/.local/lib/python3.10/site-packages/sklearn/mixture/_base.py:274: ConvergenceWarning: Initialization 1 did not converge. Try different init parameters, or increase max_iter, tol or check for degenerate data.\n",
      "  warnings.warn(\n"
     ]
    },
    {
     "name": "stdout",
     "output_type": "stream",
     "text": [
      "Initialization 0\n",
      "  Iteration 1\t time lapse 2.22817s\t ll change inf\n",
      "  Iteration 2\t time lapse 0.65522s\t ll change 1.19813\n",
      "  Iteration 3\t time lapse 0.64567s\t ll change 0.02016\n",
      "  Iteration 4\t time lapse 0.62700s\t ll change 0.01287\n",
      "  Iteration 5\t time lapse 0.67362s\t ll change 0.00940\n",
      "  Iteration 6\t time lapse 0.64066s\t ll change 0.00722\n",
      "  Iteration 7\t time lapse 0.63583s\t ll change 0.00571\n",
      "  Iteration 8\t time lapse 0.63119s\t ll change 0.00464\n",
      "  Iteration 9\t time lapse 0.66393s\t ll change 0.00390\n",
      "  Iteration 10\t time lapse 0.62160s\t ll change 0.00342\n",
      "  Iteration 11\t time lapse 0.64255s\t ll change 0.00312\n",
      "  Iteration 12\t time lapse 0.63823s\t ll change 0.00294\n",
      "  Iteration 13\t time lapse 0.65180s\t ll change 0.00279\n",
      "  Iteration 14\t time lapse 0.63709s\t ll change 0.00260\n",
      "  Iteration 15\t time lapse 0.65389s\t ll change 0.00231\n",
      "Initialization converged: False\t time lapse 11.24657s\t ll -27.36285\n"
     ]
    },
    {
     "name": "stderr",
     "output_type": "stream",
     "text": [
      "/home/av/.local/lib/python3.10/site-packages/sklearn/mixture/_base.py:274: ConvergenceWarning: Initialization 1 did not converge. Try different init parameters, or increase max_iter, tol or check for degenerate data.\n",
      "  warnings.warn(\n"
     ]
    },
    {
     "name": "stdout",
     "output_type": "stream",
     "text": [
      "Initialization 0\n",
      "  Iteration 1\t time lapse 1.71931s\t ll change inf\n",
      "  Iteration 2\t time lapse 0.61680s\t ll change 1.30389\n",
      "  Iteration 3\t time lapse 0.64504s\t ll change 0.02293\n",
      "  Iteration 4\t time lapse 0.63489s\t ll change 0.01388\n",
      "  Iteration 5\t time lapse 0.62118s\t ll change 0.00924\n",
      "  Iteration 6\t time lapse 0.61874s\t ll change 0.00651\n",
      "  Iteration 7\t time lapse 0.62416s\t ll change 0.00484\n",
      "  Iteration 8\t time lapse 0.63474s\t ll change 0.00381\n",
      "  Iteration 9\t time lapse 0.63230s\t ll change 0.00315\n",
      "  Iteration 10\t time lapse 0.62825s\t ll change 0.00272\n",
      "  Iteration 11\t time lapse 0.64239s\t ll change 0.00240\n",
      "  Iteration 12\t time lapse 0.63007s\t ll change 0.00214\n",
      "  Iteration 13\t time lapse 0.63325s\t ll change 0.00190\n",
      "  Iteration 14\t time lapse 0.63389s\t ll change 0.00167\n",
      "  Iteration 15\t time lapse 0.68148s\t ll change 0.00146\n",
      "Initialization converged: False\t time lapse 10.59690s\t ll -27.81864\n"
     ]
    },
    {
     "name": "stderr",
     "output_type": "stream",
     "text": [
      "/home/av/.local/lib/python3.10/site-packages/sklearn/mixture/_base.py:274: ConvergenceWarning: Initialization 1 did not converge. Try different init parameters, or increase max_iter, tol or check for degenerate data.\n",
      "  warnings.warn(\n"
     ]
    },
    {
     "name": "stdout",
     "output_type": "stream",
     "text": [
      "Initialization 0\n",
      "  Iteration 1\t time lapse 1.98624s\t ll change inf\n",
      "  Iteration 2\t time lapse 0.54386s\t ll change 1.38629\n",
      "  Iteration 3\t time lapse 0.53046s\t ll change 0.02270\n",
      "  Iteration 4\t time lapse 0.54635s\t ll change 0.01556\n",
      "  Iteration 5\t time lapse 0.52948s\t ll change 0.01240\n",
      "  Iteration 6\t time lapse 0.54414s\t ll change 0.01022\n",
      "  Iteration 7\t time lapse 0.54056s\t ll change 0.00848\n",
      "  Iteration 8\t time lapse 0.58332s\t ll change 0.00718\n",
      "  Iteration 9\t time lapse 0.53514s\t ll change 0.00624\n",
      "  Iteration 10\t time lapse 0.68105s\t ll change 0.00547\n",
      "  Iteration 11\t time lapse 0.68703s\t ll change 0.00476\n",
      "  Iteration 12\t time lapse 0.61454s\t ll change 0.00407\n",
      "  Iteration 13\t time lapse 0.64690s\t ll change 0.00340\n",
      "  Iteration 14\t time lapse 0.62366s\t ll change 0.00278\n",
      "  Iteration 15\t time lapse 0.53723s\t ll change 0.00222\n",
      "Initialization converged: False\t time lapse 10.13009s\t ll -27.31519\n"
     ]
    },
    {
     "name": "stderr",
     "output_type": "stream",
     "text": [
      "/home/av/.local/lib/python3.10/site-packages/sklearn/mixture/_base.py:274: ConvergenceWarning: Initialization 1 did not converge. Try different init parameters, or increase max_iter, tol or check for degenerate data.\n",
      "  warnings.warn(\n"
     ]
    },
    {
     "name": "stdout",
     "output_type": "stream",
     "text": [
      "Initialization 0\n",
      "  Iteration 1\t time lapse 1.86287s\t ll change inf\n",
      "  Iteration 2\t time lapse 0.50646s\t ll change 1.58270\n",
      "  Iteration 3\t time lapse 0.51829s\t ll change 0.01792\n",
      "  Iteration 4\t time lapse 0.51178s\t ll change 0.01222\n",
      "  Iteration 5\t time lapse 0.52929s\t ll change 0.01033\n",
      "  Iteration 6\t time lapse 0.50069s\t ll change 0.00975\n",
      "  Iteration 7\t time lapse 0.51606s\t ll change 0.00936\n",
      "  Iteration 8\t time lapse 0.50142s\t ll change 0.00848\n",
      "  Iteration 9\t time lapse 0.50783s\t ll change 0.00719\n",
      "  Iteration 10\t time lapse 0.50613s\t ll change 0.00582\n",
      "  Iteration 11\t time lapse 0.50845s\t ll change 0.00457\n",
      "  Iteration 12\t time lapse 0.50818s\t ll change 0.00352\n",
      "  Iteration 13\t time lapse 0.51914s\t ll change 0.00273\n",
      "  Iteration 14\t time lapse 0.49702s\t ll change 0.00217\n",
      "  Iteration 15\t time lapse 0.51464s\t ll change 0.00179\n",
      "Initialization converged: False\t time lapse 9.00862s\t ll -26.91057\n"
     ]
    },
    {
     "name": "stderr",
     "output_type": "stream",
     "text": [
      "/home/av/.local/lib/python3.10/site-packages/sklearn/mixture/_base.py:274: ConvergenceWarning: Initialization 1 did not converge. Try different init parameters, or increase max_iter, tol or check for degenerate data.\n",
      "  warnings.warn(\n"
     ]
    },
    {
     "name": "stdout",
     "output_type": "stream",
     "text": [
      "Initialization 0\n",
      "  Iteration 1\t time lapse 1.39285s\t ll change inf\n",
      "  Iteration 2\t time lapse 0.55614s\t ll change 0.05574\n",
      "  Iteration 3\t time lapse 0.54970s\t ll change 0.02166\n",
      "  Iteration 4\t time lapse 0.52015s\t ll change 0.01427\n",
      "  Iteration 5\t time lapse 0.54607s\t ll change 0.01115\n",
      "  Iteration 6\t time lapse 0.53197s\t ll change 0.00918\n",
      "  Iteration 7\t time lapse 0.52248s\t ll change 0.00772\n",
      "  Iteration 8\t time lapse 0.53626s\t ll change 0.00667\n",
      "  Iteration 9\t time lapse 0.54708s\t ll change 0.00593\n",
      "  Iteration 10\t time lapse 0.51607s\t ll change 0.00537\n",
      "  Iteration 11\t time lapse 0.54175s\t ll change 0.00487\n",
      "  Iteration 12\t time lapse 0.53779s\t ll change 0.00437\n",
      "  Iteration 13\t time lapse 0.58958s\t ll change 0.00388\n",
      "  Iteration 14\t time lapse 0.54481s\t ll change 0.00341\n",
      "  Iteration 15\t time lapse 0.59188s\t ll change 0.00294\n",
      "Initialization converged: False\t time lapse 9.02495s\t ll -27.33968\n"
     ]
    },
    {
     "name": "stderr",
     "output_type": "stream",
     "text": [
      "/home/av/.local/lib/python3.10/site-packages/sklearn/mixture/_base.py:274: ConvergenceWarning: Initialization 1 did not converge. Try different init parameters, or increase max_iter, tol or check for degenerate data.\n",
      "  warnings.warn(\n",
      "100%|██████████| 600/600 [00:18<00:00, 32.76it/s]\n",
      "/home/av/IST/slp-labs/LAB2/pf_tools.py:89: UserWarning: The feature directory already exists, and no new feature extraction will be performed.\n",
      "  warnings.warn(\"The feature directory already exists, and no new feature extraction will be performed.\")\n"
     ]
    },
    {
     "name": "stdout",
     "output_type": "stream",
     "text": [
      "Accuracy Score: 0.6433333333333333\n",
      "Combination 9\n",
      "Initialization 0\n",
      "  Iteration 1\t time lapse 3.17368s\t ll change inf\n",
      "  Iteration 2\t time lapse 0.92224s\t ll change 1.41426\n",
      "  Iteration 3\t time lapse 0.91586s\t ll change 0.02043\n",
      "  Iteration 4\t time lapse 0.93792s\t ll change 0.01165\n",
      "  Iteration 5\t time lapse 0.92434s\t ll change 0.00807\n",
      "  Iteration 6\t time lapse 0.92393s\t ll change 0.00624\n",
      "  Iteration 7\t time lapse 0.93037s\t ll change 0.00517\n",
      "  Iteration 8\t time lapse 0.94966s\t ll change 0.00447\n",
      "  Iteration 9\t time lapse 0.90568s\t ll change 0.00394\n",
      "  Iteration 10\t time lapse 0.99047s\t ll change 0.00351\n",
      "  Iteration 11\t time lapse 1.16805s\t ll change 0.00313\n",
      "  Iteration 12\t time lapse 0.95271s\t ll change 0.00279\n",
      "  Iteration 13\t time lapse 0.95964s\t ll change 0.00249\n",
      "  Iteration 14\t time lapse 0.91856s\t ll change 0.00224\n",
      "  Iteration 15\t time lapse 0.99513s\t ll change 0.00204\n",
      "Initialization converged: False\t time lapse 16.56836s\t ll -27.05114\n"
     ]
    },
    {
     "name": "stderr",
     "output_type": "stream",
     "text": [
      "/home/av/.local/lib/python3.10/site-packages/sklearn/mixture/_base.py:274: ConvergenceWarning: Initialization 1 did not converge. Try different init parameters, or increase max_iter, tol or check for degenerate data.\n",
      "  warnings.warn(\n"
     ]
    },
    {
     "name": "stdout",
     "output_type": "stream",
     "text": [
      "Initialization 0\n",
      "  Iteration 1\t time lapse 4.40122s\t ll change inf\n",
      "  Iteration 2\t time lapse 0.99846s\t ll change 1.06414\n",
      "  Iteration 3\t time lapse 0.97463s\t ll change 0.01943\n",
      "  Iteration 4\t time lapse 0.96500s\t ll change 0.01148\n",
      "  Iteration 5\t time lapse 0.99292s\t ll change 0.00822\n",
      "  Iteration 6\t time lapse 0.99874s\t ll change 0.00654\n",
      "  Iteration 7\t time lapse 1.01068s\t ll change 0.00555\n",
      "  Iteration 8\t time lapse 0.99743s\t ll change 0.00492\n",
      "  Iteration 9\t time lapse 1.00425s\t ll change 0.00445\n",
      "  Iteration 10\t time lapse 0.99419s\t ll change 0.00406\n",
      "  Iteration 11\t time lapse 0.98866s\t ll change 0.00369\n",
      "  Iteration 12\t time lapse 1.00446s\t ll change 0.00333\n",
      "  Iteration 13\t time lapse 1.01729s\t ll change 0.00298\n",
      "  Iteration 14\t time lapse 1.09910s\t ll change 0.00266\n",
      "  Iteration 15\t time lapse 0.99563s\t ll change 0.00238\n",
      "Initialization converged: False\t time lapse 18.44280s\t ll -27.26088\n"
     ]
    },
    {
     "name": "stderr",
     "output_type": "stream",
     "text": [
      "/home/av/.local/lib/python3.10/site-packages/sklearn/mixture/_base.py:274: ConvergenceWarning: Initialization 1 did not converge. Try different init parameters, or increase max_iter, tol or check for degenerate data.\n",
      "  warnings.warn(\n"
     ]
    },
    {
     "name": "stdout",
     "output_type": "stream",
     "text": [
      "Initialization 0\n",
      "  Iteration 1\t time lapse 3.80379s\t ll change inf\n",
      "  Iteration 2\t time lapse 1.21760s\t ll change 1.23048\n",
      "  Iteration 3\t time lapse 1.03683s\t ll change 0.02366\n",
      "  Iteration 4\t time lapse 1.02524s\t ll change 0.01547\n",
      "  Iteration 5\t time lapse 1.04245s\t ll change 0.01117\n",
      "  Iteration 6\t time lapse 1.03067s\t ll change 0.00823\n",
      "  Iteration 7\t time lapse 1.05455s\t ll change 0.00621\n",
      "  Iteration 8\t time lapse 1.01417s\t ll change 0.00487\n",
      "  Iteration 9\t time lapse 1.09905s\t ll change 0.00399\n",
      "  Iteration 10\t time lapse 1.04643s\t ll change 0.00339\n",
      "  Iteration 11\t time lapse 1.03183s\t ll change 0.00295\n",
      "  Iteration 12\t time lapse 1.03492s\t ll change 0.00261\n",
      "  Iteration 13\t time lapse 1.02355s\t ll change 0.00233\n",
      "  Iteration 14\t time lapse 1.02692s\t ll change 0.00210\n",
      "  Iteration 15\t time lapse 1.01188s\t ll change 0.00189\n",
      "Initialization converged: False\t time lapse 18.50031s\t ll -27.67913\n"
     ]
    },
    {
     "name": "stderr",
     "output_type": "stream",
     "text": [
      "/home/av/.local/lib/python3.10/site-packages/sklearn/mixture/_base.py:274: ConvergenceWarning: Initialization 1 did not converge. Try different init parameters, or increase max_iter, tol or check for degenerate data.\n",
      "  warnings.warn(\n"
     ]
    },
    {
     "name": "stdout",
     "output_type": "stream",
     "text": [
      "Initialization 0\n",
      "  Iteration 1\t time lapse 3.30469s\t ll change inf\n",
      "  Iteration 2\t time lapse 0.93298s\t ll change 1.18038\n",
      "  Iteration 3\t time lapse 0.94710s\t ll change 0.02067\n",
      "  Iteration 4\t time lapse 1.00310s\t ll change 0.01337\n",
      "  Iteration 5\t time lapse 0.95014s\t ll change 0.01080\n",
      "  Iteration 6\t time lapse 0.95718s\t ll change 0.00939\n",
      "  Iteration 7\t time lapse 0.94473s\t ll change 0.00836\n",
      "  Iteration 8\t time lapse 0.95180s\t ll change 0.00752\n",
      "  Iteration 9\t time lapse 0.96121s\t ll change 0.00669\n",
      "  Iteration 10\t time lapse 0.93135s\t ll change 0.00586\n",
      "  Iteration 11\t time lapse 1.00970s\t ll change 0.00517\n",
      "  Iteration 12\t time lapse 0.94963s\t ll change 0.00451\n",
      "  Iteration 13\t time lapse 0.96300s\t ll change 0.00408\n",
      "  Iteration 14\t time lapse 0.95282s\t ll change 0.00418\n",
      "  Iteration 15\t time lapse 0.96664s\t ll change 0.00497\n",
      "Initialization converged: False\t time lapse 16.72619s\t ll -27.22165\n"
     ]
    },
    {
     "name": "stderr",
     "output_type": "stream",
     "text": [
      "/home/av/.local/lib/python3.10/site-packages/sklearn/mixture/_base.py:274: ConvergenceWarning: Initialization 1 did not converge. Try different init parameters, or increase max_iter, tol or check for degenerate data.\n",
      "  warnings.warn(\n"
     ]
    },
    {
     "name": "stdout",
     "output_type": "stream",
     "text": [
      "Initialization 0\n",
      "  Iteration 1\t time lapse 3.56764s\t ll change inf\n",
      "  Iteration 2\t time lapse 1.02115s\t ll change 1.53020\n",
      "  Iteration 3\t time lapse 1.02421s\t ll change 0.02039\n",
      "  Iteration 4\t time lapse 1.02107s\t ll change 0.01237\n",
      "  Iteration 5\t time lapse 0.97827s\t ll change 0.00914\n",
      "  Iteration 6\t time lapse 0.88976s\t ll change 0.00720\n",
      "  Iteration 7\t time lapse 0.89201s\t ll change 0.00580\n",
      "  Iteration 8\t time lapse 0.90033s\t ll change 0.00475\n",
      "  Iteration 9\t time lapse 0.91787s\t ll change 0.00397\n",
      "  Iteration 10\t time lapse 0.88454s\t ll change 0.00337\n",
      "  Iteration 11\t time lapse 0.90122s\t ll change 0.00288\n",
      "  Iteration 12\t time lapse 0.89725s\t ll change 0.00250\n",
      "  Iteration 13\t time lapse 0.88327s\t ll change 0.00218\n",
      "  Iteration 14\t time lapse 0.90420s\t ll change 0.00193\n",
      "  Iteration 15\t time lapse 0.88382s\t ll change 0.00171\n",
      "Initialization converged: False\t time lapse 16.56707s\t ll -26.84133\n"
     ]
    },
    {
     "name": "stderr",
     "output_type": "stream",
     "text": [
      "/home/av/.local/lib/python3.10/site-packages/sklearn/mixture/_base.py:274: ConvergenceWarning: Initialization 1 did not converge. Try different init parameters, or increase max_iter, tol or check for degenerate data.\n",
      "  warnings.warn(\n"
     ]
    },
    {
     "name": "stdout",
     "output_type": "stream",
     "text": [
      "Initialization 0\n",
      "  Iteration 1\t time lapse 3.61918s\t ll change inf\n",
      "  Iteration 2\t time lapse 0.91331s\t ll change 0.05955\n",
      "  Iteration 3\t time lapse 0.92525s\t ll change 0.02017\n",
      "  Iteration 4\t time lapse 0.93120s\t ll change 0.01143\n",
      "  Iteration 5\t time lapse 0.92710s\t ll change 0.00780\n",
      "  Iteration 6\t time lapse 0.93473s\t ll change 0.00574\n",
      "  Iteration 7\t time lapse 0.93913s\t ll change 0.00441\n",
      "  Iteration 8\t time lapse 0.92136s\t ll change 0.00354\n",
      "  Iteration 9\t time lapse 0.92398s\t ll change 0.00297\n",
      "  Iteration 10\t time lapse 0.92644s\t ll change 0.00259\n",
      "  Iteration 11\t time lapse 0.95147s\t ll change 0.00235\n",
      "  Iteration 12\t time lapse 0.95455s\t ll change 0.00222\n",
      "  Iteration 13\t time lapse 0.90470s\t ll change 0.00219\n",
      "  Iteration 14\t time lapse 0.92497s\t ll change 0.00222\n",
      "  Iteration 15\t time lapse 0.92986s\t ll change 0.00230\n",
      "Initialization converged: False\t time lapse 16.62767s\t ll -27.26443\n"
     ]
    },
    {
     "name": "stderr",
     "output_type": "stream",
     "text": [
      "/home/av/.local/lib/python3.10/site-packages/sklearn/mixture/_base.py:274: ConvergenceWarning: Initialization 1 did not converge. Try different init parameters, or increase max_iter, tol or check for degenerate data.\n",
      "  warnings.warn(\n",
      "100%|██████████| 600/600 [00:27<00:00, 21.62it/s]\n",
      "/home/av/IST/slp-labs/LAB2/pf_tools.py:89: UserWarning: The feature directory already exists, and no new feature extraction will be performed.\n",
      "  warnings.warn(\"The feature directory already exists, and no new feature extraction will be performed.\")\n"
     ]
    },
    {
     "name": "stdout",
     "output_type": "stream",
     "text": [
      "Accuracy Score: 0.67\n",
      "Combination 10\n",
      "Initialization 0\n",
      "  Iteration 1\t time lapse 0.78510s\t ll change inf\n",
      "  Iteration 2\t time lapse 0.36904s\t ll change 1.62886\n",
      "  Iteration 3\t time lapse 0.36861s\t ll change 0.02218\n",
      "  Iteration 4\t time lapse 0.38899s\t ll change 0.01647\n",
      "  Iteration 5\t time lapse 0.36960s\t ll change 0.01216\n",
      "  Iteration 6\t time lapse 0.36932s\t ll change 0.00859\n",
      "  Iteration 7\t time lapse 0.36868s\t ll change 0.00611\n",
      "  Iteration 8\t time lapse 0.36580s\t ll change 0.00453\n",
      "  Iteration 9\t time lapse 0.36705s\t ll change 0.00355\n",
      "  Iteration 10\t time lapse 0.33594s\t ll change 0.00291\n",
      "  Iteration 11\t time lapse 0.33265s\t ll change 0.00247\n",
      "  Iteration 12\t time lapse 0.35120s\t ll change 0.00213\n",
      "  Iteration 13\t time lapse 0.33177s\t ll change 0.00185\n",
      "  Iteration 14\t time lapse 0.32896s\t ll change 0.00161\n",
      "  Iteration 15\t time lapse 0.33427s\t ll change 0.00138\n",
      "Initialization converged: False\t time lapse 5.76705s\t ll -27.27394\n"
     ]
    },
    {
     "name": "stderr",
     "output_type": "stream",
     "text": [
      "/home/av/.local/lib/python3.10/site-packages/sklearn/mixture/_base.py:274: ConvergenceWarning: Initialization 1 did not converge. Try different init parameters, or increase max_iter, tol or check for degenerate data.\n",
      "  warnings.warn(\n"
     ]
    },
    {
     "name": "stdout",
     "output_type": "stream",
     "text": [
      "Initialization 0\n",
      "  Iteration 1\t time lapse 1.26295s\t ll change inf\n",
      "  Iteration 2\t time lapse 0.37838s\t ll change 1.33719\n",
      "  Iteration 3\t time lapse 0.35452s\t ll change 0.02009\n",
      "  Iteration 4\t time lapse 0.34598s\t ll change 0.01307\n",
      "  Iteration 5\t time lapse 0.35667s\t ll change 0.00917\n",
      "  Iteration 6\t time lapse 0.34787s\t ll change 0.00649\n",
      "  Iteration 7\t time lapse 0.34565s\t ll change 0.00462\n",
      "  Iteration 8\t time lapse 0.34893s\t ll change 0.00339\n",
      "  Iteration 9\t time lapse 0.34524s\t ll change 0.00262\n",
      "  Iteration 10\t time lapse 0.34551s\t ll change 0.00214\n",
      "  Iteration 11\t time lapse 0.36025s\t ll change 0.00186\n",
      "  Iteration 12\t time lapse 0.35709s\t ll change 0.00168\n",
      "  Iteration 13\t time lapse 0.35260s\t ll change 0.00156\n",
      "  Iteration 14\t time lapse 0.39878s\t ll change 0.00145\n",
      "  Iteration 15\t time lapse 0.34449s\t ll change 0.00134\n",
      "Initialization converged: False\t time lapse 6.24497s\t ll -27.50094\n"
     ]
    },
    {
     "name": "stderr",
     "output_type": "stream",
     "text": [
      "/home/av/.local/lib/python3.10/site-packages/sklearn/mixture/_base.py:274: ConvergenceWarning: Initialization 1 did not converge. Try different init parameters, or increase max_iter, tol or check for degenerate data.\n",
      "  warnings.warn(\n"
     ]
    },
    {
     "name": "stdout",
     "output_type": "stream",
     "text": [
      "Initialization 0\n",
      "  Iteration 1\t time lapse 0.93050s\t ll change inf\n",
      "  Iteration 2\t time lapse 0.36450s\t ll change 1.45046\n",
      "  Iteration 3\t time lapse 0.37558s\t ll change 0.02216\n",
      "  Iteration 4\t time lapse 0.37550s\t ll change 0.01420\n",
      "  Iteration 5\t time lapse 0.38177s\t ll change 0.01060\n",
      "  Iteration 6\t time lapse 0.36457s\t ll change 0.00824\n",
      "  Iteration 7\t time lapse 0.38080s\t ll change 0.00635\n",
      "  Iteration 8\t time lapse 0.36376s\t ll change 0.00482\n",
      "  Iteration 9\t time lapse 0.38002s\t ll change 0.00363\n",
      "  Iteration 10\t time lapse 0.36962s\t ll change 0.00275\n",
      "  Iteration 11\t time lapse 0.36705s\t ll change 0.00211\n",
      "  Iteration 12\t time lapse 0.36579s\t ll change 0.00164\n",
      "  Iteration 13\t time lapse 0.41731s\t ll change 0.00129\n",
      "  Iteration 14\t time lapse 0.36365s\t ll change 0.00103\n",
      "  Iteration 15\t time lapse 0.38257s\t ll change 0.00082\n",
      "Initialization converged: True\t time lapse 6.18305s\t ll -27.97258\n",
      "Initialization 0\n",
      "  Iteration 1\t time lapse 0.89789s\t ll change inf\n",
      "  Iteration 2\t time lapse 0.33717s\t ll change 1.48187\n",
      "  Iteration 3\t time lapse 0.35005s\t ll change 0.02474\n",
      "  Iteration 4\t time lapse 0.33578s\t ll change 0.01695\n",
      "  Iteration 5\t time lapse 0.33289s\t ll change 0.01194\n",
      "  Iteration 6\t time lapse 0.35251s\t ll change 0.00835\n",
      "  Iteration 7\t time lapse 0.33242s\t ll change 0.00579\n",
      "  Iteration 8\t time lapse 0.33539s\t ll change 0.00398\n",
      "  Iteration 9\t time lapse 0.35960s\t ll change 0.00272\n",
      "  Iteration 10\t time lapse 0.33762s\t ll change 0.00186\n",
      "  Iteration 11\t time lapse 0.33551s\t ll change 0.00129\n",
      "  Iteration 12\t time lapse 0.34589s\t ll change 0.00091\n",
      "Initialization converged: True\t time lapse 4.65279s\t ll -27.43284\n",
      "Initialization 0\n",
      "  Iteration 1\t time lapse 0.80420s\t ll change inf\n",
      "  Iteration 2\t time lapse 0.31979s\t ll change 1.79715\n",
      "  Iteration 3\t time lapse 0.32341s\t ll change 0.02271\n",
      "  Iteration 4\t time lapse 0.32240s\t ll change 0.01597\n",
      "  Iteration 5\t time lapse 0.31637s\t ll change 0.01250\n",
      "  Iteration 6\t time lapse 0.31999s\t ll change 0.01016\n",
      "  Iteration 7\t time lapse 0.31455s\t ll change 0.00829\n",
      "  Iteration 8\t time lapse 0.31439s\t ll change 0.00663\n",
      "  Iteration 9\t time lapse 0.31878s\t ll change 0.00515\n",
      "  Iteration 10\t time lapse 0.32690s\t ll change 0.00389\n",
      "  Iteration 11\t time lapse 0.31776s\t ll change 0.00288\n",
      "  Iteration 12\t time lapse 0.31821s\t ll change 0.00211\n",
      "  Iteration 13\t time lapse 0.32553s\t ll change 0.00154\n",
      "  Iteration 14\t time lapse 0.31641s\t ll change 0.00114\n",
      "  Iteration 15\t time lapse 0.31839s\t ll change 0.00087\n",
      "Initialization converged: True\t time lapse 5.27716s\t ll -27.00438\n",
      "Initialization 0\n",
      "  Iteration 1\t time lapse 1.02244s\t ll change inf\n",
      "  Iteration 2\t time lapse 0.36023s\t ll change 1.12138\n",
      "  Iteration 3\t time lapse 0.32910s\t ll change 0.01533\n",
      "  Iteration 4\t time lapse 0.33665s\t ll change 0.01011\n",
      "  Iteration 5\t time lapse 0.33291s\t ll change 0.00844\n",
      "  Iteration 6\t time lapse 0.46583s\t ll change 0.00799\n",
      "  Iteration 7\t time lapse 0.37346s\t ll change 0.00816\n",
      "  Iteration 8\t time lapse 0.32497s\t ll change 0.00850\n",
      "  Iteration 9\t time lapse 0.32541s\t ll change 0.00831\n",
      "  Iteration 10\t time lapse 0.32457s\t ll change 0.00711\n",
      "  Iteration 11\t time lapse 0.32782s\t ll change 0.00533\n",
      "  Iteration 12\t time lapse 0.32552s\t ll change 0.00372\n",
      "  Iteration 13\t time lapse 0.32345s\t ll change 0.00258\n",
      "  Iteration 14\t time lapse 0.32449s\t ll change 0.00185\n",
      "  Iteration 15\t time lapse 0.32597s\t ll change 0.00140\n",
      "Initialization converged: False\t time lapse 5.82288s\t ll -27.47465\n"
     ]
    },
    {
     "name": "stderr",
     "output_type": "stream",
     "text": [
      "/home/av/.local/lib/python3.10/site-packages/sklearn/mixture/_base.py:274: ConvergenceWarning: Initialization 1 did not converge. Try different init parameters, or increase max_iter, tol or check for degenerate data.\n",
      "  warnings.warn(\n",
      "100%|██████████| 600/600 [00:11<00:00, 50.61it/s]\n",
      "/home/av/IST/slp-labs/LAB2/pf_tools.py:89: UserWarning: The feature directory already exists, and no new feature extraction will be performed.\n",
      "  warnings.warn(\"The feature directory already exists, and no new feature extraction will be performed.\")\n"
     ]
    },
    {
     "name": "stdout",
     "output_type": "stream",
     "text": [
      "Accuracy Score: 0.585\n",
      "Combination 11\n",
      "Initialization 0\n",
      "  Iteration 1\t time lapse 1.74543s\t ll change inf\n",
      "  Iteration 2\t time lapse 0.54180s\t ll change 1.43638\n",
      "  Iteration 3\t time lapse 0.53286s\t ll change 0.01898\n",
      "  Iteration 4\t time lapse 0.53570s\t ll change 0.01125\n",
      "  Iteration 5\t time lapse 0.53202s\t ll change 0.00789\n",
      "  Iteration 6\t time lapse 0.53952s\t ll change 0.00606\n",
      "  Iteration 7\t time lapse 0.52874s\t ll change 0.00493\n",
      "  Iteration 8\t time lapse 0.58196s\t ll change 0.00418\n",
      "  Iteration 9\t time lapse 0.53070s\t ll change 0.00365\n",
      "  Iteration 10\t time lapse 0.55894s\t ll change 0.00326\n",
      "  Iteration 11\t time lapse 0.56898s\t ll change 0.00298\n",
      "  Iteration 12\t time lapse 0.53141s\t ll change 0.00275\n",
      "  Iteration 13\t time lapse 0.53215s\t ll change 0.00257\n",
      "  Iteration 14\t time lapse 0.52991s\t ll change 0.00241\n",
      "  Iteration 15\t time lapse 0.54251s\t ll change 0.00226\n",
      "Initialization converged: False\t time lapse 9.33301s\t ll -27.15164\n"
     ]
    },
    {
     "name": "stderr",
     "output_type": "stream",
     "text": [
      "/home/av/.local/lib/python3.10/site-packages/sklearn/mixture/_base.py:274: ConvergenceWarning: Initialization 1 did not converge. Try different init parameters, or increase max_iter, tol or check for degenerate data.\n",
      "  warnings.warn(\n"
     ]
    },
    {
     "name": "stdout",
     "output_type": "stream",
     "text": [
      "Initialization 0\n",
      "  Iteration 1\t time lapse 1.67891s\t ll change inf\n",
      "  Iteration 2\t time lapse 0.59623s\t ll change 1.21491\n",
      "  Iteration 3\t time lapse 0.64534s\t ll change 0.01995\n",
      "  Iteration 4\t time lapse 0.61624s\t ll change 0.01274\n",
      "  Iteration 5\t time lapse 0.60756s\t ll change 0.00937\n",
      "  Iteration 6\t time lapse 0.65219s\t ll change 0.00728\n",
      "  Iteration 7\t time lapse 0.63395s\t ll change 0.00582\n",
      "  Iteration 8\t time lapse 0.66498s\t ll change 0.00477\n",
      "  Iteration 9\t time lapse 0.61413s\t ll change 0.00402\n",
      "  Iteration 10\t time lapse 0.60948s\t ll change 0.00351\n",
      "  Iteration 11\t time lapse 0.61523s\t ll change 0.00319\n",
      "  Iteration 12\t time lapse 0.60980s\t ll change 0.00299\n",
      "  Iteration 13\t time lapse 0.58826s\t ll change 0.00285\n",
      "  Iteration 14\t time lapse 0.64241s\t ll change 0.00268\n",
      "  Iteration 15\t time lapse 0.73937s\t ll change 0.00240\n",
      "Initialization converged: False\t time lapse 10.51442s\t ll -27.36325\n"
     ]
    },
    {
     "name": "stderr",
     "output_type": "stream",
     "text": [
      "/home/av/.local/lib/python3.10/site-packages/sklearn/mixture/_base.py:274: ConvergenceWarning: Initialization 1 did not converge. Try different init parameters, or increase max_iter, tol or check for degenerate data.\n",
      "  warnings.warn(\n"
     ]
    },
    {
     "name": "stdout",
     "output_type": "stream",
     "text": [
      "Initialization 0\n",
      "  Iteration 1\t time lapse 1.92615s\t ll change inf\n",
      "  Iteration 2\t time lapse 0.64406s\t ll change 1.22566\n",
      "  Iteration 3\t time lapse 0.60557s\t ll change 0.02172\n",
      "  Iteration 4\t time lapse 0.62695s\t ll change 0.01328\n",
      "  Iteration 5\t time lapse 0.63455s\t ll change 0.00904\n",
      "  Iteration 6\t time lapse 0.62258s\t ll change 0.00651\n",
      "  Iteration 7\t time lapse 0.62086s\t ll change 0.00492\n",
      "  Iteration 8\t time lapse 0.62671s\t ll change 0.00390\n",
      "  Iteration 9\t time lapse 0.63725s\t ll change 0.00323\n",
      "  Iteration 10\t time lapse 0.63480s\t ll change 0.00276\n",
      "  Iteration 11\t time lapse 0.61742s\t ll change 0.00243\n",
      "  Iteration 12\t time lapse 0.62824s\t ll change 0.00216\n",
      "  Iteration 13\t time lapse 0.65848s\t ll change 0.00193\n",
      "  Iteration 14\t time lapse 0.62573s\t ll change 0.00173\n",
      "  Iteration 15\t time lapse 0.65671s\t ll change 0.00155\n",
      "Initialization converged: False\t time lapse 10.76617s\t ll -27.82257\n"
     ]
    },
    {
     "name": "stderr",
     "output_type": "stream",
     "text": [
      "/home/av/.local/lib/python3.10/site-packages/sklearn/mixture/_base.py:274: ConvergenceWarning: Initialization 1 did not converge. Try different init parameters, or increase max_iter, tol or check for degenerate data.\n",
      "  warnings.warn(\n"
     ]
    },
    {
     "name": "stdout",
     "output_type": "stream",
     "text": [
      "Initialization 0\n",
      "  Iteration 1\t time lapse 1.49660s\t ll change inf\n",
      "  Iteration 2\t time lapse 0.57823s\t ll change 1.38669\n",
      "  Iteration 3\t time lapse 0.60471s\t ll change 0.02301\n",
      "  Iteration 4\t time lapse 0.54432s\t ll change 0.01578\n",
      "  Iteration 5\t time lapse 0.52533s\t ll change 0.01251\n",
      "  Iteration 6\t time lapse 0.52942s\t ll change 0.01022\n",
      "  Iteration 7\t time lapse 0.52196s\t ll change 0.00843\n",
      "  Iteration 8\t time lapse 0.52062s\t ll change 0.00712\n",
      "  Iteration 9\t time lapse 0.51884s\t ll change 0.00618\n",
      "  Iteration 10\t time lapse 0.54620s\t ll change 0.00541\n",
      "  Iteration 11\t time lapse 0.52174s\t ll change 0.00470\n",
      "  Iteration 12\t time lapse 0.53751s\t ll change 0.00401\n",
      "  Iteration 13\t time lapse 0.51700s\t ll change 0.00335\n",
      "  Iteration 14\t time lapse 0.56052s\t ll change 0.00273\n",
      "  Iteration 15\t time lapse 0.56279s\t ll change 0.00218\n",
      "Initialization converged: False\t time lapse 9.08623s\t ll -27.31531\n"
     ]
    },
    {
     "name": "stderr",
     "output_type": "stream",
     "text": [
      "/home/av/.local/lib/python3.10/site-packages/sklearn/mixture/_base.py:274: ConvergenceWarning: Initialization 1 did not converge. Try different init parameters, or increase max_iter, tol or check for degenerate data.\n",
      "  warnings.warn(\n"
     ]
    },
    {
     "name": "stdout",
     "output_type": "stream",
     "text": [
      "Initialization 0\n",
      "  Iteration 1\t time lapse 1.63480s\t ll change inf\n",
      "  Iteration 2\t time lapse 0.49336s\t ll change 1.63552\n",
      "  Iteration 3\t time lapse 0.51102s\t ll change 0.02068\n",
      "  Iteration 4\t time lapse 0.50308s\t ll change 0.01401\n",
      "  Iteration 5\t time lapse 0.52873s\t ll change 0.01120\n",
      "  Iteration 6\t time lapse 0.50260s\t ll change 0.00950\n",
      "  Iteration 7\t time lapse 0.52717s\t ll change 0.00796\n",
      "  Iteration 8\t time lapse 0.50765s\t ll change 0.00645\n",
      "  Iteration 9\t time lapse 0.49715s\t ll change 0.00507\n",
      "  Iteration 10\t time lapse 0.49744s\t ll change 0.00391\n",
      "  Iteration 11\t time lapse 0.49660s\t ll change 0.00301\n",
      "  Iteration 12\t time lapse 0.51156s\t ll change 0.00234\n",
      "  Iteration 13\t time lapse 0.51273s\t ll change 0.00185\n",
      "  Iteration 14\t time lapse 0.50229s\t ll change 0.00151\n",
      "  Iteration 15\t time lapse 0.53421s\t ll change 0.00126\n",
      "Initialization converged: False\t time lapse 8.76051s\t ll -26.90606\n"
     ]
    },
    {
     "name": "stderr",
     "output_type": "stream",
     "text": [
      "/home/av/.local/lib/python3.10/site-packages/sklearn/mixture/_base.py:274: ConvergenceWarning: Initialization 1 did not converge. Try different init parameters, or increase max_iter, tol or check for degenerate data.\n",
      "  warnings.warn(\n"
     ]
    },
    {
     "name": "stdout",
     "output_type": "stream",
     "text": [
      "Initialization 0\n",
      "  Iteration 1\t time lapse 1.58516s\t ll change inf\n",
      "  Iteration 2\t time lapse 0.52623s\t ll change 0.05556\n",
      "  Iteration 3\t time lapse 0.54726s\t ll change 0.02124\n",
      "  Iteration 4\t time lapse 0.55664s\t ll change 0.01389\n",
      "  Iteration 5\t time lapse 0.67900s\t ll change 0.01087\n",
      "  Iteration 6\t time lapse 0.55976s\t ll change 0.00898\n",
      "  Iteration 7\t time lapse 0.52564s\t ll change 0.00756\n",
      "  Iteration 8\t time lapse 0.53767s\t ll change 0.00652\n",
      "  Iteration 9\t time lapse 0.51709s\t ll change 0.00579\n",
      "  Iteration 10\t time lapse 0.53007s\t ll change 0.00525\n",
      "  Iteration 11\t time lapse 0.51480s\t ll change 0.00479\n",
      "  Iteration 12\t time lapse 0.51851s\t ll change 0.00436\n",
      "  Iteration 13\t time lapse 0.52266s\t ll change 0.00396\n",
      "  Iteration 14\t time lapse 0.57357s\t ll change 0.00356\n",
      "  Iteration 15\t time lapse 0.55436s\t ll change 0.00317\n",
      "Initialization converged: False\t time lapse 9.24854s\t ll -27.34003\n"
     ]
    },
    {
     "name": "stderr",
     "output_type": "stream",
     "text": [
      "/home/av/.local/lib/python3.10/site-packages/sklearn/mixture/_base.py:274: ConvergenceWarning: Initialization 1 did not converge. Try different init parameters, or increase max_iter, tol or check for degenerate data.\n",
      "  warnings.warn(\n",
      "100%|██████████| 600/600 [00:22<00:00, 27.21it/s]\n",
      "/home/av/IST/slp-labs/LAB2/pf_tools.py:89: UserWarning: The feature directory already exists, and no new feature extraction will be performed.\n",
      "  warnings.warn(\"The feature directory already exists, and no new feature extraction will be performed.\")\n"
     ]
    },
    {
     "name": "stdout",
     "output_type": "stream",
     "text": [
      "Accuracy Score: 0.645\n",
      "Combination 12\n",
      "Initialization 0\n",
      "  Iteration 1\t time lapse 3.47479s\t ll change inf\n",
      "  Iteration 2\t time lapse 0.97008s\t ll change 1.37929\n",
      "  Iteration 3\t time lapse 0.95880s\t ll change 0.01888\n",
      "  Iteration 4\t time lapse 0.94989s\t ll change 0.01099\n",
      "  Iteration 5\t time lapse 0.93886s\t ll change 0.00785\n",
      "  Iteration 6\t time lapse 0.95964s\t ll change 0.00614\n",
      "  Iteration 7\t time lapse 0.96374s\t ll change 0.00501\n",
      "  Iteration 8\t time lapse 0.95535s\t ll change 0.00420\n",
      "  Iteration 9\t time lapse 0.91189s\t ll change 0.00360\n",
      "  Iteration 10\t time lapse 0.89792s\t ll change 0.00314\n",
      "  Iteration 11\t time lapse 0.91516s\t ll change 0.00280\n",
      "  Iteration 12\t time lapse 0.92977s\t ll change 0.00253\n",
      "  Iteration 13\t time lapse 0.92340s\t ll change 0.00231\n",
      "  Iteration 14\t time lapse 0.92639s\t ll change 0.00215\n",
      "  Iteration 15\t time lapse 0.93803s\t ll change 0.00207\n",
      "Initialization converged: False\t time lapse 16.61381s\t ll -27.05151\n"
     ]
    },
    {
     "name": "stderr",
     "output_type": "stream",
     "text": [
      "/home/av/.local/lib/python3.10/site-packages/sklearn/mixture/_base.py:274: ConvergenceWarning: Initialization 1 did not converge. Try different init parameters, or increase max_iter, tol or check for degenerate data.\n",
      "  warnings.warn(\n"
     ]
    },
    {
     "name": "stdout",
     "output_type": "stream",
     "text": [
      "Initialization 0\n",
      "  Iteration 1\t time lapse 3.12238s\t ll change inf\n",
      "  Iteration 2\t time lapse 1.01064s\t ll change 1.15877\n",
      "  Iteration 3\t time lapse 1.00024s\t ll change 0.01904\n",
      "  Iteration 4\t time lapse 0.98865s\t ll change 0.01106\n",
      "  Iteration 5\t time lapse 1.01010s\t ll change 0.00779\n",
      "  Iteration 6\t time lapse 0.98880s\t ll change 0.00602\n",
      "  Iteration 7\t time lapse 0.99043s\t ll change 0.00491\n",
      "  Iteration 8\t time lapse 1.02279s\t ll change 0.00416\n",
      "  Iteration 9\t time lapse 0.99355s\t ll change 0.00362\n",
      "  Iteration 10\t time lapse 0.99584s\t ll change 0.00322\n",
      "  Iteration 11\t time lapse 1.07841s\t ll change 0.00291\n",
      "  Iteration 12\t time lapse 1.01128s\t ll change 0.00268\n",
      "  Iteration 13\t time lapse 1.00326s\t ll change 0.00249\n",
      "  Iteration 14\t time lapse 1.00923s\t ll change 0.00235\n",
      "  Iteration 15\t time lapse 1.10434s\t ll change 0.00224\n",
      "Initialization converged: False\t time lapse 17.33039s\t ll -27.26043\n"
     ]
    },
    {
     "name": "stderr",
     "output_type": "stream",
     "text": [
      "/home/av/.local/lib/python3.10/site-packages/sklearn/mixture/_base.py:274: ConvergenceWarning: Initialization 1 did not converge. Try different init parameters, or increase max_iter, tol or check for degenerate data.\n",
      "  warnings.warn(\n"
     ]
    },
    {
     "name": "stdout",
     "output_type": "stream",
     "text": [
      "Initialization 0\n",
      "  Iteration 1\t time lapse 3.26271s\t ll change inf\n",
      "  Iteration 2\t time lapse 1.29499s\t ll change 1.17834\n",
      "  Iteration 3\t time lapse 1.11273s\t ll change 0.02258\n",
      "  Iteration 4\t time lapse 1.12604s\t ll change 0.01516\n",
      "  Iteration 5\t time lapse 1.03710s\t ll change 0.01179\n",
      "  Iteration 6\t time lapse 1.14312s\t ll change 0.00948\n",
      "  Iteration 7\t time lapse 1.16128s\t ll change 0.00760\n",
      "  Iteration 8\t time lapse 1.07239s\t ll change 0.00595\n",
      "  Iteration 9\t time lapse 1.20448s\t ll change 0.00455\n",
      "  Iteration 10\t time lapse 1.20099s\t ll change 0.00350\n",
      "  Iteration 11\t time lapse 1.07364s\t ll change 0.00278\n",
      "  Iteration 12\t time lapse 1.28641s\t ll change 0.00228\n",
      "  Iteration 13\t time lapse 1.27872s\t ll change 0.00193\n",
      "  Iteration 14\t time lapse 1.15413s\t ll change 0.00166\n",
      "  Iteration 15\t time lapse 1.17363s\t ll change 0.00145\n",
      "Initialization converged: False\t time lapse 19.58278s\t ll -27.68560\n"
     ]
    },
    {
     "name": "stderr",
     "output_type": "stream",
     "text": [
      "/home/av/.local/lib/python3.10/site-packages/sklearn/mixture/_base.py:274: ConvergenceWarning: Initialization 1 did not converge. Try different init parameters, or increase max_iter, tol or check for degenerate data.\n",
      "  warnings.warn(\n"
     ]
    },
    {
     "name": "stdout",
     "output_type": "stream",
     "text": [
      "Initialization 0\n",
      "  Iteration 1\t time lapse 4.04437s\t ll change inf\n",
      "  Iteration 2\t time lapse 0.95762s\t ll change 1.18044\n",
      "  Iteration 3\t time lapse 0.96951s\t ll change 0.02000\n",
      "  Iteration 4\t time lapse 0.96374s\t ll change 0.01197\n",
      "  Iteration 5\t time lapse 0.97637s\t ll change 0.00907\n",
      "  Iteration 6\t time lapse 0.95653s\t ll change 0.00774\n",
      "  Iteration 7\t time lapse 0.97488s\t ll change 0.00724\n",
      "  Iteration 8\t time lapse 0.97536s\t ll change 0.00723\n",
      "  Iteration 9\t time lapse 0.97550s\t ll change 0.00720\n",
      "  Iteration 10\t time lapse 0.95453s\t ll change 0.00660\n",
      "  Iteration 11\t time lapse 0.97568s\t ll change 0.00554\n",
      "  Iteration 12\t time lapse 0.94992s\t ll change 0.00454\n",
      "  Iteration 13\t time lapse 0.98852s\t ll change 0.00384\n",
      "  Iteration 14\t time lapse 0.97432s\t ll change 0.00341\n",
      "  Iteration 15\t time lapse 0.98494s\t ll change 0.00314\n",
      "Initialization converged: False\t time lapse 17.62219s\t ll -27.23694\n"
     ]
    },
    {
     "name": "stderr",
     "output_type": "stream",
     "text": [
      "/home/av/.local/lib/python3.10/site-packages/sklearn/mixture/_base.py:274: ConvergenceWarning: Initialization 1 did not converge. Try different init parameters, or increase max_iter, tol or check for degenerate data.\n",
      "  warnings.warn(\n"
     ]
    },
    {
     "name": "stdout",
     "output_type": "stream",
     "text": [
      "Initialization 0\n",
      "  Iteration 1\t time lapse 4.31355s\t ll change inf\n",
      "  Iteration 2\t time lapse 0.94236s\t ll change 1.53141\n",
      "  Iteration 3\t time lapse 0.90225s\t ll change 0.02172\n",
      "  Iteration 4\t time lapse 0.91148s\t ll change 0.01362\n",
      "  Iteration 5\t time lapse 0.91250s\t ll change 0.01011\n",
      "  Iteration 6\t time lapse 0.90316s\t ll change 0.00794\n",
      "  Iteration 7\t time lapse 0.92359s\t ll change 0.00635\n",
      "  Iteration 8\t time lapse 0.89580s\t ll change 0.00515\n",
      "  Iteration 9\t time lapse 0.90912s\t ll change 0.00427\n",
      "  Iteration 10\t time lapse 0.90894s\t ll change 0.00362\n",
      "  Iteration 11\t time lapse 0.90500s\t ll change 0.00315\n",
      "  Iteration 12\t time lapse 0.90792s\t ll change 0.00278\n",
      "  Iteration 13\t time lapse 0.96030s\t ll change 0.00251\n",
      "  Iteration 14\t time lapse 0.91232s\t ll change 0.00229\n",
      "  Iteration 15\t time lapse 0.88432s\t ll change 0.00212\n",
      "Initialization converged: False\t time lapse 17.09306s\t ll -26.83665\n"
     ]
    },
    {
     "name": "stderr",
     "output_type": "stream",
     "text": [
      "/home/av/.local/lib/python3.10/site-packages/sklearn/mixture/_base.py:274: ConvergenceWarning: Initialization 1 did not converge. Try different init parameters, or increase max_iter, tol or check for degenerate data.\n",
      "  warnings.warn(\n"
     ]
    },
    {
     "name": "stdout",
     "output_type": "stream",
     "text": [
      "Initialization 0\n",
      "  Iteration 1\t time lapse 3.19089s\t ll change inf\n",
      "  Iteration 2\t time lapse 1.00567s\t ll change 0.05796\n",
      "  Iteration 3\t time lapse 0.93726s\t ll change 0.01964\n",
      "  Iteration 4\t time lapse 0.94060s\t ll change 0.01120\n",
      "  Iteration 5\t time lapse 0.92351s\t ll change 0.00775\n",
      "  Iteration 6\t time lapse 0.93832s\t ll change 0.00584\n",
      "  Iteration 7\t time lapse 0.91404s\t ll change 0.00462\n",
      "  Iteration 8\t time lapse 1.00807s\t ll change 0.00382\n",
      "  Iteration 9\t time lapse 0.92656s\t ll change 0.00330\n",
      "  Iteration 10\t time lapse 0.91886s\t ll change 0.00297\n",
      "  Iteration 11\t time lapse 0.91621s\t ll change 0.00281\n",
      "  Iteration 12\t time lapse 0.93111s\t ll change 0.00277\n",
      "  Iteration 13\t time lapse 0.94184s\t ll change 0.00279\n",
      "  Iteration 14\t time lapse 0.91546s\t ll change 0.00279\n",
      "  Iteration 15\t time lapse 0.89986s\t ll change 0.00272\n",
      "Initialization converged: False\t time lapse 16.30838s\t ll -27.26314\n"
     ]
    },
    {
     "name": "stderr",
     "output_type": "stream",
     "text": [
      "/home/av/.local/lib/python3.10/site-packages/sklearn/mixture/_base.py:274: ConvergenceWarning: Initialization 1 did not converge. Try different init parameters, or increase max_iter, tol or check for degenerate data.\n",
      "  warnings.warn(\n",
      "100%|██████████| 600/600 [00:29<00:00, 20.36it/s]\n",
      "/home/av/IST/slp-labs/LAB2/pf_tools.py:89: UserWarning: The feature directory already exists, and no new feature extraction will be performed.\n",
      "  warnings.warn(\"The feature directory already exists, and no new feature extraction will be performed.\")\n"
     ]
    },
    {
     "name": "stdout",
     "output_type": "stream",
     "text": [
      "Accuracy Score: 0.6733333333333333\n",
      "Combination 13\n",
      "Initialization 0\n",
      "  Iteration 1\t time lapse 0.96763s\t ll change inf\n",
      "  Iteration 2\t time lapse 0.34075s\t ll change 1.62888\n",
      "  Iteration 3\t time lapse 0.32917s\t ll change 0.02219\n",
      "  Iteration 4\t time lapse 0.36754s\t ll change 0.01648\n",
      "  Iteration 5\t time lapse 0.33167s\t ll change 0.01217\n",
      "  Iteration 6\t time lapse 0.35476s\t ll change 0.00860\n",
      "  Iteration 7\t time lapse 0.33042s\t ll change 0.00611\n",
      "  Iteration 8\t time lapse 0.33184s\t ll change 0.00454\n",
      "  Iteration 9\t time lapse 0.35447s\t ll change 0.00355\n",
      "  Iteration 10\t time lapse 0.33834s\t ll change 0.00291\n",
      "  Iteration 11\t time lapse 0.33821s\t ll change 0.00247\n",
      "  Iteration 12\t time lapse 0.34421s\t ll change 0.00213\n",
      "  Iteration 13\t time lapse 0.33482s\t ll change 0.00186\n",
      "  Iteration 14\t time lapse 0.33785s\t ll change 0.00161\n",
      "  Iteration 15\t time lapse 0.35002s\t ll change 0.00138\n",
      "Initialization converged: False\t time lapse 5.75178s\t ll -27.27395\n"
     ]
    },
    {
     "name": "stderr",
     "output_type": "stream",
     "text": [
      "/home/av/.local/lib/python3.10/site-packages/sklearn/mixture/_base.py:274: ConvergenceWarning: Initialization 1 did not converge. Try different init parameters, or increase max_iter, tol or check for degenerate data.\n",
      "  warnings.warn(\n"
     ]
    },
    {
     "name": "stdout",
     "output_type": "stream",
     "text": [
      "Initialization 0\n",
      "  Iteration 1\t time lapse 1.01583s\t ll change inf\n",
      "  Iteration 2\t time lapse 0.38685s\t ll change 1.33716\n",
      "  Iteration 3\t time lapse 0.35618s\t ll change 0.02006\n",
      "  Iteration 4\t time lapse 0.35523s\t ll change 0.01306\n",
      "  Iteration 5\t time lapse 0.35279s\t ll change 0.00918\n",
      "  Iteration 6\t time lapse 0.35539s\t ll change 0.00649\n",
      "  Iteration 7\t time lapse 0.35156s\t ll change 0.00463\n",
      "  Iteration 8\t time lapse 0.34669s\t ll change 0.00339\n",
      "  Iteration 9\t time lapse 0.35391s\t ll change 0.00261\n",
      "  Iteration 10\t time lapse 0.35470s\t ll change 0.00214\n",
      "  Iteration 11\t time lapse 0.34738s\t ll change 0.00185\n",
      "  Iteration 12\t time lapse 0.36344s\t ll change 0.00168\n",
      "  Iteration 13\t time lapse 0.34761s\t ll change 0.00156\n",
      "  Iteration 14\t time lapse 0.36283s\t ll change 0.00146\n",
      "  Iteration 15\t time lapse 0.34960s\t ll change 0.00135\n",
      "Initialization converged: False\t time lapse 6.00003s\t ll -27.50111\n"
     ]
    },
    {
     "name": "stderr",
     "output_type": "stream",
     "text": [
      "/home/av/.local/lib/python3.10/site-packages/sklearn/mixture/_base.py:274: ConvergenceWarning: Initialization 1 did not converge. Try different init parameters, or increase max_iter, tol or check for degenerate data.\n",
      "  warnings.warn(\n"
     ]
    },
    {
     "name": "stdout",
     "output_type": "stream",
     "text": [
      "Initialization 0\n",
      "  Iteration 1\t time lapse 1.01598s\t ll change inf\n",
      "  Iteration 2\t time lapse 0.37884s\t ll change 1.45794\n",
      "  Iteration 3\t time lapse 0.37721s\t ll change 0.02238\n",
      "  Iteration 4\t time lapse 0.37442s\t ll change 0.01420\n",
      "  Iteration 5\t time lapse 0.37835s\t ll change 0.01055\n",
      "  Iteration 6\t time lapse 0.38118s\t ll change 0.00817\n",
      "  Iteration 7\t time lapse 0.37700s\t ll change 0.00628\n",
      "  Iteration 8\t time lapse 0.38147s\t ll change 0.00477\n",
      "  Iteration 9\t time lapse 0.37403s\t ll change 0.00360\n",
      "  Iteration 10\t time lapse 0.38886s\t ll change 0.00273\n",
      "  Iteration 11\t time lapse 0.38051s\t ll change 0.00211\n",
      "  Iteration 12\t time lapse 0.38169s\t ll change 0.00165\n",
      "  Iteration 13\t time lapse 0.39065s\t ll change 0.00131\n",
      "  Iteration 14\t time lapse 0.37542s\t ll change 0.00106\n",
      "  Iteration 15\t time lapse 0.38987s\t ll change 0.00086\n",
      "Initialization converged: True\t time lapse 6.34557s\t ll -27.97329\n",
      "Initialization 0\n",
      "  Iteration 1\t time lapse 0.90319s\t ll change inf\n",
      "  Iteration 2\t time lapse 0.34942s\t ll change 1.46646\n",
      "  Iteration 3\t time lapse 0.33933s\t ll change 0.02418\n",
      "  Iteration 4\t time lapse 0.37370s\t ll change 0.01673\n",
      "  Iteration 5\t time lapse 0.33992s\t ll change 0.01202\n",
      "  Iteration 6\t time lapse 0.36320s\t ll change 0.00861\n",
      "  Iteration 7\t time lapse 0.35017s\t ll change 0.00612\n",
      "  Iteration 8\t time lapse 0.33770s\t ll change 0.00431\n",
      "  Iteration 9\t time lapse 0.35887s\t ll change 0.00304\n",
      "  Iteration 10\t time lapse 0.34145s\t ll change 0.00217\n",
      "  Iteration 11\t time lapse 0.33854s\t ll change 0.00158\n",
      "  Iteration 12\t time lapse 0.34960s\t ll change 0.00116\n",
      "  Iteration 13\t time lapse 0.33762s\t ll change 0.00087\n",
      "Initialization converged: True\t time lapse 5.08278s\t ll -27.43320\n",
      "Initialization 0\n",
      "  Iteration 1\t time lapse 0.74467s\t ll change inf\n",
      "  Iteration 2\t time lapse 0.32803s\t ll change 1.75858\n",
      "  Iteration 3\t time lapse 0.33931s\t ll change 0.01363\n",
      "  Iteration 4\t time lapse 0.32885s\t ll change 0.00930\n",
      "  Iteration 5\t time lapse 0.33491s\t ll change 0.00788\n",
      "  Iteration 6\t time lapse 0.33211s\t ll change 0.00732\n",
      "  Iteration 7\t time lapse 0.33000s\t ll change 0.00678\n",
      "  Iteration 8\t time lapse 0.32498s\t ll change 0.00595\n",
      "  Iteration 9\t time lapse 0.34061s\t ll change 0.00494\n",
      "  Iteration 10\t time lapse 0.33148s\t ll change 0.00397\n",
      "  Iteration 11\t time lapse 0.33679s\t ll change 0.00318\n",
      "  Iteration 12\t time lapse 0.33849s\t ll change 0.00260\n",
      "  Iteration 13\t time lapse 0.41531s\t ll change 0.00219\n",
      "  Iteration 14\t time lapse 0.36186s\t ll change 0.00190\n",
      "  Iteration 15\t time lapse 0.39530s\t ll change 0.00172\n",
      "Initialization converged: False\t time lapse 5.58276s\t ll -27.09590\n"
     ]
    },
    {
     "name": "stderr",
     "output_type": "stream",
     "text": [
      "/home/av/.local/lib/python3.10/site-packages/sklearn/mixture/_base.py:274: ConvergenceWarning: Initialization 1 did not converge. Try different init parameters, or increase max_iter, tol or check for degenerate data.\n",
      "  warnings.warn(\n"
     ]
    },
    {
     "name": "stdout",
     "output_type": "stream",
     "text": [
      "Initialization 0\n",
      "  Iteration 1\t time lapse 1.03623s\t ll change inf\n",
      "  Iteration 2\t time lapse 0.40312s\t ll change 1.18807\n",
      "  Iteration 3\t time lapse 0.32765s\t ll change 0.01561\n",
      "  Iteration 4\t time lapse 0.32046s\t ll change 0.01047\n",
      "  Iteration 5\t time lapse 0.33286s\t ll change 0.00874\n",
      "  Iteration 6\t time lapse 0.33319s\t ll change 0.00816\n",
      "  Iteration 7\t time lapse 0.32227s\t ll change 0.00816\n",
      "  Iteration 8\t time lapse 0.35202s\t ll change 0.00841\n",
      "  Iteration 9\t time lapse 0.32143s\t ll change 0.00820\n",
      "  Iteration 10\t time lapse 0.32502s\t ll change 0.00696\n",
      "  Iteration 11\t time lapse 0.33922s\t ll change 0.00512\n",
      "  Iteration 12\t time lapse 0.31897s\t ll change 0.00349\n",
      "  Iteration 13\t time lapse 0.31813s\t ll change 0.00237\n",
      "  Iteration 14\t time lapse 0.33892s\t ll change 0.00168\n",
      "  Iteration 15\t time lapse 0.32021s\t ll change 0.00128\n",
      "Initialization converged: False\t time lapse 5.70975s\t ll -27.47391\n"
     ]
    },
    {
     "name": "stderr",
     "output_type": "stream",
     "text": [
      "/home/av/.local/lib/python3.10/site-packages/sklearn/mixture/_base.py:274: ConvergenceWarning: Initialization 1 did not converge. Try different init parameters, or increase max_iter, tol or check for degenerate data.\n",
      "  warnings.warn(\n",
      "100%|██████████| 600/600 [00:12<00:00, 47.82it/s]\n",
      "/home/av/IST/slp-labs/LAB2/pf_tools.py:89: UserWarning: The feature directory already exists, and no new feature extraction will be performed.\n",
      "  warnings.warn(\"The feature directory already exists, and no new feature extraction will be performed.\")\n"
     ]
    },
    {
     "name": "stdout",
     "output_type": "stream",
     "text": [
      "Accuracy Score: 0.5816666666666667\n",
      "Combination 14\n",
      "Initialization 0\n",
      "  Iteration 1\t time lapse 1.61703s\t ll change inf\n",
      "  Iteration 2\t time lapse 0.53557s\t ll change 1.44398\n",
      "  Iteration 3\t time lapse 0.54012s\t ll change 0.01920\n",
      "  Iteration 4\t time lapse 0.56672s\t ll change 0.01158\n",
      "  Iteration 5\t time lapse 0.53158s\t ll change 0.00815\n",
      "  Iteration 6\t time lapse 0.56112s\t ll change 0.00615\n",
      "  Iteration 7\t time lapse 0.55399s\t ll change 0.00490\n",
      "  Iteration 8\t time lapse 0.53514s\t ll change 0.00411\n",
      "  Iteration 9\t time lapse 0.54988s\t ll change 0.00360\n",
      "  Iteration 10\t time lapse 0.53952s\t ll change 0.00324\n",
      "  Iteration 11\t time lapse 0.54437s\t ll change 0.00295\n",
      "  Iteration 12\t time lapse 0.53355s\t ll change 0.00269\n",
      "  Iteration 13\t time lapse 0.54025s\t ll change 0.00241\n",
      "  Iteration 14\t time lapse 0.53128s\t ll change 0.00214\n",
      "  Iteration 15\t time lapse 0.57746s\t ll change 0.00186\n",
      "Initialization converged: False\t time lapse 9.25797s\t ll -27.15249\n"
     ]
    },
    {
     "name": "stderr",
     "output_type": "stream",
     "text": [
      "/home/av/.local/lib/python3.10/site-packages/sklearn/mixture/_base.py:274: ConvergenceWarning: Initialization 1 did not converge. Try different init parameters, or increase max_iter, tol or check for degenerate data.\n",
      "  warnings.warn(\n"
     ]
    },
    {
     "name": "stdout",
     "output_type": "stream",
     "text": [
      "Initialization 0\n",
      "  Iteration 1\t time lapse 1.63501s\t ll change inf\n",
      "  Iteration 2\t time lapse 0.62852s\t ll change 1.23504\n",
      "  Iteration 3\t time lapse 0.60434s\t ll change 0.02314\n",
      "  Iteration 4\t time lapse 0.59529s\t ll change 0.01497\n",
      "  Iteration 5\t time lapse 0.61801s\t ll change 0.01070\n",
      "  Iteration 6\t time lapse 0.64700s\t ll change 0.00793\n",
      "  Iteration 7\t time lapse 0.61554s\t ll change 0.00602\n",
      "  Iteration 8\t time lapse 0.61488s\t ll change 0.00466\n",
      "  Iteration 9\t time lapse 0.66616s\t ll change 0.00365\n",
      "  Iteration 10\t time lapse 0.69736s\t ll change 0.00289\n",
      "  Iteration 11\t time lapse 0.63482s\t ll change 0.00231\n",
      "  Iteration 12\t time lapse 0.65865s\t ll change 0.00185\n",
      "  Iteration 13\t time lapse 0.62007s\t ll change 0.00151\n",
      "  Iteration 14\t time lapse 0.62154s\t ll change 0.00125\n",
      "  Iteration 15\t time lapse 0.65796s\t ll change 0.00106\n",
      "Initialization converged: False\t time lapse 10.51528s\t ll -27.35537\n"
     ]
    },
    {
     "name": "stderr",
     "output_type": "stream",
     "text": [
      "/home/av/.local/lib/python3.10/site-packages/sklearn/mixture/_base.py:274: ConvergenceWarning: Initialization 1 did not converge. Try different init parameters, or increase max_iter, tol or check for degenerate data.\n",
      "  warnings.warn(\n"
     ]
    },
    {
     "name": "stdout",
     "output_type": "stream",
     "text": [
      "Initialization 0\n",
      "  Iteration 1\t time lapse 1.84522s\t ll change inf\n",
      "  Iteration 2\t time lapse 0.68693s\t ll change 1.29192\n",
      "  Iteration 3\t time lapse 0.65799s\t ll change 0.02189\n",
      "  Iteration 4\t time lapse 0.63603s\t ll change 0.01417\n",
      "  Iteration 5\t time lapse 0.66726s\t ll change 0.01057\n",
      "  Iteration 6\t time lapse 0.68307s\t ll change 0.00838\n",
      "  Iteration 7\t time lapse 0.71129s\t ll change 0.00686\n",
      "  Iteration 8\t time lapse 0.65870s\t ll change 0.00574\n",
      "  Iteration 9\t time lapse 0.64446s\t ll change 0.00487\n",
      "  Iteration 10\t time lapse 0.64542s\t ll change 0.00419\n",
      "  Iteration 11\t time lapse 0.68190s\t ll change 0.00366\n",
      "  Iteration 12\t time lapse 0.64996s\t ll change 0.00327\n",
      "  Iteration 13\t time lapse 0.63726s\t ll change 0.00304\n",
      "  Iteration 14\t time lapse 0.63474s\t ll change 0.00292\n",
      "  Iteration 15\t time lapse 0.70005s\t ll change 0.00280\n",
      "Initialization converged: False\t time lapse 11.14067s\t ll -27.81752\n"
     ]
    },
    {
     "name": "stderr",
     "output_type": "stream",
     "text": [
      "/home/av/.local/lib/python3.10/site-packages/sklearn/mixture/_base.py:274: ConvergenceWarning: Initialization 1 did not converge. Try different init parameters, or increase max_iter, tol or check for degenerate data.\n",
      "  warnings.warn(\n"
     ]
    },
    {
     "name": "stdout",
     "output_type": "stream",
     "text": [
      "Initialization 0\n",
      "  Iteration 1\t time lapse 1.45045s\t ll change inf\n",
      "  Iteration 2\t time lapse 0.55052s\t ll change 1.40263\n",
      "  Iteration 3\t time lapse 0.55596s\t ll change 0.02391\n",
      "  Iteration 4\t time lapse 0.54230s\t ll change 0.01713\n",
      "  Iteration 5\t time lapse 0.55269s\t ll change 0.01430\n",
      "  Iteration 6\t time lapse 0.54979s\t ll change 0.01233\n",
      "  Iteration 7\t time lapse 0.58123s\t ll change 0.01057\n",
      "  Iteration 8\t time lapse 0.53317s\t ll change 0.00909\n",
      "  Iteration 9\t time lapse 0.55515s\t ll change 0.00796\n",
      "  Iteration 10\t time lapse 0.64091s\t ll change 0.00708\n",
      "  Iteration 11\t time lapse 0.66064s\t ll change 0.00630\n",
      "  Iteration 12\t time lapse 0.74885s\t ll change 0.00552\n",
      "  Iteration 13\t time lapse 0.74754s\t ll change 0.00471\n",
      "  Iteration 14\t time lapse 0.77551s\t ll change 0.00390\n",
      "  Iteration 15\t time lapse 0.58720s\t ll change 0.00317\n",
      "Initialization converged: False\t time lapse 10.03229s\t ll -27.30532\n"
     ]
    },
    {
     "name": "stderr",
     "output_type": "stream",
     "text": [
      "/home/av/.local/lib/python3.10/site-packages/sklearn/mixture/_base.py:274: ConvergenceWarning: Initialization 1 did not converge. Try different init parameters, or increase max_iter, tol or check for degenerate data.\n",
      "  warnings.warn(\n"
     ]
    },
    {
     "name": "stdout",
     "output_type": "stream",
     "text": [
      "Initialization 0\n",
      "  Iteration 1\t time lapse 1.48600s\t ll change inf\n",
      "  Iteration 2\t time lapse 0.52845s\t ll change 1.58911\n",
      "  Iteration 3\t time lapse 0.50468s\t ll change 0.01782\n",
      "  Iteration 4\t time lapse 0.52119s\t ll change 0.01225\n",
      "  Iteration 5\t time lapse 0.54163s\t ll change 0.01047\n",
      "  Iteration 6\t time lapse 0.50025s\t ll change 0.00992\n",
      "  Iteration 7\t time lapse 0.49787s\t ll change 0.00942\n",
      "  Iteration 8\t time lapse 0.50873s\t ll change 0.00853\n",
      "  Iteration 9\t time lapse 0.50093s\t ll change 0.00736\n",
      "  Iteration 10\t time lapse 0.50363s\t ll change 0.00604\n",
      "  Iteration 11\t time lapse 0.49671s\t ll change 0.00472\n",
      "  Iteration 12\t time lapse 0.49883s\t ll change 0.00359\n",
      "  Iteration 13\t time lapse 0.49801s\t ll change 0.00273\n",
      "  Iteration 14\t time lapse 0.51251s\t ll change 0.00215\n",
      "  Iteration 15\t time lapse 0.50357s\t ll change 0.00176\n",
      "Initialization converged: False\t time lapse 8.60308s\t ll -26.91056\n"
     ]
    },
    {
     "name": "stderr",
     "output_type": "stream",
     "text": [
      "/home/av/.local/lib/python3.10/site-packages/sklearn/mixture/_base.py:274: ConvergenceWarning: Initialization 1 did not converge. Try different init parameters, or increase max_iter, tol or check for degenerate data.\n",
      "  warnings.warn(\n"
     ]
    },
    {
     "name": "stdout",
     "output_type": "stream",
     "text": [
      "Initialization 0\n",
      "  Iteration 1\t time lapse 1.80866s\t ll change inf\n",
      "  Iteration 2\t time lapse 0.56335s\t ll change 0.05521\n",
      "  Iteration 3\t time lapse 0.53598s\t ll change 0.02177\n",
      "  Iteration 4\t time lapse 0.52713s\t ll change 0.01450\n",
      "  Iteration 5\t time lapse 0.54131s\t ll change 0.01135\n",
      "  Iteration 6\t time lapse 0.54152s\t ll change 0.00940\n",
      "  Iteration 7\t time lapse 0.53985s\t ll change 0.00800\n",
      "  Iteration 8\t time lapse 0.53042s\t ll change 0.00690\n",
      "  Iteration 9\t time lapse 0.53354s\t ll change 0.00593\n",
      "  Iteration 10\t time lapse 0.53205s\t ll change 0.00504\n",
      "  Iteration 11\t time lapse 0.56409s\t ll change 0.00425\n",
      "  Iteration 12\t time lapse 0.52979s\t ll change 0.00358\n",
      "  Iteration 13\t time lapse 0.57831s\t ll change 0.00301\n",
      "  Iteration 14\t time lapse 0.56879s\t ll change 0.00253\n",
      "  Iteration 15\t time lapse 0.57348s\t ll change 0.00213\n",
      "Initialization converged: False\t time lapse 9.46838s\t ll -27.33940\n"
     ]
    },
    {
     "name": "stderr",
     "output_type": "stream",
     "text": [
      "/home/av/.local/lib/python3.10/site-packages/sklearn/mixture/_base.py:274: ConvergenceWarning: Initialization 1 did not converge. Try different init parameters, or increase max_iter, tol or check for degenerate data.\n",
      "  warnings.warn(\n",
      "100%|██████████| 600/600 [00:18<00:00, 32.26it/s]\n",
      "/home/av/IST/slp-labs/LAB2/pf_tools.py:89: UserWarning: The feature directory already exists, and no new feature extraction will be performed.\n",
      "  warnings.warn(\"The feature directory already exists, and no new feature extraction will be performed.\")\n"
     ]
    },
    {
     "name": "stdout",
     "output_type": "stream",
     "text": [
      "Accuracy Score: 0.6433333333333333\n",
      "Combination 15\n",
      "Initialization 0\n",
      "  Iteration 1\t time lapse 3.05230s\t ll change inf\n",
      "  Iteration 2\t time lapse 0.96269s\t ll change 1.42779\n",
      "  Iteration 3\t time lapse 1.00297s\t ll change 0.01872\n",
      "  Iteration 4\t time lapse 1.03115s\t ll change 0.01057\n",
      "  Iteration 5\t time lapse 0.96418s\t ll change 0.00734\n",
      "  Iteration 6\t time lapse 0.96875s\t ll change 0.00568\n",
      "  Iteration 7\t time lapse 0.94841s\t ll change 0.00473\n",
      "  Iteration 8\t time lapse 0.93374s\t ll change 0.00412\n",
      "  Iteration 9\t time lapse 0.93627s\t ll change 0.00369\n",
      "  Iteration 10\t time lapse 0.93244s\t ll change 0.00334\n",
      "  Iteration 11\t time lapse 0.92290s\t ll change 0.00300\n",
      "  Iteration 12\t time lapse 0.92889s\t ll change 0.00267\n",
      "  Iteration 13\t time lapse 0.92698s\t ll change 0.00235\n",
      "  Iteration 14\t time lapse 0.92892s\t ll change 0.00206\n",
      "  Iteration 15\t time lapse 0.94362s\t ll change 0.00180\n",
      "Initialization converged: False\t time lapse 16.38430s\t ll -27.05198\n"
     ]
    },
    {
     "name": "stderr",
     "output_type": "stream",
     "text": [
      "/home/av/.local/lib/python3.10/site-packages/sklearn/mixture/_base.py:274: ConvergenceWarning: Initialization 1 did not converge. Try different init parameters, or increase max_iter, tol or check for degenerate data.\n",
      "  warnings.warn(\n"
     ]
    },
    {
     "name": "stdout",
     "output_type": "stream",
     "text": [
      "Initialization 0\n",
      "  Iteration 1\t time lapse 4.55168s\t ll change inf\n",
      "  Iteration 2\t time lapse 0.99756s\t ll change 1.18395\n",
      "  Iteration 3\t time lapse 0.99717s\t ll change 0.02074\n",
      "  Iteration 4\t time lapse 0.99264s\t ll change 0.01232\n",
      "  Iteration 5\t time lapse 0.99837s\t ll change 0.00867\n",
      "  Iteration 6\t time lapse 1.00914s\t ll change 0.00656\n",
      "  Iteration 7\t time lapse 0.99785s\t ll change 0.00518\n",
      "  Iteration 8\t time lapse 1.02810s\t ll change 0.00422\n",
      "  Iteration 9\t time lapse 1.06700s\t ll change 0.00351\n",
      "  Iteration 10\t time lapse 1.00295s\t ll change 0.00297\n",
      "  Iteration 11\t time lapse 0.99403s\t ll change 0.00254\n",
      "  Iteration 12\t time lapse 0.98117s\t ll change 0.00219\n",
      "  Iteration 13\t time lapse 0.99051s\t ll change 0.00191\n",
      "  Iteration 14\t time lapse 1.00292s\t ll change 0.00168\n",
      "  Iteration 15\t time lapse 0.99838s\t ll change 0.00150\n",
      "Initialization converged: False\t time lapse 18.60962s\t ll -27.25396\n"
     ]
    },
    {
     "name": "stderr",
     "output_type": "stream",
     "text": [
      "/home/av/.local/lib/python3.10/site-packages/sklearn/mixture/_base.py:274: ConvergenceWarning: Initialization 1 did not converge. Try different init parameters, or increase max_iter, tol or check for degenerate data.\n",
      "  warnings.warn(\n"
     ]
    },
    {
     "name": "stdout",
     "output_type": "stream",
     "text": [
      "Initialization 0\n",
      "  Iteration 1\t time lapse 3.24977s\t ll change inf\n",
      "  Iteration 2\t time lapse 1.04257s\t ll change 1.20801\n",
      "  Iteration 3\t time lapse 1.04861s\t ll change 0.02379\n",
      "  Iteration 4\t time lapse 1.14980s\t ll change 0.01548\n",
      "  Iteration 5\t time lapse 1.06484s\t ll change 0.01122\n",
      "  Iteration 6\t time lapse 1.11207s\t ll change 0.00830\n",
      "  Iteration 7\t time lapse 1.06830s\t ll change 0.00618\n",
      "  Iteration 8\t time lapse 1.08589s\t ll change 0.00471\n",
      "  Iteration 9\t time lapse 1.06368s\t ll change 0.00371\n",
      "  Iteration 10\t time lapse 1.07241s\t ll change 0.00303\n",
      "  Iteration 11\t time lapse 1.10758s\t ll change 0.00254\n",
      "  Iteration 12\t time lapse 1.11680s\t ll change 0.00217\n",
      "  Iteration 13\t time lapse 1.06384s\t ll change 0.00185\n",
      "  Iteration 14\t time lapse 1.03756s\t ll change 0.00159\n",
      "  Iteration 15\t time lapse 1.04586s\t ll change 0.00135\n",
      "Initialization converged: False\t time lapse 18.32969s\t ll -27.67736\n"
     ]
    },
    {
     "name": "stderr",
     "output_type": "stream",
     "text": [
      "/home/av/.local/lib/python3.10/site-packages/sklearn/mixture/_base.py:274: ConvergenceWarning: Initialization 1 did not converge. Try different init parameters, or increase max_iter, tol or check for degenerate data.\n",
      "  warnings.warn(\n"
     ]
    },
    {
     "name": "stdout",
     "output_type": "stream",
     "text": [
      "Initialization 0\n",
      "  Iteration 1\t time lapse 3.74929s\t ll change inf\n",
      "  Iteration 2\t time lapse 0.95144s\t ll change 1.18270\n",
      "  Iteration 3\t time lapse 0.98219s\t ll change 0.02159\n",
      "  Iteration 4\t time lapse 0.98250s\t ll change 0.01340\n",
      "  Iteration 5\t time lapse 0.98933s\t ll change 0.01027\n",
      "  Iteration 6\t time lapse 0.98524s\t ll change 0.00860\n",
      "  Iteration 7\t time lapse 0.96957s\t ll change 0.00746\n",
      "  Iteration 8\t time lapse 0.93129s\t ll change 0.00650\n",
      "  Iteration 9\t time lapse 0.97272s\t ll change 0.00567\n",
      "  Iteration 10\t time lapse 0.95961s\t ll change 0.00491\n",
      "  Iteration 11\t time lapse 0.98328s\t ll change 0.00433\n",
      "  Iteration 12\t time lapse 0.97064s\t ll change 0.00390\n",
      "  Iteration 13\t time lapse 0.94588s\t ll change 0.00345\n",
      "  Iteration 14\t time lapse 0.95707s\t ll change 0.00324\n",
      "  Iteration 15\t time lapse 0.98972s\t ll change 0.00343\n",
      "Initialization converged: False\t time lapse 17.31986s\t ll -27.23076\n"
     ]
    },
    {
     "name": "stderr",
     "output_type": "stream",
     "text": [
      "/home/av/.local/lib/python3.10/site-packages/sklearn/mixture/_base.py:274: ConvergenceWarning: Initialization 1 did not converge. Try different init parameters, or increase max_iter, tol or check for degenerate data.\n",
      "  warnings.warn(\n"
     ]
    },
    {
     "name": "stdout",
     "output_type": "stream",
     "text": [
      "Initialization 0\n",
      "  Iteration 1\t time lapse 2.82813s\t ll change inf\n",
      "  Iteration 2\t time lapse 1.07510s\t ll change 1.53054\n",
      "  Iteration 3\t time lapse 1.12543s\t ll change 0.02104\n",
      "  Iteration 4\t time lapse 1.12003s\t ll change 0.01300\n",
      "  Iteration 5\t time lapse 1.02013s\t ll change 0.00960\n",
      "  Iteration 6\t time lapse 0.99107s\t ll change 0.00756\n",
      "  Iteration 7\t time lapse 0.91185s\t ll change 0.00610\n",
      "  Iteration 8\t time lapse 0.89416s\t ll change 0.00498\n",
      "  Iteration 9\t time lapse 0.88659s\t ll change 0.00413\n",
      "  Iteration 10\t time lapse 0.91007s\t ll change 0.00347\n",
      "  Iteration 11\t time lapse 0.89006s\t ll change 0.00296\n",
      "  Iteration 12\t time lapse 0.92849s\t ll change 0.00255\n",
      "  Iteration 13\t time lapse 0.93525s\t ll change 0.00224\n",
      "  Iteration 14\t time lapse 0.86397s\t ll change 0.00200\n",
      "  Iteration 15\t time lapse 0.90315s\t ll change 0.00182\n",
      "Initialization converged: False\t time lapse 16.28388s\t ll -26.83678\n"
     ]
    },
    {
     "name": "stderr",
     "output_type": "stream",
     "text": [
      "/home/av/.local/lib/python3.10/site-packages/sklearn/mixture/_base.py:274: ConvergenceWarning: Initialization 1 did not converge. Try different init parameters, or increase max_iter, tol or check for degenerate data.\n",
      "  warnings.warn(\n"
     ]
    },
    {
     "name": "stdout",
     "output_type": "stream",
     "text": [
      "Initialization 0\n",
      "  Iteration 1\t time lapse 3.47581s\t ll change inf\n",
      "  Iteration 2\t time lapse 0.97235s\t ll change 0.05774\n",
      "  Iteration 3\t time lapse 0.92693s\t ll change 0.01974\n",
      "  Iteration 4\t time lapse 0.95269s\t ll change 0.01189\n",
      "  Iteration 5\t time lapse 0.95986s\t ll change 0.00883\n",
      "  Iteration 6\t time lapse 0.96808s\t ll change 0.00699\n",
      "  Iteration 7\t time lapse 0.97855s\t ll change 0.00569\n",
      "  Iteration 8\t time lapse 0.94145s\t ll change 0.00477\n",
      "  Iteration 9\t time lapse 0.94856s\t ll change 0.00415\n",
      "  Iteration 10\t time lapse 0.98013s\t ll change 0.00377\n",
      "  Iteration 11\t time lapse 0.96136s\t ll change 0.00357\n",
      "  Iteration 12\t time lapse 0.97325s\t ll change 0.00345\n",
      "  Iteration 13\t time lapse 0.95069s\t ll change 0.00332\n",
      "  Iteration 14\t time lapse 0.94817s\t ll change 0.00313\n",
      "  Iteration 15\t time lapse 0.96210s\t ll change 0.00284\n",
      "Initialization converged: False\t time lapse 16.90042s\t ll -27.25014\n"
     ]
    },
    {
     "name": "stderr",
     "output_type": "stream",
     "text": [
      "/home/av/.local/lib/python3.10/site-packages/sklearn/mixture/_base.py:274: ConvergenceWarning: Initialization 1 did not converge. Try different init parameters, or increase max_iter, tol or check for degenerate data.\n",
      "  warnings.warn(\n",
      "100%|██████████| 600/600 [00:29<00:00, 20.42it/s]\n",
      "/home/av/IST/slp-labs/LAB2/pf_tools.py:89: UserWarning: The feature directory already exists, and no new feature extraction will be performed.\n",
      "  warnings.warn(\"The feature directory already exists, and no new feature extraction will be performed.\")\n"
     ]
    },
    {
     "name": "stdout",
     "output_type": "stream",
     "text": [
      "Accuracy Score: 0.6733333333333333\n",
      "Combination 16\n",
      "Initialization 0\n",
      "  Iteration 1\t time lapse 0.83804s\t ll change inf\n",
      "  Iteration 2\t time lapse 0.33762s\t ll change 1.61907\n",
      "  Iteration 3\t time lapse 0.37713s\t ll change 0.02189\n",
      "  Iteration 4\t time lapse 0.34564s\t ll change 0.01371\n",
      "  Iteration 5\t time lapse 0.34103s\t ll change 0.00911\n",
      "  Iteration 6\t time lapse 0.37313s\t ll change 0.00627\n",
      "  Iteration 7\t time lapse 0.34183s\t ll change 0.00452\n",
      "  Iteration 8\t time lapse 0.35117s\t ll change 0.00343\n",
      "  Iteration 9\t time lapse 0.34203s\t ll change 0.00273\n",
      "  Iteration 10\t time lapse 0.33996s\t ll change 0.00226\n",
      "  Iteration 11\t time lapse 0.35437s\t ll change 0.00192\n",
      "  Iteration 12\t time lapse 0.33873s\t ll change 0.00164\n",
      "  Iteration 13\t time lapse 0.33747s\t ll change 0.00141\n",
      "  Iteration 14\t time lapse 0.35235s\t ll change 0.00121\n",
      "  Iteration 15\t time lapse 0.33737s\t ll change 0.00103\n",
      "Initialization converged: False\t time lapse 5.70798s\t ll -27.27224\n"
     ]
    },
    {
     "name": "stderr",
     "output_type": "stream",
     "text": [
      "/home/av/.local/lib/python3.10/site-packages/sklearn/mixture/_base.py:274: ConvergenceWarning: Initialization 1 did not converge. Try different init parameters, or increase max_iter, tol or check for degenerate data.\n",
      "  warnings.warn(\n"
     ]
    },
    {
     "name": "stdout",
     "output_type": "stream",
     "text": [
      "Initialization 0\n",
      "  Iteration 1\t time lapse 1.09283s\t ll change inf\n",
      "  Iteration 2\t time lapse 0.38509s\t ll change 1.30754\n",
      "  Iteration 3\t time lapse 0.34648s\t ll change 0.01977\n",
      "  Iteration 4\t time lapse 0.35218s\t ll change 0.01268\n",
      "  Iteration 5\t time lapse 0.37835s\t ll change 0.00844\n",
      "  Iteration 6\t time lapse 0.34610s\t ll change 0.00597\n",
      "  Iteration 7\t time lapse 0.36526s\t ll change 0.00495\n",
      "  Iteration 8\t time lapse 0.35570s\t ll change 0.00504\n",
      "  Iteration 9\t time lapse 0.34919s\t ll change 0.00590\n",
      "  Iteration 10\t time lapse 0.36095s\t ll change 0.00701\n",
      "  Iteration 11\t time lapse 0.34787s\t ll change 0.00756\n",
      "  Iteration 12\t time lapse 0.35650s\t ll change 0.00696\n",
      "  Iteration 13\t time lapse 0.36007s\t ll change 0.00541\n",
      "  Iteration 14\t time lapse 0.34901s\t ll change 0.00367\n",
      "  Iteration 15\t time lapse 0.34476s\t ll change 0.00232\n",
      "Initialization converged: False\t time lapse 6.09041s\t ll -27.54238\n"
     ]
    },
    {
     "name": "stderr",
     "output_type": "stream",
     "text": [
      "/home/av/.local/lib/python3.10/site-packages/sklearn/mixture/_base.py:274: ConvergenceWarning: Initialization 1 did not converge. Try different init parameters, or increase max_iter, tol or check for degenerate data.\n",
      "  warnings.warn(\n"
     ]
    },
    {
     "name": "stdout",
     "output_type": "stream",
     "text": [
      "Initialization 0\n",
      "  Iteration 1\t time lapse 1.05754s\t ll change inf\n",
      "  Iteration 2\t time lapse 0.35256s\t ll change 1.44774\n",
      "  Iteration 3\t time lapse 0.36612s\t ll change 0.02239\n",
      "  Iteration 4\t time lapse 0.42192s\t ll change 0.01413\n",
      "  Iteration 5\t time lapse 0.36720s\t ll change 0.01046\n",
      "  Iteration 6\t time lapse 0.38674s\t ll change 0.00811\n",
      "  Iteration 7\t time lapse 0.36722s\t ll change 0.00628\n",
      "  Iteration 8\t time lapse 0.37038s\t ll change 0.00480\n",
      "  Iteration 9\t time lapse 0.38165s\t ll change 0.00366\n",
      "  Iteration 10\t time lapse 0.37003s\t ll change 0.00281\n",
      "  Iteration 11\t time lapse 0.36692s\t ll change 0.00219\n",
      "  Iteration 12\t time lapse 0.38257s\t ll change 0.00173\n",
      "  Iteration 13\t time lapse 0.36746s\t ll change 0.00139\n",
      "  Iteration 14\t time lapse 0.38578s\t ll change 0.00112\n",
      "  Iteration 15\t time lapse 0.36822s\t ll change 0.00092\n",
      "Initialization converged: True\t time lapse 6.31239s\t ll -27.97364\n",
      "Initialization 0\n",
      "  Iteration 1\t time lapse 1.02404s\t ll change inf\n",
      "  Iteration 2\t time lapse 0.34787s\t ll change 1.48186\n",
      "  Iteration 3\t time lapse 0.32789s\t ll change 0.02474\n",
      "  Iteration 4\t time lapse 0.32933s\t ll change 0.01695\n",
      "  Iteration 5\t time lapse 0.33512s\t ll change 0.01194\n",
      "  Iteration 6\t time lapse 0.33639s\t ll change 0.00835\n",
      "  Iteration 7\t time lapse 0.33470s\t ll change 0.00579\n",
      "  Iteration 8\t time lapse 0.34163s\t ll change 0.00398\n",
      "  Iteration 9\t time lapse 0.33573s\t ll change 0.00272\n",
      "  Iteration 10\t time lapse 0.33345s\t ll change 0.00187\n",
      "  Iteration 11\t time lapse 0.33508s\t ll change 0.00129\n",
      "  Iteration 12\t time lapse 0.33053s\t ll change 0.00091\n",
      "Initialization converged: True\t time lapse 4.71182s\t ll -27.43285\n",
      "Initialization 0\n",
      "  Iteration 1\t time lapse 0.74740s\t ll change inf\n",
      "  Iteration 2\t time lapse 0.31804s\t ll change 1.79931\n",
      "  Iteration 3\t time lapse 0.31560s\t ll change 0.02274\n",
      "  Iteration 4\t time lapse 0.31711s\t ll change 0.01590\n",
      "  Iteration 5\t time lapse 0.31753s\t ll change 0.01240\n",
      "  Iteration 6\t time lapse 0.32450s\t ll change 0.01008\n",
      "  Iteration 7\t time lapse 0.32499s\t ll change 0.00822\n",
      "  Iteration 8\t time lapse 0.33311s\t ll change 0.00659\n",
      "  Iteration 9\t time lapse 0.33030s\t ll change 0.00513\n",
      "  Iteration 10\t time lapse 0.31495s\t ll change 0.00389\n",
      "  Iteration 11\t time lapse 0.32114s\t ll change 0.00289\n",
      "  Iteration 12\t time lapse 0.33528s\t ll change 0.00212\n",
      "  Iteration 13\t time lapse 0.32627s\t ll change 0.00155\n",
      "  Iteration 14\t time lapse 0.32520s\t ll change 0.00115\n",
      "  Iteration 15\t time lapse 0.33442s\t ll change 0.00087\n",
      "Initialization converged: True\t time lapse 5.28590s\t ll -27.00436\n",
      "Initialization 0\n",
      "  Iteration 1\t time lapse 0.74003s\t ll change inf\n",
      "  Iteration 2\t time lapse 0.33026s\t ll change 1.18787\n",
      "  Iteration 3\t time lapse 0.32829s\t ll change 0.01551\n",
      "  Iteration 4\t time lapse 0.32381s\t ll change 0.01044\n",
      "  Iteration 5\t time lapse 0.33122s\t ll change 0.00887\n",
      "  Iteration 6\t time lapse 0.32512s\t ll change 0.00850\n",
      "  Iteration 7\t time lapse 0.32560s\t ll change 0.00868\n",
      "  Iteration 8\t time lapse 0.32642s\t ll change 0.00887\n",
      "  Iteration 9\t time lapse 0.32866s\t ll change 0.00824\n",
      "  Iteration 10\t time lapse 0.32672s\t ll change 0.00660\n",
      "  Iteration 11\t time lapse 0.32891s\t ll change 0.00470\n",
      "  Iteration 12\t time lapse 0.32705s\t ll change 0.00319\n",
      "  Iteration 13\t time lapse 0.33056s\t ll change 0.00220\n",
      "  Iteration 14\t time lapse 0.33364s\t ll change 0.00160\n",
      "  Iteration 15\t time lapse 0.32920s\t ll change 0.00124\n",
      "Initialization converged: False\t time lapse 5.33556s\t ll -27.47378\n"
     ]
    },
    {
     "name": "stderr",
     "output_type": "stream",
     "text": [
      "/home/av/.local/lib/python3.10/site-packages/sklearn/mixture/_base.py:274: ConvergenceWarning: Initialization 1 did not converge. Try different init parameters, or increase max_iter, tol or check for degenerate data.\n",
      "  warnings.warn(\n",
      "100%|██████████| 600/600 [00:12<00:00, 47.66it/s]\n",
      "/home/av/IST/slp-labs/LAB2/pf_tools.py:89: UserWarning: The feature directory already exists, and no new feature extraction will be performed.\n",
      "  warnings.warn(\"The feature directory already exists, and no new feature extraction will be performed.\")\n"
     ]
    },
    {
     "name": "stdout",
     "output_type": "stream",
     "text": [
      "Accuracy Score: 0.6216666666666667\n",
      "Combination 17\n",
      "Initialization 0\n",
      "  Iteration 1\t time lapse 1.57694s\t ll change inf\n",
      "  Iteration 2\t time lapse 0.57578s\t ll change 1.44682\n",
      "  Iteration 3\t time lapse 0.57839s\t ll change 0.02082\n",
      "  Iteration 4\t time lapse 0.55010s\t ll change 0.01241\n",
      "  Iteration 5\t time lapse 0.56351s\t ll change 0.00845\n",
      "  Iteration 6\t time lapse 0.56573s\t ll change 0.00615\n",
      "  Iteration 7\t time lapse 0.53594s\t ll change 0.00476\n",
      "  Iteration 8\t time lapse 0.55049s\t ll change 0.00389\n",
      "  Iteration 9\t time lapse 0.55540s\t ll change 0.00331\n",
      "  Iteration 10\t time lapse 0.55222s\t ll change 0.00290\n",
      "  Iteration 11\t time lapse 0.55300s\t ll change 0.00257\n",
      "  Iteration 12\t time lapse 0.60155s\t ll change 0.00228\n",
      "  Iteration 13\t time lapse 0.53757s\t ll change 0.00202\n",
      "  Iteration 14\t time lapse 0.66529s\t ll change 0.00176\n",
      "  Iteration 15\t time lapse 0.64807s\t ll change 0.00152\n",
      "Initialization converged: False\t time lapse 9.61034s\t ll -27.14896\n"
     ]
    },
    {
     "name": "stderr",
     "output_type": "stream",
     "text": [
      "/home/av/.local/lib/python3.10/site-packages/sklearn/mixture/_base.py:274: ConvergenceWarning: Initialization 1 did not converge. Try different init parameters, or increase max_iter, tol or check for degenerate data.\n",
      "  warnings.warn(\n"
     ]
    },
    {
     "name": "stdout",
     "output_type": "stream",
     "text": [
      "Initialization 0\n",
      "  Iteration 1\t time lapse 2.05666s\t ll change inf\n",
      "  Iteration 2\t time lapse 0.63779s\t ll change 1.21359\n",
      "  Iteration 3\t time lapse 0.62358s\t ll change 0.01880\n",
      "  Iteration 4\t time lapse 0.59634s\t ll change 0.01183\n",
      "  Iteration 5\t time lapse 0.61339s\t ll change 0.00881\n",
      "  Iteration 6\t time lapse 0.60291s\t ll change 0.00709\n",
      "  Iteration 7\t time lapse 0.62814s\t ll change 0.00589\n",
      "  Iteration 8\t time lapse 0.62626s\t ll change 0.00495\n",
      "  Iteration 9\t time lapse 0.60223s\t ll change 0.00420\n",
      "  Iteration 10\t time lapse 0.63302s\t ll change 0.00364\n",
      "  Iteration 11\t time lapse 0.66081s\t ll change 0.00330\n",
      "  Iteration 12\t time lapse 0.59638s\t ll change 0.00312\n",
      "  Iteration 13\t time lapse 0.62024s\t ll change 0.00303\n",
      "  Iteration 14\t time lapse 0.60761s\t ll change 0.00290\n",
      "  Iteration 15\t time lapse 0.68364s\t ll change 0.00267\n",
      "Initialization converged: False\t time lapse 10.78939s\t ll -27.36590\n"
     ]
    },
    {
     "name": "stderr",
     "output_type": "stream",
     "text": [
      "/home/av/.local/lib/python3.10/site-packages/sklearn/mixture/_base.py:274: ConvergenceWarning: Initialization 1 did not converge. Try different init parameters, or increase max_iter, tol or check for degenerate data.\n",
      "  warnings.warn(\n"
     ]
    },
    {
     "name": "stdout",
     "output_type": "stream",
     "text": [
      "Initialization 0\n",
      "  Iteration 1\t time lapse 1.54612s\t ll change inf\n",
      "  Iteration 2\t time lapse 0.64655s\t ll change 1.25474\n",
      "  Iteration 3\t time lapse 0.63433s\t ll change 0.02299\n",
      "  Iteration 4\t time lapse 0.66534s\t ll change 0.01592\n",
      "  Iteration 5\t time lapse 0.64193s\t ll change 0.01211\n",
      "  Iteration 6\t time lapse 0.63730s\t ll change 0.00919\n",
      "  Iteration 7\t time lapse 0.63427s\t ll change 0.00684\n",
      "  Iteration 8\t time lapse 0.64937s\t ll change 0.00509\n",
      "  Iteration 9\t time lapse 0.63699s\t ll change 0.00388\n",
      "  Iteration 10\t time lapse 0.66443s\t ll change 0.00309\n",
      "  Iteration 11\t time lapse 0.64329s\t ll change 0.00255\n",
      "  Iteration 12\t time lapse 0.62369s\t ll change 0.00217\n",
      "  Iteration 13\t time lapse 0.70326s\t ll change 0.00190\n",
      "  Iteration 14\t time lapse 0.65889s\t ll change 0.00169\n",
      "  Iteration 15\t time lapse 0.68074s\t ll change 0.00154\n",
      "Initialization converged: False\t time lapse 10.66660s\t ll -27.83064\n"
     ]
    },
    {
     "name": "stderr",
     "output_type": "stream",
     "text": [
      "/home/av/.local/lib/python3.10/site-packages/sklearn/mixture/_base.py:274: ConvergenceWarning: Initialization 1 did not converge. Try different init parameters, or increase max_iter, tol or check for degenerate data.\n",
      "  warnings.warn(\n"
     ]
    },
    {
     "name": "stdout",
     "output_type": "stream",
     "text": [
      "Initialization 0\n",
      "  Iteration 1\t time lapse 1.38144s\t ll change inf\n",
      "  Iteration 2\t time lapse 0.54080s\t ll change 1.41776\n",
      "  Iteration 3\t time lapse 0.53578s\t ll change 0.02331\n",
      "  Iteration 4\t time lapse 0.56084s\t ll change 0.01539\n",
      "  Iteration 5\t time lapse 0.52971s\t ll change 0.01176\n",
      "  Iteration 6\t time lapse 0.53831s\t ll change 0.00969\n",
      "  Iteration 7\t time lapse 0.52733s\t ll change 0.00845\n",
      "  Iteration 8\t time lapse 0.55692s\t ll change 0.00764\n",
      "  Iteration 9\t time lapse 0.54308s\t ll change 0.00694\n",
      "  Iteration 10\t time lapse 0.52715s\t ll change 0.00604\n",
      "  Iteration 11\t time lapse 0.54311s\t ll change 0.00493\n",
      "  Iteration 12\t time lapse 0.53726s\t ll change 0.00394\n",
      "  Iteration 13\t time lapse 0.53865s\t ll change 0.00321\n",
      "  Iteration 14\t time lapse 0.54790s\t ll change 0.00269\n",
      "  Iteration 15\t time lapse 0.53911s\t ll change 0.00234\n",
      "Initialization converged: False\t time lapse 8.94781s\t ll -27.31589\n"
     ]
    },
    {
     "name": "stderr",
     "output_type": "stream",
     "text": [
      "/home/av/.local/lib/python3.10/site-packages/sklearn/mixture/_base.py:274: ConvergenceWarning: Initialization 1 did not converge. Try different init parameters, or increase max_iter, tol or check for degenerate data.\n",
      "  warnings.warn(\n"
     ]
    },
    {
     "name": "stdout",
     "output_type": "stream",
     "text": [
      "Initialization 0\n",
      "  Iteration 1\t time lapse 1.41462s\t ll change inf\n",
      "  Iteration 2\t time lapse 0.73792s\t ll change 1.64278\n",
      "  Iteration 3\t time lapse 0.50719s\t ll change 0.01951\n",
      "  Iteration 4\t time lapse 0.50473s\t ll change 0.01270\n",
      "  Iteration 5\t time lapse 0.50181s\t ll change 0.00971\n",
      "  Iteration 6\t time lapse 0.50546s\t ll change 0.00793\n",
      "  Iteration 7\t time lapse 0.52396s\t ll change 0.00666\n",
      "  Iteration 8\t time lapse 0.50510s\t ll change 0.00569\n",
      "  Iteration 9\t time lapse 0.63002s\t ll change 0.00499\n",
      "  Iteration 10\t time lapse 0.52365s\t ll change 0.00454\n",
      "  Iteration 11\t time lapse 0.50451s\t ll change 0.00431\n",
      "  Iteration 12\t time lapse 0.52765s\t ll change 0.00417\n",
      "  Iteration 13\t time lapse 0.50327s\t ll change 0.00398\n",
      "  Iteration 14\t time lapse 0.52316s\t ll change 0.00365\n",
      "  Iteration 15\t time lapse 0.50232s\t ll change 0.00316\n",
      "Initialization converged: False\t time lapse 8.91575s\t ll -26.90977\n"
     ]
    },
    {
     "name": "stderr",
     "output_type": "stream",
     "text": [
      "/home/av/.local/lib/python3.10/site-packages/sklearn/mixture/_base.py:274: ConvergenceWarning: Initialization 1 did not converge. Try different init parameters, or increase max_iter, tol or check for degenerate data.\n",
      "  warnings.warn(\n"
     ]
    },
    {
     "name": "stdout",
     "output_type": "stream",
     "text": [
      "Initialization 0\n",
      "  Iteration 1\t time lapse 1.49428s\t ll change inf\n",
      "  Iteration 2\t time lapse 0.55323s\t ll change 0.05470\n",
      "  Iteration 3\t time lapse 0.52780s\t ll change 0.02147\n",
      "  Iteration 4\t time lapse 0.53585s\t ll change 0.01426\n",
      "  Iteration 5\t time lapse 0.52468s\t ll change 0.01116\n",
      "  Iteration 6\t time lapse 0.53727s\t ll change 0.00929\n",
      "  Iteration 7\t time lapse 0.54178s\t ll change 0.00796\n",
      "  Iteration 8\t time lapse 0.55952s\t ll change 0.00691\n",
      "  Iteration 9\t time lapse 0.52781s\t ll change 0.00601\n",
      "  Iteration 10\t time lapse 0.60972s\t ll change 0.00518\n",
      "  Iteration 11\t time lapse 0.60618s\t ll change 0.00444\n",
      "  Iteration 12\t time lapse 0.52799s\t ll change 0.00379\n",
      "  Iteration 13\t time lapse 0.53588s\t ll change 0.00322\n",
      "  Iteration 14\t time lapse 0.52564s\t ll change 0.00271\n",
      "  Iteration 15\t time lapse 0.56328s\t ll change 0.00228\n",
      "Initialization converged: False\t time lapse 9.17131s\t ll -27.34029\n"
     ]
    },
    {
     "name": "stderr",
     "output_type": "stream",
     "text": [
      "/home/av/.local/lib/python3.10/site-packages/sklearn/mixture/_base.py:274: ConvergenceWarning: Initialization 1 did not converge. Try different init parameters, or increase max_iter, tol or check for degenerate data.\n",
      "  warnings.warn(\n",
      "100%|██████████| 600/600 [00:21<00:00, 28.47it/s]\n",
      "/home/av/IST/slp-labs/LAB2/pf_tools.py:89: UserWarning: The feature directory already exists, and no new feature extraction will be performed.\n",
      "  warnings.warn(\"The feature directory already exists, and no new feature extraction will be performed.\")\n"
     ]
    },
    {
     "name": "stdout",
     "output_type": "stream",
     "text": [
      "Accuracy Score: 0.6366666666666667\n",
      "Combination 18\n",
      "Initialization 0\n",
      "  Iteration 1\t time lapse 3.28668s\t ll change inf\n",
      "  Iteration 2\t time lapse 0.99181s\t ll change 1.42795\n",
      "  Iteration 3\t time lapse 0.98746s\t ll change 0.01902\n",
      "  Iteration 4\t time lapse 0.99574s\t ll change 0.01065\n",
      "  Iteration 5\t time lapse 1.02260s\t ll change 0.00728\n",
      "  Iteration 6\t time lapse 1.01305s\t ll change 0.00553\n",
      "  Iteration 7\t time lapse 0.97561s\t ll change 0.00448\n",
      "  Iteration 8\t time lapse 0.96946s\t ll change 0.00379\n",
      "  Iteration 9\t time lapse 0.95839s\t ll change 0.00331\n",
      "  Iteration 10\t time lapse 0.93329s\t ll change 0.00297\n",
      "  Iteration 11\t time lapse 0.94473s\t ll change 0.00271\n",
      "  Iteration 12\t time lapse 0.99772s\t ll change 0.00251\n",
      "  Iteration 13\t time lapse 0.95737s\t ll change 0.00232\n",
      "  Iteration 14\t time lapse 0.95625s\t ll change 0.00211\n",
      "  Iteration 15\t time lapse 0.94434s\t ll change 0.00191\n",
      "Initialization converged: False\t time lapse 16.93464s\t ll -27.04916\n"
     ]
    },
    {
     "name": "stderr",
     "output_type": "stream",
     "text": [
      "/home/av/.local/lib/python3.10/site-packages/sklearn/mixture/_base.py:274: ConvergenceWarning: Initialization 1 did not converge. Try different init parameters, or increase max_iter, tol or check for degenerate data.\n",
      "  warnings.warn(\n"
     ]
    },
    {
     "name": "stdout",
     "output_type": "stream",
     "text": [
      "Initialization 0\n",
      "  Iteration 1\t time lapse 4.29679s\t ll change inf\n",
      "  Iteration 2\t time lapse 1.23626s\t ll change 1.09696\n",
      "  Iteration 3\t time lapse 1.06567s\t ll change 0.01998\n",
      "  Iteration 4\t time lapse 0.98011s\t ll change 0.01192\n",
      "  Iteration 5\t time lapse 0.99686s\t ll change 0.00848\n",
      "  Iteration 6\t time lapse 0.98575s\t ll change 0.00658\n",
      "  Iteration 7\t time lapse 1.00012s\t ll change 0.00539\n",
      "  Iteration 8\t time lapse 1.00172s\t ll change 0.00458\n",
      "  Iteration 9\t time lapse 0.99129s\t ll change 0.00400\n",
      "  Iteration 10\t time lapse 0.99844s\t ll change 0.00356\n",
      "  Iteration 11\t time lapse 0.98559s\t ll change 0.00321\n",
      "  Iteration 12\t time lapse 0.98280s\t ll change 0.00293\n",
      "  Iteration 13\t time lapse 0.99572s\t ll change 0.00270\n",
      "  Iteration 14\t time lapse 1.00014s\t ll change 0.00251\n",
      "  Iteration 15\t time lapse 0.99061s\t ll change 0.00234\n",
      "Initialization converged: False\t time lapse 18.50831s\t ll -27.25739\n"
     ]
    },
    {
     "name": "stderr",
     "output_type": "stream",
     "text": [
      "/home/av/.local/lib/python3.10/site-packages/sklearn/mixture/_base.py:274: ConvergenceWarning: Initialization 1 did not converge. Try different init parameters, or increase max_iter, tol or check for degenerate data.\n",
      "  warnings.warn(\n"
     ]
    },
    {
     "name": "stdout",
     "output_type": "stream",
     "text": [
      "Initialization 0\n",
      "  Iteration 1\t time lapse 3.40208s\t ll change inf\n",
      "  Iteration 2\t time lapse 1.12323s\t ll change 1.17916\n",
      "  Iteration 3\t time lapse 1.12236s\t ll change 0.02351\n",
      "  Iteration 4\t time lapse 1.13584s\t ll change 0.01588\n",
      "  Iteration 5\t time lapse 1.10423s\t ll change 0.01211\n",
      "  Iteration 6\t time lapse 1.02809s\t ll change 0.00955\n",
      "  Iteration 7\t time lapse 1.03181s\t ll change 0.00768\n",
      "  Iteration 8\t time lapse 1.10903s\t ll change 0.00611\n",
      "  Iteration 9\t time lapse 1.12613s\t ll change 0.00478\n",
      "  Iteration 10\t time lapse 1.18457s\t ll change 0.00373\n",
      "  Iteration 11\t time lapse 1.03105s\t ll change 0.00296\n",
      "  Iteration 12\t time lapse 1.03269s\t ll change 0.00243\n",
      "  Iteration 13\t time lapse 1.01549s\t ll change 0.00207\n",
      "  Iteration 14\t time lapse 1.12033s\t ll change 0.00180\n",
      "  Iteration 15\t time lapse 1.08242s\t ll change 0.00160\n",
      "Initialization converged: False\t time lapse 18.64946s\t ll -27.68140\n"
     ]
    },
    {
     "name": "stderr",
     "output_type": "stream",
     "text": [
      "/home/av/.local/lib/python3.10/site-packages/sklearn/mixture/_base.py:274: ConvergenceWarning: Initialization 1 did not converge. Try different init parameters, or increase max_iter, tol or check for degenerate data.\n",
      "  warnings.warn(\n"
     ]
    },
    {
     "name": "stdout",
     "output_type": "stream",
     "text": [
      "Initialization 0\n",
      "  Iteration 1\t time lapse 3.08100s\t ll change inf\n",
      "  Iteration 2\t time lapse 0.97095s\t ll change 1.18145\n",
      "  Iteration 3\t time lapse 0.96335s\t ll change 0.02077\n",
      "  Iteration 4\t time lapse 0.94731s\t ll change 0.01291\n",
      "  Iteration 5\t time lapse 0.94603s\t ll change 0.01000\n",
      "  Iteration 6\t time lapse 0.95321s\t ll change 0.00848\n",
      "  Iteration 7\t time lapse 0.94258s\t ll change 0.00750\n",
      "  Iteration 8\t time lapse 0.99892s\t ll change 0.00679\n",
      "  Iteration 9\t time lapse 0.95394s\t ll change 0.00617\n",
      "  Iteration 10\t time lapse 1.03074s\t ll change 0.00560\n",
      "  Iteration 11\t time lapse 0.94745s\t ll change 0.00504\n",
      "  Iteration 12\t time lapse 0.95645s\t ll change 0.00444\n",
      "  Iteration 13\t time lapse 0.97786s\t ll change 0.00416\n",
      "  Iteration 14\t time lapse 1.00107s\t ll change 0.00437\n",
      "  Iteration 15\t time lapse 1.00065s\t ll change 0.00566\n",
      "Initialization converged: False\t time lapse 16.67193s\t ll -27.22390\n"
     ]
    },
    {
     "name": "stderr",
     "output_type": "stream",
     "text": [
      "/home/av/.local/lib/python3.10/site-packages/sklearn/mixture/_base.py:274: ConvergenceWarning: Initialization 1 did not converge. Try different init parameters, or increase max_iter, tol or check for degenerate data.\n",
      "  warnings.warn(\n"
     ]
    },
    {
     "name": "stdout",
     "output_type": "stream",
     "text": [
      "Initialization 0\n",
      "  Iteration 1\t time lapse 3.56448s\t ll change inf\n",
      "  Iteration 2\t time lapse 0.89642s\t ll change 1.53881\n",
      "  Iteration 3\t time lapse 0.90326s\t ll change 0.02059\n",
      "  Iteration 4\t time lapse 0.90250s\t ll change 0.01261\n",
      "  Iteration 5\t time lapse 0.91557s\t ll change 0.00925\n",
      "  Iteration 6\t time lapse 0.86420s\t ll change 0.00750\n",
      "  Iteration 7\t time lapse 0.89594s\t ll change 0.00650\n",
      "  Iteration 8\t time lapse 0.87305s\t ll change 0.00587\n",
      "  Iteration 9\t time lapse 0.91879s\t ll change 0.00536\n",
      "  Iteration 10\t time lapse 0.87864s\t ll change 0.00485\n",
      "  Iteration 11\t time lapse 0.87823s\t ll change 0.00431\n",
      "  Iteration 12\t time lapse 0.88460s\t ll change 0.00373\n",
      "  Iteration 13\t time lapse 0.88637s\t ll change 0.00320\n",
      "  Iteration 14\t time lapse 0.90296s\t ll change 0.00275\n",
      "  Iteration 15\t time lapse 0.85706s\t ll change 0.00236\n",
      "Initialization converged: False\t time lapse 16.02249s\t ll -26.83738\n"
     ]
    },
    {
     "name": "stderr",
     "output_type": "stream",
     "text": [
      "/home/av/.local/lib/python3.10/site-packages/sklearn/mixture/_base.py:274: ConvergenceWarning: Initialization 1 did not converge. Try different init parameters, or increase max_iter, tol or check for degenerate data.\n",
      "  warnings.warn(\n"
     ]
    },
    {
     "name": "stdout",
     "output_type": "stream",
     "text": [
      "Initialization 0\n",
      "  Iteration 1\t time lapse 3.97082s\t ll change inf\n",
      "  Iteration 2\t time lapse 0.95549s\t ll change 0.05777\n",
      "  Iteration 3\t time lapse 0.98489s\t ll change 0.01982\n",
      "  Iteration 4\t time lapse 0.95882s\t ll change 0.01192\n",
      "  Iteration 5\t time lapse 0.94678s\t ll change 0.00880\n",
      "  Iteration 6\t time lapse 0.94769s\t ll change 0.00690\n",
      "  Iteration 7\t time lapse 0.97123s\t ll change 0.00556\n",
      "  Iteration 8\t time lapse 0.94371s\t ll change 0.00463\n",
      "  Iteration 9\t time lapse 0.94602s\t ll change 0.00402\n",
      "  Iteration 10\t time lapse 0.94824s\t ll change 0.00366\n",
      "  Iteration 11\t time lapse 0.95131s\t ll change 0.00347\n",
      "  Iteration 12\t time lapse 0.94409s\t ll change 0.00332\n",
      "  Iteration 13\t time lapse 1.03707s\t ll change 0.00312\n",
      "  Iteration 14\t time lapse 1.07954s\t ll change 0.00281\n",
      "  Iteration 15\t time lapse 1.17737s\t ll change 0.00246\n",
      "Initialization converged: False\t time lapse 17.76318s\t ll -27.25074\n"
     ]
    },
    {
     "name": "stderr",
     "output_type": "stream",
     "text": [
      "/home/av/.local/lib/python3.10/site-packages/sklearn/mixture/_base.py:274: ConvergenceWarning: Initialization 1 did not converge. Try different init parameters, or increase max_iter, tol or check for degenerate data.\n",
      "  warnings.warn(\n",
      "100%|██████████| 600/600 [00:28<00:00, 21.39it/s]\n",
      "/home/av/IST/slp-labs/LAB2/pf_tools.py:89: UserWarning: The feature directory already exists, and no new feature extraction will be performed.\n",
      "  warnings.warn(\"The feature directory already exists, and no new feature extraction will be performed.\")\n"
     ]
    },
    {
     "name": "stdout",
     "output_type": "stream",
     "text": [
      "Accuracy Score: 0.6683333333333333\n",
      "Combination 19\n",
      "Initialization 0\n",
      "  Iteration 1\t time lapse 1.10069s\t ll change inf\n",
      "  Iteration 2\t time lapse 0.39021s\t ll change 1.60004\n",
      "  Iteration 3\t time lapse 0.32756s\t ll change 0.02192\n",
      "  Iteration 4\t time lapse 0.32431s\t ll change 0.01391\n",
      "  Iteration 5\t time lapse 0.34401s\t ll change 0.00931\n",
      "  Iteration 6\t time lapse 0.32778s\t ll change 0.00642\n",
      "  Iteration 7\t time lapse 0.32735s\t ll change 0.00463\n",
      "  Iteration 8\t time lapse 0.34827s\t ll change 0.00351\n",
      "  Iteration 9\t time lapse 0.32846s\t ll change 0.00279\n",
      "  Iteration 10\t time lapse 0.32389s\t ll change 0.00231\n",
      "  Iteration 11\t time lapse 0.35687s\t ll change 0.00196\n",
      "  Iteration 12\t time lapse 0.32529s\t ll change 0.00169\n",
      "  Iteration 13\t time lapse 0.32606s\t ll change 0.00145\n",
      "  Iteration 14\t time lapse 0.33962s\t ll change 0.00125\n",
      "  Iteration 15\t time lapse 0.33039s\t ll change 0.00107\n",
      "Initialization converged: False\t time lapse 5.82083s\t ll -27.27254\n"
     ]
    },
    {
     "name": "stderr",
     "output_type": "stream",
     "text": [
      "/home/av/.local/lib/python3.10/site-packages/sklearn/mixture/_base.py:274: ConvergenceWarning: Initialization 1 did not converge. Try different init parameters, or increase max_iter, tol or check for degenerate data.\n",
      "  warnings.warn(\n"
     ]
    },
    {
     "name": "stdout",
     "output_type": "stream",
     "text": [
      "Initialization 0\n",
      "  Iteration 1\t time lapse 0.88193s\t ll change inf\n",
      "  Iteration 2\t time lapse 0.34145s\t ll change 1.31017\n",
      "  Iteration 3\t time lapse 0.37034s\t ll change 0.01484\n",
      "  Iteration 4\t time lapse 0.34317s\t ll change 0.00977\n",
      "  Iteration 5\t time lapse 0.33876s\t ll change 0.00758\n",
      "  Iteration 6\t time lapse 0.43490s\t ll change 0.00622\n",
      "  Iteration 7\t time lapse 0.34769s\t ll change 0.00520\n",
      "  Iteration 8\t time lapse 0.37215s\t ll change 0.00438\n",
      "  Iteration 9\t time lapse 0.34881s\t ll change 0.00371\n",
      "  Iteration 10\t time lapse 0.34458s\t ll change 0.00320\n",
      "  Iteration 11\t time lapse 0.34414s\t ll change 0.00284\n",
      "  Iteration 12\t time lapse 0.34413s\t ll change 0.00263\n",
      "  Iteration 13\t time lapse 0.36173s\t ll change 0.00255\n",
      "  Iteration 14\t time lapse 0.43457s\t ll change 0.00257\n",
      "  Iteration 15\t time lapse 0.34498s\t ll change 0.00267\n",
      "Initialization converged: False\t time lapse 5.95340s\t ll -27.52901\n"
     ]
    },
    {
     "name": "stderr",
     "output_type": "stream",
     "text": [
      "/home/av/.local/lib/python3.10/site-packages/sklearn/mixture/_base.py:274: ConvergenceWarning: Initialization 1 did not converge. Try different init parameters, or increase max_iter, tol or check for degenerate data.\n",
      "  warnings.warn(\n"
     ]
    },
    {
     "name": "stdout",
     "output_type": "stream",
     "text": [
      "Initialization 0\n",
      "  Iteration 1\t time lapse 0.94022s\t ll change inf\n",
      "  Iteration 2\t time lapse 0.35395s\t ll change 1.44685\n",
      "  Iteration 3\t time lapse 0.35647s\t ll change 0.02217\n",
      "  Iteration 4\t time lapse 0.36167s\t ll change 0.01412\n",
      "  Iteration 5\t time lapse 0.39804s\t ll change 0.01049\n",
      "  Iteration 6\t time lapse 0.36254s\t ll change 0.00814\n",
      "  Iteration 7\t time lapse 0.37799s\t ll change 0.00630\n",
      "  Iteration 8\t time lapse 0.39988s\t ll change 0.00482\n",
      "  Iteration 9\t time lapse 0.36180s\t ll change 0.00368\n",
      "  Iteration 10\t time lapse 0.37223s\t ll change 0.00282\n",
      "  Iteration 11\t time lapse 0.37654s\t ll change 0.00219\n",
      "  Iteration 12\t time lapse 0.35692s\t ll change 0.00173\n",
      "  Iteration 13\t time lapse 0.38185s\t ll change 0.00137\n",
      "  Iteration 14\t time lapse 0.35831s\t ll change 0.00110\n",
      "  Iteration 15\t time lapse 0.38160s\t ll change 0.00089\n",
      "Initialization converged: True\t time lapse 6.14007s\t ll -27.97297\n",
      "Initialization 0\n",
      "  Iteration 1\t time lapse 0.84296s\t ll change inf\n",
      "  Iteration 2\t time lapse 0.33241s\t ll change 1.46648\n",
      "  Iteration 3\t time lapse 0.33171s\t ll change 0.02418\n",
      "  Iteration 4\t time lapse 0.36509s\t ll change 0.01673\n",
      "  Iteration 5\t time lapse 0.32581s\t ll change 0.01202\n",
      "  Iteration 6\t time lapse 0.33886s\t ll change 0.00861\n",
      "  Iteration 7\t time lapse 0.37214s\t ll change 0.00611\n",
      "  Iteration 8\t time lapse 0.33104s\t ll change 0.00431\n",
      "  Iteration 9\t time lapse 0.34409s\t ll change 0.00304\n",
      "  Iteration 10\t time lapse 0.33731s\t ll change 0.00217\n",
      "  Iteration 11\t time lapse 0.32337s\t ll change 0.00157\n",
      "  Iteration 12\t time lapse 0.33809s\t ll change 0.00116\n",
      "  Iteration 13\t time lapse 0.33318s\t ll change 0.00087\n",
      "Initialization converged: True\t time lapse 4.91613s\t ll -27.43318\n",
      "Initialization 0\n",
      "  Iteration 1\t time lapse 0.85242s\t ll change inf\n",
      "  Iteration 2\t time lapse 0.31212s\t ll change 1.79637\n",
      "  Iteration 3\t time lapse 0.32030s\t ll change 0.02271\n",
      "  Iteration 4\t time lapse 0.31086s\t ll change 0.01601\n",
      "  Iteration 5\t time lapse 0.33459s\t ll change 0.01254\n",
      "  Iteration 6\t time lapse 0.33735s\t ll change 0.01017\n",
      "  Iteration 7\t time lapse 0.31148s\t ll change 0.00825\n",
      "  Iteration 8\t time lapse 0.31366s\t ll change 0.00655\n",
      "  Iteration 9\t time lapse 0.34717s\t ll change 0.00504\n",
      "  Iteration 10\t time lapse 0.33587s\t ll change 0.00377\n",
      "  Iteration 11\t time lapse 0.35217s\t ll change 0.00276\n",
      "  Iteration 12\t time lapse 0.35420s\t ll change 0.00200\n",
      "  Iteration 13\t time lapse 0.35709s\t ll change 0.00145\n",
      "  Iteration 14\t time lapse 0.33291s\t ll change 0.00107\n",
      "  Iteration 15\t time lapse 0.34072s\t ll change 0.00080\n",
      "Initialization converged: True\t time lapse 5.51303s\t ll -27.00404\n",
      "Initialization 0\n",
      "  Iteration 1\t time lapse 0.86597s\t ll change inf\n",
      "  Iteration 2\t time lapse 0.35334s\t ll change 1.12137\n",
      "  Iteration 3\t time lapse 0.37679s\t ll change 0.01530\n",
      "  Iteration 4\t time lapse 0.32659s\t ll change 0.01007\n",
      "  Iteration 5\t time lapse 0.32967s\t ll change 0.00839\n",
      "  Iteration 6\t time lapse 0.34608s\t ll change 0.00794\n",
      "  Iteration 7\t time lapse 0.32848s\t ll change 0.00809\n",
      "  Iteration 8\t time lapse 0.33279s\t ll change 0.00845\n",
      "  Iteration 9\t time lapse 0.34338s\t ll change 0.00831\n",
      "  Iteration 10\t time lapse 0.33086s\t ll change 0.00716\n",
      "  Iteration 11\t time lapse 0.33142s\t ll change 0.00540\n",
      "  Iteration 12\t time lapse 0.34232s\t ll change 0.00379\n",
      "  Iteration 13\t time lapse 0.35281s\t ll change 0.00263\n",
      "  Iteration 14\t time lapse 0.33202s\t ll change 0.00188\n",
      "  Iteration 15\t time lapse 0.34071s\t ll change 0.00142\n",
      "Initialization converged: False\t time lapse 5.63330s\t ll -27.47474\n"
     ]
    },
    {
     "name": "stderr",
     "output_type": "stream",
     "text": [
      "/home/av/.local/lib/python3.10/site-packages/sklearn/mixture/_base.py:274: ConvergenceWarning: Initialization 1 did not converge. Try different init parameters, or increase max_iter, tol or check for degenerate data.\n",
      "  warnings.warn(\n",
      "100%|██████████| 600/600 [00:12<00:00, 46.50it/s]\n",
      "/home/av/IST/slp-labs/LAB2/pf_tools.py:89: UserWarning: The feature directory already exists, and no new feature extraction will be performed.\n",
      "  warnings.warn(\"The feature directory already exists, and no new feature extraction will be performed.\")\n"
     ]
    },
    {
     "name": "stdout",
     "output_type": "stream",
     "text": [
      "Accuracy Score: 0.6\n",
      "Combination 20\n",
      "Initialization 0\n",
      "  Iteration 1\t time lapse 1.55354s\t ll change inf\n",
      "  Iteration 2\t time lapse 0.52339s\t ll change 1.44314\n",
      "  Iteration 3\t time lapse 0.52672s\t ll change 0.01884\n",
      "  Iteration 4\t time lapse 0.55940s\t ll change 0.01153\n",
      "  Iteration 5\t time lapse 0.52537s\t ll change 0.00839\n",
      "  Iteration 6\t time lapse 0.54852s\t ll change 0.00659\n",
      "  Iteration 7\t time lapse 0.57326s\t ll change 0.00541\n",
      "  Iteration 8\t time lapse 0.52143s\t ll change 0.00459\n",
      "  Iteration 9\t time lapse 0.54256s\t ll change 0.00399\n",
      "  Iteration 10\t time lapse 0.51704s\t ll change 0.00354\n",
      "  Iteration 11\t time lapse 0.54784s\t ll change 0.00317\n",
      "  Iteration 12\t time lapse 0.52403s\t ll change 0.00285\n",
      "  Iteration 13\t time lapse 0.52553s\t ll change 0.00255\n",
      "  Iteration 14\t time lapse 0.51951s\t ll change 0.00225\n",
      "  Iteration 15\t time lapse 0.56927s\t ll change 0.00197\n",
      "Initialization converged: False\t time lapse 9.07754s\t ll -27.15348\n"
     ]
    },
    {
     "name": "stderr",
     "output_type": "stream",
     "text": [
      "/home/av/.local/lib/python3.10/site-packages/sklearn/mixture/_base.py:274: ConvergenceWarning: Initialization 1 did not converge. Try different init parameters, or increase max_iter, tol or check for degenerate data.\n",
      "  warnings.warn(\n"
     ]
    },
    {
     "name": "stdout",
     "output_type": "stream",
     "text": [
      "Initialization 0\n",
      "  Iteration 1\t time lapse 1.60038s\t ll change inf\n",
      "  Iteration 2\t time lapse 0.68684s\t ll change 1.21473\n",
      "  Iteration 3\t time lapse 0.64360s\t ll change 0.01987\n",
      "  Iteration 4\t time lapse 0.63516s\t ll change 0.01271\n",
      "  Iteration 5\t time lapse 0.62655s\t ll change 0.00938\n",
      "  Iteration 6\t time lapse 0.66777s\t ll change 0.00734\n",
      "  Iteration 7\t time lapse 0.66752s\t ll change 0.00592\n",
      "  Iteration 8\t time lapse 0.63545s\t ll change 0.00490\n",
      "  Iteration 9\t time lapse 0.65083s\t ll change 0.00416\n",
      "  Iteration 10\t time lapse 0.64831s\t ll change 0.00366\n",
      "  Iteration 11\t time lapse 0.65092s\t ll change 0.00333\n",
      "  Iteration 12\t time lapse 0.65014s\t ll change 0.00313\n",
      "  Iteration 13\t time lapse 0.64117s\t ll change 0.00295\n",
      "  Iteration 14\t time lapse 0.62947s\t ll change 0.00271\n",
      "  Iteration 15\t time lapse 0.65549s\t ll change 0.00238\n",
      "Initialization converged: False\t time lapse 10.68998s\t ll -27.36303\n"
     ]
    },
    {
     "name": "stderr",
     "output_type": "stream",
     "text": [
      "/home/av/.local/lib/python3.10/site-packages/sklearn/mixture/_base.py:274: ConvergenceWarning: Initialization 1 did not converge. Try different init parameters, or increase max_iter, tol or check for degenerate data.\n",
      "  warnings.warn(\n"
     ]
    },
    {
     "name": "stdout",
     "output_type": "stream",
     "text": [
      "Initialization 0\n",
      "  Iteration 1\t time lapse 2.00145s\t ll change inf\n",
      "  Iteration 2\t time lapse 0.67620s\t ll change 1.34885\n",
      "  Iteration 3\t time lapse 0.66110s\t ll change 0.02139\n",
      "  Iteration 4\t time lapse 0.66327s\t ll change 0.01304\n",
      "  Iteration 5\t time lapse 0.69569s\t ll change 0.00910\n",
      "  Iteration 6\t time lapse 0.64096s\t ll change 0.00685\n",
      "  Iteration 7\t time lapse 0.64452s\t ll change 0.00547\n",
      "  Iteration 8\t time lapse 0.67284s\t ll change 0.00460\n",
      "  Iteration 9\t time lapse 0.65162s\t ll change 0.00403\n",
      "  Iteration 10\t time lapse 0.64469s\t ll change 0.00365\n",
      "  Iteration 11\t time lapse 0.68332s\t ll change 0.00339\n",
      "  Iteration 12\t time lapse 0.66779s\t ll change 0.00321\n",
      "  Iteration 13\t time lapse 0.64213s\t ll change 0.00311\n",
      "  Iteration 14\t time lapse 0.63752s\t ll change 0.00307\n",
      "  Iteration 15\t time lapse 0.64920s\t ll change 0.00300\n",
      "Initialization converged: False\t time lapse 11.23242s\t ll -27.82130\n"
     ]
    },
    {
     "name": "stderr",
     "output_type": "stream",
     "text": [
      "/home/av/.local/lib/python3.10/site-packages/sklearn/mixture/_base.py:274: ConvergenceWarning: Initialization 1 did not converge. Try different init parameters, or increase max_iter, tol or check for degenerate data.\n",
      "  warnings.warn(\n"
     ]
    },
    {
     "name": "stdout",
     "output_type": "stream",
     "text": [
      "Initialization 0\n",
      "  Iteration 1\t time lapse 2.12222s\t ll change inf\n",
      "  Iteration 2\t time lapse 0.58598s\t ll change 1.38661\n",
      "  Iteration 3\t time lapse 0.54142s\t ll change 0.02295\n",
      "  Iteration 4\t time lapse 0.57171s\t ll change 0.01572\n",
      "  Iteration 5\t time lapse 0.55904s\t ll change 0.01242\n",
      "  Iteration 6\t time lapse 0.54229s\t ll change 0.01010\n",
      "  Iteration 7\t time lapse 0.65464s\t ll change 0.00829\n",
      "  Iteration 8\t time lapse 0.64077s\t ll change 0.00696\n",
      "  Iteration 9\t time lapse 0.71412s\t ll change 0.00604\n",
      "  Iteration 10\t time lapse 0.68537s\t ll change 0.00533\n",
      "  Iteration 11\t time lapse 0.70985s\t ll change 0.00471\n",
      "  Iteration 12\t time lapse 0.64451s\t ll change 0.00412\n",
      "  Iteration 13\t time lapse 0.56696s\t ll change 0.00357\n",
      "  Iteration 14\t time lapse 0.55141s\t ll change 0.00306\n",
      "  Iteration 15\t time lapse 0.56142s\t ll change 0.00259\n",
      "Initialization converged: False\t time lapse 10.65210s\t ll -27.31429\n"
     ]
    },
    {
     "name": "stderr",
     "output_type": "stream",
     "text": [
      "/home/av/.local/lib/python3.10/site-packages/sklearn/mixture/_base.py:274: ConvergenceWarning: Initialization 1 did not converge. Try different init parameters, or increase max_iter, tol or check for degenerate data.\n",
      "  warnings.warn(\n"
     ]
    },
    {
     "name": "stdout",
     "output_type": "stream",
     "text": [
      "Initialization 0\n",
      "  Iteration 1\t time lapse 1.86649s\t ll change inf\n",
      "  Iteration 2\t time lapse 0.51860s\t ll change 1.61175\n",
      "  Iteration 3\t time lapse 0.51159s\t ll change 0.01806\n",
      "  Iteration 4\t time lapse 0.52257s\t ll change 0.01252\n",
      "  Iteration 5\t time lapse 0.50901s\t ll change 0.01079\n",
      "  Iteration 6\t time lapse 0.51236s\t ll change 0.01018\n",
      "  Iteration 7\t time lapse 0.50393s\t ll change 0.00955\n",
      "  Iteration 8\t time lapse 0.51302s\t ll change 0.00853\n",
      "  Iteration 9\t time lapse 0.50771s\t ll change 0.00721\n",
      "  Iteration 10\t time lapse 0.51745s\t ll change 0.00574\n",
      "  Iteration 11\t time lapse 0.50613s\t ll change 0.00437\n",
      "  Iteration 12\t time lapse 0.51861s\t ll change 0.00328\n",
      "  Iteration 13\t time lapse 0.50538s\t ll change 0.00251\n",
      "  Iteration 14\t time lapse 0.50633s\t ll change 0.00200\n",
      "  Iteration 15\t time lapse 0.50830s\t ll change 0.00165\n",
      "Initialization converged: False\t time lapse 9.02784s\t ll -26.90997\n"
     ]
    },
    {
     "name": "stderr",
     "output_type": "stream",
     "text": [
      "/home/av/.local/lib/python3.10/site-packages/sklearn/mixture/_base.py:274: ConvergenceWarning: Initialization 1 did not converge. Try different init parameters, or increase max_iter, tol or check for degenerate data.\n",
      "  warnings.warn(\n"
     ]
    },
    {
     "name": "stdout",
     "output_type": "stream",
     "text": [
      "Initialization 0\n",
      "  Iteration 1\t time lapse 2.13820s\t ll change inf\n",
      "  Iteration 2\t time lapse 0.52360s\t ll change 0.05351\n",
      "  Iteration 3\t time lapse 0.54816s\t ll change 0.02001\n",
      "  Iteration 4\t time lapse 0.57053s\t ll change 0.01328\n",
      "  Iteration 5\t time lapse 0.53624s\t ll change 0.01092\n",
      "  Iteration 6\t time lapse 0.53575s\t ll change 0.00980\n",
      "  Iteration 7\t time lapse 0.52330s\t ll change 0.00910\n",
      "  Iteration 8\t time lapse 0.54766s\t ll change 0.00846\n",
      "  Iteration 9\t time lapse 0.52497s\t ll change 0.00776\n",
      "  Iteration 10\t time lapse 0.53386s\t ll change 0.00705\n",
      "  Iteration 11\t time lapse 0.53011s\t ll change 0.00641\n",
      "  Iteration 12\t time lapse 0.54446s\t ll change 0.00575\n",
      "  Iteration 13\t time lapse 0.53645s\t ll change 0.00494\n",
      "  Iteration 14\t time lapse 0.54043s\t ll change 0.00405\n",
      "  Iteration 15\t time lapse 0.55131s\t ll change 0.00327\n",
      "Initialization converged: False\t time lapse 9.68541s\t ll -27.33726\n"
     ]
    },
    {
     "name": "stderr",
     "output_type": "stream",
     "text": [
      "/home/av/.local/lib/python3.10/site-packages/sklearn/mixture/_base.py:274: ConvergenceWarning: Initialization 1 did not converge. Try different init parameters, or increase max_iter, tol or check for degenerate data.\n",
      "  warnings.warn(\n",
      "100%|██████████| 600/600 [00:18<00:00, 32.21it/s]\n",
      "/home/av/IST/slp-labs/LAB2/pf_tools.py:89: UserWarning: The feature directory already exists, and no new feature extraction will be performed.\n",
      "  warnings.warn(\"The feature directory already exists, and no new feature extraction will be performed.\")\n"
     ]
    },
    {
     "name": "stdout",
     "output_type": "stream",
     "text": [
      "Accuracy Score: 0.6466666666666666\n",
      "Combination 21\n",
      "Initialization 0\n",
      "  Iteration 1\t time lapse 2.97725s\t ll change inf\n",
      "  Iteration 2\t time lapse 0.95900s\t ll change 1.42832\n",
      "  Iteration 3\t time lapse 0.92016s\t ll change 0.01941\n",
      "  Iteration 4\t time lapse 0.94581s\t ll change 0.01104\n",
      "  Iteration 5\t time lapse 0.95041s\t ll change 0.00752\n",
      "  Iteration 6\t time lapse 0.93296s\t ll change 0.00565\n",
      "  Iteration 7\t time lapse 0.93557s\t ll change 0.00455\n",
      "  Iteration 8\t time lapse 0.94731s\t ll change 0.00388\n",
      "  Iteration 9\t time lapse 0.97809s\t ll change 0.00348\n",
      "  Iteration 10\t time lapse 0.92440s\t ll change 0.00324\n",
      "  Iteration 11\t time lapse 0.91101s\t ll change 0.00311\n",
      "  Iteration 12\t time lapse 0.93797s\t ll change 0.00301\n",
      "  Iteration 13\t time lapse 0.93582s\t ll change 0.00289\n",
      "  Iteration 14\t time lapse 1.04105s\t ll change 0.00270\n",
      "  Iteration 15\t time lapse 1.17554s\t ll change 0.00244\n",
      "Initialization converged: False\t time lapse 16.47264s\t ll -27.04689\n"
     ]
    },
    {
     "name": "stderr",
     "output_type": "stream",
     "text": [
      "/home/av/.local/lib/python3.10/site-packages/sklearn/mixture/_base.py:274: ConvergenceWarning: Initialization 1 did not converge. Try different init parameters, or increase max_iter, tol or check for degenerate data.\n",
      "  warnings.warn(\n"
     ]
    },
    {
     "name": "stdout",
     "output_type": "stream",
     "text": [
      "Initialization 0\n",
      "  Iteration 1\t time lapse 4.60700s\t ll change inf\n",
      "  Iteration 2\t time lapse 1.01450s\t ll change 1.10732\n",
      "  Iteration 3\t time lapse 1.02261s\t ll change 0.01923\n",
      "  Iteration 4\t time lapse 1.01298s\t ll change 0.01142\n",
      "  Iteration 5\t time lapse 1.00972s\t ll change 0.00818\n",
      "  Iteration 6\t time lapse 1.00479s\t ll change 0.00638\n",
      "  Iteration 7\t time lapse 1.04270s\t ll change 0.00522\n",
      "  Iteration 8\t time lapse 1.05131s\t ll change 0.00440\n",
      "  Iteration 9\t time lapse 1.10555s\t ll change 0.00380\n",
      "  Iteration 10\t time lapse 0.99061s\t ll change 0.00335\n",
      "  Iteration 11\t time lapse 1.00458s\t ll change 0.00300\n",
      "  Iteration 12\t time lapse 1.04921s\t ll change 0.00272\n",
      "  Iteration 13\t time lapse 1.00048s\t ll change 0.00251\n",
      "  Iteration 14\t time lapse 0.99055s\t ll change 0.00233\n",
      "  Iteration 15\t time lapse 0.98696s\t ll change 0.00220\n",
      "Initialization converged: False\t time lapse 18.89366s\t ll -27.25838\n"
     ]
    },
    {
     "name": "stderr",
     "output_type": "stream",
     "text": [
      "/home/av/.local/lib/python3.10/site-packages/sklearn/mixture/_base.py:274: ConvergenceWarning: Initialization 1 did not converge. Try different init parameters, or increase max_iter, tol or check for degenerate data.\n",
      "  warnings.warn(\n"
     ]
    },
    {
     "name": "stdout",
     "output_type": "stream",
     "text": [
      "Initialization 0\n",
      "  Iteration 1\t time lapse 3.82741s\t ll change inf\n",
      "  Iteration 2\t time lapse 1.01560s\t ll change 1.19280\n",
      "  Iteration 3\t time lapse 1.20286s\t ll change 0.02214\n",
      "  Iteration 4\t time lapse 1.04656s\t ll change 0.01424\n",
      "  Iteration 5\t time lapse 1.03998s\t ll change 0.01043\n",
      "  Iteration 6\t time lapse 1.11334s\t ll change 0.00800\n",
      "  Iteration 7\t time lapse 1.03144s\t ll change 0.00629\n",
      "  Iteration 8\t time lapse 1.02732s\t ll change 0.00503\n",
      "  Iteration 9\t time lapse 1.01812s\t ll change 0.00410\n",
      "  Iteration 10\t time lapse 1.15513s\t ll change 0.00341\n",
      "  Iteration 11\t time lapse 1.08069s\t ll change 0.00289\n",
      "  Iteration 12\t time lapse 1.14435s\t ll change 0.00250\n",
      "  Iteration 13\t time lapse 1.12172s\t ll change 0.00220\n",
      "  Iteration 14\t time lapse 1.05358s\t ll change 0.00197\n",
      "  Iteration 15\t time lapse 1.12097s\t ll change 0.00179\n",
      "Initialization converged: False\t time lapse 18.99918s\t ll -27.68155\n"
     ]
    },
    {
     "name": "stderr",
     "output_type": "stream",
     "text": [
      "/home/av/.local/lib/python3.10/site-packages/sklearn/mixture/_base.py:274: ConvergenceWarning: Initialization 1 did not converge. Try different init parameters, or increase max_iter, tol or check for degenerate data.\n",
      "  warnings.warn(\n"
     ]
    },
    {
     "name": "stdout",
     "output_type": "stream",
     "text": [
      "Initialization 0\n",
      "  Iteration 1\t time lapse 3.08972s\t ll change inf\n",
      "  Iteration 2\t time lapse 0.93972s\t ll change 1.18171\n",
      "  Iteration 3\t time lapse 0.95366s\t ll change 0.02077\n",
      "  Iteration 4\t time lapse 0.95267s\t ll change 0.01270\n",
      "  Iteration 5\t time lapse 0.95942s\t ll change 0.00980\n",
      "  Iteration 6\t time lapse 1.00890s\t ll change 0.00840\n",
      "  Iteration 7\t time lapse 0.99499s\t ll change 0.00752\n",
      "  Iteration 8\t time lapse 0.98261s\t ll change 0.00686\n",
      "  Iteration 9\t time lapse 1.02107s\t ll change 0.00632\n",
      "  Iteration 10\t time lapse 0.99730s\t ll change 0.00580\n",
      "  Iteration 11\t time lapse 1.00311s\t ll change 0.00537\n",
      "  Iteration 12\t time lapse 0.99247s\t ll change 0.00499\n",
      "  Iteration 13\t time lapse 0.99572s\t ll change 0.00447\n",
      "  Iteration 14\t time lapse 0.97501s\t ll change 0.00412\n",
      "  Iteration 15\t time lapse 0.97223s\t ll change 0.00418\n",
      "Initialization converged: False\t time lapse 16.83901s\t ll -27.22289\n"
     ]
    },
    {
     "name": "stderr",
     "output_type": "stream",
     "text": [
      "/home/av/.local/lib/python3.10/site-packages/sklearn/mixture/_base.py:274: ConvergenceWarning: Initialization 1 did not converge. Try different init parameters, or increase max_iter, tol or check for degenerate data.\n",
      "  warnings.warn(\n"
     ]
    },
    {
     "name": "stdout",
     "output_type": "stream",
     "text": [
      "Initialization 0\n",
      "  Iteration 1\t time lapse 3.59814s\t ll change inf\n",
      "  Iteration 2\t time lapse 0.89113s\t ll change 1.54074\n",
      "  Iteration 3\t time lapse 0.89379s\t ll change 0.02179\n",
      "  Iteration 4\t time lapse 0.91183s\t ll change 0.01368\n",
      "  Iteration 5\t time lapse 0.87932s\t ll change 0.01027\n",
      "  Iteration 6\t time lapse 0.90277s\t ll change 0.00811\n",
      "  Iteration 7\t time lapse 0.90783s\t ll change 0.00646\n",
      "  Iteration 8\t time lapse 0.90899s\t ll change 0.00518\n",
      "  Iteration 9\t time lapse 0.91602s\t ll change 0.00421\n",
      "  Iteration 10\t time lapse 0.88346s\t ll change 0.00348\n",
      "  Iteration 11\t time lapse 0.98025s\t ll change 0.00292\n",
      "  Iteration 12\t time lapse 0.99920s\t ll change 0.00250\n",
      "  Iteration 13\t time lapse 0.99820s\t ll change 0.00217\n",
      "  Iteration 14\t time lapse 0.89661s\t ll change 0.00193\n",
      "  Iteration 15\t time lapse 0.91008s\t ll change 0.00173\n",
      "Initialization converged: False\t time lapse 16.47806s\t ll -26.83325\n"
     ]
    },
    {
     "name": "stderr",
     "output_type": "stream",
     "text": [
      "/home/av/.local/lib/python3.10/site-packages/sklearn/mixture/_base.py:274: ConvergenceWarning: Initialization 1 did not converge. Try different init parameters, or increase max_iter, tol or check for degenerate data.\n",
      "  warnings.warn(\n"
     ]
    },
    {
     "name": "stdout",
     "output_type": "stream",
     "text": [
      "Initialization 0\n",
      "  Iteration 1\t time lapse 3.83130s\t ll change inf\n",
      "  Iteration 2\t time lapse 0.96652s\t ll change 0.05771\n",
      "  Iteration 3\t time lapse 0.92313s\t ll change 0.01987\n",
      "  Iteration 4\t time lapse 0.94464s\t ll change 0.01195\n",
      "  Iteration 5\t time lapse 0.95418s\t ll change 0.00877\n",
      "  Iteration 6\t time lapse 0.97057s\t ll change 0.00686\n",
      "  Iteration 7\t time lapse 0.94923s\t ll change 0.00554\n",
      "  Iteration 8\t time lapse 1.38694s\t ll change 0.00463\n",
      "  Iteration 9\t time lapse 1.61982s\t ll change 0.00404\n",
      "  Iteration 10\t time lapse 1.66345s\t ll change 0.00369\n",
      "  Iteration 11\t time lapse 2.02740s\t ll change 0.00349\n",
      "  Iteration 12\t time lapse 2.12991s\t ll change 0.00331\n",
      "  Iteration 13\t time lapse 3.43254s\t ll change 0.00304\n",
      "  Iteration 14\t time lapse 3.25675s\t ll change 0.00269\n",
      "  Iteration 15\t time lapse 3.62891s\t ll change 0.00232\n",
      "Initialization converged: False\t time lapse 28.68542s\t ll -27.25106\n"
     ]
    },
    {
     "name": "stderr",
     "output_type": "stream",
     "text": [
      "/home/av/.local/lib/python3.10/site-packages/sklearn/mixture/_base.py:274: ConvergenceWarning: Initialization 1 did not converge. Try different init parameters, or increase max_iter, tol or check for degenerate data.\n",
      "  warnings.warn(\n",
      "100%|██████████| 600/600 [01:20<00:00,  7.43it/s]\n",
      "/home/av/IST/slp-labs/LAB2/pf_tools.py:89: UserWarning: The feature directory already exists, and no new feature extraction will be performed.\n",
      "  warnings.warn(\"The feature directory already exists, and no new feature extraction will be performed.\")\n"
     ]
    },
    {
     "name": "stdout",
     "output_type": "stream",
     "text": [
      "Accuracy Score: 0.675\n",
      "Combination 22\n",
      "Initialization 0\n",
      "  Iteration 1\t time lapse 2.14937s\t ll change inf\n",
      "  Iteration 2\t time lapse 0.78941s\t ll change 1.63493\n",
      "  Iteration 3\t time lapse 0.88710s\t ll change 0.02281\n",
      "  Iteration 4\t time lapse 0.90054s\t ll change 0.01479\n",
      "  Iteration 5\t time lapse 0.90356s\t ll change 0.00996\n",
      "  Iteration 6\t time lapse 0.93736s\t ll change 0.00687\n",
      "  Iteration 7\t time lapse 0.87014s\t ll change 0.00494\n",
      "  Iteration 8\t time lapse 0.75256s\t ll change 0.00374\n",
      "  Iteration 9\t time lapse 0.80308s\t ll change 0.00296\n",
      "  Iteration 10\t time lapse 0.84111s\t ll change 0.00244\n",
      "  Iteration 11\t time lapse 0.91568s\t ll change 0.00206\n",
      "  Iteration 12\t time lapse 0.87226s\t ll change 0.00177\n",
      "  Iteration 13\t time lapse 0.90926s\t ll change 0.00152\n",
      "  Iteration 14\t time lapse 0.78166s\t ll change 0.00129\n",
      "  Iteration 15\t time lapse 0.80550s\t ll change 0.00110\n",
      "Initialization converged: False\t time lapse 14.11884s\t ll -27.27241\n"
     ]
    },
    {
     "name": "stderr",
     "output_type": "stream",
     "text": [
      "/home/av/.local/lib/python3.10/site-packages/sklearn/mixture/_base.py:274: ConvergenceWarning: Initialization 1 did not converge. Try different init parameters, or increase max_iter, tol or check for degenerate data.\n",
      "  warnings.warn(\n"
     ]
    },
    {
     "name": "stdout",
     "output_type": "stream",
     "text": [
      "Initialization 0\n",
      "  Iteration 1\t time lapse 2.71531s\t ll change inf\n",
      "  Iteration 2\t time lapse 0.93338s\t ll change 1.33720\n",
      "  Iteration 3\t time lapse 0.95185s\t ll change 0.02009\n",
      "  Iteration 4\t time lapse 0.86300s\t ll change 0.01307\n",
      "  Iteration 5\t time lapse 0.89974s\t ll change 0.00918\n",
      "  Iteration 6\t time lapse 0.96407s\t ll change 0.00649\n",
      "  Iteration 7\t time lapse 0.91723s\t ll change 0.00462\n",
      "  Iteration 8\t time lapse 0.94039s\t ll change 0.00339\n",
      "  Iteration 9\t time lapse 1.00258s\t ll change 0.00261\n",
      "  Iteration 10\t time lapse 0.79967s\t ll change 0.00214\n",
      "  Iteration 11\t time lapse 0.86663s\t ll change 0.00185\n",
      "  Iteration 12\t time lapse 0.94646s\t ll change 0.00168\n",
      "  Iteration 13\t time lapse 0.96443s\t ll change 0.00156\n",
      "  Iteration 14\t time lapse 0.84708s\t ll change 0.00145\n",
      "  Iteration 15\t time lapse 0.98387s\t ll change 0.00134\n",
      "Initialization converged: False\t time lapse 15.59576s\t ll -27.50100\n"
     ]
    },
    {
     "name": "stderr",
     "output_type": "stream",
     "text": [
      "/home/av/.local/lib/python3.10/site-packages/sklearn/mixture/_base.py:274: ConvergenceWarning: Initialization 1 did not converge. Try different init parameters, or increase max_iter, tol or check for degenerate data.\n",
      "  warnings.warn(\n"
     ]
    },
    {
     "name": "stdout",
     "output_type": "stream",
     "text": [
      "Initialization 0\n",
      "  Iteration 1\t time lapse 2.27801s\t ll change inf\n",
      "  Iteration 2\t time lapse 1.01292s\t ll change 1.45734\n",
      "  Iteration 3\t time lapse 1.07975s\t ll change 0.02216\n",
      "  Iteration 4\t time lapse 1.00029s\t ll change 0.01421\n",
      "  Iteration 5\t time lapse 0.99696s\t ll change 0.01063\n",
      "  Iteration 6\t time lapse 0.89417s\t ll change 0.00826\n",
      "  Iteration 7\t time lapse 1.01609s\t ll change 0.00636\n",
      "  Iteration 8\t time lapse 0.98032s\t ll change 0.00480\n",
      "  Iteration 9\t time lapse 0.99810s\t ll change 0.00360\n",
      "  Iteration 10\t time lapse 0.96455s\t ll change 0.00272\n",
      "  Iteration 11\t time lapse 0.96119s\t ll change 0.00207\n",
      "  Iteration 12\t time lapse 0.88005s\t ll change 0.00160\n",
      "  Iteration 13\t time lapse 0.87278s\t ll change 0.00126\n",
      "  Iteration 14\t time lapse 1.03430s\t ll change 0.00100\n",
      "Initialization converged: True\t time lapse 14.96975s\t ll -27.97331\n",
      "Initialization 0\n",
      "  Iteration 1\t time lapse 2.51389s\t ll change inf\n",
      "  Iteration 2\t time lapse 0.93566s\t ll change 1.49145\n",
      "  Iteration 3\t time lapse 0.93290s\t ll change 0.02476\n",
      "  Iteration 4\t time lapse 0.99654s\t ll change 0.01696\n",
      "  Iteration 5\t time lapse 1.03071s\t ll change 0.01194\n",
      "  Iteration 6\t time lapse 0.92740s\t ll change 0.00835\n",
      "  Iteration 7\t time lapse 0.82294s\t ll change 0.00578\n",
      "  Iteration 8\t time lapse 0.77427s\t ll change 0.00397\n",
      "  Iteration 9\t time lapse 0.76022s\t ll change 0.00271\n",
      "  Iteration 10\t time lapse 0.76880s\t ll change 0.00186\n",
      "  Iteration 11\t time lapse 0.92405s\t ll change 0.00128\n",
      "  Iteration 12\t time lapse 0.87991s\t ll change 0.00090\n",
      "Initialization converged: True\t time lapse 12.26739s\t ll -27.43283\n",
      "Initialization 0\n",
      "  Iteration 1\t time lapse 1.94001s\t ll change inf\n",
      "  Iteration 2\t time lapse 0.71698s\t ll change 1.79649\n",
      "  Iteration 3\t time lapse 0.70617s\t ll change 0.02270\n",
      "  Iteration 4\t time lapse 0.69941s\t ll change 0.01596\n",
      "  Iteration 5\t time lapse 0.87142s\t ll change 0.01248\n",
      "  Iteration 6\t time lapse 0.87958s\t ll change 0.01011\n",
      "  Iteration 7\t time lapse 0.89339s\t ll change 0.00819\n",
      "  Iteration 8\t time lapse 0.82923s\t ll change 0.00648\n",
      "  Iteration 9\t time lapse 0.82569s\t ll change 0.00497\n",
      "  Iteration 10\t time lapse 0.70633s\t ll change 0.00371\n",
      "  Iteration 11\t time lapse 0.78015s\t ll change 0.00271\n",
      "  Iteration 12\t time lapse 0.82396s\t ll change 0.00195\n",
      "  Iteration 13\t time lapse 0.69759s\t ll change 0.00141\n",
      "  Iteration 14\t time lapse 0.64868s\t ll change 0.00103\n",
      "  Iteration 15\t time lapse 0.63953s\t ll change 0.00077\n",
      "Initialization converged: True\t time lapse 12.65820s\t ll -27.00388\n",
      "Initialization 0\n",
      "  Iteration 1\t time lapse 1.70887s\t ll change inf\n",
      "  Iteration 2\t time lapse 0.72946s\t ll change 1.12140\n",
      "  Iteration 3\t time lapse 0.72204s\t ll change 0.01534\n",
      "  Iteration 4\t time lapse 0.60743s\t ll change 0.01014\n",
      "  Iteration 5\t time lapse 0.66070s\t ll change 0.00847\n",
      "  Iteration 6\t time lapse 0.69363s\t ll change 0.00803\n",
      "  Iteration 7\t time lapse 0.72797s\t ll change 0.00820\n",
      "  Iteration 8\t time lapse 0.68986s\t ll change 0.00853\n",
      "  Iteration 9\t time lapse 0.69811s\t ll change 0.00831\n",
      "  Iteration 10\t time lapse 0.64763s\t ll change 0.00707\n",
      "  Iteration 11\t time lapse 0.56648s\t ll change 0.00528\n",
      "  Iteration 12\t time lapse 0.60284s\t ll change 0.00368\n",
      "  Iteration 13\t time lapse 0.57908s\t ll change 0.00255\n",
      "  Iteration 14\t time lapse 0.67067s\t ll change 0.00183\n",
      "  Iteration 15\t time lapse 0.67092s\t ll change 0.00139\n",
      "Initialization converged: False\t time lapse 10.97580s\t ll -27.47459\n"
     ]
    },
    {
     "name": "stderr",
     "output_type": "stream",
     "text": [
      "/home/av/.local/lib/python3.10/site-packages/sklearn/mixture/_base.py:274: ConvergenceWarning: Initialization 1 did not converge. Try different init parameters, or increase max_iter, tol or check for degenerate data.\n",
      "  warnings.warn(\n",
      "100%|██████████| 600/600 [00:24<00:00, 24.91it/s]\n",
      "/home/av/IST/slp-labs/LAB2/pf_tools.py:89: UserWarning: The feature directory already exists, and no new feature extraction will be performed.\n",
      "  warnings.warn(\"The feature directory already exists, and no new feature extraction will be performed.\")\n"
     ]
    },
    {
     "name": "stdout",
     "output_type": "stream",
     "text": [
      "Accuracy Score: 0.585\n",
      "Combination 23\n",
      "Initialization 0\n",
      "  Iteration 1\t time lapse 4.55034s\t ll change inf\n",
      "  Iteration 2\t time lapse 1.53893s\t ll change 1.43583\n",
      "  Iteration 3\t time lapse 1.45810s\t ll change 0.01842\n",
      "  Iteration 4\t time lapse 1.77720s\t ll change 0.01080\n",
      "  Iteration 5\t time lapse 1.54167s\t ll change 0.00757\n",
      "  Iteration 6\t time lapse 1.67054s\t ll change 0.00582\n",
      "  Iteration 7\t time lapse 1.52667s\t ll change 0.00475\n",
      "  Iteration 8\t time lapse 1.70953s\t ll change 0.00403\n",
      "  Iteration 9\t time lapse 1.64584s\t ll change 0.00353\n",
      "  Iteration 10\t time lapse 1.81378s\t ll change 0.00318\n",
      "  Iteration 11\t time lapse 1.60293s\t ll change 0.00294\n",
      "  Iteration 12\t time lapse 1.82914s\t ll change 0.00276\n",
      "  Iteration 13\t time lapse 1.75666s\t ll change 0.00262\n",
      "  Iteration 14\t time lapse 1.53490s\t ll change 0.00249\n",
      "  Iteration 15\t time lapse 1.84617s\t ll change 0.00236\n",
      "Initialization converged: False\t time lapse 27.80376s\t ll -27.15378\n"
     ]
    },
    {
     "name": "stderr",
     "output_type": "stream",
     "text": [
      "/home/av/.local/lib/python3.10/site-packages/sklearn/mixture/_base.py:274: ConvergenceWarning: Initialization 1 did not converge. Try different init parameters, or increase max_iter, tol or check for degenerate data.\n",
      "  warnings.warn(\n"
     ]
    },
    {
     "name": "stdout",
     "output_type": "stream",
     "text": [
      "Initialization 0\n",
      "  Iteration 1\t time lapse 6.28431s\t ll change inf\n",
      "  Iteration 2\t time lapse 1.79122s\t ll change 1.21027\n",
      "  Iteration 3\t time lapse 1.79757s\t ll change 0.01997\n",
      "  Iteration 4\t time lapse 1.77588s\t ll change 0.01284\n",
      "  Iteration 5\t time lapse 1.91287s\t ll change 0.00955\n",
      "  Iteration 6\t time lapse 1.68014s\t ll change 0.00755\n",
      "  Iteration 7\t time lapse 1.99879s\t ll change 0.00619\n",
      "  Iteration 8\t time lapse 2.17703s\t ll change 0.00523\n",
      "  Iteration 9\t time lapse 1.68624s\t ll change 0.00455\n",
      "  Iteration 10\t time lapse 1.89357s\t ll change 0.00408\n",
      "  Iteration 11\t time lapse 1.69903s\t ll change 0.00374\n",
      "  Iteration 12\t time lapse 1.98333s\t ll change 0.00339\n",
      "  Iteration 13\t time lapse 2.22207s\t ll change 0.00297\n",
      "  Iteration 14\t time lapse 2.04472s\t ll change 0.00249\n",
      "  Iteration 15\t time lapse 2.07219s\t ll change 0.00203\n",
      "Initialization converged: False\t time lapse 33.02013s\t ll -27.36152\n"
     ]
    },
    {
     "name": "stderr",
     "output_type": "stream",
     "text": [
      "/home/av/.local/lib/python3.10/site-packages/sklearn/mixture/_base.py:274: ConvergenceWarning: Initialization 1 did not converge. Try different init parameters, or increase max_iter, tol or check for degenerate data.\n",
      "  warnings.warn(\n"
     ]
    },
    {
     "name": "stdout",
     "output_type": "stream",
     "text": [
      "Initialization 0\n",
      "  Iteration 1\t time lapse 6.22141s\t ll change inf\n",
      "  Iteration 2\t time lapse 2.13997s\t ll change 1.30458\n",
      "  Iteration 3\t time lapse 1.92857s\t ll change 0.02330\n",
      "  Iteration 4\t time lapse 2.10974s\t ll change 0.01395\n",
      "  Iteration 5\t time lapse 1.99675s\t ll change 0.00912\n",
      "  Iteration 6\t time lapse 2.02075s\t ll change 0.00632\n",
      "  Iteration 7\t time lapse 1.79808s\t ll change 0.00466\n",
      "  Iteration 8\t time lapse 2.04219s\t ll change 0.00365\n",
      "  Iteration 9\t time lapse 1.96220s\t ll change 0.00302\n",
      "  Iteration 10\t time lapse 1.88092s\t ll change 0.00261\n",
      "  Iteration 11\t time lapse 2.18590s\t ll change 0.00231\n",
      "  Iteration 12\t time lapse 1.97240s\t ll change 0.00206\n",
      "  Iteration 13\t time lapse 1.85891s\t ll change 0.00182\n",
      "  Iteration 14\t time lapse 2.01561s\t ll change 0.00160\n",
      "  Iteration 15\t time lapse 2.03415s\t ll change 0.00140\n",
      "Initialization converged: False\t time lapse 34.16806s\t ll -27.81787\n"
     ]
    },
    {
     "name": "stderr",
     "output_type": "stream",
     "text": [
      "/home/av/.local/lib/python3.10/site-packages/sklearn/mixture/_base.py:274: ConvergenceWarning: Initialization 1 did not converge. Try different init parameters, or increase max_iter, tol or check for degenerate data.\n",
      "  warnings.warn(\n"
     ]
    },
    {
     "name": "stdout",
     "output_type": "stream",
     "text": [
      "Initialization 0\n",
      "  Iteration 1\t time lapse 4.04395s\t ll change inf\n",
      "  Iteration 2\t time lapse 1.53856s\t ll change 1.40248\n",
      "  Iteration 3\t time lapse 1.63324s\t ll change 0.02361\n",
      "  Iteration 4\t time lapse 1.86865s\t ll change 0.01617\n",
      "  Iteration 5\t time lapse 1.76591s\t ll change 0.01269\n",
      "  Iteration 6\t time lapse 1.56245s\t ll change 0.01027\n",
      "  Iteration 7\t time lapse 1.61516s\t ll change 0.00836\n",
      "  Iteration 8\t time lapse 1.59903s\t ll change 0.00691\n",
      "  Iteration 9\t time lapse 1.64659s\t ll change 0.00584\n",
      "  Iteration 10\t time lapse 1.92080s\t ll change 0.00500\n",
      "  Iteration 11\t time lapse 2.36332s\t ll change 0.00427\n",
      "  Iteration 12\t time lapse 1.95779s\t ll change 0.00361\n",
      "  Iteration 13\t time lapse 1.74715s\t ll change 0.00301\n",
      "  Iteration 14\t time lapse 2.40952s\t ll change 0.00248\n",
      "  Iteration 15\t time lapse 2.96215s\t ll change 0.00203\n",
      "Initialization converged: False\t time lapse 30.63469s\t ll -27.31514\n"
     ]
    },
    {
     "name": "stderr",
     "output_type": "stream",
     "text": [
      "/home/av/.local/lib/python3.10/site-packages/sklearn/mixture/_base.py:274: ConvergenceWarning: Initialization 1 did not converge. Try different init parameters, or increase max_iter, tol or check for degenerate data.\n",
      "  warnings.warn(\n"
     ]
    },
    {
     "name": "stdout",
     "output_type": "stream",
     "text": [
      "Initialization 0\n",
      "  Iteration 1\t time lapse 3.32883s\t ll change inf\n",
      "  Iteration 2\t time lapse 0.57005s\t ll change 1.59869\n",
      "  Iteration 3\t time lapse 0.50236s\t ll change 0.01788\n",
      "  Iteration 4\t time lapse 0.49508s\t ll change 0.01175\n",
      "  Iteration 5\t time lapse 0.53810s\t ll change 0.00954\n",
      "  Iteration 6\t time lapse 0.54212s\t ll change 0.00876\n",
      "  Iteration 7\t time lapse 0.54294s\t ll change 0.00838\n",
      "  Iteration 8\t time lapse 0.54075s\t ll change 0.00773\n",
      "  Iteration 9\t time lapse 0.51620s\t ll change 0.00675\n",
      "  Iteration 10\t time lapse 0.50639s\t ll change 0.00563\n",
      "  Iteration 11\t time lapse 0.55066s\t ll change 0.00451\n",
      "  Iteration 12\t time lapse 0.49946s\t ll change 0.00352\n",
      "  Iteration 13\t time lapse 0.51963s\t ll change 0.00275\n",
      "  Iteration 14\t time lapse 0.50304s\t ll change 0.00219\n",
      "  Iteration 15\t time lapse 0.50613s\t ll change 0.00179\n",
      "Initialization converged: False\t time lapse 10.66213s\t ll -26.91055\n"
     ]
    },
    {
     "name": "stderr",
     "output_type": "stream",
     "text": [
      "/home/av/.local/lib/python3.10/site-packages/sklearn/mixture/_base.py:274: ConvergenceWarning: Initialization 1 did not converge. Try different init parameters, or increase max_iter, tol or check for degenerate data.\n",
      "  warnings.warn(\n"
     ]
    },
    {
     "name": "stdout",
     "output_type": "stream",
     "text": [
      "Initialization 0\n",
      "  Iteration 1\t time lapse 2.20556s\t ll change inf\n",
      "  Iteration 2\t time lapse 0.56590s\t ll change 0.05525\n",
      "  Iteration 3\t time lapse 0.53990s\t ll change 0.02179\n",
      "  Iteration 4\t time lapse 0.57666s\t ll change 0.01451\n",
      "  Iteration 5\t time lapse 0.54936s\t ll change 0.01136\n",
      "  Iteration 6\t time lapse 0.55986s\t ll change 0.00941\n",
      "  Iteration 7\t time lapse 0.56286s\t ll change 0.00800\n",
      "  Iteration 8\t time lapse 0.51237s\t ll change 0.00689\n",
      "  Iteration 9\t time lapse 0.55472s\t ll change 0.00592\n",
      "  Iteration 10\t time lapse 0.51945s\t ll change 0.00502\n",
      "  Iteration 11\t time lapse 0.52960s\t ll change 0.00423\n",
      "  Iteration 12\t time lapse 0.51616s\t ll change 0.00356\n",
      "  Iteration 13\t time lapse 0.56651s\t ll change 0.00299\n",
      "  Iteration 14\t time lapse 0.56638s\t ll change 0.00251\n",
      "  Iteration 15\t time lapse 0.55346s\t ll change 0.00211\n",
      "Initialization converged: False\t time lapse 9.87886s\t ll -27.33938\n"
     ]
    },
    {
     "name": "stderr",
     "output_type": "stream",
     "text": [
      "/home/av/.local/lib/python3.10/site-packages/sklearn/mixture/_base.py:274: ConvergenceWarning: Initialization 1 did not converge. Try different init parameters, or increase max_iter, tol or check for degenerate data.\n",
      "  warnings.warn(\n",
      "100%|██████████| 600/600 [00:19<00:00, 31.17it/s]\n",
      "/home/av/IST/slp-labs/LAB2/pf_tools.py:89: UserWarning: The feature directory already exists, and no new feature extraction will be performed.\n",
      "  warnings.warn(\"The feature directory already exists, and no new feature extraction will be performed.\")\n"
     ]
    },
    {
     "name": "stdout",
     "output_type": "stream",
     "text": [
      "Accuracy Score: 0.635\n",
      "Combination 24\n",
      "Initialization 0\n",
      "  Iteration 1\t time lapse 2.83282s\t ll change inf\n",
      "  Iteration 2\t time lapse 1.07647s\t ll change 1.41022\n",
      "  Iteration 3\t time lapse 1.27576s\t ll change 0.01824\n",
      "  Iteration 4\t time lapse 1.14251s\t ll change 0.01064\n",
      "  Iteration 5\t time lapse 1.01538s\t ll change 0.00779\n",
      "  Iteration 6\t time lapse 0.96856s\t ll change 0.00642\n",
      "  Iteration 7\t time lapse 0.95531s\t ll change 0.00565\n",
      "  Iteration 8\t time lapse 0.94809s\t ll change 0.00516\n",
      "  Iteration 9\t time lapse 0.94652s\t ll change 0.00477\n",
      "  Iteration 10\t time lapse 0.95801s\t ll change 0.00439\n",
      "  Iteration 11\t time lapse 0.92959s\t ll change 0.00400\n",
      "  Iteration 12\t time lapse 0.94560s\t ll change 0.00360\n",
      "  Iteration 13\t time lapse 0.93964s\t ll change 0.00322\n",
      "  Iteration 14\t time lapse 1.09029s\t ll change 0.00284\n",
      "  Iteration 15\t time lapse 0.97230s\t ll change 0.00248\n",
      "Initialization converged: False\t time lapse 16.99698s\t ll -27.05111\n"
     ]
    },
    {
     "name": "stderr",
     "output_type": "stream",
     "text": [
      "/home/av/.local/lib/python3.10/site-packages/sklearn/mixture/_base.py:274: ConvergenceWarning: Initialization 1 did not converge. Try different init parameters, or increase max_iter, tol or check for degenerate data.\n",
      "  warnings.warn(\n"
     ]
    },
    {
     "name": "stdout",
     "output_type": "stream",
     "text": [
      "Initialization 0\n",
      "  Iteration 1\t time lapse 3.32030s\t ll change inf\n",
      "  Iteration 2\t time lapse 1.09306s\t ll change 1.09727\n",
      "  Iteration 3\t time lapse 1.11025s\t ll change 0.02000\n",
      "  Iteration 4\t time lapse 1.26323s\t ll change 0.01195\n",
      "  Iteration 5\t time lapse 1.15676s\t ll change 0.00858\n",
      "  Iteration 6\t time lapse 1.21540s\t ll change 0.00673\n",
      "  Iteration 7\t time lapse 1.09883s\t ll change 0.00558\n",
      "  Iteration 8\t time lapse 1.29497s\t ll change 0.00482\n",
      "  Iteration 9\t time lapse 1.37929s\t ll change 0.00429\n",
      "  Iteration 10\t time lapse 1.14912s\t ll change 0.00390\n",
      "  Iteration 11\t time lapse 1.07506s\t ll change 0.00359\n",
      "  Iteration 12\t time lapse 1.49646s\t ll change 0.00331\n",
      "  Iteration 13\t time lapse 1.16081s\t ll change 0.00304\n",
      "  Iteration 14\t time lapse 1.30807s\t ll change 0.00276\n",
      "  Iteration 15\t time lapse 1.29518s\t ll change 0.00248\n",
      "Initialization converged: False\t time lapse 20.41687s\t ll -27.25731\n"
     ]
    },
    {
     "name": "stderr",
     "output_type": "stream",
     "text": [
      "/home/av/.local/lib/python3.10/site-packages/sklearn/mixture/_base.py:274: ConvergenceWarning: Initialization 1 did not converge. Try different init parameters, or increase max_iter, tol or check for degenerate data.\n",
      "  warnings.warn(\n"
     ]
    },
    {
     "name": "stdout",
     "output_type": "stream",
     "text": [
      "Initialization 0\n",
      "  Iteration 1\t time lapse 3.51206s\t ll change inf\n",
      "  Iteration 2\t time lapse 1.30488s\t ll change 1.19293\n",
      "  Iteration 3\t time lapse 1.30976s\t ll change 0.02316\n",
      "  Iteration 4\t time lapse 1.29100s\t ll change 0.01575\n",
      "  Iteration 5\t time lapse 1.43276s\t ll change 0.01200\n",
      "  Iteration 6\t time lapse 1.41034s\t ll change 0.00919\n",
      "  Iteration 7\t time lapse 1.32755s\t ll change 0.00691\n",
      "  Iteration 8\t time lapse 1.30833s\t ll change 0.00522\n",
      "  Iteration 9\t time lapse 1.17593s\t ll change 0.00403\n",
      "  Iteration 10\t time lapse 1.32004s\t ll change 0.00320\n",
      "  Iteration 11\t time lapse 1.18432s\t ll change 0.00263\n",
      "  Iteration 12\t time lapse 1.27575s\t ll change 0.00221\n",
      "  Iteration 13\t time lapse 1.26178s\t ll change 0.00191\n",
      "  Iteration 14\t time lapse 1.35794s\t ll change 0.00168\n",
      "  Iteration 15\t time lapse 1.20663s\t ll change 0.00151\n",
      "Initialization converged: False\t time lapse 21.67920s\t ll -27.68437\n"
     ]
    },
    {
     "name": "stderr",
     "output_type": "stream",
     "text": [
      "/home/av/.local/lib/python3.10/site-packages/sklearn/mixture/_base.py:274: ConvergenceWarning: Initialization 1 did not converge. Try different init parameters, or increase max_iter, tol or check for degenerate data.\n",
      "  warnings.warn(\n"
     ]
    },
    {
     "name": "stdout",
     "output_type": "stream",
     "text": [
      "Initialization 0\n",
      "  Iteration 1\t time lapse 4.61421s\t ll change inf\n",
      "  Iteration 2\t time lapse 1.27546s\t ll change 1.29099\n",
      "  Iteration 3\t time lapse 1.00971s\t ll change 0.02087\n",
      "  Iteration 4\t time lapse 1.10093s\t ll change 0.01281\n",
      "  Iteration 5\t time lapse 1.00856s\t ll change 0.00978\n",
      "  Iteration 6\t time lapse 0.99471s\t ll change 0.00818\n",
      "  Iteration 7\t time lapse 0.98491s\t ll change 0.00716\n",
      "  Iteration 8\t time lapse 1.18353s\t ll change 0.00648\n",
      "  Iteration 9\t time lapse 1.03465s\t ll change 0.00602\n",
      "  Iteration 10\t time lapse 0.97964s\t ll change 0.00561\n",
      "  Iteration 11\t time lapse 0.94089s\t ll change 0.00502\n",
      "  Iteration 12\t time lapse 0.98893s\t ll change 0.00466\n",
      "  Iteration 13\t time lapse 0.98898s\t ll change 0.00488\n",
      "  Iteration 14\t time lapse 1.05676s\t ll change 0.00627\n",
      "  Iteration 15\t time lapse 1.07574s\t ll change 0.00871\n",
      "Initialization converged: False\t time lapse 19.23798s\t ll -27.22151\n"
     ]
    },
    {
     "name": "stderr",
     "output_type": "stream",
     "text": [
      "/home/av/.local/lib/python3.10/site-packages/sklearn/mixture/_base.py:274: ConvergenceWarning: Initialization 1 did not converge. Try different init parameters, or increase max_iter, tol or check for degenerate data.\n",
      "  warnings.warn(\n"
     ]
    },
    {
     "name": "stdout",
     "output_type": "stream",
     "text": [
      "Initialization 0\n",
      "  Iteration 1\t time lapse 3.18398s\t ll change inf\n",
      "  Iteration 2\t time lapse 0.91178s\t ll change 1.53028\n",
      "  Iteration 3\t time lapse 0.89407s\t ll change 0.02058\n",
      "  Iteration 4\t time lapse 0.90564s\t ll change 0.01275\n",
      "  Iteration 5\t time lapse 0.90484s\t ll change 0.00945\n",
      "  Iteration 6\t time lapse 0.92868s\t ll change 0.00754\n",
      "  Iteration 7\t time lapse 0.96589s\t ll change 0.00628\n",
      "  Iteration 8\t time lapse 0.93599s\t ll change 0.00537\n",
      "  Iteration 9\t time lapse 0.89322s\t ll change 0.00467\n",
      "  Iteration 10\t time lapse 0.92631s\t ll change 0.00411\n",
      "  Iteration 11\t time lapse 0.90964s\t ll change 0.00365\n",
      "  Iteration 12\t time lapse 0.89562s\t ll change 0.00324\n",
      "  Iteration 13\t time lapse 0.91441s\t ll change 0.00286\n",
      "  Iteration 14\t time lapse 0.91355s\t ll change 0.00250\n",
      "  Iteration 15\t time lapse 0.89136s\t ll change 0.00215\n",
      "Initialization converged: False\t time lapse 15.97544s\t ll -26.83978\n"
     ]
    },
    {
     "name": "stderr",
     "output_type": "stream",
     "text": [
      "/home/av/.local/lib/python3.10/site-packages/sklearn/mixture/_base.py:274: ConvergenceWarning: Initialization 1 did not converge. Try different init parameters, or increase max_iter, tol or check for degenerate data.\n",
      "  warnings.warn(\n"
     ]
    },
    {
     "name": "stdout",
     "output_type": "stream",
     "text": [
      "Initialization 0\n",
      "  Iteration 1\t time lapse 3.90624s\t ll change inf\n",
      "  Iteration 2\t time lapse 0.96786s\t ll change 0.05763\n",
      "  Iteration 3\t time lapse 0.97026s\t ll change 0.01980\n",
      "  Iteration 4\t time lapse 1.00520s\t ll change 0.01212\n",
      "  Iteration 5\t time lapse 0.93038s\t ll change 0.00905\n",
      "  Iteration 6\t time lapse 0.98913s\t ll change 0.00718\n",
      "  Iteration 7\t time lapse 0.99278s\t ll change 0.00585\n",
      "  Iteration 8\t time lapse 0.96969s\t ll change 0.00492\n",
      "  Iteration 9\t time lapse 0.95813s\t ll change 0.00427\n",
      "  Iteration 10\t time lapse 0.96413s\t ll change 0.00380\n",
      "  Iteration 11\t time lapse 0.95268s\t ll change 0.00341\n",
      "  Iteration 12\t time lapse 0.93237s\t ll change 0.00301\n",
      "  Iteration 13\t time lapse 0.96685s\t ll change 0.00263\n",
      "  Iteration 14\t time lapse 0.96082s\t ll change 0.00230\n",
      "  Iteration 15\t time lapse 0.94468s\t ll change 0.00205\n",
      "Initialization converged: False\t time lapse 17.41133s\t ll -27.25065\n"
     ]
    },
    {
     "name": "stderr",
     "output_type": "stream",
     "text": [
      "/home/av/.local/lib/python3.10/site-packages/sklearn/mixture/_base.py:274: ConvergenceWarning: Initialization 1 did not converge. Try different init parameters, or increase max_iter, tol or check for degenerate data.\n",
      "  warnings.warn(\n",
      "100%|██████████| 600/600 [00:31<00:00, 18.91it/s]\n",
      "/home/av/IST/slp-labs/LAB2/pf_tools.py:89: UserWarning: The feature directory already exists, and no new feature extraction will be performed.\n",
      "  warnings.warn(\"The feature directory already exists, and no new feature extraction will be performed.\")\n"
     ]
    },
    {
     "name": "stdout",
     "output_type": "stream",
     "text": [
      "Accuracy Score: 0.6683333333333333\n",
      "Combination 25\n",
      "Initialization 0\n",
      "  Iteration 1\t time lapse 0.80938s\t ll change inf\n",
      "  Iteration 2\t time lapse 0.36646s\t ll change 1.62102\n",
      "  Iteration 3\t time lapse 0.33226s\t ll change 0.02096\n",
      "  Iteration 4\t time lapse 0.32895s\t ll change 0.01641\n",
      "  Iteration 5\t time lapse 0.36006s\t ll change 0.01295\n",
      "  Iteration 6\t time lapse 0.44917s\t ll change 0.00946\n",
      "  Iteration 7\t time lapse 0.34536s\t ll change 0.00675\n",
      "  Iteration 8\t time lapse 0.33793s\t ll change 0.00496\n",
      "  Iteration 9\t time lapse 0.34354s\t ll change 0.00384\n",
      "  Iteration 10\t time lapse 0.34839s\t ll change 0.00312\n",
      "  Iteration 11\t time lapse 0.36302s\t ll change 0.00264\n",
      "  Iteration 12\t time lapse 0.33573s\t ll change 0.00228\n",
      "  Iteration 13\t time lapse 0.32451s\t ll change 0.00199\n",
      "  Iteration 14\t time lapse 0.37175s\t ll change 0.00174\n",
      "  Iteration 15\t time lapse 0.32538s\t ll change 0.00150\n",
      "Initialization converged: False\t time lapse 5.74197s\t ll -27.27465\n"
     ]
    },
    {
     "name": "stderr",
     "output_type": "stream",
     "text": [
      "/home/av/.local/lib/python3.10/site-packages/sklearn/mixture/_base.py:274: ConvergenceWarning: Initialization 1 did not converge. Try different init parameters, or increase max_iter, tol or check for degenerate data.\n",
      "  warnings.warn(\n"
     ]
    },
    {
     "name": "stdout",
     "output_type": "stream",
     "text": [
      "Initialization 0\n",
      "  Iteration 1\t time lapse 0.95537s\t ll change inf\n",
      "  Iteration 2\t time lapse 0.34707s\t ll change 1.34843\n",
      "  Iteration 3\t time lapse 0.34730s\t ll change 0.02084\n",
      "  Iteration 4\t time lapse 0.35732s\t ll change 0.01346\n",
      "  Iteration 5\t time lapse 0.37629s\t ll change 0.00923\n",
      "  Iteration 6\t time lapse 0.36130s\t ll change 0.00635\n",
      "  Iteration 7\t time lapse 0.34715s\t ll change 0.00443\n",
      "  Iteration 8\t time lapse 0.38358s\t ll change 0.00323\n",
      "  Iteration 9\t time lapse 0.34407s\t ll change 0.00250\n",
      "  Iteration 10\t time lapse 0.37339s\t ll change 0.00206\n",
      "  Iteration 11\t time lapse 0.34124s\t ll change 0.00177\n",
      "  Iteration 12\t time lapse 0.36348s\t ll change 0.00157\n",
      "  Iteration 13\t time lapse 0.34212s\t ll change 0.00140\n",
      "  Iteration 14\t time lapse 0.34183s\t ll change 0.00123\n",
      "  Iteration 15\t time lapse 0.35923s\t ll change 0.00107\n",
      "Initialization converged: False\t time lapse 5.94080s\t ll -27.49863\n"
     ]
    },
    {
     "name": "stderr",
     "output_type": "stream",
     "text": [
      "/home/av/.local/lib/python3.10/site-packages/sklearn/mixture/_base.py:274: ConvergenceWarning: Initialization 1 did not converge. Try different init parameters, or increase max_iter, tol or check for degenerate data.\n",
      "  warnings.warn(\n"
     ]
    },
    {
     "name": "stdout",
     "output_type": "stream",
     "text": [
      "Initialization 0\n",
      "  Iteration 1\t time lapse 0.96195s\t ll change inf\n",
      "  Iteration 2\t time lapse 0.35679s\t ll change 1.42927\n",
      "  Iteration 3\t time lapse 0.38320s\t ll change 0.01786\n",
      "  Iteration 4\t time lapse 0.37194s\t ll change 0.01372\n",
      "  Iteration 5\t time lapse 0.36942s\t ll change 0.01264\n",
      "  Iteration 6\t time lapse 0.36226s\t ll change 0.01130\n",
      "  Iteration 7\t time lapse 0.40401s\t ll change 0.00926\n",
      "  Iteration 8\t time lapse 0.36317s\t ll change 0.00733\n",
      "  Iteration 9\t time lapse 0.38923s\t ll change 0.00624\n",
      "  Iteration 10\t time lapse 0.37376s\t ll change 0.00627\n",
      "  Iteration 11\t time lapse 0.38414s\t ll change 0.00727\n",
      "  Iteration 12\t time lapse 0.36590s\t ll change 0.00848\n",
      "  Iteration 13\t time lapse 0.38520s\t ll change 0.00868\n",
      "  Iteration 14\t time lapse 0.38269s\t ll change 0.00727\n",
      "  Iteration 15\t time lapse 0.39774s\t ll change 0.00505\n",
      "Initialization converged: False\t time lapse 6.25146s\t ll -28.00325\n"
     ]
    },
    {
     "name": "stderr",
     "output_type": "stream",
     "text": [
      "/home/av/.local/lib/python3.10/site-packages/sklearn/mixture/_base.py:274: ConvergenceWarning: Initialization 1 did not converge. Try different init parameters, or increase max_iter, tol or check for degenerate data.\n",
      "  warnings.warn(\n"
     ]
    },
    {
     "name": "stdout",
     "output_type": "stream",
     "text": [
      "Initialization 0\n",
      "  Iteration 1\t time lapse 0.82785s\t ll change inf\n",
      "  Iteration 2\t time lapse 0.35820s\t ll change 1.47327\n",
      "  Iteration 3\t time lapse 0.34005s\t ll change 0.02426\n",
      "  Iteration 4\t time lapse 0.35011s\t ll change 0.01674\n",
      "  Iteration 5\t time lapse 0.33322s\t ll change 0.01198\n",
      "  Iteration 6\t time lapse 0.34449s\t ll change 0.00855\n",
      "  Iteration 7\t time lapse 0.34199s\t ll change 0.00608\n",
      "  Iteration 8\t time lapse 0.34195s\t ll change 0.00429\n",
      "  Iteration 9\t time lapse 0.38491s\t ll change 0.00302\n",
      "  Iteration 10\t time lapse 0.33910s\t ll change 0.00215\n",
      "  Iteration 11\t time lapse 0.33950s\t ll change 0.00155\n",
      "  Iteration 12\t time lapse 0.39166s\t ll change 0.00113\n",
      "  Iteration 13\t time lapse 0.34167s\t ll change 0.00084\n",
      "Initialization converged: True\t time lapse 5.03475s\t ll -27.43302\n",
      "Initialization 0\n",
      "  Iteration 1\t time lapse 1.07990s\t ll change inf\n",
      "  Iteration 2\t time lapse 0.31661s\t ll change 1.80719\n",
      "  Iteration 3\t time lapse 0.33174s\t ll change 0.02275\n",
      "  Iteration 4\t time lapse 0.34553s\t ll change 0.01587\n",
      "  Iteration 5\t time lapse 0.31719s\t ll change 0.01236\n",
      "  Iteration 6\t time lapse 0.33354s\t ll change 0.01001\n",
      "  Iteration 7\t time lapse 0.33254s\t ll change 0.00811\n",
      "  Iteration 8\t time lapse 0.32673s\t ll change 0.00643\n",
      "  Iteration 9\t time lapse 0.33493s\t ll change 0.00496\n",
      "  Iteration 10\t time lapse 0.32432s\t ll change 0.00372\n",
      "  Iteration 11\t time lapse 0.32370s\t ll change 0.00274\n",
      "  Iteration 12\t time lapse 0.33322s\t ll change 0.00199\n",
      "  Iteration 13\t time lapse 0.34967s\t ll change 0.00144\n",
      "  Iteration 14\t time lapse 0.32282s\t ll change 0.00105\n",
      "  Iteration 15\t time lapse 0.32850s\t ll change 0.00079\n",
      "Initialization converged: True\t time lapse 5.70105s\t ll -27.00390\n",
      "Initialization 0\n",
      "  Iteration 1\t time lapse 0.83772s\t ll change inf\n",
      "  Iteration 2\t time lapse 0.33291s\t ll change 1.18808\n",
      "  Iteration 3\t time lapse 0.33708s\t ll change 0.01562\n",
      "  Iteration 4\t time lapse 0.32052s\t ll change 0.01049\n",
      "  Iteration 5\t time lapse 0.32250s\t ll change 0.00879\n",
      "  Iteration 6\t time lapse 0.32282s\t ll change 0.00822\n",
      "  Iteration 7\t time lapse 0.32973s\t ll change 0.00824\n",
      "  Iteration 8\t time lapse 0.32515s\t ll change 0.00848\n",
      "  Iteration 9\t time lapse 0.33402s\t ll change 0.00820\n",
      "  Iteration 10\t time lapse 0.36795s\t ll change 0.00689\n",
      "  Iteration 11\t time lapse 0.37180s\t ll change 0.00503\n",
      "  Iteration 12\t time lapse 0.37585s\t ll change 0.00342\n",
      "  Iteration 13\t time lapse 0.39396s\t ll change 0.00232\n",
      "  Iteration 14\t time lapse 0.36213s\t ll change 0.00165\n",
      "  Iteration 15\t time lapse 0.34396s\t ll change 0.00127\n",
      "Initialization converged: False\t time lapse 5.67818s\t ll -27.47385\n"
     ]
    },
    {
     "name": "stderr",
     "output_type": "stream",
     "text": [
      "/home/av/.local/lib/python3.10/site-packages/sklearn/mixture/_base.py:274: ConvergenceWarning: Initialization 1 did not converge. Try different init parameters, or increase max_iter, tol or check for degenerate data.\n",
      "  warnings.warn(\n",
      "100%|██████████| 600/600 [00:12<00:00, 49.50it/s]\n",
      "/home/av/IST/slp-labs/LAB2/pf_tools.py:89: UserWarning: The feature directory already exists, and no new feature extraction will be performed.\n",
      "  warnings.warn(\"The feature directory already exists, and no new feature extraction will be performed.\")\n"
     ]
    },
    {
     "name": "stdout",
     "output_type": "stream",
     "text": [
      "Accuracy Score: 0.58\n",
      "Combination 26\n",
      "Initialization 0\n",
      "  Iteration 1\t time lapse 1.42724s\t ll change inf\n",
      "  Iteration 2\t time lapse 0.58385s\t ll change 1.43971\n",
      "  Iteration 3\t time lapse 0.55531s\t ll change 0.01721\n",
      "  Iteration 4\t time lapse 0.57807s\t ll change 0.01041\n",
      "  Iteration 5\t time lapse 0.60822s\t ll change 0.00748\n",
      "  Iteration 6\t time lapse 0.53140s\t ll change 0.00589\n",
      "  Iteration 7\t time lapse 0.58974s\t ll change 0.00497\n",
      "  Iteration 8\t time lapse 0.53132s\t ll change 0.00446\n",
      "  Iteration 9\t time lapse 0.61213s\t ll change 0.00425\n",
      "  Iteration 10\t time lapse 0.57383s\t ll change 0.00426\n",
      "  Iteration 11\t time lapse 0.53441s\t ll change 0.00440\n",
      "  Iteration 12\t time lapse 0.53539s\t ll change 0.00463\n",
      "  Iteration 13\t time lapse 0.56853s\t ll change 0.00487\n",
      "  Iteration 14\t time lapse 0.57765s\t ll change 0.00501\n",
      "  Iteration 15\t time lapse 0.55474s\t ll change 0.00489\n",
      "Initialization converged: False\t time lapse 9.36222s\t ll -27.16662\n"
     ]
    },
    {
     "name": "stderr",
     "output_type": "stream",
     "text": [
      "/home/av/.local/lib/python3.10/site-packages/sklearn/mixture/_base.py:274: ConvergenceWarning: Initialization 1 did not converge. Try different init parameters, or increase max_iter, tol or check for degenerate data.\n",
      "  warnings.warn(\n"
     ]
    },
    {
     "name": "stdout",
     "output_type": "stream",
     "text": [
      "Initialization 0\n",
      "  Iteration 1\t time lapse 1.74349s\t ll change inf\n",
      "  Iteration 2\t time lapse 0.62908s\t ll change 1.21377\n",
      "  Iteration 3\t time lapse 0.62743s\t ll change 0.01886\n",
      "  Iteration 4\t time lapse 0.61171s\t ll change 0.01185\n",
      "  Iteration 5\t time lapse 0.64741s\t ll change 0.00880\n",
      "  Iteration 6\t time lapse 0.67450s\t ll change 0.00706\n",
      "  Iteration 7\t time lapse 0.64253s\t ll change 0.00587\n",
      "  Iteration 8\t time lapse 0.64787s\t ll change 0.00493\n",
      "  Iteration 9\t time lapse 0.61820s\t ll change 0.00416\n",
      "  Iteration 10\t time lapse 0.64056s\t ll change 0.00359\n",
      "  Iteration 11\t time lapse 0.65946s\t ll change 0.00322\n",
      "  Iteration 12\t time lapse 0.61984s\t ll change 0.00302\n",
      "  Iteration 13\t time lapse 0.62022s\t ll change 0.00292\n",
      "  Iteration 14\t time lapse 0.61603s\t ll change 0.00282\n",
      "  Iteration 15\t time lapse 0.60840s\t ll change 0.00263\n",
      "Initialization converged: False\t time lapse 10.60713s\t ll -27.36495\n"
     ]
    },
    {
     "name": "stderr",
     "output_type": "stream",
     "text": [
      "/home/av/.local/lib/python3.10/site-packages/sklearn/mixture/_base.py:274: ConvergenceWarning: Initialization 1 did not converge. Try different init parameters, or increase max_iter, tol or check for degenerate data.\n",
      "  warnings.warn(\n"
     ]
    },
    {
     "name": "stdout",
     "output_type": "stream",
     "text": [
      "Initialization 0\n",
      "  Iteration 1\t time lapse 1.87334s\t ll change inf\n",
      "  Iteration 2\t time lapse 0.67740s\t ll change 1.34863\n",
      "  Iteration 3\t time lapse 0.64025s\t ll change 0.02151\n",
      "  Iteration 4\t time lapse 0.63125s\t ll change 0.01290\n",
      "  Iteration 5\t time lapse 0.64230s\t ll change 0.00860\n",
      "  Iteration 6\t time lapse 0.64885s\t ll change 0.00616\n",
      "  Iteration 7\t time lapse 0.66456s\t ll change 0.00473\n",
      "  Iteration 8\t time lapse 0.67309s\t ll change 0.00385\n",
      "  Iteration 9\t time lapse 0.66648s\t ll change 0.00329\n",
      "  Iteration 10\t time lapse 0.70574s\t ll change 0.00291\n",
      "  Iteration 11\t time lapse 0.65457s\t ll change 0.00262\n",
      "  Iteration 12\t time lapse 0.65172s\t ll change 0.00240\n",
      "  Iteration 13\t time lapse 0.66110s\t ll change 0.00221\n",
      "  Iteration 14\t time lapse 0.65273s\t ll change 0.00208\n",
      "  Iteration 15\t time lapse 0.66834s\t ll change 0.00200\n",
      "Initialization converged: False\t time lapse 11.11212s\t ll -27.82703\n"
     ]
    },
    {
     "name": "stderr",
     "output_type": "stream",
     "text": [
      "/home/av/.local/lib/python3.10/site-packages/sklearn/mixture/_base.py:274: ConvergenceWarning: Initialization 1 did not converge. Try different init parameters, or increase max_iter, tol or check for degenerate data.\n",
      "  warnings.warn(\n"
     ]
    },
    {
     "name": "stdout",
     "output_type": "stream",
     "text": [
      "Initialization 0\n",
      "  Iteration 1\t time lapse 1.90896s\t ll change inf\n",
      "  Iteration 2\t time lapse 0.56824s\t ll change 1.38603\n",
      "  Iteration 3\t time lapse 0.58628s\t ll change 0.02251\n",
      "  Iteration 4\t time lapse 0.53894s\t ll change 0.01541\n",
      "  Iteration 5\t time lapse 0.67565s\t ll change 0.01225\n",
      "  Iteration 6\t time lapse 0.57897s\t ll change 0.01006\n",
      "  Iteration 7\t time lapse 0.53831s\t ll change 0.00833\n",
      "  Iteration 8\t time lapse 0.55265s\t ll change 0.00703\n",
      "  Iteration 9\t time lapse 0.54757s\t ll change 0.00608\n",
      "  Iteration 10\t time lapse 0.56812s\t ll change 0.00533\n",
      "  Iteration 11\t time lapse 0.53567s\t ll change 0.00465\n",
      "  Iteration 12\t time lapse 0.53125s\t ll change 0.00399\n",
      "  Iteration 13\t time lapse 0.54160s\t ll change 0.00336\n",
      "  Iteration 14\t time lapse 0.56449s\t ll change 0.00277\n",
      "  Iteration 15\t time lapse 0.53922s\t ll change 0.00225\n",
      "Initialization converged: False\t time lapse 9.77605s\t ll -27.31590\n"
     ]
    },
    {
     "name": "stderr",
     "output_type": "stream",
     "text": [
      "/home/av/.local/lib/python3.10/site-packages/sklearn/mixture/_base.py:274: ConvergenceWarning: Initialization 1 did not converge. Try different init parameters, or increase max_iter, tol or check for degenerate data.\n",
      "  warnings.warn(\n"
     ]
    },
    {
     "name": "stdout",
     "output_type": "stream",
     "text": [
      "Initialization 0\n",
      "  Iteration 1\t time lapse 1.72005s\t ll change inf\n",
      "  Iteration 2\t time lapse 0.63867s\t ll change 1.64351\n",
      "  Iteration 3\t time lapse 0.65648s\t ll change 0.01849\n",
      "  Iteration 4\t time lapse 0.69797s\t ll change 0.01209\n",
      "  Iteration 5\t time lapse 0.64883s\t ll change 0.00943\n",
      "  Iteration 6\t time lapse 0.63391s\t ll change 0.00811\n",
      "  Iteration 7\t time lapse 0.57137s\t ll change 0.00754\n",
      "  Iteration 8\t time lapse 0.51379s\t ll change 0.00742\n",
      "  Iteration 9\t time lapse 0.53991s\t ll change 0.00741\n",
      "  Iteration 10\t time lapse 0.52557s\t ll change 0.00699\n",
      "  Iteration 11\t time lapse 0.53183s\t ll change 0.00597\n",
      "  Iteration 12\t time lapse 0.54052s\t ll change 0.00474\n",
      "  Iteration 13\t time lapse 0.53913s\t ll change 0.00365\n",
      "  Iteration 14\t time lapse 0.54375s\t ll change 0.00283\n",
      "  Iteration 15\t time lapse 0.53853s\t ll change 0.00228\n",
      "Initialization converged: False\t time lapse 9.84043s\t ll -26.91029\n"
     ]
    },
    {
     "name": "stderr",
     "output_type": "stream",
     "text": [
      "/home/av/.local/lib/python3.10/site-packages/sklearn/mixture/_base.py:274: ConvergenceWarning: Initialization 1 did not converge. Try different init parameters, or increase max_iter, tol or check for degenerate data.\n",
      "  warnings.warn(\n"
     ]
    },
    {
     "name": "stdout",
     "output_type": "stream",
     "text": [
      "Initialization 0\n",
      "  Iteration 1\t time lapse 1.43652s\t ll change inf\n",
      "  Iteration 2\t time lapse 0.54430s\t ll change 0.05492\n",
      "  Iteration 3\t time lapse 0.64479s\t ll change 0.02163\n",
      "  Iteration 4\t time lapse 0.52032s\t ll change 0.01441\n",
      "  Iteration 5\t time lapse 0.56672s\t ll change 0.01129\n",
      "  Iteration 6\t time lapse 0.68593s\t ll change 0.00938\n",
      "  Iteration 7\t time lapse 0.55420s\t ll change 0.00802\n",
      "  Iteration 8\t time lapse 0.57144s\t ll change 0.00694\n",
      "  Iteration 9\t time lapse 0.51558s\t ll change 0.00602\n",
      "  Iteration 10\t time lapse 0.53775s\t ll change 0.00516\n",
      "  Iteration 11\t time lapse 0.53094s\t ll change 0.00439\n",
      "  Iteration 12\t time lapse 0.55473s\t ll change 0.00372\n",
      "  Iteration 13\t time lapse 0.53192s\t ll change 0.00315\n",
      "  Iteration 14\t time lapse 0.59879s\t ll change 0.00265\n",
      "  Iteration 15\t time lapse 0.54196s\t ll change 0.00222\n",
      "Initialization converged: False\t time lapse 9.33626s\t ll -27.33973\n"
     ]
    },
    {
     "name": "stderr",
     "output_type": "stream",
     "text": [
      "/home/av/.local/lib/python3.10/site-packages/sklearn/mixture/_base.py:274: ConvergenceWarning: Initialization 1 did not converge. Try different init parameters, or increase max_iter, tol or check for degenerate data.\n",
      "  warnings.warn(\n",
      "100%|██████████| 600/600 [00:18<00:00, 32.14it/s]\n",
      "/home/av/IST/slp-labs/LAB2/pf_tools.py:89: UserWarning: The feature directory already exists, and no new feature extraction will be performed.\n",
      "  warnings.warn(\"The feature directory already exists, and no new feature extraction will be performed.\")\n"
     ]
    },
    {
     "name": "stdout",
     "output_type": "stream",
     "text": [
      "Accuracy Score: 0.6516666666666666\n",
      "Combination 27\n",
      "Initialization 0\n",
      "  Iteration 1\t time lapse 3.46889s\t ll change inf\n",
      "  Iteration 2\t time lapse 0.95969s\t ll change 1.41162\n",
      "  Iteration 3\t time lapse 0.94821s\t ll change 0.01872\n",
      "  Iteration 4\t time lapse 0.95045s\t ll change 0.01036\n",
      "  Iteration 5\t time lapse 0.95234s\t ll change 0.00695\n",
      "  Iteration 6\t time lapse 0.99821s\t ll change 0.00520\n",
      "  Iteration 7\t time lapse 1.00660s\t ll change 0.00423\n",
      "  Iteration 8\t time lapse 1.00933s\t ll change 0.00368\n",
      "  Iteration 9\t time lapse 0.95773s\t ll change 0.00337\n",
      "  Iteration 10\t time lapse 0.96193s\t ll change 0.00320\n",
      "  Iteration 11\t time lapse 1.00820s\t ll change 0.00308\n",
      "  Iteration 12\t time lapse 0.98106s\t ll change 0.00296\n",
      "  Iteration 13\t time lapse 0.98089s\t ll change 0.00282\n",
      "  Iteration 14\t time lapse 0.96110s\t ll change 0.00261\n",
      "  Iteration 15\t time lapse 0.98268s\t ll change 0.00237\n",
      "Initialization converged: False\t time lapse 17.12776s\t ll -27.05215\n"
     ]
    },
    {
     "name": "stderr",
     "output_type": "stream",
     "text": [
      "/home/av/.local/lib/python3.10/site-packages/sklearn/mixture/_base.py:274: ConvergenceWarning: Initialization 1 did not converge. Try different init parameters, or increase max_iter, tol or check for degenerate data.\n",
      "  warnings.warn(\n"
     ]
    },
    {
     "name": "stdout",
     "output_type": "stream",
     "text": [
      "Initialization 0\n",
      "  Iteration 1\t time lapse 4.11606s\t ll change inf\n",
      "  Iteration 2\t time lapse 1.40093s\t ll change 1.09583\n",
      "  Iteration 3\t time lapse 1.21294s\t ll change 0.01879\n",
      "  Iteration 4\t time lapse 1.11175s\t ll change 0.01099\n",
      "  Iteration 5\t time lapse 1.21272s\t ll change 0.00784\n",
      "  Iteration 6\t time lapse 1.09132s\t ll change 0.00619\n",
      "  Iteration 7\t time lapse 1.17386s\t ll change 0.00517\n",
      "  Iteration 8\t time lapse 1.11234s\t ll change 0.00445\n",
      "  Iteration 9\t time lapse 1.02129s\t ll change 0.00389\n",
      "  Iteration 10\t time lapse 1.10252s\t ll change 0.00342\n",
      "  Iteration 11\t time lapse 1.19297s\t ll change 0.00302\n",
      "  Iteration 12\t time lapse 1.17958s\t ll change 0.00268\n",
      "  Iteration 13\t time lapse 1.14245s\t ll change 0.00239\n",
      "  Iteration 14\t time lapse 1.13718s\t ll change 0.00216\n",
      "  Iteration 15\t time lapse 1.18356s\t ll change 0.00197\n",
      "Initialization converged: False\t time lapse 20.39191s\t ll -27.26003\n"
     ]
    },
    {
     "name": "stderr",
     "output_type": "stream",
     "text": [
      "/home/av/.local/lib/python3.10/site-packages/sklearn/mixture/_base.py:274: ConvergenceWarning: Initialization 1 did not converge. Try different init parameters, or increase max_iter, tol or check for degenerate data.\n",
      "  warnings.warn(\n"
     ]
    },
    {
     "name": "stdout",
     "output_type": "stream",
     "text": [
      "Initialization 0\n",
      "  Iteration 1\t time lapse 3.61250s\t ll change inf\n",
      "  Iteration 2\t time lapse 1.16698s\t ll change 1.23031\n",
      "  Iteration 3\t time lapse 1.09470s\t ll change 0.02309\n",
      "  Iteration 4\t time lapse 1.16832s\t ll change 0.01451\n",
      "  Iteration 5\t time lapse 1.29458s\t ll change 0.01024\n",
      "  Iteration 6\t time lapse 1.19269s\t ll change 0.00757\n",
      "  Iteration 7\t time lapse 1.37020s\t ll change 0.00581\n",
      "  Iteration 8\t time lapse 1.04703s\t ll change 0.00462\n",
      "  Iteration 9\t time lapse 1.36136s\t ll change 0.00377\n",
      "  Iteration 10\t time lapse 1.17432s\t ll change 0.00313\n",
      "  Iteration 11\t time lapse 1.22727s\t ll change 0.00263\n",
      "  Iteration 12\t time lapse 1.58147s\t ll change 0.00224\n",
      "  Iteration 13\t time lapse 1.21210s\t ll change 0.00194\n",
      "  Iteration 14\t time lapse 1.36965s\t ll change 0.00171\n",
      "  Iteration 15\t time lapse 1.33897s\t ll change 0.00155\n",
      "Initialization converged: False\t time lapse 21.21228s\t ll -27.68119\n"
     ]
    },
    {
     "name": "stderr",
     "output_type": "stream",
     "text": [
      "/home/av/.local/lib/python3.10/site-packages/sklearn/mixture/_base.py:274: ConvergenceWarning: Initialization 1 did not converge. Try different init parameters, or increase max_iter, tol or check for degenerate data.\n",
      "  warnings.warn(\n"
     ]
    },
    {
     "name": "stdout",
     "output_type": "stream",
     "text": [
      "Initialization 0\n",
      "  Iteration 1\t time lapse 3.45983s\t ll change inf\n",
      "  Iteration 2\t time lapse 0.94647s\t ll change 0.99166\n",
      "  Iteration 3\t time lapse 1.02628s\t ll change 0.02116\n",
      "  Iteration 4\t time lapse 0.97898s\t ll change 0.01217\n",
      "  Iteration 5\t time lapse 0.96798s\t ll change 0.00855\n",
      "  Iteration 6\t time lapse 0.93711s\t ll change 0.00683\n",
      "  Iteration 7\t time lapse 0.95306s\t ll change 0.00600\n",
      "  Iteration 8\t time lapse 0.96261s\t ll change 0.00554\n",
      "  Iteration 9\t time lapse 0.97480s\t ll change 0.00514\n",
      "  Iteration 10\t time lapse 0.95523s\t ll change 0.00463\n",
      "  Iteration 11\t time lapse 0.93923s\t ll change 0.00413\n",
      "  Iteration 12\t time lapse 0.92631s\t ll change 0.00378\n",
      "  Iteration 13\t time lapse 0.95185s\t ll change 0.00358\n",
      "  Iteration 14\t time lapse 0.95594s\t ll change 0.00346\n",
      "  Iteration 15\t time lapse 0.92654s\t ll change 0.00337\n",
      "Initialization converged: False\t time lapse 16.86235s\t ll -27.23665\n"
     ]
    },
    {
     "name": "stderr",
     "output_type": "stream",
     "text": [
      "/home/av/.local/lib/python3.10/site-packages/sklearn/mixture/_base.py:274: ConvergenceWarning: Initialization 1 did not converge. Try different init parameters, or increase max_iter, tol or check for degenerate data.\n",
      "  warnings.warn(\n"
     ]
    },
    {
     "name": "stdout",
     "output_type": "stream",
     "text": [
      "Initialization 0\n",
      "  Iteration 1\t time lapse 3.45702s\t ll change inf\n",
      "  Iteration 2\t time lapse 1.04534s\t ll change 1.53038\n",
      "  Iteration 3\t time lapse 1.06004s\t ll change 0.02044\n",
      "  Iteration 4\t time lapse 0.93314s\t ll change 0.01258\n",
      "  Iteration 5\t time lapse 0.89200s\t ll change 0.00956\n",
      "  Iteration 6\t time lapse 0.90183s\t ll change 0.00795\n",
      "  Iteration 7\t time lapse 0.90635s\t ll change 0.00675\n",
      "  Iteration 8\t time lapse 0.91604s\t ll change 0.00574\n",
      "  Iteration 9\t time lapse 0.93079s\t ll change 0.00490\n",
      "  Iteration 10\t time lapse 0.91615s\t ll change 0.00423\n",
      "  Iteration 11\t time lapse 0.94716s\t ll change 0.00369\n",
      "  Iteration 12\t time lapse 0.93536s\t ll change 0.00324\n",
      "  Iteration 13\t time lapse 0.92717s\t ll change 0.00289\n",
      "  Iteration 14\t time lapse 0.96307s\t ll change 0.00262\n",
      "  Iteration 15\t time lapse 0.95688s\t ll change 0.00241\n",
      "Initialization converged: False\t time lapse 16.68847s\t ll -26.83724\n"
     ]
    },
    {
     "name": "stderr",
     "output_type": "stream",
     "text": [
      "/home/av/.local/lib/python3.10/site-packages/sklearn/mixture/_base.py:274: ConvergenceWarning: Initialization 1 did not converge. Try different init parameters, or increase max_iter, tol or check for degenerate data.\n",
      "  warnings.warn(\n"
     ]
    },
    {
     "name": "stdout",
     "output_type": "stream",
     "text": [
      "Initialization 0\n",
      "  Iteration 1\t time lapse 3.63418s\t ll change inf\n",
      "  Iteration 2\t time lapse 0.95582s\t ll change 0.05773\n",
      "  Iteration 3\t time lapse 0.95091s\t ll change 0.01978\n",
      "  Iteration 4\t time lapse 0.95389s\t ll change 0.01191\n",
      "  Iteration 5\t time lapse 0.99988s\t ll change 0.00880\n",
      "  Iteration 6\t time lapse 1.00929s\t ll change 0.00692\n",
      "  Iteration 7\t time lapse 0.97568s\t ll change 0.00559\n",
      "  Iteration 8\t time lapse 0.99137s\t ll change 0.00466\n",
      "  Iteration 9\t time lapse 0.97238s\t ll change 0.00405\n",
      "  Iteration 10\t time lapse 0.96818s\t ll change 0.00368\n",
      "  Iteration 11\t time lapse 0.92703s\t ll change 0.00349\n",
      "  Iteration 12\t time lapse 0.96676s\t ll change 0.00335\n",
      "  Iteration 13\t time lapse 0.97911s\t ll change 0.00315\n",
      "  Iteration 14\t time lapse 0.99981s\t ll change 0.00286\n",
      "  Iteration 15\t time lapse 0.98825s\t ll change 0.00252\n",
      "Initialization converged: False\t time lapse 17.27293s\t ll -27.25069\n"
     ]
    },
    {
     "name": "stderr",
     "output_type": "stream",
     "text": [
      "/home/av/.local/lib/python3.10/site-packages/sklearn/mixture/_base.py:274: ConvergenceWarning: Initialization 1 did not converge. Try different init parameters, or increase max_iter, tol or check for degenerate data.\n",
      "  warnings.warn(\n",
      "100%|██████████| 600/600 [00:29<00:00, 20.02it/s]\n",
      "/home/av/IST/slp-labs/LAB2/pf_tools.py:89: UserWarning: The feature directory already exists, and no new feature extraction will be performed.\n",
      "  warnings.warn(\"The feature directory already exists, and no new feature extraction will be performed.\")\n"
     ]
    },
    {
     "name": "stdout",
     "output_type": "stream",
     "text": [
      "Accuracy Score: 0.67\n",
      "Combination 28\n",
      "Initialization 0\n",
      "  Iteration 1\t time lapse 0.85582s\t ll change inf\n",
      "  Iteration 2\t time lapse 0.33802s\t ll change 1.63483\n",
      "  Iteration 3\t time lapse 0.35555s\t ll change 0.02289\n",
      "  Iteration 4\t time lapse 0.33054s\t ll change 0.01496\n",
      "  Iteration 5\t time lapse 0.34310s\t ll change 0.01011\n",
      "  Iteration 6\t time lapse 0.35793s\t ll change 0.00698\n",
      "  Iteration 7\t time lapse 0.33292s\t ll change 0.00502\n",
      "  Iteration 8\t time lapse 0.34641s\t ll change 0.00379\n",
      "  Iteration 9\t time lapse 0.37765s\t ll change 0.00300\n",
      "  Iteration 10\t time lapse 0.33518s\t ll change 0.00247\n",
      "  Iteration 11\t time lapse 0.40884s\t ll change 0.00209\n",
      "  Iteration 12\t time lapse 0.33579s\t ll change 0.00179\n",
      "  Iteration 13\t time lapse 0.35198s\t ll change 0.00154\n",
      "  Iteration 14\t time lapse 0.35802s\t ll change 0.00132\n",
      "  Iteration 15\t time lapse 0.33448s\t ll change 0.00111\n",
      "Initialization converged: False\t time lapse 5.76229s\t ll -27.27250\n"
     ]
    },
    {
     "name": "stderr",
     "output_type": "stream",
     "text": [
      "/home/av/.local/lib/python3.10/site-packages/sklearn/mixture/_base.py:274: ConvergenceWarning: Initialization 1 did not converge. Try different init parameters, or increase max_iter, tol or check for degenerate data.\n",
      "  warnings.warn(\n"
     ]
    },
    {
     "name": "stdout",
     "output_type": "stream",
     "text": [
      "Initialization 0\n",
      "  Iteration 1\t time lapse 0.82278s\t ll change inf\n",
      "  Iteration 2\t time lapse 0.38283s\t ll change 1.30801\n",
      "  Iteration 3\t time lapse 0.37643s\t ll change 0.01494\n",
      "  Iteration 4\t time lapse 0.35999s\t ll change 0.00980\n",
      "  Iteration 5\t time lapse 0.41310s\t ll change 0.00757\n",
      "  Iteration 6\t time lapse 0.34930s\t ll change 0.00620\n",
      "  Iteration 7\t time lapse 0.36080s\t ll change 0.00520\n",
      "  Iteration 8\t time lapse 0.35719s\t ll change 0.00441\n",
      "  Iteration 9\t time lapse 0.35253s\t ll change 0.00380\n",
      "  Iteration 10\t time lapse 0.34972s\t ll change 0.00333\n",
      "  Iteration 11\t time lapse 0.38917s\t ll change 0.00301\n",
      "  Iteration 12\t time lapse 0.35036s\t ll change 0.00281\n",
      "  Iteration 13\t time lapse 0.39124s\t ll change 0.00270\n",
      "  Iteration 14\t time lapse 0.35579s\t ll change 0.00267\n",
      "  Iteration 15\t time lapse 0.38155s\t ll change 0.00268\n",
      "Initialization converged: False\t time lapse 5.99288s\t ll -27.52774\n"
     ]
    },
    {
     "name": "stderr",
     "output_type": "stream",
     "text": [
      "/home/av/.local/lib/python3.10/site-packages/sklearn/mixture/_base.py:274: ConvergenceWarning: Initialization 1 did not converge. Try different init parameters, or increase max_iter, tol or check for degenerate data.\n",
      "  warnings.warn(\n"
     ]
    },
    {
     "name": "stdout",
     "output_type": "stream",
     "text": [
      "Initialization 0\n",
      "  Iteration 1\t time lapse 1.23849s\t ll change inf\n",
      "  Iteration 2\t time lapse 0.36438s\t ll change 1.44777\n",
      "  Iteration 3\t time lapse 0.40660s\t ll change 0.02240\n",
      "  Iteration 4\t time lapse 0.37857s\t ll change 0.01413\n",
      "  Iteration 5\t time lapse 0.38666s\t ll change 0.01046\n",
      "  Iteration 6\t time lapse 0.38194s\t ll change 0.00811\n",
      "  Iteration 7\t time lapse 0.37789s\t ll change 0.00627\n",
      "  Iteration 8\t time lapse 0.37133s\t ll change 0.00480\n",
      "  Iteration 9\t time lapse 0.41171s\t ll change 0.00366\n",
      "  Iteration 10\t time lapse 0.40570s\t ll change 0.00281\n",
      "  Iteration 11\t time lapse 0.37364s\t ll change 0.00219\n",
      "  Iteration 12\t time lapse 0.36904s\t ll change 0.00173\n",
      "  Iteration 13\t time lapse 0.37635s\t ll change 0.00139\n",
      "  Iteration 14\t time lapse 0.39628s\t ll change 0.00113\n",
      "  Iteration 15\t time lapse 0.37059s\t ll change 0.00092\n",
      "Initialization converged: True\t time lapse 6.60922s\t ll -27.97366\n",
      "Initialization 0\n",
      "  Iteration 1\t time lapse 0.85863s\t ll change inf\n",
      "  Iteration 2\t time lapse 0.39273s\t ll change 1.46648\n",
      "  Iteration 3\t time lapse 0.33618s\t ll change 0.02420\n",
      "  Iteration 4\t time lapse 0.34501s\t ll change 0.01674\n",
      "  Iteration 5\t time lapse 0.35722s\t ll change 0.01203\n",
      "  Iteration 6\t time lapse 0.33524s\t ll change 0.00861\n",
      "  Iteration 7\t time lapse 0.38813s\t ll change 0.00612\n",
      "  Iteration 8\t time lapse 0.35177s\t ll change 0.00431\n",
      "  Iteration 9\t time lapse 0.35500s\t ll change 0.00304\n",
      "  Iteration 10\t time lapse 0.35544s\t ll change 0.00217\n",
      "  Iteration 11\t time lapse 0.35067s\t ll change 0.00158\n",
      "  Iteration 12\t time lapse 0.34330s\t ll change 0.00116\n",
      "  Iteration 13\t time lapse 0.40542s\t ll change 0.00087\n",
      "Initialization converged: True\t time lapse 5.17479s\t ll -27.43319\n",
      "Initialization 0\n",
      "  Iteration 1\t time lapse 0.79889s\t ll change inf\n",
      "  Iteration 2\t time lapse 0.31180s\t ll change 1.76580\n",
      "  Iteration 3\t time lapse 0.30964s\t ll change 0.01350\n",
      "  Iteration 4\t time lapse 0.30870s\t ll change 0.00917\n",
      "  Iteration 5\t time lapse 0.31336s\t ll change 0.00775\n",
      "  Iteration 6\t time lapse 0.33889s\t ll change 0.00720\n",
      "  Iteration 7\t time lapse 0.31604s\t ll change 0.00674\n",
      "  Iteration 8\t time lapse 0.31419s\t ll change 0.00600\n",
      "  Iteration 9\t time lapse 0.33749s\t ll change 0.00505\n",
      "  Iteration 10\t time lapse 0.31655s\t ll change 0.00410\n",
      "  Iteration 11\t time lapse 0.31410s\t ll change 0.00330\n",
      "  Iteration 12\t time lapse 0.34382s\t ll change 0.00267\n",
      "  Iteration 13\t time lapse 0.31496s\t ll change 0.00221\n",
      "  Iteration 14\t time lapse 0.31467s\t ll change 0.00188\n",
      "  Iteration 15\t time lapse 0.32978s\t ll change 0.00163\n",
      "Initialization converged: False\t time lapse 5.28295s\t ll -27.09614\n"
     ]
    },
    {
     "name": "stderr",
     "output_type": "stream",
     "text": [
      "/home/av/.local/lib/python3.10/site-packages/sklearn/mixture/_base.py:274: ConvergenceWarning: Initialization 1 did not converge. Try different init parameters, or increase max_iter, tol or check for degenerate data.\n",
      "  warnings.warn(\n"
     ]
    },
    {
     "name": "stdout",
     "output_type": "stream",
     "text": [
      "Initialization 0\n",
      "  Iteration 1\t time lapse 0.86771s\t ll change inf\n",
      "  Iteration 2\t time lapse 0.35528s\t ll change 1.12133\n",
      "  Iteration 3\t time lapse 0.33379s\t ll change 0.01519\n",
      "  Iteration 4\t time lapse 0.34255s\t ll change 0.00990\n",
      "  Iteration 5\t time lapse 0.35473s\t ll change 0.00814\n",
      "  Iteration 6\t time lapse 0.33055s\t ll change 0.00759\n",
      "  Iteration 7\t time lapse 0.33633s\t ll change 0.00767\n",
      "  Iteration 8\t time lapse 0.39109s\t ll change 0.00806\n",
      "  Iteration 9\t time lapse 0.33229s\t ll change 0.00821\n",
      "  Iteration 10\t time lapse 0.37588s\t ll change 0.00748\n",
      "  Iteration 11\t time lapse 0.33004s\t ll change 0.00592\n",
      "  Iteration 12\t time lapse 0.35366s\t ll change 0.00425\n",
      "  Iteration 13\t time lapse 0.33773s\t ll change 0.00296\n",
      "  Iteration 14\t time lapse 0.32797s\t ll change 0.00209\n",
      "  Iteration 15\t time lapse 0.35100s\t ll change 0.00155\n",
      "Initialization converged: False\t time lapse 5.72067s\t ll -27.47524\n"
     ]
    },
    {
     "name": "stderr",
     "output_type": "stream",
     "text": [
      "/home/av/.local/lib/python3.10/site-packages/sklearn/mixture/_base.py:274: ConvergenceWarning: Initialization 1 did not converge. Try different init parameters, or increase max_iter, tol or check for degenerate data.\n",
      "  warnings.warn(\n",
      "100%|██████████| 600/600 [00:11<00:00, 50.35it/s]\n",
      "/home/av/IST/slp-labs/LAB2/pf_tools.py:89: UserWarning: The feature directory already exists, and no new feature extraction will be performed.\n",
      "  warnings.warn(\"The feature directory already exists, and no new feature extraction will be performed.\")\n"
     ]
    },
    {
     "name": "stdout",
     "output_type": "stream",
     "text": [
      "Accuracy Score: 0.5933333333333334\n",
      "Combination 29\n",
      "Initialization 0\n",
      "  Iteration 1\t time lapse 1.74331s\t ll change inf\n",
      "  Iteration 2\t time lapse 0.60074s\t ll change 1.44362\n",
      "  Iteration 3\t time lapse 0.54066s\t ll change 0.01908\n",
      "  Iteration 4\t time lapse 0.55118s\t ll change 0.01157\n",
      "  Iteration 5\t time lapse 0.54352s\t ll change 0.00823\n",
      "  Iteration 6\t time lapse 0.53170s\t ll change 0.00628\n",
      "  Iteration 7\t time lapse 0.53339s\t ll change 0.00506\n",
      "  Iteration 8\t time lapse 0.53134s\t ll change 0.00428\n",
      "  Iteration 9\t time lapse 0.56466s\t ll change 0.00380\n",
      "  Iteration 10\t time lapse 0.52036s\t ll change 0.00347\n",
      "  Iteration 11\t time lapse 0.62838s\t ll change 0.00322\n",
      "  Iteration 12\t time lapse 0.57540s\t ll change 0.00298\n",
      "  Iteration 13\t time lapse 0.52182s\t ll change 0.00271\n",
      "  Iteration 14\t time lapse 0.55480s\t ll change 0.00239\n",
      "  Iteration 15\t time lapse 0.66079s\t ll change 0.00205\n",
      "Initialization converged: False\t time lapse 9.60215s\t ll -27.15224\n"
     ]
    },
    {
     "name": "stderr",
     "output_type": "stream",
     "text": [
      "/home/av/.local/lib/python3.10/site-packages/sklearn/mixture/_base.py:274: ConvergenceWarning: Initialization 1 did not converge. Try different init parameters, or increase max_iter, tol or check for degenerate data.\n",
      "  warnings.warn(\n"
     ]
    },
    {
     "name": "stdout",
     "output_type": "stream",
     "text": [
      "Initialization 0\n",
      "  Iteration 1\t time lapse 1.96761s\t ll change inf\n",
      "  Iteration 2\t time lapse 0.59642s\t ll change 1.27162\n",
      "  Iteration 3\t time lapse 0.67121s\t ll change 0.02012\n",
      "  Iteration 4\t time lapse 0.67475s\t ll change 0.01377\n",
      "  Iteration 5\t time lapse 0.59692s\t ll change 0.01070\n",
      "  Iteration 6\t time lapse 0.62038s\t ll change 0.00867\n",
      "  Iteration 7\t time lapse 0.64716s\t ll change 0.00727\n",
      "  Iteration 8\t time lapse 0.64266s\t ll change 0.00638\n",
      "  Iteration 9\t time lapse 0.64571s\t ll change 0.00587\n",
      "  Iteration 10\t time lapse 0.66076s\t ll change 0.00558\n",
      "  Iteration 11\t time lapse 0.60678s\t ll change 0.00533\n",
      "  Iteration 12\t time lapse 0.62431s\t ll change 0.00498\n",
      "  Iteration 13\t time lapse 0.61570s\t ll change 0.00452\n",
      "  Iteration 14\t time lapse 0.63513s\t ll change 0.00397\n",
      "  Iteration 15\t time lapse 0.62087s\t ll change 0.00337\n",
      "Initialization converged: False\t time lapse 10.82647s\t ll -27.36501\n"
     ]
    },
    {
     "name": "stderr",
     "output_type": "stream",
     "text": [
      "/home/av/.local/lib/python3.10/site-packages/sklearn/mixture/_base.py:274: ConvergenceWarning: Initialization 1 did not converge. Try different init parameters, or increase max_iter, tol or check for degenerate data.\n",
      "  warnings.warn(\n"
     ]
    },
    {
     "name": "stdout",
     "output_type": "stream",
     "text": [
      "Initialization 0\n",
      "  Iteration 1\t time lapse 1.77698s\t ll change inf\n",
      "  Iteration 2\t time lapse 0.65375s\t ll change 1.24363\n",
      "  Iteration 3\t time lapse 0.65878s\t ll change 0.02192\n",
      "  Iteration 4\t time lapse 0.67154s\t ll change 0.01386\n",
      "  Iteration 5\t time lapse 0.65310s\t ll change 0.00996\n",
      "  Iteration 6\t time lapse 0.65617s\t ll change 0.00764\n",
      "  Iteration 7\t time lapse 0.68147s\t ll change 0.00614\n",
      "  Iteration 8\t time lapse 0.74600s\t ll change 0.00514\n",
      "  Iteration 9\t time lapse 0.65057s\t ll change 0.00443\n",
      "  Iteration 10\t time lapse 0.64720s\t ll change 0.00390\n",
      "  Iteration 11\t time lapse 0.66284s\t ll change 0.00347\n",
      "  Iteration 12\t time lapse 0.66452s\t ll change 0.00311\n",
      "  Iteration 13\t time lapse 0.65170s\t ll change 0.00283\n",
      "  Iteration 14\t time lapse 0.66411s\t ll change 0.00264\n",
      "  Iteration 15\t time lapse 0.66207s\t ll change 0.00253\n",
      "Initialization converged: False\t time lapse 11.10089s\t ll -27.81471\n"
     ]
    },
    {
     "name": "stderr",
     "output_type": "stream",
     "text": [
      "/home/av/.local/lib/python3.10/site-packages/sklearn/mixture/_base.py:274: ConvergenceWarning: Initialization 1 did not converge. Try different init parameters, or increase max_iter, tol or check for degenerate data.\n",
      "  warnings.warn(\n"
     ]
    },
    {
     "name": "stdout",
     "output_type": "stream",
     "text": [
      "Initialization 0\n",
      "  Iteration 1\t time lapse 2.67407s\t ll change inf\n",
      "  Iteration 2\t time lapse 0.54097s\t ll change 1.40819\n",
      "  Iteration 3\t time lapse 0.54229s\t ll change 0.02466\n",
      "  Iteration 4\t time lapse 0.60830s\t ll change 0.01648\n",
      "  Iteration 5\t time lapse 0.56844s\t ll change 0.01244\n",
      "  Iteration 6\t time lapse 0.52803s\t ll change 0.00980\n",
      "  Iteration 7\t time lapse 0.55209s\t ll change 0.00796\n",
      "  Iteration 8\t time lapse 0.53841s\t ll change 0.00670\n",
      "  Iteration 9\t time lapse 0.55895s\t ll change 0.00578\n",
      "  Iteration 10\t time lapse 0.53485s\t ll change 0.00500\n",
      "  Iteration 11\t time lapse 0.58698s\t ll change 0.00424\n",
      "  Iteration 12\t time lapse 0.55408s\t ll change 0.00346\n",
      "  Iteration 13\t time lapse 0.55322s\t ll change 0.00272\n",
      "  Iteration 14\t time lapse 0.61501s\t ll change 0.00210\n",
      "  Iteration 15\t time lapse 0.58803s\t ll change 0.00162\n",
      "Initialization converged: False\t time lapse 10.54383s\t ll -27.31712\n"
     ]
    },
    {
     "name": "stderr",
     "output_type": "stream",
     "text": [
      "/home/av/.local/lib/python3.10/site-packages/sklearn/mixture/_base.py:274: ConvergenceWarning: Initialization 1 did not converge. Try different init parameters, or increase max_iter, tol or check for degenerate data.\n",
      "  warnings.warn(\n"
     ]
    },
    {
     "name": "stdout",
     "output_type": "stream",
     "text": [
      "Initialization 0\n",
      "  Iteration 1\t time lapse 1.39526s\t ll change inf\n",
      "  Iteration 2\t time lapse 0.53267s\t ll change 1.63573\n",
      "  Iteration 3\t time lapse 0.49364s\t ll change 0.02011\n",
      "  Iteration 4\t time lapse 0.51371s\t ll change 0.01352\n",
      "  Iteration 5\t time lapse 0.49544s\t ll change 0.01081\n",
      "  Iteration 6\t time lapse 0.51275s\t ll change 0.00930\n",
      "  Iteration 7\t time lapse 0.51102s\t ll change 0.00802\n",
      "  Iteration 8\t time lapse 0.54720s\t ll change 0.00667\n",
      "  Iteration 9\t time lapse 0.55781s\t ll change 0.00532\n",
      "  Iteration 10\t time lapse 0.51019s\t ll change 0.00412\n",
      "  Iteration 11\t time lapse 0.51955s\t ll change 0.00316\n",
      "  Iteration 12\t time lapse 0.53748s\t ll change 0.00244\n",
      "  Iteration 13\t time lapse 0.53479s\t ll change 0.00194\n",
      "  Iteration 14\t time lapse 0.50667s\t ll change 0.00159\n",
      "  Iteration 15\t time lapse 0.55793s\t ll change 0.00136\n",
      "Initialization converged: False\t time lapse 8.72622s\t ll -26.90640\n"
     ]
    },
    {
     "name": "stderr",
     "output_type": "stream",
     "text": [
      "/home/av/.local/lib/python3.10/site-packages/sklearn/mixture/_base.py:274: ConvergenceWarning: Initialization 1 did not converge. Try different init parameters, or increase max_iter, tol or check for degenerate data.\n",
      "  warnings.warn(\n"
     ]
    },
    {
     "name": "stdout",
     "output_type": "stream",
     "text": [
      "Initialization 0\n",
      "  Iteration 1\t time lapse 2.48279s\t ll change inf\n",
      "  Iteration 2\t time lapse 0.51878s\t ll change 0.05407\n",
      "  Iteration 3\t time lapse 0.53588s\t ll change 0.02120\n",
      "  Iteration 4\t time lapse 0.53781s\t ll change 0.01413\n",
      "  Iteration 5\t time lapse 0.57737s\t ll change 0.01108\n",
      "  Iteration 6\t time lapse 0.51890s\t ll change 0.00924\n",
      "  Iteration 7\t time lapse 0.55922s\t ll change 0.00793\n",
      "  Iteration 8\t time lapse 0.52458s\t ll change 0.00692\n",
      "  Iteration 9\t time lapse 0.53164s\t ll change 0.00606\n",
      "  Iteration 10\t time lapse 0.51790s\t ll change 0.00529\n",
      "  Iteration 11\t time lapse 0.58115s\t ll change 0.00461\n",
      "  Iteration 12\t time lapse 0.59321s\t ll change 0.00401\n",
      "  Iteration 13\t time lapse 0.55357s\t ll change 0.00344\n",
      "  Iteration 14\t time lapse 0.52950s\t ll change 0.00293\n",
      "  Iteration 15\t time lapse 0.64218s\t ll change 0.00248\n",
      "Initialization converged: False\t time lapse 10.20461s\t ll -27.34129\n"
     ]
    },
    {
     "name": "stderr",
     "output_type": "stream",
     "text": [
      "/home/av/.local/lib/python3.10/site-packages/sklearn/mixture/_base.py:274: ConvergenceWarning: Initialization 1 did not converge. Try different init parameters, or increase max_iter, tol or check for degenerate data.\n",
      "  warnings.warn(\n",
      "100%|██████████| 600/600 [00:21<00:00, 27.46it/s]\n",
      "/home/av/IST/slp-labs/LAB2/pf_tools.py:89: UserWarning: The feature directory already exists, and no new feature extraction will be performed.\n",
      "  warnings.warn(\"The feature directory already exists, and no new feature extraction will be performed.\")\n"
     ]
    },
    {
     "name": "stdout",
     "output_type": "stream",
     "text": [
      "Accuracy Score: 0.6316666666666667\n",
      "Combination 30\n",
      "Initialization 0\n",
      "  Iteration 1\t time lapse 2.85759s\t ll change inf\n",
      "  Iteration 2\t time lapse 1.02006s\t ll change 1.41235\n",
      "  Iteration 3\t time lapse 1.00201s\t ll change 0.01883\n",
      "  Iteration 4\t time lapse 0.99254s\t ll change 0.01073\n",
      "  Iteration 5\t time lapse 0.98983s\t ll change 0.00764\n",
      "  Iteration 6\t time lapse 0.99158s\t ll change 0.00606\n",
      "  Iteration 7\t time lapse 0.98902s\t ll change 0.00508\n",
      "  Iteration 8\t time lapse 1.01491s\t ll change 0.00441\n",
      "  Iteration 9\t time lapse 0.99727s\t ll change 0.00393\n",
      "  Iteration 10\t time lapse 0.99564s\t ll change 0.00358\n",
      "  Iteration 11\t time lapse 0.99987s\t ll change 0.00332\n",
      "  Iteration 12\t time lapse 1.00590s\t ll change 0.00311\n",
      "  Iteration 13\t time lapse 1.02402s\t ll change 0.00291\n",
      "  Iteration 14\t time lapse 1.00060s\t ll change 0.00272\n",
      "  Iteration 15\t time lapse 1.00995s\t ll change 0.00254\n",
      "Initialization converged: False\t time lapse 16.89124s\t ll -27.05010\n"
     ]
    },
    {
     "name": "stderr",
     "output_type": "stream",
     "text": [
      "/home/av/.local/lib/python3.10/site-packages/sklearn/mixture/_base.py:274: ConvergenceWarning: Initialization 1 did not converge. Try different init parameters, or increase max_iter, tol or check for degenerate data.\n",
      "  warnings.warn(\n"
     ]
    },
    {
     "name": "stdout",
     "output_type": "stream",
     "text": [
      "Initialization 0\n",
      "  Iteration 1\t time lapse 3.72645s\t ll change inf\n",
      "  Iteration 2\t time lapse 1.02495s\t ll change 1.06347\n",
      "  Iteration 3\t time lapse 1.54883s\t ll change 0.01894\n",
      "  Iteration 4\t time lapse 1.06802s\t ll change 0.01100\n",
      "  Iteration 5\t time lapse 1.08750s\t ll change 0.00775\n",
      "  Iteration 6\t time lapse 1.01852s\t ll change 0.00603\n",
      "  Iteration 7\t time lapse 1.14609s\t ll change 0.00497\n",
      "  Iteration 8\t time lapse 1.01132s\t ll change 0.00425\n",
      "  Iteration 9\t time lapse 1.16913s\t ll change 0.00372\n",
      "  Iteration 10\t time lapse 1.05013s\t ll change 0.00331\n",
      "  Iteration 11\t time lapse 1.08100s\t ll change 0.00298\n",
      "  Iteration 12\t time lapse 1.19461s\t ll change 0.00271\n",
      "  Iteration 13\t time lapse 1.08667s\t ll change 0.00251\n",
      "  Iteration 14\t time lapse 1.15065s\t ll change 0.00235\n",
      "  Iteration 15\t time lapse 1.04110s\t ll change 0.00222\n",
      "Initialization converged: False\t time lapse 19.40508s\t ll -27.26074\n"
     ]
    },
    {
     "name": "stderr",
     "output_type": "stream",
     "text": [
      "/home/av/.local/lib/python3.10/site-packages/sklearn/mixture/_base.py:274: ConvergenceWarning: Initialization 1 did not converge. Try different init parameters, or increase max_iter, tol or check for degenerate data.\n",
      "  warnings.warn(\n"
     ]
    },
    {
     "name": "stdout",
     "output_type": "stream",
     "text": [
      "Initialization 0\n",
      "  Iteration 1\t time lapse 4.14844s\t ll change inf\n",
      "  Iteration 2\t time lapse 1.16857s\t ll change 1.24282\n",
      "  Iteration 3\t time lapse 1.46858s\t ll change 0.02226\n",
      "  Iteration 4\t time lapse 1.08402s\t ll change 0.01457\n",
      "  Iteration 5\t time lapse 1.32534s\t ll change 0.01090\n",
      "  Iteration 6\t time lapse 1.05518s\t ll change 0.00854\n",
      "  Iteration 7\t time lapse 1.16725s\t ll change 0.00693\n",
      "  Iteration 8\t time lapse 1.09923s\t ll change 0.00581\n",
      "  Iteration 9\t time lapse 1.15438s\t ll change 0.00502\n",
      "  Iteration 10\t time lapse 1.39213s\t ll change 0.00444\n",
      "  Iteration 11\t time lapse 1.11997s\t ll change 0.00400\n",
      "  Iteration 12\t time lapse 1.04968s\t ll change 0.00365\n",
      "  Iteration 13\t time lapse 1.12488s\t ll change 0.00334\n",
      "  Iteration 14\t time lapse 1.48994s\t ll change 0.00304\n",
      "  Iteration 15\t time lapse 1.18408s\t ll change 0.00270\n",
      "Initialization converged: False\t time lapse 21.03177s\t ll -27.67658\n"
     ]
    },
    {
     "name": "stderr",
     "output_type": "stream",
     "text": [
      "/home/av/.local/lib/python3.10/site-packages/sklearn/mixture/_base.py:274: ConvergenceWarning: Initialization 1 did not converge. Try different init parameters, or increase max_iter, tol or check for degenerate data.\n",
      "  warnings.warn(\n"
     ]
    },
    {
     "name": "stdout",
     "output_type": "stream",
     "text": [
      "Initialization 0\n",
      "  Iteration 1\t time lapse 2.99925s\t ll change inf\n",
      "  Iteration 2\t time lapse 0.99381s\t ll change 1.18224\n",
      "  Iteration 3\t time lapse 0.99331s\t ll change 0.02166\n",
      "  Iteration 4\t time lapse 0.99983s\t ll change 0.01368\n",
      "  Iteration 5\t time lapse 1.00982s\t ll change 0.01076\n",
      "  Iteration 6\t time lapse 0.96544s\t ll change 0.00918\n",
      "  Iteration 7\t time lapse 1.01657s\t ll change 0.00805\n",
      "  Iteration 8\t time lapse 1.01182s\t ll change 0.00717\n",
      "  Iteration 9\t time lapse 0.99377s\t ll change 0.00640\n",
      "  Iteration 10\t time lapse 0.98094s\t ll change 0.00574\n",
      "  Iteration 11\t time lapse 1.01682s\t ll change 0.00521\n",
      "  Iteration 12\t time lapse 1.06718s\t ll change 0.00468\n",
      "  Iteration 13\t time lapse 0.96857s\t ll change 0.00424\n",
      "  Iteration 14\t time lapse 0.95542s\t ll change 0.00427\n",
      "  Iteration 15\t time lapse 1.01760s\t ll change 0.00494\n",
      "Initialization converged: False\t time lapse 16.99055s\t ll -27.22196\n"
     ]
    },
    {
     "name": "stderr",
     "output_type": "stream",
     "text": [
      "/home/av/.local/lib/python3.10/site-packages/sklearn/mixture/_base.py:274: ConvergenceWarning: Initialization 1 did not converge. Try different init parameters, or increase max_iter, tol or check for degenerate data.\n",
      "  warnings.warn(\n"
     ]
    },
    {
     "name": "stdout",
     "output_type": "stream",
     "text": [
      "Initialization 0\n",
      "  Iteration 1\t time lapse 3.11882s\t ll change inf\n",
      "  Iteration 2\t time lapse 0.93295s\t ll change 1.54145\n",
      "  Iteration 3\t time lapse 0.90753s\t ll change 0.02222\n",
      "  Iteration 4\t time lapse 0.97389s\t ll change 0.01402\n",
      "  Iteration 5\t time lapse 0.95256s\t ll change 0.01043\n",
      "  Iteration 6\t time lapse 0.90856s\t ll change 0.00815\n",
      "  Iteration 7\t time lapse 0.96057s\t ll change 0.00651\n",
      "  Iteration 8\t time lapse 0.92942s\t ll change 0.00527\n",
      "  Iteration 9\t time lapse 0.89892s\t ll change 0.00431\n",
      "  Iteration 10\t time lapse 0.96698s\t ll change 0.00360\n",
      "  Iteration 11\t time lapse 0.95251s\t ll change 0.00304\n",
      "  Iteration 12\t time lapse 0.94311s\t ll change 0.00260\n",
      "  Iteration 13\t time lapse 0.93156s\t ll change 0.00226\n",
      "  Iteration 14\t time lapse 0.90571s\t ll change 0.00200\n",
      "  Iteration 15\t time lapse 0.90176s\t ll change 0.00181\n",
      "Initialization converged: False\t time lapse 16.18494s\t ll -26.83604\n"
     ]
    },
    {
     "name": "stderr",
     "output_type": "stream",
     "text": [
      "/home/av/.local/lib/python3.10/site-packages/sklearn/mixture/_base.py:274: ConvergenceWarning: Initialization 1 did not converge. Try different init parameters, or increase max_iter, tol or check for degenerate data.\n",
      "  warnings.warn(\n"
     ]
    },
    {
     "name": "stdout",
     "output_type": "stream",
     "text": [
      "Initialization 0\n",
      "  Iteration 1\t time lapse 3.09593s\t ll change inf\n",
      "  Iteration 2\t time lapse 0.93575s\t ll change 0.05849\n",
      "  Iteration 3\t time lapse 1.09009s\t ll change 0.02026\n",
      "  Iteration 4\t time lapse 1.11746s\t ll change 0.01253\n",
      "  Iteration 5\t time lapse 1.16842s\t ll change 0.00942\n",
      "  Iteration 6\t time lapse 1.26007s\t ll change 0.00744\n",
      "  Iteration 7\t time lapse 1.01196s\t ll change 0.00595\n",
      "  Iteration 8\t time lapse 0.97823s\t ll change 0.00482\n",
      "  Iteration 9\t time lapse 0.96693s\t ll change 0.00400\n",
      "  Iteration 10\t time lapse 0.96483s\t ll change 0.00345\n",
      "  Iteration 11\t time lapse 0.97904s\t ll change 0.00312\n",
      "  Iteration 12\t time lapse 1.01482s\t ll change 0.00295\n",
      "  Iteration 13\t time lapse 0.98909s\t ll change 0.00286\n",
      "  Iteration 14\t time lapse 0.98154s\t ll change 0.00276\n",
      "  Iteration 15\t time lapse 0.95319s\t ll change 0.00258\n",
      "Initialization converged: False\t time lapse 17.50775s\t ll -27.24932\n"
     ]
    },
    {
     "name": "stderr",
     "output_type": "stream",
     "text": [
      "/home/av/.local/lib/python3.10/site-packages/sklearn/mixture/_base.py:274: ConvergenceWarning: Initialization 1 did not converge. Try different init parameters, or increase max_iter, tol or check for degenerate data.\n",
      "  warnings.warn(\n",
      "100%|██████████| 600/600 [00:30<00:00, 19.65it/s]\n",
      "/home/av/IST/slp-labs/LAB2/pf_tools.py:89: UserWarning: The feature directory already exists, and no new feature extraction will be performed.\n",
      "  warnings.warn(\"The feature directory already exists, and no new feature extraction will be performed.\")\n"
     ]
    },
    {
     "name": "stdout",
     "output_type": "stream",
     "text": [
      "Accuracy Score: 0.6733333333333333\n",
      "Combination 31\n",
      "Initialization 0\n",
      "  Iteration 1\t time lapse 0.98315s\t ll change inf\n",
      "  Iteration 2\t time lapse 0.36134s\t ll change 1.63009\n",
      "  Iteration 3\t time lapse 0.39097s\t ll change 0.02274\n",
      "  Iteration 4\t time lapse 0.35260s\t ll change 0.01468\n",
      "  Iteration 5\t time lapse 0.33774s\t ll change 0.00987\n",
      "  Iteration 6\t time lapse 0.34094s\t ll change 0.00681\n",
      "  Iteration 7\t time lapse 0.34961s\t ll change 0.00490\n",
      "  Iteration 8\t time lapse 0.33365s\t ll change 0.00371\n",
      "  Iteration 9\t time lapse 0.33975s\t ll change 0.00294\n",
      "  Iteration 10\t time lapse 0.34294s\t ll change 0.00242\n",
      "  Iteration 11\t time lapse 0.33680s\t ll change 0.00205\n",
      "  Iteration 12\t time lapse 0.34578s\t ll change 0.00175\n",
      "  Iteration 13\t time lapse 0.33823s\t ll change 0.00151\n",
      "  Iteration 14\t time lapse 0.32868s\t ll change 0.00129\n",
      "  Iteration 15\t time lapse 0.32493s\t ll change 0.00109\n",
      "Initialization converged: False\t time lapse 5.80716s\t ll -27.27239\n"
     ]
    },
    {
     "name": "stderr",
     "output_type": "stream",
     "text": [
      "/home/av/.local/lib/python3.10/site-packages/sklearn/mixture/_base.py:274: ConvergenceWarning: Initialization 1 did not converge. Try different init parameters, or increase max_iter, tol or check for degenerate data.\n",
      "  warnings.warn(\n"
     ]
    },
    {
     "name": "stdout",
     "output_type": "stream",
     "text": [
      "Initialization 0\n",
      "  Iteration 1\t time lapse 1.05185s\t ll change inf\n",
      "  Iteration 2\t time lapse 0.35535s\t ll change 1.31371\n",
      "  Iteration 3\t time lapse 0.33651s\t ll change 0.01488\n",
      "  Iteration 4\t time lapse 0.34577s\t ll change 0.00982\n",
      "  Iteration 5\t time lapse 0.34723s\t ll change 0.00763\n",
      "  Iteration 6\t time lapse 0.33941s\t ll change 0.00628\n",
      "  Iteration 7\t time lapse 0.33766s\t ll change 0.00528\n",
      "  Iteration 8\t time lapse 0.36926s\t ll change 0.00449\n",
      "  Iteration 9\t time lapse 0.34977s\t ll change 0.00387\n",
      "  Iteration 10\t time lapse 0.34581s\t ll change 0.00341\n",
      "  Iteration 11\t time lapse 0.37891s\t ll change 0.00310\n",
      "  Iteration 12\t time lapse 0.35309s\t ll change 0.00293\n",
      "  Iteration 13\t time lapse 0.37754s\t ll change 0.00286\n",
      "  Iteration 14\t time lapse 0.36012s\t ll change 0.00288\n",
      "  Iteration 15\t time lapse 0.35687s\t ll change 0.00295\n",
      "Initialization converged: False\t time lapse 6.00523s\t ll -27.52666\n"
     ]
    },
    {
     "name": "stderr",
     "output_type": "stream",
     "text": [
      "/home/av/.local/lib/python3.10/site-packages/sklearn/mixture/_base.py:274: ConvergenceWarning: Initialization 1 did not converge. Try different init parameters, or increase max_iter, tol or check for degenerate data.\n",
      "  warnings.warn(\n"
     ]
    },
    {
     "name": "stdout",
     "output_type": "stream",
     "text": [
      "Initialization 0\n",
      "  Iteration 1\t time lapse 1.08716s\t ll change inf\n",
      "  Iteration 2\t time lapse 0.36862s\t ll change 1.45046\n",
      "  Iteration 3\t time lapse 0.39117s\t ll change 0.02216\n",
      "  Iteration 4\t time lapse 0.39315s\t ll change 0.01421\n",
      "  Iteration 5\t time lapse 0.36062s\t ll change 0.01061\n",
      "  Iteration 6\t time lapse 0.46555s\t ll change 0.00824\n",
      "  Iteration 7\t time lapse 0.45301s\t ll change 0.00635\n",
      "  Iteration 8\t time lapse 0.45120s\t ll change 0.00481\n",
      "  Iteration 9\t time lapse 0.45741s\t ll change 0.00362\n",
      "  Iteration 10\t time lapse 0.46042s\t ll change 0.00274\n",
      "  Iteration 11\t time lapse 0.49540s\t ll change 0.00210\n",
      "  Iteration 12\t time lapse 0.39401s\t ll change 0.00163\n",
      "  Iteration 13\t time lapse 0.40366s\t ll change 0.00128\n",
      "  Iteration 14\t time lapse 0.36490s\t ll change 0.00102\n",
      "  Iteration 15\t time lapse 0.40106s\t ll change 0.00082\n",
      "Initialization converged: True\t time lapse 6.94740s\t ll -27.97255\n",
      "Initialization 0\n",
      "  Iteration 1\t time lapse 1.14696s\t ll change inf\n",
      "  Iteration 2\t time lapse 0.36046s\t ll change 1.48186\n",
      "  Iteration 3\t time lapse 0.34503s\t ll change 0.02474\n",
      "  Iteration 4\t time lapse 0.33574s\t ll change 0.01695\n",
      "  Iteration 5\t time lapse 0.33803s\t ll change 0.01194\n",
      "  Iteration 6\t time lapse 0.32751s\t ll change 0.00835\n",
      "  Iteration 7\t time lapse 0.32860s\t ll change 0.00579\n",
      "  Iteration 8\t time lapse 0.34194s\t ll change 0.00398\n",
      "  Iteration 9\t time lapse 0.34977s\t ll change 0.00272\n",
      "  Iteration 10\t time lapse 0.33025s\t ll change 0.00186\n",
      "  Iteration 11\t time lapse 0.33017s\t ll change 0.00129\n",
      "  Iteration 12\t time lapse 0.32824s\t ll change 0.00091\n",
      "Initialization converged: True\t time lapse 4.86278s\t ll -27.43284\n",
      "Initialization 0\n",
      "  Iteration 1\t time lapse 0.98104s\t ll change inf\n",
      "  Iteration 2\t time lapse 0.33123s\t ll change 1.80719\n",
      "  Iteration 3\t time lapse 0.31910s\t ll change 0.02275\n",
      "  Iteration 4\t time lapse 0.31785s\t ll change 0.01587\n",
      "  Iteration 5\t time lapse 0.32983s\t ll change 0.01236\n",
      "  Iteration 6\t time lapse 0.31806s\t ll change 0.01001\n",
      "  Iteration 7\t time lapse 0.31679s\t ll change 0.00811\n",
      "  Iteration 8\t time lapse 0.32690s\t ll change 0.00643\n",
      "  Iteration 9\t time lapse 0.32218s\t ll change 0.00496\n",
      "  Iteration 10\t time lapse 0.31758s\t ll change 0.00372\n",
      "  Iteration 11\t time lapse 0.31655s\t ll change 0.00274\n",
      "  Iteration 12\t time lapse 0.35531s\t ll change 0.00199\n",
      "  Iteration 13\t time lapse 0.31720s\t ll change 0.00144\n",
      "  Iteration 14\t time lapse 0.32147s\t ll change 0.00105\n",
      "  Iteration 15\t time lapse 0.33743s\t ll change 0.00079\n",
      "Initialization converged: True\t time lapse 5.52858s\t ll -27.00390\n",
      "Initialization 0\n",
      "  Iteration 1\t time lapse 0.79919s\t ll change inf\n",
      "  Iteration 2\t time lapse 0.33141s\t ll change 0.03979\n",
      "  Iteration 3\t time lapse 0.33981s\t ll change 0.01503\n",
      "  Iteration 4\t time lapse 0.32884s\t ll change 0.00971\n",
      "  Iteration 5\t time lapse 0.32765s\t ll change 0.00768\n",
      "  Iteration 6\t time lapse 0.34602s\t ll change 0.00663\n",
      "  Iteration 7\t time lapse 0.32637s\t ll change 0.00593\n",
      "  Iteration 8\t time lapse 0.34183s\t ll change 0.00547\n",
      "  Iteration 9\t time lapse 0.34004s\t ll change 0.00526\n",
      "  Iteration 10\t time lapse 0.32830s\t ll change 0.00531\n",
      "  Iteration 11\t time lapse 0.32783s\t ll change 0.00557\n",
      "  Iteration 12\t time lapse 0.33542s\t ll change 0.00590\n",
      "  Iteration 13\t time lapse 0.32271s\t ll change 0.00608\n",
      "  Iteration 14\t time lapse 0.32389s\t ll change 0.00594\n",
      "  Iteration 15\t time lapse 0.33905s\t ll change 0.00540\n",
      "Initialization converged: False\t time lapse 5.45845s\t ll -27.51292\n"
     ]
    },
    {
     "name": "stderr",
     "output_type": "stream",
     "text": [
      "/home/av/.local/lib/python3.10/site-packages/sklearn/mixture/_base.py:274: ConvergenceWarning: Initialization 1 did not converge. Try different init parameters, or increase max_iter, tol or check for degenerate data.\n",
      "  warnings.warn(\n",
      "100%|██████████| 600/600 [00:12<00:00, 48.58it/s]\n",
      "/home/av/IST/slp-labs/LAB2/pf_tools.py:89: UserWarning: The feature directory already exists, and no new feature extraction will be performed.\n",
      "  warnings.warn(\"The feature directory already exists, and no new feature extraction will be performed.\")\n"
     ]
    },
    {
     "name": "stdout",
     "output_type": "stream",
     "text": [
      "Accuracy Score: 0.5866666666666667\n",
      "Combination 32\n",
      "Initialization 0\n",
      "  Iteration 1\t time lapse 1.60100s\t ll change inf\n",
      "  Iteration 2\t time lapse 0.53516s\t ll change 1.43548\n",
      "  Iteration 3\t time lapse 0.57109s\t ll change 0.01907\n",
      "  Iteration 4\t time lapse 0.52771s\t ll change 0.01162\n",
      "  Iteration 5\t time lapse 0.54751s\t ll change 0.00820\n",
      "  Iteration 6\t time lapse 0.56699s\t ll change 0.00621\n",
      "  Iteration 7\t time lapse 0.53860s\t ll change 0.00496\n",
      "  Iteration 8\t time lapse 0.53124s\t ll change 0.00412\n",
      "  Iteration 9\t time lapse 0.57316s\t ll change 0.00351\n",
      "  Iteration 10\t time lapse 0.54658s\t ll change 0.00303\n",
      "  Iteration 11\t time lapse 0.56810s\t ll change 0.00266\n",
      "  Iteration 12\t time lapse 0.56741s\t ll change 0.00238\n",
      "  Iteration 13\t time lapse 0.53150s\t ll change 0.00215\n",
      "  Iteration 14\t time lapse 0.55840s\t ll change 0.00195\n",
      "  Iteration 15\t time lapse 0.53341s\t ll change 0.00177\n",
      "Initialization converged: False\t time lapse 9.29826s\t ll -27.15644\n"
     ]
    },
    {
     "name": "stderr",
     "output_type": "stream",
     "text": [
      "/home/av/.local/lib/python3.10/site-packages/sklearn/mixture/_base.py:274: ConvergenceWarning: Initialization 1 did not converge. Try different init parameters, or increase max_iter, tol or check for degenerate data.\n",
      "  warnings.warn(\n"
     ]
    },
    {
     "name": "stdout",
     "output_type": "stream",
     "text": [
      "Initialization 0\n",
      "  Iteration 1\t time lapse 1.85709s\t ll change inf\n",
      "  Iteration 2\t time lapse 0.64838s\t ll change 1.21726\n",
      "  Iteration 3\t time lapse 0.71771s\t ll change 0.02193\n",
      "  Iteration 4\t time lapse 0.94431s\t ll change 0.01482\n",
      "  Iteration 5\t time lapse 0.84926s\t ll change 0.01142\n",
      "  Iteration 6\t time lapse 0.84114s\t ll change 0.00904\n",
      "  Iteration 7\t time lapse 0.86153s\t ll change 0.00701\n",
      "  Iteration 8\t time lapse 0.75097s\t ll change 0.00529\n",
      "  Iteration 9\t time lapse 0.70763s\t ll change 0.00392\n",
      "  Iteration 10\t time lapse 0.69634s\t ll change 0.00292\n",
      "  Iteration 11\t time lapse 0.60309s\t ll change 0.00223\n",
      "  Iteration 12\t time lapse 0.65320s\t ll change 0.00178\n",
      "  Iteration 13\t time lapse 0.69539s\t ll change 0.00150\n",
      "  Iteration 14\t time lapse 0.65285s\t ll change 0.00133\n",
      "  Iteration 15\t time lapse 0.74755s\t ll change 0.00120\n",
      "Initialization converged: False\t time lapse 12.22653s\t ll -27.34910\n"
     ]
    },
    {
     "name": "stderr",
     "output_type": "stream",
     "text": [
      "/home/av/.local/lib/python3.10/site-packages/sklearn/mixture/_base.py:274: ConvergenceWarning: Initialization 1 did not converge. Try different init parameters, or increase max_iter, tol or check for degenerate data.\n",
      "  warnings.warn(\n"
     ]
    },
    {
     "name": "stdout",
     "output_type": "stream",
     "text": [
      "Initialization 0\n",
      "  Iteration 1\t time lapse 1.68216s\t ll change inf\n",
      "  Iteration 2\t time lapse 0.79948s\t ll change 1.24339\n",
      "  Iteration 3\t time lapse 0.69188s\t ll change 0.02200\n",
      "  Iteration 4\t time lapse 0.68209s\t ll change 0.01412\n",
      "  Iteration 5\t time lapse 0.73049s\t ll change 0.01030\n",
      "  Iteration 6\t time lapse 0.76873s\t ll change 0.00797\n",
      "  Iteration 7\t time lapse 0.66410s\t ll change 0.00640\n",
      "  Iteration 8\t time lapse 0.67909s\t ll change 0.00529\n",
      "  Iteration 9\t time lapse 0.66104s\t ll change 0.00448\n",
      "  Iteration 10\t time lapse 0.70796s\t ll change 0.00385\n",
      "  Iteration 11\t time lapse 0.66486s\t ll change 0.00338\n",
      "  Iteration 12\t time lapse 0.71427s\t ll change 0.00304\n",
      "  Iteration 13\t time lapse 0.68724s\t ll change 0.00286\n",
      "  Iteration 14\t time lapse 0.64742s\t ll change 0.00278\n",
      "  Iteration 15\t time lapse 0.71515s\t ll change 0.00272\n",
      "Initialization converged: False\t time lapse 11.49608s\t ll -27.81338\n"
     ]
    },
    {
     "name": "stderr",
     "output_type": "stream",
     "text": [
      "/home/av/.local/lib/python3.10/site-packages/sklearn/mixture/_base.py:274: ConvergenceWarning: Initialization 1 did not converge. Try different init parameters, or increase max_iter, tol or check for degenerate data.\n",
      "  warnings.warn(\n"
     ]
    },
    {
     "name": "stdout",
     "output_type": "stream",
     "text": [
      "Initialization 0\n",
      "  Iteration 1\t time lapse 1.89537s\t ll change inf\n",
      "  Iteration 2\t time lapse 0.56957s\t ll change 1.38680\n",
      "  Iteration 3\t time lapse 0.56318s\t ll change 0.02326\n",
      "  Iteration 4\t time lapse 0.53971s\t ll change 0.01605\n",
      "  Iteration 5\t time lapse 0.61576s\t ll change 0.01273\n",
      "  Iteration 6\t time lapse 0.54881s\t ll change 0.01038\n",
      "  Iteration 7\t time lapse 0.58923s\t ll change 0.00852\n",
      "  Iteration 8\t time lapse 0.56430s\t ll change 0.00714\n",
      "  Iteration 9\t time lapse 0.55539s\t ll change 0.00612\n",
      "  Iteration 10\t time lapse 0.58382s\t ll change 0.00529\n",
      "  Iteration 11\t time lapse 0.56533s\t ll change 0.00453\n",
      "  Iteration 12\t time lapse 0.57818s\t ll change 0.00382\n",
      "  Iteration 13\t time lapse 0.52663s\t ll change 0.00315\n",
      "  Iteration 14\t time lapse 0.56774s\t ll change 0.00253\n",
      "  Iteration 15\t time lapse 0.58266s\t ll change 0.00199\n",
      "Initialization converged: False\t time lapse 9.84577s\t ll -27.31544\n"
     ]
    },
    {
     "name": "stderr",
     "output_type": "stream",
     "text": [
      "/home/av/.local/lib/python3.10/site-packages/sklearn/mixture/_base.py:274: ConvergenceWarning: Initialization 1 did not converge. Try different init parameters, or increase max_iter, tol or check for degenerate data.\n",
      "  warnings.warn(\n"
     ]
    },
    {
     "name": "stdout",
     "output_type": "stream",
     "text": [
      "Initialization 0\n",
      "  Iteration 1\t time lapse 1.52330s\t ll change inf\n",
      "  Iteration 2\t time lapse 0.54108s\t ll change 1.60099\n",
      "  Iteration 3\t time lapse 0.53069s\t ll change 0.02235\n",
      "  Iteration 4\t time lapse 0.52609s\t ll change 0.01514\n",
      "  Iteration 5\t time lapse 0.52399s\t ll change 0.01140\n",
      "  Iteration 6\t time lapse 0.51419s\t ll change 0.00879\n",
      "  Iteration 7\t time lapse 0.52155s\t ll change 0.00696\n",
      "  Iteration 8\t time lapse 0.53493s\t ll change 0.00573\n",
      "  Iteration 9\t time lapse 0.56334s\t ll change 0.00489\n",
      "  Iteration 10\t time lapse 0.51179s\t ll change 0.00431\n",
      "  Iteration 11\t time lapse 0.55713s\t ll change 0.00389\n",
      "  Iteration 12\t time lapse 0.50055s\t ll change 0.00352\n",
      "  Iteration 13\t time lapse 0.51900s\t ll change 0.00308\n",
      "  Iteration 14\t time lapse 0.49926s\t ll change 0.00252\n",
      "  Iteration 15\t time lapse 0.53812s\t ll change 0.00201\n",
      "Initialization converged: False\t time lapse 8.90512s\t ll -26.90520\n"
     ]
    },
    {
     "name": "stderr",
     "output_type": "stream",
     "text": [
      "/home/av/.local/lib/python3.10/site-packages/sklearn/mixture/_base.py:274: ConvergenceWarning: Initialization 1 did not converge. Try different init parameters, or increase max_iter, tol or check for degenerate data.\n",
      "  warnings.warn(\n"
     ]
    },
    {
     "name": "stdout",
     "output_type": "stream",
     "text": [
      "Initialization 0\n",
      "  Iteration 1\t time lapse 1.85740s\t ll change inf\n",
      "  Iteration 2\t time lapse 0.58361s\t ll change 0.05529\n",
      "  Iteration 3\t time lapse 0.54207s\t ll change 0.02070\n",
      "  Iteration 4\t time lapse 0.59792s\t ll change 0.01363\n",
      "  Iteration 5\t time lapse 0.58875s\t ll change 0.01101\n",
      "  Iteration 6\t time lapse 0.53936s\t ll change 0.00959\n",
      "  Iteration 7\t time lapse 0.55556s\t ll change 0.00868\n",
      "  Iteration 8\t time lapse 0.55497s\t ll change 0.00811\n",
      "  Iteration 9\t time lapse 0.58606s\t ll change 0.00764\n",
      "  Iteration 10\t time lapse 0.55446s\t ll change 0.00696\n",
      "  Iteration 11\t time lapse 0.61078s\t ll change 0.00604\n",
      "  Iteration 12\t time lapse 0.58704s\t ll change 0.00508\n",
      "  Iteration 13\t time lapse 0.52122s\t ll change 0.00424\n",
      "  Iteration 14\t time lapse 0.54283s\t ll change 0.00354\n",
      "  Iteration 15\t time lapse 0.53683s\t ll change 0.00295\n",
      "Initialization converged: False\t time lapse 9.75923s\t ll -27.33803\n"
     ]
    },
    {
     "name": "stderr",
     "output_type": "stream",
     "text": [
      "/home/av/.local/lib/python3.10/site-packages/sklearn/mixture/_base.py:274: ConvergenceWarning: Initialization 1 did not converge. Try different init parameters, or increase max_iter, tol or check for degenerate data.\n",
      "  warnings.warn(\n",
      "100%|██████████| 600/600 [00:18<00:00, 32.65it/s]\n",
      "/home/av/IST/slp-labs/LAB2/pf_tools.py:89: UserWarning: The feature directory already exists, and no new feature extraction will be performed.\n",
      "  warnings.warn(\"The feature directory already exists, and no new feature extraction will be performed.\")\n"
     ]
    },
    {
     "name": "stdout",
     "output_type": "stream",
     "text": [
      "Accuracy Score: 0.64\n",
      "Combination 33\n",
      "Initialization 0\n",
      "  Iteration 1\t time lapse 3.47513s\t ll change inf\n",
      "  Iteration 2\t time lapse 1.00368s\t ll change 1.41228\n",
      "  Iteration 3\t time lapse 1.00980s\t ll change 0.01891\n",
      "  Iteration 4\t time lapse 0.98083s\t ll change 0.01040\n",
      "  Iteration 5\t time lapse 0.98551s\t ll change 0.00705\n",
      "  Iteration 6\t time lapse 0.97653s\t ll change 0.00545\n",
      "  Iteration 7\t time lapse 1.06726s\t ll change 0.00461\n",
      "  Iteration 8\t time lapse 1.00233s\t ll change 0.00410\n",
      "  Iteration 9\t time lapse 0.98395s\t ll change 0.00373\n",
      "  Iteration 10\t time lapse 1.03567s\t ll change 0.00339\n",
      "  Iteration 11\t time lapse 0.97029s\t ll change 0.00307\n",
      "  Iteration 12\t time lapse 0.96942s\t ll change 0.00276\n",
      "  Iteration 13\t time lapse 0.95849s\t ll change 0.00247\n",
      "  Iteration 14\t time lapse 0.95976s\t ll change 0.00224\n",
      "  Iteration 15\t time lapse 0.93973s\t ll change 0.00204\n",
      "Initialization converged: False\t time lapse 17.31881s\t ll -27.05090\n"
     ]
    },
    {
     "name": "stderr",
     "output_type": "stream",
     "text": [
      "/home/av/.local/lib/python3.10/site-packages/sklearn/mixture/_base.py:274: ConvergenceWarning: Initialization 1 did not converge. Try different init parameters, or increase max_iter, tol or check for degenerate data.\n",
      "  warnings.warn(\n"
     ]
    },
    {
     "name": "stdout",
     "output_type": "stream",
     "text": [
      "Initialization 0\n",
      "  Iteration 1\t time lapse 3.29174s\t ll change inf\n",
      "  Iteration 2\t time lapse 1.05050s\t ll change 1.09639\n",
      "  Iteration 3\t time lapse 1.26992s\t ll change 0.01912\n",
      "  Iteration 4\t time lapse 1.18023s\t ll change 0.01100\n",
      "  Iteration 5\t time lapse 1.10738s\t ll change 0.00760\n",
      "  Iteration 6\t time lapse 1.20567s\t ll change 0.00575\n",
      "  Iteration 7\t time lapse 1.07701s\t ll change 0.00463\n",
      "  Iteration 8\t time lapse 1.52848s\t ll change 0.00390\n",
      "  Iteration 9\t time lapse 1.10055s\t ll change 0.00341\n",
      "  Iteration 10\t time lapse 1.05185s\t ll change 0.00309\n",
      "  Iteration 11\t time lapse 1.08225s\t ll change 0.00287\n",
      "  Iteration 12\t time lapse 1.02856s\t ll change 0.00273\n",
      "  Iteration 13\t time lapse 1.13400s\t ll change 0.00263\n",
      "  Iteration 14\t time lapse 1.33158s\t ll change 0.00254\n",
      "  Iteration 15\t time lapse 1.12334s\t ll change 0.00244\n",
      "Initialization converged: False\t time lapse 19.56346s\t ll -27.26244\n"
     ]
    },
    {
     "name": "stderr",
     "output_type": "stream",
     "text": [
      "/home/av/.local/lib/python3.10/site-packages/sklearn/mixture/_base.py:274: ConvergenceWarning: Initialization 1 did not converge. Try different init parameters, or increase max_iter, tol or check for degenerate data.\n",
      "  warnings.warn(\n"
     ]
    },
    {
     "name": "stdout",
     "output_type": "stream",
     "text": [
      "Initialization 0\n",
      "  Iteration 1\t time lapse 3.74884s\t ll change inf\n",
      "  Iteration 2\t time lapse 1.07412s\t ll change 1.20803\n",
      "  Iteration 3\t time lapse 1.08993s\t ll change 0.02465\n",
      "  Iteration 4\t time lapse 1.21281s\t ll change 0.01641\n",
      "  Iteration 5\t time lapse 1.19905s\t ll change 0.01185\n",
      "  Iteration 6\t time lapse 1.27858s\t ll change 0.00871\n",
      "  Iteration 7\t time lapse 1.13148s\t ll change 0.00661\n",
      "  Iteration 8\t time lapse 1.16122s\t ll change 0.00524\n",
      "  Iteration 9\t time lapse 1.19619s\t ll change 0.00429\n",
      "  Iteration 10\t time lapse 1.31847s\t ll change 0.00358\n",
      "  Iteration 11\t time lapse 1.06515s\t ll change 0.00301\n",
      "  Iteration 12\t time lapse 1.14491s\t ll change 0.00256\n",
      "  Iteration 13\t time lapse 1.19067s\t ll change 0.00218\n",
      "  Iteration 14\t time lapse 1.30501s\t ll change 0.00187\n",
      "  Iteration 15\t time lapse 1.21428s\t ll change 0.00160\n",
      "Initialization converged: False\t time lapse 20.33112s\t ll -27.67575\n"
     ]
    },
    {
     "name": "stderr",
     "output_type": "stream",
     "text": [
      "/home/av/.local/lib/python3.10/site-packages/sklearn/mixture/_base.py:274: ConvergenceWarning: Initialization 1 did not converge. Try different init parameters, or increase max_iter, tol or check for degenerate data.\n",
      "  warnings.warn(\n"
     ]
    },
    {
     "name": "stdout",
     "output_type": "stream",
     "text": [
      "Initialization 0\n",
      "  Iteration 1\t time lapse 4.50570s\t ll change inf\n",
      "  Iteration 2\t time lapse 0.94782s\t ll change 1.18425\n",
      "  Iteration 3\t time lapse 0.94972s\t ll change 0.02332\n",
      "  Iteration 4\t time lapse 0.96749s\t ll change 0.01456\n",
      "  Iteration 5\t time lapse 0.97722s\t ll change 0.01073\n",
      "  Iteration 6\t time lapse 0.95890s\t ll change 0.00840\n",
      "  Iteration 7\t time lapse 0.95071s\t ll change 0.00677\n",
      "  Iteration 8\t time lapse 0.96416s\t ll change 0.00563\n",
      "  Iteration 9\t time lapse 0.96306s\t ll change 0.00480\n",
      "  Iteration 10\t time lapse 0.95926s\t ll change 0.00424\n",
      "  Iteration 11\t time lapse 0.93300s\t ll change 0.00391\n",
      "  Iteration 12\t time lapse 0.94376s\t ll change 0.00369\n",
      "  Iteration 13\t time lapse 0.98583s\t ll change 0.00343\n",
      "  Iteration 14\t time lapse 1.00987s\t ll change 0.00349\n",
      "  Iteration 15\t time lapse 1.00752s\t ll change 0.00400\n",
      "Initialization converged: False\t time lapse 18.02444s\t ll -27.21783\n"
     ]
    },
    {
     "name": "stderr",
     "output_type": "stream",
     "text": [
      "/home/av/.local/lib/python3.10/site-packages/sklearn/mixture/_base.py:274: ConvergenceWarning: Initialization 1 did not converge. Try different init parameters, or increase max_iter, tol or check for degenerate data.\n",
      "  warnings.warn(\n"
     ]
    },
    {
     "name": "stdout",
     "output_type": "stream",
     "text": [
      "Initialization 0\n",
      "  Iteration 1\t time lapse 3.13992s\t ll change inf\n",
      "  Iteration 2\t time lapse 0.90047s\t ll change 1.52927\n",
      "  Iteration 3\t time lapse 0.93256s\t ll change 0.02002\n",
      "  Iteration 4\t time lapse 0.94566s\t ll change 0.01214\n",
      "  Iteration 5\t time lapse 0.89158s\t ll change 0.00885\n",
      "  Iteration 6\t time lapse 0.92245s\t ll change 0.00708\n",
      "  Iteration 7\t time lapse 0.91541s\t ll change 0.00603\n",
      "  Iteration 8\t time lapse 0.90699s\t ll change 0.00535\n",
      "  Iteration 9\t time lapse 0.90151s\t ll change 0.00487\n",
      "  Iteration 10\t time lapse 0.89888s\t ll change 0.00451\n",
      "  Iteration 11\t time lapse 0.88820s\t ll change 0.00425\n",
      "  Iteration 12\t time lapse 0.93940s\t ll change 0.00404\n",
      "  Iteration 13\t time lapse 0.91184s\t ll change 0.00380\n",
      "  Iteration 14\t time lapse 0.90930s\t ll change 0.00346\n",
      "  Iteration 15\t time lapse 0.96241s\t ll change 0.00301\n",
      "Initialization converged: False\t time lapse 15.96702s\t ll -26.83669\n"
     ]
    },
    {
     "name": "stderr",
     "output_type": "stream",
     "text": [
      "/home/av/.local/lib/python3.10/site-packages/sklearn/mixture/_base.py:274: ConvergenceWarning: Initialization 1 did not converge. Try different init parameters, or increase max_iter, tol or check for degenerate data.\n",
      "  warnings.warn(\n"
     ]
    },
    {
     "name": "stdout",
     "output_type": "stream",
     "text": [
      "Initialization 0\n",
      "  Iteration 1\t time lapse 3.67356s\t ll change inf\n",
      "  Iteration 2\t time lapse 0.95251s\t ll change 0.05746\n",
      "  Iteration 3\t time lapse 0.92970s\t ll change 0.01976\n",
      "  Iteration 4\t time lapse 0.94875s\t ll change 0.01199\n",
      "  Iteration 5\t time lapse 0.95199s\t ll change 0.00900\n",
      "  Iteration 6\t time lapse 1.04562s\t ll change 0.00722\n",
      "  Iteration 7\t time lapse 0.99682s\t ll change 0.00594\n",
      "  Iteration 8\t time lapse 0.97613s\t ll change 0.00502\n",
      "  Iteration 9\t time lapse 0.91397s\t ll change 0.00440\n",
      "  Iteration 10\t time lapse 0.95814s\t ll change 0.00400\n",
      "  Iteration 11\t time lapse 0.94812s\t ll change 0.00368\n",
      "  Iteration 12\t time lapse 0.97415s\t ll change 0.00334\n",
      "  Iteration 13\t time lapse 0.94564s\t ll change 0.00294\n",
      "  Iteration 14\t time lapse 0.91839s\t ll change 0.00253\n",
      "  Iteration 15\t time lapse 0.96958s\t ll change 0.00217\n",
      "Initialization converged: False\t time lapse 17.10349s\t ll -27.25080\n"
     ]
    },
    {
     "name": "stderr",
     "output_type": "stream",
     "text": [
      "/home/av/.local/lib/python3.10/site-packages/sklearn/mixture/_base.py:274: ConvergenceWarning: Initialization 1 did not converge. Try different init parameters, or increase max_iter, tol or check for degenerate data.\n",
      "  warnings.warn(\n",
      "100%|██████████| 600/600 [00:29<00:00, 20.03it/s]\n",
      "/home/av/IST/slp-labs/LAB2/pf_tools.py:89: UserWarning: The feature directory already exists, and no new feature extraction will be performed.\n",
      "  warnings.warn(\"The feature directory already exists, and no new feature extraction will be performed.\")\n"
     ]
    },
    {
     "name": "stdout",
     "output_type": "stream",
     "text": [
      "Accuracy Score: 0.6683333333333333\n",
      "Combination 34\n",
      "Initialization 0\n",
      "  Iteration 1\t time lapse 0.91319s\t ll change inf\n",
      "  Iteration 2\t time lapse 0.32930s\t ll change 1.62107\n",
      "  Iteration 3\t time lapse 0.38241s\t ll change 0.02102\n",
      "  Iteration 4\t time lapse 0.32644s\t ll change 0.01642\n",
      "  Iteration 5\t time lapse 0.34372s\t ll change 0.01292\n",
      "  Iteration 6\t time lapse 0.34591s\t ll change 0.00942\n",
      "  Iteration 7\t time lapse 0.32585s\t ll change 0.00671\n",
      "  Iteration 8\t time lapse 0.34249s\t ll change 0.00493\n",
      "  Iteration 9\t time lapse 0.35974s\t ll change 0.00382\n",
      "  Iteration 10\t time lapse 0.33070s\t ll change 0.00311\n",
      "  Iteration 11\t time lapse 0.35305s\t ll change 0.00263\n",
      "  Iteration 12\t time lapse 0.33171s\t ll change 0.00227\n",
      "  Iteration 13\t time lapse 0.32130s\t ll change 0.00199\n",
      "  Iteration 14\t time lapse 0.34665s\t ll change 0.00173\n",
      "  Iteration 15\t time lapse 0.33700s\t ll change 0.00150\n",
      "Initialization converged: False\t time lapse 5.68958s\t ll -27.27463\n"
     ]
    },
    {
     "name": "stderr",
     "output_type": "stream",
     "text": [
      "/home/av/.local/lib/python3.10/site-packages/sklearn/mixture/_base.py:274: ConvergenceWarning: Initialization 1 did not converge. Try different init parameters, or increase max_iter, tol or check for degenerate data.\n",
      "  warnings.warn(\n"
     ]
    },
    {
     "name": "stdout",
     "output_type": "stream",
     "text": [
      "Initialization 0\n",
      "  Iteration 1\t time lapse 1.02482s\t ll change inf\n",
      "  Iteration 2\t time lapse 0.41198s\t ll change 1.30756\n",
      "  Iteration 3\t time lapse 0.37719s\t ll change 0.01982\n",
      "  Iteration 4\t time lapse 0.34731s\t ll change 0.01262\n",
      "  Iteration 5\t time lapse 0.34778s\t ll change 0.00823\n",
      "  Iteration 6\t time lapse 0.37052s\t ll change 0.00559\n",
      "  Iteration 7\t time lapse 0.34811s\t ll change 0.00432\n",
      "  Iteration 8\t time lapse 0.38859s\t ll change 0.00403\n",
      "  Iteration 9\t time lapse 0.38830s\t ll change 0.00450\n",
      "  Iteration 10\t time lapse 0.35922s\t ll change 0.00552\n",
      "  Iteration 11\t time lapse 0.35271s\t ll change 0.00667\n",
      "  Iteration 12\t time lapse 0.34779s\t ll change 0.00723\n",
      "  Iteration 13\t time lapse 0.35604s\t ll change 0.00667\n",
      "  Iteration 14\t time lapse 0.35453s\t ll change 0.00521\n",
      "  Iteration 15\t time lapse 0.34536s\t ll change 0.00355\n",
      "Initialization converged: False\t time lapse 6.12032s\t ll -27.54463\n"
     ]
    },
    {
     "name": "stderr",
     "output_type": "stream",
     "text": [
      "/home/av/.local/lib/python3.10/site-packages/sklearn/mixture/_base.py:274: ConvergenceWarning: Initialization 1 did not converge. Try different init parameters, or increase max_iter, tol or check for degenerate data.\n",
      "  warnings.warn(\n"
     ]
    },
    {
     "name": "stdout",
     "output_type": "stream",
     "text": [
      "Initialization 0\n",
      "  Iteration 1\t time lapse 1.16420s\t ll change inf\n",
      "  Iteration 2\t time lapse 0.37780s\t ll change 1.44779\n",
      "  Iteration 3\t time lapse 0.40375s\t ll change 0.02241\n",
      "  Iteration 4\t time lapse 0.37876s\t ll change 0.01413\n",
      "  Iteration 5\t time lapse 0.37589s\t ll change 0.01045\n",
      "  Iteration 6\t time lapse 0.37501s\t ll change 0.00811\n",
      "  Iteration 7\t time lapse 0.38870s\t ll change 0.00627\n",
      "  Iteration 8\t time lapse 0.37152s\t ll change 0.00480\n",
      "  Iteration 9\t time lapse 0.42125s\t ll change 0.00366\n",
      "  Iteration 10\t time lapse 0.38130s\t ll change 0.00281\n",
      "  Iteration 11\t time lapse 0.38903s\t ll change 0.00219\n",
      "  Iteration 12\t time lapse 0.41198s\t ll change 0.00173\n",
      "  Iteration 13\t time lapse 0.36656s\t ll change 0.00139\n",
      "  Iteration 14\t time lapse 0.39734s\t ll change 0.00113\n",
      "  Iteration 15\t time lapse 0.38425s\t ll change 0.00092\n",
      "Initialization converged: True\t time lapse 6.58740s\t ll -27.97368\n",
      "Initialization 0\n",
      "  Iteration 1\t time lapse 0.80588s\t ll change inf\n",
      "  Iteration 2\t time lapse 0.34587s\t ll change 1.47337\n",
      "  Iteration 3\t time lapse 0.35221s\t ll change 0.02433\n",
      "  Iteration 4\t time lapse 0.33104s\t ll change 0.01677\n",
      "  Iteration 5\t time lapse 0.33048s\t ll change 0.01196\n",
      "  Iteration 6\t time lapse 0.35801s\t ll change 0.00851\n",
      "  Iteration 7\t time lapse 0.32455s\t ll change 0.00602\n",
      "  Iteration 8\t time lapse 0.35448s\t ll change 0.00424\n",
      "  Iteration 9\t time lapse 0.38840s\t ll change 0.00298\n",
      "  Iteration 10\t time lapse 0.33077s\t ll change 0.00211\n",
      "  Iteration 11\t time lapse 0.39142s\t ll change 0.00151\n",
      "  Iteration 12\t time lapse 0.33624s\t ll change 0.00110\n",
      "  Iteration 13\t time lapse 0.34707s\t ll change 0.00081\n",
      "Initialization converged: True\t time lapse 4.99649s\t ll -27.43291\n",
      "Initialization 0\n",
      "  Iteration 1\t time lapse 0.75346s\t ll change inf\n",
      "  Iteration 2\t time lapse 0.31074s\t ll change 1.79632\n",
      "  Iteration 3\t time lapse 0.31730s\t ll change 0.02269\n",
      "  Iteration 4\t time lapse 0.33111s\t ll change 0.01600\n",
      "  Iteration 5\t time lapse 0.32496s\t ll change 0.01253\n",
      "  Iteration 6\t time lapse 0.31731s\t ll change 0.01017\n",
      "  Iteration 7\t time lapse 0.32997s\t ll change 0.00827\n",
      "  Iteration 8\t time lapse 0.31187s\t ll change 0.00657\n",
      "  Iteration 9\t time lapse 0.31232s\t ll change 0.00507\n",
      "  Iteration 10\t time lapse 0.31430s\t ll change 0.00380\n",
      "  Iteration 11\t time lapse 0.34407s\t ll change 0.00279\n",
      "  Iteration 12\t time lapse 0.31103s\t ll change 0.00203\n",
      "  Iteration 13\t time lapse 0.31442s\t ll change 0.00147\n",
      "  Iteration 14\t time lapse 0.34619s\t ll change 0.00108\n",
      "  Iteration 15\t time lapse 0.31367s\t ll change 0.00082\n",
      "Initialization converged: True\t time lapse 5.25275s\t ll -27.00411\n",
      "Initialization 0\n",
      "  Iteration 1\t time lapse 0.81959s\t ll change inf\n",
      "  Iteration 2\t time lapse 0.33615s\t ll change 1.12128\n",
      "  Iteration 3\t time lapse 0.32019s\t ll change 0.01519\n",
      "  Iteration 4\t time lapse 0.32583s\t ll change 0.00994\n",
      "  Iteration 5\t time lapse 0.33074s\t ll change 0.00822\n",
      "  Iteration 6\t time lapse 0.32946s\t ll change 0.00772\n",
      "  Iteration 7\t time lapse 0.32641s\t ll change 0.00784\n",
      "  Iteration 8\t time lapse 0.31870s\t ll change 0.00823\n",
      "  Iteration 9\t time lapse 0.37234s\t ll change 0.00827\n",
      "  Iteration 10\t time lapse 0.31829s\t ll change 0.00737\n",
      "  Iteration 11\t time lapse 0.32231s\t ll change 0.00571\n",
      "  Iteration 12\t time lapse 0.33881s\t ll change 0.00405\n",
      "  Iteration 13\t time lapse 0.32172s\t ll change 0.00281\n",
      "  Iteration 14\t time lapse 0.32277s\t ll change 0.00200\n",
      "  Iteration 15\t time lapse 0.34981s\t ll change 0.00149\n",
      "Initialization converged: False\t time lapse 5.45318s\t ll -27.47503\n"
     ]
    },
    {
     "name": "stderr",
     "output_type": "stream",
     "text": [
      "/home/av/.local/lib/python3.10/site-packages/sklearn/mixture/_base.py:274: ConvergenceWarning: Initialization 1 did not converge. Try different init parameters, or increase max_iter, tol or check for degenerate data.\n",
      "  warnings.warn(\n",
      "100%|██████████| 600/600 [00:14<00:00, 41.29it/s]\n",
      "/home/av/IST/slp-labs/LAB2/pf_tools.py:89: UserWarning: The feature directory already exists, and no new feature extraction will be performed.\n",
      "  warnings.warn(\"The feature directory already exists, and no new feature extraction will be performed.\")\n"
     ]
    },
    {
     "name": "stdout",
     "output_type": "stream",
     "text": [
      "Accuracy Score: 0.6216666666666667\n",
      "Combination 35\n",
      "Initialization 0\n",
      "  Iteration 1\t time lapse 2.04196s\t ll change inf\n",
      "  Iteration 2\t time lapse 0.55376s\t ll change 1.43584\n",
      "  Iteration 3\t time lapse 0.59902s\t ll change 0.01841\n",
      "  Iteration 4\t time lapse 0.54978s\t ll change 0.01085\n",
      "  Iteration 5\t time lapse 0.58155s\t ll change 0.00763\n",
      "  Iteration 6\t time lapse 0.59715s\t ll change 0.00584\n",
      "  Iteration 7\t time lapse 0.54017s\t ll change 0.00471\n",
      "  Iteration 8\t time lapse 0.67900s\t ll change 0.00393\n",
      "  Iteration 9\t time lapse 0.56378s\t ll change 0.00340\n",
      "  Iteration 10\t time lapse 0.60672s\t ll change 0.00303\n",
      "  Iteration 11\t time lapse 0.60831s\t ll change 0.00277\n",
      "  Iteration 12\t time lapse 0.58765s\t ll change 0.00257\n",
      "  Iteration 13\t time lapse 0.54110s\t ll change 0.00239\n",
      "  Iteration 14\t time lapse 0.57583s\t ll change 0.00221\n",
      "  Iteration 15\t time lapse 0.62293s\t ll change 0.00202\n",
      "Initialization converged: False\t time lapse 10.24910s\t ll -27.15481\n"
     ]
    },
    {
     "name": "stderr",
     "output_type": "stream",
     "text": [
      "/home/av/.local/lib/python3.10/site-packages/sklearn/mixture/_base.py:274: ConvergenceWarning: Initialization 1 did not converge. Try different init parameters, or increase max_iter, tol or check for degenerate data.\n",
      "  warnings.warn(\n"
     ]
    },
    {
     "name": "stdout",
     "output_type": "stream",
     "text": [
      "Initialization 0\n",
      "  Iteration 1\t time lapse 1.67992s\t ll change inf\n",
      "  Iteration 2\t time lapse 0.66041s\t ll change 1.26497\n",
      "  Iteration 3\t time lapse 0.65155s\t ll change 0.01797\n",
      "  Iteration 4\t time lapse 1.02545s\t ll change 0.01205\n",
      "  Iteration 5\t time lapse 1.06188s\t ll change 0.00952\n",
      "  Iteration 6\t time lapse 1.13486s\t ll change 0.00814\n",
      "  Iteration 7\t time lapse 1.27807s\t ll change 0.00732\n",
      "  Iteration 8\t time lapse 1.51608s\t ll change 0.00677\n",
      "  Iteration 9\t time lapse 1.45325s\t ll change 0.00629\n",
      "  Iteration 10\t time lapse 2.05201s\t ll change 0.00583\n",
      "  Iteration 11\t time lapse 1.65378s\t ll change 0.00539\n",
      "  Iteration 12\t time lapse 2.00236s\t ll change 0.00505\n",
      "  Iteration 13\t time lapse 2.04493s\t ll change 0.00484\n",
      "  Iteration 14\t time lapse 2.09749s\t ll change 0.00467\n",
      "  Iteration 15\t time lapse 2.35856s\t ll change 0.00439\n",
      "Initialization converged: False\t time lapse 22.67178s\t ll -27.37775\n"
     ]
    },
    {
     "name": "stderr",
     "output_type": "stream",
     "text": [
      "/home/av/.local/lib/python3.10/site-packages/sklearn/mixture/_base.py:274: ConvergenceWarning: Initialization 1 did not converge. Try different init parameters, or increase max_iter, tol or check for degenerate data.\n",
      "  warnings.warn(\n"
     ]
    },
    {
     "name": "stdout",
     "output_type": "stream",
     "text": [
      "Initialization 0\n",
      "  Iteration 1\t time lapse 5.96137s\t ll change inf\n",
      "  Iteration 2\t time lapse 1.90776s\t ll change 1.33383\n",
      "  Iteration 3\t time lapse 2.05109s\t ll change 0.02165\n",
      "  Iteration 4\t time lapse 2.02021s\t ll change 0.01356\n",
      "  Iteration 5\t time lapse 2.13388s\t ll change 0.01000\n",
      "  Iteration 6\t time lapse 2.57751s\t ll change 0.00837\n",
      "  Iteration 7\t time lapse 2.39220s\t ll change 0.00744\n",
      "  Iteration 8\t time lapse 1.96462s\t ll change 0.00647\n",
      "  Iteration 9\t time lapse 2.03328s\t ll change 0.00529\n",
      "  Iteration 10\t time lapse 2.04903s\t ll change 0.00407\n",
      "  Iteration 11\t time lapse 1.89989s\t ll change 0.00303\n",
      "  Iteration 12\t time lapse 2.10110s\t ll change 0.00227\n",
      "  Iteration 13\t time lapse 1.90984s\t ll change 0.00175\n",
      "  Iteration 14\t time lapse 2.21248s\t ll change 0.00141\n",
      "  Iteration 15\t time lapse 1.83747s\t ll change 0.00117\n",
      "Initialization converged: False\t time lapse 35.05193s\t ll -27.81263\n"
     ]
    },
    {
     "name": "stderr",
     "output_type": "stream",
     "text": [
      "/home/av/.local/lib/python3.10/site-packages/sklearn/mixture/_base.py:274: ConvergenceWarning: Initialization 1 did not converge. Try different init parameters, or increase max_iter, tol or check for degenerate data.\n",
      "  warnings.warn(\n"
     ]
    },
    {
     "name": "stdout",
     "output_type": "stream",
     "text": [
      "Initialization 0\n",
      "  Iteration 1\t time lapse 6.41341s\t ll change inf\n",
      "  Iteration 2\t time lapse 1.49721s\t ll change 1.40266\n",
      "  Iteration 3\t time lapse 1.62921s\t ll change 0.02389\n",
      "  Iteration 4\t time lapse 1.73028s\t ll change 0.01647\n",
      "  Iteration 5\t time lapse 1.68568s\t ll change 0.01290\n",
      "  Iteration 6\t time lapse 1.80071s\t ll change 0.01036\n",
      "  Iteration 7\t time lapse 1.77312s\t ll change 0.00841\n",
      "  Iteration 8\t time lapse 1.60787s\t ll change 0.00699\n",
      "  Iteration 9\t time lapse 1.83416s\t ll change 0.00594\n",
      "  Iteration 10\t time lapse 1.83565s\t ll change 0.00508\n",
      "  Iteration 11\t time lapse 1.54955s\t ll change 0.00432\n",
      "  Iteration 12\t time lapse 1.56453s\t ll change 0.00361\n",
      "  Iteration 13\t time lapse 1.68747s\t ll change 0.00294\n",
      "  Iteration 14\t time lapse 1.65800s\t ll change 0.00234\n",
      "  Iteration 15\t time lapse 1.66797s\t ll change 0.00185\n",
      "Initialization converged: False\t time lapse 29.93496s\t ll -27.31560\n"
     ]
    },
    {
     "name": "stderr",
     "output_type": "stream",
     "text": [
      "/home/av/.local/lib/python3.10/site-packages/sklearn/mixture/_base.py:274: ConvergenceWarning: Initialization 1 did not converge. Try different init parameters, or increase max_iter, tol or check for degenerate data.\n",
      "  warnings.warn(\n"
     ]
    },
    {
     "name": "stdout",
     "output_type": "stream",
     "text": [
      "Initialization 0\n",
      "  Iteration 1\t time lapse 5.28023s\t ll change inf\n",
      "  Iteration 2\t time lapse 1.71553s\t ll change 1.65015\n",
      "  Iteration 3\t time lapse 1.81928s\t ll change 0.01974\n",
      "  Iteration 4\t time lapse 1.82528s\t ll change 0.01281\n",
      "  Iteration 5\t time lapse 1.51033s\t ll change 0.00971\n",
      "  Iteration 6\t time lapse 1.46349s\t ll change 0.00782\n",
      "  Iteration 7\t time lapse 1.59262s\t ll change 0.00646\n",
      "  Iteration 8\t time lapse 1.78270s\t ll change 0.00540\n",
      "  Iteration 9\t time lapse 1.32984s\t ll change 0.00460\n",
      "  Iteration 10\t time lapse 1.46857s\t ll change 0.00405\n",
      "  Iteration 11\t time lapse 1.53983s\t ll change 0.00367\n",
      "  Iteration 12\t time lapse 1.63433s\t ll change 0.00343\n",
      "  Iteration 13\t time lapse 1.51493s\t ll change 0.00325\n",
      "  Iteration 14\t time lapse 1.46129s\t ll change 0.00307\n",
      "  Iteration 15\t time lapse 1.76819s\t ll change 0.00285\n",
      "Initialization converged: False\t time lapse 27.70820s\t ll -26.91272\n"
     ]
    },
    {
     "name": "stderr",
     "output_type": "stream",
     "text": [
      "/home/av/.local/lib/python3.10/site-packages/sklearn/mixture/_base.py:274: ConvergenceWarning: Initialization 1 did not converge. Try different init parameters, or increase max_iter, tol or check for degenerate data.\n",
      "  warnings.warn(\n"
     ]
    },
    {
     "name": "stdout",
     "output_type": "stream",
     "text": [
      "Initialization 0\n",
      "  Iteration 1\t time lapse 4.47641s\t ll change inf\n",
      "  Iteration 2\t time lapse 1.67310s\t ll change 0.05365\n",
      "  Iteration 3\t time lapse 1.42235s\t ll change 0.02053\n",
      "  Iteration 4\t time lapse 1.81448s\t ll change 0.01386\n",
      "  Iteration 5\t time lapse 1.58104s\t ll change 0.01150\n",
      "  Iteration 6\t time lapse 1.48966s\t ll change 0.01026\n",
      "  Iteration 7\t time lapse 1.67825s\t ll change 0.00920\n",
      "  Iteration 8\t time lapse 1.62061s\t ll change 0.00803\n",
      "  Iteration 9\t time lapse 1.71623s\t ll change 0.00680\n",
      "  Iteration 10\t time lapse 1.54856s\t ll change 0.00569\n",
      "  Iteration 11\t time lapse 1.28346s\t ll change 0.00480\n",
      "  Iteration 12\t time lapse 1.53673s\t ll change 0.00413\n",
      "  Iteration 13\t time lapse 1.77722s\t ll change 0.00358\n",
      "  Iteration 14\t time lapse 1.73165s\t ll change 0.00312\n",
      "  Iteration 15\t time lapse 1.48400s\t ll change 0.00275\n",
      "Initialization converged: False\t time lapse 26.83494s\t ll -27.34529\n"
     ]
    },
    {
     "name": "stderr",
     "output_type": "stream",
     "text": [
      "/home/av/.local/lib/python3.10/site-packages/sklearn/mixture/_base.py:274: ConvergenceWarning: Initialization 1 did not converge. Try different init parameters, or increase max_iter, tol or check for degenerate data.\n",
      "  warnings.warn(\n",
      "100%|██████████| 600/600 [00:51<00:00, 11.59it/s]\n",
      "/home/av/IST/slp-labs/LAB2/pf_tools.py:89: UserWarning: The feature directory already exists, and no new feature extraction will be performed.\n",
      "  warnings.warn(\"The feature directory already exists, and no new feature extraction will be performed.\")\n"
     ]
    },
    {
     "name": "stdout",
     "output_type": "stream",
     "text": [
      "Accuracy Score: 0.6533333333333333\n",
      "Combination 36\n",
      "Initialization 0\n",
      "  Iteration 1\t time lapse 7.50313s\t ll change inf\n",
      "  Iteration 2\t time lapse 3.05785s\t ll change 1.42720\n",
      "  Iteration 3\t time lapse 2.99005s\t ll change 0.01842\n",
      "  Iteration 4\t time lapse 3.53279s\t ll change 0.01051\n",
      "  Iteration 5\t time lapse 3.59206s\t ll change 0.00742\n",
      "  Iteration 6\t time lapse 3.06142s\t ll change 0.00587\n",
      "  Iteration 7\t time lapse 3.21138s\t ll change 0.00501\n",
      "  Iteration 8\t time lapse 2.87016s\t ll change 0.00451\n",
      "  Iteration 9\t time lapse 3.16261s\t ll change 0.00417\n",
      "  Iteration 10\t time lapse 3.16085s\t ll change 0.00392\n",
      "  Iteration 11\t time lapse 2.85797s\t ll change 0.00371\n",
      "  Iteration 12\t time lapse 2.78540s\t ll change 0.00353\n",
      "  Iteration 13\t time lapse 3.27731s\t ll change 0.00337\n",
      "  Iteration 14\t time lapse 2.89479s\t ll change 0.00316\n",
      "  Iteration 15\t time lapse 3.17545s\t ll change 0.00287\n",
      "Initialization converged: False\t time lapse 51.13337s\t ll -27.04663\n"
     ]
    },
    {
     "name": "stderr",
     "output_type": "stream",
     "text": [
      "/home/av/.local/lib/python3.10/site-packages/sklearn/mixture/_base.py:274: ConvergenceWarning: Initialization 1 did not converge. Try different init parameters, or increase max_iter, tol or check for degenerate data.\n",
      "  warnings.warn(\n"
     ]
    },
    {
     "name": "stdout",
     "output_type": "stream",
     "text": [
      "Initialization 0\n",
      "  Iteration 1\t time lapse 8.83042s\t ll change inf\n",
      "  Iteration 2\t time lapse 3.27909s\t ll change 1.09626\n",
      "  Iteration 3\t time lapse 3.18062s\t ll change 0.01878\n",
      "  Iteration 4\t time lapse 3.55783s\t ll change 0.01090\n",
      "  Iteration 5\t time lapse 3.87357s\t ll change 0.00782\n",
      "  Iteration 6\t time lapse 3.68804s\t ll change 0.00626\n",
      "  Iteration 7\t time lapse 3.31391s\t ll change 0.00531\n",
      "  Iteration 8\t time lapse 2.97234s\t ll change 0.00464\n",
      "  Iteration 9\t time lapse 3.38098s\t ll change 0.00413\n",
      "  Iteration 10\t time lapse 2.96926s\t ll change 0.00372\n",
      "  Iteration 11\t time lapse 3.66069s\t ll change 0.00338\n",
      "  Iteration 12\t time lapse 3.13529s\t ll change 0.00309\n",
      "  Iteration 13\t time lapse 3.26436s\t ll change 0.00285\n",
      "  Iteration 14\t time lapse 3.07363s\t ll change 0.00265\n",
      "  Iteration 15\t time lapse 3.40496s\t ll change 0.00247\n",
      "Initialization converged: False\t time lapse 55.58557s\t ll -27.26018\n"
     ]
    },
    {
     "name": "stderr",
     "output_type": "stream",
     "text": [
      "/home/av/.local/lib/python3.10/site-packages/sklearn/mixture/_base.py:274: ConvergenceWarning: Initialization 1 did not converge. Try different init parameters, or increase max_iter, tol or check for degenerate data.\n",
      "  warnings.warn(\n"
     ]
    },
    {
     "name": "stdout",
     "output_type": "stream",
     "text": [
      "Initialization 0\n",
      "  Iteration 1\t time lapse 10.23672s\t ll change inf\n",
      "  Iteration 2\t time lapse 5.36553s\t ll change 1.20622\n",
      "  Iteration 3\t time lapse 5.15725s\t ll change 0.02260\n",
      "  Iteration 4\t time lapse 2.27832s\t ll change 0.01438\n",
      "  Iteration 5\t time lapse 1.41178s\t ll change 0.01027\n",
      "  Iteration 6\t time lapse 1.05487s\t ll change 0.00769\n",
      "  Iteration 7\t time lapse 1.38610s\t ll change 0.00597\n",
      "  Iteration 8\t time lapse 1.08822s\t ll change 0.00477\n",
      "  Iteration 9\t time lapse 1.13142s\t ll change 0.00390\n",
      "  Iteration 10\t time lapse 1.15762s\t ll change 0.00325\n",
      "  Iteration 11\t time lapse 1.09099s\t ll change 0.00276\n",
      "  Iteration 12\t time lapse 1.10362s\t ll change 0.00237\n",
      "  Iteration 13\t time lapse 1.29022s\t ll change 0.00207\n",
      "  Iteration 14\t time lapse 1.27038s\t ll change 0.00183\n",
      "  Iteration 15\t time lapse 1.16077s\t ll change 0.00164\n",
      "Initialization converged: False\t time lapse 36.18395s\t ll -27.67943\n"
     ]
    },
    {
     "name": "stderr",
     "output_type": "stream",
     "text": [
      "/home/av/.local/lib/python3.10/site-packages/sklearn/mixture/_base.py:274: ConvergenceWarning: Initialization 1 did not converge. Try different init parameters, or increase max_iter, tol or check for degenerate data.\n",
      "  warnings.warn(\n"
     ]
    },
    {
     "name": "stdout",
     "output_type": "stream",
     "text": [
      "Initialization 0\n",
      "  Iteration 1\t time lapse 4.13509s\t ll change inf\n",
      "  Iteration 2\t time lapse 0.96359s\t ll change 1.23253\n",
      "  Iteration 3\t time lapse 1.04751s\t ll change 0.02109\n",
      "  Iteration 4\t time lapse 1.11681s\t ll change 0.01326\n",
      "  Iteration 5\t time lapse 0.99683s\t ll change 0.01036\n",
      "  Iteration 6\t time lapse 0.95489s\t ll change 0.00879\n",
      "  Iteration 7\t time lapse 0.98502s\t ll change 0.00774\n",
      "  Iteration 8\t time lapse 0.96096s\t ll change 0.00702\n",
      "  Iteration 9\t time lapse 0.96268s\t ll change 0.00658\n",
      "  Iteration 10\t time lapse 0.97018s\t ll change 0.00631\n",
      "  Iteration 11\t time lapse 1.01127s\t ll change 0.00602\n",
      "  Iteration 12\t time lapse 1.04099s\t ll change 0.00575\n",
      "  Iteration 13\t time lapse 0.98083s\t ll change 0.00588\n",
      "  Iteration 14\t time lapse 0.98628s\t ll change 0.00700\n",
      "  Iteration 15\t time lapse 0.97523s\t ll change 0.00946\n",
      "Initialization converged: False\t time lapse 18.08855s\t ll -27.21646\n"
     ]
    },
    {
     "name": "stderr",
     "output_type": "stream",
     "text": [
      "/home/av/.local/lib/python3.10/site-packages/sklearn/mixture/_base.py:274: ConvergenceWarning: Initialization 1 did not converge. Try different init parameters, or increase max_iter, tol or check for degenerate data.\n",
      "  warnings.warn(\n"
     ]
    },
    {
     "name": "stdout",
     "output_type": "stream",
     "text": [
      "Initialization 0\n",
      "  Iteration 1\t time lapse 2.89547s\t ll change inf\n",
      "  Iteration 2\t time lapse 0.88771s\t ll change 1.53078\n",
      "  Iteration 3\t time lapse 0.92182s\t ll change 0.02060\n",
      "  Iteration 4\t time lapse 0.94020s\t ll change 0.01249\n",
      "  Iteration 5\t time lapse 0.88549s\t ll change 0.00911\n",
      "  Iteration 6\t time lapse 0.92488s\t ll change 0.00729\n",
      "  Iteration 7\t time lapse 0.89864s\t ll change 0.00614\n",
      "  Iteration 8\t time lapse 0.92368s\t ll change 0.00528\n",
      "  Iteration 9\t time lapse 0.91623s\t ll change 0.00459\n",
      "  Iteration 10\t time lapse 0.94148s\t ll change 0.00404\n",
      "  Iteration 11\t time lapse 0.89531s\t ll change 0.00362\n",
      "  Iteration 12\t time lapse 0.95814s\t ll change 0.00328\n",
      "  Iteration 13\t time lapse 0.91352s\t ll change 0.00297\n",
      "  Iteration 14\t time lapse 0.88569s\t ll change 0.00265\n",
      "  Iteration 15\t time lapse 0.92789s\t ll change 0.00235\n",
      "Initialization converged: False\t time lapse 15.71625s\t ll -26.83951\n"
     ]
    },
    {
     "name": "stderr",
     "output_type": "stream",
     "text": [
      "/home/av/.local/lib/python3.10/site-packages/sklearn/mixture/_base.py:274: ConvergenceWarning: Initialization 1 did not converge. Try different init parameters, or increase max_iter, tol or check for degenerate data.\n",
      "  warnings.warn(\n"
     ]
    },
    {
     "name": "stdout",
     "output_type": "stream",
     "text": [
      "Initialization 0\n",
      "  Iteration 1\t time lapse 4.06399s\t ll change inf\n",
      "  Iteration 2\t time lapse 0.96448s\t ll change 0.05999\n",
      "  Iteration 3\t time lapse 0.95240s\t ll change 0.02010\n",
      "  Iteration 4\t time lapse 0.94963s\t ll change 0.01126\n",
      "  Iteration 5\t time lapse 0.95754s\t ll change 0.00774\n",
      "  Iteration 6\t time lapse 0.91602s\t ll change 0.00584\n",
      "  Iteration 7\t time lapse 1.05748s\t ll change 0.00467\n",
      "  Iteration 8\t time lapse 1.18484s\t ll change 0.00389\n",
      "  Iteration 9\t time lapse 1.14724s\t ll change 0.00337\n",
      "  Iteration 10\t time lapse 0.93090s\t ll change 0.00304\n",
      "  Iteration 11\t time lapse 0.94288s\t ll change 0.00287\n",
      "  Iteration 12\t time lapse 0.95827s\t ll change 0.00276\n",
      "  Iteration 13\t time lapse 0.94884s\t ll change 0.00271\n",
      "  Iteration 14\t time lapse 0.97348s\t ll change 0.00269\n",
      "  Iteration 15\t time lapse 0.93796s\t ll change 0.00268\n",
      "Initialization converged: False\t time lapse 17.88607s\t ll -27.25083\n"
     ]
    },
    {
     "name": "stderr",
     "output_type": "stream",
     "text": [
      "/home/av/.local/lib/python3.10/site-packages/sklearn/mixture/_base.py:274: ConvergenceWarning: Initialization 1 did not converge. Try different init parameters, or increase max_iter, tol or check for degenerate data.\n",
      "  warnings.warn(\n",
      "100%|██████████| 600/600 [00:29<00:00, 20.35it/s]\n",
      "/home/av/IST/slp-labs/LAB2/pf_tools.py:89: UserWarning: The feature directory already exists, and no new feature extraction will be performed.\n",
      "  warnings.warn(\"The feature directory already exists, and no new feature extraction will be performed.\")\n"
     ]
    },
    {
     "name": "stdout",
     "output_type": "stream",
     "text": [
      "Accuracy Score: 0.6666666666666666\n",
      "Combination 37\n",
      "Initialization 0\n",
      "  Iteration 1\t time lapse 0.99551s\t ll change inf\n",
      "  Iteration 2\t time lapse 0.33616s\t ll change 1.59911\n",
      "  Iteration 3\t time lapse 0.38684s\t ll change 0.02255\n",
      "  Iteration 4\t time lapse 0.33421s\t ll change 0.01535\n",
      "  Iteration 5\t time lapse 0.34509s\t ll change 0.01065\n",
      "  Iteration 6\t time lapse 0.39882s\t ll change 0.00740\n",
      "  Iteration 7\t time lapse 0.34130s\t ll change 0.00531\n",
      "  Iteration 8\t time lapse 0.38474s\t ll change 0.00399\n",
      "  Iteration 9\t time lapse 0.34989s\t ll change 0.00315\n",
      "  Iteration 10\t time lapse 0.35747s\t ll change 0.00259\n",
      "  Iteration 11\t time lapse 0.34748s\t ll change 0.00220\n",
      "  Iteration 12\t time lapse 0.32756s\t ll change 0.00190\n",
      "  Iteration 13\t time lapse 0.33583s\t ll change 0.00164\n",
      "  Iteration 14\t time lapse 0.32666s\t ll change 0.00142\n",
      "  Iteration 15\t time lapse 0.32297s\t ll change 0.00121\n",
      "Initialization converged: False\t time lapse 5.89058s\t ll -27.27328\n"
     ]
    },
    {
     "name": "stderr",
     "output_type": "stream",
     "text": [
      "/home/av/.local/lib/python3.10/site-packages/sklearn/mixture/_base.py:274: ConvergenceWarning: Initialization 1 did not converge. Try different init parameters, or increase max_iter, tol or check for degenerate data.\n",
      "  warnings.warn(\n"
     ]
    },
    {
     "name": "stdout",
     "output_type": "stream",
     "text": [
      "Initialization 0\n",
      "  Iteration 1\t time lapse 1.13721s\t ll change inf\n",
      "  Iteration 2\t time lapse 0.39442s\t ll change 1.33720\n",
      "  Iteration 3\t time lapse 0.35906s\t ll change 0.02008\n",
      "  Iteration 4\t time lapse 0.39591s\t ll change 0.01306\n",
      "  Iteration 5\t time lapse 0.35763s\t ll change 0.00917\n",
      "  Iteration 6\t time lapse 0.37085s\t ll change 0.00649\n",
      "  Iteration 7\t time lapse 0.34044s\t ll change 0.00462\n",
      "  Iteration 8\t time lapse 0.34286s\t ll change 0.00340\n",
      "  Iteration 9\t time lapse 0.35761s\t ll change 0.00262\n",
      "  Iteration 10\t time lapse 0.35794s\t ll change 0.00214\n",
      "  Iteration 11\t time lapse 0.34032s\t ll change 0.00186\n",
      "  Iteration 12\t time lapse 0.35368s\t ll change 0.00168\n",
      "  Iteration 13\t time lapse 0.36259s\t ll change 0.00156\n",
      "  Iteration 14\t time lapse 0.34571s\t ll change 0.00145\n",
      "  Iteration 15\t time lapse 0.33891s\t ll change 0.00134\n",
      "Initialization converged: False\t time lapse 6.15518s\t ll -27.50094\n"
     ]
    },
    {
     "name": "stderr",
     "output_type": "stream",
     "text": [
      "/home/av/.local/lib/python3.10/site-packages/sklearn/mixture/_base.py:274: ConvergenceWarning: Initialization 1 did not converge. Try different init parameters, or increase max_iter, tol or check for degenerate data.\n",
      "  warnings.warn(\n"
     ]
    },
    {
     "name": "stdout",
     "output_type": "stream",
     "text": [
      "Initialization 0\n",
      "  Iteration 1\t time lapse 0.99300s\t ll change inf\n",
      "  Iteration 2\t time lapse 0.36359s\t ll change 1.44777\n",
      "  Iteration 3\t time lapse 0.41531s\t ll change 0.02240\n",
      "  Iteration 4\t time lapse 0.39243s\t ll change 0.01413\n",
      "  Iteration 5\t time lapse 0.38253s\t ll change 0.01046\n",
      "  Iteration 6\t time lapse 0.37487s\t ll change 0.00811\n",
      "  Iteration 7\t time lapse 0.36466s\t ll change 0.00627\n",
      "  Iteration 8\t time lapse 0.36602s\t ll change 0.00480\n",
      "  Iteration 9\t time lapse 0.40706s\t ll change 0.00366\n",
      "  Iteration 10\t time lapse 0.36304s\t ll change 0.00281\n",
      "  Iteration 11\t time lapse 0.43604s\t ll change 0.00219\n",
      "  Iteration 12\t time lapse 0.36810s\t ll change 0.00173\n",
      "  Iteration 13\t time lapse 0.36601s\t ll change 0.00139\n",
      "  Iteration 14\t time lapse 0.40503s\t ll change 0.00113\n",
      "  Iteration 15\t time lapse 0.36360s\t ll change 0.00092\n",
      "Initialization converged: True\t time lapse 6.36135s\t ll -27.97366\n",
      "Initialization 0\n",
      "  Iteration 1\t time lapse 0.85057s\t ll change inf\n",
      "  Iteration 2\t time lapse 0.36052s\t ll change 1.47332\n",
      "  Iteration 3\t time lapse 0.34469s\t ll change 0.02426\n",
      "  Iteration 4\t time lapse 0.37581s\t ll change 0.01673\n",
      "  Iteration 5\t time lapse 0.46648s\t ll change 0.01196\n",
      "  Iteration 6\t time lapse 0.37036s\t ll change 0.00852\n",
      "  Iteration 7\t time lapse 0.37172s\t ll change 0.00602\n",
      "  Iteration 8\t time lapse 0.42054s\t ll change 0.00422\n",
      "  Iteration 9\t time lapse 0.35721s\t ll change 0.00297\n",
      "  Iteration 10\t time lapse 0.35448s\t ll change 0.00211\n",
      "  Iteration 11\t time lapse 0.33770s\t ll change 0.00152\n",
      "  Iteration 12\t time lapse 0.33207s\t ll change 0.00112\n",
      "  Iteration 13\t time lapse 0.37093s\t ll change 0.00083\n",
      "Initialization converged: True\t time lapse 5.31315s\t ll -27.43301\n",
      "Initialization 0\n",
      "  Iteration 1\t time lapse 1.16258s\t ll change inf\n",
      "  Iteration 2\t time lapse 0.34396s\t ll change 1.80718\n",
      "  Iteration 3\t time lapse 0.31192s\t ll change 0.02275\n",
      "  Iteration 4\t time lapse 0.32675s\t ll change 0.01587\n",
      "  Iteration 5\t time lapse 0.31710s\t ll change 0.01236\n",
      "  Iteration 6\t time lapse 0.32176s\t ll change 0.01002\n",
      "  Iteration 7\t time lapse 0.31400s\t ll change 0.00811\n",
      "  Iteration 8\t time lapse 0.33690s\t ll change 0.00643\n",
      "  Iteration 9\t time lapse 0.31920s\t ll change 0.00496\n",
      "  Iteration 10\t time lapse 0.31210s\t ll change 0.00373\n",
      "  Iteration 11\t time lapse 0.34297s\t ll change 0.00274\n",
      "  Iteration 12\t time lapse 0.33011s\t ll change 0.00199\n",
      "  Iteration 13\t time lapse 0.31401s\t ll change 0.00144\n",
      "  Iteration 14\t time lapse 0.33576s\t ll change 0.00106\n",
      "  Iteration 15\t time lapse 0.33216s\t ll change 0.00079\n",
      "Initialization converged: True\t time lapse 5.72133s\t ll -27.00390\n",
      "Initialization 0\n",
      "  Iteration 1\t time lapse 0.88738s\t ll change inf\n",
      "  Iteration 2\t time lapse 0.33719s\t ll change 1.12130\n",
      "  Iteration 3\t time lapse 0.32166s\t ll change 0.01516\n",
      "  Iteration 4\t time lapse 0.32318s\t ll change 0.00987\n",
      "  Iteration 5\t time lapse 0.33690s\t ll change 0.00809\n",
      "  Iteration 6\t time lapse 0.32729s\t ll change 0.00753\n",
      "  Iteration 7\t time lapse 0.31981s\t ll change 0.00759\n",
      "  Iteration 8\t time lapse 0.34046s\t ll change 0.00798\n",
      "  Iteration 9\t time lapse 0.31860s\t ll change 0.00818\n",
      "  Iteration 10\t time lapse 0.32558s\t ll change 0.00754\n",
      "  Iteration 11\t time lapse 0.33965s\t ll change 0.00603\n",
      "  Iteration 12\t time lapse 0.33200s\t ll change 0.00435\n",
      "  Iteration 13\t time lapse 0.32111s\t ll change 0.00302\n",
      "  Iteration 14\t time lapse 0.34565s\t ll change 0.00213\n",
      "  Iteration 15\t time lapse 0.32740s\t ll change 0.00157\n",
      "Initialization converged: False\t time lapse 5.50391s\t ll -27.47530\n"
     ]
    },
    {
     "name": "stderr",
     "output_type": "stream",
     "text": [
      "/home/av/.local/lib/python3.10/site-packages/sklearn/mixture/_base.py:274: ConvergenceWarning: Initialization 1 did not converge. Try different init parameters, or increase max_iter, tol or check for degenerate data.\n",
      "  warnings.warn(\n",
      "100%|██████████| 600/600 [00:12<00:00, 46.57it/s]\n",
      "/home/av/IST/slp-labs/LAB2/pf_tools.py:89: UserWarning: The feature directory already exists, and no new feature extraction will be performed.\n",
      "  warnings.warn(\"The feature directory already exists, and no new feature extraction will be performed.\")\n"
     ]
    },
    {
     "name": "stdout",
     "output_type": "stream",
     "text": [
      "Accuracy Score: 0.585\n",
      "Combination 38\n",
      "Initialization 0\n",
      "  Iteration 1\t time lapse 1.65912s\t ll change inf\n",
      "  Iteration 2\t time lapse 0.58853s\t ll change 1.44345\n",
      "  Iteration 3\t time lapse 0.58682s\t ll change 0.01908\n",
      "  Iteration 4\t time lapse 0.55758s\t ll change 0.01169\n",
      "  Iteration 5\t time lapse 0.60464s\t ll change 0.00843\n",
      "  Iteration 6\t time lapse 0.56156s\t ll change 0.00652\n",
      "  Iteration 7\t time lapse 0.59085s\t ll change 0.00527\n",
      "  Iteration 8\t time lapse 0.60151s\t ll change 0.00444\n",
      "  Iteration 9\t time lapse 0.56184s\t ll change 0.00386\n",
      "  Iteration 10\t time lapse 0.61595s\t ll change 0.00345\n",
      "  Iteration 11\t time lapse 0.58083s\t ll change 0.00311\n",
      "  Iteration 12\t time lapse 0.58604s\t ll change 0.00281\n",
      "  Iteration 13\t time lapse 0.55343s\t ll change 0.00251\n",
      "  Iteration 14\t time lapse 0.59185s\t ll change 0.00221\n",
      "  Iteration 15\t time lapse 0.58126s\t ll change 0.00192\n",
      "Initialization converged: False\t time lapse 9.82220s\t ll -27.15305\n"
     ]
    },
    {
     "name": "stderr",
     "output_type": "stream",
     "text": [
      "/home/av/.local/lib/python3.10/site-packages/sklearn/mixture/_base.py:274: ConvergenceWarning: Initialization 1 did not converge. Try different init parameters, or increase max_iter, tol or check for degenerate data.\n",
      "  warnings.warn(\n"
     ]
    },
    {
     "name": "stdout",
     "output_type": "stream",
     "text": [
      "Initialization 0\n",
      "  Iteration 1\t time lapse 1.72601s\t ll change inf\n",
      "  Iteration 2\t time lapse 0.63032s\t ll change 1.19290\n",
      "  Iteration 3\t time lapse 0.67679s\t ll change 0.02015\n",
      "  Iteration 4\t time lapse 0.65990s\t ll change 0.01291\n",
      "  Iteration 5\t time lapse 0.65666s\t ll change 0.00948\n",
      "  Iteration 6\t time lapse 0.67173s\t ll change 0.00732\n",
      "  Iteration 7\t time lapse 0.69533s\t ll change 0.00582\n",
      "  Iteration 8\t time lapse 0.63747s\t ll change 0.00476\n",
      "  Iteration 9\t time lapse 0.65299s\t ll change 0.00402\n",
      "  Iteration 10\t time lapse 0.66258s\t ll change 0.00354\n",
      "  Iteration 11\t time lapse 0.64172s\t ll change 0.00325\n",
      "  Iteration 12\t time lapse 0.65717s\t ll change 0.00306\n",
      "  Iteration 13\t time lapse 0.65405s\t ll change 0.00289\n",
      "  Iteration 14\t time lapse 0.63729s\t ll change 0.00264\n",
      "  Iteration 15\t time lapse 0.63347s\t ll change 0.00229\n",
      "Initialization converged: False\t time lapse 10.89362s\t ll -27.36275\n"
     ]
    },
    {
     "name": "stderr",
     "output_type": "stream",
     "text": [
      "/home/av/.local/lib/python3.10/site-packages/sklearn/mixture/_base.py:274: ConvergenceWarning: Initialization 1 did not converge. Try different init parameters, or increase max_iter, tol or check for degenerate data.\n",
      "  warnings.warn(\n"
     ]
    },
    {
     "name": "stdout",
     "output_type": "stream",
     "text": [
      "Initialization 0\n",
      "  Iteration 1\t time lapse 2.17265s\t ll change inf\n",
      "  Iteration 2\t time lapse 0.65062s\t ll change 1.24344\n",
      "  Iteration 3\t time lapse 0.62967s\t ll change 0.02214\n",
      "  Iteration 4\t time lapse 0.67654s\t ll change 0.01423\n",
      "  Iteration 5\t time lapse 0.69675s\t ll change 0.01039\n",
      "  Iteration 6\t time lapse 0.68070s\t ll change 0.00806\n",
      "  Iteration 7\t time lapse 0.66476s\t ll change 0.00650\n",
      "  Iteration 8\t time lapse 0.65703s\t ll change 0.00538\n",
      "  Iteration 9\t time lapse 0.63816s\t ll change 0.00453\n",
      "  Iteration 10\t time lapse 0.75001s\t ll change 0.00385\n",
      "  Iteration 11\t time lapse 0.74178s\t ll change 0.00332\n",
      "  Iteration 12\t time lapse 0.91916s\t ll change 0.00291\n",
      "  Iteration 13\t time lapse 0.80443s\t ll change 0.00264\n",
      "  Iteration 14\t time lapse 0.70654s\t ll change 0.00251\n",
      "  Iteration 15\t time lapse 0.67746s\t ll change 0.00245\n",
      "Initialization converged: False\t time lapse 12.06655s\t ll -27.81405\n"
     ]
    },
    {
     "name": "stderr",
     "output_type": "stream",
     "text": [
      "/home/av/.local/lib/python3.10/site-packages/sklearn/mixture/_base.py:274: ConvergenceWarning: Initialization 1 did not converge. Try different init parameters, or increase max_iter, tol or check for degenerate data.\n",
      "  warnings.warn(\n"
     ]
    },
    {
     "name": "stdout",
     "output_type": "stream",
     "text": [
      "Initialization 0\n",
      "  Iteration 1\t time lapse 1.98126s\t ll change inf\n",
      "  Iteration 2\t time lapse 0.56576s\t ll change 1.38604\n",
      "  Iteration 3\t time lapse 0.56554s\t ll change 0.02245\n",
      "  Iteration 4\t time lapse 0.53559s\t ll change 0.01534\n",
      "  Iteration 5\t time lapse 0.53412s\t ll change 0.01224\n",
      "  Iteration 6\t time lapse 0.55729s\t ll change 0.01014\n",
      "  Iteration 7\t time lapse 0.54810s\t ll change 0.00846\n",
      "  Iteration 8\t time lapse 0.55267s\t ll change 0.00720\n",
      "  Iteration 9\t time lapse 0.60714s\t ll change 0.00629\n",
      "  Iteration 10\t time lapse 0.53873s\t ll change 0.00555\n",
      "  Iteration 11\t time lapse 0.56308s\t ll change 0.00486\n",
      "  Iteration 12\t time lapse 0.58115s\t ll change 0.00418\n",
      "  Iteration 13\t time lapse 0.53427s\t ll change 0.00351\n",
      "  Iteration 14\t time lapse 0.55769s\t ll change 0.00289\n",
      "  Iteration 15\t time lapse 0.54698s\t ll change 0.00233\n",
      "Initialization converged: False\t time lapse 9.76973s\t ll -27.31521\n"
     ]
    },
    {
     "name": "stderr",
     "output_type": "stream",
     "text": [
      "/home/av/.local/lib/python3.10/site-packages/sklearn/mixture/_base.py:274: ConvergenceWarning: Initialization 1 did not converge. Try different init parameters, or increase max_iter, tol or check for degenerate data.\n",
      "  warnings.warn(\n"
     ]
    },
    {
     "name": "stdout",
     "output_type": "stream",
     "text": [
      "Initialization 0\n",
      "  Iteration 1\t time lapse 1.48560s\t ll change inf\n",
      "  Iteration 2\t time lapse 0.52018s\t ll change 1.61579\n",
      "  Iteration 3\t time lapse 0.52554s\t ll change 0.01858\n",
      "  Iteration 4\t time lapse 0.52856s\t ll change 0.01324\n",
      "  Iteration 5\t time lapse 0.54973s\t ll change 0.01150\n",
      "  Iteration 6\t time lapse 0.53312s\t ll change 0.01044\n",
      "  Iteration 7\t time lapse 0.52302s\t ll change 0.00915\n",
      "  Iteration 8\t time lapse 0.57738s\t ll change 0.00764\n",
      "  Iteration 9\t time lapse 0.53629s\t ll change 0.00618\n",
      "  Iteration 10\t time lapse 0.58365s\t ll change 0.00490\n",
      "  Iteration 11\t time lapse 0.58005s\t ll change 0.00381\n",
      "  Iteration 12\t time lapse 0.52778s\t ll change 0.00293\n",
      "  Iteration 13\t time lapse 0.53589s\t ll change 0.00228\n",
      "  Iteration 14\t time lapse 0.55772s\t ll change 0.00182\n",
      "  Iteration 15\t time lapse 0.56979s\t ll change 0.00150\n",
      "Initialization converged: False\t time lapse 9.13473s\t ll -26.90984\n"
     ]
    },
    {
     "name": "stderr",
     "output_type": "stream",
     "text": [
      "/home/av/.local/lib/python3.10/site-packages/sklearn/mixture/_base.py:274: ConvergenceWarning: Initialization 1 did not converge. Try different init parameters, or increase max_iter, tol or check for degenerate data.\n",
      "  warnings.warn(\n"
     ]
    },
    {
     "name": "stdout",
     "output_type": "stream",
     "text": [
      "Initialization 0\n",
      "  Iteration 1\t time lapse 1.77458s\t ll change inf\n",
      "  Iteration 2\t time lapse 0.55997s\t ll change 0.05305\n",
      "  Iteration 3\t time lapse 0.52470s\t ll change 0.02080\n",
      "  Iteration 4\t time lapse 0.55276s\t ll change 0.01412\n",
      "  Iteration 5\t time lapse 0.57334s\t ll change 0.01126\n",
      "  Iteration 6\t time lapse 0.56997s\t ll change 0.00946\n",
      "  Iteration 7\t time lapse 0.56619s\t ll change 0.00807\n",
      "  Iteration 8\t time lapse 0.57848s\t ll change 0.00690\n",
      "  Iteration 9\t time lapse 0.55055s\t ll change 0.00588\n",
      "  Iteration 10\t time lapse 0.58750s\t ll change 0.00504\n",
      "  Iteration 11\t time lapse 0.52744s\t ll change 0.00437\n",
      "  Iteration 12\t time lapse 0.55176s\t ll change 0.00382\n",
      "  Iteration 13\t time lapse 0.53878s\t ll change 0.00335\n",
      "  Iteration 14\t time lapse 0.56179s\t ll change 0.00294\n",
      "  Iteration 15\t time lapse 0.55006s\t ll change 0.00259\n",
      "Initialization converged: False\t time lapse 9.56827s\t ll -27.34403\n"
     ]
    },
    {
     "name": "stderr",
     "output_type": "stream",
     "text": [
      "/home/av/.local/lib/python3.10/site-packages/sklearn/mixture/_base.py:274: ConvergenceWarning: Initialization 1 did not converge. Try different init parameters, or increase max_iter, tol or check for degenerate data.\n",
      "  warnings.warn(\n",
      "100%|██████████| 600/600 [00:19<00:00, 30.97it/s]\n",
      "/home/av/IST/slp-labs/LAB2/pf_tools.py:89: UserWarning: The feature directory already exists, and no new feature extraction will be performed.\n",
      "  warnings.warn(\"The feature directory already exists, and no new feature extraction will be performed.\")\n"
     ]
    },
    {
     "name": "stdout",
     "output_type": "stream",
     "text": [
      "Accuracy Score: 0.6433333333333333\n",
      "Combination 39\n",
      "Initialization 0\n",
      "  Iteration 1\t time lapse 3.51670s\t ll change inf\n",
      "  Iteration 2\t time lapse 1.07364s\t ll change 1.41287\n",
      "  Iteration 3\t time lapse 1.14194s\t ll change 0.01968\n",
      "  Iteration 4\t time lapse 1.22407s\t ll change 0.01130\n",
      "  Iteration 5\t time lapse 1.00032s\t ll change 0.00790\n",
      "  Iteration 6\t time lapse 0.93490s\t ll change 0.00611\n",
      "  Iteration 7\t time lapse 0.97573s\t ll change 0.00502\n",
      "  Iteration 8\t time lapse 1.00385s\t ll change 0.00430\n",
      "  Iteration 9\t time lapse 0.95800s\t ll change 0.00380\n",
      "  Iteration 10\t time lapse 0.98773s\t ll change 0.00341\n",
      "  Iteration 11\t time lapse 1.09312s\t ll change 0.00310\n",
      "  Iteration 12\t time lapse 0.97115s\t ll change 0.00282\n",
      "  Iteration 13\t time lapse 0.98803s\t ll change 0.00255\n",
      "  Iteration 14\t time lapse 1.01152s\t ll change 0.00230\n",
      "  Iteration 15\t time lapse 1.00765s\t ll change 0.00207\n",
      "Initialization converged: False\t time lapse 17.88848s\t ll -27.04937\n"
     ]
    },
    {
     "name": "stderr",
     "output_type": "stream",
     "text": [
      "/home/av/.local/lib/python3.10/site-packages/sklearn/mixture/_base.py:274: ConvergenceWarning: Initialization 1 did not converge. Try different init parameters, or increase max_iter, tol or check for degenerate data.\n",
      "  warnings.warn(\n"
     ]
    },
    {
     "name": "stdout",
     "output_type": "stream",
     "text": [
      "Initialization 0\n",
      "  Iteration 1\t time lapse 3.72785s\t ll change inf\n",
      "  Iteration 2\t time lapse 1.02091s\t ll change 1.09638\n",
      "  Iteration 3\t time lapse 1.06919s\t ll change 0.01916\n",
      "  Iteration 4\t time lapse 1.01412s\t ll change 0.01102\n",
      "  Iteration 5\t time lapse 1.14377s\t ll change 0.00760\n",
      "  Iteration 6\t time lapse 1.02439s\t ll change 0.00575\n",
      "  Iteration 7\t time lapse 1.01496s\t ll change 0.00461\n",
      "  Iteration 8\t time lapse 1.05708s\t ll change 0.00384\n",
      "  Iteration 9\t time lapse 1.10023s\t ll change 0.00329\n",
      "  Iteration 10\t time lapse 1.04467s\t ll change 0.00287\n",
      "  Iteration 11\t time lapse 1.00922s\t ll change 0.00256\n",
      "  Iteration 12\t time lapse 1.01612s\t ll change 0.00231\n",
      "  Iteration 13\t time lapse 1.02865s\t ll change 0.00211\n",
      "  Iteration 14\t time lapse 1.17094s\t ll change 0.00194\n",
      "  Iteration 15\t time lapse 1.06167s\t ll change 0.00179\n",
      "Initialization converged: False\t time lapse 18.50418s\t ll -27.26166\n"
     ]
    },
    {
     "name": "stderr",
     "output_type": "stream",
     "text": [
      "/home/av/.local/lib/python3.10/site-packages/sklearn/mixture/_base.py:274: ConvergenceWarning: Initialization 1 did not converge. Try different init parameters, or increase max_iter, tol or check for degenerate data.\n",
      "  warnings.warn(\n"
     ]
    },
    {
     "name": "stdout",
     "output_type": "stream",
     "text": [
      "Initialization 0\n",
      "  Iteration 1\t time lapse 4.00446s\t ll change inf\n",
      "  Iteration 2\t time lapse 1.10601s\t ll change 1.22846\n",
      "  Iteration 3\t time lapse 1.18439s\t ll change 0.02144\n",
      "  Iteration 4\t time lapse 1.05553s\t ll change 0.01426\n",
      "  Iteration 5\t time lapse 1.43296s\t ll change 0.01120\n",
      "  Iteration 6\t time lapse 1.09241s\t ll change 0.00922\n",
      "  Iteration 7\t time lapse 1.16282s\t ll change 0.00765\n",
      "  Iteration 8\t time lapse 1.10568s\t ll change 0.00632\n",
      "  Iteration 9\t time lapse 1.19039s\t ll change 0.00516\n",
      "  Iteration 10\t time lapse 1.03157s\t ll change 0.00416\n",
      "  Iteration 11\t time lapse 1.14777s\t ll change 0.00337\n",
      "  Iteration 12\t time lapse 1.51520s\t ll change 0.00278\n",
      "  Iteration 13\t time lapse 1.08569s\t ll change 0.00235\n",
      "  Iteration 14\t time lapse 1.07858s\t ll change 0.00206\n",
      "  Iteration 15\t time lapse 1.05584s\t ll change 0.00187\n",
      "Initialization converged: False\t time lapse 20.24943s\t ll -27.68480\n"
     ]
    },
    {
     "name": "stderr",
     "output_type": "stream",
     "text": [
      "/home/av/.local/lib/python3.10/site-packages/sklearn/mixture/_base.py:274: ConvergenceWarning: Initialization 1 did not converge. Try different init parameters, or increase max_iter, tol or check for degenerate data.\n",
      "  warnings.warn(\n"
     ]
    },
    {
     "name": "stdout",
     "output_type": "stream",
     "text": [
      "Initialization 0\n",
      "  Iteration 1\t time lapse 4.05036s\t ll change inf\n",
      "  Iteration 2\t time lapse 0.95733s\t ll change 1.18276\n",
      "  Iteration 3\t time lapse 0.99583s\t ll change 0.02151\n",
      "  Iteration 4\t time lapse 1.04584s\t ll change 0.01256\n",
      "  Iteration 5\t time lapse 1.10357s\t ll change 0.00893\n",
      "  Iteration 6\t time lapse 1.16798s\t ll change 0.00733\n",
      "  Iteration 7\t time lapse 1.00125s\t ll change 0.00673\n",
      "  Iteration 8\t time lapse 0.95148s\t ll change 0.00652\n",
      "  Iteration 9\t time lapse 0.96083s\t ll change 0.00626\n",
      "  Iteration 10\t time lapse 1.00344s\t ll change 0.00572\n",
      "  Iteration 11\t time lapse 0.98493s\t ll change 0.00509\n",
      "  Iteration 12\t time lapse 0.96713s\t ll change 0.00457\n",
      "  Iteration 13\t time lapse 0.97481s\t ll change 0.00417\n",
      "  Iteration 14\t time lapse 0.97576s\t ll change 0.00383\n",
      "  Iteration 15\t time lapse 0.98057s\t ll change 0.00349\n",
      "Initialization converged: False\t time lapse 18.12124s\t ll -27.23083\n"
     ]
    },
    {
     "name": "stderr",
     "output_type": "stream",
     "text": [
      "/home/av/.local/lib/python3.10/site-packages/sklearn/mixture/_base.py:274: ConvergenceWarning: Initialization 1 did not converge. Try different init parameters, or increase max_iter, tol or check for degenerate data.\n",
      "  warnings.warn(\n"
     ]
    },
    {
     "name": "stdout",
     "output_type": "stream",
     "text": [
      "Initialization 0\n",
      "  Iteration 1\t time lapse 3.16937s\t ll change inf\n",
      "  Iteration 2\t time lapse 0.94519s\t ll change 1.53066\n",
      "  Iteration 3\t time lapse 0.88814s\t ll change 0.02089\n",
      "  Iteration 4\t time lapse 0.90710s\t ll change 0.01299\n",
      "  Iteration 5\t time lapse 0.94771s\t ll change 0.00963\n",
      "  Iteration 6\t time lapse 0.97153s\t ll change 0.00749\n",
      "  Iteration 7\t time lapse 0.99884s\t ll change 0.00597\n",
      "  Iteration 8\t time lapse 0.91300s\t ll change 0.00489\n",
      "  Iteration 9\t time lapse 0.91432s\t ll change 0.00409\n",
      "  Iteration 10\t time lapse 0.96983s\t ll change 0.00348\n",
      "  Iteration 11\t time lapse 0.95612s\t ll change 0.00297\n",
      "  Iteration 12\t time lapse 0.89706s\t ll change 0.00255\n",
      "  Iteration 13\t time lapse 0.93850s\t ll change 0.00222\n",
      "  Iteration 14\t time lapse 0.93600s\t ll change 0.00196\n",
      "  Iteration 15\t time lapse 0.89156s\t ll change 0.00176\n",
      "Initialization converged: False\t time lapse 16.24470s\t ll -26.84286\n"
     ]
    },
    {
     "name": "stderr",
     "output_type": "stream",
     "text": [
      "/home/av/.local/lib/python3.10/site-packages/sklearn/mixture/_base.py:274: ConvergenceWarning: Initialization 1 did not converge. Try different init parameters, or increase max_iter, tol or check for degenerate data.\n",
      "  warnings.warn(\n"
     ]
    },
    {
     "name": "stdout",
     "output_type": "stream",
     "text": [
      "Initialization 0\n",
      "  Iteration 1\t time lapse 3.31772s\t ll change inf\n",
      "  Iteration 2\t time lapse 0.90939s\t ll change 0.05800\n",
      "  Iteration 3\t time lapse 0.95977s\t ll change 0.02000\n",
      "  Iteration 4\t time lapse 0.97452s\t ll change 0.01221\n",
      "  Iteration 5\t time lapse 0.92609s\t ll change 0.00944\n",
      "  Iteration 6\t time lapse 0.93405s\t ll change 0.00796\n",
      "  Iteration 7\t time lapse 0.92592s\t ll change 0.00678\n",
      "  Iteration 8\t time lapse 0.91347s\t ll change 0.00576\n",
      "  Iteration 9\t time lapse 0.96323s\t ll change 0.00495\n",
      "  Iteration 10\t time lapse 0.95954s\t ll change 0.00434\n",
      "  Iteration 11\t time lapse 0.92926s\t ll change 0.00384\n",
      "  Iteration 12\t time lapse 0.93047s\t ll change 0.00338\n",
      "  Iteration 13\t time lapse 0.96421s\t ll change 0.00293\n",
      "  Iteration 14\t time lapse 0.98704s\t ll change 0.00251\n",
      "  Iteration 15\t time lapse 0.97308s\t ll change 0.00216\n",
      "Initialization converged: False\t time lapse 16.56789s\t ll -27.24929\n"
     ]
    },
    {
     "name": "stderr",
     "output_type": "stream",
     "text": [
      "/home/av/.local/lib/python3.10/site-packages/sklearn/mixture/_base.py:274: ConvergenceWarning: Initialization 1 did not converge. Try different init parameters, or increase max_iter, tol or check for degenerate data.\n",
      "  warnings.warn(\n",
      "100%|██████████| 600/600 [00:30<00:00, 19.66it/s]\n",
      "/home/av/IST/slp-labs/LAB2/pf_tools.py:89: UserWarning: The feature directory already exists, and no new feature extraction will be performed.\n",
      "  warnings.warn(\"The feature directory already exists, and no new feature extraction will be performed.\")\n"
     ]
    },
    {
     "name": "stdout",
     "output_type": "stream",
     "text": [
      "Accuracy Score: 0.6783333333333333\n",
      "Combination 40\n",
      "Initialization 0\n",
      "  Iteration 1\t time lapse 0.82974s\t ll change inf\n",
      "  Iteration 2\t time lapse 0.32401s\t ll change 1.62966\n",
      "  Iteration 3\t time lapse 0.33203s\t ll change 0.02299\n",
      "  Iteration 4\t time lapse 0.37356s\t ll change 0.01528\n",
      "  Iteration 5\t time lapse 0.35719s\t ll change 0.01042\n",
      "  Iteration 6\t time lapse 0.32484s\t ll change 0.00720\n",
      "  Iteration 7\t time lapse 0.37816s\t ll change 0.00516\n",
      "  Iteration 8\t time lapse 0.35234s\t ll change 0.00389\n",
      "  Iteration 9\t time lapse 0.32883s\t ll change 0.00308\n",
      "  Iteration 10\t time lapse 0.38969s\t ll change 0.00254\n",
      "  Iteration 11\t time lapse 0.33184s\t ll change 0.00215\n",
      "  Iteration 12\t time lapse 0.34192s\t ll change 0.00184\n",
      "  Iteration 13\t time lapse 0.34942s\t ll change 0.00158\n",
      "  Iteration 14\t time lapse 0.32378s\t ll change 0.00135\n",
      "  Iteration 15\t time lapse 0.34778s\t ll change 0.00115\n",
      "Initialization converged: False\t time lapse 5.68520s\t ll -27.27266\n"
     ]
    },
    {
     "name": "stderr",
     "output_type": "stream",
     "text": [
      "/home/av/.local/lib/python3.10/site-packages/sklearn/mixture/_base.py:274: ConvergenceWarning: Initialization 1 did not converge. Try different init parameters, or increase max_iter, tol or check for degenerate data.\n",
      "  warnings.warn(\n"
     ]
    },
    {
     "name": "stdout",
     "output_type": "stream",
     "text": [
      "Initialization 0\n",
      "  Iteration 1\t time lapse 0.84452s\t ll change inf\n",
      "  Iteration 2\t time lapse 0.37778s\t ll change 1.34556\n",
      "  Iteration 3\t time lapse 0.34603s\t ll change 0.02066\n",
      "  Iteration 4\t time lapse 0.40074s\t ll change 0.01336\n",
      "  Iteration 5\t time lapse 0.39467s\t ll change 0.00919\n",
      "  Iteration 6\t time lapse 0.35393s\t ll change 0.00634\n",
      "  Iteration 7\t time lapse 0.34787s\t ll change 0.00443\n",
      "  Iteration 8\t time lapse 0.34402s\t ll change 0.00322\n",
      "  Iteration 9\t time lapse 0.39053s\t ll change 0.00249\n",
      "  Iteration 10\t time lapse 0.34591s\t ll change 0.00205\n",
      "  Iteration 11\t time lapse 0.34509s\t ll change 0.00178\n",
      "  Iteration 12\t time lapse 0.34637s\t ll change 0.00160\n",
      "  Iteration 13\t time lapse 0.38009s\t ll change 0.00145\n",
      "  Iteration 14\t time lapse 0.35235s\t ll change 0.00130\n",
      "  Iteration 15\t time lapse 0.40893s\t ll change 0.00115\n",
      "Initialization converged: False\t time lapse 5.97890s\t ll -27.49923\n"
     ]
    },
    {
     "name": "stderr",
     "output_type": "stream",
     "text": [
      "/home/av/.local/lib/python3.10/site-packages/sklearn/mixture/_base.py:274: ConvergenceWarning: Initialization 1 did not converge. Try different init parameters, or increase max_iter, tol or check for degenerate data.\n",
      "  warnings.warn(\n"
     ]
    },
    {
     "name": "stdout",
     "output_type": "stream",
     "text": [
      "Initialization 0\n",
      "  Iteration 1\t time lapse 0.92632s\t ll change inf\n",
      "  Iteration 2\t time lapse 0.35512s\t ll change 1.45050\n",
      "  Iteration 3\t time lapse 0.39154s\t ll change 0.02211\n",
      "  Iteration 4\t time lapse 0.38065s\t ll change 0.01413\n",
      "  Iteration 5\t time lapse 0.39853s\t ll change 0.01053\n",
      "  Iteration 6\t time lapse 0.37628s\t ll change 0.00820\n",
      "  Iteration 7\t time lapse 0.36401s\t ll change 0.00634\n",
      "  Iteration 8\t time lapse 0.36440s\t ll change 0.00484\n",
      "  Iteration 9\t time lapse 0.38777s\t ll change 0.00367\n",
      "  Iteration 10\t time lapse 0.36088s\t ll change 0.00280\n",
      "  Iteration 11\t time lapse 0.42601s\t ll change 0.00217\n",
      "  Iteration 12\t time lapse 0.35924s\t ll change 0.00170\n",
      "  Iteration 13\t time lapse 0.38378s\t ll change 0.00134\n",
      "  Iteration 14\t time lapse 0.43277s\t ll change 0.00107\n",
      "  Iteration 15\t time lapse 0.37809s\t ll change 0.00086\n",
      "Initialization converged: True\t time lapse 6.28545s\t ll -27.97277\n",
      "Initialization 0\n",
      "  Iteration 1\t time lapse 0.94617s\t ll change inf\n",
      "  Iteration 2\t time lapse 0.36117s\t ll change 1.47360\n",
      "  Iteration 3\t time lapse 0.34049s\t ll change 0.02446\n",
      "  Iteration 4\t time lapse 0.36331s\t ll change 0.01679\n",
      "  Iteration 5\t time lapse 0.38189s\t ll change 0.01190\n",
      "  Iteration 6\t time lapse 0.35889s\t ll change 0.00842\n",
      "  Iteration 7\t time lapse 0.35627s\t ll change 0.00594\n",
      "  Iteration 8\t time lapse 0.34167s\t ll change 0.00416\n",
      "  Iteration 9\t time lapse 0.35218s\t ll change 0.00290\n",
      "  Iteration 10\t time lapse 0.33937s\t ll change 0.00203\n",
      "  Iteration 11\t time lapse 0.33995s\t ll change 0.00143\n",
      "  Iteration 12\t time lapse 0.34266s\t ll change 0.00103\n",
      "  Iteration 13\t time lapse 0.33687s\t ll change 0.00075\n",
      "Initialization converged: True\t time lapse 5.16094s\t ll -27.43258\n",
      "Initialization 0\n",
      "  Iteration 1\t time lapse 0.83051s\t ll change inf\n",
      "  Iteration 2\t time lapse 0.32657s\t ll change 1.80377\n",
      "  Iteration 3\t time lapse 0.32678s\t ll change 0.02275\n",
      "  Iteration 4\t time lapse 0.31758s\t ll change 0.01585\n",
      "  Iteration 5\t time lapse 0.30939s\t ll change 0.01234\n",
      "  Iteration 6\t time lapse 0.34511s\t ll change 0.01000\n",
      "  Iteration 7\t time lapse 0.31353s\t ll change 0.00812\n",
      "  Iteration 8\t time lapse 0.30818s\t ll change 0.00645\n",
      "  Iteration 9\t time lapse 0.31422s\t ll change 0.00499\n",
      "  Iteration 10\t time lapse 0.31298s\t ll change 0.00376\n",
      "  Iteration 11\t time lapse 0.31220s\t ll change 0.00278\n",
      "  Iteration 12\t time lapse 0.32694s\t ll change 0.00202\n",
      "  Iteration 13\t time lapse 0.31506s\t ll change 0.00147\n",
      "  Iteration 14\t time lapse 0.31165s\t ll change 0.00108\n",
      "  Iteration 15\t time lapse 0.32640s\t ll change 0.00081\n",
      "Initialization converged: True\t time lapse 5.29717s\t ll -27.00400\n",
      "Initialization 0\n",
      "  Iteration 1\t time lapse 0.78899s\t ll change inf\n",
      "  Iteration 2\t time lapse 0.32224s\t ll change 1.12137\n",
      "  Iteration 3\t time lapse 0.32517s\t ll change 0.01532\n",
      "  Iteration 4\t time lapse 0.33720s\t ll change 0.01011\n",
      "  Iteration 5\t time lapse 0.33680s\t ll change 0.00844\n",
      "  Iteration 6\t time lapse 0.31975s\t ll change 0.00798\n",
      "  Iteration 7\t time lapse 0.34052s\t ll change 0.00814\n",
      "  Iteration 8\t time lapse 0.32711s\t ll change 0.00849\n",
      "  Iteration 9\t time lapse 0.32360s\t ll change 0.00831\n",
      "  Iteration 10\t time lapse 0.34584s\t ll change 0.00712\n",
      "  Iteration 11\t time lapse 0.32910s\t ll change 0.00535\n",
      "  Iteration 12\t time lapse 0.32356s\t ll change 0.00374\n",
      "  Iteration 13\t time lapse 0.33830s\t ll change 0.00259\n",
      "  Iteration 14\t time lapse 0.32010s\t ll change 0.00185\n",
      "  Iteration 15\t time lapse 0.32189s\t ll change 0.00140\n",
      "Initialization converged: False\t time lapse 5.40024s\t ll -27.47464\n"
     ]
    },
    {
     "name": "stderr",
     "output_type": "stream",
     "text": [
      "/home/av/.local/lib/python3.10/site-packages/sklearn/mixture/_base.py:274: ConvergenceWarning: Initialization 1 did not converge. Try different init parameters, or increase max_iter, tol or check for degenerate data.\n",
      "  warnings.warn(\n",
      "100%|██████████| 600/600 [00:14<00:00, 42.01it/s]\n",
      "/home/av/IST/slp-labs/LAB2/pf_tools.py:89: UserWarning: The feature directory already exists, and no new feature extraction will be performed.\n",
      "  warnings.warn(\"The feature directory already exists, and no new feature extraction will be performed.\")\n"
     ]
    },
    {
     "name": "stdout",
     "output_type": "stream",
     "text": [
      "Accuracy Score: 0.585\n",
      "Combination 41\n",
      "Initialization 0\n",
      "  Iteration 1\t time lapse 1.54495s\t ll change inf\n",
      "  Iteration 2\t time lapse 0.57383s\t ll change 1.43625\n",
      "  Iteration 3\t time lapse 0.53226s\t ll change 0.01882\n",
      "  Iteration 4\t time lapse 0.59591s\t ll change 0.01110\n",
      "  Iteration 5\t time lapse 0.54197s\t ll change 0.00776\n",
      "  Iteration 6\t time lapse 0.55352s\t ll change 0.00596\n",
      "  Iteration 7\t time lapse 0.54930s\t ll change 0.00486\n",
      "  Iteration 8\t time lapse 0.56528s\t ll change 0.00413\n",
      "  Iteration 9\t time lapse 0.55243s\t ll change 0.00362\n",
      "  Iteration 10\t time lapse 0.55322s\t ll change 0.00325\n",
      "  Iteration 11\t time lapse 0.55094s\t ll change 0.00297\n",
      "  Iteration 12\t time lapse 0.51532s\t ll change 0.00276\n",
      "  Iteration 13\t time lapse 0.59877s\t ll change 0.00259\n",
      "  Iteration 14\t time lapse 0.53249s\t ll change 0.00243\n",
      "  Iteration 15\t time lapse 0.53367s\t ll change 0.00229\n",
      "Initialization converged: False\t time lapse 9.29397s\t ll -27.15209\n"
     ]
    },
    {
     "name": "stderr",
     "output_type": "stream",
     "text": [
      "/home/av/.local/lib/python3.10/site-packages/sklearn/mixture/_base.py:274: ConvergenceWarning: Initialization 1 did not converge. Try different init parameters, or increase max_iter, tol or check for degenerate data.\n",
      "  warnings.warn(\n"
     ]
    },
    {
     "name": "stdout",
     "output_type": "stream",
     "text": [
      "Initialization 0\n",
      "  Iteration 1\t time lapse 1.69098s\t ll change inf\n",
      "  Iteration 2\t time lapse 0.67275s\t ll change 1.24643\n",
      "  Iteration 3\t time lapse 0.65698s\t ll change 0.01845\n",
      "  Iteration 4\t time lapse 0.66342s\t ll change 0.01146\n",
      "  Iteration 5\t time lapse 0.65429s\t ll change 0.00832\n",
      "  Iteration 6\t time lapse 0.68099s\t ll change 0.00642\n",
      "  Iteration 7\t time lapse 0.67744s\t ll change 0.00514\n",
      "  Iteration 8\t time lapse 0.64768s\t ll change 0.00426\n",
      "  Iteration 9\t time lapse 0.66756s\t ll change 0.00370\n",
      "  Iteration 10\t time lapse 0.63808s\t ll change 0.00336\n",
      "  Iteration 11\t time lapse 0.63422s\t ll change 0.00315\n",
      "  Iteration 12\t time lapse 0.60847s\t ll change 0.00302\n",
      "  Iteration 13\t time lapse 0.64502s\t ll change 0.00290\n",
      "  Iteration 14\t time lapse 0.67284s\t ll change 0.00277\n",
      "  Iteration 15\t time lapse 0.62852s\t ll change 0.00263\n",
      "Initialization converged: False\t time lapse 10.83963s\t ll -27.36956\n"
     ]
    },
    {
     "name": "stderr",
     "output_type": "stream",
     "text": [
      "/home/av/.local/lib/python3.10/site-packages/sklearn/mixture/_base.py:274: ConvergenceWarning: Initialization 1 did not converge. Try different init parameters, or increase max_iter, tol or check for degenerate data.\n",
      "  warnings.warn(\n"
     ]
    },
    {
     "name": "stdout",
     "output_type": "stream",
     "text": [
      "Initialization 0\n",
      "  Iteration 1\t time lapse 1.61248s\t ll change inf\n",
      "  Iteration 2\t time lapse 0.65149s\t ll change 1.25482\n",
      "  Iteration 3\t time lapse 0.65979s\t ll change 0.02164\n",
      "  Iteration 4\t time lapse 0.66081s\t ll change 0.01393\n",
      "  Iteration 5\t time lapse 0.65459s\t ll change 0.01037\n",
      "  Iteration 6\t time lapse 0.69353s\t ll change 0.00851\n",
      "  Iteration 7\t time lapse 0.66984s\t ll change 0.00756\n",
      "  Iteration 8\t time lapse 0.61828s\t ll change 0.00696\n",
      "  Iteration 9\t time lapse 0.65798s\t ll change 0.00623\n",
      "  Iteration 10\t time lapse 0.68255s\t ll change 0.00521\n",
      "  Iteration 11\t time lapse 0.63408s\t ll change 0.00407\n",
      "  Iteration 12\t time lapse 0.63975s\t ll change 0.00306\n",
      "  Iteration 13\t time lapse 0.75656s\t ll change 0.00229\n",
      "  Iteration 14\t time lapse 0.68214s\t ll change 0.00176\n",
      "  Iteration 15\t time lapse 0.75184s\t ll change 0.00140\n",
      "Initialization converged: False\t time lapse 11.02607s\t ll -27.80692\n"
     ]
    },
    {
     "name": "stderr",
     "output_type": "stream",
     "text": [
      "/home/av/.local/lib/python3.10/site-packages/sklearn/mixture/_base.py:274: ConvergenceWarning: Initialization 1 did not converge. Try different init parameters, or increase max_iter, tol or check for degenerate data.\n",
      "  warnings.warn(\n"
     ]
    },
    {
     "name": "stdout",
     "output_type": "stream",
     "text": [
      "Initialization 0\n",
      "  Iteration 1\t time lapse 2.33304s\t ll change inf\n",
      "  Iteration 2\t time lapse 0.52948s\t ll change 1.38629\n",
      "  Iteration 3\t time lapse 0.59784s\t ll change 0.02270\n",
      "  Iteration 4\t time lapse 0.54882s\t ll change 0.01556\n",
      "  Iteration 5\t time lapse 0.57425s\t ll change 0.01240\n",
      "  Iteration 6\t time lapse 0.56480s\t ll change 0.01022\n",
      "  Iteration 7\t time lapse 0.54365s\t ll change 0.00848\n",
      "  Iteration 8\t time lapse 0.56702s\t ll change 0.00719\n",
      "  Iteration 9\t time lapse 0.52688s\t ll change 0.00624\n",
      "  Iteration 10\t time lapse 0.54846s\t ll change 0.00547\n",
      "  Iteration 11\t time lapse 0.52520s\t ll change 0.00476\n",
      "  Iteration 12\t time lapse 0.59313s\t ll change 0.00406\n",
      "  Iteration 13\t time lapse 0.57618s\t ll change 0.00340\n",
      "  Iteration 14\t time lapse 0.53500s\t ll change 0.00277\n",
      "  Iteration 15\t time lapse 0.54996s\t ll change 0.00222\n",
      "Initialization converged: False\t time lapse 10.11381s\t ll -27.31519\n"
     ]
    },
    {
     "name": "stderr",
     "output_type": "stream",
     "text": [
      "/home/av/.local/lib/python3.10/site-packages/sklearn/mixture/_base.py:274: ConvergenceWarning: Initialization 1 did not converge. Try different init parameters, or increase max_iter, tol or check for degenerate data.\n",
      "  warnings.warn(\n"
     ]
    },
    {
     "name": "stdout",
     "output_type": "stream",
     "text": [
      "Initialization 0\n",
      "  Iteration 1\t time lapse 1.60559s\t ll change inf\n",
      "  Iteration 2\t time lapse 0.52042s\t ll change 1.65469\n",
      "  Iteration 3\t time lapse 0.55317s\t ll change 0.02010\n",
      "  Iteration 4\t time lapse 0.51494s\t ll change 0.01308\n",
      "  Iteration 5\t time lapse 0.55257s\t ll change 0.00989\n",
      "  Iteration 6\t time lapse 0.51340s\t ll change 0.00793\n",
      "  Iteration 7\t time lapse 0.60432s\t ll change 0.00651\n",
      "  Iteration 8\t time lapse 0.53316s\t ll change 0.00541\n",
      "  Iteration 9\t time lapse 0.52449s\t ll change 0.00457\n",
      "  Iteration 10\t time lapse 0.58788s\t ll change 0.00394\n",
      "  Iteration 11\t time lapse 0.73113s\t ll change 0.00347\n",
      "  Iteration 12\t time lapse 0.69325s\t ll change 0.00310\n",
      "  Iteration 13\t time lapse 0.69222s\t ll change 0.00279\n",
      "  Iteration 14\t time lapse 0.76155s\t ll change 0.00253\n",
      "  Iteration 15\t time lapse 0.61075s\t ll change 0.00228\n",
      "Initialization converged: False\t time lapse 9.99922s\t ll -26.91401\n"
     ]
    },
    {
     "name": "stderr",
     "output_type": "stream",
     "text": [
      "/home/av/.local/lib/python3.10/site-packages/sklearn/mixture/_base.py:274: ConvergenceWarning: Initialization 1 did not converge. Try different init parameters, or increase max_iter, tol or check for degenerate data.\n",
      "  warnings.warn(\n"
     ]
    },
    {
     "name": "stdout",
     "output_type": "stream",
     "text": [
      "Initialization 0\n",
      "  Iteration 1\t time lapse 2.05690s\t ll change inf\n",
      "  Iteration 2\t time lapse 0.60012s\t ll change 0.05522\n",
      "  Iteration 3\t time lapse 0.56752s\t ll change 0.02178\n",
      "  Iteration 4\t time lapse 0.53922s\t ll change 0.01451\n",
      "  Iteration 5\t time lapse 0.62459s\t ll change 0.01135\n",
      "  Iteration 6\t time lapse 0.55018s\t ll change 0.00941\n",
      "  Iteration 7\t time lapse 0.59219s\t ll change 0.00800\n",
      "  Iteration 8\t time lapse 0.59103s\t ll change 0.00689\n",
      "  Iteration 9\t time lapse 0.55583s\t ll change 0.00592\n",
      "  Iteration 10\t time lapse 0.59334s\t ll change 0.00503\n",
      "  Iteration 11\t time lapse 0.55348s\t ll change 0.00424\n",
      "  Iteration 12\t time lapse 0.58620s\t ll change 0.00357\n",
      "  Iteration 13\t time lapse 0.54096s\t ll change 0.00300\n",
      "  Iteration 14\t time lapse 0.58539s\t ll change 0.00252\n",
      "  Iteration 15\t time lapse 0.56925s\t ll change 0.00212\n",
      "Initialization converged: False\t time lapse 10.10655s\t ll -27.33935\n"
     ]
    },
    {
     "name": "stderr",
     "output_type": "stream",
     "text": [
      "/home/av/.local/lib/python3.10/site-packages/sklearn/mixture/_base.py:274: ConvergenceWarning: Initialization 1 did not converge. Try different init parameters, or increase max_iter, tol or check for degenerate data.\n",
      "  warnings.warn(\n",
      "100%|██████████| 600/600 [00:19<00:00, 30.05it/s]\n",
      "/home/av/IST/slp-labs/LAB2/pf_tools.py:89: UserWarning: The feature directory already exists, and no new feature extraction will be performed.\n",
      "  warnings.warn(\"The feature directory already exists, and no new feature extraction will be performed.\")\n"
     ]
    },
    {
     "name": "stdout",
     "output_type": "stream",
     "text": [
      "Accuracy Score: 0.655\n",
      "Combination 42\n",
      "Initialization 0\n",
      "  Iteration 1\t time lapse 3.76332s\t ll change inf\n",
      "  Iteration 2\t time lapse 0.97743s\t ll change 1.39717\n",
      "  Iteration 3\t time lapse 0.96792s\t ll change 0.01811\n",
      "  Iteration 4\t time lapse 0.96035s\t ll change 0.00985\n",
      "  Iteration 5\t time lapse 0.93220s\t ll change 0.00663\n",
      "  Iteration 6\t time lapse 0.91611s\t ll change 0.00507\n",
      "  Iteration 7\t time lapse 1.01220s\t ll change 0.00422\n",
      "  Iteration 8\t time lapse 0.99609s\t ll change 0.00377\n",
      "  Iteration 9\t time lapse 0.98470s\t ll change 0.00353\n",
      "  Iteration 10\t time lapse 1.03760s\t ll change 0.00340\n",
      "  Iteration 11\t time lapse 0.98940s\t ll change 0.00329\n",
      "  Iteration 12\t time lapse 0.99504s\t ll change 0.00315\n",
      "  Iteration 13\t time lapse 0.98706s\t ll change 0.00295\n",
      "  Iteration 14\t time lapse 0.99561s\t ll change 0.00272\n",
      "  Iteration 15\t time lapse 0.97656s\t ll change 0.00248\n",
      "Initialization converged: False\t time lapse 17.49197s\t ll -27.05024\n"
     ]
    },
    {
     "name": "stderr",
     "output_type": "stream",
     "text": [
      "/home/av/.local/lib/python3.10/site-packages/sklearn/mixture/_base.py:274: ConvergenceWarning: Initialization 1 did not converge. Try different init parameters, or increase max_iter, tol or check for degenerate data.\n",
      "  warnings.warn(\n"
     ]
    },
    {
     "name": "stdout",
     "output_type": "stream",
     "text": [
      "Initialization 0\n",
      "  Iteration 1\t time lapse 4.00573s\t ll change inf\n",
      "  Iteration 2\t time lapse 1.02520s\t ll change 1.10783\n",
      "  Iteration 3\t time lapse 1.09954s\t ll change 0.01956\n",
      "  Iteration 4\t time lapse 1.23473s\t ll change 0.01178\n",
      "  Iteration 5\t time lapse 1.30787s\t ll change 0.00849\n",
      "  Iteration 6\t time lapse 1.21761s\t ll change 0.00656\n",
      "  Iteration 7\t time lapse 1.09617s\t ll change 0.00531\n",
      "  Iteration 8\t time lapse 1.05436s\t ll change 0.00447\n",
      "  Iteration 9\t time lapse 1.07280s\t ll change 0.00389\n",
      "  Iteration 10\t time lapse 1.14032s\t ll change 0.00349\n",
      "  Iteration 11\t time lapse 0.98216s\t ll change 0.00320\n",
      "  Iteration 12\t time lapse 1.03251s\t ll change 0.00298\n",
      "  Iteration 13\t time lapse 1.09234s\t ll change 0.00281\n",
      "  Iteration 14\t time lapse 1.00635s\t ll change 0.00268\n",
      "  Iteration 15\t time lapse 1.00038s\t ll change 0.00257\n",
      "Initialization converged: False\t time lapse 19.36819s\t ll -27.25628\n"
     ]
    },
    {
     "name": "stderr",
     "output_type": "stream",
     "text": [
      "/home/av/.local/lib/python3.10/site-packages/sklearn/mixture/_base.py:274: ConvergenceWarning: Initialization 1 did not converge. Try different init parameters, or increase max_iter, tol or check for degenerate data.\n",
      "  warnings.warn(\n"
     ]
    },
    {
     "name": "stdout",
     "output_type": "stream",
     "text": [
      "Initialization 0\n",
      "  Iteration 1\t time lapse 4.37362s\t ll change inf\n",
      "  Iteration 2\t time lapse 1.05315s\t ll change 1.20136\n",
      "  Iteration 3\t time lapse 1.03945s\t ll change 0.02362\n",
      "  Iteration 4\t time lapse 1.07088s\t ll change 0.01686\n",
      "  Iteration 5\t time lapse 1.10676s\t ll change 0.01364\n",
      "  Iteration 6\t time lapse 1.17124s\t ll change 0.01033\n",
      "  Iteration 7\t time lapse 1.07675s\t ll change 0.00711\n",
      "  Iteration 8\t time lapse 1.11977s\t ll change 0.00491\n",
      "  Iteration 9\t time lapse 1.19166s\t ll change 0.00363\n",
      "  Iteration 10\t time lapse 1.13477s\t ll change 0.00288\n",
      "  Iteration 11\t time lapse 1.12606s\t ll change 0.00240\n",
      "  Iteration 12\t time lapse 1.12435s\t ll change 0.00207\n",
      "  Iteration 13\t time lapse 1.07277s\t ll change 0.00183\n",
      "  Iteration 14\t time lapse 1.14150s\t ll change 0.00164\n",
      "  Iteration 15\t time lapse 1.06365s\t ll change 0.00147\n",
      "Initialization converged: False\t time lapse 19.86652s\t ll -27.68041\n"
     ]
    },
    {
     "name": "stderr",
     "output_type": "stream",
     "text": [
      "/home/av/.local/lib/python3.10/site-packages/sklearn/mixture/_base.py:274: ConvergenceWarning: Initialization 1 did not converge. Try different init parameters, or increase max_iter, tol or check for degenerate data.\n",
      "  warnings.warn(\n"
     ]
    },
    {
     "name": "stdout",
     "output_type": "stream",
     "text": [
      "Initialization 0\n",
      "  Iteration 1\t time lapse 3.60905s\t ll change inf\n",
      "  Iteration 2\t time lapse 1.03140s\t ll change 1.18191\n",
      "  Iteration 3\t time lapse 0.97422s\t ll change 0.02123\n",
      "  Iteration 4\t time lapse 0.99620s\t ll change 0.01322\n",
      "  Iteration 5\t time lapse 0.98541s\t ll change 0.01023\n",
      "  Iteration 6\t time lapse 0.97751s\t ll change 0.00852\n",
      "  Iteration 7\t time lapse 0.98059s\t ll change 0.00721\n",
      "  Iteration 8\t time lapse 1.01644s\t ll change 0.00621\n",
      "  Iteration 9\t time lapse 1.03157s\t ll change 0.00543\n",
      "  Iteration 10\t time lapse 0.98354s\t ll change 0.00476\n",
      "  Iteration 11\t time lapse 0.98448s\t ll change 0.00425\n",
      "  Iteration 12\t time lapse 0.97782s\t ll change 0.00392\n",
      "  Iteration 13\t time lapse 0.97265s\t ll change 0.00361\n",
      "  Iteration 14\t time lapse 1.03473s\t ll change 0.00330\n",
      "  Iteration 15\t time lapse 1.06827s\t ll change 0.00336\n",
      "Initialization converged: False\t time lapse 17.62398s\t ll -27.22897\n"
     ]
    },
    {
     "name": "stderr",
     "output_type": "stream",
     "text": [
      "/home/av/.local/lib/python3.10/site-packages/sklearn/mixture/_base.py:274: ConvergenceWarning: Initialization 1 did not converge. Try different init parameters, or increase max_iter, tol or check for degenerate data.\n",
      "  warnings.warn(\n"
     ]
    },
    {
     "name": "stdout",
     "output_type": "stream",
     "text": [
      "Initialization 0\n",
      "  Iteration 1\t time lapse 3.19757s\t ll change inf\n",
      "  Iteration 2\t time lapse 0.95686s\t ll change 1.53179\n",
      "  Iteration 3\t time lapse 0.92230s\t ll change 0.02188\n",
      "  Iteration 4\t time lapse 0.91716s\t ll change 0.01357\n",
      "  Iteration 5\t time lapse 1.07668s\t ll change 0.00997\n",
      "  Iteration 6\t time lapse 1.22606s\t ll change 0.00768\n",
      "  Iteration 7\t time lapse 1.22685s\t ll change 0.00600\n",
      "  Iteration 8\t time lapse 0.94261s\t ll change 0.00477\n",
      "  Iteration 9\t time lapse 0.89182s\t ll change 0.00387\n",
      "  Iteration 10\t time lapse 0.90959s\t ll change 0.00320\n",
      "  Iteration 11\t time lapse 0.96932s\t ll change 0.00269\n",
      "  Iteration 12\t time lapse 0.88910s\t ll change 0.00230\n",
      "  Iteration 13\t time lapse 0.90763s\t ll change 0.00201\n",
      "  Iteration 14\t time lapse 0.91294s\t ll change 0.00180\n",
      "  Iteration 15\t time lapse 0.89045s\t ll change 0.00165\n",
      "Initialization converged: False\t time lapse 16.83734s\t ll -26.83765\n"
     ]
    },
    {
     "name": "stderr",
     "output_type": "stream",
     "text": [
      "/home/av/.local/lib/python3.10/site-packages/sklearn/mixture/_base.py:274: ConvergenceWarning: Initialization 1 did not converge. Try different init parameters, or increase max_iter, tol or check for degenerate data.\n",
      "  warnings.warn(\n"
     ]
    },
    {
     "name": "stdout",
     "output_type": "stream",
     "text": [
      "Initialization 0\n",
      "  Iteration 1\t time lapse 3.15050s\t ll change inf\n",
      "  Iteration 2\t time lapse 0.99236s\t ll change 0.05817\n",
      "  Iteration 3\t time lapse 0.94584s\t ll change 0.01969\n",
      "  Iteration 4\t time lapse 0.98899s\t ll change 0.01143\n",
      "  Iteration 5\t time lapse 1.00620s\t ll change 0.00812\n",
      "  Iteration 6\t time lapse 1.00889s\t ll change 0.00638\n",
      "  Iteration 7\t time lapse 1.02946s\t ll change 0.00538\n",
      "  Iteration 8\t time lapse 0.98470s\t ll change 0.00471\n",
      "  Iteration 9\t time lapse 1.02255s\t ll change 0.00413\n",
      "  Iteration 10\t time lapse 1.05546s\t ll change 0.00364\n",
      "  Iteration 11\t time lapse 0.94801s\t ll change 0.00330\n",
      "  Iteration 12\t time lapse 0.99259s\t ll change 0.00311\n",
      "  Iteration 13\t time lapse 0.97350s\t ll change 0.00298\n",
      "  Iteration 14\t time lapse 0.99685s\t ll change 0.00280\n",
      "  Iteration 15\t time lapse 1.00801s\t ll change 0.00251\n",
      "Initialization converged: False\t time lapse 17.10431s\t ll -27.25173\n"
     ]
    },
    {
     "name": "stderr",
     "output_type": "stream",
     "text": [
      "/home/av/.local/lib/python3.10/site-packages/sklearn/mixture/_base.py:274: ConvergenceWarning: Initialization 1 did not converge. Try different init parameters, or increase max_iter, tol or check for degenerate data.\n",
      "  warnings.warn(\n",
      "100%|██████████| 600/600 [00:30<00:00, 19.97it/s]\n",
      "/home/av/IST/slp-labs/LAB2/pf_tools.py:89: UserWarning: The feature directory already exists, and no new feature extraction will be performed.\n",
      "  warnings.warn(\"The feature directory already exists, and no new feature extraction will be performed.\")\n"
     ]
    },
    {
     "name": "stdout",
     "output_type": "stream",
     "text": [
      "Accuracy Score: 0.6683333333333333\n",
      "Combination 43\n",
      "Initialization 0\n",
      "  Iteration 1\t time lapse 1.29699s\t ll change inf\n",
      "  Iteration 2\t time lapse 0.39085s\t ll change 1.60010\n",
      "  Iteration 3\t time lapse 0.39508s\t ll change 0.02209\n",
      "  Iteration 4\t time lapse 0.37070s\t ll change 0.01410\n",
      "  Iteration 5\t time lapse 0.38752s\t ll change 0.00945\n",
      "  Iteration 6\t time lapse 0.32827s\t ll change 0.00652\n",
      "  Iteration 7\t time lapse 0.32501s\t ll change 0.00470\n",
      "  Iteration 8\t time lapse 0.34708s\t ll change 0.00356\n",
      "  Iteration 9\t time lapse 0.33439s\t ll change 0.00283\n",
      "  Iteration 10\t time lapse 0.32085s\t ll change 0.00234\n",
      "  Iteration 11\t time lapse 0.34533s\t ll change 0.00198\n",
      "  Iteration 12\t time lapse 0.35791s\t ll change 0.00171\n",
      "  Iteration 13\t time lapse 0.33149s\t ll change 0.00147\n",
      "  Iteration 14\t time lapse 0.34278s\t ll change 0.00126\n",
      "  Iteration 15\t time lapse 0.34879s\t ll change 0.00108\n",
      "Initialization converged: False\t time lapse 6.22312s\t ll -27.27256\n"
     ]
    },
    {
     "name": "stderr",
     "output_type": "stream",
     "text": [
      "/home/av/.local/lib/python3.10/site-packages/sklearn/mixture/_base.py:274: ConvergenceWarning: Initialization 1 did not converge. Try different init parameters, or increase max_iter, tol or check for degenerate data.\n",
      "  warnings.warn(\n"
     ]
    },
    {
     "name": "stdout",
     "output_type": "stream",
     "text": [
      "Initialization 0\n",
      "  Iteration 1\t time lapse 0.92214s\t ll change inf\n",
      "  Iteration 2\t time lapse 0.35419s\t ll change 1.31008\n",
      "  Iteration 3\t time lapse 0.40321s\t ll change 0.01478\n",
      "  Iteration 4\t time lapse 0.35500s\t ll change 0.00973\n",
      "  Iteration 5\t time lapse 0.36093s\t ll change 0.00755\n",
      "  Iteration 6\t time lapse 0.34957s\t ll change 0.00619\n",
      "  Iteration 7\t time lapse 0.35519s\t ll change 0.00516\n",
      "  Iteration 8\t time lapse 0.34351s\t ll change 0.00431\n",
      "  Iteration 9\t time lapse 0.35204s\t ll change 0.00361\n",
      "  Iteration 10\t time lapse 0.34245s\t ll change 0.00306\n",
      "  Iteration 11\t time lapse 0.34231s\t ll change 0.00265\n",
      "  Iteration 12\t time lapse 0.38144s\t ll change 0.00239\n",
      "  Iteration 13\t time lapse 0.34202s\t ll change 0.00226\n",
      "  Iteration 14\t time lapse 0.37302s\t ll change 0.00225\n",
      "  Iteration 15\t time lapse 0.39117s\t ll change 0.00233\n",
      "Initialization converged: False\t time lapse 5.96826s\t ll -27.53103\n"
     ]
    },
    {
     "name": "stderr",
     "output_type": "stream",
     "text": [
      "/home/av/.local/lib/python3.10/site-packages/sklearn/mixture/_base.py:274: ConvergenceWarning: Initialization 1 did not converge. Try different init parameters, or increase max_iter, tol or check for degenerate data.\n",
      "  warnings.warn(\n"
     ]
    },
    {
     "name": "stdout",
     "output_type": "stream",
     "text": [
      "Initialization 0\n",
      "  Iteration 1\t time lapse 0.88677s\t ll change inf\n",
      "  Iteration 2\t time lapse 0.36982s\t ll change 1.46234\n",
      "  Iteration 3\t time lapse 0.40346s\t ll change 0.02235\n",
      "  Iteration 4\t time lapse 0.36442s\t ll change 0.01427\n",
      "  Iteration 5\t time lapse 0.38308s\t ll change 0.01061\n",
      "  Iteration 6\t time lapse 0.36248s\t ll change 0.00820\n",
      "  Iteration 7\t time lapse 0.39088s\t ll change 0.00629\n",
      "  Iteration 8\t time lapse 0.39941s\t ll change 0.00475\n",
      "  Iteration 9\t time lapse 0.36195s\t ll change 0.00357\n",
      "  Iteration 10\t time lapse 0.39784s\t ll change 0.00270\n",
      "  Iteration 11\t time lapse 0.41498s\t ll change 0.00207\n",
      "  Iteration 12\t time lapse 0.37924s\t ll change 0.00162\n",
      "  Iteration 13\t time lapse 0.37185s\t ll change 0.00128\n",
      "  Iteration 14\t time lapse 0.36915s\t ll change 0.00102\n",
      "  Iteration 15\t time lapse 0.36980s\t ll change 0.00083\n",
      "Initialization converged: True\t time lapse 6.22519s\t ll -27.97293\n",
      "Initialization 0\n",
      "  Iteration 1\t time lapse 0.83429s\t ll change inf\n",
      "  Iteration 2\t time lapse 0.35226s\t ll change 1.47380\n",
      "  Iteration 3\t time lapse 0.35913s\t ll change 0.02448\n",
      "  Iteration 4\t time lapse 0.33042s\t ll change 0.01677\n",
      "  Iteration 5\t time lapse 0.33601s\t ll change 0.01187\n",
      "  Iteration 6\t time lapse 0.34432s\t ll change 0.00837\n",
      "  Iteration 7\t time lapse 0.33900s\t ll change 0.00585\n",
      "  Iteration 8\t time lapse 0.34113s\t ll change 0.00406\n",
      "  Iteration 9\t time lapse 0.34702s\t ll change 0.00282\n",
      "  Iteration 10\t time lapse 0.34029s\t ll change 0.00197\n",
      "  Iteration 11\t time lapse 0.34422s\t ll change 0.00139\n",
      "  Iteration 12\t time lapse 0.34369s\t ll change 0.00100\n",
      "Initialization converged: True\t time lapse 4.61184s\t ll -27.43322\n",
      "Initialization 0\n",
      "  Iteration 1\t time lapse 0.94264s\t ll change inf\n",
      "  Iteration 2\t time lapse 0.32807s\t ll change 1.80717\n",
      "  Iteration 3\t time lapse 0.33904s\t ll change 0.02275\n",
      "  Iteration 4\t time lapse 0.32511s\t ll change 0.01587\n",
      "  Iteration 5\t time lapse 0.32012s\t ll change 0.01237\n",
      "  Iteration 6\t time lapse 0.33377s\t ll change 0.01002\n",
      "  Iteration 7\t time lapse 0.32458s\t ll change 0.00811\n",
      "  Iteration 8\t time lapse 0.32030s\t ll change 0.00643\n",
      "  Iteration 9\t time lapse 0.34940s\t ll change 0.00496\n",
      "  Iteration 10\t time lapse 0.32439s\t ll change 0.00373\n",
      "  Iteration 11\t time lapse 0.31291s\t ll change 0.00274\n",
      "  Iteration 12\t time lapse 0.34205s\t ll change 0.00199\n",
      "  Iteration 13\t time lapse 0.31751s\t ll change 0.00144\n",
      "  Iteration 14\t time lapse 0.31463s\t ll change 0.00105\n",
      "  Iteration 15\t time lapse 0.31772s\t ll change 0.00079\n",
      "Initialization converged: True\t time lapse 5.51231s\t ll -27.00390\n",
      "Initialization 0\n",
      "  Iteration 1\t time lapse 0.79874s\t ll change inf\n",
      "  Iteration 2\t time lapse 0.33502s\t ll change 1.12131\n",
      "  Iteration 3\t time lapse 0.33944s\t ll change 0.01524\n",
      "  Iteration 4\t time lapse 0.34617s\t ll change 0.01001\n",
      "  Iteration 5\t time lapse 0.33161s\t ll change 0.00830\n",
      "  Iteration 6\t time lapse 0.33351s\t ll change 0.00782\n",
      "  Iteration 7\t time lapse 0.34769s\t ll change 0.00796\n",
      "  Iteration 8\t time lapse 0.32881s\t ll change 0.00834\n",
      "  Iteration 9\t time lapse 0.33226s\t ll change 0.00830\n",
      "  Iteration 10\t time lapse 0.33350s\t ll change 0.00728\n",
      "  Iteration 11\t time lapse 0.33367s\t ll change 0.00557\n",
      "  Iteration 12\t time lapse 0.33070s\t ll change 0.00393\n",
      "  Iteration 13\t time lapse 0.33589s\t ll change 0.00272\n",
      "  Iteration 14\t time lapse 0.32281s\t ll change 0.00194\n",
      "  Iteration 15\t time lapse 0.31728s\t ll change 0.00145\n",
      "Initialization converged: False\t time lapse 5.46716s\t ll -27.47487\n"
     ]
    },
    {
     "name": "stderr",
     "output_type": "stream",
     "text": [
      "/home/av/.local/lib/python3.10/site-packages/sklearn/mixture/_base.py:274: ConvergenceWarning: Initialization 1 did not converge. Try different init parameters, or increase max_iter, tol or check for degenerate data.\n",
      "  warnings.warn(\n",
      "100%|██████████| 600/600 [00:12<00:00, 47.47it/s]\n",
      "/home/av/IST/slp-labs/LAB2/pf_tools.py:89: UserWarning: The feature directory already exists, and no new feature extraction will be performed.\n",
      "  warnings.warn(\"The feature directory already exists, and no new feature extraction will be performed.\")\n"
     ]
    },
    {
     "name": "stdout",
     "output_type": "stream",
     "text": [
      "Accuracy Score: 0.5966666666666667\n",
      "Combination 44\n",
      "Initialization 0\n",
      "  Iteration 1\t time lapse 1.54127s\t ll change inf\n",
      "  Iteration 2\t time lapse 0.56737s\t ll change 1.43547\n",
      "  Iteration 3\t time lapse 0.60235s\t ll change 0.01900\n",
      "  Iteration 4\t time lapse 0.58551s\t ll change 0.01154\n",
      "  Iteration 5\t time lapse 0.55761s\t ll change 0.00810\n",
      "  Iteration 6\t time lapse 0.55872s\t ll change 0.00609\n",
      "  Iteration 7\t time lapse 0.55474s\t ll change 0.00484\n",
      "  Iteration 8\t time lapse 0.57068s\t ll change 0.00404\n",
      "  Iteration 9\t time lapse 0.59691s\t ll change 0.00348\n",
      "  Iteration 10\t time lapse 0.59592s\t ll change 0.00305\n",
      "  Iteration 11\t time lapse 0.60771s\t ll change 0.00272\n",
      "  Iteration 12\t time lapse 0.56416s\t ll change 0.00247\n",
      "  Iteration 13\t time lapse 0.54758s\t ll change 0.00225\n",
      "  Iteration 14\t time lapse 0.53686s\t ll change 0.00205\n",
      "  Iteration 15\t time lapse 0.56031s\t ll change 0.00187\n",
      "Initialization converged: False\t time lapse 9.54780s\t ll -27.15604\n"
     ]
    },
    {
     "name": "stderr",
     "output_type": "stream",
     "text": [
      "/home/av/.local/lib/python3.10/site-packages/sklearn/mixture/_base.py:274: ConvergenceWarning: Initialization 1 did not converge. Try different init parameters, or increase max_iter, tol or check for degenerate data.\n",
      "  warnings.warn(\n"
     ]
    },
    {
     "name": "stdout",
     "output_type": "stream",
     "text": [
      "Initialization 0\n",
      "  Iteration 1\t time lapse 2.06956s\t ll change inf\n",
      "  Iteration 2\t time lapse 0.75652s\t ll change 1.21401\n",
      "  Iteration 3\t time lapse 0.71946s\t ll change 0.02123\n",
      "  Iteration 4\t time lapse 0.63116s\t ll change 0.01533\n",
      "  Iteration 5\t time lapse 0.66302s\t ll change 0.01262\n",
      "  Iteration 6\t time lapse 0.67442s\t ll change 0.01067\n",
      "  Iteration 7\t time lapse 0.68089s\t ll change 0.00904\n",
      "  Iteration 8\t time lapse 0.65181s\t ll change 0.00766\n",
      "  Iteration 9\t time lapse 0.67708s\t ll change 0.00645\n",
      "  Iteration 10\t time lapse 0.60634s\t ll change 0.00531\n",
      "  Iteration 11\t time lapse 0.65055s\t ll change 0.00423\n",
      "  Iteration 12\t time lapse 0.62270s\t ll change 0.00332\n",
      "  Iteration 13\t time lapse 0.65187s\t ll change 0.00262\n",
      "  Iteration 14\t time lapse 0.62859s\t ll change 0.00212\n",
      "  Iteration 15\t time lapse 0.63047s\t ll change 0.00175\n",
      "Initialization converged: False\t time lapse 11.31486s\t ll -27.35665\n"
     ]
    },
    {
     "name": "stderr",
     "output_type": "stream",
     "text": [
      "/home/av/.local/lib/python3.10/site-packages/sklearn/mixture/_base.py:274: ConvergenceWarning: Initialization 1 did not converge. Try different init parameters, or increase max_iter, tol or check for degenerate data.\n",
      "  warnings.warn(\n"
     ]
    },
    {
     "name": "stdout",
     "output_type": "stream",
     "text": [
      "Initialization 0\n",
      "  Iteration 1\t time lapse 2.41422s\t ll change inf\n",
      "  Iteration 2\t time lapse 0.67307s\t ll change 1.24345\n",
      "  Iteration 3\t time lapse 0.66597s\t ll change 0.02212\n",
      "  Iteration 4\t time lapse 0.68341s\t ll change 0.01423\n",
      "  Iteration 5\t time lapse 0.67854s\t ll change 0.01041\n",
      "  Iteration 6\t time lapse 0.68590s\t ll change 0.00809\n",
      "  Iteration 7\t time lapse 0.67891s\t ll change 0.00653\n",
      "  Iteration 8\t time lapse 0.68625s\t ll change 0.00541\n",
      "  Iteration 9\t time lapse 0.69875s\t ll change 0.00455\n",
      "  Iteration 10\t time lapse 0.67837s\t ll change 0.00387\n",
      "  Iteration 11\t time lapse 0.68494s\t ll change 0.00332\n",
      "  Iteration 12\t time lapse 0.70532s\t ll change 0.00291\n",
      "  Iteration 13\t time lapse 0.81092s\t ll change 0.00264\n",
      "  Iteration 14\t time lapse 0.94998s\t ll change 0.00249\n",
      "  Iteration 15\t time lapse 0.62874s\t ll change 0.00243\n",
      "Initialization converged: False\t time lapse 12.32340s\t ll -27.81395\n"
     ]
    },
    {
     "name": "stderr",
     "output_type": "stream",
     "text": [
      "/home/av/.local/lib/python3.10/site-packages/sklearn/mixture/_base.py:274: ConvergenceWarning: Initialization 1 did not converge. Try different init parameters, or increase max_iter, tol or check for degenerate data.\n",
      "  warnings.warn(\n"
     ]
    },
    {
     "name": "stdout",
     "output_type": "stream",
     "text": [
      "Initialization 0\n",
      "  Iteration 1\t time lapse 1.65528s\t ll change inf\n",
      "  Iteration 2\t time lapse 0.56846s\t ll change 1.39740\n",
      "  Iteration 3\t time lapse 0.60345s\t ll change 0.02498\n",
      "  Iteration 4\t time lapse 0.54978s\t ll change 0.01704\n",
      "  Iteration 5\t time lapse 0.60976s\t ll change 0.01293\n",
      "  Iteration 6\t time lapse 0.54907s\t ll change 0.00998\n",
      "  Iteration 7\t time lapse 0.55756s\t ll change 0.00774\n",
      "  Iteration 8\t time lapse 0.54879s\t ll change 0.00618\n",
      "  Iteration 9\t time lapse 0.55933s\t ll change 0.00514\n",
      "  Iteration 10\t time lapse 0.57078s\t ll change 0.00446\n",
      "  Iteration 11\t time lapse 0.55960s\t ll change 0.00401\n",
      "  Iteration 12\t time lapse 0.56577s\t ll change 0.00371\n",
      "  Iteration 13\t time lapse 0.52404s\t ll change 0.00354\n",
      "  Iteration 14\t time lapse 0.60646s\t ll change 0.00349\n",
      "  Iteration 15\t time lapse 0.56986s\t ll change 0.00347\n",
      "Initialization converged: False\t time lapse 9.59811s\t ll -27.31867\n"
     ]
    },
    {
     "name": "stderr",
     "output_type": "stream",
     "text": [
      "/home/av/.local/lib/python3.10/site-packages/sklearn/mixture/_base.py:274: ConvergenceWarning: Initialization 1 did not converge. Try different init parameters, or increase max_iter, tol or check for degenerate data.\n",
      "  warnings.warn(\n"
     ]
    },
    {
     "name": "stdout",
     "output_type": "stream",
     "text": [
      "Initialization 0\n",
      "  Iteration 1\t time lapse 1.49262s\t ll change inf\n",
      "  Iteration 2\t time lapse 0.51148s\t ll change 1.62296\n",
      "  Iteration 3\t time lapse 0.52874s\t ll change 0.02039\n",
      "  Iteration 4\t time lapse 0.55883s\t ll change 0.01377\n",
      "  Iteration 5\t time lapse 0.54311s\t ll change 0.01103\n",
      "  Iteration 6\t time lapse 0.52276s\t ll change 0.00943\n",
      "  Iteration 7\t time lapse 0.55220s\t ll change 0.00803\n",
      "  Iteration 8\t time lapse 0.54201s\t ll change 0.00661\n",
      "  Iteration 9\t time lapse 0.53297s\t ll change 0.00525\n",
      "  Iteration 10\t time lapse 0.50345s\t ll change 0.00407\n",
      "  Iteration 11\t time lapse 0.54906s\t ll change 0.00313\n",
      "  Iteration 12\t time lapse 0.50554s\t ll change 0.00242\n",
      "  Iteration 13\t time lapse 0.54850s\t ll change 0.00192\n",
      "  Iteration 14\t time lapse 0.54478s\t ll change 0.00158\n",
      "  Iteration 15\t time lapse 0.53530s\t ll change 0.00134\n",
      "Initialization converged: False\t time lapse 8.97170s\t ll -26.90658\n"
     ]
    },
    {
     "name": "stderr",
     "output_type": "stream",
     "text": [
      "/home/av/.local/lib/python3.10/site-packages/sklearn/mixture/_base.py:274: ConvergenceWarning: Initialization 1 did not converge. Try different init parameters, or increase max_iter, tol or check for degenerate data.\n",
      "  warnings.warn(\n"
     ]
    },
    {
     "name": "stdout",
     "output_type": "stream",
     "text": [
      "Initialization 0\n",
      "  Iteration 1\t time lapse 1.79783s\t ll change inf\n",
      "  Iteration 2\t time lapse 0.60561s\t ll change 0.05523\n",
      "  Iteration 3\t time lapse 0.59799s\t ll change 0.02177\n",
      "  Iteration 4\t time lapse 0.56542s\t ll change 0.01451\n",
      "  Iteration 5\t time lapse 0.57072s\t ll change 0.01135\n",
      "  Iteration 6\t time lapse 0.60856s\t ll change 0.00941\n",
      "  Iteration 7\t time lapse 0.58932s\t ll change 0.00801\n",
      "  Iteration 8\t time lapse 0.54041s\t ll change 0.00690\n",
      "  Iteration 9\t time lapse 0.56898s\t ll change 0.00593\n",
      "  Iteration 10\t time lapse 0.58001s\t ll change 0.00504\n",
      "  Iteration 11\t time lapse 0.56792s\t ll change 0.00425\n",
      "  Iteration 12\t time lapse 0.54551s\t ll change 0.00358\n",
      "  Iteration 13\t time lapse 0.58231s\t ll change 0.00301\n",
      "  Iteration 14\t time lapse 0.60650s\t ll change 0.00253\n",
      "  Iteration 15\t time lapse 0.56963s\t ll change 0.00212\n",
      "Initialization converged: False\t time lapse 9.89711s\t ll -27.33916\n"
     ]
    },
    {
     "name": "stderr",
     "output_type": "stream",
     "text": [
      "/home/av/.local/lib/python3.10/site-packages/sklearn/mixture/_base.py:274: ConvergenceWarning: Initialization 1 did not converge. Try different init parameters, or increase max_iter, tol or check for degenerate data.\n",
      "  warnings.warn(\n",
      "100%|██████████| 600/600 [00:22<00:00, 27.26it/s]\n",
      "/home/av/IST/slp-labs/LAB2/pf_tools.py:89: UserWarning: The feature directory already exists, and no new feature extraction will be performed.\n",
      "  warnings.warn(\"The feature directory already exists, and no new feature extraction will be performed.\")\n"
     ]
    },
    {
     "name": "stdout",
     "output_type": "stream",
     "text": [
      "Accuracy Score: 0.6416666666666667\n",
      "Combination 45\n",
      "Initialization 0\n",
      "  Iteration 1\t time lapse 3.89895s\t ll change inf\n",
      "  Iteration 2\t time lapse 1.06425s\t ll change 1.37772\n",
      "  Iteration 3\t time lapse 0.97167s\t ll change 0.01789\n",
      "  Iteration 4\t time lapse 0.96591s\t ll change 0.00992\n",
      "  Iteration 5\t time lapse 0.96130s\t ll change 0.00680\n",
      "  Iteration 6\t time lapse 0.99757s\t ll change 0.00533\n",
      "  Iteration 7\t time lapse 1.05644s\t ll change 0.00460\n",
      "  Iteration 8\t time lapse 1.04740s\t ll change 0.00425\n",
      "  Iteration 9\t time lapse 0.95149s\t ll change 0.00406\n",
      "  Iteration 10\t time lapse 0.99386s\t ll change 0.00390\n",
      "  Iteration 11\t time lapse 0.98766s\t ll change 0.00371\n",
      "  Iteration 12\t time lapse 1.02387s\t ll change 0.00347\n",
      "  Iteration 13\t time lapse 0.98394s\t ll change 0.00316\n",
      "  Iteration 14\t time lapse 1.02392s\t ll change 0.00281\n",
      "  Iteration 15\t time lapse 1.02733s\t ll change 0.00245\n",
      "Initialization converged: False\t time lapse 17.95600s\t ll -27.05490\n"
     ]
    },
    {
     "name": "stderr",
     "output_type": "stream",
     "text": [
      "/home/av/.local/lib/python3.10/site-packages/sklearn/mixture/_base.py:274: ConvergenceWarning: Initialization 1 did not converge. Try different init parameters, or increase max_iter, tol or check for degenerate data.\n",
      "  warnings.warn(\n"
     ]
    },
    {
     "name": "stdout",
     "output_type": "stream",
     "text": [
      "Initialization 0\n",
      "  Iteration 1\t time lapse 3.96999s\t ll change inf\n",
      "  Iteration 2\t time lapse 0.99396s\t ll change 1.12165\n",
      "  Iteration 3\t time lapse 1.01973s\t ll change 0.01992\n",
      "  Iteration 4\t time lapse 1.02849s\t ll change 0.01187\n",
      "  Iteration 5\t time lapse 1.04169s\t ll change 0.00842\n",
      "  Iteration 6\t time lapse 0.99832s\t ll change 0.00653\n",
      "  Iteration 7\t time lapse 1.05684s\t ll change 0.00534\n",
      "  Iteration 8\t time lapse 1.07096s\t ll change 0.00450\n",
      "  Iteration 9\t time lapse 1.01235s\t ll change 0.00389\n",
      "  Iteration 10\t time lapse 0.98503s\t ll change 0.00341\n",
      "  Iteration 11\t time lapse 0.99948s\t ll change 0.00303\n",
      "  Iteration 12\t time lapse 0.99437s\t ll change 0.00271\n",
      "  Iteration 13\t time lapse 1.00703s\t ll change 0.00245\n",
      "  Iteration 14\t time lapse 1.05470s\t ll change 0.00222\n",
      "  Iteration 15\t time lapse 1.05644s\t ll change 0.00203\n",
      "Initialization converged: False\t time lapse 18.28981s\t ll -27.25776\n"
     ]
    },
    {
     "name": "stderr",
     "output_type": "stream",
     "text": [
      "/home/av/.local/lib/python3.10/site-packages/sklearn/mixture/_base.py:274: ConvergenceWarning: Initialization 1 did not converge. Try different init parameters, or increase max_iter, tol or check for degenerate data.\n",
      "  warnings.warn(\n"
     ]
    },
    {
     "name": "stdout",
     "output_type": "stream",
     "text": [
      "Initialization 0\n",
      "  Iteration 1\t time lapse 3.42503s\t ll change inf\n",
      "  Iteration 2\t time lapse 1.02050s\t ll change 1.18044\n",
      "  Iteration 3\t time lapse 1.36205s\t ll change 0.02380\n",
      "  Iteration 4\t time lapse 1.39557s\t ll change 0.01559\n",
      "  Iteration 5\t time lapse 1.12044s\t ll change 0.01123\n",
      "  Iteration 6\t time lapse 1.08576s\t ll change 0.00834\n",
      "  Iteration 7\t time lapse 1.17307s\t ll change 0.00651\n",
      "  Iteration 8\t time lapse 1.11990s\t ll change 0.00532\n",
      "  Iteration 9\t time lapse 1.09738s\t ll change 0.00448\n",
      "  Iteration 10\t time lapse 1.05470s\t ll change 0.00384\n",
      "  Iteration 11\t time lapse 1.16505s\t ll change 0.00334\n",
      "  Iteration 12\t time lapse 1.07192s\t ll change 0.00292\n",
      "  Iteration 13\t time lapse 1.04045s\t ll change 0.00256\n",
      "  Iteration 14\t time lapse 1.04253s\t ll change 0.00222\n",
      "  Iteration 15\t time lapse 1.12919s\t ll change 0.00191\n",
      "Initialization converged: False\t time lapse 19.30365s\t ll -27.68428\n"
     ]
    },
    {
     "name": "stderr",
     "output_type": "stream",
     "text": [
      "/home/av/.local/lib/python3.10/site-packages/sklearn/mixture/_base.py:274: ConvergenceWarning: Initialization 1 did not converge. Try different init parameters, or increase max_iter, tol or check for degenerate data.\n",
      "  warnings.warn(\n"
     ]
    },
    {
     "name": "stdout",
     "output_type": "stream",
     "text": [
      "Initialization 0\n",
      "  Iteration 1\t time lapse 3.30661s\t ll change inf\n",
      "  Iteration 2\t time lapse 0.93682s\t ll change 1.18039\n",
      "  Iteration 3\t time lapse 0.94132s\t ll change 0.01989\n",
      "  Iteration 4\t time lapse 1.00245s\t ll change 0.01160\n",
      "  Iteration 5\t time lapse 1.00775s\t ll change 0.00834\n",
      "  Iteration 6\t time lapse 0.95083s\t ll change 0.00692\n",
      "  Iteration 7\t time lapse 0.99164s\t ll change 0.00643\n",
      "  Iteration 8\t time lapse 0.95306s\t ll change 0.00646\n",
      "  Iteration 9\t time lapse 0.95215s\t ll change 0.00667\n",
      "  Iteration 10\t time lapse 0.92818s\t ll change 0.00666\n",
      "  Iteration 11\t time lapse 0.94928s\t ll change 0.00624\n",
      "  Iteration 12\t time lapse 0.97874s\t ll change 0.00562\n",
      "  Iteration 13\t time lapse 0.95663s\t ll change 0.00501\n",
      "  Iteration 14\t time lapse 0.96722s\t ll change 0.00447\n",
      "  Iteration 15\t time lapse 0.94723s\t ll change 0.00399\n",
      "Initialization converged: False\t time lapse 16.77003s\t ll -27.23595\n"
     ]
    },
    {
     "name": "stderr",
     "output_type": "stream",
     "text": [
      "/home/av/.local/lib/python3.10/site-packages/sklearn/mixture/_base.py:274: ConvergenceWarning: Initialization 1 did not converge. Try different init parameters, or increase max_iter, tol or check for degenerate data.\n",
      "  warnings.warn(\n"
     ]
    },
    {
     "name": "stdout",
     "output_type": "stream",
     "text": [
      "Initialization 0\n",
      "  Iteration 1\t time lapse 4.46340s\t ll change inf\n",
      "  Iteration 2\t time lapse 0.89409s\t ll change 1.53046\n",
      "  Iteration 3\t time lapse 0.90497s\t ll change 0.02067\n",
      "  Iteration 4\t time lapse 0.90634s\t ll change 0.01268\n",
      "  Iteration 5\t time lapse 0.98794s\t ll change 0.00942\n",
      "  Iteration 6\t time lapse 0.97296s\t ll change 0.00751\n",
      "  Iteration 7\t time lapse 0.91019s\t ll change 0.00608\n",
      "  Iteration 8\t time lapse 0.91027s\t ll change 0.00495\n",
      "  Iteration 9\t time lapse 0.96024s\t ll change 0.00407\n",
      "  Iteration 10\t time lapse 0.87874s\t ll change 0.00342\n",
      "  Iteration 11\t time lapse 0.89743s\t ll change 0.00292\n",
      "  Iteration 12\t time lapse 0.88675s\t ll change 0.00254\n",
      "  Iteration 13\t time lapse 0.90497s\t ll change 0.00226\n",
      "  Iteration 14\t time lapse 0.89551s\t ll change 0.00204\n",
      "  Iteration 15\t time lapse 0.88763s\t ll change 0.00189\n",
      "Initialization converged: False\t time lapse 17.26186s\t ll -26.83810\n"
     ]
    },
    {
     "name": "stderr",
     "output_type": "stream",
     "text": [
      "/home/av/.local/lib/python3.10/site-packages/sklearn/mixture/_base.py:274: ConvergenceWarning: Initialization 1 did not converge. Try different init parameters, or increase max_iter, tol or check for degenerate data.\n",
      "  warnings.warn(\n"
     ]
    },
    {
     "name": "stdout",
     "output_type": "stream",
     "text": [
      "Initialization 0\n",
      "  Iteration 1\t time lapse 3.28923s\t ll change inf\n",
      "  Iteration 2\t time lapse 0.92897s\t ll change 0.05796\n",
      "  Iteration 3\t time lapse 0.91902s\t ll change 0.01927\n",
      "  Iteration 4\t time lapse 0.98051s\t ll change 0.01098\n",
      "  Iteration 5\t time lapse 0.97290s\t ll change 0.00787\n",
      "  Iteration 6\t time lapse 0.95850s\t ll change 0.00638\n",
      "  Iteration 7\t time lapse 1.00025s\t ll change 0.00560\n",
      "  Iteration 8\t time lapse 0.92139s\t ll change 0.00519\n",
      "  Iteration 9\t time lapse 0.93583s\t ll change 0.00483\n",
      "  Iteration 10\t time lapse 0.97282s\t ll change 0.00440\n",
      "  Iteration 11\t time lapse 0.97960s\t ll change 0.00392\n",
      "  Iteration 12\t time lapse 1.01056s\t ll change 0.00344\n",
      "  Iteration 13\t time lapse 0.94001s\t ll change 0.00295\n",
      "  Iteration 14\t time lapse 1.00434s\t ll change 0.00249\n",
      "  Iteration 15\t time lapse 1.03945s\t ll change 0.00209\n",
      "Initialization converged: False\t time lapse 16.85379s\t ll -27.25239\n"
     ]
    },
    {
     "name": "stderr",
     "output_type": "stream",
     "text": [
      "/home/av/.local/lib/python3.10/site-packages/sklearn/mixture/_base.py:274: ConvergenceWarning: Initialization 1 did not converge. Try different init parameters, or increase max_iter, tol or check for degenerate data.\n",
      "  warnings.warn(\n",
      "100%|██████████| 600/600 [00:30<00:00, 19.62it/s]\n",
      "/home/av/IST/slp-labs/LAB2/pf_tools.py:89: UserWarning: The feature directory already exists, and no new feature extraction will be performed.\n",
      "  warnings.warn(\"The feature directory already exists, and no new feature extraction will be performed.\")\n"
     ]
    },
    {
     "name": "stdout",
     "output_type": "stream",
     "text": [
      "Accuracy Score: 0.6733333333333333\n",
      "Combination 46\n",
      "Initialization 0\n",
      "  Iteration 1\t time lapse 0.78280s\t ll change inf\n",
      "  Iteration 2\t time lapse 0.32822s\t ll change 1.59444\n",
      "  Iteration 3\t time lapse 0.34415s\t ll change 0.02216\n",
      "  Iteration 4\t time lapse 0.32002s\t ll change 0.01616\n",
      "  Iteration 5\t time lapse 0.32705s\t ll change 0.01177\n",
      "  Iteration 6\t time lapse 0.35274s\t ll change 0.00830\n",
      "  Iteration 7\t time lapse 0.32925s\t ll change 0.00592\n",
      "  Iteration 8\t time lapse 0.32538s\t ll change 0.00441\n",
      "  Iteration 9\t time lapse 0.35823s\t ll change 0.00345\n",
      "  Iteration 10\t time lapse 0.33035s\t ll change 0.00282\n",
      "  Iteration 11\t time lapse 0.32896s\t ll change 0.00239\n",
      "  Iteration 12\t time lapse 0.34551s\t ll change 0.00206\n",
      "  Iteration 13\t time lapse 0.31931s\t ll change 0.00179\n",
      "  Iteration 14\t time lapse 0.32582s\t ll change 0.00155\n",
      "  Iteration 15\t time lapse 0.34640s\t ll change 0.00133\n",
      "Initialization converged: False\t time lapse 5.46425s\t ll -27.27394\n"
     ]
    },
    {
     "name": "stderr",
     "output_type": "stream",
     "text": [
      "/home/av/.local/lib/python3.10/site-packages/sklearn/mixture/_base.py:274: ConvergenceWarning: Initialization 1 did not converge. Try different init parameters, or increase max_iter, tol or check for degenerate data.\n",
      "  warnings.warn(\n"
     ]
    },
    {
     "name": "stdout",
     "output_type": "stream",
     "text": [
      "Initialization 0\n",
      "  Iteration 1\t time lapse 1.07376s\t ll change inf\n",
      "  Iteration 2\t time lapse 0.36740s\t ll change 1.30756\n",
      "  Iteration 3\t time lapse 0.36871s\t ll change 0.01982\n",
      "  Iteration 4\t time lapse 0.36839s\t ll change 0.01262\n",
      "  Iteration 5\t time lapse 0.35664s\t ll change 0.00823\n",
      "  Iteration 6\t time lapse 0.40647s\t ll change 0.00559\n",
      "  Iteration 7\t time lapse 0.36236s\t ll change 0.00432\n",
      "  Iteration 8\t time lapse 0.37998s\t ll change 0.00404\n",
      "  Iteration 9\t time lapse 0.35650s\t ll change 0.00450\n",
      "  Iteration 10\t time lapse 0.35589s\t ll change 0.00553\n",
      "  Iteration 11\t time lapse 0.36712s\t ll change 0.00667\n",
      "  Iteration 12\t time lapse 0.36879s\t ll change 0.00723\n",
      "  Iteration 13\t time lapse 0.35422s\t ll change 0.00666\n",
      "  Iteration 14\t time lapse 0.35059s\t ll change 0.00520\n",
      "  Iteration 15\t time lapse 0.37651s\t ll change 0.00355\n",
      "Initialization converged: False\t time lapse 6.21340s\t ll -27.54461\n"
     ]
    },
    {
     "name": "stderr",
     "output_type": "stream",
     "text": [
      "/home/av/.local/lib/python3.10/site-packages/sklearn/mixture/_base.py:274: ConvergenceWarning: Initialization 1 did not converge. Try different init parameters, or increase max_iter, tol or check for degenerate data.\n",
      "  warnings.warn(\n"
     ]
    },
    {
     "name": "stdout",
     "output_type": "stream",
     "text": [
      "Initialization 0\n",
      "  Iteration 1\t time lapse 1.08644s\t ll change inf\n",
      "  Iteration 2\t time lapse 0.45727s\t ll change 1.44778\n",
      "  Iteration 3\t time lapse 0.40277s\t ll change 0.02240\n",
      "  Iteration 4\t time lapse 0.36547s\t ll change 0.01413\n",
      "  Iteration 5\t time lapse 0.39875s\t ll change 0.01045\n",
      "  Iteration 6\t time lapse 0.36196s\t ll change 0.00811\n",
      "  Iteration 7\t time lapse 0.41378s\t ll change 0.00627\n",
      "  Iteration 8\t time lapse 0.36947s\t ll change 0.00480\n",
      "  Iteration 9\t time lapse 0.38908s\t ll change 0.00366\n",
      "  Iteration 10\t time lapse 0.40764s\t ll change 0.00281\n",
      "  Iteration 11\t time lapse 0.35668s\t ll change 0.00219\n",
      "  Iteration 12\t time lapse 0.39285s\t ll change 0.00173\n",
      "  Iteration 13\t time lapse 0.39930s\t ll change 0.00139\n",
      "  Iteration 14\t time lapse 0.36994s\t ll change 0.00113\n",
      "  Iteration 15\t time lapse 0.36443s\t ll change 0.00092\n",
      "Initialization converged: True\t time lapse 6.53590s\t ll -27.97367\n",
      "Initialization 0\n",
      "  Iteration 1\t time lapse 1.02241s\t ll change inf\n",
      "  Iteration 2\t time lapse 0.39775s\t ll change 1.46647\n",
      "  Iteration 3\t time lapse 0.37858s\t ll change 0.02418\n",
      "  Iteration 4\t time lapse 0.35447s\t ll change 0.01673\n",
      "  Iteration 5\t time lapse 0.50038s\t ll change 0.01203\n",
      "  Iteration 6\t time lapse 0.34721s\t ll change 0.00862\n",
      "  Iteration 7\t time lapse 0.38171s\t ll change 0.00612\n",
      "  Iteration 8\t time lapse 0.33017s\t ll change 0.00431\n",
      "  Iteration 9\t time lapse 0.33311s\t ll change 0.00304\n",
      "  Iteration 10\t time lapse 0.34601s\t ll change 0.00217\n",
      "  Iteration 11\t time lapse 0.38127s\t ll change 0.00158\n",
      "  Iteration 12\t time lapse 0.32776s\t ll change 0.00117\n",
      "  Iteration 13\t time lapse 0.33951s\t ll change 0.00087\n",
      "Initialization converged: True\t time lapse 5.44040s\t ll -27.43320\n",
      "Initialization 0\n",
      "  Iteration 1\t time lapse 0.83258s\t ll change inf\n",
      "  Iteration 2\t time lapse 0.31166s\t ll change 1.79710\n",
      "  Iteration 3\t time lapse 0.31255s\t ll change 0.02269\n",
      "  Iteration 4\t time lapse 0.34309s\t ll change 0.01597\n",
      "  Iteration 5\t time lapse 0.31699s\t ll change 0.01250\n",
      "  Iteration 6\t time lapse 0.33253s\t ll change 0.01016\n",
      "  Iteration 7\t time lapse 0.34314s\t ll change 0.00829\n",
      "  Iteration 8\t time lapse 0.31875s\t ll change 0.00663\n",
      "  Iteration 9\t time lapse 0.31911s\t ll change 0.00515\n",
      "  Iteration 10\t time lapse 0.35338s\t ll change 0.00389\n",
      "  Iteration 11\t time lapse 0.31113s\t ll change 0.00287\n",
      "  Iteration 12\t time lapse 0.31962s\t ll change 0.00210\n",
      "  Iteration 13\t time lapse 0.33907s\t ll change 0.00154\n",
      "  Iteration 14\t time lapse 0.31334s\t ll change 0.00114\n",
      "  Iteration 15\t time lapse 0.32503s\t ll change 0.00086\n",
      "Initialization converged: True\t time lapse 5.39208s\t ll -27.00437\n",
      "Initialization 0\n",
      "  Iteration 1\t time lapse 1.11255s\t ll change inf\n",
      "  Iteration 2\t time lapse 0.31947s\t ll change 1.18807\n",
      "  Iteration 3\t time lapse 0.33813s\t ll change 0.01562\n",
      "  Iteration 4\t time lapse 0.32768s\t ll change 0.01049\n",
      "  Iteration 5\t time lapse 0.31789s\t ll change 0.00878\n",
      "  Iteration 6\t time lapse 0.32236s\t ll change 0.00821\n",
      "  Iteration 7\t time lapse 0.36801s\t ll change 0.00823\n",
      "  Iteration 8\t time lapse 0.31763s\t ll change 0.00846\n",
      "  Iteration 9\t time lapse 0.32836s\t ll change 0.00820\n",
      "  Iteration 10\t time lapse 0.34792s\t ll change 0.00691\n",
      "  Iteration 11\t time lapse 0.32209s\t ll change 0.00505\n",
      "  Iteration 12\t time lapse 0.32015s\t ll change 0.00343\n",
      "  Iteration 13\t time lapse 0.35764s\t ll change 0.00233\n",
      "  Iteration 14\t time lapse 0.32135s\t ll change 0.00166\n",
      "  Iteration 15\t time lapse 0.32180s\t ll change 0.00127\n",
      "Initialization converged: False\t time lapse 5.74308s\t ll -27.47386\n"
     ]
    },
    {
     "name": "stderr",
     "output_type": "stream",
     "text": [
      "/home/av/.local/lib/python3.10/site-packages/sklearn/mixture/_base.py:274: ConvergenceWarning: Initialization 1 did not converge. Try different init parameters, or increase max_iter, tol or check for degenerate data.\n",
      "  warnings.warn(\n",
      "100%|██████████| 600/600 [00:13<00:00, 45.17it/s]\n",
      "/home/av/IST/slp-labs/LAB2/pf_tools.py:89: UserWarning: The feature directory already exists, and no new feature extraction will be performed.\n",
      "  warnings.warn(\"The feature directory already exists, and no new feature extraction will be performed.\")\n"
     ]
    },
    {
     "name": "stdout",
     "output_type": "stream",
     "text": [
      "Accuracy Score: 0.6233333333333333\n",
      "Combination 47\n",
      "Initialization 0\n",
      "  Iteration 1\t time lapse 2.04620s\t ll change inf\n",
      "  Iteration 2\t time lapse 0.59922s\t ll change 1.48416\n",
      "  Iteration 3\t time lapse 0.63370s\t ll change 0.02039\n",
      "  Iteration 4\t time lapse 0.63333s\t ll change 0.01230\n",
      "  Iteration 5\t time lapse 0.56308s\t ll change 0.00839\n",
      "  Iteration 6\t time lapse 0.58744s\t ll change 0.00612\n",
      "  Iteration 7\t time lapse 0.58706s\t ll change 0.00472\n",
      "  Iteration 8\t time lapse 0.56405s\t ll change 0.00382\n",
      "  Iteration 9\t time lapse 0.60038s\t ll change 0.00321\n",
      "  Iteration 10\t time lapse 0.55043s\t ll change 0.00277\n",
      "  Iteration 11\t time lapse 0.61922s\t ll change 0.00242\n",
      "  Iteration 12\t time lapse 0.57513s\t ll change 0.00214\n",
      "  Iteration 13\t time lapse 0.56018s\t ll change 0.00190\n",
      "  Iteration 14\t time lapse 0.60545s\t ll change 0.00170\n",
      "  Iteration 15\t time lapse 0.57016s\t ll change 0.00153\n",
      "Initialization converged: False\t time lapse 10.29513s\t ll -27.15552\n"
     ]
    },
    {
     "name": "stderr",
     "output_type": "stream",
     "text": [
      "/home/av/.local/lib/python3.10/site-packages/sklearn/mixture/_base.py:274: ConvergenceWarning: Initialization 1 did not converge. Try different init parameters, or increase max_iter, tol or check for degenerate data.\n",
      "  warnings.warn(\n"
     ]
    },
    {
     "name": "stdout",
     "output_type": "stream",
     "text": [
      "Initialization 0\n",
      "  Iteration 1\t time lapse 2.05674s\t ll change inf\n",
      "  Iteration 2\t time lapse 0.64554s\t ll change 1.21370\n",
      "  Iteration 3\t time lapse 0.65446s\t ll change 0.01879\n",
      "  Iteration 4\t time lapse 0.66113s\t ll change 0.01179\n",
      "  Iteration 5\t time lapse 0.66945s\t ll change 0.00875\n",
      "  Iteration 6\t time lapse 0.60211s\t ll change 0.00703\n",
      "  Iteration 7\t time lapse 0.69602s\t ll change 0.00584\n",
      "  Iteration 8\t time lapse 0.60055s\t ll change 0.00489\n",
      "  Iteration 9\t time lapse 0.67582s\t ll change 0.00410\n",
      "  Iteration 10\t time lapse 0.68519s\t ll change 0.00349\n",
      "  Iteration 11\t time lapse 0.58931s\t ll change 0.00307\n",
      "  Iteration 12\t time lapse 0.64720s\t ll change 0.00283\n",
      "  Iteration 13\t time lapse 0.61880s\t ll change 0.00272\n",
      "  Iteration 14\t time lapse 0.64651s\t ll change 0.00269\n",
      "  Iteration 15\t time lapse 0.63672s\t ll change 0.00265\n",
      "Initialization converged: False\t time lapse 11.08597s\t ll -27.36762\n"
     ]
    },
    {
     "name": "stderr",
     "output_type": "stream",
     "text": [
      "/home/av/.local/lib/python3.10/site-packages/sklearn/mixture/_base.py:274: ConvergenceWarning: Initialization 1 did not converge. Try different init parameters, or increase max_iter, tol or check for degenerate data.\n",
      "  warnings.warn(\n"
     ]
    },
    {
     "name": "stdout",
     "output_type": "stream",
     "text": [
      "Initialization 0\n",
      "  Iteration 1\t time lapse 1.97985s\t ll change inf\n",
      "  Iteration 2\t time lapse 0.68305s\t ll change 1.25490\n",
      "  Iteration 3\t time lapse 0.74109s\t ll change 0.02161\n",
      "  Iteration 4\t time lapse 0.69508s\t ll change 0.01378\n",
      "  Iteration 5\t time lapse 0.68079s\t ll change 0.01003\n",
      "  Iteration 6\t time lapse 0.67938s\t ll change 0.00794\n",
      "  Iteration 7\t time lapse 0.75867s\t ll change 0.00680\n",
      "  Iteration 8\t time lapse 0.87643s\t ll change 0.00626\n",
      "  Iteration 9\t time lapse 0.89513s\t ll change 0.00596\n",
      "  Iteration 10\t time lapse 0.76797s\t ll change 0.00550\n",
      "  Iteration 11\t time lapse 0.76602s\t ll change 0.00473\n",
      "  Iteration 12\t time lapse 0.66581s\t ll change 0.00378\n",
      "  Iteration 13\t time lapse 0.66441s\t ll change 0.00289\n",
      "  Iteration 14\t time lapse 0.64196s\t ll change 0.00219\n",
      "  Iteration 15\t time lapse 0.64580s\t ll change 0.00167\n",
      "Initialization converged: False\t time lapse 12.14178s\t ll -27.80740\n"
     ]
    },
    {
     "name": "stderr",
     "output_type": "stream",
     "text": [
      "/home/av/.local/lib/python3.10/site-packages/sklearn/mixture/_base.py:274: ConvergenceWarning: Initialization 1 did not converge. Try different init parameters, or increase max_iter, tol or check for degenerate data.\n",
      "  warnings.warn(\n"
     ]
    },
    {
     "name": "stdout",
     "output_type": "stream",
     "text": [
      "Initialization 0\n",
      "  Iteration 1\t time lapse 1.99582s\t ll change inf\n",
      "  Iteration 2\t time lapse 0.58966s\t ll change 1.38663\n",
      "  Iteration 3\t time lapse 0.55549s\t ll change 0.02296\n",
      "  Iteration 4\t time lapse 0.60409s\t ll change 0.01573\n",
      "  Iteration 5\t time lapse 0.58295s\t ll change 0.01242\n",
      "  Iteration 6\t time lapse 0.60143s\t ll change 0.01011\n",
      "  Iteration 7\t time lapse 0.56929s\t ll change 0.00829\n",
      "  Iteration 8\t time lapse 0.60755s\t ll change 0.00696\n",
      "  Iteration 9\t time lapse 0.58080s\t ll change 0.00603\n",
      "  Iteration 10\t time lapse 0.54113s\t ll change 0.00532\n",
      "  Iteration 11\t time lapse 0.60631s\t ll change 0.00469\n",
      "  Iteration 12\t time lapse 0.56023s\t ll change 0.00410\n",
      "  Iteration 13\t time lapse 0.55392s\t ll change 0.00354\n",
      "  Iteration 14\t time lapse 0.58231s\t ll change 0.00303\n",
      "  Iteration 15\t time lapse 0.61824s\t ll change 0.00257\n",
      "Initialization converged: False\t time lapse 10.14932s\t ll -27.31439\n"
     ]
    },
    {
     "name": "stderr",
     "output_type": "stream",
     "text": [
      "/home/av/.local/lib/python3.10/site-packages/sklearn/mixture/_base.py:274: ConvergenceWarning: Initialization 1 did not converge. Try different init parameters, or increase max_iter, tol or check for degenerate data.\n",
      "  warnings.warn(\n"
     ]
    },
    {
     "name": "stdout",
     "output_type": "stream",
     "text": [
      "Initialization 0\n",
      "  Iteration 1\t time lapse 1.37129s\t ll change inf\n",
      "  Iteration 2\t time lapse 0.51229s\t ll change 1.62839\n",
      "  Iteration 3\t time lapse 0.55762s\t ll change 0.02033\n",
      "  Iteration 4\t time lapse 0.55727s\t ll change 0.01410\n",
      "  Iteration 5\t time lapse 0.50480s\t ll change 0.01158\n",
      "  Iteration 6\t time lapse 0.56809s\t ll change 0.00968\n",
      "  Iteration 7\t time lapse 0.53300s\t ll change 0.00786\n",
      "  Iteration 8\t time lapse 0.59002s\t ll change 0.00636\n",
      "  Iteration 9\t time lapse 0.53350s\t ll change 0.00525\n",
      "  Iteration 10\t time lapse 0.57146s\t ll change 0.00447\n",
      "  Iteration 11\t time lapse 0.52982s\t ll change 0.00392\n",
      "  Iteration 12\t time lapse 0.57563s\t ll change 0.00348\n",
      "  Iteration 13\t time lapse 0.53527s\t ll change 0.00302\n",
      "  Iteration 14\t time lapse 0.54973s\t ll change 0.00250\n",
      "  Iteration 15\t time lapse 0.58854s\t ll change 0.00205\n",
      "Initialization converged: False\t time lapse 9.07845s\t ll -26.90535\n"
     ]
    },
    {
     "name": "stderr",
     "output_type": "stream",
     "text": [
      "/home/av/.local/lib/python3.10/site-packages/sklearn/mixture/_base.py:274: ConvergenceWarning: Initialization 1 did not converge. Try different init parameters, or increase max_iter, tol or check for degenerate data.\n",
      "  warnings.warn(\n"
     ]
    },
    {
     "name": "stdout",
     "output_type": "stream",
     "text": [
      "Initialization 0\n",
      "  Iteration 1\t time lapse 2.21180s\t ll change inf\n",
      "  Iteration 2\t time lapse 0.52098s\t ll change 0.05530\n",
      "  Iteration 3\t time lapse 0.54475s\t ll change 0.02180\n",
      "  Iteration 4\t time lapse 0.54511s\t ll change 0.01453\n",
      "  Iteration 5\t time lapse 0.52199s\t ll change 0.01137\n",
      "  Iteration 6\t time lapse 0.60283s\t ll change 0.00941\n",
      "  Iteration 7\t time lapse 0.57074s\t ll change 0.00799\n",
      "  Iteration 8\t time lapse 0.52532s\t ll change 0.00687\n",
      "  Iteration 9\t time lapse 0.53883s\t ll change 0.00589\n",
      "  Iteration 10\t time lapse 0.53645s\t ll change 0.00499\n",
      "  Iteration 11\t time lapse 0.53355s\t ll change 0.00419\n",
      "  Iteration 12\t time lapse 0.56187s\t ll change 0.00352\n",
      "  Iteration 13\t time lapse 0.52510s\t ll change 0.00296\n",
      "  Iteration 14\t time lapse 0.53715s\t ll change 0.00249\n",
      "  Iteration 15\t time lapse 0.53708s\t ll change 0.00210\n",
      "Initialization converged: False\t time lapse 9.81390s\t ll -27.33910\n"
     ]
    },
    {
     "name": "stderr",
     "output_type": "stream",
     "text": [
      "/home/av/.local/lib/python3.10/site-packages/sklearn/mixture/_base.py:274: ConvergenceWarning: Initialization 1 did not converge. Try different init parameters, or increase max_iter, tol or check for degenerate data.\n",
      "  warnings.warn(\n",
      "100%|██████████| 600/600 [00:20<00:00, 29.46it/s]\n",
      "/home/av/IST/slp-labs/LAB2/pf_tools.py:89: UserWarning: The feature directory already exists, and no new feature extraction will be performed.\n",
      "  warnings.warn(\"The feature directory already exists, and no new feature extraction will be performed.\")\n"
     ]
    },
    {
     "name": "stdout",
     "output_type": "stream",
     "text": [
      "Accuracy Score: 0.6516666666666666\n",
      "Combination 48\n",
      "Initialization 0\n",
      "  Iteration 1\t time lapse 4.03263s\t ll change inf\n",
      "  Iteration 2\t time lapse 0.99469s\t ll change 1.41275\n",
      "  Iteration 3\t time lapse 0.94774s\t ll change 0.01932\n",
      "  Iteration 4\t time lapse 0.93900s\t ll change 0.01110\n",
      "  Iteration 5\t time lapse 0.94143s\t ll change 0.00775\n",
      "  Iteration 6\t time lapse 0.98483s\t ll change 0.00593\n",
      "  Iteration 7\t time lapse 1.04109s\t ll change 0.00481\n",
      "  Iteration 8\t time lapse 1.03113s\t ll change 0.00410\n",
      "  Iteration 9\t time lapse 0.93811s\t ll change 0.00364\n",
      "  Iteration 10\t time lapse 1.01853s\t ll change 0.00332\n",
      "  Iteration 11\t time lapse 1.00076s\t ll change 0.00307\n",
      "  Iteration 12\t time lapse 0.97558s\t ll change 0.00284\n",
      "  Iteration 13\t time lapse 1.03134s\t ll change 0.00263\n",
      "  Iteration 14\t time lapse 0.96640s\t ll change 0.00242\n",
      "  Iteration 15\t time lapse 0.99574s\t ll change 0.00222\n",
      "Initialization converged: False\t time lapse 17.83911s\t ll -27.04849\n"
     ]
    },
    {
     "name": "stderr",
     "output_type": "stream",
     "text": [
      "/home/av/.local/lib/python3.10/site-packages/sklearn/mixture/_base.py:274: ConvergenceWarning: Initialization 1 did not converge. Try different init parameters, or increase max_iter, tol or check for degenerate data.\n",
      "  warnings.warn(\n"
     ]
    },
    {
     "name": "stdout",
     "output_type": "stream",
     "text": [
      "Initialization 0\n",
      "  Iteration 1\t time lapse 3.74412s\t ll change inf\n",
      "  Iteration 2\t time lapse 1.02464s\t ll change 1.18498\n",
      "  Iteration 3\t time lapse 1.08236s\t ll change 0.01833\n",
      "  Iteration 4\t time lapse 1.12445s\t ll change 0.01084\n",
      "  Iteration 5\t time lapse 1.47318s\t ll change 0.00794\n",
      "  Iteration 6\t time lapse 1.05632s\t ll change 0.00643\n",
      "  Iteration 7\t time lapse 1.05701s\t ll change 0.00547\n",
      "  Iteration 8\t time lapse 1.10101s\t ll change 0.00477\n",
      "  Iteration 9\t time lapse 1.16144s\t ll change 0.00423\n",
      "  Iteration 10\t time lapse 1.15432s\t ll change 0.00378\n",
      "  Iteration 11\t time lapse 1.25335s\t ll change 0.00340\n",
      "  Iteration 12\t time lapse 1.00095s\t ll change 0.00309\n",
      "  Iteration 13\t time lapse 1.14578s\t ll change 0.00283\n",
      "  Iteration 14\t time lapse 1.22971s\t ll change 0.00261\n",
      "  Iteration 15\t time lapse 1.07913s\t ll change 0.00242\n",
      "Initialization converged: False\t time lapse 19.68788s\t ll -27.26202\n"
     ]
    },
    {
     "name": "stderr",
     "output_type": "stream",
     "text": [
      "/home/av/.local/lib/python3.10/site-packages/sklearn/mixture/_base.py:274: ConvergenceWarning: Initialization 1 did not converge. Try different init parameters, or increase max_iter, tol or check for degenerate data.\n",
      "  warnings.warn(\n"
     ]
    },
    {
     "name": "stdout",
     "output_type": "stream",
     "text": [
      "Initialization 0\n",
      "  Iteration 1\t time lapse 4.46040s\t ll change inf\n",
      "  Iteration 2\t time lapse 1.20236s\t ll change 1.20701\n",
      "  Iteration 3\t time lapse 1.35412s\t ll change 0.02377\n",
      "  Iteration 4\t time lapse 1.43129s\t ll change 0.01587\n",
      "  Iteration 5\t time lapse 1.34469s\t ll change 0.01141\n",
      "  Iteration 6\t time lapse 1.30996s\t ll change 0.00822\n",
      "  Iteration 7\t time lapse 1.10976s\t ll change 0.00607\n",
      "  Iteration 8\t time lapse 1.40240s\t ll change 0.00466\n",
      "  Iteration 9\t time lapse 1.06484s\t ll change 0.00369\n",
      "  Iteration 10\t time lapse 1.46477s\t ll change 0.00300\n",
      "  Iteration 11\t time lapse 1.09558s\t ll change 0.00249\n",
      "  Iteration 12\t time lapse 1.20592s\t ll change 0.00210\n",
      "  Iteration 13\t time lapse 1.35745s\t ll change 0.00180\n",
      "  Iteration 14\t time lapse 1.13940s\t ll change 0.00157\n",
      "  Iteration 15\t time lapse 1.25849s\t ll change 0.00138\n",
      "Initialization converged: False\t time lapse 22.20153s\t ll -27.68137\n"
     ]
    },
    {
     "name": "stderr",
     "output_type": "stream",
     "text": [
      "/home/av/.local/lib/python3.10/site-packages/sklearn/mixture/_base.py:274: ConvergenceWarning: Initialization 1 did not converge. Try different init parameters, or increase max_iter, tol or check for degenerate data.\n",
      "  warnings.warn(\n"
     ]
    },
    {
     "name": "stdout",
     "output_type": "stream",
     "text": [
      "Initialization 0\n",
      "  Iteration 1\t time lapse 3.99533s\t ll change inf\n",
      "  Iteration 2\t time lapse 0.94236s\t ll change 1.18161\n",
      "  Iteration 3\t time lapse 0.93607s\t ll change 0.02051\n",
      "  Iteration 4\t time lapse 0.96083s\t ll change 0.01204\n",
      "  Iteration 5\t time lapse 0.95602s\t ll change 0.00864\n",
      "  Iteration 6\t time lapse 0.96473s\t ll change 0.00702\n",
      "  Iteration 7\t time lapse 0.94128s\t ll change 0.00629\n",
      "  Iteration 8\t time lapse 0.96295s\t ll change 0.00606\n",
      "  Iteration 9\t time lapse 0.93462s\t ll change 0.00598\n",
      "  Iteration 10\t time lapse 0.94979s\t ll change 0.00562\n",
      "  Iteration 11\t time lapse 0.93390s\t ll change 0.00488\n",
      "  Iteration 12\t time lapse 1.02343s\t ll change 0.00404\n",
      "  Iteration 13\t time lapse 0.95629s\t ll change 0.00336\n",
      "  Iteration 14\t time lapse 0.99529s\t ll change 0.00287\n",
      "  Iteration 15\t time lapse 0.99809s\t ll change 0.00255\n",
      "Initialization converged: False\t time lapse 17.45108s\t ll -27.23952\n"
     ]
    },
    {
     "name": "stderr",
     "output_type": "stream",
     "text": [
      "/home/av/.local/lib/python3.10/site-packages/sklearn/mixture/_base.py:274: ConvergenceWarning: Initialization 1 did not converge. Try different init parameters, or increase max_iter, tol or check for degenerate data.\n",
      "  warnings.warn(\n"
     ]
    },
    {
     "name": "stdout",
     "output_type": "stream",
     "text": [
      "Initialization 0\n",
      "  Iteration 1\t time lapse 2.78951s\t ll change inf\n",
      "  Iteration 2\t time lapse 0.94842s\t ll change 1.53006\n",
      "  Iteration 3\t time lapse 0.89031s\t ll change 0.02014\n",
      "  Iteration 4\t time lapse 0.95413s\t ll change 0.01218\n",
      "  Iteration 5\t time lapse 0.93749s\t ll change 0.00911\n",
      "  Iteration 6\t time lapse 0.89621s\t ll change 0.00740\n",
      "  Iteration 7\t time lapse 0.93103s\t ll change 0.00622\n",
      "  Iteration 8\t time lapse 0.91257s\t ll change 0.00530\n",
      "  Iteration 9\t time lapse 0.94315s\t ll change 0.00453\n",
      "  Iteration 10\t time lapse 0.90394s\t ll change 0.00387\n",
      "  Iteration 11\t time lapse 0.94824s\t ll change 0.00330\n",
      "  Iteration 12\t time lapse 0.97361s\t ll change 0.00281\n",
      "  Iteration 13\t time lapse 0.95871s\t ll change 0.00241\n",
      "  Iteration 14\t time lapse 0.95080s\t ll change 0.00210\n",
      "  Iteration 15\t time lapse 1.02295s\t ll change 0.00187\n",
      "Initialization converged: False\t time lapse 15.96117s\t ll -26.83845\n"
     ]
    },
    {
     "name": "stderr",
     "output_type": "stream",
     "text": [
      "/home/av/.local/lib/python3.10/site-packages/sklearn/mixture/_base.py:274: ConvergenceWarning: Initialization 1 did not converge. Try different init parameters, or increase max_iter, tol or check for degenerate data.\n",
      "  warnings.warn(\n"
     ]
    },
    {
     "name": "stdout",
     "output_type": "stream",
     "text": [
      "Initialization 0\n",
      "  Iteration 1\t time lapse 3.44321s\t ll change inf\n",
      "  Iteration 2\t time lapse 0.96155s\t ll change 0.05915\n",
      "  Iteration 3\t time lapse 0.93605s\t ll change 0.02007\n",
      "  Iteration 4\t time lapse 0.96267s\t ll change 0.01134\n",
      "  Iteration 5\t time lapse 0.97650s\t ll change 0.00762\n",
      "  Iteration 6\t time lapse 0.96322s\t ll change 0.00553\n",
      "  Iteration 7\t time lapse 0.98007s\t ll change 0.00425\n",
      "  Iteration 8\t time lapse 1.00573s\t ll change 0.00348\n",
      "  Iteration 9\t time lapse 0.97255s\t ll change 0.00302\n",
      "  Iteration 10\t time lapse 1.04850s\t ll change 0.00276\n",
      "  Iteration 11\t time lapse 0.97701s\t ll change 0.00266\n",
      "  Iteration 12\t time lapse 0.99547s\t ll change 0.00272\n",
      "  Iteration 13\t time lapse 1.00503s\t ll change 0.00290\n",
      "  Iteration 14\t time lapse 0.96973s\t ll change 0.00316\n",
      "  Iteration 15\t time lapse 0.97149s\t ll change 0.00340\n",
      "Initialization converged: False\t time lapse 17.16917s\t ll -27.25950\n"
     ]
    },
    {
     "name": "stderr",
     "output_type": "stream",
     "text": [
      "/home/av/.local/lib/python3.10/site-packages/sklearn/mixture/_base.py:274: ConvergenceWarning: Initialization 1 did not converge. Try different init parameters, or increase max_iter, tol or check for degenerate data.\n",
      "  warnings.warn(\n",
      "100%|██████████| 600/600 [01:12<00:00,  8.28it/s]\n",
      "/home/av/IST/slp-labs/LAB2/pf_tools.py:89: UserWarning: The feature directory already exists, and no new feature extraction will be performed.\n",
      "  warnings.warn(\"The feature directory already exists, and no new feature extraction will be performed.\")\n"
     ]
    },
    {
     "name": "stdout",
     "output_type": "stream",
     "text": [
      "Accuracy Score: 0.665\n",
      "Combination 49\n",
      "Initialization 0\n",
      "  Iteration 1\t time lapse 2.17987s\t ll change inf\n",
      "  Iteration 2\t time lapse 0.86878s\t ll change 1.62935\n",
      "  Iteration 3\t time lapse 0.88029s\t ll change 0.02304\n",
      "  Iteration 4\t time lapse 0.84978s\t ll change 0.01555\n",
      "  Iteration 5\t time lapse 0.87202s\t ll change 0.01069\n",
      "  Iteration 6\t time lapse 0.89647s\t ll change 0.00739\n",
      "  Iteration 7\t time lapse 0.81839s\t ll change 0.00530\n",
      "  Iteration 8\t time lapse 0.87432s\t ll change 0.00399\n",
      "  Iteration 9\t time lapse 0.81933s\t ll change 0.00315\n",
      "  Iteration 10\t time lapse 0.85449s\t ll change 0.00260\n",
      "  Iteration 11\t time lapse 0.79574s\t ll change 0.00220\n",
      "  Iteration 12\t time lapse 0.71602s\t ll change 0.00189\n",
      "  Iteration 13\t time lapse 0.85574s\t ll change 0.00163\n",
      "  Iteration 14\t time lapse 0.90355s\t ll change 0.00139\n",
      "  Iteration 15\t time lapse 0.94898s\t ll change 0.00118\n",
      "Initialization converged: False\t time lapse 14.13390s\t ll -27.27284\n"
     ]
    },
    {
     "name": "stderr",
     "output_type": "stream",
     "text": [
      "/home/av/.local/lib/python3.10/site-packages/sklearn/mixture/_base.py:274: ConvergenceWarning: Initialization 1 did not converge. Try different init parameters, or increase max_iter, tol or check for degenerate data.\n",
      "  warnings.warn(\n"
     ]
    },
    {
     "name": "stdout",
     "output_type": "stream",
     "text": [
      "Initialization 0\n",
      "  Iteration 1\t time lapse 2.24823s\t ll change inf\n",
      "  Iteration 2\t time lapse 0.95014s\t ll change 1.30754\n",
      "  Iteration 3\t time lapse 0.94570s\t ll change 0.01980\n",
      "  Iteration 4\t time lapse 0.89389s\t ll change 0.01261\n",
      "  Iteration 5\t time lapse 0.92427s\t ll change 0.00824\n",
      "  Iteration 6\t time lapse 0.85322s\t ll change 0.00560\n",
      "  Iteration 7\t time lapse 0.86102s\t ll change 0.00434\n",
      "  Iteration 8\t time lapse 0.94672s\t ll change 0.00407\n",
      "  Iteration 9\t time lapse 0.83727s\t ll change 0.00456\n",
      "  Iteration 10\t time lapse 0.92936s\t ll change 0.00559\n",
      "  Iteration 11\t time lapse 1.01792s\t ll change 0.00673\n",
      "  Iteration 12\t time lapse 0.97606s\t ll change 0.00725\n",
      "  Iteration 13\t time lapse 0.88447s\t ll change 0.00663\n",
      "  Iteration 14\t time lapse 0.82368s\t ll change 0.00514\n",
      "  Iteration 15\t time lapse 0.85443s\t ll change 0.00349\n",
      "Initialization converged: False\t time lapse 14.94654s\t ll -27.54450\n"
     ]
    },
    {
     "name": "stderr",
     "output_type": "stream",
     "text": [
      "/home/av/.local/lib/python3.10/site-packages/sklearn/mixture/_base.py:274: ConvergenceWarning: Initialization 1 did not converge. Try different init parameters, or increase max_iter, tol or check for degenerate data.\n",
      "  warnings.warn(\n"
     ]
    },
    {
     "name": "stdout",
     "output_type": "stream",
     "text": [
      "Initialization 0\n",
      "  Iteration 1\t time lapse 2.44959s\t ll change inf\n",
      "  Iteration 2\t time lapse 0.95814s\t ll change 1.46240\n",
      "  Iteration 3\t time lapse 0.94078s\t ll change 0.02239\n",
      "  Iteration 4\t time lapse 1.05138s\t ll change 0.01429\n",
      "  Iteration 5\t time lapse 1.17438s\t ll change 0.01060\n",
      "  Iteration 6\t time lapse 1.04712s\t ll change 0.00817\n",
      "  Iteration 7\t time lapse 1.07174s\t ll change 0.00626\n",
      "  Iteration 8\t time lapse 1.07375s\t ll change 0.00474\n",
      "  Iteration 9\t time lapse 0.86224s\t ll change 0.00357\n",
      "  Iteration 10\t time lapse 0.93675s\t ll change 0.00271\n",
      "  Iteration 11\t time lapse 0.95022s\t ll change 0.00208\n",
      "  Iteration 12\t time lapse 0.98204s\t ll change 0.00163\n",
      "  Iteration 13\t time lapse 1.11195s\t ll change 0.00129\n",
      "  Iteration 14\t time lapse 1.11284s\t ll change 0.00103\n",
      "  Iteration 15\t time lapse 0.90930s\t ll change 0.00083\n",
      "Initialization converged: True\t time lapse 16.63230s\t ll -27.97298\n",
      "Initialization 0\n",
      "  Iteration 1\t time lapse 2.07344s\t ll change inf\n",
      "  Iteration 2\t time lapse 0.90831s\t ll change 1.48187\n",
      "  Iteration 3\t time lapse 0.88739s\t ll change 0.02475\n",
      "  Iteration 4\t time lapse 1.00762s\t ll change 0.01695\n",
      "  Iteration 5\t time lapse 1.01562s\t ll change 0.01194\n",
      "  Iteration 6\t time lapse 0.98444s\t ll change 0.00835\n",
      "  Iteration 7\t time lapse 0.99277s\t ll change 0.00579\n",
      "  Iteration 8\t time lapse 1.08313s\t ll change 0.00398\n",
      "  Iteration 9\t time lapse 1.08838s\t ll change 0.00272\n",
      "  Iteration 10\t time lapse 0.89703s\t ll change 0.00186\n",
      "  Iteration 11\t time lapse 0.90788s\t ll change 0.00129\n",
      "  Iteration 12\t time lapse 0.90056s\t ll change 0.00090\n",
      "Initialization converged: True\t time lapse 12.74668s\t ll -27.43284\n",
      "Initialization 0\n",
      "  Iteration 1\t time lapse 2.45742s\t ll change inf\n",
      "  Iteration 2\t time lapse 0.82985s\t ll change 1.80073\n",
      "  Iteration 3\t time lapse 0.76212s\t ll change 0.02270\n",
      "  Iteration 4\t time lapse 0.79748s\t ll change 0.01594\n",
      "  Iteration 5\t time lapse 0.83073s\t ll change 0.01247\n",
      "  Iteration 6\t time lapse 0.89729s\t ll change 0.01014\n",
      "  Iteration 7\t time lapse 0.79624s\t ll change 0.00828\n",
      "  Iteration 8\t time lapse 0.81413s\t ll change 0.00663\n",
      "  Iteration 9\t time lapse 0.84810s\t ll change 0.00516\n",
      "  Iteration 10\t time lapse 0.73052s\t ll change 0.00391\n",
      "  Iteration 11\t time lapse 0.67344s\t ll change 0.00290\n",
      "  Iteration 12\t time lapse 0.55490s\t ll change 0.00212\n",
      "  Iteration 13\t time lapse 0.63426s\t ll change 0.00155\n",
      "  Iteration 14\t time lapse 0.71289s\t ll change 0.00115\n",
      "  Iteration 15\t time lapse 0.62545s\t ll change 0.00087\n",
      "Initialization converged: True\t time lapse 12.96490s\t ll -27.00440\n",
      "Initialization 0\n",
      "  Iteration 1\t time lapse 1.71099s\t ll change inf\n",
      "  Iteration 2\t time lapse 0.66628s\t ll change 1.12128\n",
      "  Iteration 3\t time lapse 0.65981s\t ll change 0.01515\n",
      "  Iteration 4\t time lapse 0.59798s\t ll change 0.00985\n",
      "  Iteration 5\t time lapse 0.71354s\t ll change 0.00807\n",
      "  Iteration 6\t time lapse 0.62906s\t ll change 0.00750\n",
      "  Iteration 7\t time lapse 0.85361s\t ll change 0.00755\n",
      "  Iteration 8\t time lapse 0.68506s\t ll change 0.00793\n",
      "  Iteration 9\t time lapse 0.69853s\t ll change 0.00816\n",
      "  Iteration 10\t time lapse 0.78048s\t ll change 0.00756\n",
      "  Iteration 11\t time lapse 0.59501s\t ll change 0.00608\n",
      "  Iteration 12\t time lapse 0.61931s\t ll change 0.00440\n",
      "  Iteration 13\t time lapse 0.67726s\t ll change 0.00306\n",
      "  Iteration 14\t time lapse 0.65783s\t ll change 0.00215\n",
      "  Iteration 15\t time lapse 0.67359s\t ll change 0.00158\n",
      "Initialization converged: False\t time lapse 11.21843s\t ll -27.47534\n"
     ]
    },
    {
     "name": "stderr",
     "output_type": "stream",
     "text": [
      "/home/av/.local/lib/python3.10/site-packages/sklearn/mixture/_base.py:274: ConvergenceWarning: Initialization 1 did not converge. Try different init parameters, or increase max_iter, tol or check for degenerate data.\n",
      "  warnings.warn(\n",
      "100%|██████████| 600/600 [00:29<00:00, 20.59it/s]\n",
      "/home/av/IST/slp-labs/LAB2/pf_tools.py:89: UserWarning: The feature directory already exists, and no new feature extraction will be performed.\n",
      "  warnings.warn(\"The feature directory already exists, and no new feature extraction will be performed.\")\n"
     ]
    },
    {
     "name": "stdout",
     "output_type": "stream",
     "text": [
      "Accuracy Score: 0.6216666666666667\n",
      "Combination 50\n",
      "Initialization 0\n",
      "  Iteration 1\t time lapse 3.94246s\t ll change inf\n",
      "  Iteration 2\t time lapse 1.63090s\t ll change 1.47144\n",
      "  Iteration 3\t time lapse 1.66093s\t ll change 0.01831\n",
      "  Iteration 4\t time lapse 1.51322s\t ll change 0.01082\n",
      "  Iteration 5\t time lapse 1.75474s\t ll change 0.00747\n",
      "  Iteration 6\t time lapse 1.83946s\t ll change 0.00556\n",
      "  Iteration 7\t time lapse 1.64199s\t ll change 0.00434\n",
      "  Iteration 8\t time lapse 1.58560s\t ll change 0.00352\n",
      "  Iteration 9\t time lapse 1.83589s\t ll change 0.00296\n",
      "  Iteration 10\t time lapse 1.40196s\t ll change 0.00261\n",
      "  Iteration 11\t time lapse 1.48647s\t ll change 0.00243\n",
      "  Iteration 12\t time lapse 1.90213s\t ll change 0.00241\n",
      "  Iteration 13\t time lapse 1.68177s\t ll change 0.00248\n",
      "  Iteration 14\t time lapse 1.52754s\t ll change 0.00252\n",
      "  Iteration 15\t time lapse 1.64855s\t ll change 0.00242\n",
      "Initialization converged: False\t time lapse 27.05451s\t ll -27.15968\n"
     ]
    },
    {
     "name": "stderr",
     "output_type": "stream",
     "text": [
      "/home/av/.local/lib/python3.10/site-packages/sklearn/mixture/_base.py:274: ConvergenceWarning: Initialization 1 did not converge. Try different init parameters, or increase max_iter, tol or check for degenerate data.\n",
      "  warnings.warn(\n"
     ]
    },
    {
     "name": "stdout",
     "output_type": "stream",
     "text": [
      "Initialization 0\n",
      "  Iteration 1\t time lapse 4.53359s\t ll change inf\n",
      "  Iteration 2\t time lapse 1.78338s\t ll change 1.18985\n",
      "  Iteration 3\t time lapse 1.80461s\t ll change 0.01916\n",
      "  Iteration 4\t time lapse 1.81424s\t ll change 0.01296\n",
      "  Iteration 5\t time lapse 1.38208s\t ll change 0.01028\n",
      "  Iteration 6\t time lapse 1.46671s\t ll change 0.00881\n",
      "  Iteration 7\t time lapse 1.66104s\t ll change 0.00796\n",
      "  Iteration 8\t time lapse 1.42561s\t ll change 0.00749\n",
      "  Iteration 9\t time lapse 1.23665s\t ll change 0.00716\n",
      "  Iteration 10\t time lapse 1.40384s\t ll change 0.00670\n",
      "  Iteration 11\t time lapse 1.41824s\t ll change 0.00596\n",
      "  Iteration 12\t time lapse 1.45860s\t ll change 0.00505\n",
      "  Iteration 13\t time lapse 1.63770s\t ll change 0.00417\n",
      "  Iteration 14\t time lapse 1.25698s\t ll change 0.00341\n",
      "  Iteration 15\t time lapse 1.89479s\t ll change 0.00280\n",
      "Initialization converged: False\t time lapse 26.17859s\t ll -27.36439\n"
     ]
    },
    {
     "name": "stderr",
     "output_type": "stream",
     "text": [
      "/home/av/.local/lib/python3.10/site-packages/sklearn/mixture/_base.py:274: ConvergenceWarning: Initialization 1 did not converge. Try different init parameters, or increase max_iter, tol or check for degenerate data.\n",
      "  warnings.warn(\n"
     ]
    },
    {
     "name": "stdout",
     "output_type": "stream",
     "text": [
      "Initialization 0\n",
      "  Iteration 1\t time lapse 4.81600s\t ll change inf\n",
      "  Iteration 2\t time lapse 1.62087s\t ll change 1.24349\n",
      "  Iteration 3\t time lapse 1.93759s\t ll change 0.02190\n",
      "  Iteration 4\t time lapse 1.79060s\t ll change 0.01395\n",
      "  Iteration 5\t time lapse 1.96910s\t ll change 0.01011\n",
      "  Iteration 6\t time lapse 1.98330s\t ll change 0.00778\n",
      "  Iteration 7\t time lapse 2.20555s\t ll change 0.00625\n",
      "  Iteration 8\t time lapse 2.11068s\t ll change 0.00518\n",
      "  Iteration 9\t time lapse 2.01760s\t ll change 0.00442\n",
      "  Iteration 10\t time lapse 2.05256s\t ll change 0.00384\n",
      "  Iteration 11\t time lapse 2.11886s\t ll change 0.00339\n",
      "  Iteration 12\t time lapse 1.96042s\t ll change 0.00304\n",
      "  Iteration 13\t time lapse 2.11976s\t ll change 0.00279\n",
      "  Iteration 14\t time lapse 2.11732s\t ll change 0.00266\n",
      "  Iteration 15\t time lapse 1.94902s\t ll change 0.00258\n",
      "Initialization converged: False\t time lapse 32.77024s\t ll -27.81429\n"
     ]
    },
    {
     "name": "stderr",
     "output_type": "stream",
     "text": [
      "/home/av/.local/lib/python3.10/site-packages/sklearn/mixture/_base.py:274: ConvergenceWarning: Initialization 1 did not converge. Try different init parameters, or increase max_iter, tol or check for degenerate data.\n",
      "  warnings.warn(\n"
     ]
    },
    {
     "name": "stdout",
     "output_type": "stream",
     "text": [
      "Initialization 0\n",
      "  Iteration 1\t time lapse 4.56895s\t ll change inf\n",
      "  Iteration 2\t time lapse 1.93183s\t ll change 1.40675\n",
      "  Iteration 3\t time lapse 1.78183s\t ll change 0.02594\n",
      "  Iteration 4\t time lapse 1.94328s\t ll change 0.01787\n",
      "  Iteration 5\t time lapse 1.75904s\t ll change 0.01381\n",
      "  Iteration 6\t time lapse 1.81202s\t ll change 0.01103\n",
      "  Iteration 7\t time lapse 1.74670s\t ll change 0.00892\n",
      "  Iteration 8\t time lapse 1.69119s\t ll change 0.00734\n",
      "  Iteration 9\t time lapse 1.83123s\t ll change 0.00616\n",
      "  Iteration 10\t time lapse 1.99297s\t ll change 0.00526\n",
      "  Iteration 11\t time lapse 1.59264s\t ll change 0.00451\n",
      "  Iteration 12\t time lapse 2.03528s\t ll change 0.00385\n",
      "  Iteration 13\t time lapse 2.23426s\t ll change 0.00328\n",
      "  Iteration 14\t time lapse 2.00515s\t ll change 0.00277\n",
      "  Iteration 15\t time lapse 2.01833s\t ll change 0.00232\n",
      "Initialization converged: False\t time lapse 30.94540s\t ll -27.31048\n"
     ]
    },
    {
     "name": "stderr",
     "output_type": "stream",
     "text": [
      "/home/av/.local/lib/python3.10/site-packages/sklearn/mixture/_base.py:274: ConvergenceWarning: Initialization 1 did not converge. Try different init parameters, or increase max_iter, tol or check for degenerate data.\n",
      "  warnings.warn(\n"
     ]
    },
    {
     "name": "stdout",
     "output_type": "stream",
     "text": [
      "Initialization 0\n",
      "  Iteration 1\t time lapse 3.98653s\t ll change inf\n",
      "  Iteration 2\t time lapse 1.60582s\t ll change 1.64956\n",
      "  Iteration 3\t time lapse 1.86340s\t ll change 0.01965\n",
      "  Iteration 4\t time lapse 1.53331s\t ll change 0.01280\n",
      "  Iteration 5\t time lapse 1.63578s\t ll change 0.00975\n",
      "  Iteration 6\t time lapse 1.56184s\t ll change 0.00791\n",
      "  Iteration 7\t time lapse 2.18646s\t ll change 0.00657\n",
      "  Iteration 8\t time lapse 1.58775s\t ll change 0.00554\n",
      "  Iteration 9\t time lapse 1.90787s\t ll change 0.00475\n",
      "  Iteration 10\t time lapse 1.70591s\t ll change 0.00419\n",
      "  Iteration 11\t time lapse 1.56496s\t ll change 0.00381\n",
      "  Iteration 12\t time lapse 1.82023s\t ll change 0.00355\n",
      "  Iteration 13\t time lapse 1.80703s\t ll change 0.00336\n",
      "  Iteration 14\t time lapse 1.47858s\t ll change 0.00316\n",
      "  Iteration 15\t time lapse 1.41081s\t ll change 0.00291\n",
      "Initialization converged: False\t time lapse 27.65690s\t ll -26.91350\n"
     ]
    },
    {
     "name": "stderr",
     "output_type": "stream",
     "text": [
      "/home/av/.local/lib/python3.10/site-packages/sklearn/mixture/_base.py:274: ConvergenceWarning: Initialization 1 did not converge. Try different init parameters, or increase max_iter, tol or check for degenerate data.\n",
      "  warnings.warn(\n"
     ]
    },
    {
     "name": "stdout",
     "output_type": "stream",
     "text": [
      "Initialization 0\n",
      "  Iteration 1\t time lapse 3.99485s\t ll change inf\n",
      "  Iteration 2\t time lapse 2.86723s\t ll change 0.05344\n",
      "  Iteration 3\t time lapse 2.77463s\t ll change 0.02070\n",
      "  Iteration 4\t time lapse 2.59621s\t ll change 0.01375\n",
      "  Iteration 5\t time lapse 1.32947s\t ll change 0.01083\n",
      "  Iteration 6\t time lapse 0.55077s\t ll change 0.00908\n",
      "  Iteration 7\t time lapse 0.52245s\t ll change 0.00785\n",
      "  Iteration 8\t time lapse 0.51885s\t ll change 0.00690\n",
      "  Iteration 9\t time lapse 0.52410s\t ll change 0.00610\n",
      "  Iteration 10\t time lapse 0.55547s\t ll change 0.00542\n",
      "  Iteration 11\t time lapse 0.52405s\t ll change 0.00483\n",
      "  Iteration 12\t time lapse 0.53633s\t ll change 0.00429\n",
      "  Iteration 13\t time lapse 0.52843s\t ll change 0.00377\n",
      "  Iteration 14\t time lapse 0.55937s\t ll change 0.00328\n",
      "  Iteration 15\t time lapse 0.51973s\t ll change 0.00283\n",
      "Initialization converged: False\t time lapse 18.90235s\t ll -27.34366\n"
     ]
    },
    {
     "name": "stderr",
     "output_type": "stream",
     "text": [
      "/home/av/.local/lib/python3.10/site-packages/sklearn/mixture/_base.py:274: ConvergenceWarning: Initialization 1 did not converge. Try different init parameters, or increase max_iter, tol or check for degenerate data.\n",
      "  warnings.warn(\n",
      "100%|██████████| 600/600 [00:18<00:00, 32.05it/s]\n",
      "/home/av/IST/slp-labs/LAB2/pf_tools.py:89: UserWarning: The feature directory already exists, and no new feature extraction will be performed.\n",
      "  warnings.warn(\"The feature directory already exists, and no new feature extraction will be performed.\")\n"
     ]
    },
    {
     "name": "stdout",
     "output_type": "stream",
     "text": [
      "Accuracy Score: 0.64\n",
      "Combination 51\n",
      "Initialization 0\n",
      "  Iteration 1\t time lapse 3.84038s\t ll change inf\n",
      "  Iteration 2\t time lapse 0.98737s\t ll change 1.41273\n",
      "  Iteration 3\t time lapse 0.96186s\t ll change 0.01896\n",
      "  Iteration 4\t time lapse 0.92467s\t ll change 0.01057\n",
      "  Iteration 5\t time lapse 0.90879s\t ll change 0.00736\n",
      "  Iteration 6\t time lapse 0.98829s\t ll change 0.00583\n",
      "  Iteration 7\t time lapse 0.91912s\t ll change 0.00497\n",
      "  Iteration 8\t time lapse 0.91175s\t ll change 0.00439\n",
      "  Iteration 9\t time lapse 0.94321s\t ll change 0.00391\n",
      "  Iteration 10\t time lapse 0.89991s\t ll change 0.00349\n",
      "  Iteration 11\t time lapse 0.93750s\t ll change 0.00313\n",
      "  Iteration 12\t time lapse 0.94609s\t ll change 0.00282\n",
      "  Iteration 13\t time lapse 0.90507s\t ll change 0.00253\n",
      "  Iteration 14\t time lapse 0.92096s\t ll change 0.00225\n",
      "  Iteration 15\t time lapse 0.91192s\t ll change 0.00199\n",
      "Initialization converged: False\t time lapse 16.90731s\t ll -27.04969\n"
     ]
    },
    {
     "name": "stderr",
     "output_type": "stream",
     "text": [
      "/home/av/.local/lib/python3.10/site-packages/sklearn/mixture/_base.py:274: ConvergenceWarning: Initialization 1 did not converge. Try different init parameters, or increase max_iter, tol or check for degenerate data.\n",
      "  warnings.warn(\n"
     ]
    },
    {
     "name": "stdout",
     "output_type": "stream",
     "text": [
      "Initialization 0\n",
      "  Iteration 1\t time lapse 5.11464s\t ll change inf\n",
      "  Iteration 2\t time lapse 1.02889s\t ll change 1.09603\n",
      "  Iteration 3\t time lapse 1.11480s\t ll change 0.01941\n",
      "  Iteration 4\t time lapse 0.98565s\t ll change 0.01156\n",
      "  Iteration 5\t time lapse 1.00443s\t ll change 0.00827\n",
      "  Iteration 6\t time lapse 1.01531s\t ll change 0.00643\n",
      "  Iteration 7\t time lapse 0.98102s\t ll change 0.00525\n",
      "  Iteration 8\t time lapse 0.99542s\t ll change 0.00444\n",
      "  Iteration 9\t time lapse 0.98712s\t ll change 0.00386\n",
      "  Iteration 10\t time lapse 0.97666s\t ll change 0.00343\n",
      "  Iteration 11\t time lapse 0.98192s\t ll change 0.00310\n",
      "  Iteration 12\t time lapse 1.00314s\t ll change 0.00286\n",
      "  Iteration 13\t time lapse 1.00381s\t ll change 0.00267\n",
      "  Iteration 14\t time lapse 0.99137s\t ll change 0.00254\n",
      "  Iteration 15\t time lapse 1.00609s\t ll change 0.00241\n",
      "Initialization converged: False\t time lapse 19.19038s\t ll -27.26159\n"
     ]
    },
    {
     "name": "stderr",
     "output_type": "stream",
     "text": [
      "/home/av/.local/lib/python3.10/site-packages/sklearn/mixture/_base.py:274: ConvergenceWarning: Initialization 1 did not converge. Try different init parameters, or increase max_iter, tol or check for degenerate data.\n",
      "  warnings.warn(\n"
     ]
    },
    {
     "name": "stdout",
     "output_type": "stream",
     "text": [
      "Initialization 0\n",
      "  Iteration 1\t time lapse 3.16928s\t ll change inf\n",
      "  Iteration 2\t time lapse 1.40298s\t ll change 1.17702\n",
      "  Iteration 3\t time lapse 1.27441s\t ll change 0.02202\n",
      "  Iteration 4\t time lapse 1.35454s\t ll change 0.01488\n",
      "  Iteration 5\t time lapse 1.33288s\t ll change 0.01147\n",
      "  Iteration 6\t time lapse 1.11154s\t ll change 0.00903\n",
      "  Iteration 7\t time lapse 1.04625s\t ll change 0.00708\n",
      "  Iteration 8\t time lapse 1.18656s\t ll change 0.00552\n",
      "  Iteration 9\t time lapse 1.13083s\t ll change 0.00434\n",
      "  Iteration 10\t time lapse 1.13641s\t ll change 0.00349\n",
      "  Iteration 11\t time lapse 1.23282s\t ll change 0.00292\n",
      "  Iteration 12\t time lapse 1.03248s\t ll change 0.00255\n",
      "  Iteration 13\t time lapse 1.07419s\t ll change 0.00233\n",
      "  Iteration 14\t time lapse 1.18624s\t ll change 0.00222\n",
      "  Iteration 15\t time lapse 1.10664s\t ll change 0.00217\n",
      "Initialization converged: False\t time lapse 19.77817s\t ll -27.68544\n"
     ]
    },
    {
     "name": "stderr",
     "output_type": "stream",
     "text": [
      "/home/av/.local/lib/python3.10/site-packages/sklearn/mixture/_base.py:274: ConvergenceWarning: Initialization 1 did not converge. Try different init parameters, or increase max_iter, tol or check for degenerate data.\n",
      "  warnings.warn(\n"
     ]
    },
    {
     "name": "stdout",
     "output_type": "stream",
     "text": [
      "Initialization 0\n",
      "  Iteration 1\t time lapse 3.55556s\t ll change inf\n",
      "  Iteration 2\t time lapse 0.91810s\t ll change 1.18180\n",
      "  Iteration 3\t time lapse 0.92401s\t ll change 0.02082\n",
      "  Iteration 4\t time lapse 0.92597s\t ll change 0.01263\n",
      "  Iteration 5\t time lapse 0.92799s\t ll change 0.00966\n",
      "  Iteration 6\t time lapse 0.92373s\t ll change 0.00817\n",
      "  Iteration 7\t time lapse 0.92250s\t ll change 0.00718\n",
      "  Iteration 8\t time lapse 0.93526s\t ll change 0.00645\n",
      "  Iteration 9\t time lapse 0.95117s\t ll change 0.00592\n",
      "  Iteration 10\t time lapse 0.93193s\t ll change 0.00550\n",
      "  Iteration 11\t time lapse 0.92903s\t ll change 0.00522\n",
      "  Iteration 12\t time lapse 0.95008s\t ll change 0.00497\n",
      "  Iteration 13\t time lapse 0.93320s\t ll change 0.00456\n",
      "  Iteration 14\t time lapse 0.93985s\t ll change 0.00433\n",
      "  Iteration 15\t time lapse 0.98684s\t ll change 0.00447\n",
      "Initialization converged: False\t time lapse 16.65533s\t ll -27.21975\n"
     ]
    },
    {
     "name": "stderr",
     "output_type": "stream",
     "text": [
      "/home/av/.local/lib/python3.10/site-packages/sklearn/mixture/_base.py:274: ConvergenceWarning: Initialization 1 did not converge. Try different init parameters, or increase max_iter, tol or check for degenerate data.\n",
      "  warnings.warn(\n"
     ]
    },
    {
     "name": "stdout",
     "output_type": "stream",
     "text": [
      "Initialization 0\n",
      "  Iteration 1\t time lapse 4.23358s\t ll change inf\n",
      "  Iteration 2\t time lapse 0.89166s\t ll change 1.54097\n",
      "  Iteration 3\t time lapse 0.91429s\t ll change 0.02055\n",
      "  Iteration 4\t time lapse 0.88814s\t ll change 0.01276\n",
      "  Iteration 5\t time lapse 0.91709s\t ll change 0.00968\n",
      "  Iteration 6\t time lapse 0.90756s\t ll change 0.00790\n",
      "  Iteration 7\t time lapse 0.88527s\t ll change 0.00663\n",
      "  Iteration 8\t time lapse 0.90927s\t ll change 0.00567\n",
      "  Iteration 9\t time lapse 0.92294s\t ll change 0.00492\n",
      "  Iteration 10\t time lapse 0.89253s\t ll change 0.00429\n",
      "  Iteration 11\t time lapse 0.87325s\t ll change 0.00374\n",
      "  Iteration 12\t time lapse 0.89714s\t ll change 0.00325\n",
      "  Iteration 13\t time lapse 0.89361s\t ll change 0.00283\n",
      "  Iteration 14\t time lapse 0.88835s\t ll change 0.00247\n",
      "  Iteration 15\t time lapse 0.91809s\t ll change 0.00216\n",
      "Initialization converged: False\t time lapse 16.83320s\t ll -26.83865\n"
     ]
    },
    {
     "name": "stderr",
     "output_type": "stream",
     "text": [
      "/home/av/.local/lib/python3.10/site-packages/sklearn/mixture/_base.py:274: ConvergenceWarning: Initialization 1 did not converge. Try different init parameters, or increase max_iter, tol or check for degenerate data.\n",
      "  warnings.warn(\n"
     ]
    },
    {
     "name": "stdout",
     "output_type": "stream",
     "text": [
      "Initialization 0\n",
      "  Iteration 1\t time lapse 3.06981s\t ll change inf\n",
      "  Iteration 2\t time lapse 0.92670s\t ll change 0.05872\n",
      "  Iteration 3\t time lapse 0.92751s\t ll change 0.02003\n",
      "  Iteration 4\t time lapse 0.91429s\t ll change 0.01211\n",
      "  Iteration 5\t time lapse 0.92926s\t ll change 0.00903\n",
      "  Iteration 6\t time lapse 0.91679s\t ll change 0.00711\n",
      "  Iteration 7\t time lapse 0.92247s\t ll change 0.00574\n",
      "  Iteration 8\t time lapse 0.95045s\t ll change 0.00479\n",
      "  Iteration 9\t time lapse 1.03146s\t ll change 0.00418\n",
      "  Iteration 10\t time lapse 1.08347s\t ll change 0.00386\n",
      "  Iteration 11\t time lapse 1.01492s\t ll change 0.00373\n",
      "  Iteration 12\t time lapse 0.93710s\t ll change 0.00367\n",
      "  Iteration 13\t time lapse 0.91312s\t ll change 0.00352\n",
      "  Iteration 14\t time lapse 0.95626s\t ll change 0.00317\n",
      "  Iteration 15\t time lapse 0.93545s\t ll change 0.00270\n",
      "Initialization converged: False\t time lapse 16.42952s\t ll -27.24891\n"
     ]
    },
    {
     "name": "stderr",
     "output_type": "stream",
     "text": [
      "/home/av/.local/lib/python3.10/site-packages/sklearn/mixture/_base.py:274: ConvergenceWarning: Initialization 1 did not converge. Try different init parameters, or increase max_iter, tol or check for degenerate data.\n",
      "  warnings.warn(\n",
      "100%|██████████| 600/600 [00:27<00:00, 22.22it/s]\n",
      "/home/av/IST/slp-labs/LAB2/pf_tools.py:89: UserWarning: The feature directory already exists, and no new feature extraction will be performed.\n",
      "  warnings.warn(\"The feature directory already exists, and no new feature extraction will be performed.\")\n"
     ]
    },
    {
     "name": "stdout",
     "output_type": "stream",
     "text": [
      "Accuracy Score: 0.6833333333333333\n",
      "Combination 52\n",
      "Initialization 0\n",
      "  Iteration 1\t time lapse 0.90032s\t ll change inf\n",
      "  Iteration 2\t time lapse 0.33836s\t ll change 1.60685\n",
      "  Iteration 3\t time lapse 0.40188s\t ll change 0.02055\n",
      "  Iteration 4\t time lapse 0.32647s\t ll change 0.01628\n",
      "  Iteration 5\t time lapse 0.34930s\t ll change 0.01313\n",
      "  Iteration 6\t time lapse 0.32991s\t ll change 0.00972\n",
      "  Iteration 7\t time lapse 0.33312s\t ll change 0.00695\n",
      "  Iteration 8\t time lapse 0.32838s\t ll change 0.00510\n",
      "  Iteration 9\t time lapse 0.33325s\t ll change 0.00393\n",
      "  Iteration 10\t time lapse 0.33273s\t ll change 0.00319\n",
      "  Iteration 11\t time lapse 0.33083s\t ll change 0.00269\n",
      "  Iteration 12\t time lapse 0.33381s\t ll change 0.00232\n",
      "  Iteration 13\t time lapse 0.32726s\t ll change 0.00203\n",
      "  Iteration 14\t time lapse 0.32485s\t ll change 0.00178\n",
      "  Iteration 15\t time lapse 0.33346s\t ll change 0.00154\n",
      "Initialization converged: False\t time lapse 5.62399s\t ll -27.27488\n"
     ]
    },
    {
     "name": "stderr",
     "output_type": "stream",
     "text": [
      "/home/av/.local/lib/python3.10/site-packages/sklearn/mixture/_base.py:274: ConvergenceWarning: Initialization 1 did not converge. Try different init parameters, or increase max_iter, tol or check for degenerate data.\n",
      "  warnings.warn(\n"
     ]
    },
    {
     "name": "stdout",
     "output_type": "stream",
     "text": [
      "Initialization 0\n",
      "  Iteration 1\t time lapse 0.82807s\t ll change inf\n",
      "  Iteration 2\t time lapse 0.36137s\t ll change 1.31016\n",
      "  Iteration 3\t time lapse 0.34182s\t ll change 0.01483\n",
      "  Iteration 4\t time lapse 0.35366s\t ll change 0.00977\n",
      "  Iteration 5\t time lapse 0.34399s\t ll change 0.00758\n",
      "  Iteration 6\t time lapse 0.34158s\t ll change 0.00622\n",
      "  Iteration 7\t time lapse 0.36174s\t ll change 0.00520\n",
      "  Iteration 8\t time lapse 0.34230s\t ll change 0.00437\n",
      "  Iteration 9\t time lapse 0.34252s\t ll change 0.00370\n",
      "  Iteration 10\t time lapse 0.36231s\t ll change 0.00318\n",
      "  Iteration 11\t time lapse 0.34378s\t ll change 0.00282\n",
      "  Iteration 12\t time lapse 0.34708s\t ll change 0.00260\n",
      "  Iteration 13\t time lapse 0.34365s\t ll change 0.00251\n",
      "  Iteration 14\t time lapse 0.34454s\t ll change 0.00253\n",
      "  Iteration 15\t time lapse 0.34564s\t ll change 0.00263\n",
      "Initialization converged: False\t time lapse 5.70413s\t ll -27.52927\n"
     ]
    },
    {
     "name": "stderr",
     "output_type": "stream",
     "text": [
      "/home/av/.local/lib/python3.10/site-packages/sklearn/mixture/_base.py:274: ConvergenceWarning: Initialization 1 did not converge. Try different init parameters, or increase max_iter, tol or check for degenerate data.\n",
      "  warnings.warn(\n"
     ]
    },
    {
     "name": "stdout",
     "output_type": "stream",
     "text": [
      "Initialization 0\n",
      "  Iteration 1\t time lapse 0.94698s\t ll change inf\n",
      "  Iteration 2\t time lapse 0.34957s\t ll change 1.44779\n",
      "  Iteration 3\t time lapse 0.38292s\t ll change 0.02241\n",
      "  Iteration 4\t time lapse 0.36510s\t ll change 0.01413\n",
      "  Iteration 5\t time lapse 0.36499s\t ll change 0.01045\n",
      "  Iteration 6\t time lapse 0.36660s\t ll change 0.00811\n",
      "  Iteration 7\t time lapse 0.36906s\t ll change 0.00627\n",
      "  Iteration 8\t time lapse 0.36052s\t ll change 0.00480\n",
      "  Iteration 9\t time lapse 0.36757s\t ll change 0.00366\n",
      "  Iteration 10\t time lapse 0.36489s\t ll change 0.00281\n",
      "  Iteration 11\t time lapse 0.36801s\t ll change 0.00219\n",
      "  Iteration 12\t time lapse 0.36441s\t ll change 0.00173\n",
      "  Iteration 13\t time lapse 0.36161s\t ll change 0.00139\n",
      "  Iteration 14\t time lapse 0.37928s\t ll change 0.00113\n",
      "  Iteration 15\t time lapse 0.37554s\t ll change 0.00092\n",
      "Initialization converged: True\t time lapse 6.08711s\t ll -27.97368\n",
      "Initialization 0\n",
      "  Iteration 1\t time lapse 0.83680s\t ll change inf\n",
      "  Iteration 2\t time lapse 0.33259s\t ll change 1.47364\n",
      "  Iteration 3\t time lapse 0.35142s\t ll change 0.02449\n",
      "  Iteration 4\t time lapse 0.32936s\t ll change 0.01680\n",
      "  Iteration 5\t time lapse 0.32973s\t ll change 0.01190\n",
      "  Iteration 6\t time lapse 0.34024s\t ll change 0.00841\n",
      "  Iteration 7\t time lapse 0.32950s\t ll change 0.00593\n",
      "  Iteration 8\t time lapse 0.33302s\t ll change 0.00415\n",
      "  Iteration 9\t time lapse 0.47064s\t ll change 0.00289\n",
      "  Iteration 10\t time lapse 0.55687s\t ll change 0.00202\n",
      "  Iteration 11\t time lapse 0.54673s\t ll change 0.00142\n",
      "  Iteration 12\t time lapse 0.45767s\t ll change 0.00101\n",
      "  Iteration 13\t time lapse 0.48356s\t ll change 0.00074\n",
      "Initialization converged: True\t time lapse 5.69825s\t ll -27.43254\n",
      "Initialization 0\n",
      "  Iteration 1\t time lapse 1.56844s\t ll change inf\n",
      "  Iteration 2\t time lapse 0.67479s\t ll change 1.76589\n",
      "  Iteration 3\t time lapse 0.58438s\t ll change 0.01360\n",
      "  Iteration 4\t time lapse 0.65434s\t ll change 0.00927\n",
      "  Iteration 5\t time lapse 0.90918s\t ll change 0.00785\n",
      "  Iteration 6\t time lapse 1.05855s\t ll change 0.00730\n",
      "  Iteration 7\t time lapse 0.71307s\t ll change 0.00681\n",
      "  Iteration 8\t time lapse 0.74115s\t ll change 0.00603\n",
      "  Iteration 9\t time lapse 0.62292s\t ll change 0.00504\n",
      "  Iteration 10\t time lapse 0.61475s\t ll change 0.00406\n",
      "  Iteration 11\t time lapse 0.69035s\t ll change 0.00324\n",
      "  Iteration 12\t time lapse 0.60854s\t ll change 0.00262\n",
      "  Iteration 13\t time lapse 0.61328s\t ll change 0.00217\n",
      "  Iteration 14\t time lapse 0.63127s\t ll change 0.00184\n",
      "  Iteration 15\t time lapse 0.60314s\t ll change 0.00160\n",
      "Initialization converged: False\t time lapse 11.28840s\t ll -27.09563\n"
     ]
    },
    {
     "name": "stderr",
     "output_type": "stream",
     "text": [
      "/home/av/.local/lib/python3.10/site-packages/sklearn/mixture/_base.py:274: ConvergenceWarning: Initialization 1 did not converge. Try different init parameters, or increase max_iter, tol or check for degenerate data.\n",
      "  warnings.warn(\n"
     ]
    },
    {
     "name": "stdout",
     "output_type": "stream",
     "text": [
      "Initialization 0\n",
      "  Iteration 1\t time lapse 1.80722s\t ll change inf\n",
      "  Iteration 2\t time lapse 0.72109s\t ll change 1.12135\n",
      "  Iteration 3\t time lapse 0.60541s\t ll change 0.01527\n",
      "  Iteration 4\t time lapse 0.57925s\t ll change 0.01003\n",
      "  Iteration 5\t time lapse 0.72335s\t ll change 0.00834\n",
      "  Iteration 6\t time lapse 0.79084s\t ll change 0.00788\n",
      "  Iteration 7\t time lapse 0.60287s\t ll change 0.00803\n",
      "  Iteration 8\t time lapse 0.58193s\t ll change 0.00840\n",
      "  Iteration 9\t time lapse 0.64304s\t ll change 0.00831\n",
      "  Iteration 10\t time lapse 0.57977s\t ll change 0.00721\n",
      "  Iteration 11\t time lapse 0.61970s\t ll change 0.00547\n",
      "  Iteration 12\t time lapse 0.72416s\t ll change 0.00385\n",
      "  Iteration 13\t time lapse 0.64750s\t ll change 0.00267\n",
      "  Iteration 14\t time lapse 0.73757s\t ll change 0.00191\n",
      "  Iteration 15\t time lapse 0.77791s\t ll change 0.00144\n",
      "Initialization converged: False\t time lapse 11.14192s\t ll -27.47483\n"
     ]
    },
    {
     "name": "stderr",
     "output_type": "stream",
     "text": [
      "/home/av/.local/lib/python3.10/site-packages/sklearn/mixture/_base.py:274: ConvergenceWarning: Initialization 1 did not converge. Try different init parameters, or increase max_iter, tol or check for degenerate data.\n",
      "  warnings.warn(\n",
      "100%|██████████| 600/600 [00:18<00:00, 32.79it/s]\n",
      "/home/av/IST/slp-labs/LAB2/pf_tools.py:89: UserWarning: The feature directory already exists, and no new feature extraction will be performed.\n",
      "  warnings.warn(\"The feature directory already exists, and no new feature extraction will be performed.\")\n"
     ]
    },
    {
     "name": "stdout",
     "output_type": "stream",
     "text": [
      "Accuracy Score: 0.5983333333333334\n",
      "Combination 53\n",
      "Initialization 0\n",
      "  Iteration 1\t time lapse 3.61560s\t ll change inf\n",
      "  Iteration 2\t time lapse 1.12268s\t ll change 1.44441\n",
      "  Iteration 3\t time lapse 1.50031s\t ll change 0.01939\n",
      "  Iteration 4\t time lapse 1.30311s\t ll change 0.01152\n",
      "  Iteration 5\t time lapse 1.40732s\t ll change 0.00795\n",
      "  Iteration 6\t time lapse 1.38512s\t ll change 0.00593\n",
      "  Iteration 7\t time lapse 1.26643s\t ll change 0.00473\n",
      "  Iteration 8\t time lapse 1.37460s\t ll change 0.00400\n",
      "  Iteration 9\t time lapse 1.47120s\t ll change 0.00354\n",
      "  Iteration 10\t time lapse 1.16856s\t ll change 0.00323\n",
      "  Iteration 11\t time lapse 1.28616s\t ll change 0.00296\n",
      "  Iteration 12\t time lapse 1.66830s\t ll change 0.00269\n",
      "  Iteration 13\t time lapse 1.56934s\t ll change 0.00241\n",
      "  Iteration 14\t time lapse 1.59705s\t ll change 0.00212\n",
      "  Iteration 15\t time lapse 1.60011s\t ll change 0.00183\n",
      "Initialization converged: False\t time lapse 23.33613s\t ll -27.15249\n"
     ]
    },
    {
     "name": "stderr",
     "output_type": "stream",
     "text": [
      "/home/av/.local/lib/python3.10/site-packages/sklearn/mixture/_base.py:274: ConvergenceWarning: Initialization 1 did not converge. Try different init parameters, or increase max_iter, tol or check for degenerate data.\n",
      "  warnings.warn(\n"
     ]
    },
    {
     "name": "stdout",
     "output_type": "stream",
     "text": [
      "Initialization 0\n",
      "  Iteration 1\t time lapse 3.35275s\t ll change inf\n",
      "  Iteration 2\t time lapse 1.49630s\t ll change 1.20641\n",
      "  Iteration 3\t time lapse 1.26132s\t ll change 0.01869\n",
      "  Iteration 4\t time lapse 1.57795s\t ll change 0.01258\n",
      "  Iteration 5\t time lapse 1.28769s\t ll change 0.00998\n",
      "  Iteration 6\t time lapse 1.40485s\t ll change 0.00877\n",
      "  Iteration 7\t time lapse 1.37356s\t ll change 0.00825\n",
      "  Iteration 8\t time lapse 1.54863s\t ll change 0.00793\n",
      "  Iteration 9\t time lapse 1.76467s\t ll change 0.00748\n",
      "  Iteration 10\t time lapse 1.65668s\t ll change 0.00679\n",
      "  Iteration 11\t time lapse 1.49286s\t ll change 0.00590\n",
      "  Iteration 12\t time lapse 1.34936s\t ll change 0.00498\n",
      "  Iteration 13\t time lapse 1.48339s\t ll change 0.00413\n",
      "  Iteration 14\t time lapse 2.00381s\t ll change 0.00338\n",
      "  Iteration 15\t time lapse 1.72771s\t ll change 0.00275\n",
      "Initialization converged: False\t time lapse 24.78277s\t ll -27.36282\n"
     ]
    },
    {
     "name": "stderr",
     "output_type": "stream",
     "text": [
      "/home/av/.local/lib/python3.10/site-packages/sklearn/mixture/_base.py:274: ConvergenceWarning: Initialization 1 did not converge. Try different init parameters, or increase max_iter, tol or check for degenerate data.\n",
      "  warnings.warn(\n"
     ]
    },
    {
     "name": "stdout",
     "output_type": "stream",
     "text": [
      "Initialization 0\n",
      "  Iteration 1\t time lapse 4.61760s\t ll change inf\n",
      "  Iteration 2\t time lapse 2.09543s\t ll change 1.31616\n",
      "  Iteration 3\t time lapse 2.19328s\t ll change 0.02316\n",
      "  Iteration 4\t time lapse 1.82173s\t ll change 0.01391\n",
      "  Iteration 5\t time lapse 2.03856s\t ll change 0.00918\n",
      "  Iteration 6\t time lapse 2.19657s\t ll change 0.00643\n",
      "  Iteration 7\t time lapse 1.79876s\t ll change 0.00477\n",
      "  Iteration 8\t time lapse 2.09803s\t ll change 0.00375\n",
      "  Iteration 9\t time lapse 2.11273s\t ll change 0.00311\n",
      "  Iteration 10\t time lapse 1.70672s\t ll change 0.00268\n",
      "  Iteration 11\t time lapse 2.11490s\t ll change 0.00237\n",
      "  Iteration 12\t time lapse 2.38632s\t ll change 0.00210\n",
      "  Iteration 13\t time lapse 2.43038s\t ll change 0.00187\n",
      "  Iteration 14\t time lapse 2.40547s\t ll change 0.00164\n",
      "  Iteration 15\t time lapse 1.97233s\t ll change 0.00143\n",
      "Initialization converged: False\t time lapse 33.98923s\t ll -27.81806\n"
     ]
    },
    {
     "name": "stderr",
     "output_type": "stream",
     "text": [
      "/home/av/.local/lib/python3.10/site-packages/sklearn/mixture/_base.py:274: ConvergenceWarning: Initialization 1 did not converge. Try different init parameters, or increase max_iter, tol or check for degenerate data.\n",
      "  warnings.warn(\n"
     ]
    },
    {
     "name": "stdout",
     "output_type": "stream",
     "text": [
      "Initialization 0\n",
      "  Iteration 1\t time lapse 5.67420s\t ll change inf\n",
      "  Iteration 2\t time lapse 1.85243s\t ll change 1.38661\n",
      "  Iteration 3\t time lapse 1.75911s\t ll change 0.02306\n",
      "  Iteration 4\t time lapse 1.55482s\t ll change 0.01583\n",
      "  Iteration 5\t time lapse 1.61769s\t ll change 0.01245\n",
      "  Iteration 6\t time lapse 2.08941s\t ll change 0.01009\n",
      "  Iteration 7\t time lapse 1.75817s\t ll change 0.00826\n",
      "  Iteration 8\t time lapse 1.67661s\t ll change 0.00689\n",
      "  Iteration 9\t time lapse 2.11458s\t ll change 0.00589\n",
      "  Iteration 10\t time lapse 1.87723s\t ll change 0.00509\n",
      "  Iteration 11\t time lapse 1.63542s\t ll change 0.00437\n",
      "  Iteration 12\t time lapse 1.83781s\t ll change 0.00369\n",
      "  Iteration 13\t time lapse 1.77657s\t ll change 0.00304\n",
      "  Iteration 14\t time lapse 1.64253s\t ll change 0.00245\n",
      "  Iteration 15\t time lapse 1.92728s\t ll change 0.00196\n",
      "Initialization converged: False\t time lapse 30.79511s\t ll -27.31642\n"
     ]
    },
    {
     "name": "stderr",
     "output_type": "stream",
     "text": [
      "/home/av/.local/lib/python3.10/site-packages/sklearn/mixture/_base.py:274: ConvergenceWarning: Initialization 1 did not converge. Try different init parameters, or increase max_iter, tol or check for degenerate data.\n",
      "  warnings.warn(\n"
     ]
    },
    {
     "name": "stdout",
     "output_type": "stream",
     "text": [
      "Initialization 0\n",
      "  Iteration 1\t time lapse 4.12411s\t ll change inf\n",
      "  Iteration 2\t time lapse 1.72577s\t ll change 1.62876\n",
      "  Iteration 3\t time lapse 1.58204s\t ll change 0.01879\n",
      "  Iteration 4\t time lapse 1.81557s\t ll change 0.01229\n",
      "  Iteration 5\t time lapse 1.58746s\t ll change 0.00984\n",
      "  Iteration 6\t time lapse 1.61595s\t ll change 0.00872\n",
      "  Iteration 7\t time lapse 1.86328s\t ll change 0.00800\n",
      "  Iteration 8\t time lapse 1.49532s\t ll change 0.00735\n",
      "  Iteration 9\t time lapse 1.52709s\t ll change 0.00659\n",
      "  Iteration 10\t time lapse 1.95611s\t ll change 0.00575\n",
      "  Iteration 11\t time lapse 1.79142s\t ll change 0.00496\n",
      "  Iteration 12\t time lapse 1.89947s\t ll change 0.00431\n",
      "  Iteration 13\t time lapse 2.13972s\t ll change 0.00376\n",
      "  Iteration 14\t time lapse 1.52260s\t ll change 0.00324\n",
      "  Iteration 15\t time lapse 1.43803s\t ll change 0.00270\n",
      "Initialization converged: False\t time lapse 28.08475s\t ll -26.91021\n"
     ]
    },
    {
     "name": "stderr",
     "output_type": "stream",
     "text": [
      "/home/av/.local/lib/python3.10/site-packages/sklearn/mixture/_base.py:274: ConvergenceWarning: Initialization 1 did not converge. Try different init parameters, or increase max_iter, tol or check for degenerate data.\n",
      "  warnings.warn(\n"
     ]
    },
    {
     "name": "stdout",
     "output_type": "stream",
     "text": [
      "Initialization 0\n",
      "  Iteration 1\t time lapse 4.85634s\t ll change inf\n",
      "  Iteration 2\t time lapse 1.64436s\t ll change 0.05358\n",
      "  Iteration 3\t time lapse 1.74404s\t ll change 0.02043\n",
      "  Iteration 4\t time lapse 1.78285s\t ll change 0.01380\n",
      "  Iteration 5\t time lapse 1.64519s\t ll change 0.01147\n",
      "  Iteration 6\t time lapse 1.83981s\t ll change 0.01025\n",
      "  Iteration 7\t time lapse 1.86922s\t ll change 0.00921\n",
      "  Iteration 8\t time lapse 1.62310s\t ll change 0.00804\n",
      "  Iteration 9\t time lapse 1.70818s\t ll change 0.00678\n",
      "  Iteration 10\t time lapse 1.69116s\t ll change 0.00562\n",
      "  Iteration 11\t time lapse 1.92681s\t ll change 0.00469\n",
      "  Iteration 12\t time lapse 1.55432s\t ll change 0.00397\n",
      "  Iteration 13\t time lapse 1.73109s\t ll change 0.00340\n",
      "  Iteration 14\t time lapse 1.82773s\t ll change 0.00293\n",
      "  Iteration 15\t time lapse 1.54142s\t ll change 0.00255\n",
      "Initialization converged: False\t time lapse 28.98610s\t ll -27.34526\n"
     ]
    },
    {
     "name": "stderr",
     "output_type": "stream",
     "text": [
      "/home/av/.local/lib/python3.10/site-packages/sklearn/mixture/_base.py:274: ConvergenceWarning: Initialization 1 did not converge. Try different init parameters, or increase max_iter, tol or check for degenerate data.\n",
      "  warnings.warn(\n",
      "100%|██████████| 600/600 [00:40<00:00, 14.70it/s]\n",
      "/home/av/IST/slp-labs/LAB2/pf_tools.py:89: UserWarning: The feature directory already exists, and no new feature extraction will be performed.\n",
      "  warnings.warn(\"The feature directory already exists, and no new feature extraction will be performed.\")\n"
     ]
    },
    {
     "name": "stdout",
     "output_type": "stream",
     "text": [
      "Accuracy Score: 0.6483333333333333\n",
      "Combination 54\n",
      "Initialization 0\n",
      "  Iteration 1\t time lapse 7.89863s\t ll change inf\n",
      "  Iteration 2\t time lapse 2.21289s\t ll change 1.42715\n",
      "  Iteration 3\t time lapse 2.08842s\t ll change 0.01835\n",
      "  Iteration 4\t time lapse 2.27183s\t ll change 0.01016\n",
      "  Iteration 5\t time lapse 2.44602s\t ll change 0.00696\n",
      "  Iteration 6\t time lapse 3.41654s\t ll change 0.00537\n",
      "  Iteration 7\t time lapse 2.65814s\t ll change 0.00449\n",
      "  Iteration 8\t time lapse 3.05161s\t ll change 0.00397\n",
      "  Iteration 9\t time lapse 2.99710s\t ll change 0.00363\n",
      "  Iteration 10\t time lapse 3.13959s\t ll change 0.00336\n",
      "  Iteration 11\t time lapse 3.35309s\t ll change 0.00313\n",
      "  Iteration 12\t time lapse 3.43749s\t ll change 0.00291\n",
      "  Iteration 13\t time lapse 2.82955s\t ll change 0.00270\n",
      "  Iteration 14\t time lapse 2.39391s\t ll change 0.00251\n",
      "  Iteration 15\t time lapse 2.15829s\t ll change 0.00236\n",
      "Initialization converged: False\t time lapse 46.35377s\t ll -27.05186\n"
     ]
    },
    {
     "name": "stderr",
     "output_type": "stream",
     "text": [
      "/home/av/.local/lib/python3.10/site-packages/sklearn/mixture/_base.py:274: ConvergenceWarning: Initialization 1 did not converge. Try different init parameters, or increase max_iter, tol or check for degenerate data.\n",
      "  warnings.warn(\n"
     ]
    },
    {
     "name": "stdout",
     "output_type": "stream",
     "text": [
      "Initialization 0\n",
      "  Iteration 1\t time lapse 6.74646s\t ll change inf\n",
      "  Iteration 2\t time lapse 2.82894s\t ll change 1.12347\n",
      "  Iteration 3\t time lapse 2.65002s\t ll change 0.01982\n",
      "  Iteration 4\t time lapse 2.48694s\t ll change 0.01131\n",
      "  Iteration 5\t time lapse 2.72058s\t ll change 0.00785\n",
      "  Iteration 6\t time lapse 2.68165s\t ll change 0.00606\n",
      "  Iteration 7\t time lapse 2.56063s\t ll change 0.00499\n",
      "  Iteration 8\t time lapse 2.44059s\t ll change 0.00428\n",
      "  Iteration 9\t time lapse 3.02533s\t ll change 0.00378\n",
      "  Iteration 10\t time lapse 2.50373s\t ll change 0.00339\n",
      "  Iteration 11\t time lapse 2.43022s\t ll change 0.00307\n",
      "  Iteration 12\t time lapse 2.62873s\t ll change 0.00279\n",
      "  Iteration 13\t time lapse 2.34515s\t ll change 0.00253\n",
      "  Iteration 14\t time lapse 2.39758s\t ll change 0.00230\n",
      "  Iteration 15\t time lapse 2.62865s\t ll change 0.00209\n",
      "Initialization converged: False\t time lapse 43.07628s\t ll -27.25650\n"
     ]
    },
    {
     "name": "stderr",
     "output_type": "stream",
     "text": [
      "/home/av/.local/lib/python3.10/site-packages/sklearn/mixture/_base.py:274: ConvergenceWarning: Initialization 1 did not converge. Try different init parameters, or increase max_iter, tol or check for degenerate data.\n",
      "  warnings.warn(\n"
     ]
    },
    {
     "name": "stdout",
     "output_type": "stream",
     "text": [
      "Initialization 0\n",
      "  Iteration 1\t time lapse 7.85253s\t ll change inf\n",
      "  Iteration 2\t time lapse 3.24725s\t ll change 1.20448\n",
      "  Iteration 3\t time lapse 2.62791s\t ll change 0.02147\n",
      "  Iteration 4\t time lapse 2.95167s\t ll change 0.01443\n",
      "  Iteration 5\t time lapse 2.55532s\t ll change 0.01117\n",
      "  Iteration 6\t time lapse 2.68043s\t ll change 0.00888\n",
      "  Iteration 7\t time lapse 2.78212s\t ll change 0.00720\n",
      "  Iteration 8\t time lapse 3.15749s\t ll change 0.00602\n",
      "  Iteration 9\t time lapse 2.65962s\t ll change 0.00508\n",
      "  Iteration 10\t time lapse 2.69701s\t ll change 0.00425\n",
      "  Iteration 11\t time lapse 2.64402s\t ll change 0.00353\n",
      "  Iteration 12\t time lapse 3.08151s\t ll change 0.00293\n",
      "  Iteration 13\t time lapse 2.70889s\t ll change 0.00245\n",
      "  Iteration 14\t time lapse 2.85596s\t ll change 0.00209\n",
      "  Iteration 15\t time lapse 2.79591s\t ll change 0.00182\n",
      "Initialization converged: False\t time lapse 47.29829s\t ll -27.67979\n"
     ]
    },
    {
     "name": "stderr",
     "output_type": "stream",
     "text": [
      "/home/av/.local/lib/python3.10/site-packages/sklearn/mixture/_base.py:274: ConvergenceWarning: Initialization 1 did not converge. Try different init parameters, or increase max_iter, tol or check for degenerate data.\n",
      "  warnings.warn(\n"
     ]
    },
    {
     "name": "stdout",
     "output_type": "stream",
     "text": [
      "Initialization 0\n",
      "  Iteration 1\t time lapse 6.23488s\t ll change inf\n",
      "  Iteration 2\t time lapse 2.26107s\t ll change 1.18258\n",
      "  Iteration 3\t time lapse 2.45637s\t ll change 0.02178\n",
      "  Iteration 4\t time lapse 2.22199s\t ll change 0.01395\n",
      "  Iteration 5\t time lapse 2.63674s\t ll change 0.01110\n",
      "  Iteration 6\t time lapse 2.77392s\t ll change 0.00957\n",
      "  Iteration 7\t time lapse 2.62772s\t ll change 0.00847\n",
      "  Iteration 8\t time lapse 2.14110s\t ll change 0.00754\n",
      "  Iteration 9\t time lapse 2.76754s\t ll change 0.00665\n",
      "  Iteration 10\t time lapse 2.25184s\t ll change 0.00574\n",
      "  Iteration 11\t time lapse 2.26742s\t ll change 0.00497\n",
      "  Iteration 12\t time lapse 2.41504s\t ll change 0.00431\n",
      "  Iteration 13\t time lapse 2.26535s\t ll change 0.00375\n",
      "  Iteration 14\t time lapse 2.30518s\t ll change 0.00366\n",
      "  Iteration 15\t time lapse 2.44662s\t ll change 0.00416\n",
      "Initialization converged: False\t time lapse 40.07331s\t ll -27.21617\n"
     ]
    },
    {
     "name": "stderr",
     "output_type": "stream",
     "text": [
      "/home/av/.local/lib/python3.10/site-packages/sklearn/mixture/_base.py:274: ConvergenceWarning: Initialization 1 did not converge. Try different init parameters, or increase max_iter, tol or check for degenerate data.\n",
      "  warnings.warn(\n"
     ]
    },
    {
     "name": "stdout",
     "output_type": "stream",
     "text": [
      "Initialization 0\n",
      "  Iteration 1\t time lapse 5.73886s\t ll change inf\n",
      "  Iteration 2\t time lapse 2.22486s\t ll change 1.52973\n",
      "  Iteration 3\t time lapse 2.00970s\t ll change 0.02045\n",
      "  Iteration 4\t time lapse 2.04261s\t ll change 0.01246\n",
      "  Iteration 5\t time lapse 2.17902s\t ll change 0.00917\n",
      "  Iteration 6\t time lapse 2.00947s\t ll change 0.00718\n",
      "  Iteration 7\t time lapse 2.26679s\t ll change 0.00574\n",
      "  Iteration 8\t time lapse 1.99553s\t ll change 0.00468\n",
      "  Iteration 9\t time lapse 1.87884s\t ll change 0.00389\n",
      "  Iteration 10\t time lapse 2.90555s\t ll change 0.00328\n",
      "  Iteration 11\t time lapse 2.96990s\t ll change 0.00280\n",
      "  Iteration 12\t time lapse 2.98303s\t ll change 0.00242\n",
      "  Iteration 13\t time lapse 3.54570s\t ll change 0.00214\n",
      "  Iteration 14\t time lapse 2.53292s\t ll change 0.00193\n",
      "  Iteration 15\t time lapse 2.23699s\t ll change 0.00178\n",
      "Initialization converged: False\t time lapse 39.52030s\t ll -26.83963\n"
     ]
    },
    {
     "name": "stderr",
     "output_type": "stream",
     "text": [
      "/home/av/.local/lib/python3.10/site-packages/sklearn/mixture/_base.py:274: ConvergenceWarning: Initialization 1 did not converge. Try different init parameters, or increase max_iter, tol or check for degenerate data.\n",
      "  warnings.warn(\n"
     ]
    },
    {
     "name": "stdout",
     "output_type": "stream",
     "text": [
      "Initialization 0\n",
      "  Iteration 1\t time lapse 5.57763s\t ll change inf\n",
      "  Iteration 2\t time lapse 2.26063s\t ll change 0.05930\n",
      "  Iteration 3\t time lapse 2.09426s\t ll change 0.01966\n",
      "  Iteration 4\t time lapse 2.26097s\t ll change 0.01075\n",
      "  Iteration 5\t time lapse 2.15616s\t ll change 0.00726\n",
      "  Iteration 6\t time lapse 2.25843s\t ll change 0.00549\n",
      "  Iteration 7\t time lapse 2.10266s\t ll change 0.00449\n",
      "  Iteration 8\t time lapse 2.26427s\t ll change 0.00392\n",
      "  Iteration 9\t time lapse 2.85820s\t ll change 0.00358\n",
      "  Iteration 10\t time lapse 3.19586s\t ll change 0.00343\n",
      "  Iteration 11\t time lapse 2.83066s\t ll change 0.00340\n",
      "  Iteration 12\t time lapse 3.05523s\t ll change 0.00342\n",
      "  Iteration 13\t time lapse 2.67188s\t ll change 0.00340\n",
      "  Iteration 14\t time lapse 2.32506s\t ll change 0.00325\n",
      "  Iteration 15\t time lapse 2.09526s\t ll change 0.00297\n",
      "Initialization converged: False\t time lapse 40.00767s\t ll -27.25193\n"
     ]
    },
    {
     "name": "stderr",
     "output_type": "stream",
     "text": [
      "/home/av/.local/lib/python3.10/site-packages/sklearn/mixture/_base.py:274: ConvergenceWarning: Initialization 1 did not converge. Try different init parameters, or increase max_iter, tol or check for degenerate data.\n",
      "  warnings.warn(\n",
      "100%|██████████| 600/600 [00:52<00:00, 11.53it/s]\n",
      "/home/av/IST/slp-labs/LAB2/pf_tools.py:89: UserWarning: The feature directory already exists, and no new feature extraction will be performed.\n",
      "  warnings.warn(\"The feature directory already exists, and no new feature extraction will be performed.\")\n"
     ]
    },
    {
     "name": "stdout",
     "output_type": "stream",
     "text": [
      "Accuracy Score: 0.6766666666666666\n",
      "Combination 55\n",
      "Initialization 0\n",
      "  Iteration 1\t time lapse 2.16060s\t ll change inf\n",
      "  Iteration 2\t time lapse 0.63436s\t ll change 1.62622\n",
      "  Iteration 3\t time lapse 0.66561s\t ll change 0.02271\n",
      "  Iteration 4\t time lapse 0.74367s\t ll change 0.01468\n",
      "  Iteration 5\t time lapse 0.63673s\t ll change 0.00987\n",
      "  Iteration 6\t time lapse 0.70816s\t ll change 0.00681\n",
      "  Iteration 7\t time lapse 0.62131s\t ll change 0.00490\n",
      "  Iteration 8\t time lapse 0.58114s\t ll change 0.00370\n",
      "  Iteration 9\t time lapse 0.60467s\t ll change 0.00294\n",
      "  Iteration 10\t time lapse 0.62817s\t ll change 0.00242\n",
      "  Iteration 11\t time lapse 0.57168s\t ll change 0.00205\n",
      "  Iteration 12\t time lapse 0.59450s\t ll change 0.00176\n",
      "  Iteration 13\t time lapse 0.59362s\t ll change 0.00151\n",
      "  Iteration 14\t time lapse 0.67911s\t ll change 0.00129\n",
      "  Iteration 15\t time lapse 0.81376s\t ll change 0.00109\n",
      "Initialization converged: False\t time lapse 11.23717s\t ll -27.27240\n"
     ]
    },
    {
     "name": "stderr",
     "output_type": "stream",
     "text": [
      "/home/av/.local/lib/python3.10/site-packages/sklearn/mixture/_base.py:274: ConvergenceWarning: Initialization 1 did not converge. Try different init parameters, or increase max_iter, tol or check for degenerate data.\n",
      "  warnings.warn(\n"
     ]
    },
    {
     "name": "stdout",
     "output_type": "stream",
     "text": [
      "Initialization 0\n",
      "  Iteration 1\t time lapse 2.24982s\t ll change inf\n",
      "  Iteration 2\t time lapse 1.03262s\t ll change 1.34204\n",
      "  Iteration 3\t time lapse 1.07473s\t ll change 0.02065\n",
      "  Iteration 4\t time lapse 0.99524s\t ll change 0.01336\n",
      "  Iteration 5\t time lapse 0.99221s\t ll change 0.00919\n",
      "  Iteration 6\t time lapse 1.03812s\t ll change 0.00634\n",
      "  Iteration 7\t time lapse 0.87791s\t ll change 0.00443\n",
      "  Iteration 8\t time lapse 0.98257s\t ll change 0.00322\n",
      "  Iteration 9\t time lapse 0.97131s\t ll change 0.00249\n",
      "  Iteration 10\t time lapse 1.05196s\t ll change 0.00205\n",
      "  Iteration 11\t time lapse 0.79139s\t ll change 0.00178\n",
      "  Iteration 12\t time lapse 0.89230s\t ll change 0.00160\n",
      "  Iteration 13\t time lapse 0.78307s\t ll change 0.00145\n",
      "  Iteration 14\t time lapse 0.77822s\t ll change 0.00131\n",
      "  Iteration 15\t time lapse 0.91202s\t ll change 0.00116\n",
      "Initialization converged: False\t time lapse 15.42356s\t ll -27.49933\n"
     ]
    },
    {
     "name": "stderr",
     "output_type": "stream",
     "text": [
      "/home/av/.local/lib/python3.10/site-packages/sklearn/mixture/_base.py:274: ConvergenceWarning: Initialization 1 did not converge. Try different init parameters, or increase max_iter, tol or check for degenerate data.\n",
      "  warnings.warn(\n"
     ]
    },
    {
     "name": "stdout",
     "output_type": "stream",
     "text": [
      "Initialization 0\n",
      "  Iteration 1\t time lapse 2.35318s\t ll change inf\n",
      "  Iteration 2\t time lapse 0.86326s\t ll change 1.46366\n",
      "  Iteration 3\t time lapse 0.88281s\t ll change 0.02220\n",
      "  Iteration 4\t time lapse 0.95124s\t ll change 0.01421\n",
      "  Iteration 5\t time lapse 1.06381s\t ll change 0.01062\n",
      "  Iteration 6\t time lapse 1.00176s\t ll change 0.00825\n",
      "  Iteration 7\t time lapse 0.98611s\t ll change 0.00634\n",
      "  Iteration 8\t time lapse 0.92190s\t ll change 0.00478\n",
      "  Iteration 9\t time lapse 0.86332s\t ll change 0.00358\n",
      "  Iteration 10\t time lapse 0.93295s\t ll change 0.00270\n",
      "  Iteration 11\t time lapse 0.94280s\t ll change 0.00206\n",
      "  Iteration 12\t time lapse 1.06545s\t ll change 0.00159\n",
      "  Iteration 13\t time lapse 0.95390s\t ll change 0.00125\n",
      "  Iteration 14\t time lapse 0.98886s\t ll change 0.00099\n",
      "Initialization converged: True\t time lapse 14.77143s\t ll -27.97341\n",
      "Initialization 0\n",
      "  Iteration 1\t time lapse 1.96036s\t ll change inf\n",
      "  Iteration 2\t time lapse 0.89504s\t ll change 1.47340\n",
      "  Iteration 3\t time lapse 0.80148s\t ll change 0.02428\n",
      "  Iteration 4\t time lapse 0.81378s\t ll change 0.01673\n",
      "  Iteration 5\t time lapse 0.80131s\t ll change 0.01196\n",
      "  Iteration 6\t time lapse 0.73710s\t ll change 0.00853\n",
      "  Iteration 7\t time lapse 0.79271s\t ll change 0.00604\n",
      "  Iteration 8\t time lapse 0.81786s\t ll change 0.00424\n",
      "  Iteration 9\t time lapse 0.79329s\t ll change 0.00298\n",
      "  Iteration 10\t time lapse 0.93029s\t ll change 0.00211\n",
      "  Iteration 11\t time lapse 0.89518s\t ll change 0.00152\n",
      "  Iteration 12\t time lapse 0.90165s\t ll change 0.00111\n",
      "  Iteration 13\t time lapse 0.78495s\t ll change 0.00082\n",
      "Initialization converged: True\t time lapse 11.92525s\t ll -27.43292\n",
      "Initialization 0\n",
      "  Iteration 1\t time lapse 1.93568s\t ll change inf\n",
      "  Iteration 2\t time lapse 0.81547s\t ll change 1.80149\n",
      "  Iteration 3\t time lapse 0.73503s\t ll change 0.02259\n",
      "  Iteration 4\t time lapse 0.80595s\t ll change 0.01580\n",
      "  Iteration 5\t time lapse 0.78009s\t ll change 0.01234\n",
      "  Iteration 6\t time lapse 0.71852s\t ll change 0.01002\n",
      "  Iteration 7\t time lapse 0.73065s\t ll change 0.00816\n",
      "  Iteration 8\t time lapse 0.75977s\t ll change 0.00650\n",
      "  Iteration 9\t time lapse 0.76817s\t ll change 0.00504\n",
      "  Iteration 10\t time lapse 0.85701s\t ll change 0.00380\n",
      "  Iteration 11\t time lapse 0.77042s\t ll change 0.00280\n",
      "  Iteration 12\t time lapse 0.80317s\t ll change 0.00204\n",
      "  Iteration 13\t time lapse 0.79518s\t ll change 0.00148\n",
      "  Iteration 14\t time lapse 0.71854s\t ll change 0.00109\n",
      "  Iteration 15\t time lapse 0.73267s\t ll change 0.00081\n",
      "Initialization converged: True\t time lapse 12.72642s\t ll -27.00401\n",
      "Initialization 0\n",
      "  Iteration 1\t time lapse 2.03431s\t ll change inf\n",
      "  Iteration 2\t time lapse 0.81053s\t ll change 1.18768\n",
      "  Iteration 3\t time lapse 0.88060s\t ll change 0.01521\n",
      "  Iteration 4\t time lapse 0.76302s\t ll change 0.01001\n",
      "  Iteration 5\t time lapse 0.87666s\t ll change 0.00822\n",
      "  Iteration 6\t time lapse 0.93455s\t ll change 0.00758\n",
      "  Iteration 7\t time lapse 1.00306s\t ll change 0.00752\n",
      "  Iteration 8\t time lapse 0.93274s\t ll change 0.00783\n",
      "  Iteration 9\t time lapse 0.97042s\t ll change 0.00807\n",
      "  Iteration 10\t time lapse 1.08152s\t ll change 0.00756\n",
      "  Iteration 11\t time lapse 0.96552s\t ll change 0.00611\n",
      "  Iteration 12\t time lapse 0.81923s\t ll change 0.00438\n",
      "  Iteration 13\t time lapse 0.89736s\t ll change 0.00299\n",
      "  Iteration 14\t time lapse 0.87970s\t ll change 0.00207\n",
      "  Iteration 15\t time lapse 0.73665s\t ll change 0.00151\n",
      "Initialization converged: False\t time lapse 14.58622s\t ll -27.47491\n"
     ]
    },
    {
     "name": "stderr",
     "output_type": "stream",
     "text": [
      "/home/av/.local/lib/python3.10/site-packages/sklearn/mixture/_base.py:274: ConvergenceWarning: Initialization 1 did not converge. Try different init parameters, or increase max_iter, tol or check for degenerate data.\n",
      "  warnings.warn(\n",
      "100%|██████████| 600/600 [00:18<00:00, 31.77it/s]\n",
      "/home/av/IST/slp-labs/LAB2/pf_tools.py:89: UserWarning: The feature directory already exists, and no new feature extraction will be performed.\n",
      "  warnings.warn(\"The feature directory already exists, and no new feature extraction will be performed.\")\n"
     ]
    },
    {
     "name": "stdout",
     "output_type": "stream",
     "text": [
      "Accuracy Score: 0.5866666666666667\n",
      "Combination 56\n",
      "Initialization 0\n",
      "  Iteration 1\t time lapse 4.16269s\t ll change inf\n",
      "  Iteration 2\t time lapse 1.46941s\t ll change 1.45695\n",
      "  Iteration 3\t time lapse 1.84888s\t ll change 0.01868\n",
      "  Iteration 4\t time lapse 1.53997s\t ll change 0.01157\n",
      "  Iteration 5\t time lapse 1.69818s\t ll change 0.00851\n",
      "  Iteration 6\t time lapse 1.57141s\t ll change 0.00681\n",
      "  Iteration 7\t time lapse 1.70045s\t ll change 0.00564\n",
      "  Iteration 8\t time lapse 1.75456s\t ll change 0.00472\n",
      "  Iteration 9\t time lapse 1.61546s\t ll change 0.00399\n",
      "  Iteration 10\t time lapse 1.63253s\t ll change 0.00347\n",
      "  Iteration 11\t time lapse 1.64133s\t ll change 0.00311\n",
      "  Iteration 12\t time lapse 1.59881s\t ll change 0.00287\n",
      "  Iteration 13\t time lapse 1.55320s\t ll change 0.00268\n",
      "  Iteration 14\t time lapse 1.55149s\t ll change 0.00251\n",
      "  Iteration 15\t time lapse 1.92920s\t ll change 0.00232\n",
      "Initialization converged: False\t time lapse 27.26859s\t ll -27.15521\n"
     ]
    },
    {
     "name": "stderr",
     "output_type": "stream",
     "text": [
      "/home/av/.local/lib/python3.10/site-packages/sklearn/mixture/_base.py:274: ConvergenceWarning: Initialization 1 did not converge. Try different init parameters, or increase max_iter, tol or check for degenerate data.\n",
      "  warnings.warn(\n"
     ]
    },
    {
     "name": "stdout",
     "output_type": "stream",
     "text": [
      "Initialization 0\n",
      "  Iteration 1\t time lapse 5.30071s\t ll change inf\n",
      "  Iteration 2\t time lapse 1.90840s\t ll change 1.21394\n",
      "  Iteration 3\t time lapse 1.91181s\t ll change 0.01952\n",
      "  Iteration 4\t time lapse 2.00418s\t ll change 0.01268\n",
      "  Iteration 5\t time lapse 1.88476s\t ll change 0.00959\n",
      "  Iteration 6\t time lapse 1.66942s\t ll change 0.00769\n",
      "  Iteration 7\t time lapse 2.14153s\t ll change 0.00632\n",
      "  Iteration 8\t time lapse 1.84527s\t ll change 0.00525\n",
      "  Iteration 9\t time lapse 1.65402s\t ll change 0.00438\n",
      "  Iteration 10\t time lapse 2.10067s\t ll change 0.00370\n",
      "  Iteration 11\t time lapse 2.03037s\t ll change 0.00322\n",
      "  Iteration 12\t time lapse 1.80432s\t ll change 0.00292\n",
      "  Iteration 13\t time lapse 2.08544s\t ll change 0.00278\n",
      "  Iteration 14\t time lapse 1.88872s\t ll change 0.00273\n",
      "  Iteration 15\t time lapse 1.70525s\t ll change 0.00270\n",
      "Initialization converged: False\t time lapse 31.93579s\t ll -27.36882\n"
     ]
    },
    {
     "name": "stderr",
     "output_type": "stream",
     "text": [
      "/home/av/.local/lib/python3.10/site-packages/sklearn/mixture/_base.py:274: ConvergenceWarning: Initialization 1 did not converge. Try different init parameters, or increase max_iter, tol or check for degenerate data.\n",
      "  warnings.warn(\n"
     ]
    },
    {
     "name": "stdout",
     "output_type": "stream",
     "text": [
      "Initialization 0\n",
      "  Iteration 1\t time lapse 3.29535s\t ll change inf\n",
      "  Iteration 2\t time lapse 1.43577s\t ll change 1.32334\n",
      "  Iteration 3\t time lapse 1.33846s\t ll change 0.02110\n",
      "  Iteration 4\t time lapse 1.65143s\t ll change 0.01304\n",
      "  Iteration 5\t time lapse 1.41353s\t ll change 0.00928\n",
      "  Iteration 6\t time lapse 1.73834s\t ll change 0.00710\n",
      "  Iteration 7\t time lapse 1.57293s\t ll change 0.00571\n",
      "  Iteration 8\t time lapse 1.36904s\t ll change 0.00479\n",
      "  Iteration 9\t time lapse 1.41081s\t ll change 0.00418\n",
      "  Iteration 10\t time lapse 1.55722s\t ll change 0.00380\n",
      "  Iteration 11\t time lapse 1.45899s\t ll change 0.00358\n",
      "  Iteration 12\t time lapse 1.51243s\t ll change 0.00352\n",
      "  Iteration 13\t time lapse 1.66603s\t ll change 0.00358\n",
      "  Iteration 14\t time lapse 1.52008s\t ll change 0.00360\n",
      "  Iteration 15\t time lapse 1.48739s\t ll change 0.00336\n",
      "Initialization converged: False\t time lapse 24.42794s\t ll -27.81970\n"
     ]
    },
    {
     "name": "stderr",
     "output_type": "stream",
     "text": [
      "/home/av/.local/lib/python3.10/site-packages/sklearn/mixture/_base.py:274: ConvergenceWarning: Initialization 1 did not converge. Try different init parameters, or increase max_iter, tol or check for degenerate data.\n",
      "  warnings.warn(\n"
     ]
    },
    {
     "name": "stdout",
     "output_type": "stream",
     "text": [
      "Initialization 0\n",
      "  Iteration 1\t time lapse 4.19820s\t ll change inf\n",
      "  Iteration 2\t time lapse 1.79442s\t ll change 1.40682\n",
      "  Iteration 3\t time lapse 1.25169s\t ll change 0.02226\n",
      "  Iteration 4\t time lapse 1.32673s\t ll change 0.01527\n",
      "  Iteration 5\t time lapse 1.17272s\t ll change 0.01248\n",
      "  Iteration 6\t time lapse 1.56085s\t ll change 0.01103\n",
      "  Iteration 7\t time lapse 1.38070s\t ll change 0.00999\n",
      "  Iteration 8\t time lapse 1.17906s\t ll change 0.00882\n",
      "  Iteration 9\t time lapse 1.30246s\t ll change 0.00743\n",
      "  Iteration 10\t time lapse 1.21241s\t ll change 0.00607\n",
      "  Iteration 11\t time lapse 1.35276s\t ll change 0.00494\n",
      "  Iteration 12\t time lapse 1.41525s\t ll change 0.00403\n",
      "  Iteration 13\t time lapse 1.18311s\t ll change 0.00329\n",
      "  Iteration 14\t time lapse 1.37505s\t ll change 0.00270\n",
      "  Iteration 15\t time lapse 1.46494s\t ll change 0.00226\n",
      "Initialization converged: False\t time lapse 23.17047s\t ll -27.31598\n"
     ]
    },
    {
     "name": "stderr",
     "output_type": "stream",
     "text": [
      "/home/av/.local/lib/python3.10/site-packages/sklearn/mixture/_base.py:274: ConvergenceWarning: Initialization 1 did not converge. Try different init parameters, or increase max_iter, tol or check for degenerate data.\n",
      "  warnings.warn(\n"
     ]
    },
    {
     "name": "stdout",
     "output_type": "stream",
     "text": [
      "Initialization 0\n",
      "  Iteration 1\t time lapse 2.93911s\t ll change inf\n",
      "  Iteration 2\t time lapse 1.29126s\t ll change 1.59861\n",
      "  Iteration 3\t time lapse 1.12725s\t ll change 0.01789\n",
      "  Iteration 4\t time lapse 1.22803s\t ll change 0.01177\n",
      "  Iteration 5\t time lapse 1.52180s\t ll change 0.00956\n",
      "  Iteration 6\t time lapse 1.15855s\t ll change 0.00877\n",
      "  Iteration 7\t time lapse 1.36863s\t ll change 0.00838\n",
      "  Iteration 8\t time lapse 1.45477s\t ll change 0.00773\n",
      "  Iteration 9\t time lapse 1.19992s\t ll change 0.00677\n",
      "  Iteration 10\t time lapse 1.11684s\t ll change 0.00565\n",
      "  Iteration 11\t time lapse 1.27475s\t ll change 0.00453\n",
      "  Iteration 12\t time lapse 1.31930s\t ll change 0.00355\n",
      "  Iteration 13\t time lapse 1.11001s\t ll change 0.00277\n",
      "  Iteration 14\t time lapse 1.60727s\t ll change 0.00221\n",
      "  Iteration 15\t time lapse 1.08304s\t ll change 0.00182\n",
      "Initialization converged: False\t time lapse 20.80068s\t ll -26.91037\n"
     ]
    },
    {
     "name": "stderr",
     "output_type": "stream",
     "text": [
      "/home/av/.local/lib/python3.10/site-packages/sklearn/mixture/_base.py:274: ConvergenceWarning: Initialization 1 did not converge. Try different init parameters, or increase max_iter, tol or check for degenerate data.\n",
      "  warnings.warn(\n"
     ]
    },
    {
     "name": "stdout",
     "output_type": "stream",
     "text": [
      "Initialization 0\n",
      "  Iteration 1\t time lapse 4.72192s\t ll change inf\n",
      "  Iteration 2\t time lapse 1.63394s\t ll change 0.05432\n",
      "  Iteration 3\t time lapse 1.45913s\t ll change 0.02134\n",
      "  Iteration 4\t time lapse 1.77830s\t ll change 0.01421\n",
      "  Iteration 5\t time lapse 1.35106s\t ll change 0.01114\n",
      "  Iteration 6\t time lapse 1.67762s\t ll change 0.00928\n",
      "  Iteration 7\t time lapse 1.60945s\t ll change 0.00796\n",
      "  Iteration 8\t time lapse 1.63804s\t ll change 0.00693\n",
      "  Iteration 9\t time lapse 1.93366s\t ll change 0.00604\n",
      "  Iteration 10\t time lapse 1.94962s\t ll change 0.00523\n",
      "  Iteration 11\t time lapse 2.15158s\t ll change 0.00452\n",
      "  Iteration 12\t time lapse 1.70313s\t ll change 0.00389\n",
      "  Iteration 13\t time lapse 1.35285s\t ll change 0.00332\n",
      "  Iteration 14\t time lapse 1.91751s\t ll change 0.00280\n",
      "  Iteration 15\t time lapse 1.94985s\t ll change 0.00236\n",
      "Initialization converged: False\t time lapse 28.82780s\t ll -27.34067\n"
     ]
    },
    {
     "name": "stderr",
     "output_type": "stream",
     "text": [
      "/home/av/.local/lib/python3.10/site-packages/sklearn/mixture/_base.py:274: ConvergenceWarning: Initialization 1 did not converge. Try different init parameters, or increase max_iter, tol or check for degenerate data.\n",
      "  warnings.warn(\n",
      "100%|██████████| 600/600 [00:35<00:00, 17.02it/s]\n",
      "/home/av/IST/slp-labs/LAB2/pf_tools.py:89: UserWarning: The feature directory already exists, and no new feature extraction will be performed.\n",
      "  warnings.warn(\"The feature directory already exists, and no new feature extraction will be performed.\")\n"
     ]
    },
    {
     "name": "stdout",
     "output_type": "stream",
     "text": [
      "Accuracy Score: 0.6383333333333333\n",
      "Combination 57\n",
      "Initialization 0\n",
      "  Iteration 1\t time lapse 6.25511s\t ll change inf\n",
      "  Iteration 2\t time lapse 2.08285s\t ll change 1.42686\n",
      "  Iteration 3\t time lapse 3.07529s\t ll change 0.01860\n",
      "  Iteration 4\t time lapse 2.50403s\t ll change 0.01054\n",
      "  Iteration 5\t time lapse 2.35376s\t ll change 0.00739\n",
      "  Iteration 6\t time lapse 2.33098s\t ll change 0.00589\n",
      "  Iteration 7\t time lapse 1.98465s\t ll change 0.00513\n",
      "  Iteration 8\t time lapse 2.18588s\t ll change 0.00469\n",
      "  Iteration 9\t time lapse 2.45330s\t ll change 0.00436\n",
      "  Iteration 10\t time lapse 1.93470s\t ll change 0.00404\n",
      "  Iteration 11\t time lapse 2.32032s\t ll change 0.00367\n",
      "  Iteration 12\t time lapse 2.12994s\t ll change 0.00326\n",
      "  Iteration 13\t time lapse 2.10429s\t ll change 0.00284\n",
      "  Iteration 14\t time lapse 2.04373s\t ll change 0.00246\n",
      "  Iteration 15\t time lapse 2.08945s\t ll change 0.00213\n",
      "Initialization converged: False\t time lapse 37.84866s\t ll -27.05089\n"
     ]
    },
    {
     "name": "stderr",
     "output_type": "stream",
     "text": [
      "/home/av/.local/lib/python3.10/site-packages/sklearn/mixture/_base.py:274: ConvergenceWarning: Initialization 1 did not converge. Try different init parameters, or increase max_iter, tol or check for degenerate data.\n",
      "  warnings.warn(\n"
     ]
    },
    {
     "name": "stdout",
     "output_type": "stream",
     "text": [
      "Initialization 0\n",
      "  Iteration 1\t time lapse 6.21756s\t ll change inf\n",
      "  Iteration 2\t time lapse 2.51488s\t ll change 1.12215\n",
      "  Iteration 3\t time lapse 2.38736s\t ll change 0.01954\n",
      "  Iteration 4\t time lapse 2.67593s\t ll change 0.01132\n",
      "  Iteration 5\t time lapse 2.42169s\t ll change 0.00802\n",
      "  Iteration 6\t time lapse 2.49989s\t ll change 0.00629\n",
      "  Iteration 7\t time lapse 2.41727s\t ll change 0.00523\n",
      "  Iteration 8\t time lapse 2.28148s\t ll change 0.00452\n",
      "  Iteration 9\t time lapse 2.66406s\t ll change 0.00402\n",
      "  Iteration 10\t time lapse 2.39953s\t ll change 0.00365\n",
      "  Iteration 11\t time lapse 2.75259s\t ll change 0.00335\n",
      "  Iteration 12\t time lapse 2.53931s\t ll change 0.00310\n",
      "  Iteration 13\t time lapse 2.59186s\t ll change 0.00289\n",
      "  Iteration 14\t time lapse 2.78061s\t ll change 0.00268\n",
      "  Iteration 15\t time lapse 2.32577s\t ll change 0.00246\n",
      "Initialization converged: False\t time lapse 41.47035s\t ll -27.26023\n"
     ]
    },
    {
     "name": "stderr",
     "output_type": "stream",
     "text": [
      "/home/av/.local/lib/python3.10/site-packages/sklearn/mixture/_base.py:274: ConvergenceWarning: Initialization 1 did not converge. Try different init parameters, or increase max_iter, tol or check for degenerate data.\n",
      "  warnings.warn(\n"
     ]
    },
    {
     "name": "stdout",
     "output_type": "stream",
     "text": [
      "Initialization 0\n",
      "  Iteration 1\t time lapse 7.34673s\t ll change inf\n",
      "  Iteration 2\t time lapse 3.27666s\t ll change 1.19035\n",
      "  Iteration 3\t time lapse 3.52367s\t ll change 0.02058\n",
      "  Iteration 4\t time lapse 4.17593s\t ll change 0.01309\n",
      "  Iteration 5\t time lapse 4.13498s\t ll change 0.00967\n",
      "  Iteration 6\t time lapse 3.59098s\t ll change 0.00756\n",
      "  Iteration 7\t time lapse 3.49456s\t ll change 0.00612\n",
      "  Iteration 8\t time lapse 2.76974s\t ll change 0.00510\n",
      "  Iteration 9\t time lapse 2.86431s\t ll change 0.00435\n",
      "  Iteration 10\t time lapse 2.78443s\t ll change 0.00377\n",
      "  Iteration 11\t time lapse 2.41026s\t ll change 0.00334\n",
      "  Iteration 12\t time lapse 2.31458s\t ll change 0.00300\n",
      "  Iteration 13\t time lapse 2.74769s\t ll change 0.00275\n",
      "  Iteration 14\t time lapse 3.66138s\t ll change 0.00256\n",
      "  Iteration 15\t time lapse 2.48400s\t ll change 0.00239\n",
      "Initialization converged: False\t time lapse 51.58041s\t ll -27.68292\n"
     ]
    },
    {
     "name": "stderr",
     "output_type": "stream",
     "text": [
      "/home/av/.local/lib/python3.10/site-packages/sklearn/mixture/_base.py:274: ConvergenceWarning: Initialization 1 did not converge. Try different init parameters, or increase max_iter, tol or check for degenerate data.\n",
      "  warnings.warn(\n"
     ]
    },
    {
     "name": "stdout",
     "output_type": "stream",
     "text": [
      "Initialization 0\n",
      "  Iteration 1\t time lapse 6.75470s\t ll change inf\n",
      "  Iteration 2\t time lapse 2.12826s\t ll change 1.18133\n",
      "  Iteration 3\t time lapse 2.22221s\t ll change 0.02063\n",
      "  Iteration 4\t time lapse 2.11266s\t ll change 0.01275\n",
      "  Iteration 5\t time lapse 2.27090s\t ll change 0.00984\n",
      "  Iteration 6\t time lapse 2.12283s\t ll change 0.00829\n",
      "  Iteration 7\t time lapse 2.13529s\t ll change 0.00726\n",
      "  Iteration 8\t time lapse 2.12249s\t ll change 0.00646\n",
      "  Iteration 9\t time lapse 2.15327s\t ll change 0.00579\n",
      "  Iteration 10\t time lapse 2.50018s\t ll change 0.00517\n",
      "  Iteration 11\t time lapse 2.18108s\t ll change 0.00454\n",
      "  Iteration 12\t time lapse 2.93478s\t ll change 0.00402\n",
      "  Iteration 13\t time lapse 2.90227s\t ll change 0.00400\n",
      "  Iteration 14\t time lapse 3.26217s\t ll change 0.00464\n",
      "  Iteration 15\t time lapse 2.95572s\t ll change 0.00658\n",
      "Initialization converged: False\t time lapse 40.75958s\t ll -27.22600\n"
     ]
    },
    {
     "name": "stderr",
     "output_type": "stream",
     "text": [
      "/home/av/.local/lib/python3.10/site-packages/sklearn/mixture/_base.py:274: ConvergenceWarning: Initialization 1 did not converge. Try different init parameters, or increase max_iter, tol or check for degenerate data.\n",
      "  warnings.warn(\n"
     ]
    },
    {
     "name": "stdout",
     "output_type": "stream",
     "text": [
      "Initialization 0\n",
      "  Iteration 1\t time lapse 7.23755s\t ll change inf\n",
      "  Iteration 2\t time lapse 2.62116s\t ll change 1.53040\n",
      "  Iteration 3\t time lapse 2.96985s\t ll change 0.02054\n",
      "  Iteration 4\t time lapse 2.76264s\t ll change 0.01253\n",
      "  Iteration 5\t time lapse 2.85665s\t ll change 0.00914\n",
      "  Iteration 6\t time lapse 2.66764s\t ll change 0.00714\n",
      "  Iteration 7\t time lapse 2.69401s\t ll change 0.00582\n",
      "  Iteration 8\t time lapse 2.84267s\t ll change 0.00485\n",
      "  Iteration 9\t time lapse 2.75356s\t ll change 0.00409\n",
      "  Iteration 10\t time lapse 2.97454s\t ll change 0.00349\n",
      "  Iteration 11\t time lapse 2.69468s\t ll change 0.00299\n",
      "  Iteration 12\t time lapse 2.82004s\t ll change 0.00259\n",
      "  Iteration 13\t time lapse 2.53415s\t ll change 0.00228\n",
      "  Iteration 14\t time lapse 2.98360s\t ll change 0.00205\n",
      "  Iteration 15\t time lapse 2.70656s\t ll change 0.00187\n",
      "Initialization converged: False\t time lapse 46.12031s\t ll -26.83830\n"
     ]
    },
    {
     "name": "stderr",
     "output_type": "stream",
     "text": [
      "/home/av/.local/lib/python3.10/site-packages/sklearn/mixture/_base.py:274: ConvergenceWarning: Initialization 1 did not converge. Try different init parameters, or increase max_iter, tol or check for degenerate data.\n",
      "  warnings.warn(\n"
     ]
    },
    {
     "name": "stdout",
     "output_type": "stream",
     "text": [
      "Initialization 0\n",
      "  Iteration 1\t time lapse 8.07050s\t ll change inf\n",
      "  Iteration 2\t time lapse 2.63419s\t ll change 0.05700\n",
      "  Iteration 3\t time lapse 2.97651s\t ll change 0.01917\n",
      "  Iteration 4\t time lapse 2.73600s\t ll change 0.01122\n",
      "  Iteration 5\t time lapse 3.24469s\t ll change 0.00822\n",
      "  Iteration 6\t time lapse 2.82789s\t ll change 0.00674\n",
      "  Iteration 7\t time lapse 3.05713s\t ll change 0.00595\n",
      "  Iteration 8\t time lapse 3.44281s\t ll change 0.00554\n",
      "  Iteration 9\t time lapse 3.84881s\t ll change 0.00529\n",
      "  Iteration 10\t time lapse 2.98412s\t ll change 0.00496\n",
      "  Iteration 11\t time lapse 2.79148s\t ll change 0.00444\n",
      "  Iteration 12\t time lapse 2.75114s\t ll change 0.00382\n",
      "  Iteration 13\t time lapse 3.12576s\t ll change 0.00320\n",
      "  Iteration 14\t time lapse 2.62640s\t ll change 0.00266\n",
      "  Iteration 15\t time lapse 3.02088s\t ll change 0.00224\n",
      "Initialization converged: False\t time lapse 50.13980s\t ll -27.24811\n"
     ]
    },
    {
     "name": "stderr",
     "output_type": "stream",
     "text": [
      "/home/av/.local/lib/python3.10/site-packages/sklearn/mixture/_base.py:274: ConvergenceWarning: Initialization 1 did not converge. Try different init parameters, or increase max_iter, tol or check for degenerate data.\n",
      "  warnings.warn(\n",
      "100%|██████████| 600/600 [00:53<00:00, 11.24it/s]\n",
      "/home/av/IST/slp-labs/LAB2/pf_tools.py:89: UserWarning: The feature directory already exists, and no new feature extraction will be performed.\n",
      "  warnings.warn(\"The feature directory already exists, and no new feature extraction will be performed.\")\n"
     ]
    },
    {
     "name": "stdout",
     "output_type": "stream",
     "text": [
      "Accuracy Score: 0.6666666666666666\n",
      "Combination 58\n",
      "Initialization 0\n",
      "  Iteration 1\t time lapse 1.97865s\t ll change inf\n",
      "  Iteration 2\t time lapse 0.60013s\t ll change 1.63496\n",
      "  Iteration 3\t time lapse 0.60466s\t ll change 0.02279\n",
      "  Iteration 4\t time lapse 0.60843s\t ll change 0.01474\n",
      "  Iteration 5\t time lapse 0.57543s\t ll change 0.00992\n",
      "  Iteration 6\t time lapse 0.59425s\t ll change 0.00685\n",
      "  Iteration 7\t time lapse 0.60455s\t ll change 0.00492\n",
      "  Iteration 8\t time lapse 0.64412s\t ll change 0.00372\n",
      "  Iteration 9\t time lapse 0.61143s\t ll change 0.00295\n",
      "  Iteration 10\t time lapse 0.65824s\t ll change 0.00243\n",
      "  Iteration 11\t time lapse 0.69209s\t ll change 0.00206\n",
      "  Iteration 12\t time lapse 0.68049s\t ll change 0.00176\n",
      "  Iteration 13\t time lapse 0.94138s\t ll change 0.00151\n",
      "  Iteration 14\t time lapse 0.75458s\t ll change 0.00129\n",
      "  Iteration 15\t time lapse 0.85826s\t ll change 0.00109\n",
      "Initialization converged: False\t time lapse 11.40686s\t ll -27.27239\n"
     ]
    },
    {
     "name": "stderr",
     "output_type": "stream",
     "text": [
      "/home/av/.local/lib/python3.10/site-packages/sklearn/mixture/_base.py:274: ConvergenceWarning: Initialization 1 did not converge. Try different init parameters, or increase max_iter, tol or check for degenerate data.\n",
      "  warnings.warn(\n"
     ]
    },
    {
     "name": "stdout",
     "output_type": "stream",
     "text": [
      "Initialization 0\n",
      "  Iteration 1\t time lapse 2.50300s\t ll change inf\n",
      "  Iteration 2\t time lapse 0.97462s\t ll change 1.33719\n",
      "  Iteration 3\t time lapse 0.78358s\t ll change 0.02009\n",
      "  Iteration 4\t time lapse 0.79705s\t ll change 0.01307\n",
      "  Iteration 5\t time lapse 0.78379s\t ll change 0.00917\n",
      "  Iteration 6\t time lapse 0.82805s\t ll change 0.00649\n",
      "  Iteration 7\t time lapse 0.86811s\t ll change 0.00462\n",
      "  Iteration 8\t time lapse 0.98612s\t ll change 0.00339\n",
      "  Iteration 9\t time lapse 0.95562s\t ll change 0.00261\n",
      "  Iteration 10\t time lapse 0.97167s\t ll change 0.00214\n",
      "  Iteration 11\t time lapse 0.88555s\t ll change 0.00186\n",
      "  Iteration 12\t time lapse 0.82374s\t ll change 0.00168\n",
      "  Iteration 13\t time lapse 0.77765s\t ll change 0.00156\n",
      "  Iteration 14\t time lapse 0.90101s\t ll change 0.00145\n",
      "  Iteration 15\t time lapse 0.95036s\t ll change 0.00134\n",
      "Initialization converged: False\t time lapse 14.79005s\t ll -27.50094\n"
     ]
    },
    {
     "name": "stderr",
     "output_type": "stream",
     "text": [
      "/home/av/.local/lib/python3.10/site-packages/sklearn/mixture/_base.py:274: ConvergenceWarning: Initialization 1 did not converge. Try different init parameters, or increase max_iter, tol or check for degenerate data.\n",
      "  warnings.warn(\n"
     ]
    },
    {
     "name": "stdout",
     "output_type": "stream",
     "text": [
      "Initialization 0\n",
      "  Iteration 1\t time lapse 1.66951s\t ll change inf\n",
      "  Iteration 2\t time lapse 0.71192s\t ll change 1.44669\n",
      "  Iteration 3\t time lapse 0.69556s\t ll change 0.02210\n",
      "  Iteration 4\t time lapse 0.68280s\t ll change 0.01409\n",
      "  Iteration 5\t time lapse 0.67181s\t ll change 0.01051\n",
      "  Iteration 6\t time lapse 0.76649s\t ll change 0.00819\n",
      "  Iteration 7\t time lapse 0.72947s\t ll change 0.00635\n",
      "  Iteration 8\t time lapse 0.72305s\t ll change 0.00486\n",
      "  Iteration 9\t time lapse 0.71370s\t ll change 0.00370\n",
      "  Iteration 10\t time lapse 0.68996s\t ll change 0.00283\n",
      "  Iteration 11\t time lapse 0.69565s\t ll change 0.00219\n",
      "  Iteration 12\t time lapse 0.65962s\t ll change 0.00172\n",
      "  Iteration 13\t time lapse 0.75273s\t ll change 0.00137\n",
      "  Iteration 14\t time lapse 0.68888s\t ll change 0.00109\n",
      "  Iteration 15\t time lapse 0.64398s\t ll change 0.00088\n",
      "Initialization converged: True\t time lapse 11.49520s\t ll -27.97288\n",
      "Initialization 0\n",
      "  Iteration 1\t time lapse 1.54564s\t ll change inf\n",
      "  Iteration 2\t time lapse 0.73834s\t ll change 1.47350\n",
      "  Iteration 3\t time lapse 0.65156s\t ll change 0.02433\n",
      "  Iteration 4\t time lapse 0.60868s\t ll change 0.01673\n",
      "  Iteration 5\t time lapse 0.62748s\t ll change 0.01193\n",
      "  Iteration 6\t time lapse 0.68995s\t ll change 0.00850\n",
      "  Iteration 7\t time lapse 0.63656s\t ll change 0.00602\n",
      "  Iteration 8\t time lapse 0.65104s\t ll change 0.00423\n",
      "  Iteration 9\t time lapse 0.64120s\t ll change 0.00297\n",
      "  Iteration 10\t time lapse 0.65944s\t ll change 0.00209\n",
      "  Iteration 11\t time lapse 0.63910s\t ll change 0.00149\n",
      "  Iteration 12\t time lapse 0.60781s\t ll change 0.00108\n",
      "  Iteration 13\t time lapse 0.58642s\t ll change 0.00079\n",
      "Initialization converged: True\t time lapse 9.28341s\t ll -27.43278\n",
      "Initialization 0\n",
      "  Iteration 1\t time lapse 1.48653s\t ll change inf\n",
      "  Iteration 2\t time lapse 0.63990s\t ll change 1.80715\n",
      "  Iteration 3\t time lapse 0.63584s\t ll change 0.02268\n",
      "  Iteration 4\t time lapse 0.71849s\t ll change 0.01590\n",
      "  Iteration 5\t time lapse 0.68712s\t ll change 0.01241\n",
      "  Iteration 6\t time lapse 0.69567s\t ll change 0.01005\n",
      "  Iteration 7\t time lapse 0.65237s\t ll change 0.00814\n",
      "  Iteration 8\t time lapse 0.56407s\t ll change 0.00645\n",
      "  Iteration 9\t time lapse 0.59507s\t ll change 0.00496\n",
      "  Iteration 10\t time lapse 0.59610s\t ll change 0.00371\n",
      "  Iteration 11\t time lapse 0.60102s\t ll change 0.00271\n",
      "  Iteration 12\t time lapse 0.63094s\t ll change 0.00196\n",
      "  Iteration 13\t time lapse 0.60220s\t ll change 0.00142\n",
      "  Iteration 14\t time lapse 0.58490s\t ll change 0.00103\n",
      "  Iteration 15\t time lapse 0.62761s\t ll change 0.00077\n",
      "Initialization converged: True\t time lapse 10.31797s\t ll -27.00386\n",
      "Initialization 0\n",
      "  Iteration 1\t time lapse 1.98591s\t ll change inf\n",
      "  Iteration 2\t time lapse 0.63105s\t ll change 1.18809\n",
      "  Iteration 3\t time lapse 0.61310s\t ll change 0.01563\n",
      "  Iteration 4\t time lapse 0.69705s\t ll change 0.01050\n",
      "  Iteration 5\t time lapse 0.66321s\t ll change 0.00878\n",
      "  Iteration 6\t time lapse 0.78067s\t ll change 0.00821\n",
      "  Iteration 7\t time lapse 0.68754s\t ll change 0.00822\n",
      "  Iteration 8\t time lapse 0.62460s\t ll change 0.00846\n",
      "  Iteration 9\t time lapse 0.69418s\t ll change 0.00820\n",
      "  Iteration 10\t time lapse 0.56398s\t ll change 0.00690\n",
      "  Iteration 11\t time lapse 0.62172s\t ll change 0.00505\n",
      "  Iteration 12\t time lapse 0.62732s\t ll change 0.00343\n",
      "  Iteration 13\t time lapse 0.59984s\t ll change 0.00233\n",
      "  Iteration 14\t time lapse 0.58532s\t ll change 0.00166\n",
      "  Iteration 15\t time lapse 0.66611s\t ll change 0.00127\n",
      "Initialization converged: False\t time lapse 11.04169s\t ll -27.47385\n"
     ]
    },
    {
     "name": "stderr",
     "output_type": "stream",
     "text": [
      "/home/av/.local/lib/python3.10/site-packages/sklearn/mixture/_base.py:274: ConvergenceWarning: Initialization 1 did not converge. Try different init parameters, or increase max_iter, tol or check for degenerate data.\n",
      "  warnings.warn(\n",
      "100%|██████████| 600/600 [00:18<00:00, 32.58it/s]\n",
      "/home/av/IST/slp-labs/LAB2/pf_tools.py:89: UserWarning: The feature directory already exists, and no new feature extraction will be performed.\n",
      "  warnings.warn(\"The feature directory already exists, and no new feature extraction will be performed.\")\n"
     ]
    },
    {
     "name": "stdout",
     "output_type": "stream",
     "text": [
      "Accuracy Score: 0.5866666666666667\n",
      "Combination 59\n",
      "Initialization 0\n",
      "  Iteration 1\t time lapse 4.76477s\t ll change inf\n",
      "  Iteration 2\t time lapse 1.48705s\t ll change 1.43817\n",
      "  Iteration 3\t time lapse 1.70861s\t ll change 0.01928\n",
      "  Iteration 4\t time lapse 1.44892s\t ll change 0.01140\n",
      "  Iteration 5\t time lapse 1.37583s\t ll change 0.00789\n",
      "  Iteration 6\t time lapse 1.80722s\t ll change 0.00583\n",
      "  Iteration 7\t time lapse 1.33836s\t ll change 0.00444\n",
      "  Iteration 8\t time lapse 1.37444s\t ll change 0.00346\n",
      "  Iteration 9\t time lapse 1.14376s\t ll change 0.00276\n",
      "  Iteration 10\t time lapse 1.43880s\t ll change 0.00226\n",
      "  Iteration 11\t time lapse 1.55661s\t ll change 0.00190\n",
      "  Iteration 12\t time lapse 1.59793s\t ll change 0.00165\n",
      "  Iteration 13\t time lapse 1.62847s\t ll change 0.00146\n",
      "  Iteration 14\t time lapse 1.41709s\t ll change 0.00133\n",
      "  Iteration 15\t time lapse 1.55090s\t ll change 0.00123\n",
      "Initialization converged: False\t time lapse 25.63958s\t ll -27.15149\n"
     ]
    },
    {
     "name": "stderr",
     "output_type": "stream",
     "text": [
      "/home/av/.local/lib/python3.10/site-packages/sklearn/mixture/_base.py:274: ConvergenceWarning: Initialization 1 did not converge. Try different init parameters, or increase max_iter, tol or check for degenerate data.\n",
      "  warnings.warn(\n"
     ]
    },
    {
     "name": "stdout",
     "output_type": "stream",
     "text": [
      "Initialization 0\n",
      "  Iteration 1\t time lapse 4.25420s\t ll change inf\n",
      "  Iteration 2\t time lapse 1.87861s\t ll change 1.19281\n",
      "  Iteration 3\t time lapse 1.40330s\t ll change 0.02002\n",
      "  Iteration 4\t time lapse 1.67993s\t ll change 0.01281\n",
      "  Iteration 5\t time lapse 1.60999s\t ll change 0.00941\n",
      "  Iteration 6\t time lapse 1.87608s\t ll change 0.00728\n",
      "  Iteration 7\t time lapse 1.74527s\t ll change 0.00579\n",
      "  Iteration 8\t time lapse 1.86284s\t ll change 0.00472\n",
      "  Iteration 9\t time lapse 2.19561s\t ll change 0.00398\n",
      "  Iteration 10\t time lapse 1.89546s\t ll change 0.00348\n",
      "  Iteration 11\t time lapse 2.05449s\t ll change 0.00316\n",
      "  Iteration 12\t time lapse 1.96954s\t ll change 0.00298\n",
      "  Iteration 13\t time lapse 1.91464s\t ll change 0.00284\n",
      "  Iteration 14\t time lapse 1.88944s\t ll change 0.00266\n",
      "  Iteration 15\t time lapse 2.08624s\t ll change 0.00239\n",
      "Initialization converged: False\t time lapse 30.31598s\t ll -27.36346\n"
     ]
    },
    {
     "name": "stderr",
     "output_type": "stream",
     "text": [
      "/home/av/.local/lib/python3.10/site-packages/sklearn/mixture/_base.py:274: ConvergenceWarning: Initialization 1 did not converge. Try different init parameters, or increase max_iter, tol or check for degenerate data.\n",
      "  warnings.warn(\n"
     ]
    },
    {
     "name": "stdout",
     "output_type": "stream",
     "text": [
      "Initialization 0\n",
      "  Iteration 1\t time lapse 4.24480s\t ll change inf\n",
      "  Iteration 2\t time lapse 2.23405s\t ll change 1.29570\n",
      "  Iteration 3\t time lapse 1.92816s\t ll change 0.02166\n",
      "  Iteration 4\t time lapse 2.02478s\t ll change 0.01618\n",
      "  Iteration 5\t time lapse 2.02443s\t ll change 0.01333\n",
      "  Iteration 6\t time lapse 1.97290s\t ll change 0.01063\n",
      "  Iteration 7\t time lapse 2.13502s\t ll change 0.00802\n",
      "  Iteration 8\t time lapse 1.94935s\t ll change 0.00592\n",
      "  Iteration 9\t time lapse 2.07256s\t ll change 0.00448\n",
      "  Iteration 10\t time lapse 2.12556s\t ll change 0.00361\n",
      "  Iteration 11\t time lapse 1.86183s\t ll change 0.00314\n",
      "  Iteration 12\t time lapse 1.96743s\t ll change 0.00286\n",
      "  Iteration 13\t time lapse 2.19345s\t ll change 0.00264\n",
      "  Iteration 14\t time lapse 2.18120s\t ll change 0.00239\n",
      "  Iteration 15\t time lapse 1.88130s\t ll change 0.00208\n",
      "Initialization converged: False\t time lapse 32.79737s\t ll -27.83649\n"
     ]
    },
    {
     "name": "stderr",
     "output_type": "stream",
     "text": [
      "/home/av/.local/lib/python3.10/site-packages/sklearn/mixture/_base.py:274: ConvergenceWarning: Initialization 1 did not converge. Try different init parameters, or increase max_iter, tol or check for degenerate data.\n",
      "  warnings.warn(\n"
     ]
    },
    {
     "name": "stdout",
     "output_type": "stream",
     "text": [
      "Initialization 0\n",
      "  Iteration 1\t time lapse 4.76629s\t ll change inf\n",
      "  Iteration 2\t time lapse 1.57040s\t ll change 1.39836\n",
      "  Iteration 3\t time lapse 1.85905s\t ll change 0.02543\n",
      "  Iteration 4\t time lapse 1.80715s\t ll change 0.01724\n",
      "  Iteration 5\t time lapse 1.78165s\t ll change 0.01311\n",
      "  Iteration 6\t time lapse 1.84848s\t ll change 0.01033\n",
      "  Iteration 7\t time lapse 1.96993s\t ll change 0.00835\n",
      "  Iteration 8\t time lapse 1.86471s\t ll change 0.00700\n",
      "  Iteration 9\t time lapse 2.03283s\t ll change 0.00603\n",
      "  Iteration 10\t time lapse 1.95231s\t ll change 0.00523\n",
      "  Iteration 11\t time lapse 1.66651s\t ll change 0.00447\n",
      "  Iteration 12\t time lapse 2.04303s\t ll change 0.00373\n",
      "  Iteration 13\t time lapse 1.68374s\t ll change 0.00306\n",
      "  Iteration 14\t time lapse 1.73589s\t ll change 0.00250\n",
      "  Iteration 15\t time lapse 1.65535s\t ll change 0.00207\n",
      "Initialization converged: False\t time lapse 30.23854s\t ll -27.31320\n"
     ]
    },
    {
     "name": "stderr",
     "output_type": "stream",
     "text": [
      "/home/av/.local/lib/python3.10/site-packages/sklearn/mixture/_base.py:274: ConvergenceWarning: Initialization 1 did not converge. Try different init parameters, or increase max_iter, tol or check for degenerate data.\n",
      "  warnings.warn(\n"
     ]
    },
    {
     "name": "stdout",
     "output_type": "stream",
     "text": [
      "Initialization 0\n",
      "  Iteration 1\t time lapse 3.49758s\t ll change inf\n",
      "  Iteration 2\t time lapse 1.51058s\t ll change 1.59379\n",
      "  Iteration 3\t time lapse 1.86273s\t ll change 0.01802\n",
      "  Iteration 4\t time lapse 1.59589s\t ll change 0.01269\n",
      "  Iteration 5\t time lapse 1.47511s\t ll change 0.01102\n",
      "  Iteration 6\t time lapse 1.74477s\t ll change 0.01029\n",
      "  Iteration 7\t time lapse 1.78597s\t ll change 0.00951\n",
      "  Iteration 8\t time lapse 1.67759s\t ll change 0.00836\n",
      "  Iteration 9\t time lapse 1.71966s\t ll change 0.00693\n",
      "  Iteration 10\t time lapse 1.70527s\t ll change 0.00548\n",
      "  Iteration 11\t time lapse 1.82679s\t ll change 0.00421\n",
      "  Iteration 12\t time lapse 1.42573s\t ll change 0.00320\n",
      "  Iteration 13\t time lapse 1.61038s\t ll change 0.00247\n",
      "  Iteration 14\t time lapse 2.00088s\t ll change 0.00196\n",
      "  Iteration 15\t time lapse 1.52078s\t ll change 0.00161\n",
      "Initialization converged: False\t time lapse 26.96018s\t ll -26.91019\n"
     ]
    },
    {
     "name": "stderr",
     "output_type": "stream",
     "text": [
      "/home/av/.local/lib/python3.10/site-packages/sklearn/mixture/_base.py:274: ConvergenceWarning: Initialization 1 did not converge. Try different init parameters, or increase max_iter, tol or check for degenerate data.\n",
      "  warnings.warn(\n"
     ]
    },
    {
     "name": "stdout",
     "output_type": "stream",
     "text": [
      "Initialization 0\n",
      "  Iteration 1\t time lapse 4.82596s\t ll change inf\n",
      "  Iteration 2\t time lapse 1.68340s\t ll change 0.05515\n",
      "  Iteration 3\t time lapse 1.94775s\t ll change 0.02130\n",
      "  Iteration 4\t time lapse 2.10344s\t ll change 0.01418\n",
      "  Iteration 5\t time lapse 1.60470s\t ll change 0.01120\n",
      "  Iteration 6\t time lapse 1.92451s\t ll change 0.00926\n",
      "  Iteration 7\t time lapse 1.77177s\t ll change 0.00764\n",
      "  Iteration 8\t time lapse 1.73797s\t ll change 0.00625\n",
      "  Iteration 9\t time lapse 1.83313s\t ll change 0.00514\n",
      "  Iteration 10\t time lapse 2.23384s\t ll change 0.00429\n",
      "  Iteration 11\t time lapse 1.57205s\t ll change 0.00363\n",
      "  Iteration 12\t time lapse 1.65734s\t ll change 0.00314\n",
      "  Iteration 13\t time lapse 1.75185s\t ll change 0.00278\n",
      "  Iteration 14\t time lapse 2.12781s\t ll change 0.00248\n",
      "  Iteration 15\t time lapse 1.54138s\t ll change 0.00221\n",
      "Initialization converged: False\t time lapse 30.31704s\t ll -27.34050\n"
     ]
    },
    {
     "name": "stderr",
     "output_type": "stream",
     "text": [
      "/home/av/.local/lib/python3.10/site-packages/sklearn/mixture/_base.py:274: ConvergenceWarning: Initialization 1 did not converge. Try different init parameters, or increase max_iter, tol or check for degenerate data.\n",
      "  warnings.warn(\n",
      "100%|██████████| 600/600 [00:43<00:00, 13.65it/s]\n",
      "/home/av/IST/slp-labs/LAB2/pf_tools.py:89: UserWarning: The feature directory already exists, and no new feature extraction will be performed.\n",
      "  warnings.warn(\"The feature directory already exists, and no new feature extraction will be performed.\")\n"
     ]
    },
    {
     "name": "stdout",
     "output_type": "stream",
     "text": [
      "Accuracy Score: 0.64\n",
      "Combination 60\n",
      "Initialization 0\n",
      "  Iteration 1\t time lapse 8.69137s\t ll change inf\n",
      "  Iteration 2\t time lapse 3.53717s\t ll change 1.40967\n",
      "  Iteration 3\t time lapse 3.56484s\t ll change 0.01760\n",
      "  Iteration 4\t time lapse 3.78335s\t ll change 0.00979\n",
      "  Iteration 5\t time lapse 3.58519s\t ll change 0.00676\n",
      "  Iteration 6\t time lapse 4.03771s\t ll change 0.00530\n",
      "  Iteration 7\t time lapse 3.73293s\t ll change 0.00457\n",
      "  Iteration 8\t time lapse 3.73325s\t ll change 0.00417\n",
      "  Iteration 9\t time lapse 3.98921s\t ll change 0.00392\n",
      "  Iteration 10\t time lapse 4.01815s\t ll change 0.00368\n",
      "  Iteration 11\t time lapse 3.79815s\t ll change 0.00341\n",
      "  Iteration 12\t time lapse 3.62650s\t ll change 0.00311\n",
      "  Iteration 13\t time lapse 4.26687s\t ll change 0.00283\n",
      "  Iteration 14\t time lapse 4.16977s\t ll change 0.00260\n",
      "  Iteration 15\t time lapse 4.04038s\t ll change 0.00244\n",
      "Initialization converged: False\t time lapse 62.57532s\t ll -27.06043\n"
     ]
    },
    {
     "name": "stderr",
     "output_type": "stream",
     "text": [
      "/home/av/.local/lib/python3.10/site-packages/sklearn/mixture/_base.py:274: ConvergenceWarning: Initialization 1 did not converge. Try different init parameters, or increase max_iter, tol or check for degenerate data.\n",
      "  warnings.warn(\n"
     ]
    },
    {
     "name": "stdout",
     "output_type": "stream",
     "text": [
      "Initialization 0\n",
      "  Iteration 1\t time lapse 11.13384s\t ll change inf\n",
      "  Iteration 2\t time lapse 5.02695s\t ll change 1.09749\n",
      "  Iteration 3\t time lapse 4.16756s\t ll change 0.01973\n",
      "  Iteration 4\t time lapse 4.01893s\t ll change 0.01156\n",
      "  Iteration 5\t time lapse 4.60413s\t ll change 0.00823\n",
      "  Iteration 6\t time lapse 4.29622s\t ll change 0.00644\n",
      "  Iteration 7\t time lapse 3.58244s\t ll change 0.00532\n",
      "  Iteration 8\t time lapse 4.27444s\t ll change 0.00455\n",
      "  Iteration 9\t time lapse 4.67005s\t ll change 0.00398\n",
      "  Iteration 10\t time lapse 4.13709s\t ll change 0.00351\n",
      "  Iteration 11\t time lapse 3.90393s\t ll change 0.00311\n",
      "  Iteration 12\t time lapse 3.59659s\t ll change 0.00275\n",
      "  Iteration 13\t time lapse 4.35546s\t ll change 0.00243\n",
      "  Iteration 14\t time lapse 4.42886s\t ll change 0.00216\n",
      "  Iteration 15\t time lapse 4.09517s\t ll change 0.00194\n",
      "Initialization converged: False\t time lapse 70.29277s\t ll -27.26271\n"
     ]
    },
    {
     "name": "stderr",
     "output_type": "stream",
     "text": [
      "/home/av/.local/lib/python3.10/site-packages/sklearn/mixture/_base.py:274: ConvergenceWarning: Initialization 1 did not converge. Try different init parameters, or increase max_iter, tol or check for degenerate data.\n",
      "  warnings.warn(\n"
     ]
    },
    {
     "name": "stdout",
     "output_type": "stream",
     "text": [
      "Initialization 0\n",
      "  Iteration 1\t time lapse 8.59621s\t ll change inf\n",
      "  Iteration 2\t time lapse 4.73839s\t ll change 1.19264\n",
      "  Iteration 3\t time lapse 3.93231s\t ll change 0.02146\n",
      "  Iteration 4\t time lapse 4.82658s\t ll change 0.01367\n",
      "  Iteration 5\t time lapse 4.70733s\t ll change 0.01029\n",
      "  Iteration 6\t time lapse 4.50967s\t ll change 0.00823\n",
      "  Iteration 7\t time lapse 4.25956s\t ll change 0.00679\n",
      "  Iteration 8\t time lapse 3.62202s\t ll change 0.00573\n",
      "  Iteration 9\t time lapse 4.36348s\t ll change 0.00497\n",
      "  Iteration 10\t time lapse 4.82379s\t ll change 0.00440\n",
      "  Iteration 11\t time lapse 4.95283s\t ll change 0.00392\n",
      "  Iteration 12\t time lapse 3.83121s\t ll change 0.00348\n",
      "  Iteration 13\t time lapse 4.42347s\t ll change 0.00306\n",
      "  Iteration 14\t time lapse 4.17948s\t ll change 0.00265\n",
      "  Iteration 15\t time lapse 4.05199s\t ll change 0.00228\n",
      "Initialization converged: False\t time lapse 69.81972s\t ll -27.67860\n"
     ]
    },
    {
     "name": "stderr",
     "output_type": "stream",
     "text": [
      "/home/av/.local/lib/python3.10/site-packages/sklearn/mixture/_base.py:274: ConvergenceWarning: Initialization 1 did not converge. Try different init parameters, or increase max_iter, tol or check for degenerate data.\n",
      "  warnings.warn(\n"
     ]
    },
    {
     "name": "stdout",
     "output_type": "stream",
     "text": [
      "Initialization 0\n",
      "  Iteration 1\t time lapse 8.76802s\t ll change inf\n",
      "  Iteration 2\t time lapse 3.91095s\t ll change 1.23574\n",
      "  Iteration 3\t time lapse 3.78600s\t ll change 0.02189\n",
      "  Iteration 4\t time lapse 3.77081s\t ll change 0.01319\n",
      "  Iteration 5\t time lapse 3.47938s\t ll change 0.00975\n",
      "  Iteration 6\t time lapse 3.51900s\t ll change 0.00801\n",
      "  Iteration 7\t time lapse 3.82624s\t ll change 0.00720\n",
      "  Iteration 8\t time lapse 3.94602s\t ll change 0.00686\n",
      "  Iteration 9\t time lapse 3.84718s\t ll change 0.00648\n",
      "  Iteration 10\t time lapse 3.63736s\t ll change 0.00578\n",
      "  Iteration 11\t time lapse 3.12470s\t ll change 0.00488\n",
      "  Iteration 12\t time lapse 3.58030s\t ll change 0.00404\n",
      "  Iteration 13\t time lapse 3.75285s\t ll change 0.00343\n",
      "  Iteration 14\t time lapse 3.54802s\t ll change 0.00302\n",
      "  Iteration 15\t time lapse 3.48344s\t ll change 0.00271\n",
      "Initialization converged: False\t time lapse 59.98077s\t ll -27.22831\n"
     ]
    },
    {
     "name": "stderr",
     "output_type": "stream",
     "text": [
      "/home/av/.local/lib/python3.10/site-packages/sklearn/mixture/_base.py:274: ConvergenceWarning: Initialization 1 did not converge. Try different init parameters, or increase max_iter, tol or check for degenerate data.\n",
      "  warnings.warn(\n"
     ]
    },
    {
     "name": "stdout",
     "output_type": "stream",
     "text": [
      "Initialization 0\n",
      "  Iteration 1\t time lapse 8.23923s\t ll change inf\n",
      "  Iteration 2\t time lapse 3.46877s\t ll change 1.53026\n",
      "  Iteration 3\t time lapse 3.41381s\t ll change 0.02084\n",
      "  Iteration 4\t time lapse 2.76520s\t ll change 0.01313\n",
      "  Iteration 5\t time lapse 3.39511s\t ll change 0.00966\n",
      "  Iteration 6\t time lapse 3.12462s\t ll change 0.00752\n",
      "  Iteration 7\t time lapse 3.01600s\t ll change 0.00609\n",
      "  Iteration 8\t time lapse 2.72320s\t ll change 0.00509\n",
      "  Iteration 9\t time lapse 4.12230s\t ll change 0.00434\n",
      "  Iteration 10\t time lapse 2.86412s\t ll change 0.00374\n",
      "  Iteration 11\t time lapse 3.24990s\t ll change 0.00323\n",
      "  Iteration 12\t time lapse 2.67484s\t ll change 0.00281\n",
      "  Iteration 13\t time lapse 3.38749s\t ll change 0.00247\n",
      "  Iteration 14\t time lapse 3.06135s\t ll change 0.00220\n",
      "  Iteration 15\t time lapse 2.83481s\t ll change 0.00199\n",
      "Initialization converged: False\t time lapse 52.34113s\t ll -26.84063\n"
     ]
    },
    {
     "name": "stderr",
     "output_type": "stream",
     "text": [
      "/home/av/.local/lib/python3.10/site-packages/sklearn/mixture/_base.py:274: ConvergenceWarning: Initialization 1 did not converge. Try different init parameters, or increase max_iter, tol or check for degenerate data.\n",
      "  warnings.warn(\n"
     ]
    },
    {
     "name": "stdout",
     "output_type": "stream",
     "text": [
      "Initialization 0\n",
      "  Iteration 1\t time lapse 8.75397s\t ll change inf\n",
      "  Iteration 2\t time lapse 4.02366s\t ll change 0.05944\n",
      "  Iteration 3\t time lapse 3.11875s\t ll change 0.02011\n",
      "  Iteration 4\t time lapse 3.06416s\t ll change 0.01140\n",
      "  Iteration 5\t time lapse 3.27635s\t ll change 0.00780\n",
      "  Iteration 6\t time lapse 3.35677s\t ll change 0.00577\n",
      "  Iteration 7\t time lapse 3.17567s\t ll change 0.00446\n",
      "  Iteration 8\t time lapse 3.52321s\t ll change 0.00359\n",
      "  Iteration 9\t time lapse 3.22653s\t ll change 0.00301\n",
      "  Iteration 10\t time lapse 3.08917s\t ll change 0.00263\n",
      "  Iteration 11\t time lapse 3.19461s\t ll change 0.00238\n",
      "  Iteration 12\t time lapse 3.47355s\t ll change 0.00225\n",
      "  Iteration 13\t time lapse 3.29130s\t ll change 0.00221\n",
      "  Iteration 14\t time lapse 2.92495s\t ll change 0.00224\n",
      "  Iteration 15\t time lapse 3.42219s\t ll change 0.00232\n",
      "Initialization converged: False\t time lapse 54.91521s\t ll -27.26465\n"
     ]
    },
    {
     "name": "stderr",
     "output_type": "stream",
     "text": [
      "/home/av/.local/lib/python3.10/site-packages/sklearn/mixture/_base.py:274: ConvergenceWarning: Initialization 1 did not converge. Try different init parameters, or increase max_iter, tol or check for degenerate data.\n",
      "  warnings.warn(\n",
      "100%|██████████| 600/600 [01:15<00:00,  7.94it/s]"
     ]
    },
    {
     "name": "stdout",
     "output_type": "stream",
     "text": [
      "Accuracy Score: 0.6766666666666666\n",
      "Best Model #50\n",
      "Best Parameters:\n",
      " {'audio_transform': <function <lambda> at 0x7f870cd0c790>, 'chunk_size': 1024, 'chunk_hop': 512, 'n_gauss': 32}\n",
      "Best Accuracy = 0.6833333333333333\n"
     ]
    },
    {
     "name": "stderr",
     "output_type": "stream",
     "text": [
      "\n"
     ]
    }
   ],
   "source": [
    "combinations = parameter_combinations(parameters)\n",
    "\n",
    "best_parameters = {\n",
    "    \n",
    "    # 'transform_id': None,\n",
    "    'audio_transform': None,\n",
    "    'chunk_size': None,\n",
    "    'chunk_hop': None,\n",
    "    'n_gauss': None\n",
    "}\n",
    "best_score = -float('inf')\n",
    "best_model = 0\n",
    "# best_score = np.full_like(LANGUAGES, float('-inf'))\n",
    "# best_model = np.zeros(len(LANGUAGES))\n",
    "\n",
    "for i, c in enumerate(combinations):\n",
    "    print('Combination', i+1)\n",
    "    parms = list(c.values())\n",
    "    '''\n",
    "    parms[0] = audio_transform (lambda)\n",
    "    parms[1] = chunk_size\n",
    "    parms[2] = chunk_hop\n",
    "    parms[3] = n_gauss\n",
    "    '''\n",
    "\n",
    "    trainset = 'train100'\n",
    "    trainkalaka = Kalaka(\n",
    "        CWD, trainset,\n",
    "        transform_id='mfcc',\n",
    "        audio_transform=parms[0],\n",
    "        chunk_transform=None,\n",
    "        chunk_size=parms[1],\n",
    "        chunk_hop=parms[2]\n",
    "    )\n",
    "\n",
    "    # print('Training model')\n",
    "    train_data, train_labels = concat_kalaka(trainkalaka)\n",
    "\n",
    "    GMM = {}\n",
    "    for l, lang in enumerate(LANGUAGES):\n",
    "        GMM[lang] = GaussianMixture(\n",
    "            n_components = parms[3],\n",
    "            covariance_type='diag',\n",
    "            max_iter=15, n_init=1,\n",
    "            init_params='kmeans',\n",
    "            verbose=2, verbose_interval=1\n",
    "        )\n",
    "        GMM[lang].fit(train_data[train_labels==LANG2ID[lang]])\n",
    "\n",
    "    # score = GMM.score(train_data)\n",
    "    acc = eval_gmm(GMM, trainkalaka)\n",
    "    print('Accuracy Score:', acc)\n",
    "\n",
    "    if acc > best_score:\n",
    "        best_score = acc\n",
    "        best_model = i\n",
    "        best_parameters = c.copy()\n",
    "        best_GMM = GMM.copy()\n",
    "\n",
    "\n",
    "\n",
    "print(f'Best Model #{best_model}')\n",
    "print('Best Parameters:\\n', best_parameters)\n",
    "print('Best Accuracy =', best_score)\n",
    "        "
   ]
  },
  {
   "cell_type": "code",
   "execution_count": null,
   "metadata": {
    "scrolled": true
   },
   "outputs": [
    {
     "name": "stdout",
     "output_type": "stream",
     "text": [
      "Finished reading all data in 2.7420384883880615\n"
     ]
    }
   ],
   "source": [
    "# IN GMM training each training sample contains more than one frame;\n",
    "# so we cocatenate all data to have all training datain one array \n",
    "# and the corresponding label with same time duration\n",
    "# actually, here the chunking process is useless, I could have obtained the same without chunking (with slight differences due to trunkation)\n",
    "\n",
    "#This method cannot be used with opensmile\n",
    "start = time.time()\n",
    "train_data = []\n",
    "train_labels = []\n",
    "for data, label, basename in trainkalaka:\n",
    "        train_data.append(data)\n",
    "        train_labels.append(np.full(data.shape[0], label)) \n",
    "\n",
    "train_data = np.concatenate(train_data)\n",
    "train_labels = np.concatenate(train_labels)\n",
    "\n",
    "print(f'Finished reading all data in {time.time() - start}')"
   ]
  },
  {
   "attachments": {},
   "cell_type": "markdown",
   "metadata": {},
   "source": [
    "Let's go training. Again, depending of the amount of data used, the model complexity and computational resources of the machine that you're using, this can take a while. So, relax while the computer works for you!"
   ]
  },
  {
   "cell_type": "code",
   "execution_count": null,
   "metadata": {},
   "outputs": [],
   "source": [
    "## TRAIN GMM models (ML)\n",
    "\"\"\"\n",
    "models = {}\n",
    "n_gauss = 64\n",
    "for lang in LANGUAGES:\n",
    "    models[lang] = GaussianMixture(n_components=n_gauss, covariance_type='diag', max_iter=20, n_init=1, init_params='kmeans', verbose=2, verbose_interval=1)\n",
    "    \n",
    "for lang in LANGUAGES:\n",
    "    print(f'Training model for {lang}')\n",
    "    models[lang].fit(train_data[train_labels==LANG2ID[lang]])\n",
    "\"\"\""
   ]
  },
  {
   "attachments": {},
   "cell_type": "markdown",
   "metadata": {},
   "source": [
    "Now we have two arrays containing the complete training dataset and the corresponging reference labels. Check the sizes, may be have a look to the content of one time instant. Do some checks on the data to be sure that everything is as expected:"
   ]
  },
  {
   "attachments": {},
   "cell_type": "markdown",
   "metadata": {},
   "source": [
    "## Identification and generation of the predictions file\n",
    "\n",
    "Now that we  already have trained models, let's predict/identify language in new audio data and test our model!!! \n",
    "\n",
    "But first, we need to obtain the development partition and do the feature extraction more or less as previously (using the Kalaka class).\n",
    "\n",
    "**IMPORTANT WARNING** Make sure to use the exact same feature extraction process as the one used for the train set. Otherwise, your model will be in disagreement with your evaluation data, and very likely, will not work at all.\n"
   ]
  },
  {
   "cell_type": "code",
   "execution_count": null,
   "metadata": {},
   "outputs": [],
   "source": [
    "# Download and feature extract\n",
    "# transform_id = 'opensmile'\n",
    "transform_id = 'mfcc'\n",
    "\n",
    "# Notice that the chunking is mostly useless both in training and prediction with GMMs: each frame is a sample for which we obtain the probs\n",
    "devkalaka = Kalaka(\n",
    "    CWD,'dev', \n",
    "    transform_id = transform_id, \n",
    "    audio_transform = best_parameters['audio_transform'], \n",
    "    chunk_transform = None,\n",
    "    chunk_size = best_parameters['chunk_size'], \n",
    "    chunk_hop = best_parameters['chunk_hop']\n",
    ")"
   ]
  },
  {
   "attachments": {},
   "cell_type": "markdown",
   "metadata": {},
   "source": [
    "Now, we can iterate the data and use the models for scoring:"
   ]
  },
  {
   "cell_type": "code",
   "execution_count": null,
   "metadata": {},
   "outputs": [
    {
     "name": "stdout",
     "output_type": "stream",
     "text": [
      "Finished reading all data in 0.2989621162414551\n"
     ]
    }
   ],
   "source": [
    "start = time.time()\n",
    "dev_data = {}\n",
    "\n",
    "for data, label, basename in devkalaka:\n",
    "        if basename not in dev_data:\n",
    "                dev_data[basename] = {'data':[], 'label':label}\n",
    "        dev_data[basename]['data'].append(data)\n",
    "\n",
    "## We concatenate all the frames belonging to the same filename\n",
    "for basename in dev_data:\n",
    "        dev_data[basename]['data'] = np.concatenate(dev_data[basename]['data'])\n",
    "\n",
    "print(f'Finished reading all data in {time.time() - start}')"
   ]
  },
  {
   "cell_type": "code",
   "execution_count": null,
   "metadata": {
    "scrolled": false
   },
   "outputs": [],
   "source": [
    "start = time.time()\n",
    "\n",
    "results_dev = {}\n",
    "results_dev['ref'] =  np.empty(len(dev_data),dtype=np.int32)\n",
    "results_dev['hyp'] =  np.empty(len(dev_data),dtype=np.int32)\n",
    "results_dev['llhs'] = np.empty((len(dev_data), len(LANGUAGES)), dtype=np.float64)\n",
    "results_dev['fileids'] = list()\n",
    "\n",
    "for i, fileid in tqdm(enumerate(sorted(dev_data)), total=len(dev_data)):\n",
    "    data = dev_data[fileid]['data']  # the features\n",
    "    \n",
    "    results_dev['fileids'].append(fileid)     #fileid\n",
    "\n",
    "    # obtain the log-likelihood score for each model and store\n",
    "    results_dev['llhs'][i,:] = np.array([best_GMM[lang].score(data) for lang in LANGUAGES])\n",
    "\n",
    "    # store the reference. Notice that I only have this for the dev set, not for the eval\n",
    "    results_dev['ref'][i] = (dev_data[fileid]['label']) #reference\n",
    "\n",
    "    # Obtain the maximum likelihood languge estimation\n",
    "    ix = np.argmax(results_dev['llhs'][i,:])\n",
    "    results_dev['hyp'][i] = LANG2ID[LANGUAGES[ix]]\n",
    "    \n",
    "    \n",
    "print(f'Finished predicting all data in {time.time() - start}')\n"
   ]
  },
  {
   "attachments": {},
   "cell_type": "markdown",
   "metadata": {},
   "source": [
    "\n",
    "## Evaluation\n",
    "After running the previous cells, we obtain two arrays with the reference and hypothesis labels, respectively (we can also reload them in case we need them). We can use these to obtain different evaluation metrics and inspect the performance (and potential problems) of our system. Of course, you will only be able to do this evaluation with the development set, since you don't have access to the eval labels."
   ]
  },
  {
   "attachments": {},
   "cell_type": "markdown",
   "metadata": {},
   "source": [
    "You can for instance obtain a classification report summary:"
   ]
  },
  {
   "cell_type": "code",
   "execution_count": null,
   "metadata": {},
   "outputs": [
    {
     "name": "stdout",
     "output_type": "stream",
     "text": [
      "              precision    recall  f1-score   support\n",
      "\n",
      "      Basque       0.23      0.04      0.07       154\n",
      "     Catalan       0.17      0.05      0.08       149\n",
      "     English       0.16      0.75      0.27       150\n",
      "    Galician       0.20      0.03      0.06       151\n",
      "  Portuguese       0.07      0.04      0.05       160\n",
      "     Spanish       0.12      0.03      0.05       153\n",
      "\n",
      "    accuracy                           0.16       917\n",
      "   macro avg       0.16      0.16      0.10       917\n",
      "weighted avg       0.16      0.16      0.09       917\n",
      "\n"
     ]
    }
   ],
   "source": [
    "ref, hyp = results_dev['ref'], results_dev['hyp']\n",
    "print(classification_report(ref, hyp, target_names=LANGUAGES))"
   ]
  },
  {
   "attachments": {},
   "cell_type": "markdown",
   "metadata": {},
   "source": [
    "Overall accuracy (this will be the **main metric for system ranking**) Or a confusion matrix:"
   ]
  },
  {
   "cell_type": "code",
   "execution_count": null,
   "metadata": {},
   "outputs": [
    {
     "data": {
      "text/plain": [
       "0.1559432933478735"
      ]
     },
     "execution_count": 264,
     "metadata": {},
     "output_type": "execute_result"
    }
   ],
   "source": [
    "print('Accuracy Score =', accuracy_score(ref, hyp))\n",
    "print('Confusion Matrix =', confusion_matrix(ref, hyp))"
   ]
  },
  {
   "attachments": {},
   "cell_type": "markdown",
   "metadata": {},
   "source": [
    "and visualize it:"
   ]
  },
  {
   "cell_type": "code",
   "execution_count": null,
   "metadata": {},
   "outputs": [],
   "source": [
    "conf_matrix = confusion_matrix(ref, hyp)\n",
    "\n",
    "fig, ax = plt.subplots(figsize=(3.0, 3.0))\n",
    "ax.matshow(conf_matrix, cmap=plt.cm.Blues, alpha=0.3)\n",
    "for i in range(conf_matrix.shape[0]):\n",
    "    for j in range(conf_matrix.shape[1]):\n",
    "        ax.text(x=j, y=i,s=conf_matrix[i, j], va='center', ha='center')\n",
    "\n",
    "plt.xlabel('Predictions', fontsize=12)\n",
    "plt.ylabel('Actuals', fontsize=12)\n",
    "plt.title(f'Confusion Matrix\\n(Accuracy {100*accuracy_score(ref, hyp):.2f})', fontsize=12)\n",
    "plt.show()"
   ]
  },
  {
   "attachments": {},
   "cell_type": "markdown",
   "metadata": {},
   "source": [
    "These results are poor. The baseline system is very limited in several aspects (features, time context, generative model, etc.). For instance, the likelihood scores are not normalized. It may happen, that one model  provides slightly higher scores for some reason. The following trick sometimes increases slightly the results:"
   ]
  },
  {
   "cell_type": "code",
   "execution_count": null,
   "metadata": {},
   "outputs": [],
   "source": [
    "llhs_norm = (results_dev['llhs'] - results_dev['llhs'].mean(axis=0))\n",
    "hyp_norm = np.empty(hyp.shape, like=hyp)\n",
    "for i in range(len(results_dev['fileids'])):\n",
    "    ix = np.argmax(llhs_norm[i,:])\n",
    "    hyp_norm[i] = LANG2ID[LANGUAGES[ix]]\n"
   ]
  },
  {
   "cell_type": "code",
   "execution_count": null,
   "metadata": {},
   "outputs": [],
   "source": [
    "conf_matrix = confusion_matrix(ref, hyp_norm)\n",
    "\n",
    "fig, ax = plt.subplots(figsize=(3.0, 3.0))\n",
    "ax.matshow(conf_matrix, cmap=plt.cm.Blues, alpha=0.3)\n",
    "for i in range(conf_matrix.shape[0]):\n",
    "    for j in range(conf_matrix.shape[1]):\n",
    "        ax.text(x=j, y=i,s=conf_matrix[i, j], va='center', ha='center')\n",
    "\n",
    "plt.xlabel('Predictions', fontsize=12)\n",
    "plt.ylabel('Actuals', fontsize=12)\n",
    "plt.title(f'Confusion Matrix\\n(Accuracy {100*accuracy_score(ref, hyp_norm):.2f})', fontsize=12)\n",
    "plt.show()"
   ]
  },
  {
   "attachments": {},
   "cell_type": "markdown",
   "metadata": {},
   "source": [
    "This \"trick\" is probematic. Can you discuss why? Can you think of an altenative way of doing the same kind of normalization?"
   ]
  },
  {
   "attachments": {},
   "cell_type": "markdown",
   "metadata": {},
   "source": [
    "# Creating Dataset from opensmile features"
   ]
  },
  {
   "cell_type": "code",
   "execution_count": null,
   "metadata": {},
   "outputs": [],
   "source": [
    "#For opensmile:\n",
    "train_data = []\n",
    "train_labels = []\n",
    "trainkalaka = Kalaka(CWD, 'train100', transform_id='raw', audio_transform=audio_transform)\n",
    "\n",
    "\n",
    "start = time.time()\n",
    "train_data = []\n",
    "train_labels = []\n",
    "i=0\n",
    "for data, label, basename in trainkalaka:\n",
    "    print(i)\n",
    "    train_data.append(opensmile_feats(data.reshape(np.shape(data)[0]),sr=16000))\n",
    "    train_labels.append([label]) \n",
    "    if i%100==0:\n",
    "        print(i)\n",
    "    i=i+1\n",
    "        \n",
    "train_data = np.vstack(train_data)\n",
    "train_labels = np.concatenate(train_labels)\n",
    "joblib.dump(dev_data,'train100\\\\opensmile.pkl')\n"
   ]
  },
  {
   "cell_type": "code",
   "execution_count": null,
   "metadata": {},
   "outputs": [],
   "source": [
    "#For opensmile:\n",
    "dev_data = []\n",
    "dev_labels = []\n",
    "devkalaka = Kalaka(CWD, 'dev', transform_id='raw', audio_transform=audio_transform)\n",
    "\n",
    "\n",
    "start = time.time()\n",
    "train_data = []\n",
    "train_labels = []\n",
    "i=0\n",
    "for data, label, basename in devkalaka:\n",
    "    print(i)\n",
    "    dev_data.append(opensmile_feats(data.reshape(np.shape(data)[0]),sr=16000))\n",
    "    dev_labels.append([label]) \n",
    "    if i%100==0:\n",
    "        print(i)\n",
    "    i=i+1\n",
    "        \n",
    "dev_data = np.vstack(dev_data)\n",
    "dev_labels = np.concatenate(dev_labels)\n"
   ]
  },
  {
   "cell_type": "code",
   "execution_count": null,
   "metadata": {},
   "outputs": [],
   "source": [
    "#Let's train a GBDT\n",
    "from lightgbm import LGBMClassifier\n",
    "from lightgbm import plot_importance\n",
    "from lightgbm import plot_tree\n",
    "import sklearn as skl\n",
    "from sklearn.model_selection import ParameterSampler\n",
    "import numpy as np\n",
    "import math\n",
    "from scipy.stats import uniform\n",
    "\n",
    "def lgbm_param_sampler(n_iters,seed,device):\n",
    "    param_grid={'num_iterations': \n",
    "                range(30, 200),\n",
    "        'learning_rate':\n",
    "            uniform(loc=0.001, scale=1-0.001 ),\n",
    "        'num_leaves':\n",
    "            range( 5, 100 ),\n",
    "        'boosting_type':\n",
    "            [\"goss\"],\n",
    "        'min_data_in_leaf':\n",
    "            range( 2, 50 ),\n",
    "        'max_bin':\n",
    "            range( 3, 100 ),\n",
    "        'device': \n",
    "            [device]}\n",
    "    param_list = list(ParameterSampler(param_grid, n_iter=n_iters, random_state=np.random.RandomState(seed)))\n",
    "    return param_list\n",
    "\n",
    "params=lgbm_param_sampler(50,1213,'cpu')\n",
    "i=0\n",
    "for k in params:\n",
    "    lgbm=LGBMClassifier(**k,objective='multiclass',verbose=-1,verbose_eval=-1)\n",
    "    lgbm.fit(train_data,train_labels)\n",
    "    y_hat=lgbm.predict(dev_data)\n",
    "    print('iter :',i,'--- dev accuracy: ',accuracy_score(y_hat,dev_labels)) #???\n",
    "    #print(confusion_matrix(dev_labels, y_hat))\n",
    "    i=i+1"
   ]
  },
  {
   "cell_type": "code",
   "execution_count": null,
   "metadata": {},
   "outputs": [
    {
     "name": "stderr",
     "output_type": "stream",
     "text": [
      "100%|██████████| 917/917 [00:02<00:00, 306.21it/s]"
     ]
    },
    {
     "name": "stdout",
     "output_type": "stream",
     "text": [
      "Finished predicting all data in 2.9981255531311035\n"
     ]
    },
    {
     "name": "stderr",
     "output_type": "stream",
     "text": [
      "\n"
     ]
    }
   ],
   "source": [
    "start = time.time()\n",
    "\n",
    "results_dev = {}\n",
    "results_dev['ref'] =  np.empty(len(dev_data),dtype=np.int32)\n",
    "results_dev['hyp'] =  np.empty(len(dev_data),dtype=np.int32)\n",
    "results_dev['estimated_prob'] =  np.empty((len(dev_data), len(LANGUAGES)), dtype=np.float64)\n",
    "results_dev['fileids'] = list()\n",
    "\n",
    "for i, fileid in tqdm(enumerate(sorted(dev_data)), total=len(dev_data)):\n",
    "    data = dev_data[fileid]['data']  # the features\n",
    "    \n",
    "    results_dev['fileids'].append(fileid)     #fileid\n",
    "\n",
    "    # obtain the log-likelihood score for each model and store\n",
    "    results_dev['estimated_prob'][i,:] = np.array([lgbm.predict_proba(data.reshape(1,-1))[0,i] for i in range(len(LANGUAGES))])\n",
    "\n",
    "    # store the reference. Notice that I only have this for the dev set, not for the eval\n",
    "    results_dev['ref'][i] = (dev_data[fileid]['label']) #reference\n",
    "\n",
    "    # Obtain the maximum likelihood languge estimation\n",
    "    ix = lgbm.predict(data.reshape(1,-1))\n",
    "    results_dev['hyp'][i] = ix\n",
    "    \n",
    "    \n",
    "print(f'Finished predicting all data in {time.time() - start}')\n"
   ]
  },
  {
   "attachments": {},
   "cell_type": "markdown",
   "metadata": {},
   "source": [
    "## Running the prediction on the evl partition\n",
    "\n",
    "Once you are happy with your system and the results obtained in the development set, you are ready to generate the predictions on the `'evl'` partition. To do that, you have to follow the same process as for the development partition, but of course, this time you will not be able to obtain performance results because you don't have labels for this partition. \n",
    "\n",
    "We start by instantiating the `Kalaka` class for the `'evl'` partition:\n"
   ]
  },
  {
   "cell_type": "code",
   "execution_count": 146,
   "metadata": {},
   "outputs": [
    {
     "ename": "KeyError",
     "evalue": "'mfcc_sdc_vad_chunk_300_300'",
     "output_type": "error",
     "traceback": [
      "\u001b[0;31m---------------------------------------------------------------------------\u001b[0m",
      "\u001b[0;31mKeyError\u001b[0m                                  Traceback (most recent call last)",
      "Cell \u001b[0;32mIn[146], line 6\u001b[0m\n\u001b[1;32m      1\u001b[0m transform_id \u001b[39m=\u001b[39m \u001b[39m'\u001b[39m\u001b[39mmfcc_sdc_vad_chunk_300_300\u001b[39m\u001b[39m'\u001b[39m\n\u001b[1;32m      3\u001b[0m evlkalaka \u001b[39m=\u001b[39m Kalaka(\n\u001b[1;32m      4\u001b[0m     CWD,\u001b[39m'\u001b[39m\u001b[39mevl\u001b[39m\u001b[39m'\u001b[39m,\n\u001b[1;32m      5\u001b[0m     transform_id\u001b[39m=\u001b[39mtransform_id,\n\u001b[0;32m----> 6\u001b[0m     audio_transform\u001b[39m=\u001b[39mtransform[transform_id][\u001b[39m'\u001b[39m\u001b[39maudio_transform\u001b[39m\u001b[39m'\u001b[39m],\n\u001b[1;32m      7\u001b[0m     chunk_transform\u001b[39m=\u001b[39mtransform[transform_id][\u001b[39m'\u001b[39m\u001b[39mchunk_transform\u001b[39m\u001b[39m'\u001b[39m],\n\u001b[1;32m      8\u001b[0m     chunk_size\u001b[39m=\u001b[39mtransform[transform_id][\u001b[39m'\u001b[39m\u001b[39mchunk_size\u001b[39m\u001b[39m'\u001b[39m], \n\u001b[1;32m      9\u001b[0m     chunk_hop\u001b[39m=\u001b[39mtransform[transform_id][\u001b[39m'\u001b[39m\u001b[39mchunk_hop\u001b[39m\u001b[39m'\u001b[39m]\n\u001b[1;32m     10\u001b[0m )\n",
      "\u001b[0;31mKeyError\u001b[0m: 'mfcc_sdc_vad_chunk_300_300'"
     ]
    }
   ],
   "source": [
    "transform_id = 'mfcc_sdc_vad_chunk_300_300'\n",
    "\n",
    "evlkalaka = Kalaka(\n",
    "    CWD,'evl',\n",
    "    transform_id=transform_id,\n",
    "    audio_transform=transform[transform_id]['audio_transform'],\n",
    "    chunk_transform=transform[transform_id]['chunk_transform'],\n",
    "    chunk_size=transform[transform_id]['chunk_size'], \n",
    "    chunk_hop=transform[transform_id]['chunk_hop']\n",
    ")\n"
   ]
  },
  {
   "attachments": {},
   "cell_type": "markdown",
   "metadata": {},
   "source": [
    "Then, we load the evaluation data:"
   ]
  },
  {
   "cell_type": "code",
   "execution_count": null,
   "metadata": {},
   "outputs": [],
   "source": [
    "start = time.time()\n",
    "evl_data = {}\n",
    "\n",
    "for data, label, basename in evlkalaka:\n",
    "        if basename not in evl_data:\n",
    "                evl_data[basename] = {'data':[], 'label':label}\n",
    "        evl_data[basename]['data'].append(data)\n",
    "\n",
    "for basename in evl_data:\n",
    "        evl_data[basename]['data'] = np.concatenate(evl_data[basename]['data'])\n",
    "\n",
    "print(f'Finished reading all data in {time.time() - start}')"
   ]
  },
  {
   "attachments": {},
   "cell_type": "markdown",
   "metadata": {},
   "source": [
    "And apply the model(s) to the new `'evl'` data:"
   ]
  },
  {
   "cell_type": "code",
   "execution_count": null,
   "metadata": {},
   "outputs": [],
   "source": [
    "start = time.time()\n",
    "\n",
    "results_evl = {}\n",
    "results_evl['ref'] =  None\n",
    "results_evl['hyp'] =  np.empty(len(evl_data),dtype=np.int32)\n",
    "results_evl['llhs'] = np.empty((len(evl_data), len(LANGUAGES)), dtype=np.float64)\n",
    "results_evl['fileids'] = list()\n",
    "\n",
    "\n",
    "# Obtain LLH matrix\n",
    "for i, fileid in tqdm(enumerate(sorted(evl_data)), total=len(evl_data)):\n",
    "\n",
    "    data = evl_data[fileid]['data']  # the features\n",
    "    results_evl['fileids'].append(fileid)     #fileid\n",
    "\n",
    "    # obtain the log-likelihood score for each model and store\n",
    "    results_evl['llhs'][i,:] = np.array([models[lang].score(data) for lang in LANGUAGES])\n",
    "\n",
    "    # Obtain the maximum likelihood languge estimation\n",
    "    ix = np.argmax(results_evl['llhs'][i,:])\n",
    "    results_evl['hyp'][i] = LANG2ID[LANGUAGES[ix]]    \n",
    "\n",
    "print(f'Finished predicting all data in {time.time() - start}')"
   ]
  },
  {
   "attachments": {},
   "cell_type": "markdown",
   "metadata": {},
   "source": [
    "## Create the predictions file\n",
    "\n",
    "The predictions file used for submission and scoring is a CSV file containing the predictions of both the `dev` and `evl` partitions.\n",
    "The file has two fields: fileId and Lang. The fileId is the unique audio file identifier and the Lang field is the language prediction (numeric from 1 to 6). The predictions file name must be as follows:\n",
    "\n",
    "`T<X>_G<YY>_<SYSTEMID>.csv` \n",
    "\n",
    "where `<X>` can be 1 or 2 depending on being a system for track 1 or track 2 evaluation; `<YY>` is the students' group number (use 2 digits) and `<SYSTEMID>` is a identifying string for that submission/system."
   ]
  },
  {
   "cell_type": "code",
   "execution_count": null,
   "metadata": {},
   "outputs": [],
   "source": [
    "group, system = '00', 'baseline_train100'\n",
    "with open(f'{os.getcwd()}/T1_G{group}_{system}.csv', 'w') as file:\n",
    "    csv_writer = csv.writer(file) # CSV writer\n",
    "    csv_writer.writerow(('fileId', 'Lang')) # Header of the CSV\n",
    "\n",
    "    # Save dev results\n",
    "    for i in range(len(results_dev['fileids'])):\n",
    "        csv_writer.writerow((results_dev['fileids'][i], results_dev['hyp'][i]))\n",
    "    # Save evl results\n",
    "    for i in range(len(results_evl['fileids'])):\n",
    "        csv_writer.writerow((results_evl['fileids'][i], results_evl['hyp'][i]))"
   ]
  },
  {
   "attachments": {},
   "cell_type": "markdown",
   "metadata": {},
   "source": [
    "## Submit your prediction\n",
    "You can submit your prediction in the following Kaggle competition: https://www.kaggle.com/competitions/speech-processing-lab-2/\n",
    "\n",
    "## What should/can you do next?\n",
    "**Everything!!** Try to extend and improve the feature extraction. Try to play with the parameters. Try completely different feature extraction modules (look for openSMILE, torchaudio,). Try to increase the model complexity. Try different modeling approaches. Try to understand the impact of the different modifications. Once you are happy with your system, try to train on the full set and check the impact of adding data to your system.\n"
   ]
  },
  {
   "attachments": {},
   "cell_type": "markdown",
   "metadata": {},
   "source": [
    "# PART 2 - Using pre-trained embeddings (Track 2)\n",
    "\n",
    "There exist plenty of resources and pre-trained models that can be extremely useful for our task. For instance, x-vectors are currently the state of the art approach to obtain speech embeddings that characterize very efficiently speaker or language, among others. Particularly, the following x-vector model is available and it has been trained using a large corpus of 107 languages for language identification: https://huggingface.co/speechbrain/lang-id-voxlingua107-ecapa\n",
    "\n",
    "You can obtain it from the `speechbrain` module, that you need to install now if you are using Google Colab:\n",
    "\n"
   ]
  },
  {
   "cell_type": "code",
   "execution_count": null,
   "metadata": {},
   "outputs": [],
   "source": [
    "# If you are using Google Colab, you'll have to install the speechbrain module\n",
    "raise CheckThisCell ## <---- Remove this after completing/checking this cell\n",
    "!pip install speechbrain"
   ]
  },
  {
   "attachments": {},
   "cell_type": "markdown",
   "metadata": {},
   "source": [
    "The following code cell imports such model and shows how to obtain an embedding vector:"
   ]
  },
  {
   "cell_type": "code",
   "execution_count": null,
   "metadata": {},
   "outputs": [],
   "source": [
    "import torchaudio\n",
    "import speechbrain\n",
    "\n",
    "from speechbrain.pretrained import EncoderClassifier\n",
    "from torch.nn.utils.rnn import pad_sequence\n",
    "\n",
    "language_id = EncoderClassifier.from_hparams(source=\"speechbrain/lang-id-voxlingua107-ecapa\", savedir=\"tmp\")\n",
    "\n",
    "signal = language_id.load_audio(f'{CWD}/train100/audio/0a5c0729.wav')\n",
    "emb =  language_id.encode_batch(signal)"
   ]
  },
  {
   "attachments": {},
   "cell_type": "markdown",
   "metadata": {},
   "source": [
    "In fact, the model is trained for language identification of 107 languages and we could use it directly for identification:"
   ]
  },
  {
   "cell_type": "code",
   "execution_count": null,
   "metadata": {},
   "outputs": [],
   "source": [
    "prediction =  language_id.classify_batch(signal)"
   ]
  },
  {
   "attachments": {},
   "cell_type": "markdown",
   "metadata": {},
   "source": [
    "Invest some time to inspect the model and the outputs. Notice that the six target languages are included among the 107. The output indices are: \n",
    "\n",
    "```python\n",
    "XVEC_LANG_INDEX = (24,13,20,29,75,22) \n",
    "```\n",
    "\n",
    "corresponding respectively to the following languages:\n",
    "\n",
    "```python \n",
    "LANGUAGES = ('Basque',  'Catalan',  'English',  'Galician',  'Portuguese',  'Spanish')\n",
    "```\n",
    "\n",
    "Knowing this, it should be easy to obtain the predicted class among the six possible candidates:"
   ]
  },
  {
   "cell_type": "code",
   "execution_count": null,
   "metadata": {},
   "outputs": [],
   "source": [
    "XVEC_LANG_INDEX = (24,13,20,29,75,22) \n",
    "\n",
    "# Obtain the predicted class out of the 6 target ones\n",
    "raise CheckThisCell ## <---- Remove this after completeing/checking this cell"
   ]
  },
  {
   "attachments": {},
   "cell_type": "markdown",
   "metadata": {},
   "source": [
    "## Using the x-vector up-stream model for language ID\n",
    "\n",
    "Let's try first something simple: use the the pre-trained model for idenfication. In this simple test, you don't need to train anyhing simply classify the dev and test sets. To do so, first configure the right transformation for the Kalaka class (one that simply loads the audio without any chunking):"
   ]
  },
  {
   "cell_type": "code",
   "execution_count": null,
   "metadata": {},
   "outputs": [],
   "source": [
    "# Confifure the tranformation\n",
    "raise CheckThisCell ## <---- Remove this after completeing/checking this cell\n",
    "\n",
    "transform = { \n",
    "                'raw_xvec' :\n",
    "                {\n",
    "                    'audio_transform': None, ## <--- You need to modify this here\n",
    "                    'chunk_transform': None,\n",
    "                    'chunk_size': 0,\n",
    "                    'chunk_hop':0   \n",
    "                }\n",
    "            }\n",
    "\n",
    "# Download and feature extract\n",
    "transform_id = 'raw_xvec'\n",
    "\n",
    "\n",
    "devkalaka = Kalaka(CWD, 'dev', \n",
    "                 transform_id=transform_id, \n",
    "                 audio_transform=transform[transform_id]['audio_transform'], \n",
    "                 chunk_transform=transform[transform_id]['chunk_transform'],\n",
    "                 chunk_size=transform[transform_id]['chunk_size'], \n",
    "                 chunk_hop=transform[transform_id]['chunk_hop']\n",
    "                )"
   ]
  },
  {
   "attachments": {},
   "cell_type": "markdown",
   "metadata": {},
   "source": [
    "Now you have all the elements to predict langauge using the langID pre-trained model.\n",
    "In case you have access to a GPU, it may be good using a Pytorch Dataloader to batch the dev samples:"
   ]
  },
  {
   "cell_type": "code",
   "execution_count": null,
   "metadata": {},
   "outputs": [],
   "source": [
    "import torch\n",
    "if torch.cuda.is_available():\n",
    "  device = torch.device('cuda:0')\n",
    "else:\n",
    "  device = torch.device('cpu')"
   ]
  },
  {
   "attachments": {},
   "cell_type": "markdown",
   "metadata": {},
   "source": [
    "Since the audios are of different size, we need to pass an auxiliary function to the dataloader that handles this (by adding 0s). This can be done as follows:"
   ]
  },
  {
   "cell_type": "code",
   "execution_count": null,
   "metadata": {},
   "outputs": [],
   "source": [
    "def collate_batch(batch): \n",
    "    label_list, audio_list, basename_list, audiolen_list = [], [], [], []\n",
    "\n",
    "    for (_audio,_label, _basename) in batch:\n",
    "        label_list.append(_label)\n",
    "        audio_list.append(_audio)\n",
    "        basename_list.append(_basename)\n",
    "        audiolen_list.append(_audio.shape[0])\n",
    "\n",
    "    label_list = torch.tensor(label_list, dtype=torch.int64)\n",
    "    audio_list = pad_sequence(audio_list, batch_first=True, padding_value=0)\n",
    "    max_len = max(audiolen_list)\n",
    "    audiolen_list = torch.tensor([l/max_len for l in audiolen_list])\n",
    "\n",
    "    return audio_list.to(device),label_list.to(device), basename_list, audiolen_list.to(device)\n",
    "\n",
    "batch_size = 10\n",
    "dataloader = torch.utils.data.DataLoader(\n",
    "        dataset=devkalaka,\n",
    "        batch_size=batch_size,\n",
    "        collate_fn=collate_batch,\n",
    "        shuffle=False  # <-- We want to keep the original order of the dev set\n",
    ")\n"
   ]
  },
  {
   "attachments": {},
   "cell_type": "markdown",
   "metadata": {},
   "source": [
    "Complete the following piece of code to store properly the hypothesis and the reference:"
   ]
  },
  {
   "cell_type": "code",
   "execution_count": null,
   "metadata": {},
   "outputs": [],
   "source": [
    "import time\n",
    "from tqdm import tqdm\n",
    "start = time.time()\n",
    "\n",
    "results_dev = {}\n",
    "results_dev['ref'] =  []\n",
    "results_dev['hyp'] =  []\n",
    "results_dev['fileids'] = [] \n",
    "\n",
    "for i, batch in tqdm(enumerate(dataloader), total=1+len(devkalaka)//batch_size):\n",
    "    data, label, basename, audiolen = batch\n",
    "    predictions = language_id.classify_batch(data, wav_lens=audiolen)\n",
    "    \n",
    "    # Complete the code to store the hypothesis (careful if you use argmax, you will ned to add 1 to the predicted class),\n",
    "    # the reference and the fileids. In the call to the prediction method, you should pass the audio length information, so that \n",
    "    # the padded 0s can be ignored\n",
    "    raise CheckThisCell ## <---- Remove this after completeing/checking this cell\n",
    "    \n",
    "print(f'Finished preocessing all data in {time.time() - start}')"
   ]
  },
  {
   "attachments": {},
   "cell_type": "markdown",
   "metadata": {},
   "source": [
    "And now let's see how well this model behaves on our dev partition:"
   ]
  },
  {
   "cell_type": "code",
   "execution_count": null,
   "metadata": {},
   "outputs": [],
   "source": [
    "ref, hyp = results_dev['ref'], results_dev['hyp']\n",
    "\n",
    "conf_matrix = confusion_matrix(ref, hyp)\n",
    "\n",
    "fig, ax = plt.subplots(figsize=(3.0, 3.0))\n",
    "ax.matshow(conf_matrix, cmap=plt.cm.Blues, alpha=0.3)\n",
    "for i in range(conf_matrix.shape[0]):\n",
    "    for j in range(conf_matrix.shape[1]):\n",
    "        ax.text(x=j, y=i,s=conf_matrix[i, j], va='center', ha='center')\n",
    "\n",
    "plt.xlabel('Predictions', fontsize=12)\n",
    "plt.ylabel('Actuals', fontsize=12)\n",
    "plt.title(f'Confusion Matrix\\n(Accuracy {100*accuracy_score(ref, hyp):.2f})', fontsize=12)\n",
    "plt.show()"
   ]
  },
  {
   "attachments": {},
   "cell_type": "markdown",
   "metadata": {},
   "source": [
    "That was pretty impressive, right!?! And  easier than Part I of this lab! \n",
    "\n",
    "Well, here comes some bad news: you can not use this langid classifier in the challenge. However, you can use the pre-trained x-vector embeddings as a feature extractor to train your language classification system (may be a simple K-means on top of the x-vectors work well). You can also try to change the classification head of the x-vector model and fine-tune with the challenge data. You have plenty of options, but remember, any system that use these pre-trained embeddings (or any similar ones) are only valid for the Track 2 of the Challenge and the prediction file should be  namedlike this: `T2_G<YY>_<SYSTEMID>.csv` \n",
    "\n"
   ]
  },
  {
   "attachments": {},
   "cell_type": "markdown",
   "metadata": {},
   "source": [
    "# What should you deliver at the end of this lab assignment?\n",
    "You should deliver the following three elements:\n",
    "- You must submit at least one prediction file to the Kaggle competition in the format previously described: https://www.kaggle.com/competitions/speech-processing-lab-2/\n",
    "- You must submit (via Fênix) the modified notebook (or code) of your proposed systems(s).\n",
    "- You must submit a report (via Fênix) of maximum 2 pages describing your system, approaches (may be unsuccesful), lessons learnt, results on the dev partition, etc. You can use the following Overleaf template for the report: https://www.overleaf.com/latex/templates/interspeech-2023-paper-kit/kzcdqdmkqvbr"
   ]
  },
  {
   "attachments": {},
   "cell_type": "markdown",
   "metadata": {},
   "source": [
    "# Contacts and support\n",
    "You can contact the professors during the classes or the office hours.\n",
    "\n",
    "Particularly, for this second laboratory assignment, you should contact Prof. Alberto Abad: alberto.abad@tecnico.ulisboa.pt\n",
    "\n",
    "\n",
    "\n"
   ]
  },
  {
   "attachments": {},
   "cell_type": "markdown",
   "metadata": {},
   "source": []
  }
 ],
 "metadata": {
  "kernelspec": {
   "display_name": "Python 3 (ipykernel)",
   "language": "python",
   "name": "python3"
  },
  "language_info": {
   "codemirror_mode": {
    "name": "ipython",
    "version": 3
   },
   "file_extension": ".py",
   "mimetype": "text/x-python",
   "name": "python",
   "nbconvert_exporter": "python",
   "pygments_lexer": "ipython3",
   "version": "3.10.6"
  }
 },
 "nbformat": 4,
 "nbformat_minor": 2
}
